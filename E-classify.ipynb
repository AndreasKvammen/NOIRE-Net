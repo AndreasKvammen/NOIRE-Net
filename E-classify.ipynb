{
 "cells": [
  {
   "cell_type": "markdown",
   "id": "6553ab89-fa75-447a-8c08-7f25ac7ad487",
   "metadata": {},
   "source": [
    "# E-classify: This Notebook develops and evaluates the NOIRE-Net E-region classification networks"
   ]
  },
  {
   "cell_type": "markdown",
   "id": "399c0c57-c234-41ea-8680-1323ec8c1656",
   "metadata": {
    "tags": []
   },
   "source": [
    "## 1 - Develop NOIRE-Net"
   ]
  },
  {
   "cell_type": "markdown",
   "id": "822ec13f-8079-401c-aaf2-37f2981acd5b",
   "metadata": {},
   "source": [
    "### 1.1 - Import libaries "
   ]
  },
  {
   "cell_type": "code",
   "execution_count": 12,
   "id": "80990a8e-2d87-444b-aa25-42ea1903521d",
   "metadata": {
    "tags": []
   },
   "outputs": [],
   "source": [
    "import os\n",
    "import random\n",
    "import numpy as np\n",
    "from sklearn.model_selection import train_test_split\n",
    "from tensorflow.keras.models import Sequential\n",
    "from tensorflow.keras.layers import Conv2D, MaxPooling2D, Flatten, Dense, BatchNormalization, Dropout\n",
    "from tensorflow.keras.preprocessing.image import img_to_array, load_img\n",
    "from sklearn.metrics import mean_squared_error\n",
    "from math import sqrt\n",
    "from tensorflow.keras.callbacks import ModelCheckpoint\n",
    "import pickle\n",
    "from tensorflow.keras.models import load_model\n",
    "from tensorflow.keras.preprocessing.image import img_to_array, load_img\n",
    "from sklearn.metrics import confusion_matrix\n",
    "import matplotlib.pyplot as plt\n",
    "import matplotlib.colors as mcolors\n",
    "from sklearn.metrics import cohen_kappa_score, precision_score, recall_score, f1_score, accuracy_score"
   ]
  },
  {
   "cell_type": "markdown",
   "id": "c57942b9-0d1e-4c29-b201-dae42e4f99bd",
   "metadata": {},
   "source": [
    "### 1.2 - Define function to get ionogram label (True = E-region, False = No E-region)"
   ]
  },
  {
   "cell_type": "code",
   "execution_count": 2,
   "id": "4b8714c8-324c-4ddb-ab4e-5ac56070ba76",
   "metadata": {
    "tags": []
   },
   "outputs": [],
   "source": [
    "# The function get_label_from_par reads a .par file and returns \n",
    "# True if either the second or fourth item is not 'nan', \n",
    "# indicating the presence of an E-region in the corresponding image,\n",
    "# for use in binary classification.\n",
    "\n",
    "def get_label_from_par(par_file_path):\n",
    "    try:\n",
    "        # Open the .par file located at par_file_path\n",
    "        with open(par_file_path, 'r') as file:\n",
    "            content = file.readline().strip()  # Read and strip the first line of the file\n",
    "            items = content.split()  # Split the line into individual items (usually numbers or 'nan')\n",
    "\n",
    "            # Check the second (index 1) and fourth (index 3) items:\n",
    "            # If either of these items is not 'nan', it implies the presence of an E-region.\n",
    "            # The function then returns True, indicating that this image has an E-region.\n",
    "            is_e_region = items[1].lower() != 'nan' or items[3].lower() != 'nan'\n",
    "        return is_e_region\n",
    "\n",
    "    except IndexError:\n",
    "        # This block catches an IndexError, which occurs if the line read from the file\n",
    "        # does not have at least four items. In such a case, the function assumes that\n",
    "        # the E-region data is not present or not properly formatted, and returns False.\n",
    "        return False\n",
    "\n",
    "    except Exception as e:\n",
    "        # This block catches any other exceptions (like file not found, read errors, etc.).\n",
    "        # It prints the exception message and returns False, indicating an issue with processing the file.\n",
    "        print(f\"Error reading {par_file_path}: {e}\")\n",
    "        return False"
   ]
  },
  {
   "cell_type": "markdown",
   "id": "ff5dd112-47cc-48b4-915e-5d52e25ec6cc",
   "metadata": {
    "tags": []
   },
   "source": [
    "### 1.3 - Define function to load ionograms and preprocess the data"
   ]
  },
  {
   "cell_type": "code",
   "execution_count": 3,
   "id": "c413a846-e152-4d08-9231-856a3066eded",
   "metadata": {
    "tags": []
   },
   "outputs": [],
   "source": [
    "# The load_data function loads and preprocesses image data from a specified directory,\n",
    "# converting images to grayscale and resizing them, while also extracting corresponding\n",
    "# binary labels from associated .par files for a classification task.\n",
    "\n",
    "def load_data(data_dir):\n",
    "    images = []  # List to store preprocessed images\n",
    "    labels = []  # List to store corresponding labels\n",
    "\n",
    "    # Construct paths to the directories containing ionograms and parameters\n",
    "    ionograms_dir = os.path.join(data_dir, 'ionograms')\n",
    "    parameters_dir = os.path.join(data_dir, 'parameters')\n",
    "\n",
    "    # Iterate over the files in the ionograms directory\n",
    "    for filename in os.listdir(ionograms_dir):\n",
    "        if filename.endswith('.png'):  # Check if the file is a PNG image\n",
    "            # Construct full paths to the image file and its corresponding .par file\n",
    "            img_path = os.path.join(ionograms_dir, filename)\n",
    "            par_path = os.path.join(parameters_dir, filename.replace('.png', '.par'))\n",
    "\n",
    "            # Load the image, convert it to grayscale, resize it, and normalize pixel values\n",
    "            image = load_img(img_path, color_mode='grayscale', target_size=(310, 310))\n",
    "            image = img_to_array(image)\n",
    "            image /= 255.0  # Normalize image pixels to be between 0 and 1\n",
    "\n",
    "            # Load the label for the image using the get_label_from_par function\n",
    "            label = get_label_from_par(par_path)\n",
    "\n",
    "            # Append the preprocessed image and label to their respective lists\n",
    "            images.append(image)\n",
    "            labels.append(label)\n",
    "\n",
    "    # Convert the lists of images and labels to numpy arrays and return them\n",
    "    return np.array(images), np.array(labels).astype(int)"
   ]
  },
  {
   "cell_type": "markdown",
   "id": "0a34042b-b7a9-4fce-ae53-61d68a1252e1",
   "metadata": {},
   "source": [
    "### 1.4 - Load the ionograms and labels from the data folder "
   ]
  },
  {
   "cell_type": "code",
   "execution_count": 4,
   "id": "42d19eba-8888-42dc-a7c1-8f01e388aea4",
   "metadata": {},
   "outputs": [],
   "source": [
    "# Specify the directory where the data is stored\n",
    "data_dir = 'train-val'  # 'train_test_val' should be replaced with the actual path to your data directory\n",
    "\n",
    "# Call the load_data function to load and preprocess the data\n",
    "# X wildsdsdl contain the preprocessed images, and y will contain the corresponding labels\n",
    "X, y = load_data(data_dir)"
   ]
  },
  {
   "cell_type": "markdown",
   "id": "12934bcf-6a1f-4429-b3a7-31bbf697c4fb",
   "metadata": {},
   "source": [
    "### 1.5 - Define a function to create the NOIRE-Net architecture"
   ]
  },
  {
   "cell_type": "code",
   "execution_count": 5,
   "id": "63999a78-e194-419d-a6cb-93a42fd9a1c8",
   "metadata": {
    "tags": []
   },
   "outputs": [],
   "source": [
    "# This code defines and complies NOIRE-Net a convolutional neural network (CNN) model using Keras, \n",
    "# with multiple convolutional layers, batch normalization, max pooling, and dense layers, \n",
    "# designed for binary classification tasks.\n",
    "\n",
    "def NOIREnet():\n",
    "    model = Sequential([\n",
    "    # First convolutional layer with 32 filters and a kernel size of 3x3\n",
    "    # 'padding=same' ensures the output size is the same as the input size\n",
    "    # 'input_shape' is set for the first layer to indicate the shape of the input data\n",
    "    Conv2D(32, (3, 3), padding='same', activation='relu', input_shape=(310, 310, 1)),\n",
    "    \n",
    "    # Batch normalization to normalize the activations from the previous layer\n",
    "    BatchNormalization(),\n",
    "\n",
    "    # Second convolutional layer with 32 filters and a kernel size of 3x3\n",
    "    Conv2D(32, (3, 3), activation='relu'),\n",
    "\n",
    "    # Another batch normalization\n",
    "    BatchNormalization(),\n",
    "\n",
    "    # First max pooling layer to reduce spatial dimensions\n",
    "    MaxPooling2D((2, 2)),\n",
    "\n",
    "    # Repeating the pattern of two convolutional layers followed by batch normalization\n",
    "    # and a max pooling layer, gradually increasing the number of filters\n",
    "    Conv2D(32, (3, 3), padding='same', activation='relu'),\n",
    "    BatchNormalization(),\n",
    "    Conv2D(32, (3, 3), activation='relu'),\n",
    "    BatchNormalization(),\n",
    "    MaxPooling2D((2, 2)),\n",
    "\n",
    "    Conv2D(64, (3, 3), padding='same', activation='relu'),\n",
    "    BatchNormalization(),\n",
    "    Conv2D(64, (3, 3), activation='relu'),\n",
    "    BatchNormalization(),\n",
    "    MaxPooling2D((2, 2)),\n",
    "\n",
    "    Conv2D(64, (3, 3), padding='same', activation='relu'),\n",
    "    BatchNormalization(),\n",
    "    Conv2D(64, (3, 3), activation='relu'),\n",
    "    BatchNormalization(),\n",
    "    MaxPooling2D((2, 2)),\n",
    "\n",
    "    Conv2D(128, (3, 3), padding='same', activation='relu'),\n",
    "    BatchNormalization(),\n",
    "    Conv2D(128, (3, 3), activation='relu'),\n",
    "    BatchNormalization(),\n",
    "    MaxPooling2D((2, 2)),\n",
    "\n",
    "    Conv2D(128, (3, 3), padding='same', activation='relu'),\n",
    "    BatchNormalization(),\n",
    "    Conv2D(128, (3, 3), activation='relu'),\n",
    "    BatchNormalization(),\n",
    "    MaxPooling2D((2, 2)),\n",
    "\n",
    "    # Flatten the output from the convolutional layers to feed into dense layers\n",
    "    Flatten(),\n",
    "\n",
    "    # Dense (fully connected) layer with 256 neurons and relu activation\n",
    "    Dense(256, activation='relu'),\n",
    "\n",
    "    # Dropout layer to reduce overfitting\n",
    "    Dropout(0.5),\n",
    "\n",
    "    # Another dense layer with 128 neurons\n",
    "    Dense(128, activation='relu'),\n",
    "\n",
    "    # Output layer with a single neuron and sigmoid activation for binary classification\n",
    "    Dense(1, activation='sigmoid')\n",
    "    ])\n",
    "    \n",
    "    # Compile the CNN model\n",
    "    model.compile(\n",
    "        optimizer='adam',  # Using the Adam optimizer for adaptive learning rate optimization\n",
    "        loss='binary_crossentropy',  # Binary crossentropy loss function, suitable for binary classification tasks\n",
    "        metrics=['accuracy']  # The model will report 'accuracy' as a performance metric\n",
    "    )\n",
    "    \n",
    "    # Return the compiled model\n",
    "    return model"
   ]
  },
  {
   "cell_type": "markdown",
   "id": "851e79f5-b94d-4d83-9fb5-2eec0704815b",
   "metadata": {},
   "source": [
    "### 1.6 - Train 10 CNNs for E-region classification and save the models"
   ]
  },
  {
   "cell_type": "code",
   "execution_count": 8,
   "id": "d2c64aa5-20e0-4d48-b719-ccc1e1d6e537",
   "metadata": {
    "tags": []
   },
   "outputs": [
    {
     "name": "stdout",
     "output_type": "stream",
     "text": [
      "Epoch 1/30\n"
     ]
    },
    {
     "name": "stderr",
     "output_type": "stream",
     "text": [
      "2023-11-28 15:34:35.470280: I tensorflow/core/grappler/optimizers/custom_graph_optimizer_registry.cc:113] Plugin optimizer for device_type GPU is enabled.\n",
      "loc(\"mps_select\"(\"(mpsFileLoc): /AppleInternal/Library/BuildRoots/495c257e-668e-11ee-93ce-926038f30c31/Library/Caches/com.apple.xbs/Sources/MetalPerformanceShadersGraph/mpsgraph/MetalPerformanceShadersGraph/Core/Files/MPSGraphUtilities.mm\":294:0)): error: 'anec.gain_offset_control' op result #0 must be 4D/5D memref of 16-bit float or 8-bit signed integer or 8-bit unsigned integer values, but got 'memref<1x64x1x1xi1>'\n",
      "loc(\"mps_select\"(\"(mpsFileLoc): /AppleInternal/Library/BuildRoots/495c257e-668e-11ee-93ce-926038f30c31/Library/Caches/com.apple.xbs/Sources/MetalPerformanceShadersGraph/mpsgraph/MetalPerformanceShadersGraph/Core/Files/MPSGraphUtilities.mm\":294:0)): error: 'anec.gain_offset_control' op result #0 must be 4D/5D memref of 16-bit float or 8-bit signed integer or 8-bit unsigned integer values, but got 'memref<1x64x1x1xi1>'\n",
      "loc(\"mps_select\"(\"(mpsFileLoc): /AppleInternal/Library/BuildRoots/495c257e-668e-11ee-93ce-926038f30c31/Library/Caches/com.apple.xbs/Sources/MetalPerformanceShadersGraph/mpsgraph/MetalPerformanceShadersGraph/Core/Files/MPSGraphUtilities.mm\":294:0)): error: 'anec.gain_offset_control' op result #0 must be 4D/5D memref of 16-bit float or 8-bit signed integer or 8-bit unsigned integer values, but got 'memref<1x64x1x1xi1>'\n",
      "loc(\"mps_select\"(\"(mpsFileLoc): /AppleInternal/Library/BuildRoots/495c257e-668e-11ee-93ce-926038f30c31/Library/Caches/com.apple.xbs/Sources/MetalPerformanceShadersGraph/mpsgraph/MetalPerformanceShadersGraph/Core/Files/MPSGraphUtilities.mm\":294:0)): error: 'anec.gain_offset_control' op result #0 must be 4D/5D memref of 16-bit float or 8-bit signed integer or 8-bit unsigned integer values, but got 'memref<1x64x1x1xi1>'\n",
      "loc(\"mps_select\"(\"(mpsFileLoc): /AppleInternal/Library/BuildRoots/495c257e-668e-11ee-93ce-926038f30c31/Library/Caches/com.apple.xbs/Sources/MetalPerformanceShadersGraph/mpsgraph/MetalPerformanceShadersGraph/Core/Files/MPSGraphUtilities.mm\":294:0)): error: 'anec.gain_offset_control' op result #0 must be 4D/5D memref of 16-bit float or 8-bit signed integer or 8-bit unsigned integer values, but got 'memref<1x64x1x1xi1>'\n"
     ]
    },
    {
     "name": "stdout",
     "output_type": "stream",
     "text": [
      "144/145 [============================>.] - ETA: 0s - loss: 0.2045 - accuracy: 0.9195"
     ]
    },
    {
     "name": "stderr",
     "output_type": "stream",
     "text": [
      "loc(\"mps_select\"(\"(mpsFileLoc): /AppleInternal/Library/BuildRoots/495c257e-668e-11ee-93ce-926038f30c31/Library/Caches/com.apple.xbs/Sources/MetalPerformanceShadersGraph/mpsgraph/MetalPerformanceShadersGraph/Core/Files/MPSGraphUtilities.mm\":294:0)): error: 'anec.gain_offset_control' op result #0 must be 4D/5D memref of 16-bit float or 8-bit signed integer or 8-bit unsigned integer values, but got 'memref<1x46x1x1xi1>'\n",
      "loc(\"mps_select\"(\"(mpsFileLoc): /AppleInternal/Library/BuildRoots/495c257e-668e-11ee-93ce-926038f30c31/Library/Caches/com.apple.xbs/Sources/MetalPerformanceShadersGraph/mpsgraph/MetalPerformanceShadersGraph/Core/Files/MPSGraphUtilities.mm\":294:0)): error: 'anec.gain_offset_control' op result #0 must be 4D/5D memref of 16-bit float or 8-bit signed integer or 8-bit unsigned integer values, but got 'memref<1x46x1x1xi1>'\n",
      "loc(\"mps_select\"(\"(mpsFileLoc): /AppleInternal/Library/BuildRoots/495c257e-668e-11ee-93ce-926038f30c31/Library/Caches/com.apple.xbs/Sources/MetalPerformanceShadersGraph/mpsgraph/MetalPerformanceShadersGraph/Core/Files/MPSGraphUtilities.mm\":294:0)): error: 'anec.gain_offset_control' op result #0 must be 4D/5D memref of 16-bit float or 8-bit signed integer or 8-bit unsigned integer values, but got 'memref<1x46x1x1xi1>'\n",
      "loc(\"mps_select\"(\"(mpsFileLoc): /AppleInternal/Library/BuildRoots/495c257e-668e-11ee-93ce-926038f30c31/Library/Caches/com.apple.xbs/Sources/MetalPerformanceShadersGraph/mpsgraph/MetalPerformanceShadersGraph/Core/Files/MPSGraphUtilities.mm\":294:0)): error: 'anec.gain_offset_control' op result #0 must be 4D/5D memref of 16-bit float or 8-bit signed integer or 8-bit unsigned integer values, but got 'memref<1x46x1x1xi1>'\n",
      "loc(\"mps_select\"(\"(mpsFileLoc): /AppleInternal/Library/BuildRoots/495c257e-668e-11ee-93ce-926038f30c31/Library/Caches/com.apple.xbs/Sources/MetalPerformanceShadersGraph/mpsgraph/MetalPerformanceShadersGraph/Core/Files/MPSGraphUtilities.mm\":294:0)): error: 'anec.gain_offset_control' op result #0 must be 4D/5D memref of 16-bit float or 8-bit signed integer or 8-bit unsigned integer values, but got 'memref<1x46x1x1xi1>'\n"
     ]
    },
    {
     "name": "stdout",
     "output_type": "stream",
     "text": [
      "145/145 [==============================] - ETA: 0s - loss: 0.2041 - accuracy: 0.9196"
     ]
    },
    {
     "name": "stderr",
     "output_type": "stream",
     "text": [
      "2023-11-28 15:35:30.922168: I tensorflow/core/grappler/optimizers/custom_graph_optimizer_registry.cc:113] Plugin optimizer for device_type GPU is enabled.\n",
      "loc(\"mps_select\"(\"(mpsFileLoc): /AppleInternal/Library/BuildRoots/495c257e-668e-11ee-93ce-926038f30c31/Library/Caches/com.apple.xbs/Sources/MetalPerformanceShadersGraph/mpsgraph/MetalPerformanceShadersGraph/Core/Files/MPSGraphUtilities.mm\":294:0)): error: 'anec.gain_offset_control' op result #0 must be 4D/5D memref of 16-bit float or 8-bit signed integer or 8-bit unsigned integer values, but got 'memref<1x64x1x1xi1>'\n",
      "loc(\"mps_select\"(\"(mpsFileLoc): /AppleInternal/Library/BuildRoots/495c257e-668e-11ee-93ce-926038f30c31/Library/Caches/com.apple.xbs/Sources/MetalPerformanceShadersGraph/mpsgraph/MetalPerformanceShadersGraph/Core/Files/MPSGraphUtilities.mm\":294:0)): error: 'anec.gain_offset_control' op result #0 must be 4D/5D memref of 16-bit float or 8-bit signed integer or 8-bit unsigned integer values, but got 'memref<1x64x1x1xi1>'\n"
     ]
    },
    {
     "name": "stdout",
     "output_type": "stream",
     "text": [
      "\n",
      "Epoch 1: val_accuracy improved from -inf to 0.34370, saving model to E-classify/E-label_run1.h5\n"
     ]
    },
    {
     "name": "stderr",
     "output_type": "stream",
     "text": [
      "loc(\"mps_select\"(\"(mpsFileLoc): /AppleInternal/Library/BuildRoots/495c257e-668e-11ee-93ce-926038f30c31/Library/Caches/com.apple.xbs/Sources/MetalPerformanceShadersGraph/mpsgraph/MetalPerformanceShadersGraph/Core/Files/MPSGraphUtilities.mm\":294:0)): error: 'anec.gain_offset_control' op result #0 must be 4D/5D memref of 16-bit float or 8-bit signed integer or 8-bit unsigned integer values, but got 'memref<1x12x1x1xi1>'\n",
      "loc(\"mps_select\"(\"(mpsFileLoc): /AppleInternal/Library/BuildRoots/495c257e-668e-11ee-93ce-926038f30c31/Library/Caches/com.apple.xbs/Sources/MetalPerformanceShadersGraph/mpsgraph/MetalPerformanceShadersGraph/Core/Files/MPSGraphUtilities.mm\":294:0)): error: 'anec.gain_offset_control' op result #0 must be 4D/5D memref of 16-bit float or 8-bit signed integer or 8-bit unsigned integer values, but got 'memref<1x12x1x1xi1>'\n"
     ]
    },
    {
     "name": "stdout",
     "output_type": "stream",
     "text": [
      "145/145 [==============================] - 65s 433ms/step - loss: 0.2041 - accuracy: 0.9196 - val_loss: 3.5268 - val_accuracy: 0.3437 - lr: 0.0010\n",
      "Epoch 2/30\n",
      "145/145 [==============================] - ETA: 0s - loss: 0.1115 - accuracy: 0.9617\n",
      "Epoch 2: val_accuracy did not improve from 0.34370\n",
      "145/145 [==============================] - 68s 466ms/step - loss: 0.1115 - accuracy: 0.9617 - val_loss: 1.2542 - val_accuracy: 0.3437 - lr: 0.0010\n",
      "Epoch 3/30\n",
      "145/145 [==============================] - ETA: 0s - loss: 0.0965 - accuracy: 0.9655\n",
      "Epoch 3: val_accuracy improved from 0.34370 to 0.35363, saving model to E-classify/E-label_run1.h5\n",
      "145/145 [==============================] - 68s 468ms/step - loss: 0.0965 - accuracy: 0.9655 - val_loss: 2.1787 - val_accuracy: 0.3536 - lr: 0.0010\n",
      "Epoch 4/30\n",
      "145/145 [==============================] - ETA: 0s - loss: 0.0878 - accuracy: 0.9696\n",
      "Epoch 4: val_accuracy improved from 0.35363 to 0.68523, saving model to E-classify/E-label_run1.h5\n",
      "145/145 [==============================] - 69s 475ms/step - loss: 0.0878 - accuracy: 0.9696 - val_loss: 0.4952 - val_accuracy: 0.6852 - lr: 0.0010\n",
      "Epoch 5/30\n",
      "145/145 [==============================] - ETA: 0s - loss: 0.0844 - accuracy: 0.9710\n",
      "Epoch 5: val_accuracy improved from 0.68523 to 0.93264, saving model to E-classify/E-label_run1.h5\n",
      "145/145 [==============================] - 68s 466ms/step - loss: 0.0844 - accuracy: 0.9710 - val_loss: 0.1960 - val_accuracy: 0.9326 - lr: 0.0010\n",
      "Epoch 6/30\n",
      "145/145 [==============================] - ETA: 0s - loss: 0.0706 - accuracy: 0.9754\n",
      "Epoch 6: val_accuracy improved from 0.93264 to 0.95035, saving model to E-classify/E-label_run1.h5\n",
      "145/145 [==============================] - 69s 474ms/step - loss: 0.0706 - accuracy: 0.9754 - val_loss: 0.1813 - val_accuracy: 0.9503 - lr: 0.0010\n",
      "Epoch 7/30\n",
      "145/145 [==============================] - ETA: 0s - loss: 0.0729 - accuracy: 0.9748\n",
      "Epoch 7: val_accuracy did not improve from 0.95035\n",
      "145/145 [==============================] - 68s 467ms/step - loss: 0.0729 - accuracy: 0.9748 - val_loss: 0.1397 - val_accuracy: 0.9486 - lr: 0.0010\n",
      "Epoch 8/30\n",
      "145/145 [==============================] - ETA: 0s - loss: 0.0625 - accuracy: 0.9785\n",
      "Epoch 8: val_accuracy did not improve from 0.95035\n",
      "145/145 [==============================] - 66s 456ms/step - loss: 0.0625 - accuracy: 0.9785 - val_loss: 0.2516 - val_accuracy: 0.9253 - lr: 0.0010\n",
      "Epoch 9/30\n",
      "145/145 [==============================] - ETA: 0s - loss: 0.0507 - accuracy: 0.9823\n",
      "Epoch 9: val_accuracy improved from 0.95035 to 0.95207, saving model to E-classify/E-label_run1.h5\n",
      "145/145 [==============================] - 66s 457ms/step - loss: 0.0507 - accuracy: 0.9823 - val_loss: 0.1419 - val_accuracy: 0.9521 - lr: 0.0010\n",
      "Epoch 10/30\n",
      "145/145 [==============================] - ETA: 0s - loss: 0.0518 - accuracy: 0.9813\n",
      "Epoch 10: val_accuracy did not improve from 0.95207\n",
      "145/145 [==============================] - 67s 462ms/step - loss: 0.0518 - accuracy: 0.9813 - val_loss: 0.1455 - val_accuracy: 0.9469 - lr: 0.0010\n",
      "Epoch 11/30\n",
      "145/145 [==============================] - ETA: 0s - loss: 0.0413 - accuracy: 0.9843\n",
      "Epoch 11: val_accuracy did not improve from 0.95207\n",
      "145/145 [==============================] - 66s 458ms/step - loss: 0.0413 - accuracy: 0.9843 - val_loss: 0.1502 - val_accuracy: 0.9456 - lr: 0.0010\n",
      "Epoch 12/30\n",
      "145/145 [==============================] - ETA: 0s - loss: 0.0324 - accuracy: 0.9886\n",
      "Epoch 12: val_accuracy did not improve from 0.95207\n",
      "145/145 [==============================] - 67s 464ms/step - loss: 0.0324 - accuracy: 0.9886 - val_loss: 0.1959 - val_accuracy: 0.9439 - lr: 0.0010\n",
      "Epoch 13/30\n",
      "145/145 [==============================] - ETA: 0s - loss: 0.0341 - accuracy: 0.9890\n",
      "Epoch 13: val_accuracy did not improve from 0.95207\n",
      "145/145 [==============================] - 66s 452ms/step - loss: 0.0341 - accuracy: 0.9890 - val_loss: 0.2114 - val_accuracy: 0.9456 - lr: 0.0010\n",
      "Epoch 14/30\n",
      "145/145 [==============================] - ETA: 0s - loss: 0.0377 - accuracy: 0.9879\n",
      "Epoch 14: val_accuracy did not improve from 0.95207\n",
      "145/145 [==============================] - 67s 460ms/step - loss: 0.0377 - accuracy: 0.9879 - val_loss: 0.1889 - val_accuracy: 0.9486 - lr: 0.0010\n",
      "Epoch 15/30\n",
      "145/145 [==============================] - ETA: 0s - loss: 0.0348 - accuracy: 0.9874\n",
      "Epoch 15: val_accuracy did not improve from 0.95207\n",
      "145/145 [==============================] - 65s 451ms/step - loss: 0.0348 - accuracy: 0.9874 - val_loss: 0.1869 - val_accuracy: 0.9516 - lr: 0.0010\n",
      "Epoch 16/30\n",
      "145/145 [==============================] - ETA: 0s - loss: 0.0227 - accuracy: 0.9929\n",
      "Epoch 16: val_accuracy did not improve from 0.95207\n",
      "145/145 [==============================] - 65s 448ms/step - loss: 0.0227 - accuracy: 0.9929 - val_loss: 0.2012 - val_accuracy: 0.9374 - lr: 0.0010\n",
      "Epoch 17/30\n",
      "145/145 [==============================] - ETA: 0s - loss: 0.0245 - accuracy: 0.9917\n",
      "Epoch 17: val_accuracy did not improve from 0.95207\n",
      "145/145 [==============================] - 65s 448ms/step - loss: 0.0245 - accuracy: 0.9917 - val_loss: 0.2112 - val_accuracy: 0.9417 - lr: 0.0010\n",
      "Epoch 18/30\n",
      "145/145 [==============================] - ETA: 0s - loss: 0.0275 - accuracy: 0.9907\n",
      "Epoch 18: val_accuracy did not improve from 0.95207\n",
      "145/145 [==============================] - 65s 446ms/step - loss: 0.0275 - accuracy: 0.9907 - val_loss: 0.3055 - val_accuracy: 0.9374 - lr: 0.0010\n",
      "Epoch 19/30\n",
      "145/145 [==============================] - ETA: 0s - loss: 0.0241 - accuracy: 0.9918\n",
      "Epoch 19: val_accuracy did not improve from 0.95207\n",
      "145/145 [==============================] - 65s 450ms/step - loss: 0.0241 - accuracy: 0.9918 - val_loss: 0.2246 - val_accuracy: 0.9335 - lr: 0.0010\n",
      "Epoch 20/30\n",
      "145/145 [==============================] - ETA: 0s - loss: 0.0093 - accuracy: 0.9975\n",
      "Epoch 20: val_accuracy did not improve from 0.95207\n",
      "145/145 [==============================] - 66s 453ms/step - loss: 0.0093 - accuracy: 0.9975 - val_loss: 0.2153 - val_accuracy: 0.9456 - lr: 1.0000e-04\n",
      "Epoch 21/30\n",
      "145/145 [==============================] - ETA: 0s - loss: 0.0027 - accuracy: 0.9996\n",
      "Epoch 21: val_accuracy did not improve from 0.95207\n",
      "145/145 [==============================] - 66s 455ms/step - loss: 0.0027 - accuracy: 0.9996 - val_loss: 0.2404 - val_accuracy: 0.9469 - lr: 1.0000e-04\n",
      "Epoch 22/30\n",
      "145/145 [==============================] - ETA: 0s - loss: 0.0020 - accuracy: 0.9999\n",
      "Epoch 22: val_accuracy did not improve from 0.95207\n",
      "145/145 [==============================] - 66s 457ms/step - loss: 0.0020 - accuracy: 0.9999 - val_loss: 0.2512 - val_accuracy: 0.9478 - lr: 1.0000e-04\n",
      "Epoch 23/30\n",
      "145/145 [==============================] - ETA: 0s - loss: 0.0015 - accuracy: 0.9999\n",
      "Epoch 23: val_accuracy did not improve from 0.95207\n",
      "145/145 [==============================] - 66s 457ms/step - loss: 0.0015 - accuracy: 0.9999 - val_loss: 0.2672 - val_accuracy: 0.9478 - lr: 1.0000e-04\n",
      "Epoch 24/30\n",
      "145/145 [==============================] - ETA: 0s - loss: 0.0011 - accuracy: 0.9999\n",
      "Epoch 24: val_accuracy did not improve from 0.95207\n",
      "145/145 [==============================] - 66s 458ms/step - loss: 0.0011 - accuracy: 0.9999 - val_loss: 0.2768 - val_accuracy: 0.9478 - lr: 1.0000e-04\n",
      "Epoch 25/30\n",
      "145/145 [==============================] - ETA: 0s - loss: 0.0016 - accuracy: 0.9998\n",
      "Epoch 25: val_accuracy did not improve from 0.95207\n",
      "145/145 [==============================] - 65s 450ms/step - loss: 0.0016 - accuracy: 0.9998 - val_loss: 0.2902 - val_accuracy: 0.9491 - lr: 1.0000e-04\n",
      "Epoch 26/30\n",
      "145/145 [==============================] - ETA: 0s - loss: 8.1544e-04 - accuracy: 0.9999\n",
      "Epoch 26: val_accuracy did not improve from 0.95207\n",
      "145/145 [==============================] - 66s 452ms/step - loss: 8.1544e-04 - accuracy: 0.9999 - val_loss: 0.3017 - val_accuracy: 0.9486 - lr: 1.0000e-04\n",
      "Epoch 27/30\n",
      "145/145 [==============================] - ETA: 0s - loss: 8.5652e-04 - accuracy: 0.9999\n",
      "Epoch 27: val_accuracy did not improve from 0.95207\n",
      "145/145 [==============================] - 66s 455ms/step - loss: 8.5652e-04 - accuracy: 0.9999 - val_loss: 0.3052 - val_accuracy: 0.9482 - lr: 1.0000e-04\n",
      "Epoch 28/30\n",
      "145/145 [==============================] - ETA: 0s - loss: 7.3660e-04 - accuracy: 0.9999\n",
      "Epoch 28: val_accuracy did not improve from 0.95207\n",
      "145/145 [==============================] - 66s 453ms/step - loss: 7.3660e-04 - accuracy: 0.9999 - val_loss: 0.3099 - val_accuracy: 0.9486 - lr: 1.0000e-04\n",
      "Epoch 29/30\n",
      "145/145 [==============================] - ETA: 0s - loss: 9.0349e-04 - accuracy: 0.9998\n",
      "Epoch 29: val_accuracy did not improve from 0.95207\n",
      "145/145 [==============================] - 67s 460ms/step - loss: 9.0349e-04 - accuracy: 0.9998 - val_loss: 0.3117 - val_accuracy: 0.9486 - lr: 1.0000e-04\n",
      "Epoch 30/30\n",
      "145/145 [==============================] - ETA: 0s - loss: 6.1213e-04 - accuracy: 0.9999\n",
      "Epoch 30: val_accuracy did not improve from 0.95207\n",
      "145/145 [==============================] - 67s 461ms/step - loss: 6.1213e-04 - accuracy: 0.9999 - val_loss: 0.3147 - val_accuracy: 0.9486 - lr: 1.0000e-05\n",
      "Epoch 1/30\n"
     ]
    },
    {
     "name": "stderr",
     "output_type": "stream",
     "text": [
      "2023-11-28 16:07:50.121372: I tensorflow/core/grappler/optimizers/custom_graph_optimizer_registry.cc:113] Plugin optimizer for device_type GPU is enabled.\n",
      "loc(\"mps_select\"(\"(mpsFileLoc): /AppleInternal/Library/BuildRoots/495c257e-668e-11ee-93ce-926038f30c31/Library/Caches/com.apple.xbs/Sources/MetalPerformanceShadersGraph/mpsgraph/MetalPerformanceShadersGraph/Core/Files/MPSGraphUtilities.mm\":294:0)): error: 'anec.gain_offset_control' op result #0 must be 4D/5D memref of 16-bit float or 8-bit signed integer or 8-bit unsigned integer values, but got 'memref<1x64x1x1xi1>'\n",
      "loc(\"mps_select\"(\"(mpsFileLoc): /AppleInternal/Library/BuildRoots/495c257e-668e-11ee-93ce-926038f30c31/Library/Caches/com.apple.xbs/Sources/MetalPerformanceShadersGraph/mpsgraph/MetalPerformanceShadersGraph/Core/Files/MPSGraphUtilities.mm\":294:0)): error: 'anec.gain_offset_control' op result #0 must be 4D/5D memref of 16-bit float or 8-bit signed integer or 8-bit unsigned integer values, but got 'memref<1x64x1x1xi1>'\n",
      "loc(\"mps_select\"(\"(mpsFileLoc): /AppleInternal/Library/BuildRoots/495c257e-668e-11ee-93ce-926038f30c31/Library/Caches/com.apple.xbs/Sources/MetalPerformanceShadersGraph/mpsgraph/MetalPerformanceShadersGraph/Core/Files/MPSGraphUtilities.mm\":294:0)): error: 'anec.gain_offset_control' op result #0 must be 4D/5D memref of 16-bit float or 8-bit signed integer or 8-bit unsigned integer values, but got 'memref<1x64x1x1xi1>'\n",
      "loc(\"mps_select\"(\"(mpsFileLoc): /AppleInternal/Library/BuildRoots/495c257e-668e-11ee-93ce-926038f30c31/Library/Caches/com.apple.xbs/Sources/MetalPerformanceShadersGraph/mpsgraph/MetalPerformanceShadersGraph/Core/Files/MPSGraphUtilities.mm\":294:0)): error: 'anec.gain_offset_control' op result #0 must be 4D/5D memref of 16-bit float or 8-bit signed integer or 8-bit unsigned integer values, but got 'memref<1x64x1x1xi1>'\n",
      "loc(\"mps_select\"(\"(mpsFileLoc): /AppleInternal/Library/BuildRoots/495c257e-668e-11ee-93ce-926038f30c31/Library/Caches/com.apple.xbs/Sources/MetalPerformanceShadersGraph/mpsgraph/MetalPerformanceShadersGraph/Core/Files/MPSGraphUtilities.mm\":294:0)): error: 'anec.gain_offset_control' op result #0 must be 4D/5D memref of 16-bit float or 8-bit signed integer or 8-bit unsigned integer values, but got 'memref<1x64x1x1xi1>'\n"
     ]
    },
    {
     "name": "stdout",
     "output_type": "stream",
     "text": [
      "144/145 [============================>.] - ETA: 0s - loss: 0.2117 - accuracy: 0.9172"
     ]
    },
    {
     "name": "stderr",
     "output_type": "stream",
     "text": [
      "loc(\"mps_select\"(\"(mpsFileLoc): /AppleInternal/Library/BuildRoots/495c257e-668e-11ee-93ce-926038f30c31/Library/Caches/com.apple.xbs/Sources/MetalPerformanceShadersGraph/mpsgraph/MetalPerformanceShadersGraph/Core/Files/MPSGraphUtilities.mm\":294:0)): error: 'anec.gain_offset_control' op result #0 must be 4D/5D memref of 16-bit float or 8-bit signed integer or 8-bit unsigned integer values, but got 'memref<1x46x1x1xi1>'\n",
      "loc(\"mps_select\"(\"(mpsFileLoc): /AppleInternal/Library/BuildRoots/495c257e-668e-11ee-93ce-926038f30c31/Library/Caches/com.apple.xbs/Sources/MetalPerformanceShadersGraph/mpsgraph/MetalPerformanceShadersGraph/Core/Files/MPSGraphUtilities.mm\":294:0)): error: 'anec.gain_offset_control' op result #0 must be 4D/5D memref of 16-bit float or 8-bit signed integer or 8-bit unsigned integer values, but got 'memref<1x46x1x1xi1>'\n",
      "loc(\"mps_select\"(\"(mpsFileLoc): /AppleInternal/Library/BuildRoots/495c257e-668e-11ee-93ce-926038f30c31/Library/Caches/com.apple.xbs/Sources/MetalPerformanceShadersGraph/mpsgraph/MetalPerformanceShadersGraph/Core/Files/MPSGraphUtilities.mm\":294:0)): error: 'anec.gain_offset_control' op result #0 must be 4D/5D memref of 16-bit float or 8-bit signed integer or 8-bit unsigned integer values, but got 'memref<1x46x1x1xi1>'\n",
      "loc(\"mps_select\"(\"(mpsFileLoc): /AppleInternal/Library/BuildRoots/495c257e-668e-11ee-93ce-926038f30c31/Library/Caches/com.apple.xbs/Sources/MetalPerformanceShadersGraph/mpsgraph/MetalPerformanceShadersGraph/Core/Files/MPSGraphUtilities.mm\":294:0)): error: 'anec.gain_offset_control' op result #0 must be 4D/5D memref of 16-bit float or 8-bit signed integer or 8-bit unsigned integer values, but got 'memref<1x46x1x1xi1>'\n",
      "loc(\"mps_select\"(\"(mpsFileLoc): /AppleInternal/Library/BuildRoots/495c257e-668e-11ee-93ce-926038f30c31/Library/Caches/com.apple.xbs/Sources/MetalPerformanceShadersGraph/mpsgraph/MetalPerformanceShadersGraph/Core/Files/MPSGraphUtilities.mm\":294:0)): error: 'anec.gain_offset_control' op result #0 must be 4D/5D memref of 16-bit float or 8-bit signed integer or 8-bit unsigned integer values, but got 'memref<1x46x1x1xi1>'\n"
     ]
    },
    {
     "name": "stdout",
     "output_type": "stream",
     "text": [
      "145/145 [==============================] - ETA: 0s - loss: 0.2115 - accuracy: 0.9172"
     ]
    },
    {
     "name": "stderr",
     "output_type": "stream",
     "text": [
      "2023-11-28 16:09:04.737064: I tensorflow/core/grappler/optimizers/custom_graph_optimizer_registry.cc:113] Plugin optimizer for device_type GPU is enabled.\n",
      "loc(\"mps_select\"(\"(mpsFileLoc): /AppleInternal/Library/BuildRoots/495c257e-668e-11ee-93ce-926038f30c31/Library/Caches/com.apple.xbs/Sources/MetalPerformanceShadersGraph/mpsgraph/MetalPerformanceShadersGraph/Core/Files/MPSGraphUtilities.mm\":294:0)): error: 'anec.gain_offset_control' op result #0 must be 4D/5D memref of 16-bit float or 8-bit signed integer or 8-bit unsigned integer values, but got 'memref<1x64x1x1xi1>'\n",
      "loc(\"mps_select\"(\"(mpsFileLoc): /AppleInternal/Library/BuildRoots/495c257e-668e-11ee-93ce-926038f30c31/Library/Caches/com.apple.xbs/Sources/MetalPerformanceShadersGraph/mpsgraph/MetalPerformanceShadersGraph/Core/Files/MPSGraphUtilities.mm\":294:0)): error: 'anec.gain_offset_control' op result #0 must be 4D/5D memref of 16-bit float or 8-bit signed integer or 8-bit unsigned integer values, but got 'memref<1x64x1x1xi1>'\n"
     ]
    },
    {
     "name": "stdout",
     "output_type": "stream",
     "text": [
      "\n",
      "Epoch 1: val_accuracy improved from -inf to 0.34370, saving model to E-classify/E-label_run2.h5\n",
      "145/145 [==============================] - 85s 567ms/step - loss: 0.2115 - accuracy: 0.9172 - val_loss: 2.2256 - val_accuracy: 0.3437 - lr: 0.0010\n",
      "Epoch 2/30\n"
     ]
    },
    {
     "name": "stderr",
     "output_type": "stream",
     "text": [
      "loc(\"mps_select\"(\"(mpsFileLoc): /AppleInternal/Library/BuildRoots/495c257e-668e-11ee-93ce-926038f30c31/Library/Caches/com.apple.xbs/Sources/MetalPerformanceShadersGraph/mpsgraph/MetalPerformanceShadersGraph/Core/Files/MPSGraphUtilities.mm\":294:0)): error: 'anec.gain_offset_control' op result #0 must be 4D/5D memref of 16-bit float or 8-bit signed integer or 8-bit unsigned integer values, but got 'memref<1x12x1x1xi1>'\n",
      "loc(\"mps_select\"(\"(mpsFileLoc): /AppleInternal/Library/BuildRoots/495c257e-668e-11ee-93ce-926038f30c31/Library/Caches/com.apple.xbs/Sources/MetalPerformanceShadersGraph/mpsgraph/MetalPerformanceShadersGraph/Core/Files/MPSGraphUtilities.mm\":294:0)): error: 'anec.gain_offset_control' op result #0 must be 4D/5D memref of 16-bit float or 8-bit signed integer or 8-bit unsigned integer values, but got 'memref<1x12x1x1xi1>'\n"
     ]
    },
    {
     "name": "stdout",
     "output_type": "stream",
     "text": [
      "145/145 [==============================] - ETA: 0s - loss: 0.1109 - accuracy: 0.9611\n",
      "Epoch 2: val_accuracy did not improve from 0.34370\n",
      "145/145 [==============================] - 64s 439ms/step - loss: 0.1109 - accuracy: 0.9611 - val_loss: 0.8737 - val_accuracy: 0.3437 - lr: 0.0010\n",
      "Epoch 3/30\n",
      "145/145 [==============================] - ETA: 0s - loss: 0.0967 - accuracy: 0.9662\n",
      "Epoch 3: val_accuracy did not improve from 0.34370\n",
      "145/145 [==============================] - 64s 441ms/step - loss: 0.0967 - accuracy: 0.9662 - val_loss: 1.5180 - val_accuracy: 0.3437 - lr: 0.0010\n",
      "Epoch 4/30\n",
      "145/145 [==============================] - ETA: 0s - loss: 0.0832 - accuracy: 0.9716\n",
      "Epoch 4: val_accuracy improved from 0.34370 to 0.85190, saving model to E-classify/E-label_run2.h5\n",
      "145/145 [==============================] - 65s 447ms/step - loss: 0.0832 - accuracy: 0.9716 - val_loss: 0.3646 - val_accuracy: 0.8519 - lr: 0.0010\n",
      "Epoch 5/30\n",
      "145/145 [==============================] - ETA: 0s - loss: 0.0746 - accuracy: 0.9740\n",
      "Epoch 5: val_accuracy improved from 0.85190 to 0.95250, saving model to E-classify/E-label_run2.h5\n",
      "145/145 [==============================] - 66s 453ms/step - loss: 0.0746 - accuracy: 0.9740 - val_loss: 0.1548 - val_accuracy: 0.9525 - lr: 0.0010\n",
      "Epoch 6/30\n",
      "145/145 [==============================] - ETA: 0s - loss: 0.0732 - accuracy: 0.9731\n",
      "Epoch 6: val_accuracy did not improve from 0.95250\n",
      "145/145 [==============================] - 63s 435ms/step - loss: 0.0732 - accuracy: 0.9731 - val_loss: 0.1719 - val_accuracy: 0.9421 - lr: 0.0010\n",
      "Epoch 7/30\n",
      "145/145 [==============================] - ETA: 0s - loss: 0.0642 - accuracy: 0.9782\n",
      "Epoch 7: val_accuracy did not improve from 0.95250\n",
      "145/145 [==============================] - 65s 448ms/step - loss: 0.0642 - accuracy: 0.9782 - val_loss: 0.1551 - val_accuracy: 0.9512 - lr: 0.0010\n",
      "Epoch 8/30\n",
      "145/145 [==============================] - ETA: 0s - loss: 0.0625 - accuracy: 0.9780\n",
      "Epoch 8: val_accuracy did not improve from 0.95250\n",
      "145/145 [==============================] - 66s 457ms/step - loss: 0.0625 - accuracy: 0.9780 - val_loss: 0.1718 - val_accuracy: 0.9512 - lr: 0.0010\n",
      "Epoch 9/30\n",
      "145/145 [==============================] - ETA: 0s - loss: 0.0515 - accuracy: 0.9826\n",
      "Epoch 9: val_accuracy improved from 0.95250 to 0.95423, saving model to E-classify/E-label_run2.h5\n",
      "145/145 [==============================] - 64s 443ms/step - loss: 0.0515 - accuracy: 0.9826 - val_loss: 0.1495 - val_accuracy: 0.9542 - lr: 0.0010\n",
      "Epoch 10/30\n",
      "145/145 [==============================] - ETA: 0s - loss: 0.0451 - accuracy: 0.9843\n",
      "Epoch 10: val_accuracy did not improve from 0.95423\n",
      "145/145 [==============================] - 64s 439ms/step - loss: 0.0451 - accuracy: 0.9843 - val_loss: 0.1597 - val_accuracy: 0.9529 - lr: 0.0010\n",
      "Epoch 11/30\n",
      "145/145 [==============================] - ETA: 0s - loss: 0.0333 - accuracy: 0.9886\n",
      "Epoch 11: val_accuracy did not improve from 0.95423\n",
      "145/145 [==============================] - 64s 443ms/step - loss: 0.0333 - accuracy: 0.9886 - val_loss: 0.2198 - val_accuracy: 0.9542 - lr: 0.0010\n",
      "Epoch 12/30\n",
      "145/145 [==============================] - ETA: 0s - loss: 0.0369 - accuracy: 0.9877\n",
      "Epoch 12: val_accuracy did not improve from 0.95423\n",
      "145/145 [==============================] - 65s 447ms/step - loss: 0.0369 - accuracy: 0.9877 - val_loss: 0.1919 - val_accuracy: 0.9439 - lr: 0.0010\n",
      "Epoch 13/30\n",
      "145/145 [==============================] - ETA: 0s - loss: 0.0421 - accuracy: 0.9854\n",
      "Epoch 13: val_accuracy did not improve from 0.95423\n",
      "145/145 [==============================] - 64s 444ms/step - loss: 0.0421 - accuracy: 0.9854 - val_loss: 0.2206 - val_accuracy: 0.9283 - lr: 0.0010\n",
      "Epoch 14/30\n",
      "145/145 [==============================] - ETA: 0s - loss: 0.0330 - accuracy: 0.9881\n",
      "Epoch 14: val_accuracy did not improve from 0.95423\n",
      "145/145 [==============================] - 64s 443ms/step - loss: 0.0330 - accuracy: 0.9881 - val_loss: 0.1543 - val_accuracy: 0.9538 - lr: 0.0010\n",
      "Epoch 15/30\n",
      "145/145 [==============================] - ETA: 0s - loss: 0.0356 - accuracy: 0.9875\n",
      "Epoch 15: val_accuracy improved from 0.95423 to 0.95812, saving model to E-classify/E-label_run2.h5\n",
      "145/145 [==============================] - 64s 442ms/step - loss: 0.0356 - accuracy: 0.9875 - val_loss: 0.2016 - val_accuracy: 0.9581 - lr: 0.0010\n",
      "Epoch 16/30\n",
      "145/145 [==============================] - ETA: 0s - loss: 0.0277 - accuracy: 0.9911\n",
      "Epoch 16: val_accuracy did not improve from 0.95812\n",
      "145/145 [==============================] - 64s 438ms/step - loss: 0.0277 - accuracy: 0.9911 - val_loss: 0.2230 - val_accuracy: 0.9482 - lr: 0.0010\n",
      "Epoch 17/30\n",
      "145/145 [==============================] - ETA: 0s - loss: 0.0269 - accuracy: 0.9902\n",
      "Epoch 17: val_accuracy improved from 0.95812 to 0.96071, saving model to E-classify/E-label_run2.h5\n",
      "145/145 [==============================] - 64s 443ms/step - loss: 0.0269 - accuracy: 0.9902 - val_loss: 0.1725 - val_accuracy: 0.9607 - lr: 0.0010\n",
      "Epoch 18/30\n",
      "145/145 [==============================] - ETA: 0s - loss: 0.0290 - accuracy: 0.9904\n",
      "Epoch 18: val_accuracy did not improve from 0.96071\n",
      "145/145 [==============================] - 64s 442ms/step - loss: 0.0290 - accuracy: 0.9904 - val_loss: 0.1752 - val_accuracy: 0.9421 - lr: 0.0010\n",
      "Epoch 19/30\n",
      "145/145 [==============================] - ETA: 0s - loss: 0.0256 - accuracy: 0.9916\n",
      "Epoch 19: val_accuracy did not improve from 0.96071\n",
      "145/145 [==============================] - 64s 442ms/step - loss: 0.0256 - accuracy: 0.9916 - val_loss: 0.2098 - val_accuracy: 0.9512 - lr: 0.0010\n",
      "Epoch 20/30\n",
      "145/145 [==============================] - ETA: 0s - loss: 0.0284 - accuracy: 0.9901\n",
      "Epoch 20: val_accuracy did not improve from 0.96071\n",
      "145/145 [==============================] - 63s 438ms/step - loss: 0.0284 - accuracy: 0.9901 - val_loss: 0.2387 - val_accuracy: 0.9512 - lr: 0.0010\n",
      "Epoch 21/30\n",
      "145/145 [==============================] - ETA: 0s - loss: 0.0278 - accuracy: 0.9891\n",
      "Epoch 21: val_accuracy did not improve from 0.96071\n",
      "145/145 [==============================] - 63s 436ms/step - loss: 0.0278 - accuracy: 0.9891 - val_loss: 0.2441 - val_accuracy: 0.9547 - lr: 0.0010\n",
      "Epoch 22/30\n",
      "145/145 [==============================] - ETA: 0s - loss: 0.0179 - accuracy: 0.9935\n",
      "Epoch 22: val_accuracy did not improve from 0.96071\n",
      "145/145 [==============================] - 64s 439ms/step - loss: 0.0179 - accuracy: 0.9935 - val_loss: 0.2774 - val_accuracy: 0.9585 - lr: 0.0010\n",
      "Epoch 23/30\n",
      "145/145 [==============================] - ETA: 0s - loss: 0.0121 - accuracy: 0.9960\n",
      "Epoch 23: val_accuracy did not improve from 0.96071\n",
      "145/145 [==============================] - 64s 440ms/step - loss: 0.0121 - accuracy: 0.9960 - val_loss: 0.4767 - val_accuracy: 0.9244 - lr: 0.0010\n",
      "Epoch 24/30\n",
      "145/145 [==============================] - ETA: 0s - loss: 0.0095 - accuracy: 0.9967\n",
      "Epoch 24: val_accuracy did not improve from 0.96071\n",
      "145/145 [==============================] - 64s 442ms/step - loss: 0.0095 - accuracy: 0.9967 - val_loss: 0.2293 - val_accuracy: 0.9555 - lr: 0.0010\n",
      "Epoch 25/30\n",
      "145/145 [==============================] - ETA: 0s - loss: 0.0138 - accuracy: 0.9951\n",
      "Epoch 25: val_accuracy did not improve from 0.96071\n",
      "145/145 [==============================] - 64s 442ms/step - loss: 0.0138 - accuracy: 0.9951 - val_loss: 0.2716 - val_accuracy: 0.9521 - lr: 0.0010\n",
      "Epoch 26/30\n",
      "145/145 [==============================] - ETA: 0s - loss: 0.0242 - accuracy: 0.9907\n",
      "Epoch 26: val_accuracy did not improve from 0.96071\n",
      "145/145 [==============================] - 64s 442ms/step - loss: 0.0242 - accuracy: 0.9907 - val_loss: 0.2545 - val_accuracy: 0.9547 - lr: 0.0010\n",
      "Epoch 27/30\n",
      "145/145 [==============================] - ETA: 0s - loss: 0.0153 - accuracy: 0.9936\n",
      "Epoch 27: val_accuracy did not improve from 0.96071\n",
      "145/145 [==============================] - 64s 441ms/step - loss: 0.0153 - accuracy: 0.9936 - val_loss: 0.2300 - val_accuracy: 0.9585 - lr: 0.0010\n",
      "Epoch 28/30\n",
      "145/145 [==============================] - ETA: 0s - loss: 0.0057 - accuracy: 0.9989\n",
      "Epoch 28: val_accuracy did not improve from 0.96071\n",
      "145/145 [==============================] - 64s 444ms/step - loss: 0.0057 - accuracy: 0.9989 - val_loss: 0.2472 - val_accuracy: 0.9607 - lr: 1.0000e-04\n",
      "Epoch 29/30\n",
      "145/145 [==============================] - ETA: 0s - loss: 0.0020 - accuracy: 0.9997\n",
      "Epoch 29: val_accuracy did not improve from 0.96071\n",
      "145/145 [==============================] - 64s 442ms/step - loss: 0.0020 - accuracy: 0.9997 - val_loss: 0.2540 - val_accuracy: 0.9598 - lr: 1.0000e-04\n",
      "Epoch 30/30\n",
      "145/145 [==============================] - ETA: 0s - loss: 0.0012 - accuracy: 0.9998\n",
      "Epoch 30: val_accuracy did not improve from 0.96071\n",
      "145/145 [==============================] - 64s 443ms/step - loss: 0.0012 - accuracy: 0.9998 - val_loss: 0.2670 - val_accuracy: 0.9594 - lr: 1.0000e-04\n",
      "Epoch 1/30\n"
     ]
    },
    {
     "name": "stderr",
     "output_type": "stream",
     "text": [
      "2023-11-28 16:40:19.460995: I tensorflow/core/grappler/optimizers/custom_graph_optimizer_registry.cc:113] Plugin optimizer for device_type GPU is enabled.\n",
      "loc(\"mps_select\"(\"(mpsFileLoc): /AppleInternal/Library/BuildRoots/495c257e-668e-11ee-93ce-926038f30c31/Library/Caches/com.apple.xbs/Sources/MetalPerformanceShadersGraph/mpsgraph/MetalPerformanceShadersGraph/Core/Files/MPSGraphUtilities.mm\":294:0)): error: 'anec.gain_offset_control' op result #0 must be 4D/5D memref of 16-bit float or 8-bit signed integer or 8-bit unsigned integer values, but got 'memref<1x64x1x1xi1>'\n",
      "loc(\"mps_select\"(\"(mpsFileLoc): /AppleInternal/Library/BuildRoots/495c257e-668e-11ee-93ce-926038f30c31/Library/Caches/com.apple.xbs/Sources/MetalPerformanceShadersGraph/mpsgraph/MetalPerformanceShadersGraph/Core/Files/MPSGraphUtilities.mm\":294:0)): error: 'anec.gain_offset_control' op result #0 must be 4D/5D memref of 16-bit float or 8-bit signed integer or 8-bit unsigned integer values, but got 'memref<1x64x1x1xi1>'\n",
      "loc(\"mps_select\"(\"(mpsFileLoc): /AppleInternal/Library/BuildRoots/495c257e-668e-11ee-93ce-926038f30c31/Library/Caches/com.apple.xbs/Sources/MetalPerformanceShadersGraph/mpsgraph/MetalPerformanceShadersGraph/Core/Files/MPSGraphUtilities.mm\":294:0)): error: 'anec.gain_offset_control' op result #0 must be 4D/5D memref of 16-bit float or 8-bit signed integer or 8-bit unsigned integer values, but got 'memref<1x64x1x1xi1>'\n",
      "loc(\"mps_select\"(\"(mpsFileLoc): /AppleInternal/Library/BuildRoots/495c257e-668e-11ee-93ce-926038f30c31/Library/Caches/com.apple.xbs/Sources/MetalPerformanceShadersGraph/mpsgraph/MetalPerformanceShadersGraph/Core/Files/MPSGraphUtilities.mm\":294:0)): error: 'anec.gain_offset_control' op result #0 must be 4D/5D memref of 16-bit float or 8-bit signed integer or 8-bit unsigned integer values, but got 'memref<1x64x1x1xi1>'\n",
      "loc(\"mps_select\"(\"(mpsFileLoc): /AppleInternal/Library/BuildRoots/495c257e-668e-11ee-93ce-926038f30c31/Library/Caches/com.apple.xbs/Sources/MetalPerformanceShadersGraph/mpsgraph/MetalPerformanceShadersGraph/Core/Files/MPSGraphUtilities.mm\":294:0)): error: 'anec.gain_offset_control' op result #0 must be 4D/5D memref of 16-bit float or 8-bit signed integer or 8-bit unsigned integer values, but got 'memref<1x64x1x1xi1>'\n"
     ]
    },
    {
     "name": "stdout",
     "output_type": "stream",
     "text": [
      "144/145 [============================>.] - ETA: 0s - loss: 0.2051 - accuracy: 0.9163"
     ]
    },
    {
     "name": "stderr",
     "output_type": "stream",
     "text": [
      "loc(\"mps_select\"(\"(mpsFileLoc): /AppleInternal/Library/BuildRoots/495c257e-668e-11ee-93ce-926038f30c31/Library/Caches/com.apple.xbs/Sources/MetalPerformanceShadersGraph/mpsgraph/MetalPerformanceShadersGraph/Core/Files/MPSGraphUtilities.mm\":294:0)): error: 'anec.gain_offset_control' op result #0 must be 4D/5D memref of 16-bit float or 8-bit signed integer or 8-bit unsigned integer values, but got 'memref<1x46x1x1xi1>'\n",
      "loc(\"mps_select\"(\"(mpsFileLoc): /AppleInternal/Library/BuildRoots/495c257e-668e-11ee-93ce-926038f30c31/Library/Caches/com.apple.xbs/Sources/MetalPerformanceShadersGraph/mpsgraph/MetalPerformanceShadersGraph/Core/Files/MPSGraphUtilities.mm\":294:0)): error: 'anec.gain_offset_control' op result #0 must be 4D/5D memref of 16-bit float or 8-bit signed integer or 8-bit unsigned integer values, but got 'memref<1x46x1x1xi1>'\n",
      "loc(\"mps_select\"(\"(mpsFileLoc): /AppleInternal/Library/BuildRoots/495c257e-668e-11ee-93ce-926038f30c31/Library/Caches/com.apple.xbs/Sources/MetalPerformanceShadersGraph/mpsgraph/MetalPerformanceShadersGraph/Core/Files/MPSGraphUtilities.mm\":294:0)): error: 'anec.gain_offset_control' op result #0 must be 4D/5D memref of 16-bit float or 8-bit signed integer or 8-bit unsigned integer values, but got 'memref<1x46x1x1xi1>'\n",
      "loc(\"mps_select\"(\"(mpsFileLoc): /AppleInternal/Library/BuildRoots/495c257e-668e-11ee-93ce-926038f30c31/Library/Caches/com.apple.xbs/Sources/MetalPerformanceShadersGraph/mpsgraph/MetalPerformanceShadersGraph/Core/Files/MPSGraphUtilities.mm\":294:0)): error: 'anec.gain_offset_control' op result #0 must be 4D/5D memref of 16-bit float or 8-bit signed integer or 8-bit unsigned integer values, but got 'memref<1x46x1x1xi1>'\n",
      "loc(\"mps_select\"(\"(mpsFileLoc): /AppleInternal/Library/BuildRoots/495c257e-668e-11ee-93ce-926038f30c31/Library/Caches/com.apple.xbs/Sources/MetalPerformanceShadersGraph/mpsgraph/MetalPerformanceShadersGraph/Core/Files/MPSGraphUtilities.mm\":294:0)): error: 'anec.gain_offset_control' op result #0 must be 4D/5D memref of 16-bit float or 8-bit signed integer or 8-bit unsigned integer values, but got 'memref<1x46x1x1xi1>'\n"
     ]
    },
    {
     "name": "stdout",
     "output_type": "stream",
     "text": [
      "145/145 [==============================] - ETA: 0s - loss: 0.2047 - accuracy: 0.9166"
     ]
    },
    {
     "name": "stderr",
     "output_type": "stream",
     "text": [
      "2023-11-28 16:41:35.888634: I tensorflow/core/grappler/optimizers/custom_graph_optimizer_registry.cc:113] Plugin optimizer for device_type GPU is enabled.\n",
      "loc(\"mps_select\"(\"(mpsFileLoc): /AppleInternal/Library/BuildRoots/495c257e-668e-11ee-93ce-926038f30c31/Library/Caches/com.apple.xbs/Sources/MetalPerformanceShadersGraph/mpsgraph/MetalPerformanceShadersGraph/Core/Files/MPSGraphUtilities.mm\":294:0)): error: 'anec.gain_offset_control' op result #0 must be 4D/5D memref of 16-bit float or 8-bit signed integer or 8-bit unsigned integer values, but got 'memref<1x64x1x1xi1>'\n",
      "loc(\"mps_select\"(\"(mpsFileLoc): /AppleInternal/Library/BuildRoots/495c257e-668e-11ee-93ce-926038f30c31/Library/Caches/com.apple.xbs/Sources/MetalPerformanceShadersGraph/mpsgraph/MetalPerformanceShadersGraph/Core/Files/MPSGraphUtilities.mm\":294:0)): error: 'anec.gain_offset_control' op result #0 must be 4D/5D memref of 16-bit float or 8-bit signed integer or 8-bit unsigned integer values, but got 'memref<1x64x1x1xi1>'\n"
     ]
    },
    {
     "name": "stdout",
     "output_type": "stream",
     "text": [
      "\n",
      "Epoch 1: val_accuracy improved from -inf to 0.34370, saving model to E-classify/E-label_run3.h5\n"
     ]
    },
    {
     "name": "stderr",
     "output_type": "stream",
     "text": [
      "loc(\"mps_select\"(\"(mpsFileLoc): /AppleInternal/Library/BuildRoots/495c257e-668e-11ee-93ce-926038f30c31/Library/Caches/com.apple.xbs/Sources/MetalPerformanceShadersGraph/mpsgraph/MetalPerformanceShadersGraph/Core/Files/MPSGraphUtilities.mm\":294:0)): error: 'anec.gain_offset_control' op result #0 must be 4D/5D memref of 16-bit float or 8-bit signed integer or 8-bit unsigned integer values, but got 'memref<1x12x1x1xi1>'\n",
      "loc(\"mps_select\"(\"(mpsFileLoc): /AppleInternal/Library/BuildRoots/495c257e-668e-11ee-93ce-926038f30c31/Library/Caches/com.apple.xbs/Sources/MetalPerformanceShadersGraph/mpsgraph/MetalPerformanceShadersGraph/Core/Files/MPSGraphUtilities.mm\":294:0)): error: 'anec.gain_offset_control' op result #0 must be 4D/5D memref of 16-bit float or 8-bit signed integer or 8-bit unsigned integer values, but got 'memref<1x12x1x1xi1>'\n"
     ]
    },
    {
     "name": "stdout",
     "output_type": "stream",
     "text": [
      "145/145 [==============================] - 86s 579ms/step - loss: 0.2047 - accuracy: 0.9166 - val_loss: 3.6845 - val_accuracy: 0.3437 - lr: 0.0010\n",
      "Epoch 2/30\n",
      "145/145 [==============================] - ETA: 0s - loss: 0.1082 - accuracy: 0.9629\n",
      "Epoch 2: val_accuracy did not improve from 0.34370\n",
      "145/145 [==============================] - 84s 579ms/step - loss: 0.1082 - accuracy: 0.9629 - val_loss: 2.7061 - val_accuracy: 0.3437 - lr: 0.0010\n",
      "Epoch 3/30\n",
      "145/145 [==============================] - ETA: 0s - loss: 0.0944 - accuracy: 0.9680\n",
      "Epoch 3: val_accuracy improved from 0.34370 to 0.65674, saving model to E-classify/E-label_run3.h5\n",
      "145/145 [==============================] - 82s 566ms/step - loss: 0.0944 - accuracy: 0.9680 - val_loss: 1.1042 - val_accuracy: 0.6567 - lr: 0.0010\n",
      "Epoch 4/30\n",
      "145/145 [==============================] - ETA: 0s - loss: 0.0948 - accuracy: 0.9678\n",
      "Epoch 4: val_accuracy improved from 0.65674 to 0.89119, saving model to E-classify/E-label_run3.h5\n",
      "145/145 [==============================] - 80s 554ms/step - loss: 0.0948 - accuracy: 0.9678 - val_loss: 0.3398 - val_accuracy: 0.8912 - lr: 0.0010\n",
      "Epoch 5/30\n",
      "145/145 [==============================] - ETA: 0s - loss: 0.0870 - accuracy: 0.9707\n",
      "Epoch 5: val_accuracy improved from 0.89119 to 0.93739, saving model to E-classify/E-label_run3.h5\n",
      "145/145 [==============================] - 81s 561ms/step - loss: 0.0870 - accuracy: 0.9707 - val_loss: 0.1905 - val_accuracy: 0.9374 - lr: 0.0010\n",
      "Epoch 6/30\n",
      "145/145 [==============================] - ETA: 0s - loss: 0.0799 - accuracy: 0.9704\n",
      "Epoch 6: val_accuracy improved from 0.93739 to 0.95466, saving model to E-classify/E-label_run3.h5\n",
      "145/145 [==============================] - 81s 561ms/step - loss: 0.0799 - accuracy: 0.9704 - val_loss: 0.1158 - val_accuracy: 0.9547 - lr: 0.0010\n",
      "Epoch 7/30\n",
      "145/145 [==============================] - ETA: 0s - loss: 0.0744 - accuracy: 0.9746\n",
      "Epoch 7: val_accuracy improved from 0.95466 to 0.95682, saving model to E-classify/E-label_run3.h5\n",
      "145/145 [==============================] - 82s 564ms/step - loss: 0.0744 - accuracy: 0.9746 - val_loss: 0.1268 - val_accuracy: 0.9568 - lr: 0.0010\n",
      "Epoch 8/30\n",
      "145/145 [==============================] - ETA: 0s - loss: 0.0590 - accuracy: 0.9801\n",
      "Epoch 8: val_accuracy improved from 0.95682 to 0.95725, saving model to E-classify/E-label_run3.h5\n",
      "145/145 [==============================] - 82s 566ms/step - loss: 0.0590 - accuracy: 0.9801 - val_loss: 0.1217 - val_accuracy: 0.9573 - lr: 0.0010\n",
      "Epoch 9/30\n",
      "145/145 [==============================] - ETA: 0s - loss: 0.0594 - accuracy: 0.9795\n",
      "Epoch 9: val_accuracy did not improve from 0.95725\n",
      "145/145 [==============================] - 82s 564ms/step - loss: 0.0594 - accuracy: 0.9795 - val_loss: 0.2007 - val_accuracy: 0.9439 - lr: 0.0010\n",
      "Epoch 10/30\n",
      "145/145 [==============================] - ETA: 0s - loss: 0.0552 - accuracy: 0.9813\n",
      "Epoch 10: val_accuracy did not improve from 0.95725\n",
      "145/145 [==============================] - 81s 563ms/step - loss: 0.0552 - accuracy: 0.9813 - val_loss: 0.1282 - val_accuracy: 0.9525 - lr: 0.0010\n",
      "Epoch 11/30\n",
      "145/145 [==============================] - ETA: 0s - loss: 0.0489 - accuracy: 0.9816\n",
      "Epoch 11: val_accuracy did not improve from 0.95725\n",
      "145/145 [==============================] - 80s 554ms/step - loss: 0.0489 - accuracy: 0.9816 - val_loss: 0.1517 - val_accuracy: 0.9538 - lr: 0.0010\n",
      "Epoch 12/30\n",
      "145/145 [==============================] - ETA: 0s - loss: 0.0440 - accuracy: 0.9866\n",
      "Epoch 12: val_accuracy did not improve from 0.95725\n",
      "145/145 [==============================] - 81s 561ms/step - loss: 0.0440 - accuracy: 0.9866 - val_loss: 0.1400 - val_accuracy: 0.9478 - lr: 0.0010\n",
      "Epoch 13/30\n",
      "145/145 [==============================] - ETA: 0s - loss: 0.0282 - accuracy: 0.9905\n",
      "Epoch 13: val_accuracy did not improve from 0.95725\n",
      "145/145 [==============================] - 81s 561ms/step - loss: 0.0282 - accuracy: 0.9905 - val_loss: 0.1718 - val_accuracy: 0.9352 - lr: 0.0010\n",
      "Epoch 14/30\n",
      "145/145 [==============================] - ETA: 0s - loss: 0.0431 - accuracy: 0.9853\n",
      "Epoch 14: val_accuracy did not improve from 0.95725\n",
      "145/145 [==============================] - 81s 560ms/step - loss: 0.0431 - accuracy: 0.9853 - val_loss: 0.1961 - val_accuracy: 0.9391 - lr: 0.0010\n",
      "Epoch 15/30\n",
      "145/145 [==============================] - ETA: 0s - loss: 0.0311 - accuracy: 0.9900\n",
      "Epoch 15: val_accuracy did not improve from 0.95725\n",
      "145/145 [==============================] - 82s 568ms/step - loss: 0.0311 - accuracy: 0.9900 - val_loss: 0.1460 - val_accuracy: 0.9555 - lr: 0.0010\n",
      "Epoch 16/30\n",
      "145/145 [==============================] - ETA: 0s - loss: 0.0251 - accuracy: 0.9914\n",
      "Epoch 16: val_accuracy did not improve from 0.95725\n",
      "145/145 [==============================] - 81s 562ms/step - loss: 0.0251 - accuracy: 0.9914 - val_loss: 0.2681 - val_accuracy: 0.9396 - lr: 0.0010\n",
      "Epoch 17/30\n",
      "145/145 [==============================] - ETA: 0s - loss: 0.0259 - accuracy: 0.9904\n",
      "Epoch 17: val_accuracy improved from 0.95725 to 0.96028, saving model to E-classify/E-label_run3.h5\n",
      "145/145 [==============================] - 81s 562ms/step - loss: 0.0259 - accuracy: 0.9904 - val_loss: 0.1742 - val_accuracy: 0.9603 - lr: 0.0010\n",
      "Epoch 18/30\n",
      "145/145 [==============================] - ETA: 0s - loss: 0.0218 - accuracy: 0.9933\n",
      "Epoch 18: val_accuracy did not improve from 0.96028\n",
      "145/145 [==============================] - 81s 557ms/step - loss: 0.0218 - accuracy: 0.9933 - val_loss: 0.1547 - val_accuracy: 0.9495 - lr: 0.0010\n",
      "Epoch 19/30\n",
      "145/145 [==============================] - ETA: 0s - loss: 0.0158 - accuracy: 0.9940\n",
      "Epoch 19: val_accuracy did not improve from 0.96028\n",
      "145/145 [==============================] - 82s 566ms/step - loss: 0.0158 - accuracy: 0.9940 - val_loss: 0.2091 - val_accuracy: 0.9443 - lr: 0.0010\n",
      "Epoch 20/30\n",
      "145/145 [==============================] - ETA: 0s - loss: 0.0240 - accuracy: 0.9913\n",
      "Epoch 20: val_accuracy did not improve from 0.96028\n",
      "145/145 [==============================] - 80s 552ms/step - loss: 0.0240 - accuracy: 0.9913 - val_loss: 0.1720 - val_accuracy: 0.9594 - lr: 0.0010\n",
      "Epoch 21/30\n",
      "145/145 [==============================] - ETA: 0s - loss: 0.0136 - accuracy: 0.9954\n",
      "Epoch 21: val_accuracy did not improve from 0.96028\n",
      "145/145 [==============================] - 80s 552ms/step - loss: 0.0136 - accuracy: 0.9954 - val_loss: 0.2189 - val_accuracy: 0.9555 - lr: 0.0010\n",
      "Epoch 22/30\n",
      "145/145 [==============================] - ETA: 0s - loss: 0.0128 - accuracy: 0.9963\n",
      "Epoch 22: val_accuracy did not improve from 0.96028\n",
      "145/145 [==============================] - 80s 554ms/step - loss: 0.0128 - accuracy: 0.9963 - val_loss: 0.1904 - val_accuracy: 0.9555 - lr: 0.0010\n",
      "Epoch 23/30\n",
      "145/145 [==============================] - ETA: 0s - loss: 0.0263 - accuracy: 0.9923\n",
      "Epoch 23: val_accuracy did not improve from 0.96028\n",
      "145/145 [==============================] - 80s 554ms/step - loss: 0.0263 - accuracy: 0.9923 - val_loss: 0.1748 - val_accuracy: 0.9512 - lr: 0.0010\n",
      "Epoch 24/30\n",
      "145/145 [==============================] - ETA: 0s - loss: 0.0217 - accuracy: 0.9923\n",
      "Epoch 24: val_accuracy did not improve from 0.96028\n",
      "145/145 [==============================] - 81s 560ms/step - loss: 0.0217 - accuracy: 0.9923 - val_loss: 0.1772 - val_accuracy: 0.9581 - lr: 0.0010\n",
      "Epoch 25/30\n",
      "145/145 [==============================] - ETA: 0s - loss: 0.0133 - accuracy: 0.9959\n",
      "Epoch 25: val_accuracy did not improve from 0.96028\n",
      "145/145 [==============================] - 82s 563ms/step - loss: 0.0133 - accuracy: 0.9959 - val_loss: 0.3656 - val_accuracy: 0.9218 - lr: 0.0010\n",
      "Epoch 26/30\n",
      "145/145 [==============================] - ETA: 0s - loss: 0.0282 - accuracy: 0.9906\n",
      "Epoch 26: val_accuracy did not improve from 0.96028\n",
      "145/145 [==============================] - 81s 557ms/step - loss: 0.0282 - accuracy: 0.9906 - val_loss: 0.1732 - val_accuracy: 0.9478 - lr: 0.0010\n",
      "Epoch 27/30\n",
      "145/145 [==============================] - ETA: 0s - loss: 0.0181 - accuracy: 0.9941\n",
      "Epoch 27: val_accuracy did not improve from 0.96028\n",
      "145/145 [==============================] - 82s 565ms/step - loss: 0.0181 - accuracy: 0.9941 - val_loss: 0.2207 - val_accuracy: 0.9279 - lr: 0.0010\n",
      "Epoch 28/30\n",
      "145/145 [==============================] - ETA: 0s - loss: 0.0093 - accuracy: 0.9979\n",
      "Epoch 28: val_accuracy did not improve from 0.96028\n",
      "145/145 [==============================] - 82s 566ms/step - loss: 0.0093 - accuracy: 0.9979 - val_loss: 0.1738 - val_accuracy: 0.9538 - lr: 1.0000e-04\n",
      "Epoch 29/30\n",
      "145/145 [==============================] - ETA: 0s - loss: 0.0027 - accuracy: 0.9995\n",
      "Epoch 29: val_accuracy did not improve from 0.96028\n",
      "145/145 [==============================] - 81s 561ms/step - loss: 0.0027 - accuracy: 0.9995 - val_loss: 0.1892 - val_accuracy: 0.9568 - lr: 1.0000e-04\n",
      "Epoch 30/30\n",
      "145/145 [==============================] - ETA: 0s - loss: 0.0013 - accuracy: 0.9999\n",
      "Epoch 30: val_accuracy did not improve from 0.96028\n",
      "145/145 [==============================] - 80s 555ms/step - loss: 0.0013 - accuracy: 0.9999 - val_loss: 0.2009 - val_accuracy: 0.9594 - lr: 1.0000e-04\n",
      "Epoch 1/30\n"
     ]
    },
    {
     "name": "stderr",
     "output_type": "stream",
     "text": [
      "2023-11-28 17:21:09.219796: I tensorflow/core/grappler/optimizers/custom_graph_optimizer_registry.cc:113] Plugin optimizer for device_type GPU is enabled.\n",
      "loc(\"mps_select\"(\"(mpsFileLoc): /AppleInternal/Library/BuildRoots/495c257e-668e-11ee-93ce-926038f30c31/Library/Caches/com.apple.xbs/Sources/MetalPerformanceShadersGraph/mpsgraph/MetalPerformanceShadersGraph/Core/Files/MPSGraphUtilities.mm\":294:0)): error: 'anec.gain_offset_control' op result #0 must be 4D/5D memref of 16-bit float or 8-bit signed integer or 8-bit unsigned integer values, but got 'memref<1x64x1x1xi1>'\n",
      "loc(\"mps_select\"(\"(mpsFileLoc): /AppleInternal/Library/BuildRoots/495c257e-668e-11ee-93ce-926038f30c31/Library/Caches/com.apple.xbs/Sources/MetalPerformanceShadersGraph/mpsgraph/MetalPerformanceShadersGraph/Core/Files/MPSGraphUtilities.mm\":294:0)): error: 'anec.gain_offset_control' op result #0 must be 4D/5D memref of 16-bit float or 8-bit signed integer or 8-bit unsigned integer values, but got 'memref<1x64x1x1xi1>'\n",
      "loc(\"mps_select\"(\"(mpsFileLoc): /AppleInternal/Library/BuildRoots/495c257e-668e-11ee-93ce-926038f30c31/Library/Caches/com.apple.xbs/Sources/MetalPerformanceShadersGraph/mpsgraph/MetalPerformanceShadersGraph/Core/Files/MPSGraphUtilities.mm\":294:0)): error: 'anec.gain_offset_control' op result #0 must be 4D/5D memref of 16-bit float or 8-bit signed integer or 8-bit unsigned integer values, but got 'memref<1x64x1x1xi1>'\n",
      "loc(\"mps_select\"(\"(mpsFileLoc): /AppleInternal/Library/BuildRoots/495c257e-668e-11ee-93ce-926038f30c31/Library/Caches/com.apple.xbs/Sources/MetalPerformanceShadersGraph/mpsgraph/MetalPerformanceShadersGraph/Core/Files/MPSGraphUtilities.mm\":294:0)): error: 'anec.gain_offset_control' op result #0 must be 4D/5D memref of 16-bit float or 8-bit signed integer or 8-bit unsigned integer values, but got 'memref<1x64x1x1xi1>'\n",
      "loc(\"mps_select\"(\"(mpsFileLoc): /AppleInternal/Library/BuildRoots/495c257e-668e-11ee-93ce-926038f30c31/Library/Caches/com.apple.xbs/Sources/MetalPerformanceShadersGraph/mpsgraph/MetalPerformanceShadersGraph/Core/Files/MPSGraphUtilities.mm\":294:0)): error: 'anec.gain_offset_control' op result #0 must be 4D/5D memref of 16-bit float or 8-bit signed integer or 8-bit unsigned integer values, but got 'memref<1x64x1x1xi1>'\n"
     ]
    },
    {
     "name": "stdout",
     "output_type": "stream",
     "text": [
      "144/145 [============================>.] - ETA: 0s - loss: 0.2036 - accuracy: 0.9218"
     ]
    },
    {
     "name": "stderr",
     "output_type": "stream",
     "text": [
      "loc(\"mps_select\"(\"(mpsFileLoc): /AppleInternal/Library/BuildRoots/495c257e-668e-11ee-93ce-926038f30c31/Library/Caches/com.apple.xbs/Sources/MetalPerformanceShadersGraph/mpsgraph/MetalPerformanceShadersGraph/Core/Files/MPSGraphUtilities.mm\":294:0)): error: 'anec.gain_offset_control' op result #0 must be 4D/5D memref of 16-bit float or 8-bit signed integer or 8-bit unsigned integer values, but got 'memref<1x46x1x1xi1>'\n",
      "loc(\"mps_select\"(\"(mpsFileLoc): /AppleInternal/Library/BuildRoots/495c257e-668e-11ee-93ce-926038f30c31/Library/Caches/com.apple.xbs/Sources/MetalPerformanceShadersGraph/mpsgraph/MetalPerformanceShadersGraph/Core/Files/MPSGraphUtilities.mm\":294:0)): error: 'anec.gain_offset_control' op result #0 must be 4D/5D memref of 16-bit float or 8-bit signed integer or 8-bit unsigned integer values, but got 'memref<1x46x1x1xi1>'\n",
      "loc(\"mps_select\"(\"(mpsFileLoc): /AppleInternal/Library/BuildRoots/495c257e-668e-11ee-93ce-926038f30c31/Library/Caches/com.apple.xbs/Sources/MetalPerformanceShadersGraph/mpsgraph/MetalPerformanceShadersGraph/Core/Files/MPSGraphUtilities.mm\":294:0)): error: 'anec.gain_offset_control' op result #0 must be 4D/5D memref of 16-bit float or 8-bit signed integer or 8-bit unsigned integer values, but got 'memref<1x46x1x1xi1>'\n",
      "loc(\"mps_select\"(\"(mpsFileLoc): /AppleInternal/Library/BuildRoots/495c257e-668e-11ee-93ce-926038f30c31/Library/Caches/com.apple.xbs/Sources/MetalPerformanceShadersGraph/mpsgraph/MetalPerformanceShadersGraph/Core/Files/MPSGraphUtilities.mm\":294:0)): error: 'anec.gain_offset_control' op result #0 must be 4D/5D memref of 16-bit float or 8-bit signed integer or 8-bit unsigned integer values, but got 'memref<1x46x1x1xi1>'\n",
      "loc(\"mps_select\"(\"(mpsFileLoc): /AppleInternal/Library/BuildRoots/495c257e-668e-11ee-93ce-926038f30c31/Library/Caches/com.apple.xbs/Sources/MetalPerformanceShadersGraph/mpsgraph/MetalPerformanceShadersGraph/Core/Files/MPSGraphUtilities.mm\":294:0)): error: 'anec.gain_offset_control' op result #0 must be 4D/5D memref of 16-bit float or 8-bit signed integer or 8-bit unsigned integer values, but got 'memref<1x46x1x1xi1>'\n"
     ]
    },
    {
     "name": "stdout",
     "output_type": "stream",
     "text": [
      "145/145 [==============================] - ETA: 0s - loss: 0.2033 - accuracy: 0.9217"
     ]
    },
    {
     "name": "stderr",
     "output_type": "stream",
     "text": [
      "2023-11-28 17:22:04.099841: I tensorflow/core/grappler/optimizers/custom_graph_optimizer_registry.cc:113] Plugin optimizer for device_type GPU is enabled.\n",
      "loc(\"mps_select\"(\"(mpsFileLoc): /AppleInternal/Library/BuildRoots/495c257e-668e-11ee-93ce-926038f30c31/Library/Caches/com.apple.xbs/Sources/MetalPerformanceShadersGraph/mpsgraph/MetalPerformanceShadersGraph/Core/Files/MPSGraphUtilities.mm\":294:0)): error: 'anec.gain_offset_control' op result #0 must be 4D/5D memref of 16-bit float or 8-bit signed integer or 8-bit unsigned integer values, but got 'memref<1x64x1x1xi1>'\n",
      "loc(\"mps_select\"(\"(mpsFileLoc): /AppleInternal/Library/BuildRoots/495c257e-668e-11ee-93ce-926038f30c31/Library/Caches/com.apple.xbs/Sources/MetalPerformanceShadersGraph/mpsgraph/MetalPerformanceShadersGraph/Core/Files/MPSGraphUtilities.mm\":294:0)): error: 'anec.gain_offset_control' op result #0 must be 4D/5D memref of 16-bit float or 8-bit signed integer or 8-bit unsigned integer values, but got 'memref<1x64x1x1xi1>'\n"
     ]
    },
    {
     "name": "stdout",
     "output_type": "stream",
     "text": [
      "\n",
      "Epoch 1: val_accuracy improved from -inf to 0.34370, saving model to E-classify/E-label_run4.h5\n",
      "145/145 [==============================] - 67s 433ms/step - loss: 0.2033 - accuracy: 0.9217 - val_loss: 2.7644 - val_accuracy: 0.3437 - lr: 0.0010\n",
      "Epoch 2/30\n"
     ]
    },
    {
     "name": "stderr",
     "output_type": "stream",
     "text": [
      "loc(\"mps_select\"(\"(mpsFileLoc): /AppleInternal/Library/BuildRoots/495c257e-668e-11ee-93ce-926038f30c31/Library/Caches/com.apple.xbs/Sources/MetalPerformanceShadersGraph/mpsgraph/MetalPerformanceShadersGraph/Core/Files/MPSGraphUtilities.mm\":294:0)): error: 'anec.gain_offset_control' op result #0 must be 4D/5D memref of 16-bit float or 8-bit signed integer or 8-bit unsigned integer values, but got 'memref<1x12x1x1xi1>'\n",
      "loc(\"mps_select\"(\"(mpsFileLoc): /AppleInternal/Library/BuildRoots/495c257e-668e-11ee-93ce-926038f30c31/Library/Caches/com.apple.xbs/Sources/MetalPerformanceShadersGraph/mpsgraph/MetalPerformanceShadersGraph/Core/Files/MPSGraphUtilities.mm\":294:0)): error: 'anec.gain_offset_control' op result #0 must be 4D/5D memref of 16-bit float or 8-bit signed integer or 8-bit unsigned integer values, but got 'memref<1x12x1x1xi1>'\n"
     ]
    },
    {
     "name": "stdout",
     "output_type": "stream",
     "text": [
      "145/145 [==============================] - ETA: 0s - loss: 0.1180 - accuracy: 0.9603\n",
      "Epoch 2: val_accuracy did not improve from 0.34370\n",
      "145/145 [==============================] - 67s 458ms/step - loss: 0.1180 - accuracy: 0.9603 - val_loss: 2.1823 - val_accuracy: 0.3437 - lr: 0.0010\n",
      "Epoch 3/30\n",
      "145/145 [==============================] - ETA: 0s - loss: 0.0985 - accuracy: 0.9634\n",
      "Epoch 3: val_accuracy improved from 0.34370 to 0.40112, saving model to E-classify/E-label_run4.h5\n",
      "145/145 [==============================] - 67s 459ms/step - loss: 0.0985 - accuracy: 0.9634 - val_loss: 1.5528 - val_accuracy: 0.4011 - lr: 0.0010\n",
      "Epoch 4/30\n",
      "145/145 [==============================] - ETA: 0s - loss: 0.0923 - accuracy: 0.9634\n",
      "Epoch 4: val_accuracy improved from 0.40112 to 0.88731, saving model to E-classify/E-label_run4.h5\n",
      "145/145 [==============================] - 67s 460ms/step - loss: 0.0923 - accuracy: 0.9634 - val_loss: 0.3069 - val_accuracy: 0.8873 - lr: 0.0010\n",
      "Epoch 5/30\n",
      "145/145 [==============================] - ETA: 0s - loss: 0.0866 - accuracy: 0.9692\n",
      "Epoch 5: val_accuracy improved from 0.88731 to 0.93394, saving model to E-classify/E-label_run4.h5\n",
      "145/145 [==============================] - 66s 455ms/step - loss: 0.0866 - accuracy: 0.9692 - val_loss: 0.1918 - val_accuracy: 0.9339 - lr: 0.0010\n",
      "Epoch 6/30\n",
      "145/145 [==============================] - ETA: 0s - loss: 0.0785 - accuracy: 0.9696\n",
      "Epoch 6: val_accuracy improved from 0.93394 to 0.96244, saving model to E-classify/E-label_run4.h5\n",
      "145/145 [==============================] - 66s 454ms/step - loss: 0.0785 - accuracy: 0.9696 - val_loss: 0.1026 - val_accuracy: 0.9624 - lr: 0.0010\n",
      "Epoch 7/30\n",
      "145/145 [==============================] - ETA: 0s - loss: 0.0663 - accuracy: 0.9755\n",
      "Epoch 7: val_accuracy did not improve from 0.96244\n",
      "145/145 [==============================] - 70s 481ms/step - loss: 0.0663 - accuracy: 0.9755 - val_loss: 0.1106 - val_accuracy: 0.9598 - lr: 0.0010\n",
      "Epoch 8/30\n",
      "145/145 [==============================] - ETA: 0s - loss: 0.0601 - accuracy: 0.9786\n",
      "Epoch 8: val_accuracy did not improve from 0.96244\n",
      "145/145 [==============================] - 66s 458ms/step - loss: 0.0601 - accuracy: 0.9786 - val_loss: 0.2107 - val_accuracy: 0.9344 - lr: 0.0010\n",
      "Epoch 9/30\n",
      "145/145 [==============================] - ETA: 0s - loss: 0.0501 - accuracy: 0.9834\n",
      "Epoch 9: val_accuracy did not improve from 0.96244\n",
      "145/145 [==============================] - 66s 455ms/step - loss: 0.0501 - accuracy: 0.9834 - val_loss: 0.1327 - val_accuracy: 0.9581 - lr: 0.0010\n",
      "Epoch 10/30\n",
      "145/145 [==============================] - ETA: 0s - loss: 0.0572 - accuracy: 0.9788\n",
      "Epoch 10: val_accuracy did not improve from 0.96244\n",
      "145/145 [==============================] - 70s 485ms/step - loss: 0.0572 - accuracy: 0.9788 - val_loss: 0.1466 - val_accuracy: 0.9551 - lr: 0.0010\n",
      "Epoch 11/30\n",
      "145/145 [==============================] - ETA: 0s - loss: 0.0407 - accuracy: 0.9857\n",
      "Epoch 11: val_accuracy did not improve from 0.96244\n",
      "145/145 [==============================] - 66s 458ms/step - loss: 0.0407 - accuracy: 0.9857 - val_loss: 0.4747 - val_accuracy: 0.8592 - lr: 0.0010\n",
      "Epoch 12/30\n",
      "145/145 [==============================] - ETA: 0s - loss: 0.0406 - accuracy: 0.9850\n",
      "Epoch 12: val_accuracy did not improve from 0.96244\n",
      "145/145 [==============================] - 73s 502ms/step - loss: 0.0406 - accuracy: 0.9850 - val_loss: 0.1766 - val_accuracy: 0.9374 - lr: 0.0010\n",
      "Epoch 13/30\n",
      "145/145 [==============================] - ETA: 0s - loss: 0.0466 - accuracy: 0.9835\n",
      "Epoch 13: val_accuracy did not improve from 0.96244\n",
      "145/145 [==============================] - 66s 453ms/step - loss: 0.0466 - accuracy: 0.9835 - val_loss: 0.1440 - val_accuracy: 0.9508 - lr: 0.0010\n",
      "Epoch 14/30\n",
      "145/145 [==============================] - ETA: 0s - loss: 0.0385 - accuracy: 0.9853\n",
      "Epoch 14: val_accuracy did not improve from 0.96244\n",
      "145/145 [==============================] - 71s 487ms/step - loss: 0.0385 - accuracy: 0.9853 - val_loss: 0.1904 - val_accuracy: 0.9335 - lr: 0.0010\n",
      "Epoch 15/30\n",
      "145/145 [==============================] - ETA: 0s - loss: 0.0259 - accuracy: 0.9908\n",
      "Epoch 15: val_accuracy did not improve from 0.96244\n",
      "145/145 [==============================] - 65s 448ms/step - loss: 0.0259 - accuracy: 0.9908 - val_loss: 0.5563 - val_accuracy: 0.8847 - lr: 0.0010\n",
      "Epoch 16/30\n",
      "145/145 [==============================] - ETA: 0s - loss: 0.0298 - accuracy: 0.9904\n",
      "Epoch 16: val_accuracy did not improve from 0.96244\n",
      "145/145 [==============================] - 71s 490ms/step - loss: 0.0298 - accuracy: 0.9904 - val_loss: 0.7035 - val_accuracy: 0.8424 - lr: 0.0010\n",
      "Epoch 17/30\n",
      "145/145 [==============================] - ETA: 0s - loss: 0.0207 - accuracy: 0.9931\n",
      "Epoch 17: val_accuracy did not improve from 0.96244\n",
      "145/145 [==============================] - 66s 457ms/step - loss: 0.0207 - accuracy: 0.9931 - val_loss: 0.2035 - val_accuracy: 0.9525 - lr: 1.0000e-04\n",
      "Epoch 18/30\n",
      "145/145 [==============================] - ETA: 0s - loss: 0.0060 - accuracy: 0.9991\n",
      "Epoch 18: val_accuracy did not improve from 0.96244\n",
      "145/145 [==============================] - 67s 461ms/step - loss: 0.0060 - accuracy: 0.9991 - val_loss: 0.2076 - val_accuracy: 0.9560 - lr: 1.0000e-04\n",
      "Epoch 19/30\n",
      "145/145 [==============================] - ETA: 0s - loss: 0.0025 - accuracy: 0.9999\n",
      "Epoch 19: val_accuracy did not improve from 0.96244\n",
      "145/145 [==============================] - 65s 446ms/step - loss: 0.0025 - accuracy: 0.9999 - val_loss: 0.2097 - val_accuracy: 0.9581 - lr: 1.0000e-04\n",
      "Epoch 20/30\n",
      "145/145 [==============================] - ETA: 0s - loss: 0.0017 - accuracy: 0.9999\n",
      "Epoch 20: val_accuracy did not improve from 0.96244\n",
      "145/145 [==============================] - 65s 450ms/step - loss: 0.0017 - accuracy: 0.9999 - val_loss: 0.2275 - val_accuracy: 0.9568 - lr: 1.0000e-04\n",
      "Epoch 21/30\n",
      "145/145 [==============================] - ETA: 0s - loss: 0.0012 - accuracy: 0.9999\n",
      "Epoch 21: val_accuracy did not improve from 0.96244\n",
      "145/145 [==============================] - 66s 453ms/step - loss: 0.0012 - accuracy: 0.9999 - val_loss: 0.2360 - val_accuracy: 0.9581 - lr: 1.0000e-04\n",
      "Epoch 22/30\n",
      "145/145 [==============================] - ETA: 0s - loss: 0.0012 - accuracy: 0.9999\n",
      "Epoch 22: val_accuracy did not improve from 0.96244\n",
      "145/145 [==============================] - 64s 441ms/step - loss: 0.0012 - accuracy: 0.9999 - val_loss: 0.2442 - val_accuracy: 0.9577 - lr: 1.0000e-04\n",
      "Epoch 23/30\n",
      "145/145 [==============================] - ETA: 0s - loss: 7.7654e-04 - accuracy: 0.9999\n",
      "Epoch 23: val_accuracy did not improve from 0.96244\n",
      "145/145 [==============================] - 63s 436ms/step - loss: 7.7654e-04 - accuracy: 0.9999 - val_loss: 0.2527 - val_accuracy: 0.9581 - lr: 1.0000e-04\n",
      "Epoch 24/30\n",
      "145/145 [==============================] - ETA: 0s - loss: 6.8214e-04 - accuracy: 0.9999\n",
      "Epoch 24: val_accuracy did not improve from 0.96244\n",
      "145/145 [==============================] - 64s 439ms/step - loss: 6.8214e-04 - accuracy: 0.9999 - val_loss: 0.2604 - val_accuracy: 0.9590 - lr: 1.0000e-04\n",
      "Epoch 25/30\n",
      "145/145 [==============================] - ETA: 0s - loss: 7.3127e-04 - accuracy: 0.9999\n",
      "Epoch 25: val_accuracy did not improve from 0.96244\n",
      "145/145 [==============================] - 63s 432ms/step - loss: 7.3127e-04 - accuracy: 0.9999 - val_loss: 0.2658 - val_accuracy: 0.9581 - lr: 1.0000e-04\n",
      "Epoch 26/30\n",
      "145/145 [==============================] - ETA: 0s - loss: 5.3545e-04 - accuracy: 0.9999\n",
      "Epoch 26: val_accuracy did not improve from 0.96244\n",
      "145/145 [==============================] - 63s 436ms/step - loss: 5.3545e-04 - accuracy: 0.9999 - val_loss: 0.2704 - val_accuracy: 0.9585 - lr: 1.0000e-04\n",
      "Epoch 27/30\n",
      "145/145 [==============================] - ETA: 0s - loss: 6.3156e-04 - accuracy: 0.9999\n",
      "Epoch 27: val_accuracy did not improve from 0.96244\n",
      "145/145 [==============================] - 64s 441ms/step - loss: 6.3156e-04 - accuracy: 0.9999 - val_loss: 0.2717 - val_accuracy: 0.9585 - lr: 1.0000e-05\n",
      "Epoch 28/30\n",
      "145/145 [==============================] - ETA: 0s - loss: 7.0392e-04 - accuracy: 0.9999\n",
      "Epoch 28: val_accuracy did not improve from 0.96244\n",
      "145/145 [==============================] - 66s 456ms/step - loss: 7.0392e-04 - accuracy: 0.9999 - val_loss: 0.2711 - val_accuracy: 0.9585 - lr: 1.0000e-05\n",
      "Epoch 29/30\n",
      "145/145 [==============================] - ETA: 0s - loss: 5.1997e-04 - accuracy: 0.9999\n",
      "Epoch 29: val_accuracy did not improve from 0.96244\n",
      "145/145 [==============================] - 64s 444ms/step - loss: 5.1997e-04 - accuracy: 0.9999 - val_loss: 0.2736 - val_accuracy: 0.9585 - lr: 1.0000e-05\n",
      "Epoch 30/30\n",
      "145/145 [==============================] - ETA: 0s - loss: 5.4931e-04 - accuracy: 0.9999\n",
      "Epoch 30: val_accuracy did not improve from 0.96244\n",
      "145/145 [==============================] - 65s 448ms/step - loss: 5.4931e-04 - accuracy: 0.9999 - val_loss: 0.2744 - val_accuracy: 0.9585 - lr: 1.0000e-05\n",
      "Epoch 1/30\n"
     ]
    },
    {
     "name": "stderr",
     "output_type": "stream",
     "text": [
      "2023-11-28 17:54:18.969576: I tensorflow/core/grappler/optimizers/custom_graph_optimizer_registry.cc:113] Plugin optimizer for device_type GPU is enabled.\n",
      "loc(\"mps_select\"(\"(mpsFileLoc): /AppleInternal/Library/BuildRoots/495c257e-668e-11ee-93ce-926038f30c31/Library/Caches/com.apple.xbs/Sources/MetalPerformanceShadersGraph/mpsgraph/MetalPerformanceShadersGraph/Core/Files/MPSGraphUtilities.mm\":294:0)): error: 'anec.gain_offset_control' op result #0 must be 4D/5D memref of 16-bit float or 8-bit signed integer or 8-bit unsigned integer values, but got 'memref<1x64x1x1xi1>'\n",
      "loc(\"mps_select\"(\"(mpsFileLoc): /AppleInternal/Library/BuildRoots/495c257e-668e-11ee-93ce-926038f30c31/Library/Caches/com.apple.xbs/Sources/MetalPerformanceShadersGraph/mpsgraph/MetalPerformanceShadersGraph/Core/Files/MPSGraphUtilities.mm\":294:0)): error: 'anec.gain_offset_control' op result #0 must be 4D/5D memref of 16-bit float or 8-bit signed integer or 8-bit unsigned integer values, but got 'memref<1x64x1x1xi1>'\n",
      "loc(\"mps_select\"(\"(mpsFileLoc): /AppleInternal/Library/BuildRoots/495c257e-668e-11ee-93ce-926038f30c31/Library/Caches/com.apple.xbs/Sources/MetalPerformanceShadersGraph/mpsgraph/MetalPerformanceShadersGraph/Core/Files/MPSGraphUtilities.mm\":294:0)): error: 'anec.gain_offset_control' op result #0 must be 4D/5D memref of 16-bit float or 8-bit signed integer or 8-bit unsigned integer values, but got 'memref<1x64x1x1xi1>'\n",
      "loc(\"mps_select\"(\"(mpsFileLoc): /AppleInternal/Library/BuildRoots/495c257e-668e-11ee-93ce-926038f30c31/Library/Caches/com.apple.xbs/Sources/MetalPerformanceShadersGraph/mpsgraph/MetalPerformanceShadersGraph/Core/Files/MPSGraphUtilities.mm\":294:0)): error: 'anec.gain_offset_control' op result #0 must be 4D/5D memref of 16-bit float or 8-bit signed integer or 8-bit unsigned integer values, but got 'memref<1x64x1x1xi1>'\n",
      "loc(\"mps_select\"(\"(mpsFileLoc): /AppleInternal/Library/BuildRoots/495c257e-668e-11ee-93ce-926038f30c31/Library/Caches/com.apple.xbs/Sources/MetalPerformanceShadersGraph/mpsgraph/MetalPerformanceShadersGraph/Core/Files/MPSGraphUtilities.mm\":294:0)): error: 'anec.gain_offset_control' op result #0 must be 4D/5D memref of 16-bit float or 8-bit signed integer or 8-bit unsigned integer values, but got 'memref<1x64x1x1xi1>'\n"
     ]
    },
    {
     "name": "stdout",
     "output_type": "stream",
     "text": [
      "144/145 [============================>.] - ETA: 0s - loss: 0.2039 - accuracy: 0.9255"
     ]
    },
    {
     "name": "stderr",
     "output_type": "stream",
     "text": [
      "loc(\"mps_select\"(\"(mpsFileLoc): /AppleInternal/Library/BuildRoots/495c257e-668e-11ee-93ce-926038f30c31/Library/Caches/com.apple.xbs/Sources/MetalPerformanceShadersGraph/mpsgraph/MetalPerformanceShadersGraph/Core/Files/MPSGraphUtilities.mm\":294:0)): error: 'anec.gain_offset_control' op result #0 must be 4D/5D memref of 16-bit float or 8-bit signed integer or 8-bit unsigned integer values, but got 'memref<1x46x1x1xi1>'\n",
      "loc(\"mps_select\"(\"(mpsFileLoc): /AppleInternal/Library/BuildRoots/495c257e-668e-11ee-93ce-926038f30c31/Library/Caches/com.apple.xbs/Sources/MetalPerformanceShadersGraph/mpsgraph/MetalPerformanceShadersGraph/Core/Files/MPSGraphUtilities.mm\":294:0)): error: 'anec.gain_offset_control' op result #0 must be 4D/5D memref of 16-bit float or 8-bit signed integer or 8-bit unsigned integer values, but got 'memref<1x46x1x1xi1>'\n",
      "loc(\"mps_select\"(\"(mpsFileLoc): /AppleInternal/Library/BuildRoots/495c257e-668e-11ee-93ce-926038f30c31/Library/Caches/com.apple.xbs/Sources/MetalPerformanceShadersGraph/mpsgraph/MetalPerformanceShadersGraph/Core/Files/MPSGraphUtilities.mm\":294:0)): error: 'anec.gain_offset_control' op result #0 must be 4D/5D memref of 16-bit float or 8-bit signed integer or 8-bit unsigned integer values, but got 'memref<1x46x1x1xi1>'\n",
      "loc(\"mps_select\"(\"(mpsFileLoc): /AppleInternal/Library/BuildRoots/495c257e-668e-11ee-93ce-926038f30c31/Library/Caches/com.apple.xbs/Sources/MetalPerformanceShadersGraph/mpsgraph/MetalPerformanceShadersGraph/Core/Files/MPSGraphUtilities.mm\":294:0)): error: 'anec.gain_offset_control' op result #0 must be 4D/5D memref of 16-bit float or 8-bit signed integer or 8-bit unsigned integer values, but got 'memref<1x46x1x1xi1>'\n",
      "loc(\"mps_select\"(\"(mpsFileLoc): /AppleInternal/Library/BuildRoots/495c257e-668e-11ee-93ce-926038f30c31/Library/Caches/com.apple.xbs/Sources/MetalPerformanceShadersGraph/mpsgraph/MetalPerformanceShadersGraph/Core/Files/MPSGraphUtilities.mm\":294:0)): error: 'anec.gain_offset_control' op result #0 must be 4D/5D memref of 16-bit float or 8-bit signed integer or 8-bit unsigned integer values, but got 'memref<1x46x1x1xi1>'\n"
     ]
    },
    {
     "name": "stdout",
     "output_type": "stream",
     "text": [
      "145/145 [==============================] - ETA: 0s - loss: 0.2033 - accuracy: 0.9255"
     ]
    },
    {
     "name": "stderr",
     "output_type": "stream",
     "text": [
      "2023-11-28 17:55:32.502644: I tensorflow/core/grappler/optimizers/custom_graph_optimizer_registry.cc:113] Plugin optimizer for device_type GPU is enabled.\n",
      "loc(\"mps_select\"(\"(mpsFileLoc): /AppleInternal/Library/BuildRoots/495c257e-668e-11ee-93ce-926038f30c31/Library/Caches/com.apple.xbs/Sources/MetalPerformanceShadersGraph/mpsgraph/MetalPerformanceShadersGraph/Core/Files/MPSGraphUtilities.mm\":294:0)): error: 'anec.gain_offset_control' op result #0 must be 4D/5D memref of 16-bit float or 8-bit signed integer or 8-bit unsigned integer values, but got 'memref<1x64x1x1xi1>'\n",
      "loc(\"mps_select\"(\"(mpsFileLoc): /AppleInternal/Library/BuildRoots/495c257e-668e-11ee-93ce-926038f30c31/Library/Caches/com.apple.xbs/Sources/MetalPerformanceShadersGraph/mpsgraph/MetalPerformanceShadersGraph/Core/Files/MPSGraphUtilities.mm\":294:0)): error: 'anec.gain_offset_control' op result #0 must be 4D/5D memref of 16-bit float or 8-bit signed integer or 8-bit unsigned integer values, but got 'memref<1x64x1x1xi1>'\n"
     ]
    },
    {
     "name": "stdout",
     "output_type": "stream",
     "text": [
      "\n",
      "Epoch 1: val_accuracy improved from -inf to 0.34370, saving model to E-classify/E-label_run5.h5\n",
      "145/145 [==============================] - 84s 552ms/step - loss: 0.2033 - accuracy: 0.9255 - val_loss: 4.4203 - val_accuracy: 0.3437 - lr: 0.0010\n",
      "Epoch 2/30\n"
     ]
    },
    {
     "name": "stderr",
     "output_type": "stream",
     "text": [
      "loc(\"mps_select\"(\"(mpsFileLoc): /AppleInternal/Library/BuildRoots/495c257e-668e-11ee-93ce-926038f30c31/Library/Caches/com.apple.xbs/Sources/MetalPerformanceShadersGraph/mpsgraph/MetalPerformanceShadersGraph/Core/Files/MPSGraphUtilities.mm\":294:0)): error: 'anec.gain_offset_control' op result #0 must be 4D/5D memref of 16-bit float or 8-bit signed integer or 8-bit unsigned integer values, but got 'memref<1x12x1x1xi1>'\n",
      "loc(\"mps_select\"(\"(mpsFileLoc): /AppleInternal/Library/BuildRoots/495c257e-668e-11ee-93ce-926038f30c31/Library/Caches/com.apple.xbs/Sources/MetalPerformanceShadersGraph/mpsgraph/MetalPerformanceShadersGraph/Core/Files/MPSGraphUtilities.mm\":294:0)): error: 'anec.gain_offset_control' op result #0 must be 4D/5D memref of 16-bit float or 8-bit signed integer or 8-bit unsigned integer values, but got 'memref<1x12x1x1xi1>'\n"
     ]
    },
    {
     "name": "stdout",
     "output_type": "stream",
     "text": [
      "145/145 [==============================] - ETA: 0s - loss: 0.1166 - accuracy: 0.9595\n",
      "Epoch 2: val_accuracy did not improve from 0.34370\n",
      "145/145 [==============================] - 80s 549ms/step - loss: 0.1166 - accuracy: 0.9595 - val_loss: 3.5444 - val_accuracy: 0.3437 - lr: 0.0010\n",
      "Epoch 3/30\n",
      "145/145 [==============================] - ETA: 0s - loss: 0.1021 - accuracy: 0.9626\n",
      "Epoch 3: val_accuracy did not improve from 0.34370\n",
      "145/145 [==============================] - 82s 566ms/step - loss: 0.1021 - accuracy: 0.9626 - val_loss: 2.3180 - val_accuracy: 0.3437 - lr: 0.0010\n",
      "Epoch 4/30\n",
      "145/145 [==============================] - ETA: 0s - loss: 0.0924 - accuracy: 0.9687\n",
      "Epoch 4: val_accuracy improved from 0.34370 to 0.65630, saving model to E-classify/E-label_run5.h5\n",
      "145/145 [==============================] - 83s 569ms/step - loss: 0.0924 - accuracy: 0.9687 - val_loss: 1.5085 - val_accuracy: 0.6563 - lr: 0.0010\n",
      "Epoch 5/30\n",
      "145/145 [==============================] - ETA: 0s - loss: 0.0849 - accuracy: 0.9700\n",
      "Epoch 5: val_accuracy improved from 0.65630 to 0.92573, saving model to E-classify/E-label_run5.h5\n",
      "145/145 [==============================] - 82s 569ms/step - loss: 0.0849 - accuracy: 0.9700 - val_loss: 0.1857 - val_accuracy: 0.9257 - lr: 0.0010\n",
      "Epoch 6/30\n",
      "145/145 [==============================] - ETA: 0s - loss: 0.0732 - accuracy: 0.9728\n",
      "Epoch 6: val_accuracy improved from 0.92573 to 0.95337, saving model to E-classify/E-label_run5.h5\n",
      "145/145 [==============================] - 80s 552ms/step - loss: 0.0732 - accuracy: 0.9728 - val_loss: 0.1369 - val_accuracy: 0.9534 - lr: 0.0010\n",
      "Epoch 7/30\n",
      "145/145 [==============================] - ETA: 0s - loss: 0.0706 - accuracy: 0.9769\n",
      "Epoch 7: val_accuracy did not improve from 0.95337\n",
      "145/145 [==============================] - 79s 542ms/step - loss: 0.0706 - accuracy: 0.9769 - val_loss: 0.2886 - val_accuracy: 0.8955 - lr: 0.0010\n",
      "Epoch 8/30\n",
      "145/145 [==============================] - ETA: 0s - loss: 0.0656 - accuracy: 0.9779\n",
      "Epoch 8: val_accuracy improved from 0.95337 to 0.95812, saving model to E-classify/E-label_run5.h5\n",
      "145/145 [==============================] - 81s 561ms/step - loss: 0.0656 - accuracy: 0.9779 - val_loss: 0.1520 - val_accuracy: 0.9581 - lr: 0.0010\n",
      "Epoch 9/30\n",
      "145/145 [==============================] - ETA: 0s - loss: 0.0551 - accuracy: 0.9806\n",
      "Epoch 9: val_accuracy did not improve from 0.95812\n",
      "145/145 [==============================] - 93s 640ms/step - loss: 0.0551 - accuracy: 0.9806 - val_loss: 0.1200 - val_accuracy: 0.9568 - lr: 0.0010\n",
      "Epoch 10/30\n",
      "145/145 [==============================] - ETA: 0s - loss: 0.0468 - accuracy: 0.9838\n",
      "Epoch 10: val_accuracy did not improve from 0.95812\n",
      "145/145 [==============================] - 81s 558ms/step - loss: 0.0468 - accuracy: 0.9838 - val_loss: 0.2239 - val_accuracy: 0.9266 - lr: 0.0010\n",
      "Epoch 11/30\n",
      "145/145 [==============================] - ETA: 0s - loss: 0.0511 - accuracy: 0.9822\n",
      "Epoch 11: val_accuracy did not improve from 0.95812\n",
      "145/145 [==============================] - 80s 551ms/step - loss: 0.0511 - accuracy: 0.9822 - val_loss: 0.1885 - val_accuracy: 0.9499 - lr: 0.0010\n",
      "Epoch 12/30\n",
      "145/145 [==============================] - ETA: 0s - loss: 0.0425 - accuracy: 0.9864\n",
      "Epoch 12: val_accuracy did not improve from 0.95812\n",
      "145/145 [==============================] - 78s 536ms/step - loss: 0.0425 - accuracy: 0.9864 - val_loss: 0.1407 - val_accuracy: 0.9495 - lr: 0.0010\n",
      "Epoch 13/30\n",
      "145/145 [==============================] - ETA: 0s - loss: 0.0362 - accuracy: 0.9886\n",
      "Epoch 13: val_accuracy did not improve from 0.95812\n",
      "145/145 [==============================] - 80s 549ms/step - loss: 0.0362 - accuracy: 0.9886 - val_loss: 0.1472 - val_accuracy: 0.9521 - lr: 0.0010\n",
      "Epoch 14/30\n",
      "145/145 [==============================] - ETA: 0s - loss: 0.0364 - accuracy: 0.9870\n",
      "Epoch 14: val_accuracy did not improve from 0.95812\n",
      "145/145 [==============================] - 79s 545ms/step - loss: 0.0364 - accuracy: 0.9870 - val_loss: 0.2749 - val_accuracy: 0.9400 - lr: 0.0010\n",
      "Epoch 15/30\n",
      "145/145 [==============================] - ETA: 0s - loss: 0.0561 - accuracy: 0.9806\n",
      "Epoch 15: val_accuracy did not improve from 0.95812\n",
      "145/145 [==============================] - 80s 551ms/step - loss: 0.0561 - accuracy: 0.9806 - val_loss: 0.1158 - val_accuracy: 0.9564 - lr: 0.0010\n",
      "Epoch 16/30\n",
      "145/145 [==============================] - ETA: 0s - loss: 0.0319 - accuracy: 0.9892\n",
      "Epoch 16: val_accuracy did not improve from 0.95812\n",
      "145/145 [==============================] - 79s 545ms/step - loss: 0.0319 - accuracy: 0.9892 - val_loss: 0.1694 - val_accuracy: 0.9465 - lr: 0.0010\n",
      "Epoch 17/30\n",
      "145/145 [==============================] - ETA: 0s - loss: 0.0235 - accuracy: 0.9913\n",
      "Epoch 17: val_accuracy did not improve from 0.95812\n",
      "145/145 [==============================] - 79s 546ms/step - loss: 0.0235 - accuracy: 0.9913 - val_loss: 0.1895 - val_accuracy: 0.9529 - lr: 0.0010\n",
      "Epoch 18/30\n",
      "145/145 [==============================] - ETA: 0s - loss: 0.0289 - accuracy: 0.9893\n",
      "Epoch 18: val_accuracy did not improve from 0.95812\n",
      "145/145 [==============================] - 80s 549ms/step - loss: 0.0289 - accuracy: 0.9893 - val_loss: 0.4834 - val_accuracy: 0.9059 - lr: 0.0010\n",
      "Epoch 19/30\n",
      "145/145 [==============================] - ETA: 0s - loss: 0.0153 - accuracy: 0.9957\n",
      "Epoch 19: val_accuracy did not improve from 0.95812\n",
      "145/145 [==============================] - 80s 556ms/step - loss: 0.0153 - accuracy: 0.9957 - val_loss: 0.1698 - val_accuracy: 0.9547 - lr: 1.0000e-04\n",
      "Epoch 20/30\n",
      "145/145 [==============================] - ETA: 0s - loss: 0.0035 - accuracy: 0.9998\n",
      "Epoch 20: val_accuracy did not improve from 0.95812\n",
      "145/145 [==============================] - 80s 551ms/step - loss: 0.0035 - accuracy: 0.9998 - val_loss: 0.1844 - val_accuracy: 0.9573 - lr: 1.0000e-04\n",
      "Epoch 21/30\n",
      "145/145 [==============================] - ETA: 0s - loss: 0.0020 - accuracy: 0.9998\n",
      "Epoch 21: val_accuracy did not improve from 0.95812\n",
      "145/145 [==============================] - 81s 559ms/step - loss: 0.0020 - accuracy: 0.9998 - val_loss: 0.1963 - val_accuracy: 0.9573 - lr: 1.0000e-04\n",
      "Epoch 22/30\n",
      "145/145 [==============================] - ETA: 0s - loss: 0.0014 - accuracy: 0.9999\n",
      "Epoch 22: val_accuracy improved from 0.95812 to 0.95855, saving model to E-classify/E-label_run5.h5\n",
      "145/145 [==============================] - 79s 544ms/step - loss: 0.0014 - accuracy: 0.9999 - val_loss: 0.2049 - val_accuracy: 0.9585 - lr: 1.0000e-04\n",
      "Epoch 23/30\n",
      "145/145 [==============================] - ETA: 0s - loss: 9.4758e-04 - accuracy: 0.9999\n",
      "Epoch 23: val_accuracy did not improve from 0.95855\n",
      "145/145 [==============================] - 78s 539ms/step - loss: 9.4758e-04 - accuracy: 0.9999 - val_loss: 0.2162 - val_accuracy: 0.9555 - lr: 1.0000e-04\n",
      "Epoch 24/30\n",
      "145/145 [==============================] - ETA: 0s - loss: 8.5946e-04 - accuracy: 0.9999\n",
      "Epoch 24: val_accuracy did not improve from 0.95855\n",
      "145/145 [==============================] - 80s 550ms/step - loss: 8.5946e-04 - accuracy: 0.9999 - val_loss: 0.2217 - val_accuracy: 0.9568 - lr: 1.0000e-04\n",
      "Epoch 25/30\n",
      "145/145 [==============================] - ETA: 0s - loss: 8.4381e-04 - accuracy: 0.9999\n",
      "Epoch 25: val_accuracy did not improve from 0.95855\n",
      "145/145 [==============================] - 77s 529ms/step - loss: 8.4381e-04 - accuracy: 0.9999 - val_loss: 0.2317 - val_accuracy: 0.9542 - lr: 1.0000e-04\n",
      "Epoch 26/30\n",
      "145/145 [==============================] - ETA: 0s - loss: 7.2824e-04 - accuracy: 0.9999\n",
      "Epoch 26: val_accuracy did not improve from 0.95855\n",
      "145/145 [==============================] - 80s 550ms/step - loss: 7.2824e-04 - accuracy: 0.9999 - val_loss: 0.2325 - val_accuracy: 0.9573 - lr: 1.0000e-04\n",
      "Epoch 27/30\n",
      "145/145 [==============================] - ETA: 0s - loss: 6.7685e-04 - accuracy: 0.9999\n",
      "Epoch 27: val_accuracy did not improve from 0.95855\n",
      "145/145 [==============================] - 79s 546ms/step - loss: 6.7685e-04 - accuracy: 0.9999 - val_loss: 0.2405 - val_accuracy: 0.9568 - lr: 1.0000e-04\n",
      "Epoch 28/30\n",
      "145/145 [==============================] - ETA: 0s - loss: 4.6601e-04 - accuracy: 0.9999\n",
      "Epoch 28: val_accuracy did not improve from 0.95855\n",
      "145/145 [==============================] - 78s 541ms/step - loss: 4.6601e-04 - accuracy: 0.9999 - val_loss: 0.2464 - val_accuracy: 0.9564 - lr: 1.0000e-04\n",
      "Epoch 29/30\n",
      "145/145 [==============================] - ETA: 0s - loss: 5.2377e-04 - accuracy: 0.9999\n",
      "Epoch 29: val_accuracy did not improve from 0.95855\n",
      "145/145 [==============================] - 79s 543ms/step - loss: 5.2377e-04 - accuracy: 0.9999 - val_loss: 0.2526 - val_accuracy: 0.9560 - lr: 1.0000e-04\n",
      "Epoch 30/30\n",
      "145/145 [==============================] - ETA: 0s - loss: 5.3409e-04 - accuracy: 0.9999\n",
      "Epoch 30: val_accuracy did not improve from 0.95855\n",
      "145/145 [==============================] - 79s 544ms/step - loss: 5.3409e-04 - accuracy: 0.9999 - val_loss: 0.2553 - val_accuracy: 0.9560 - lr: 1.0000e-04\n",
      "Epoch 1/30\n"
     ]
    },
    {
     "name": "stderr",
     "output_type": "stream",
     "text": [
      "2023-11-28 18:34:31.734281: I tensorflow/core/grappler/optimizers/custom_graph_optimizer_registry.cc:113] Plugin optimizer for device_type GPU is enabled.\n",
      "loc(\"mps_select\"(\"(mpsFileLoc): /AppleInternal/Library/BuildRoots/495c257e-668e-11ee-93ce-926038f30c31/Library/Caches/com.apple.xbs/Sources/MetalPerformanceShadersGraph/mpsgraph/MetalPerformanceShadersGraph/Core/Files/MPSGraphUtilities.mm\":294:0)): error: 'anec.gain_offset_control' op result #0 must be 4D/5D memref of 16-bit float or 8-bit signed integer or 8-bit unsigned integer values, but got 'memref<1x64x1x1xi1>'\n",
      "loc(\"mps_select\"(\"(mpsFileLoc): /AppleInternal/Library/BuildRoots/495c257e-668e-11ee-93ce-926038f30c31/Library/Caches/com.apple.xbs/Sources/MetalPerformanceShadersGraph/mpsgraph/MetalPerformanceShadersGraph/Core/Files/MPSGraphUtilities.mm\":294:0)): error: 'anec.gain_offset_control' op result #0 must be 4D/5D memref of 16-bit float or 8-bit signed integer or 8-bit unsigned integer values, but got 'memref<1x64x1x1xi1>'\n",
      "loc(\"mps_select\"(\"(mpsFileLoc): /AppleInternal/Library/BuildRoots/495c257e-668e-11ee-93ce-926038f30c31/Library/Caches/com.apple.xbs/Sources/MetalPerformanceShadersGraph/mpsgraph/MetalPerformanceShadersGraph/Core/Files/MPSGraphUtilities.mm\":294:0)): error: 'anec.gain_offset_control' op result #0 must be 4D/5D memref of 16-bit float or 8-bit signed integer or 8-bit unsigned integer values, but got 'memref<1x64x1x1xi1>'\n",
      "loc(\"mps_select\"(\"(mpsFileLoc): /AppleInternal/Library/BuildRoots/495c257e-668e-11ee-93ce-926038f30c31/Library/Caches/com.apple.xbs/Sources/MetalPerformanceShadersGraph/mpsgraph/MetalPerformanceShadersGraph/Core/Files/MPSGraphUtilities.mm\":294:0)): error: 'anec.gain_offset_control' op result #0 must be 4D/5D memref of 16-bit float or 8-bit signed integer or 8-bit unsigned integer values, but got 'memref<1x64x1x1xi1>'\n",
      "loc(\"mps_select\"(\"(mpsFileLoc): /AppleInternal/Library/BuildRoots/495c257e-668e-11ee-93ce-926038f30c31/Library/Caches/com.apple.xbs/Sources/MetalPerformanceShadersGraph/mpsgraph/MetalPerformanceShadersGraph/Core/Files/MPSGraphUtilities.mm\":294:0)): error: 'anec.gain_offset_control' op result #0 must be 4D/5D memref of 16-bit float or 8-bit signed integer or 8-bit unsigned integer values, but got 'memref<1x64x1x1xi1>'\n"
     ]
    },
    {
     "name": "stdout",
     "output_type": "stream",
     "text": [
      "144/145 [============================>.] - ETA: 0s - loss: 0.2204 - accuracy: 0.9124"
     ]
    },
    {
     "name": "stderr",
     "output_type": "stream",
     "text": [
      "loc(\"mps_select\"(\"(mpsFileLoc): /AppleInternal/Library/BuildRoots/495c257e-668e-11ee-93ce-926038f30c31/Library/Caches/com.apple.xbs/Sources/MetalPerformanceShadersGraph/mpsgraph/MetalPerformanceShadersGraph/Core/Files/MPSGraphUtilities.mm\":294:0)): error: 'anec.gain_offset_control' op result #0 must be 4D/5D memref of 16-bit float or 8-bit signed integer or 8-bit unsigned integer values, but got 'memref<1x46x1x1xi1>'\n",
      "loc(\"mps_select\"(\"(mpsFileLoc): /AppleInternal/Library/BuildRoots/495c257e-668e-11ee-93ce-926038f30c31/Library/Caches/com.apple.xbs/Sources/MetalPerformanceShadersGraph/mpsgraph/MetalPerformanceShadersGraph/Core/Files/MPSGraphUtilities.mm\":294:0)): error: 'anec.gain_offset_control' op result #0 must be 4D/5D memref of 16-bit float or 8-bit signed integer or 8-bit unsigned integer values, but got 'memref<1x46x1x1xi1>'\n",
      "loc(\"mps_select\"(\"(mpsFileLoc): /AppleInternal/Library/BuildRoots/495c257e-668e-11ee-93ce-926038f30c31/Library/Caches/com.apple.xbs/Sources/MetalPerformanceShadersGraph/mpsgraph/MetalPerformanceShadersGraph/Core/Files/MPSGraphUtilities.mm\":294:0)): error: 'anec.gain_offset_control' op result #0 must be 4D/5D memref of 16-bit float or 8-bit signed integer or 8-bit unsigned integer values, but got 'memref<1x46x1x1xi1>'\n",
      "loc(\"mps_select\"(\"(mpsFileLoc): /AppleInternal/Library/BuildRoots/495c257e-668e-11ee-93ce-926038f30c31/Library/Caches/com.apple.xbs/Sources/MetalPerformanceShadersGraph/mpsgraph/MetalPerformanceShadersGraph/Core/Files/MPSGraphUtilities.mm\":294:0)): error: 'anec.gain_offset_control' op result #0 must be 4D/5D memref of 16-bit float or 8-bit signed integer or 8-bit unsigned integer values, but got 'memref<1x46x1x1xi1>'\n",
      "loc(\"mps_select\"(\"(mpsFileLoc): /AppleInternal/Library/BuildRoots/495c257e-668e-11ee-93ce-926038f30c31/Library/Caches/com.apple.xbs/Sources/MetalPerformanceShadersGraph/mpsgraph/MetalPerformanceShadersGraph/Core/Files/MPSGraphUtilities.mm\":294:0)): error: 'anec.gain_offset_control' op result #0 must be 4D/5D memref of 16-bit float or 8-bit signed integer or 8-bit unsigned integer values, but got 'memref<1x46x1x1xi1>'\n"
     ]
    },
    {
     "name": "stdout",
     "output_type": "stream",
     "text": [
      "145/145 [==============================] - ETA: 0s - loss: 0.2201 - accuracy: 0.9125"
     ]
    },
    {
     "name": "stderr",
     "output_type": "stream",
     "text": [
      "2023-11-28 18:35:23.117228: I tensorflow/core/grappler/optimizers/custom_graph_optimizer_registry.cc:113] Plugin optimizer for device_type GPU is enabled.\n",
      "loc(\"mps_select\"(\"(mpsFileLoc): /AppleInternal/Library/BuildRoots/495c257e-668e-11ee-93ce-926038f30c31/Library/Caches/com.apple.xbs/Sources/MetalPerformanceShadersGraph/mpsgraph/MetalPerformanceShadersGraph/Core/Files/MPSGraphUtilities.mm\":294:0)): error: 'anec.gain_offset_control' op result #0 must be 4D/5D memref of 16-bit float or 8-bit signed integer or 8-bit unsigned integer values, but got 'memref<1x64x1x1xi1>'\n",
      "loc(\"mps_select\"(\"(mpsFileLoc): /AppleInternal/Library/BuildRoots/495c257e-668e-11ee-93ce-926038f30c31/Library/Caches/com.apple.xbs/Sources/MetalPerformanceShadersGraph/mpsgraph/MetalPerformanceShadersGraph/Core/Files/MPSGraphUtilities.mm\":294:0)): error: 'anec.gain_offset_control' op result #0 must be 4D/5D memref of 16-bit float or 8-bit signed integer or 8-bit unsigned integer values, but got 'memref<1x64x1x1xi1>'\n"
     ]
    },
    {
     "name": "stdout",
     "output_type": "stream",
     "text": [
      "\n",
      "Epoch 1: val_accuracy improved from -inf to 0.34370, saving model to E-classify/E-label_run6.h5\n",
      "145/145 [==============================] - 64s 407ms/step - loss: 0.2201 - accuracy: 0.9125 - val_loss: 2.7409 - val_accuracy: 0.3437 - lr: 0.0010\n",
      "Epoch 2/30\n"
     ]
    },
    {
     "name": "stderr",
     "output_type": "stream",
     "text": [
      "loc(\"mps_select\"(\"(mpsFileLoc): /AppleInternal/Library/BuildRoots/495c257e-668e-11ee-93ce-926038f30c31/Library/Caches/com.apple.xbs/Sources/MetalPerformanceShadersGraph/mpsgraph/MetalPerformanceShadersGraph/Core/Files/MPSGraphUtilities.mm\":294:0)): error: 'anec.gain_offset_control' op result #0 must be 4D/5D memref of 16-bit float or 8-bit signed integer or 8-bit unsigned integer values, but got 'memref<1x12x1x1xi1>'\n",
      "loc(\"mps_select\"(\"(mpsFileLoc): /AppleInternal/Library/BuildRoots/495c257e-668e-11ee-93ce-926038f30c31/Library/Caches/com.apple.xbs/Sources/MetalPerformanceShadersGraph/mpsgraph/MetalPerformanceShadersGraph/Core/Files/MPSGraphUtilities.mm\":294:0)): error: 'anec.gain_offset_control' op result #0 must be 4D/5D memref of 16-bit float or 8-bit signed integer or 8-bit unsigned integer values, but got 'memref<1x12x1x1xi1>'\n"
     ]
    },
    {
     "name": "stdout",
     "output_type": "stream",
     "text": [
      "145/145 [==============================] - ETA: 0s - loss: 0.1229 - accuracy: 0.9584\n",
      "Epoch 2: val_accuracy did not improve from 0.34370\n",
      "145/145 [==============================] - 66s 453ms/step - loss: 0.1229 - accuracy: 0.9584 - val_loss: 2.2283 - val_accuracy: 0.3437 - lr: 0.0010\n",
      "Epoch 3/30\n",
      "145/145 [==============================] - ETA: 0s - loss: 0.0985 - accuracy: 0.9640\n",
      "Epoch 3: val_accuracy improved from 0.34370 to 0.45639, saving model to E-classify/E-label_run6.h5\n",
      "145/145 [==============================] - 67s 460ms/step - loss: 0.0985 - accuracy: 0.9640 - val_loss: 0.7528 - val_accuracy: 0.4564 - lr: 0.0010\n",
      "Epoch 4/30\n",
      "145/145 [==============================] - ETA: 0s - loss: 0.0951 - accuracy: 0.9670\n",
      "Epoch 4: val_accuracy improved from 0.45639 to 0.91321, saving model to E-classify/E-label_run6.h5\n",
      "145/145 [==============================] - 66s 457ms/step - loss: 0.0951 - accuracy: 0.9670 - val_loss: 0.3425 - val_accuracy: 0.9132 - lr: 0.0010\n",
      "Epoch 5/30\n",
      "145/145 [==============================] - ETA: 0s - loss: 0.0811 - accuracy: 0.9724\n",
      "Epoch 5: val_accuracy improved from 0.91321 to 0.92962, saving model to E-classify/E-label_run6.h5\n",
      "145/145 [==============================] - 66s 452ms/step - loss: 0.0811 - accuracy: 0.9724 - val_loss: 0.1888 - val_accuracy: 0.9296 - lr: 0.0010\n",
      "Epoch 6/30\n",
      "145/145 [==============================] - ETA: 0s - loss: 0.0739 - accuracy: 0.9744\n",
      "Epoch 6: val_accuracy improved from 0.92962 to 0.96416, saving model to E-classify/E-label_run6.h5\n",
      "145/145 [==============================] - 66s 452ms/step - loss: 0.0739 - accuracy: 0.9744 - val_loss: 0.1153 - val_accuracy: 0.9642 - lr: 0.0010\n",
      "Epoch 7/30\n",
      "145/145 [==============================] - ETA: 0s - loss: 0.0661 - accuracy: 0.9766\n",
      "Epoch 7: val_accuracy did not improve from 0.96416\n",
      "145/145 [==============================] - 65s 446ms/step - loss: 0.0661 - accuracy: 0.9766 - val_loss: 0.1538 - val_accuracy: 0.9547 - lr: 0.0010\n",
      "Epoch 8/30\n",
      "145/145 [==============================] - ETA: 0s - loss: 0.0661 - accuracy: 0.9778\n",
      "Epoch 8: val_accuracy did not improve from 0.96416\n",
      "145/145 [==============================] - 64s 441ms/step - loss: 0.0661 - accuracy: 0.9778 - val_loss: 0.1178 - val_accuracy: 0.9573 - lr: 0.0010\n",
      "Epoch 9/30\n",
      "145/145 [==============================] - ETA: 0s - loss: 0.0589 - accuracy: 0.9789\n",
      "Epoch 9: val_accuracy did not improve from 0.96416\n",
      "145/145 [==============================] - 65s 451ms/step - loss: 0.0589 - accuracy: 0.9789 - val_loss: 0.1523 - val_accuracy: 0.9564 - lr: 0.0010\n",
      "Epoch 10/30\n",
      "145/145 [==============================] - ETA: 0s - loss: 0.0643 - accuracy: 0.9762\n",
      "Epoch 10: val_accuracy did not improve from 0.96416\n",
      "145/145 [==============================] - 66s 454ms/step - loss: 0.0643 - accuracy: 0.9762 - val_loss: 0.1320 - val_accuracy: 0.9611 - lr: 0.0010\n",
      "Epoch 11/30\n",
      "145/145 [==============================] - ETA: 0s - loss: 0.0418 - accuracy: 0.9851\n",
      "Epoch 11: val_accuracy did not improve from 0.96416\n",
      "145/145 [==============================] - 65s 446ms/step - loss: 0.0418 - accuracy: 0.9851 - val_loss: 0.1526 - val_accuracy: 0.9564 - lr: 0.0010\n",
      "Epoch 12/30\n",
      "145/145 [==============================] - ETA: 0s - loss: 0.0396 - accuracy: 0.9862\n",
      "Epoch 12: val_accuracy did not improve from 0.96416\n",
      "145/145 [==============================] - 67s 459ms/step - loss: 0.0396 - accuracy: 0.9862 - val_loss: 0.1874 - val_accuracy: 0.9555 - lr: 0.0010\n",
      "Epoch 13/30\n",
      "145/145 [==============================] - ETA: 0s - loss: 0.0371 - accuracy: 0.9868\n",
      "Epoch 13: val_accuracy did not improve from 0.96416\n",
      "145/145 [==============================] - 82s 565ms/step - loss: 0.0371 - accuracy: 0.9868 - val_loss: 0.1619 - val_accuracy: 0.9590 - lr: 0.0010\n",
      "Epoch 14/30\n",
      "145/145 [==============================] - ETA: 0s - loss: 0.0402 - accuracy: 0.9849\n",
      "Epoch 14: val_accuracy did not improve from 0.96416\n",
      "145/145 [==============================] - 63s 435ms/step - loss: 0.0402 - accuracy: 0.9849 - val_loss: 0.1424 - val_accuracy: 0.9637 - lr: 0.0010\n",
      "Epoch 15/30\n",
      "145/145 [==============================] - ETA: 0s - loss: 0.0299 - accuracy: 0.9877\n",
      "Epoch 15: val_accuracy did not improve from 0.96416\n",
      "145/145 [==============================] - 64s 442ms/step - loss: 0.0299 - accuracy: 0.9877 - val_loss: 0.1635 - val_accuracy: 0.9577 - lr: 0.0010\n",
      "Epoch 16/30\n",
      "145/145 [==============================] - ETA: 0s - loss: 0.0214 - accuracy: 0.9923\n",
      "Epoch 16: val_accuracy did not improve from 0.96416\n",
      "145/145 [==============================] - 66s 452ms/step - loss: 0.0214 - accuracy: 0.9923 - val_loss: 0.2072 - val_accuracy: 0.9585 - lr: 0.0010\n",
      "Epoch 17/30\n",
      "145/145 [==============================] - ETA: 0s - loss: 0.0076 - accuracy: 0.9974\n",
      "Epoch 17: val_accuracy did not improve from 0.96416\n",
      "145/145 [==============================] - 65s 447ms/step - loss: 0.0076 - accuracy: 0.9974 - val_loss: 0.1889 - val_accuracy: 0.9585 - lr: 1.0000e-04\n",
      "Epoch 18/30\n",
      "145/145 [==============================] - ETA: 0s - loss: 0.0025 - accuracy: 0.9995\n",
      "Epoch 18: val_accuracy did not improve from 0.96416\n",
      "145/145 [==============================] - 74s 508ms/step - loss: 0.0025 - accuracy: 0.9995 - val_loss: 0.2035 - val_accuracy: 0.9598 - lr: 1.0000e-04\n",
      "Epoch 19/30\n",
      "145/145 [==============================] - ETA: 0s - loss: 0.0015 - accuracy: 0.9998\n",
      "Epoch 19: val_accuracy did not improve from 0.96416\n",
      "145/145 [==============================] - 75s 516ms/step - loss: 0.0015 - accuracy: 0.9998 - val_loss: 0.2142 - val_accuracy: 0.9594 - lr: 1.0000e-04\n",
      "Epoch 20/30\n",
      "145/145 [==============================] - ETA: 0s - loss: 0.0013 - accuracy: 0.9998\n",
      "Epoch 20: val_accuracy did not improve from 0.96416\n",
      "145/145 [==============================] - 63s 435ms/step - loss: 0.0013 - accuracy: 0.9998 - val_loss: 0.2220 - val_accuracy: 0.9607 - lr: 1.0000e-04\n",
      "Epoch 21/30\n",
      "145/145 [==============================] - ETA: 0s - loss: 0.0011 - accuracy: 0.9998\n",
      "Epoch 21: val_accuracy did not improve from 0.96416\n",
      "145/145 [==============================] - 64s 440ms/step - loss: 0.0011 - accuracy: 0.9998 - val_loss: 0.2317 - val_accuracy: 0.9607 - lr: 1.0000e-04\n",
      "Epoch 22/30\n",
      "145/145 [==============================] - ETA: 0s - loss: 9.0840e-04 - accuracy: 0.9998\n",
      "Epoch 22: val_accuracy did not improve from 0.96416\n",
      "145/145 [==============================] - 63s 432ms/step - loss: 9.0840e-04 - accuracy: 0.9998 - val_loss: 0.2380 - val_accuracy: 0.9603 - lr: 1.0000e-04\n",
      "Epoch 23/30\n",
      "145/145 [==============================] - ETA: 0s - loss: 0.0012 - accuracy: 0.9997\n",
      "Epoch 23: val_accuracy did not improve from 0.96416\n",
      "145/145 [==============================] - 63s 433ms/step - loss: 0.0012 - accuracy: 0.9997 - val_loss: 0.2419 - val_accuracy: 0.9598 - lr: 1.0000e-04\n",
      "Epoch 24/30\n",
      "145/145 [==============================] - ETA: 0s - loss: 8.3589e-04 - accuracy: 0.9998\n",
      "Epoch 24: val_accuracy did not improve from 0.96416\n",
      "145/145 [==============================] - 64s 438ms/step - loss: 8.3589e-04 - accuracy: 0.9998 - val_loss: 0.2496 - val_accuracy: 0.9598 - lr: 1.0000e-04\n",
      "Epoch 25/30\n",
      "145/145 [==============================] - ETA: 0s - loss: 7.8514e-04 - accuracy: 0.9998\n",
      "Epoch 25: val_accuracy did not improve from 0.96416\n",
      "145/145 [==============================] - 63s 433ms/step - loss: 7.8514e-04 - accuracy: 0.9998 - val_loss: 0.2519 - val_accuracy: 0.9598 - lr: 1.0000e-04\n",
      "Epoch 26/30\n",
      "145/145 [==============================] - ETA: 0s - loss: 9.5624e-04 - accuracy: 0.9997\n",
      "Epoch 26: val_accuracy did not improve from 0.96416\n",
      "145/145 [==============================] - 62s 430ms/step - loss: 9.5624e-04 - accuracy: 0.9997 - val_loss: 0.2579 - val_accuracy: 0.9603 - lr: 1.0000e-04\n",
      "Epoch 27/30\n",
      "145/145 [==============================] - ETA: 0s - loss: 7.7827e-04 - accuracy: 0.9998\n",
      "Epoch 27: val_accuracy did not improve from 0.96416\n",
      "145/145 [==============================] - 63s 438ms/step - loss: 7.7827e-04 - accuracy: 0.9998 - val_loss: 0.2582 - val_accuracy: 0.9598 - lr: 1.0000e-05\n",
      "Epoch 28/30\n",
      "145/145 [==============================] - ETA: 0s - loss: 6.8447e-04 - accuracy: 0.9998\n",
      "Epoch 28: val_accuracy did not improve from 0.96416\n",
      "145/145 [==============================] - 64s 442ms/step - loss: 6.8447e-04 - accuracy: 0.9998 - val_loss: 0.2592 - val_accuracy: 0.9598 - lr: 1.0000e-05\n",
      "Epoch 29/30\n",
      "145/145 [==============================] - ETA: 0s - loss: 8.6087e-04 - accuracy: 0.9997\n",
      "Epoch 29: val_accuracy did not improve from 0.96416\n",
      "145/145 [==============================] - 65s 450ms/step - loss: 8.6087e-04 - accuracy: 0.9997 - val_loss: 0.2599 - val_accuracy: 0.9594 - lr: 1.0000e-05\n",
      "Epoch 30/30\n",
      "145/145 [==============================] - ETA: 0s - loss: 9.0150e-04 - accuracy: 0.9998\n",
      "Epoch 30: val_accuracy did not improve from 0.96416\n",
      "145/145 [==============================] - 63s 437ms/step - loss: 9.0150e-04 - accuracy: 0.9998 - val_loss: 0.2605 - val_accuracy: 0.9594 - lr: 1.0000e-05\n",
      "Epoch 1/30\n"
     ]
    },
    {
     "name": "stderr",
     "output_type": "stream",
     "text": [
      "2023-11-28 19:07:25.996859: I tensorflow/core/grappler/optimizers/custom_graph_optimizer_registry.cc:113] Plugin optimizer for device_type GPU is enabled.\n",
      "loc(\"mps_select\"(\"(mpsFileLoc): /AppleInternal/Library/BuildRoots/495c257e-668e-11ee-93ce-926038f30c31/Library/Caches/com.apple.xbs/Sources/MetalPerformanceShadersGraph/mpsgraph/MetalPerformanceShadersGraph/Core/Files/MPSGraphUtilities.mm\":294:0)): error: 'anec.gain_offset_control' op result #0 must be 4D/5D memref of 16-bit float or 8-bit signed integer or 8-bit unsigned integer values, but got 'memref<1x64x1x1xi1>'\n",
      "loc(\"mps_select\"(\"(mpsFileLoc): /AppleInternal/Library/BuildRoots/495c257e-668e-11ee-93ce-926038f30c31/Library/Caches/com.apple.xbs/Sources/MetalPerformanceShadersGraph/mpsgraph/MetalPerformanceShadersGraph/Core/Files/MPSGraphUtilities.mm\":294:0)): error: 'anec.gain_offset_control' op result #0 must be 4D/5D memref of 16-bit float or 8-bit signed integer or 8-bit unsigned integer values, but got 'memref<1x64x1x1xi1>'\n",
      "loc(\"mps_select\"(\"(mpsFileLoc): /AppleInternal/Library/BuildRoots/495c257e-668e-11ee-93ce-926038f30c31/Library/Caches/com.apple.xbs/Sources/MetalPerformanceShadersGraph/mpsgraph/MetalPerformanceShadersGraph/Core/Files/MPSGraphUtilities.mm\":294:0)): error: 'anec.gain_offset_control' op result #0 must be 4D/5D memref of 16-bit float or 8-bit signed integer or 8-bit unsigned integer values, but got 'memref<1x64x1x1xi1>'\n",
      "loc(\"mps_select\"(\"(mpsFileLoc): /AppleInternal/Library/BuildRoots/495c257e-668e-11ee-93ce-926038f30c31/Library/Caches/com.apple.xbs/Sources/MetalPerformanceShadersGraph/mpsgraph/MetalPerformanceShadersGraph/Core/Files/MPSGraphUtilities.mm\":294:0)): error: 'anec.gain_offset_control' op result #0 must be 4D/5D memref of 16-bit float or 8-bit signed integer or 8-bit unsigned integer values, but got 'memref<1x64x1x1xi1>'\n",
      "loc(\"mps_select\"(\"(mpsFileLoc): /AppleInternal/Library/BuildRoots/495c257e-668e-11ee-93ce-926038f30c31/Library/Caches/com.apple.xbs/Sources/MetalPerformanceShadersGraph/mpsgraph/MetalPerformanceShadersGraph/Core/Files/MPSGraphUtilities.mm\":294:0)): error: 'anec.gain_offset_control' op result #0 must be 4D/5D memref of 16-bit float or 8-bit signed integer or 8-bit unsigned integer values, but got 'memref<1x64x1x1xi1>'\n"
     ]
    },
    {
     "name": "stdout",
     "output_type": "stream",
     "text": [
      "144/145 [============================>.] - ETA: 0s - loss: 0.2085 - accuracy: 0.9179"
     ]
    },
    {
     "name": "stderr",
     "output_type": "stream",
     "text": [
      "loc(\"mps_select\"(\"(mpsFileLoc): /AppleInternal/Library/BuildRoots/495c257e-668e-11ee-93ce-926038f30c31/Library/Caches/com.apple.xbs/Sources/MetalPerformanceShadersGraph/mpsgraph/MetalPerformanceShadersGraph/Core/Files/MPSGraphUtilities.mm\":294:0)): error: 'anec.gain_offset_control' op result #0 must be 4D/5D memref of 16-bit float or 8-bit signed integer or 8-bit unsigned integer values, but got 'memref<1x46x1x1xi1>'\n",
      "loc(\"mps_select\"(\"(mpsFileLoc): /AppleInternal/Library/BuildRoots/495c257e-668e-11ee-93ce-926038f30c31/Library/Caches/com.apple.xbs/Sources/MetalPerformanceShadersGraph/mpsgraph/MetalPerformanceShadersGraph/Core/Files/MPSGraphUtilities.mm\":294:0)): error: 'anec.gain_offset_control' op result #0 must be 4D/5D memref of 16-bit float or 8-bit signed integer or 8-bit unsigned integer values, but got 'memref<1x46x1x1xi1>'\n",
      "loc(\"mps_select\"(\"(mpsFileLoc): /AppleInternal/Library/BuildRoots/495c257e-668e-11ee-93ce-926038f30c31/Library/Caches/com.apple.xbs/Sources/MetalPerformanceShadersGraph/mpsgraph/MetalPerformanceShadersGraph/Core/Files/MPSGraphUtilities.mm\":294:0)): error: 'anec.gain_offset_control' op result #0 must be 4D/5D memref of 16-bit float or 8-bit signed integer or 8-bit unsigned integer values, but got 'memref<1x46x1x1xi1>'\n",
      "loc(\"mps_select\"(\"(mpsFileLoc): /AppleInternal/Library/BuildRoots/495c257e-668e-11ee-93ce-926038f30c31/Library/Caches/com.apple.xbs/Sources/MetalPerformanceShadersGraph/mpsgraph/MetalPerformanceShadersGraph/Core/Files/MPSGraphUtilities.mm\":294:0)): error: 'anec.gain_offset_control' op result #0 must be 4D/5D memref of 16-bit float or 8-bit signed integer or 8-bit unsigned integer values, but got 'memref<1x46x1x1xi1>'\n",
      "loc(\"mps_select\"(\"(mpsFileLoc): /AppleInternal/Library/BuildRoots/495c257e-668e-11ee-93ce-926038f30c31/Library/Caches/com.apple.xbs/Sources/MetalPerformanceShadersGraph/mpsgraph/MetalPerformanceShadersGraph/Core/Files/MPSGraphUtilities.mm\":294:0)): error: 'anec.gain_offset_control' op result #0 must be 4D/5D memref of 16-bit float or 8-bit signed integer or 8-bit unsigned integer values, but got 'memref<1x46x1x1xi1>'\n"
     ]
    },
    {
     "name": "stdout",
     "output_type": "stream",
     "text": [
      "145/145 [==============================] - ETA: 0s - loss: 0.2077 - accuracy: 0.9182"
     ]
    },
    {
     "name": "stderr",
     "output_type": "stream",
     "text": [
      "2023-11-28 19:08:39.497240: I tensorflow/core/grappler/optimizers/custom_graph_optimizer_registry.cc:113] Plugin optimizer for device_type GPU is enabled.\n",
      "loc(\"mps_select\"(\"(mpsFileLoc): /AppleInternal/Library/BuildRoots/495c257e-668e-11ee-93ce-926038f30c31/Library/Caches/com.apple.xbs/Sources/MetalPerformanceShadersGraph/mpsgraph/MetalPerformanceShadersGraph/Core/Files/MPSGraphUtilities.mm\":294:0)): error: 'anec.gain_offset_control' op result #0 must be 4D/5D memref of 16-bit float or 8-bit signed integer or 8-bit unsigned integer values, but got 'memref<1x64x1x1xi1>'\n",
      "loc(\"mps_select\"(\"(mpsFileLoc): /AppleInternal/Library/BuildRoots/495c257e-668e-11ee-93ce-926038f30c31/Library/Caches/com.apple.xbs/Sources/MetalPerformanceShadersGraph/mpsgraph/MetalPerformanceShadersGraph/Core/Files/MPSGraphUtilities.mm\":294:0)): error: 'anec.gain_offset_control' op result #0 must be 4D/5D memref of 16-bit float or 8-bit signed integer or 8-bit unsigned integer values, but got 'memref<1x64x1x1xi1>'\n"
     ]
    },
    {
     "name": "stdout",
     "output_type": "stream",
     "text": [
      "\n",
      "Epoch 1: val_accuracy improved from -inf to 0.34370, saving model to E-classify/E-label_run7.h5\n"
     ]
    },
    {
     "name": "stderr",
     "output_type": "stream",
     "text": [
      "loc(\"mps_select\"(\"(mpsFileLoc): /AppleInternal/Library/BuildRoots/495c257e-668e-11ee-93ce-926038f30c31/Library/Caches/com.apple.xbs/Sources/MetalPerformanceShadersGraph/mpsgraph/MetalPerformanceShadersGraph/Core/Files/MPSGraphUtilities.mm\":294:0)): error: 'anec.gain_offset_control' op result #0 must be 4D/5D memref of 16-bit float or 8-bit signed integer or 8-bit unsigned integer values, but got 'memref<1x12x1x1xi1>'\n",
      "loc(\"mps_select\"(\"(mpsFileLoc): /AppleInternal/Library/BuildRoots/495c257e-668e-11ee-93ce-926038f30c31/Library/Caches/com.apple.xbs/Sources/MetalPerformanceShadersGraph/mpsgraph/MetalPerformanceShadersGraph/Core/Files/MPSGraphUtilities.mm\":294:0)): error: 'anec.gain_offset_control' op result #0 must be 4D/5D memref of 16-bit float or 8-bit signed integer or 8-bit unsigned integer values, but got 'memref<1x12x1x1xi1>'\n"
     ]
    },
    {
     "name": "stdout",
     "output_type": "stream",
     "text": [
      "145/145 [==============================] - 84s 553ms/step - loss: 0.2077 - accuracy: 0.9182 - val_loss: 2.3655 - val_accuracy: 0.3437 - lr: 0.0010\n",
      "Epoch 2/30\n",
      "145/145 [==============================] - ETA: 0s - loss: 0.1111 - accuracy: 0.9624\n",
      "Epoch 2: val_accuracy did not improve from 0.34370\n",
      "145/145 [==============================] - 80s 550ms/step - loss: 0.1111 - accuracy: 0.9624 - val_loss: 2.1657 - val_accuracy: 0.3437 - lr: 0.0010\n",
      "Epoch 3/30\n",
      "145/145 [==============================] - ETA: 0s - loss: 0.0939 - accuracy: 0.9686\n",
      "Epoch 3: val_accuracy improved from 0.34370 to 0.43610, saving model to E-classify/E-label_run7.h5\n",
      "145/145 [==============================] - 81s 561ms/step - loss: 0.0939 - accuracy: 0.9686 - val_loss: 0.8904 - val_accuracy: 0.4361 - lr: 0.0010\n",
      "Epoch 4/30\n",
      "145/145 [==============================] - ETA: 0s - loss: 0.0844 - accuracy: 0.9696\n",
      "Epoch 4: val_accuracy improved from 0.43610 to 0.90846, saving model to E-classify/E-label_run7.h5\n",
      "145/145 [==============================] - 79s 545ms/step - loss: 0.0844 - accuracy: 0.9696 - val_loss: 0.2925 - val_accuracy: 0.9085 - lr: 0.0010\n",
      "Epoch 5/30\n",
      "145/145 [==============================] - ETA: 0s - loss: 0.0744 - accuracy: 0.9737\n",
      "Epoch 5: val_accuracy improved from 0.90846 to 0.94991, saving model to E-classify/E-label_run7.h5\n",
      "145/145 [==============================] - 81s 556ms/step - loss: 0.0744 - accuracy: 0.9737 - val_loss: 0.1974 - val_accuracy: 0.9499 - lr: 0.0010\n",
      "Epoch 6/30\n",
      "145/145 [==============================] - ETA: 0s - loss: 0.0707 - accuracy: 0.9752\n",
      "Epoch 6: val_accuracy did not improve from 0.94991\n",
      "145/145 [==============================] - 83s 571ms/step - loss: 0.0707 - accuracy: 0.9752 - val_loss: 0.1517 - val_accuracy: 0.9499 - lr: 0.0010\n",
      "Epoch 7/30\n",
      "145/145 [==============================] - ETA: 0s - loss: 0.0745 - accuracy: 0.9747\n",
      "Epoch 7: val_accuracy did not improve from 0.94991\n",
      "145/145 [==============================] - 79s 549ms/step - loss: 0.0745 - accuracy: 0.9747 - val_loss: 0.2171 - val_accuracy: 0.9460 - lr: 0.0010\n",
      "Epoch 8/30\n",
      "145/145 [==============================] - ETA: 0s - loss: 0.0556 - accuracy: 0.9794\n",
      "Epoch 8: val_accuracy did not improve from 0.94991\n",
      "145/145 [==============================] - 80s 551ms/step - loss: 0.0556 - accuracy: 0.9794 - val_loss: 0.2076 - val_accuracy: 0.9417 - lr: 0.0010\n",
      "Epoch 9/30\n",
      "145/145 [==============================] - ETA: 0s - loss: 0.0551 - accuracy: 0.9810\n",
      "Epoch 9: val_accuracy did not improve from 0.94991\n",
      "145/145 [==============================] - 79s 548ms/step - loss: 0.0551 - accuracy: 0.9810 - val_loss: 0.1608 - val_accuracy: 0.9456 - lr: 0.0010\n",
      "Epoch 10/30\n",
      "145/145 [==============================] - ETA: 0s - loss: 0.0515 - accuracy: 0.9818\n",
      "Epoch 10: val_accuracy improved from 0.94991 to 0.95207, saving model to E-classify/E-label_run7.h5\n",
      "145/145 [==============================] - 79s 543ms/step - loss: 0.0515 - accuracy: 0.9818 - val_loss: 0.1505 - val_accuracy: 0.9521 - lr: 0.0010\n",
      "Epoch 11/30\n",
      "145/145 [==============================] - ETA: 0s - loss: 0.0382 - accuracy: 0.9859\n",
      "Epoch 11: val_accuracy did not improve from 0.95207\n",
      "145/145 [==============================] - 77s 533ms/step - loss: 0.0382 - accuracy: 0.9859 - val_loss: 0.2134 - val_accuracy: 0.9486 - lr: 0.0010\n",
      "Epoch 12/30\n",
      "145/145 [==============================] - ETA: 0s - loss: 0.0612 - accuracy: 0.9779\n",
      "Epoch 12: val_accuracy did not improve from 0.95207\n",
      "145/145 [==============================] - 76s 522ms/step - loss: 0.0612 - accuracy: 0.9779 - val_loss: 0.2855 - val_accuracy: 0.9141 - lr: 0.0010\n",
      "Epoch 13/30\n",
      "145/145 [==============================] - ETA: 0s - loss: 0.0479 - accuracy: 0.9826\n",
      "Epoch 13: val_accuracy did not improve from 0.95207\n",
      "145/145 [==============================] - 76s 527ms/step - loss: 0.0479 - accuracy: 0.9826 - val_loss: 0.1605 - val_accuracy: 0.9512 - lr: 0.0010\n",
      "Epoch 14/30\n",
      "145/145 [==============================] - ETA: 0s - loss: 0.0360 - accuracy: 0.9877\n",
      "Epoch 14: val_accuracy improved from 0.95207 to 0.95509, saving model to E-classify/E-label_run7.h5\n",
      "145/145 [==============================] - 77s 535ms/step - loss: 0.0360 - accuracy: 0.9877 - val_loss: 0.1693 - val_accuracy: 0.9551 - lr: 0.0010\n",
      "Epoch 15/30\n",
      "145/145 [==============================] - ETA: 0s - loss: 0.0388 - accuracy: 0.9852\n",
      "Epoch 15: val_accuracy did not improve from 0.95509\n",
      "145/145 [==============================] - 78s 536ms/step - loss: 0.0388 - accuracy: 0.9852 - val_loss: 0.1543 - val_accuracy: 0.9521 - lr: 0.0010\n",
      "Epoch 16/30\n",
      "145/145 [==============================] - ETA: 0s - loss: 0.0274 - accuracy: 0.9917\n",
      "Epoch 16: val_accuracy did not improve from 0.95509\n",
      "145/145 [==============================] - 77s 531ms/step - loss: 0.0274 - accuracy: 0.9917 - val_loss: 0.1912 - val_accuracy: 0.9499 - lr: 0.0010\n",
      "Epoch 17/30\n",
      "145/145 [==============================] - ETA: 0s - loss: 0.0191 - accuracy: 0.9933\n",
      "Epoch 17: val_accuracy did not improve from 0.95509\n",
      "145/145 [==============================] - 76s 524ms/step - loss: 0.0191 - accuracy: 0.9933 - val_loss: 0.1542 - val_accuracy: 0.9534 - lr: 0.0010\n",
      "Epoch 18/30\n",
      "145/145 [==============================] - ETA: 0s - loss: 0.0174 - accuracy: 0.9935\n",
      "Epoch 18: val_accuracy did not improve from 0.95509\n",
      "145/145 [==============================] - 77s 532ms/step - loss: 0.0174 - accuracy: 0.9935 - val_loss: 0.1981 - val_accuracy: 0.9443 - lr: 0.0010\n",
      "Epoch 19/30\n",
      "145/145 [==============================] - ETA: 0s - loss: 0.0274 - accuracy: 0.9901\n",
      "Epoch 19: val_accuracy did not improve from 0.95509\n",
      "145/145 [==============================] - 83s 574ms/step - loss: 0.0274 - accuracy: 0.9901 - val_loss: 0.1778 - val_accuracy: 0.9503 - lr: 0.0010\n",
      "Epoch 20/30\n",
      "145/145 [==============================] - ETA: 0s - loss: 0.0167 - accuracy: 0.9950\n",
      "Epoch 20: val_accuracy did not improve from 0.95509\n",
      "145/145 [==============================] - 76s 528ms/step - loss: 0.0167 - accuracy: 0.9950 - val_loss: 0.2382 - val_accuracy: 0.9529 - lr: 0.0010\n",
      "Epoch 21/30\n",
      "145/145 [==============================] - ETA: 0s - loss: 0.0139 - accuracy: 0.9951\n",
      "Epoch 21: val_accuracy did not improve from 0.95509\n",
      "145/145 [==============================] - 82s 565ms/step - loss: 0.0139 - accuracy: 0.9951 - val_loss: 0.2025 - val_accuracy: 0.9465 - lr: 0.0010\n",
      "Epoch 22/30\n",
      "145/145 [==============================] - ETA: 0s - loss: 0.0224 - accuracy: 0.9928\n",
      "Epoch 22: val_accuracy did not improve from 0.95509\n",
      "145/145 [==============================] - 79s 549ms/step - loss: 0.0224 - accuracy: 0.9928 - val_loss: 0.3160 - val_accuracy: 0.9175 - lr: 0.0010\n",
      "Epoch 23/30\n",
      "145/145 [==============================] - ETA: 0s - loss: 0.0165 - accuracy: 0.9946\n",
      "Epoch 23: val_accuracy improved from 0.95509 to 0.95639, saving model to E-classify/E-label_run7.h5\n",
      "145/145 [==============================] - 79s 547ms/step - loss: 0.0165 - accuracy: 0.9946 - val_loss: 0.2579 - val_accuracy: 0.9564 - lr: 0.0010\n",
      "Epoch 24/30\n",
      "145/145 [==============================] - ETA: 0s - loss: 0.0143 - accuracy: 0.9949\n",
      "Epoch 24: val_accuracy did not improve from 0.95639\n",
      "145/145 [==============================] - 87s 599ms/step - loss: 0.0143 - accuracy: 0.9949 - val_loss: 0.2757 - val_accuracy: 0.9503 - lr: 0.0010\n",
      "Epoch 25/30\n",
      "145/145 [==============================] - ETA: 0s - loss: 0.0170 - accuracy: 0.9949\n",
      "Epoch 25: val_accuracy did not improve from 0.95639\n",
      "145/145 [==============================] - 83s 572ms/step - loss: 0.0170 - accuracy: 0.9949 - val_loss: 0.2029 - val_accuracy: 0.9547 - lr: 0.0010\n",
      "Epoch 26/30\n",
      "145/145 [==============================] - ETA: 0s - loss: 0.0183 - accuracy: 0.9935\n",
      "Epoch 26: val_accuracy did not improve from 0.95639\n",
      "145/145 [==============================] - 80s 550ms/step - loss: 0.0183 - accuracy: 0.9935 - val_loss: 0.1780 - val_accuracy: 0.9478 - lr: 0.0010\n",
      "Epoch 27/30\n",
      "145/145 [==============================] - ETA: 0s - loss: 0.0179 - accuracy: 0.9934\n",
      "Epoch 27: val_accuracy did not improve from 0.95639\n",
      "145/145 [==============================] - 80s 555ms/step - loss: 0.0179 - accuracy: 0.9934 - val_loss: 0.2106 - val_accuracy: 0.9503 - lr: 0.0010\n",
      "Epoch 28/30\n",
      "145/145 [==============================] - ETA: 0s - loss: 0.0125 - accuracy: 0.9961\n",
      "Epoch 28: val_accuracy did not improve from 0.95639\n",
      "145/145 [==============================] - 79s 547ms/step - loss: 0.0125 - accuracy: 0.9961 - val_loss: 0.2330 - val_accuracy: 0.9560 - lr: 0.0010\n",
      "Epoch 29/30\n",
      "145/145 [==============================] - ETA: 0s - loss: 0.0066 - accuracy: 0.9977\n",
      "Epoch 29: val_accuracy did not improve from 0.95639\n",
      "145/145 [==============================] - 79s 546ms/step - loss: 0.0066 - accuracy: 0.9977 - val_loss: 0.4732 - val_accuracy: 0.9283 - lr: 0.0010\n",
      "Epoch 30/30\n",
      "145/145 [==============================] - ETA: 0s - loss: 0.0079 - accuracy: 0.9972\n",
      "Epoch 30: val_accuracy did not improve from 0.95639\n",
      "145/145 [==============================] - 80s 550ms/step - loss: 0.0079 - accuracy: 0.9972 - val_loss: 0.2706 - val_accuracy: 0.9560 - lr: 0.0010\n",
      "Epoch 1/30\n"
     ]
    },
    {
     "name": "stderr",
     "output_type": "stream",
     "text": [
      "2023-11-28 19:47:20.229222: I tensorflow/core/grappler/optimizers/custom_graph_optimizer_registry.cc:113] Plugin optimizer for device_type GPU is enabled.\n",
      "loc(\"mps_select\"(\"(mpsFileLoc): /AppleInternal/Library/BuildRoots/495c257e-668e-11ee-93ce-926038f30c31/Library/Caches/com.apple.xbs/Sources/MetalPerformanceShadersGraph/mpsgraph/MetalPerformanceShadersGraph/Core/Files/MPSGraphUtilities.mm\":294:0)): error: 'anec.gain_offset_control' op result #0 must be 4D/5D memref of 16-bit float or 8-bit signed integer or 8-bit unsigned integer values, but got 'memref<1x64x1x1xi1>'\n",
      "loc(\"mps_select\"(\"(mpsFileLoc): /AppleInternal/Library/BuildRoots/495c257e-668e-11ee-93ce-926038f30c31/Library/Caches/com.apple.xbs/Sources/MetalPerformanceShadersGraph/mpsgraph/MetalPerformanceShadersGraph/Core/Files/MPSGraphUtilities.mm\":294:0)): error: 'anec.gain_offset_control' op result #0 must be 4D/5D memref of 16-bit float or 8-bit signed integer or 8-bit unsigned integer values, but got 'memref<1x64x1x1xi1>'\n",
      "loc(\"mps_select\"(\"(mpsFileLoc): /AppleInternal/Library/BuildRoots/495c257e-668e-11ee-93ce-926038f30c31/Library/Caches/com.apple.xbs/Sources/MetalPerformanceShadersGraph/mpsgraph/MetalPerformanceShadersGraph/Core/Files/MPSGraphUtilities.mm\":294:0)): error: 'anec.gain_offset_control' op result #0 must be 4D/5D memref of 16-bit float or 8-bit signed integer or 8-bit unsigned integer values, but got 'memref<1x64x1x1xi1>'\n",
      "loc(\"mps_select\"(\"(mpsFileLoc): /AppleInternal/Library/BuildRoots/495c257e-668e-11ee-93ce-926038f30c31/Library/Caches/com.apple.xbs/Sources/MetalPerformanceShadersGraph/mpsgraph/MetalPerformanceShadersGraph/Core/Files/MPSGraphUtilities.mm\":294:0)): error: 'anec.gain_offset_control' op result #0 must be 4D/5D memref of 16-bit float or 8-bit signed integer or 8-bit unsigned integer values, but got 'memref<1x64x1x1xi1>'\n",
      "loc(\"mps_select\"(\"(mpsFileLoc): /AppleInternal/Library/BuildRoots/495c257e-668e-11ee-93ce-926038f30c31/Library/Caches/com.apple.xbs/Sources/MetalPerformanceShadersGraph/mpsgraph/MetalPerformanceShadersGraph/Core/Files/MPSGraphUtilities.mm\":294:0)): error: 'anec.gain_offset_control' op result #0 must be 4D/5D memref of 16-bit float or 8-bit signed integer or 8-bit unsigned integer values, but got 'memref<1x64x1x1xi1>'\n"
     ]
    },
    {
     "name": "stdout",
     "output_type": "stream",
     "text": [
      "144/145 [============================>.] - ETA: 0s - loss: 0.2050 - accuracy: 0.9182"
     ]
    },
    {
     "name": "stderr",
     "output_type": "stream",
     "text": [
      "loc(\"mps_select\"(\"(mpsFileLoc): /AppleInternal/Library/BuildRoots/495c257e-668e-11ee-93ce-926038f30c31/Library/Caches/com.apple.xbs/Sources/MetalPerformanceShadersGraph/mpsgraph/MetalPerformanceShadersGraph/Core/Files/MPSGraphUtilities.mm\":294:0)): error: 'anec.gain_offset_control' op result #0 must be 4D/5D memref of 16-bit float or 8-bit signed integer or 8-bit unsigned integer values, but got 'memref<1x46x1x1xi1>'\n",
      "loc(\"mps_select\"(\"(mpsFileLoc): /AppleInternal/Library/BuildRoots/495c257e-668e-11ee-93ce-926038f30c31/Library/Caches/com.apple.xbs/Sources/MetalPerformanceShadersGraph/mpsgraph/MetalPerformanceShadersGraph/Core/Files/MPSGraphUtilities.mm\":294:0)): error: 'anec.gain_offset_control' op result #0 must be 4D/5D memref of 16-bit float or 8-bit signed integer or 8-bit unsigned integer values, but got 'memref<1x46x1x1xi1>'\n",
      "loc(\"mps_select\"(\"(mpsFileLoc): /AppleInternal/Library/BuildRoots/495c257e-668e-11ee-93ce-926038f30c31/Library/Caches/com.apple.xbs/Sources/MetalPerformanceShadersGraph/mpsgraph/MetalPerformanceShadersGraph/Core/Files/MPSGraphUtilities.mm\":294:0)): error: 'anec.gain_offset_control' op result #0 must be 4D/5D memref of 16-bit float or 8-bit signed integer or 8-bit unsigned integer values, but got 'memref<1x46x1x1xi1>'\n",
      "loc(\"mps_select\"(\"(mpsFileLoc): /AppleInternal/Library/BuildRoots/495c257e-668e-11ee-93ce-926038f30c31/Library/Caches/com.apple.xbs/Sources/MetalPerformanceShadersGraph/mpsgraph/MetalPerformanceShadersGraph/Core/Files/MPSGraphUtilities.mm\":294:0)): error: 'anec.gain_offset_control' op result #0 must be 4D/5D memref of 16-bit float or 8-bit signed integer or 8-bit unsigned integer values, but got 'memref<1x46x1x1xi1>'\n",
      "loc(\"mps_select\"(\"(mpsFileLoc): /AppleInternal/Library/BuildRoots/495c257e-668e-11ee-93ce-926038f30c31/Library/Caches/com.apple.xbs/Sources/MetalPerformanceShadersGraph/mpsgraph/MetalPerformanceShadersGraph/Core/Files/MPSGraphUtilities.mm\":294:0)): error: 'anec.gain_offset_control' op result #0 must be 4D/5D memref of 16-bit float or 8-bit signed integer or 8-bit unsigned integer values, but got 'memref<1x46x1x1xi1>'\n"
     ]
    },
    {
     "name": "stdout",
     "output_type": "stream",
     "text": [
      "145/145 [==============================] - ETA: 0s - loss: 0.2046 - accuracy: 0.9184"
     ]
    },
    {
     "name": "stderr",
     "output_type": "stream",
     "text": [
      "2023-11-28 19:48:15.940457: I tensorflow/core/grappler/optimizers/custom_graph_optimizer_registry.cc:113] Plugin optimizer for device_type GPU is enabled.\n",
      "loc(\"mps_select\"(\"(mpsFileLoc): /AppleInternal/Library/BuildRoots/495c257e-668e-11ee-93ce-926038f30c31/Library/Caches/com.apple.xbs/Sources/MetalPerformanceShadersGraph/mpsgraph/MetalPerformanceShadersGraph/Core/Files/MPSGraphUtilities.mm\":294:0)): error: 'anec.gain_offset_control' op result #0 must be 4D/5D memref of 16-bit float or 8-bit signed integer or 8-bit unsigned integer values, but got 'memref<1x64x1x1xi1>'\n",
      "loc(\"mps_select\"(\"(mpsFileLoc): /AppleInternal/Library/BuildRoots/495c257e-668e-11ee-93ce-926038f30c31/Library/Caches/com.apple.xbs/Sources/MetalPerformanceShadersGraph/mpsgraph/MetalPerformanceShadersGraph/Core/Files/MPSGraphUtilities.mm\":294:0)): error: 'anec.gain_offset_control' op result #0 must be 4D/5D memref of 16-bit float or 8-bit signed integer or 8-bit unsigned integer values, but got 'memref<1x64x1x1xi1>'\n"
     ]
    },
    {
     "name": "stdout",
     "output_type": "stream",
     "text": [
      "\n",
      "Epoch 1: val_accuracy improved from -inf to 0.34370, saving model to E-classify/E-label_run8.h5\n"
     ]
    },
    {
     "name": "stderr",
     "output_type": "stream",
     "text": [
      "loc(\"mps_select\"(\"(mpsFileLoc): /AppleInternal/Library/BuildRoots/495c257e-668e-11ee-93ce-926038f30c31/Library/Caches/com.apple.xbs/Sources/MetalPerformanceShadersGraph/mpsgraph/MetalPerformanceShadersGraph/Core/Files/MPSGraphUtilities.mm\":294:0)): error: 'anec.gain_offset_control' op result #0 must be 4D/5D memref of 16-bit float or 8-bit signed integer or 8-bit unsigned integer values, but got 'memref<1x12x1x1xi1>'\n",
      "loc(\"mps_select\"(\"(mpsFileLoc): /AppleInternal/Library/BuildRoots/495c257e-668e-11ee-93ce-926038f30c31/Library/Caches/com.apple.xbs/Sources/MetalPerformanceShadersGraph/mpsgraph/MetalPerformanceShadersGraph/Core/Files/MPSGraphUtilities.mm\":294:0)): error: 'anec.gain_offset_control' op result #0 must be 4D/5D memref of 16-bit float or 8-bit signed integer or 8-bit unsigned integer values, but got 'memref<1x12x1x1xi1>'\n"
     ]
    },
    {
     "name": "stdout",
     "output_type": "stream",
     "text": [
      "145/145 [==============================] - 69s 439ms/step - loss: 0.2046 - accuracy: 0.9184 - val_loss: 3.8275 - val_accuracy: 0.3437 - lr: 0.0010\n",
      "Epoch 2/30\n",
      "145/145 [==============================] - ETA: 0s - loss: 0.1141 - accuracy: 0.9596\n",
      "Epoch 2: val_accuracy did not improve from 0.34370\n",
      "145/145 [==============================] - 66s 455ms/step - loss: 0.1141 - accuracy: 0.9596 - val_loss: 3.0667 - val_accuracy: 0.3437 - lr: 0.0010\n",
      "Epoch 3/30\n",
      "145/145 [==============================] - ETA: 0s - loss: 0.0972 - accuracy: 0.9640\n",
      "Epoch 3: val_accuracy did not improve from 0.34370\n",
      "145/145 [==============================] - 68s 468ms/step - loss: 0.0972 - accuracy: 0.9640 - val_loss: 3.6116 - val_accuracy: 0.3437 - lr: 0.0010\n",
      "Epoch 4/30\n",
      "145/145 [==============================] - ETA: 0s - loss: 0.0904 - accuracy: 0.9681\n",
      "Epoch 4: val_accuracy improved from 0.34370 to 0.90415, saving model to E-classify/E-label_run8.h5\n",
      "145/145 [==============================] - 65s 450ms/step - loss: 0.0904 - accuracy: 0.9681 - val_loss: 0.2472 - val_accuracy: 0.9041 - lr: 0.0010\n",
      "Epoch 5/30\n",
      "145/145 [==============================] - ETA: 0s - loss: 0.0754 - accuracy: 0.9733\n",
      "Epoch 5: val_accuracy did not improve from 0.90415\n",
      "145/145 [==============================] - 65s 450ms/step - loss: 0.0754 - accuracy: 0.9733 - val_loss: 0.6374 - val_accuracy: 0.8221 - lr: 0.0010\n",
      "Epoch 6/30\n",
      "145/145 [==============================] - ETA: 0s - loss: 0.0797 - accuracy: 0.9723\n",
      "Epoch 6: val_accuracy improved from 0.90415 to 0.95941, saving model to E-classify/E-label_run8.h5\n",
      "145/145 [==============================] - 64s 444ms/step - loss: 0.0797 - accuracy: 0.9723 - val_loss: 0.1225 - val_accuracy: 0.9594 - lr: 0.0010\n",
      "Epoch 7/30\n",
      "145/145 [==============================] - ETA: 0s - loss: 0.0619 - accuracy: 0.9786\n",
      "Epoch 7: val_accuracy did not improve from 0.95941\n",
      "145/145 [==============================] - 64s 443ms/step - loss: 0.0619 - accuracy: 0.9786 - val_loss: 0.1254 - val_accuracy: 0.9529 - lr: 0.0010\n",
      "Epoch 8/30\n",
      "145/145 [==============================] - ETA: 0s - loss: 0.0564 - accuracy: 0.9800\n",
      "Epoch 8: val_accuracy did not improve from 0.95941\n",
      "145/145 [==============================] - 66s 457ms/step - loss: 0.0564 - accuracy: 0.9800 - val_loss: 0.2105 - val_accuracy: 0.9240 - lr: 0.0010\n",
      "Epoch 9/30\n",
      "145/145 [==============================] - ETA: 0s - loss: 0.0536 - accuracy: 0.9803\n",
      "Epoch 9: val_accuracy did not improve from 0.95941\n",
      "145/145 [==============================] - 64s 443ms/step - loss: 0.0536 - accuracy: 0.9803 - val_loss: 0.1220 - val_accuracy: 0.9568 - lr: 0.0010\n",
      "Epoch 10/30\n",
      "145/145 [==============================] - ETA: 0s - loss: 0.0409 - accuracy: 0.9863\n",
      "Epoch 10: val_accuracy did not improve from 0.95941\n",
      "145/145 [==============================] - 64s 441ms/step - loss: 0.0409 - accuracy: 0.9863 - val_loss: 0.1333 - val_accuracy: 0.9551 - lr: 0.0010\n",
      "Epoch 11/30\n",
      "145/145 [==============================] - ETA: 0s - loss: 0.0410 - accuracy: 0.9863\n",
      "Epoch 11: val_accuracy did not improve from 0.95941\n",
      "145/145 [==============================] - 64s 444ms/step - loss: 0.0410 - accuracy: 0.9863 - val_loss: 0.1544 - val_accuracy: 0.9560 - lr: 0.0010\n",
      "Epoch 12/30\n",
      "145/145 [==============================] - ETA: 0s - loss: 0.0245 - accuracy: 0.9928\n",
      "Epoch 12: val_accuracy did not improve from 0.95941\n",
      "145/145 [==============================] - 65s 451ms/step - loss: 0.0245 - accuracy: 0.9928 - val_loss: 0.2017 - val_accuracy: 0.9516 - lr: 0.0010\n",
      "Epoch 13/30\n",
      "145/145 [==============================] - ETA: 0s - loss: 0.0362 - accuracy: 0.9879\n",
      "Epoch 13: val_accuracy did not improve from 0.95941\n",
      "145/145 [==============================] - 66s 452ms/step - loss: 0.0362 - accuracy: 0.9879 - val_loss: 0.1509 - val_accuracy: 0.9495 - lr: 0.0010\n",
      "Epoch 14/30\n",
      "145/145 [==============================] - ETA: 0s - loss: 0.0236 - accuracy: 0.9919\n",
      "Epoch 14: val_accuracy did not improve from 0.95941\n",
      "145/145 [==============================] - 65s 449ms/step - loss: 0.0236 - accuracy: 0.9919 - val_loss: 0.1846 - val_accuracy: 0.9465 - lr: 0.0010\n",
      "Epoch 15/30\n",
      "145/145 [==============================] - ETA: 0s - loss: 0.0268 - accuracy: 0.9903\n",
      "Epoch 15: val_accuracy did not improve from 0.95941\n",
      "145/145 [==============================] - 65s 445ms/step - loss: 0.0268 - accuracy: 0.9903 - val_loss: 0.2116 - val_accuracy: 0.9331 - lr: 0.0010\n",
      "Epoch 16/30\n",
      "145/145 [==============================] - ETA: 0s - loss: 0.0291 - accuracy: 0.9900\n",
      "Epoch 16: val_accuracy did not improve from 0.95941\n",
      "145/145 [==============================] - 63s 435ms/step - loss: 0.0291 - accuracy: 0.9900 - val_loss: 0.1579 - val_accuracy: 0.9534 - lr: 0.0010\n",
      "Epoch 17/30\n",
      "145/145 [==============================] - ETA: 0s - loss: 0.0105 - accuracy: 0.9972\n",
      "Epoch 17: val_accuracy did not improve from 0.95941\n",
      "145/145 [==============================] - 65s 449ms/step - loss: 0.0105 - accuracy: 0.9972 - val_loss: 0.1888 - val_accuracy: 0.9547 - lr: 1.0000e-04\n",
      "Epoch 18/30\n",
      "145/145 [==============================] - ETA: 0s - loss: 0.0029 - accuracy: 0.9999\n",
      "Epoch 18: val_accuracy did not improve from 0.95941\n",
      "145/145 [==============================] - 67s 460ms/step - loss: 0.0029 - accuracy: 0.9999 - val_loss: 0.2274 - val_accuracy: 0.9512 - lr: 1.0000e-04\n",
      "Epoch 19/30\n",
      "145/145 [==============================] - ETA: 0s - loss: 0.0018 - accuracy: 0.9999\n",
      "Epoch 19: val_accuracy did not improve from 0.95941\n",
      "145/145 [==============================] - 67s 459ms/step - loss: 0.0018 - accuracy: 0.9999 - val_loss: 0.2496 - val_accuracy: 0.9516 - lr: 1.0000e-04\n",
      "Epoch 20/30\n",
      "145/145 [==============================] - ETA: 0s - loss: 0.0018 - accuracy: 0.9997\n",
      "Epoch 20: val_accuracy did not improve from 0.95941\n",
      "145/145 [==============================] - 67s 464ms/step - loss: 0.0018 - accuracy: 0.9997 - val_loss: 0.2671 - val_accuracy: 0.9516 - lr: 1.0000e-04\n",
      "Epoch 21/30\n",
      "145/145 [==============================] - ETA: 0s - loss: 0.0013 - accuracy: 0.9999\n",
      "Epoch 21: val_accuracy did not improve from 0.95941\n",
      "145/145 [==============================] - 66s 456ms/step - loss: 0.0013 - accuracy: 0.9999 - val_loss: 0.2788 - val_accuracy: 0.9516 - lr: 1.0000e-04\n",
      "Epoch 22/30\n",
      "145/145 [==============================] - ETA: 0s - loss: 8.3245e-04 - accuracy: 0.9999\n",
      "Epoch 22: val_accuracy did not improve from 0.95941\n",
      "145/145 [==============================] - 66s 452ms/step - loss: 8.3245e-04 - accuracy: 0.9999 - val_loss: 0.2910 - val_accuracy: 0.9516 - lr: 1.0000e-04\n",
      "Epoch 23/30\n",
      "145/145 [==============================] - ETA: 0s - loss: 8.2376e-04 - accuracy: 0.9999\n",
      "Epoch 23: val_accuracy did not improve from 0.95941\n",
      "145/145 [==============================] - 64s 444ms/step - loss: 8.2376e-04 - accuracy: 0.9999 - val_loss: 0.2989 - val_accuracy: 0.9521 - lr: 1.0000e-04\n",
      "Epoch 24/30\n",
      "145/145 [==============================] - ETA: 0s - loss: 7.6996e-04 - accuracy: 0.9999\n",
      "Epoch 24: val_accuracy did not improve from 0.95941\n",
      "145/145 [==============================] - 66s 452ms/step - loss: 7.6996e-04 - accuracy: 0.9999 - val_loss: 0.3109 - val_accuracy: 0.9516 - lr: 1.0000e-04\n",
      "Epoch 25/30\n",
      "145/145 [==============================] - ETA: 0s - loss: 5.6786e-04 - accuracy: 0.9999\n",
      "Epoch 25: val_accuracy did not improve from 0.95941\n",
      "145/145 [==============================] - 66s 456ms/step - loss: 5.6786e-04 - accuracy: 0.9999 - val_loss: 0.3164 - val_accuracy: 0.9516 - lr: 1.0000e-04\n",
      "Epoch 26/30\n",
      "145/145 [==============================] - ETA: 0s - loss: 6.2570e-04 - accuracy: 0.9999\n",
      "Epoch 26: val_accuracy did not improve from 0.95941\n",
      "145/145 [==============================] - 66s 457ms/step - loss: 6.2570e-04 - accuracy: 0.9999 - val_loss: 0.3252 - val_accuracy: 0.9521 - lr: 1.0000e-04\n",
      "Epoch 27/30\n",
      "145/145 [==============================] - ETA: 0s - loss: 5.4611e-04 - accuracy: 0.9999\n",
      "Epoch 27: val_accuracy did not improve from 0.95941\n",
      "145/145 [==============================] - 65s 449ms/step - loss: 5.4611e-04 - accuracy: 0.9999 - val_loss: 0.3264 - val_accuracy: 0.9521 - lr: 1.0000e-05\n",
      "Epoch 28/30\n",
      "145/145 [==============================] - ETA: 0s - loss: 4.3008e-04 - accuracy: 0.9999\n",
      "Epoch 28: val_accuracy did not improve from 0.95941\n",
      "145/145 [==============================] - 65s 447ms/step - loss: 4.3008e-04 - accuracy: 0.9999 - val_loss: 0.3275 - val_accuracy: 0.9521 - lr: 1.0000e-05\n",
      "Epoch 29/30\n",
      "145/145 [==============================] - ETA: 0s - loss: 6.3719e-04 - accuracy: 0.9999\n",
      "Epoch 29: val_accuracy did not improve from 0.95941\n",
      "145/145 [==============================] - 65s 448ms/step - loss: 6.3719e-04 - accuracy: 0.9999 - val_loss: 0.3287 - val_accuracy: 0.9521 - lr: 1.0000e-05\n",
      "Epoch 30/30\n",
      "145/145 [==============================] - ETA: 0s - loss: 4.5737e-04 - accuracy: 0.9999\n",
      "Epoch 30: val_accuracy did not improve from 0.95941\n",
      "145/145 [==============================] - 70s 481ms/step - loss: 4.5737e-04 - accuracy: 0.9999 - val_loss: 0.3294 - val_accuracy: 0.9521 - lr: 1.0000e-05\n",
      "Epoch 1/30\n"
     ]
    },
    {
     "name": "stderr",
     "output_type": "stream",
     "text": [
      "2023-11-28 20:20:15.668109: I tensorflow/core/grappler/optimizers/custom_graph_optimizer_registry.cc:113] Plugin optimizer for device_type GPU is enabled.\n",
      "loc(\"mps_select\"(\"(mpsFileLoc): /AppleInternal/Library/BuildRoots/495c257e-668e-11ee-93ce-926038f30c31/Library/Caches/com.apple.xbs/Sources/MetalPerformanceShadersGraph/mpsgraph/MetalPerformanceShadersGraph/Core/Files/MPSGraphUtilities.mm\":294:0)): error: 'anec.gain_offset_control' op result #0 must be 4D/5D memref of 16-bit float or 8-bit signed integer or 8-bit unsigned integer values, but got 'memref<1x64x1x1xi1>'\n",
      "loc(\"mps_select\"(\"(mpsFileLoc): /AppleInternal/Library/BuildRoots/495c257e-668e-11ee-93ce-926038f30c31/Library/Caches/com.apple.xbs/Sources/MetalPerformanceShadersGraph/mpsgraph/MetalPerformanceShadersGraph/Core/Files/MPSGraphUtilities.mm\":294:0)): error: 'anec.gain_offset_control' op result #0 must be 4D/5D memref of 16-bit float or 8-bit signed integer or 8-bit unsigned integer values, but got 'memref<1x64x1x1xi1>'\n",
      "loc(\"mps_select\"(\"(mpsFileLoc): /AppleInternal/Library/BuildRoots/495c257e-668e-11ee-93ce-926038f30c31/Library/Caches/com.apple.xbs/Sources/MetalPerformanceShadersGraph/mpsgraph/MetalPerformanceShadersGraph/Core/Files/MPSGraphUtilities.mm\":294:0)): error: 'anec.gain_offset_control' op result #0 must be 4D/5D memref of 16-bit float or 8-bit signed integer or 8-bit unsigned integer values, but got 'memref<1x64x1x1xi1>'\n",
      "loc(\"mps_select\"(\"(mpsFileLoc): /AppleInternal/Library/BuildRoots/495c257e-668e-11ee-93ce-926038f30c31/Library/Caches/com.apple.xbs/Sources/MetalPerformanceShadersGraph/mpsgraph/MetalPerformanceShadersGraph/Core/Files/MPSGraphUtilities.mm\":294:0)): error: 'anec.gain_offset_control' op result #0 must be 4D/5D memref of 16-bit float or 8-bit signed integer or 8-bit unsigned integer values, but got 'memref<1x64x1x1xi1>'\n",
      "loc(\"mps_select\"(\"(mpsFileLoc): /AppleInternal/Library/BuildRoots/495c257e-668e-11ee-93ce-926038f30c31/Library/Caches/com.apple.xbs/Sources/MetalPerformanceShadersGraph/mpsgraph/MetalPerformanceShadersGraph/Core/Files/MPSGraphUtilities.mm\":294:0)): error: 'anec.gain_offset_control' op result #0 must be 4D/5D memref of 16-bit float or 8-bit signed integer or 8-bit unsigned integer values, but got 'memref<1x64x1x1xi1>'\n"
     ]
    },
    {
     "name": "stdout",
     "output_type": "stream",
     "text": [
      "144/145 [============================>.] - ETA: 0s - loss: 0.1966 - accuracy: 0.9244"
     ]
    },
    {
     "name": "stderr",
     "output_type": "stream",
     "text": [
      "loc(\"mps_select\"(\"(mpsFileLoc): /AppleInternal/Library/BuildRoots/495c257e-668e-11ee-93ce-926038f30c31/Library/Caches/com.apple.xbs/Sources/MetalPerformanceShadersGraph/mpsgraph/MetalPerformanceShadersGraph/Core/Files/MPSGraphUtilities.mm\":294:0)): error: 'anec.gain_offset_control' op result #0 must be 4D/5D memref of 16-bit float or 8-bit signed integer or 8-bit unsigned integer values, but got 'memref<1x46x1x1xi1>'\n",
      "loc(\"mps_select\"(\"(mpsFileLoc): /AppleInternal/Library/BuildRoots/495c257e-668e-11ee-93ce-926038f30c31/Library/Caches/com.apple.xbs/Sources/MetalPerformanceShadersGraph/mpsgraph/MetalPerformanceShadersGraph/Core/Files/MPSGraphUtilities.mm\":294:0)): error: 'anec.gain_offset_control' op result #0 must be 4D/5D memref of 16-bit float or 8-bit signed integer or 8-bit unsigned integer values, but got 'memref<1x46x1x1xi1>'\n",
      "loc(\"mps_select\"(\"(mpsFileLoc): /AppleInternal/Library/BuildRoots/495c257e-668e-11ee-93ce-926038f30c31/Library/Caches/com.apple.xbs/Sources/MetalPerformanceShadersGraph/mpsgraph/MetalPerformanceShadersGraph/Core/Files/MPSGraphUtilities.mm\":294:0)): error: 'anec.gain_offset_control' op result #0 must be 4D/5D memref of 16-bit float or 8-bit signed integer or 8-bit unsigned integer values, but got 'memref<1x46x1x1xi1>'\n",
      "loc(\"mps_select\"(\"(mpsFileLoc): /AppleInternal/Library/BuildRoots/495c257e-668e-11ee-93ce-926038f30c31/Library/Caches/com.apple.xbs/Sources/MetalPerformanceShadersGraph/mpsgraph/MetalPerformanceShadersGraph/Core/Files/MPSGraphUtilities.mm\":294:0)): error: 'anec.gain_offset_control' op result #0 must be 4D/5D memref of 16-bit float or 8-bit signed integer or 8-bit unsigned integer values, but got 'memref<1x46x1x1xi1>'\n",
      "loc(\"mps_select\"(\"(mpsFileLoc): /AppleInternal/Library/BuildRoots/495c257e-668e-11ee-93ce-926038f30c31/Library/Caches/com.apple.xbs/Sources/MetalPerformanceShadersGraph/mpsgraph/MetalPerformanceShadersGraph/Core/Files/MPSGraphUtilities.mm\":294:0)): error: 'anec.gain_offset_control' op result #0 must be 4D/5D memref of 16-bit float or 8-bit signed integer or 8-bit unsigned integer values, but got 'memref<1x46x1x1xi1>'\n"
     ]
    },
    {
     "name": "stdout",
     "output_type": "stream",
     "text": [
      "145/145 [==============================] - ETA: 0s - loss: 0.1961 - accuracy: 0.9245"
     ]
    },
    {
     "name": "stderr",
     "output_type": "stream",
     "text": [
      "2023-11-28 20:21:32.144185: I tensorflow/core/grappler/optimizers/custom_graph_optimizer_registry.cc:113] Plugin optimizer for device_type GPU is enabled.\n",
      "loc(\"mps_select\"(\"(mpsFileLoc): /AppleInternal/Library/BuildRoots/495c257e-668e-11ee-93ce-926038f30c31/Library/Caches/com.apple.xbs/Sources/MetalPerformanceShadersGraph/mpsgraph/MetalPerformanceShadersGraph/Core/Files/MPSGraphUtilities.mm\":294:0)): error: 'anec.gain_offset_control' op result #0 must be 4D/5D memref of 16-bit float or 8-bit signed integer or 8-bit unsigned integer values, but got 'memref<1x64x1x1xi1>'\n",
      "loc(\"mps_select\"(\"(mpsFileLoc): /AppleInternal/Library/BuildRoots/495c257e-668e-11ee-93ce-926038f30c31/Library/Caches/com.apple.xbs/Sources/MetalPerformanceShadersGraph/mpsgraph/MetalPerformanceShadersGraph/Core/Files/MPSGraphUtilities.mm\":294:0)): error: 'anec.gain_offset_control' op result #0 must be 4D/5D memref of 16-bit float or 8-bit signed integer or 8-bit unsigned integer values, but got 'memref<1x64x1x1xi1>'\n"
     ]
    },
    {
     "name": "stdout",
     "output_type": "stream",
     "text": [
      "\n",
      "Epoch 1: val_accuracy improved from -inf to 0.34370, saving model to E-classify/E-label_run9.h5\n"
     ]
    },
    {
     "name": "stderr",
     "output_type": "stream",
     "text": [
      "loc(\"mps_select\"(\"(mpsFileLoc): /AppleInternal/Library/BuildRoots/495c257e-668e-11ee-93ce-926038f30c31/Library/Caches/com.apple.xbs/Sources/MetalPerformanceShadersGraph/mpsgraph/MetalPerformanceShadersGraph/Core/Files/MPSGraphUtilities.mm\":294:0)): error: 'anec.gain_offset_control' op result #0 must be 4D/5D memref of 16-bit float or 8-bit signed integer or 8-bit unsigned integer values, but got 'memref<1x12x1x1xi1>'\n",
      "loc(\"mps_select\"(\"(mpsFileLoc): /AppleInternal/Library/BuildRoots/495c257e-668e-11ee-93ce-926038f30c31/Library/Caches/com.apple.xbs/Sources/MetalPerformanceShadersGraph/mpsgraph/MetalPerformanceShadersGraph/Core/Files/MPSGraphUtilities.mm\":294:0)): error: 'anec.gain_offset_control' op result #0 must be 4D/5D memref of 16-bit float or 8-bit signed integer or 8-bit unsigned integer values, but got 'memref<1x12x1x1xi1>'\n"
     ]
    },
    {
     "name": "stdout",
     "output_type": "stream",
     "text": [
      "145/145 [==============================] - 87s 572ms/step - loss: 0.1961 - accuracy: 0.9245 - val_loss: 2.0380 - val_accuracy: 0.3437 - lr: 0.0010\n",
      "Epoch 2/30\n",
      "145/145 [==============================] - ETA: 0s - loss: 0.1134 - accuracy: 0.9613\n",
      "Epoch 2: val_accuracy did not improve from 0.34370\n",
      "145/145 [==============================] - 83s 569ms/step - loss: 0.1134 - accuracy: 0.9613 - val_loss: 1.6481 - val_accuracy: 0.3437 - lr: 0.0010\n",
      "Epoch 3/30\n",
      "145/145 [==============================] - ETA: 0s - loss: 0.0943 - accuracy: 0.9680\n",
      "Epoch 3: val_accuracy improved from 0.34370 to 0.36701, saving model to E-classify/E-label_run9.h5\n",
      "145/145 [==============================] - 81s 558ms/step - loss: 0.0943 - accuracy: 0.9680 - val_loss: 1.5415 - val_accuracy: 0.3670 - lr: 0.0010\n",
      "Epoch 4/30\n",
      "145/145 [==============================] - ETA: 0s - loss: 0.0849 - accuracy: 0.9705\n",
      "Epoch 4: val_accuracy improved from 0.36701 to 0.89162, saving model to E-classify/E-label_run9.h5\n",
      "145/145 [==============================] - 82s 563ms/step - loss: 0.0849 - accuracy: 0.9705 - val_loss: 0.3396 - val_accuracy: 0.8916 - lr: 0.0010\n",
      "Epoch 5/30\n",
      "145/145 [==============================] - ETA: 0s - loss: 0.0730 - accuracy: 0.9750\n",
      "Epoch 5: val_accuracy improved from 0.89162 to 0.95423, saving model to E-classify/E-label_run9.h5\n",
      "145/145 [==============================] - 81s 561ms/step - loss: 0.0730 - accuracy: 0.9750 - val_loss: 0.1487 - val_accuracy: 0.9542 - lr: 0.0010\n",
      "Epoch 6/30\n",
      "145/145 [==============================] - ETA: 0s - loss: 0.0726 - accuracy: 0.9746\n",
      "Epoch 6: val_accuracy did not improve from 0.95423\n",
      "145/145 [==============================] - 81s 555ms/step - loss: 0.0726 - accuracy: 0.9746 - val_loss: 0.1844 - val_accuracy: 0.9387 - lr: 0.0010\n",
      "Epoch 7/30\n",
      "145/145 [==============================] - ETA: 0s - loss: 0.0662 - accuracy: 0.9764\n",
      "Epoch 7: val_accuracy did not improve from 0.95423\n",
      "145/145 [==============================] - 83s 574ms/step - loss: 0.0662 - accuracy: 0.9764 - val_loss: 0.1475 - val_accuracy: 0.9486 - lr: 0.0010\n",
      "Epoch 8/30\n",
      "145/145 [==============================] - ETA: 0s - loss: 0.0503 - accuracy: 0.9823\n",
      "Epoch 8: val_accuracy did not improve from 0.95423\n",
      "145/145 [==============================] - 85s 583ms/step - loss: 0.0503 - accuracy: 0.9823 - val_loss: 0.1733 - val_accuracy: 0.9491 - lr: 0.0010\n",
      "Epoch 9/30\n",
      "145/145 [==============================] - ETA: 0s - loss: 0.0520 - accuracy: 0.9827\n",
      "Epoch 9: val_accuracy did not improve from 0.95423\n",
      "145/145 [==============================] - 83s 575ms/step - loss: 0.0520 - accuracy: 0.9827 - val_loss: 0.3553 - val_accuracy: 0.8921 - lr: 0.0010\n",
      "Epoch 10/30\n",
      "145/145 [==============================] - ETA: 0s - loss: 0.0430 - accuracy: 0.9861\n",
      "Epoch 10: val_accuracy did not improve from 0.95423\n",
      "145/145 [==============================] - 83s 574ms/step - loss: 0.0430 - accuracy: 0.9861 - val_loss: 0.3284 - val_accuracy: 0.9136 - lr: 0.0010\n",
      "Epoch 11/30\n",
      "145/145 [==============================] - ETA: 0s - loss: 0.0398 - accuracy: 0.9869\n",
      "Epoch 11: val_accuracy did not improve from 0.95423\n",
      "145/145 [==============================] - 83s 574ms/step - loss: 0.0398 - accuracy: 0.9869 - val_loss: 0.3406 - val_accuracy: 0.9313 - lr: 0.0010\n",
      "Epoch 12/30\n",
      "145/145 [==============================] - ETA: 0s - loss: 0.0335 - accuracy: 0.9887\n",
      "Epoch 12: val_accuracy did not improve from 0.95423\n",
      "145/145 [==============================] - 86s 590ms/step - loss: 0.0335 - accuracy: 0.9887 - val_loss: 0.1683 - val_accuracy: 0.9417 - lr: 0.0010\n",
      "Epoch 13/30\n",
      "145/145 [==============================] - ETA: 0s - loss: 0.0265 - accuracy: 0.9901\n",
      "Epoch 13: val_accuracy did not improve from 0.95423\n",
      "145/145 [==============================] - 84s 575ms/step - loss: 0.0265 - accuracy: 0.9901 - val_loss: 0.4211 - val_accuracy: 0.9391 - lr: 0.0010\n",
      "Epoch 14/30\n",
      "145/145 [==============================] - ETA: 0s - loss: 0.0350 - accuracy: 0.9887\n",
      "Epoch 14: val_accuracy did not improve from 0.95423\n",
      "145/145 [==============================] - 83s 570ms/step - loss: 0.0350 - accuracy: 0.9887 - val_loss: 0.2450 - val_accuracy: 0.9434 - lr: 0.0010\n",
      "Epoch 15/30\n",
      "145/145 [==============================] - ETA: 0s - loss: 0.0270 - accuracy: 0.9918\n",
      "Epoch 15: val_accuracy did not improve from 0.95423\n",
      "145/145 [==============================] - 82s 568ms/step - loss: 0.0270 - accuracy: 0.9918 - val_loss: 0.2336 - val_accuracy: 0.9421 - lr: 0.0010\n",
      "Epoch 16/30\n",
      "145/145 [==============================] - ETA: 0s - loss: 0.0098 - accuracy: 0.9971\n",
      "Epoch 16: val_accuracy did not improve from 0.95423\n",
      "145/145 [==============================] - 83s 572ms/step - loss: 0.0098 - accuracy: 0.9971 - val_loss: 0.2330 - val_accuracy: 0.9439 - lr: 1.0000e-04\n",
      "Epoch 17/30\n",
      "145/145 [==============================] - ETA: 0s - loss: 0.0028 - accuracy: 0.9997\n",
      "Epoch 17: val_accuracy did not improve from 0.95423\n",
      "145/145 [==============================] - 82s 565ms/step - loss: 0.0028 - accuracy: 0.9997 - val_loss: 0.2318 - val_accuracy: 0.9447 - lr: 1.0000e-04\n",
      "Epoch 18/30\n",
      "145/145 [==============================] - ETA: 0s - loss: 0.0018 - accuracy: 0.9998\n",
      "Epoch 18: val_accuracy did not improve from 0.95423\n",
      "145/145 [==============================] - 82s 567ms/step - loss: 0.0018 - accuracy: 0.9998 - val_loss: 0.2442 - val_accuracy: 0.9460 - lr: 1.0000e-04\n",
      "Epoch 19/30\n",
      "145/145 [==============================] - ETA: 0s - loss: 0.0014 - accuracy: 0.9998\n",
      "Epoch 19: val_accuracy did not improve from 0.95423\n",
      "145/145 [==============================] - 81s 559ms/step - loss: 0.0014 - accuracy: 0.9998 - val_loss: 0.2558 - val_accuracy: 0.9447 - lr: 1.0000e-04\n",
      "Epoch 20/30\n",
      "145/145 [==============================] - ETA: 0s - loss: 0.0011 - accuracy: 0.9999\n",
      "Epoch 20: val_accuracy did not improve from 0.95423\n",
      "145/145 [==============================] - 83s 570ms/step - loss: 0.0011 - accuracy: 0.9999 - val_loss: 0.2662 - val_accuracy: 0.9447 - lr: 1.0000e-04\n",
      "Epoch 21/30\n",
      "145/145 [==============================] - ETA: 0s - loss: 8.6590e-04 - accuracy: 0.9999\n",
      "Epoch 21: val_accuracy did not improve from 0.95423\n",
      "145/145 [==============================] - 83s 572ms/step - loss: 8.6590e-04 - accuracy: 0.9999 - val_loss: 0.2763 - val_accuracy: 0.9434 - lr: 1.0000e-04\n",
      "Epoch 22/30\n",
      "145/145 [==============================] - ETA: 0s - loss: 8.4646e-04 - accuracy: 0.9999\n",
      "Epoch 22: val_accuracy did not improve from 0.95423\n",
      "145/145 [==============================] - 82s 567ms/step - loss: 8.4646e-04 - accuracy: 0.9999 - val_loss: 0.2846 - val_accuracy: 0.9447 - lr: 1.0000e-04\n",
      "Epoch 23/30\n",
      "145/145 [==============================] - ETA: 0s - loss: 7.7453e-04 - accuracy: 0.9999\n",
      "Epoch 23: val_accuracy did not improve from 0.95423\n",
      "145/145 [==============================] - 82s 565ms/step - loss: 7.7453e-04 - accuracy: 0.9999 - val_loss: 0.2934 - val_accuracy: 0.9434 - lr: 1.0000e-04\n",
      "Epoch 24/30\n",
      "145/145 [==============================] - ETA: 0s - loss: 6.4929e-04 - accuracy: 0.9999\n",
      "Epoch 24: val_accuracy did not improve from 0.95423\n",
      "145/145 [==============================] - 83s 569ms/step - loss: 6.4929e-04 - accuracy: 0.9999 - val_loss: 0.3006 - val_accuracy: 0.9452 - lr: 1.0000e-04\n",
      "Epoch 25/30\n",
      "145/145 [==============================] - ETA: 0s - loss: 5.0104e-04 - accuracy: 0.9999\n",
      "Epoch 25: val_accuracy did not improve from 0.95423\n",
      "145/145 [==============================] - 82s 563ms/step - loss: 5.0104e-04 - accuracy: 0.9999 - val_loss: 0.3088 - val_accuracy: 0.9452 - lr: 1.0000e-04\n",
      "Epoch 26/30\n",
      "145/145 [==============================] - ETA: 0s - loss: 6.3200e-04 - accuracy: 0.9999\n",
      "Epoch 26: val_accuracy did not improve from 0.95423\n",
      "145/145 [==============================] - 82s 563ms/step - loss: 6.3200e-04 - accuracy: 0.9999 - val_loss: 0.3098 - val_accuracy: 0.9447 - lr: 1.0000e-05\n",
      "Epoch 27/30\n",
      "145/145 [==============================] - ETA: 0s - loss: 5.8178e-04 - accuracy: 0.9999\n",
      "Epoch 27: val_accuracy did not improve from 0.95423\n",
      "145/145 [==============================] - 82s 566ms/step - loss: 5.8178e-04 - accuracy: 0.9999 - val_loss: 0.3096 - val_accuracy: 0.9447 - lr: 1.0000e-05\n",
      "Epoch 28/30\n",
      "145/145 [==============================] - ETA: 0s - loss: 6.1963e-04 - accuracy: 0.9999\n",
      "Epoch 28: val_accuracy did not improve from 0.95423\n",
      "145/145 [==============================] - 82s 562ms/step - loss: 6.1963e-04 - accuracy: 0.9999 - val_loss: 0.3104 - val_accuracy: 0.9447 - lr: 1.0000e-05\n",
      "Epoch 29/30\n",
      "145/145 [==============================] - ETA: 0s - loss: 6.5980e-04 - accuracy: 0.9999\n",
      "Epoch 29: val_accuracy did not improve from 0.95423\n",
      "145/145 [==============================] - 81s 557ms/step - loss: 6.5980e-04 - accuracy: 0.9999 - val_loss: 0.3106 - val_accuracy: 0.9447 - lr: 1.0000e-05\n",
      "Epoch 30/30\n",
      "145/145 [==============================] - ETA: 0s - loss: 5.5888e-04 - accuracy: 0.9999\n",
      "Epoch 30: val_accuracy did not improve from 0.95423\n",
      "145/145 [==============================] - 80s 554ms/step - loss: 5.5888e-04 - accuracy: 0.9999 - val_loss: 0.3117 - val_accuracy: 0.9447 - lr: 1.0000e-05\n",
      "Epoch 1/30\n"
     ]
    },
    {
     "name": "stderr",
     "output_type": "stream",
     "text": [
      "2023-11-28 21:01:42.255248: I tensorflow/core/grappler/optimizers/custom_graph_optimizer_registry.cc:113] Plugin optimizer for device_type GPU is enabled.\n",
      "loc(\"mps_select\"(\"(mpsFileLoc): /AppleInternal/Library/BuildRoots/495c257e-668e-11ee-93ce-926038f30c31/Library/Caches/com.apple.xbs/Sources/MetalPerformanceShadersGraph/mpsgraph/MetalPerformanceShadersGraph/Core/Files/MPSGraphUtilities.mm\":294:0)): error: 'anec.gain_offset_control' op result #0 must be 4D/5D memref of 16-bit float or 8-bit signed integer or 8-bit unsigned integer values, but got 'memref<1x64x1x1xi1>'\n",
      "loc(\"mps_select\"(\"(mpsFileLoc): /AppleInternal/Library/BuildRoots/495c257e-668e-11ee-93ce-926038f30c31/Library/Caches/com.apple.xbs/Sources/MetalPerformanceShadersGraph/mpsgraph/MetalPerformanceShadersGraph/Core/Files/MPSGraphUtilities.mm\":294:0)): error: 'anec.gain_offset_control' op result #0 must be 4D/5D memref of 16-bit float or 8-bit signed integer or 8-bit unsigned integer values, but got 'memref<1x64x1x1xi1>'\n",
      "loc(\"mps_select\"(\"(mpsFileLoc): /AppleInternal/Library/BuildRoots/495c257e-668e-11ee-93ce-926038f30c31/Library/Caches/com.apple.xbs/Sources/MetalPerformanceShadersGraph/mpsgraph/MetalPerformanceShadersGraph/Core/Files/MPSGraphUtilities.mm\":294:0)): error: 'anec.gain_offset_control' op result #0 must be 4D/5D memref of 16-bit float or 8-bit signed integer or 8-bit unsigned integer values, but got 'memref<1x64x1x1xi1>'\n",
      "loc(\"mps_select\"(\"(mpsFileLoc): /AppleInternal/Library/BuildRoots/495c257e-668e-11ee-93ce-926038f30c31/Library/Caches/com.apple.xbs/Sources/MetalPerformanceShadersGraph/mpsgraph/MetalPerformanceShadersGraph/Core/Files/MPSGraphUtilities.mm\":294:0)): error: 'anec.gain_offset_control' op result #0 must be 4D/5D memref of 16-bit float or 8-bit signed integer or 8-bit unsigned integer values, but got 'memref<1x64x1x1xi1>'\n",
      "loc(\"mps_select\"(\"(mpsFileLoc): /AppleInternal/Library/BuildRoots/495c257e-668e-11ee-93ce-926038f30c31/Library/Caches/com.apple.xbs/Sources/MetalPerformanceShadersGraph/mpsgraph/MetalPerformanceShadersGraph/Core/Files/MPSGraphUtilities.mm\":294:0)): error: 'anec.gain_offset_control' op result #0 must be 4D/5D memref of 16-bit float or 8-bit signed integer or 8-bit unsigned integer values, but got 'memref<1x64x1x1xi1>'\n"
     ]
    },
    {
     "name": "stdout",
     "output_type": "stream",
     "text": [
      "144/145 [============================>.] - ETA: 0s - loss: 0.2086 - accuracy: 0.9196"
     ]
    },
    {
     "name": "stderr",
     "output_type": "stream",
     "text": [
      "loc(\"mps_select\"(\"(mpsFileLoc): /AppleInternal/Library/BuildRoots/495c257e-668e-11ee-93ce-926038f30c31/Library/Caches/com.apple.xbs/Sources/MetalPerformanceShadersGraph/mpsgraph/MetalPerformanceShadersGraph/Core/Files/MPSGraphUtilities.mm\":294:0)): error: 'anec.gain_offset_control' op result #0 must be 4D/5D memref of 16-bit float or 8-bit signed integer or 8-bit unsigned integer values, but got 'memref<1x46x1x1xi1>'\n",
      "loc(\"mps_select\"(\"(mpsFileLoc): /AppleInternal/Library/BuildRoots/495c257e-668e-11ee-93ce-926038f30c31/Library/Caches/com.apple.xbs/Sources/MetalPerformanceShadersGraph/mpsgraph/MetalPerformanceShadersGraph/Core/Files/MPSGraphUtilities.mm\":294:0)): error: 'anec.gain_offset_control' op result #0 must be 4D/5D memref of 16-bit float or 8-bit signed integer or 8-bit unsigned integer values, but got 'memref<1x46x1x1xi1>'\n",
      "loc(\"mps_select\"(\"(mpsFileLoc): /AppleInternal/Library/BuildRoots/495c257e-668e-11ee-93ce-926038f30c31/Library/Caches/com.apple.xbs/Sources/MetalPerformanceShadersGraph/mpsgraph/MetalPerformanceShadersGraph/Core/Files/MPSGraphUtilities.mm\":294:0)): error: 'anec.gain_offset_control' op result #0 must be 4D/5D memref of 16-bit float or 8-bit signed integer or 8-bit unsigned integer values, but got 'memref<1x46x1x1xi1>'\n",
      "loc(\"mps_select\"(\"(mpsFileLoc): /AppleInternal/Library/BuildRoots/495c257e-668e-11ee-93ce-926038f30c31/Library/Caches/com.apple.xbs/Sources/MetalPerformanceShadersGraph/mpsgraph/MetalPerformanceShadersGraph/Core/Files/MPSGraphUtilities.mm\":294:0)): error: 'anec.gain_offset_control' op result #0 must be 4D/5D memref of 16-bit float or 8-bit signed integer or 8-bit unsigned integer values, but got 'memref<1x46x1x1xi1>'\n",
      "loc(\"mps_select\"(\"(mpsFileLoc): /AppleInternal/Library/BuildRoots/495c257e-668e-11ee-93ce-926038f30c31/Library/Caches/com.apple.xbs/Sources/MetalPerformanceShadersGraph/mpsgraph/MetalPerformanceShadersGraph/Core/Files/MPSGraphUtilities.mm\":294:0)): error: 'anec.gain_offset_control' op result #0 must be 4D/5D memref of 16-bit float or 8-bit signed integer or 8-bit unsigned integer values, but got 'memref<1x46x1x1xi1>'\n"
     ]
    },
    {
     "name": "stdout",
     "output_type": "stream",
     "text": [
      "145/145 [==============================] - ETA: 0s - loss: 0.2078 - accuracy: 0.9200"
     ]
    },
    {
     "name": "stderr",
     "output_type": "stream",
     "text": [
      "2023-11-28 21:02:36.296044: I tensorflow/core/grappler/optimizers/custom_graph_optimizer_registry.cc:113] Plugin optimizer for device_type GPU is enabled.\n",
      "loc(\"mps_select\"(\"(mpsFileLoc): /AppleInternal/Library/BuildRoots/495c257e-668e-11ee-93ce-926038f30c31/Library/Caches/com.apple.xbs/Sources/MetalPerformanceShadersGraph/mpsgraph/MetalPerformanceShadersGraph/Core/Files/MPSGraphUtilities.mm\":294:0)): error: 'anec.gain_offset_control' op result #0 must be 4D/5D memref of 16-bit float or 8-bit signed integer or 8-bit unsigned integer values, but got 'memref<1x64x1x1xi1>'\n",
      "loc(\"mps_select\"(\"(mpsFileLoc): /AppleInternal/Library/BuildRoots/495c257e-668e-11ee-93ce-926038f30c31/Library/Caches/com.apple.xbs/Sources/MetalPerformanceShadersGraph/mpsgraph/MetalPerformanceShadersGraph/Core/Files/MPSGraphUtilities.mm\":294:0)): error: 'anec.gain_offset_control' op result #0 must be 4D/5D memref of 16-bit float or 8-bit signed integer or 8-bit unsigned integer values, but got 'memref<1x64x1x1xi1>'\n"
     ]
    },
    {
     "name": "stdout",
     "output_type": "stream",
     "text": [
      "\n",
      "Epoch 1: val_accuracy improved from -inf to 0.34370, saving model to E-classify/E-label_run10.h5\n"
     ]
    },
    {
     "name": "stderr",
     "output_type": "stream",
     "text": [
      "loc(\"mps_select\"(\"(mpsFileLoc): /AppleInternal/Library/BuildRoots/495c257e-668e-11ee-93ce-926038f30c31/Library/Caches/com.apple.xbs/Sources/MetalPerformanceShadersGraph/mpsgraph/MetalPerformanceShadersGraph/Core/Files/MPSGraphUtilities.mm\":294:0)): error: 'anec.gain_offset_control' op result #0 must be 4D/5D memref of 16-bit float or 8-bit signed integer or 8-bit unsigned integer values, but got 'memref<1x12x1x1xi1>'\n",
      "loc(\"mps_select\"(\"(mpsFileLoc): /AppleInternal/Library/BuildRoots/495c257e-668e-11ee-93ce-926038f30c31/Library/Caches/com.apple.xbs/Sources/MetalPerformanceShadersGraph/mpsgraph/MetalPerformanceShadersGraph/Core/Files/MPSGraphUtilities.mm\":294:0)): error: 'anec.gain_offset_control' op result #0 must be 4D/5D memref of 16-bit float or 8-bit signed integer or 8-bit unsigned integer values, but got 'memref<1x12x1x1xi1>'\n"
     ]
    },
    {
     "name": "stdout",
     "output_type": "stream",
     "text": [
      "145/145 [==============================] - 68s 422ms/step - loss: 0.2078 - accuracy: 0.9200 - val_loss: 3.0098 - val_accuracy: 0.3437 - lr: 0.0010\n",
      "Epoch 2/30\n",
      "145/145 [==============================] - ETA: 0s - loss: 0.1098 - accuracy: 0.9606\n",
      "Epoch 2: val_accuracy did not improve from 0.34370\n",
      "145/145 [==============================] - 67s 462ms/step - loss: 0.1098 - accuracy: 0.9606 - val_loss: 1.5537 - val_accuracy: 0.3437 - lr: 0.0010\n",
      "Epoch 3/30\n",
      "145/145 [==============================] - ETA: 0s - loss: 0.0894 - accuracy: 0.9687\n",
      "Epoch 3: val_accuracy improved from 0.34370 to 0.34456, saving model to E-classify/E-label_run10.h5\n",
      "145/145 [==============================] - 66s 457ms/step - loss: 0.0894 - accuracy: 0.9687 - val_loss: 1.8711 - val_accuracy: 0.3446 - lr: 0.0010\n",
      "Epoch 4/30\n",
      "145/145 [==============================] - ETA: 0s - loss: 0.0874 - accuracy: 0.9692\n",
      "Epoch 4: val_accuracy improved from 0.34456 to 0.82988, saving model to E-classify/E-label_run10.h5\n",
      "145/145 [==============================] - 68s 467ms/step - loss: 0.0874 - accuracy: 0.9692 - val_loss: 0.4413 - val_accuracy: 0.8299 - lr: 0.0010\n",
      "Epoch 5/30\n",
      "145/145 [==============================] - ETA: 0s - loss: 0.0770 - accuracy: 0.9729\n",
      "Epoch 5: val_accuracy improved from 0.82988 to 0.94516, saving model to E-classify/E-label_run10.h5\n",
      "145/145 [==============================] - 66s 455ms/step - loss: 0.0770 - accuracy: 0.9729 - val_loss: 0.1469 - val_accuracy: 0.9452 - lr: 0.0010\n",
      "Epoch 6/30\n",
      "145/145 [==============================] - ETA: 0s - loss: 0.0717 - accuracy: 0.9752\n",
      "Epoch 6: val_accuracy did not improve from 0.94516\n",
      "145/145 [==============================] - 67s 459ms/step - loss: 0.0717 - accuracy: 0.9752 - val_loss: 0.3317 - val_accuracy: 0.8402 - lr: 0.0010\n",
      "Epoch 7/30\n",
      "145/145 [==============================] - ETA: 0s - loss: 0.0632 - accuracy: 0.9769\n",
      "Epoch 7: val_accuracy did not improve from 0.94516\n",
      "145/145 [==============================] - 65s 450ms/step - loss: 0.0632 - accuracy: 0.9769 - val_loss: 0.2191 - val_accuracy: 0.9313 - lr: 0.0010\n",
      "Epoch 8/30\n",
      "145/145 [==============================] - ETA: 0s - loss: 0.0575 - accuracy: 0.9791\n",
      "Epoch 8: val_accuracy did not improve from 0.94516\n",
      "145/145 [==============================] - 65s 451ms/step - loss: 0.0575 - accuracy: 0.9791 - val_loss: 0.2656 - val_accuracy: 0.9119 - lr: 0.0010\n",
      "Epoch 9/30\n",
      "145/145 [==============================] - ETA: 0s - loss: 0.0543 - accuracy: 0.9812\n",
      "Epoch 9: val_accuracy did not improve from 0.94516\n",
      "145/145 [==============================] - 65s 449ms/step - loss: 0.0543 - accuracy: 0.9812 - val_loss: 0.1799 - val_accuracy: 0.9447 - lr: 0.0010\n",
      "Epoch 10/30\n",
      "145/145 [==============================] - ETA: 0s - loss: 0.0399 - accuracy: 0.9855\n",
      "Epoch 10: val_accuracy improved from 0.94516 to 0.94689, saving model to E-classify/E-label_run10.h5\n",
      "145/145 [==============================] - 66s 458ms/step - loss: 0.0399 - accuracy: 0.9855 - val_loss: 0.2172 - val_accuracy: 0.9469 - lr: 0.0010\n",
      "Epoch 11/30\n",
      "145/145 [==============================] - ETA: 0s - loss: 0.0411 - accuracy: 0.9860\n",
      "Epoch 11: val_accuracy improved from 0.94689 to 0.95509, saving model to E-classify/E-label_run10.h5\n",
      "145/145 [==============================] - 66s 452ms/step - loss: 0.0411 - accuracy: 0.9860 - val_loss: 0.1901 - val_accuracy: 0.9551 - lr: 0.0010\n",
      "Epoch 12/30\n",
      "145/145 [==============================] - ETA: 0s - loss: 0.0404 - accuracy: 0.9856\n",
      "Epoch 12: val_accuracy did not improve from 0.95509\n",
      "145/145 [==============================] - 66s 458ms/step - loss: 0.0404 - accuracy: 0.9856 - val_loss: 0.2728 - val_accuracy: 0.9141 - lr: 0.0010\n",
      "Epoch 13/30\n",
      "145/145 [==============================] - ETA: 0s - loss: 0.0454 - accuracy: 0.9840\n",
      "Epoch 13: val_accuracy did not improve from 0.95509\n",
      "145/145 [==============================] - 66s 457ms/step - loss: 0.0454 - accuracy: 0.9840 - val_loss: 0.1653 - val_accuracy: 0.9478 - lr: 0.0010\n",
      "Epoch 14/30\n",
      "145/145 [==============================] - ETA: 0s - loss: 0.0409 - accuracy: 0.9872\n",
      "Epoch 14: val_accuracy did not improve from 0.95509\n",
      "145/145 [==============================] - 70s 481ms/step - loss: 0.0409 - accuracy: 0.9872 - val_loss: 0.1586 - val_accuracy: 0.9508 - lr: 0.0010\n",
      "Epoch 15/30\n",
      "145/145 [==============================] - ETA: 0s - loss: 0.0227 - accuracy: 0.9930\n",
      "Epoch 15: val_accuracy did not improve from 0.95509\n",
      "145/145 [==============================] - 66s 457ms/step - loss: 0.0227 - accuracy: 0.9930 - val_loss: 0.2093 - val_accuracy: 0.9469 - lr: 0.0010\n",
      "Epoch 16/30\n",
      "145/145 [==============================] - ETA: 0s - loss: 0.0239 - accuracy: 0.9918\n",
      "Epoch 16: val_accuracy did not improve from 0.95509\n",
      "145/145 [==============================] - 66s 456ms/step - loss: 0.0239 - accuracy: 0.9918 - val_loss: 0.3185 - val_accuracy: 0.9223 - lr: 0.0010\n",
      "Epoch 17/30\n",
      "145/145 [==============================] - ETA: 0s - loss: 0.0219 - accuracy: 0.9927\n",
      "Epoch 17: val_accuracy did not improve from 0.95509\n",
      "145/145 [==============================] - 67s 461ms/step - loss: 0.0219 - accuracy: 0.9927 - val_loss: 0.2463 - val_accuracy: 0.9417 - lr: 0.0010\n",
      "Epoch 18/30\n",
      "145/145 [==============================] - ETA: 0s - loss: 0.0236 - accuracy: 0.9924\n",
      "Epoch 18: val_accuracy did not improve from 0.95509\n",
      "145/145 [==============================] - 66s 456ms/step - loss: 0.0236 - accuracy: 0.9924 - val_loss: 0.2879 - val_accuracy: 0.9430 - lr: 0.0010\n",
      "Epoch 19/30\n",
      "145/145 [==============================] - ETA: 0s - loss: 0.0216 - accuracy: 0.9916\n",
      "Epoch 19: val_accuracy did not improve from 0.95509\n",
      "145/145 [==============================] - 69s 475ms/step - loss: 0.0216 - accuracy: 0.9916 - val_loss: 0.2237 - val_accuracy: 0.9465 - lr: 0.0010\n",
      "Epoch 20/30\n",
      "145/145 [==============================] - ETA: 0s - loss: 0.0140 - accuracy: 0.9952\n",
      "Epoch 20: val_accuracy did not improve from 0.95509\n",
      "145/145 [==============================] - 69s 476ms/step - loss: 0.0140 - accuracy: 0.9952 - val_loss: 0.2767 - val_accuracy: 0.9426 - lr: 0.0010\n",
      "Epoch 21/30\n",
      "145/145 [==============================] - ETA: 0s - loss: 0.0165 - accuracy: 0.9950\n",
      "Epoch 21: val_accuracy did not improve from 0.95509\n",
      "145/145 [==============================] - 66s 458ms/step - loss: 0.0165 - accuracy: 0.9950 - val_loss: 0.2732 - val_accuracy: 0.9516 - lr: 0.0010\n",
      "Epoch 22/30\n",
      "145/145 [==============================] - ETA: 0s - loss: 0.0023 - accuracy: 0.9994\n",
      "Epoch 22: val_accuracy did not improve from 0.95509\n",
      "145/145 [==============================] - 67s 459ms/step - loss: 0.0023 - accuracy: 0.9994 - val_loss: 0.3125 - val_accuracy: 0.9491 - lr: 1.0000e-04\n",
      "Epoch 23/30\n",
      "145/145 [==============================] - ETA: 0s - loss: 0.0010 - accuracy: 0.9999\n",
      "Epoch 23: val_accuracy did not improve from 0.95509\n",
      "145/145 [==============================] - 66s 457ms/step - loss: 0.0010 - accuracy: 0.9999 - val_loss: 0.3283 - val_accuracy: 0.9491 - lr: 1.0000e-04\n",
      "Epoch 24/30\n",
      "145/145 [==============================] - ETA: 0s - loss: 8.8255e-04 - accuracy: 0.9999\n",
      "Epoch 24: val_accuracy did not improve from 0.95509\n",
      "145/145 [==============================] - 66s 454ms/step - loss: 8.8255e-04 - accuracy: 0.9999 - val_loss: 0.3337 - val_accuracy: 0.9486 - lr: 1.0000e-04\n",
      "Epoch 25/30\n",
      "145/145 [==============================] - ETA: 0s - loss: 7.6376e-04 - accuracy: 0.9999\n",
      "Epoch 25: val_accuracy did not improve from 0.95509\n",
      "145/145 [==============================] - 68s 469ms/step - loss: 7.6376e-04 - accuracy: 0.9999 - val_loss: 0.3394 - val_accuracy: 0.9478 - lr: 1.0000e-04\n",
      "Epoch 26/30\n",
      "145/145 [==============================] - ETA: 0s - loss: 7.0017e-04 - accuracy: 0.9999\n",
      "Epoch 26: val_accuracy did not improve from 0.95509\n",
      "145/145 [==============================] - 67s 465ms/step - loss: 7.0017e-04 - accuracy: 0.9999 - val_loss: 0.3475 - val_accuracy: 0.9478 - lr: 1.0000e-04\n",
      "Epoch 27/30\n",
      "145/145 [==============================] - ETA: 0s - loss: 7.6613e-04 - accuracy: 0.9999\n",
      "Epoch 27: val_accuracy did not improve from 0.95509\n",
      "145/145 [==============================] - 67s 460ms/step - loss: 7.6613e-04 - accuracy: 0.9999 - val_loss: 0.3529 - val_accuracy: 0.9482 - lr: 1.0000e-04\n",
      "Epoch 28/30\n",
      "145/145 [==============================] - ETA: 0s - loss: 4.1472e-04 - accuracy: 0.9999\n",
      "Epoch 28: val_accuracy did not improve from 0.95509\n",
      "145/145 [==============================] - 66s 457ms/step - loss: 4.1472e-04 - accuracy: 0.9999 - val_loss: 0.3579 - val_accuracy: 0.9478 - lr: 1.0000e-04\n",
      "Epoch 29/30\n",
      "145/145 [==============================] - ETA: 0s - loss: 7.0205e-04 - accuracy: 0.9999\n",
      "Epoch 29: val_accuracy did not improve from 0.95509\n",
      "145/145 [==============================] - 67s 462ms/step - loss: 7.0205e-04 - accuracy: 0.9999 - val_loss: 0.3614 - val_accuracy: 0.9478 - lr: 1.0000e-04\n",
      "Epoch 30/30\n",
      "145/145 [==============================] - ETA: 0s - loss: 5.9806e-04 - accuracy: 0.9999\n",
      "Epoch 30: val_accuracy did not improve from 0.95509\n",
      "145/145 [==============================] - 68s 465ms/step - loss: 5.9806e-04 - accuracy: 0.9999 - val_loss: 0.3670 - val_accuracy: 0.9486 - lr: 1.0000e-04\n"
     ]
    }
   ],
   "source": [
    "# This code trains 10 Convolutional Neural Networks (CNNs) on differently split subsets\n",
    "# of a dataset for binary classification,saves the best model of each training session, \n",
    "# and records their training histories.\n",
    "\n",
    "import os\n",
    "import pickle\n",
    "from sklearn.model_selection import train_test_split\n",
    "from tensorflow.keras.callbacks import ModelCheckpoint, ReduceLROnPlateau\n",
    "\n",
    "# Create the directory for saving models and histories if it doesn't exist\n",
    "save_dir = 'E-classify'\n",
    "os.makedirs(save_dir, exist_ok=True)\n",
    "\n",
    "# Initialize lists to store the training histories and filenames of the best models\n",
    "histories = []\n",
    "model_filenames = []\n",
    "\n",
    "# Define the ReduceLROnPlateau callback\n",
    "reduce_lr = ReduceLROnPlateau(\n",
    "    monitor='val_accuracy',\n",
    "    factor=0.1,      # Factor to reduce the learning rate\n",
    "    patience=10,     # Number of epochs with no improvement to wait before reducing LR\n",
    "    min_lr=0.00001   # Minimum learning rate\n",
    ")\n",
    "\n",
    "# Loop to train 10 CNN models with different data splits\n",
    "for i in range(10):\n",
    "    # Split the dataset into training and validation sets with stratification\n",
    "    X_train, X_val, y_train, y_val = train_test_split(X, y, test_size=0.2, stratify=y, random_state=i)\n",
    "    \n",
    "    # Create a new CNN model for each iteration\n",
    "    model = NOIREnet()\n",
    "\n",
    "    # Define the filename for the checkpoint model\n",
    "    model_filename = os.path.join(save_dir, f'E-label_run{i+1}.h5')\n",
    "\n",
    "    # Define a checkpoint callback to save the best model based on validation accuracy\n",
    "    checkpoint_callback = ModelCheckpoint(\n",
    "        model_filename,\n",
    "        monitor='val_accuracy',\n",
    "        verbose=1,\n",
    "        save_best_only=True,\n",
    "        mode='max',\n",
    "        save_weights_only=False\n",
    "    )\n",
    "\n",
    "    # Train the model with specified callbacks including ReduceLROnPlateau\n",
    "    history = model.fit(\n",
    "        X_train, y_train,\n",
    "        batch_size=64,\n",
    "        epochs=30,\n",
    "        validation_data=(X_val, y_val),\n",
    "        callbacks=[checkpoint_callback, reduce_lr]  # Include ReduceLROnPlateau callback\n",
    "    )\n",
    "\n",
    "    # Save the training history and the filename of the saved best model\n",
    "    histories.append(history.history)\n",
    "    model_filenames.append(model_filename)\n",
    "\n",
    "# Optionally, save the training histories to a file in the same 'E-classify' directory\n",
    "history_filename = os.path.join(save_dir, 'training_histories.pkl')\n",
    "with open(history_filename, 'wb') as file:\n",
    "    pickle.dump({'histories': histories, 'model_filenames': model_filenames}, file)\n"
   ]
  },
  {
   "cell_type": "markdown",
   "id": "805a690a-733a-4d3b-afb1-b0e3b206d660",
   "metadata": {},
   "source": [
    "## 2 - Test the performance of NOIRE-Net on an independent test set"
   ]
  },
  {
   "cell_type": "markdown",
   "id": "3c3f89d8-3587-466a-a86b-26365eb8a92c",
   "metadata": {},
   "source": [
    "### 2.1 - Define a function to get ionogram labels from the testing data "
   ]
  },
  {
   "cell_type": "code",
   "execution_count": 13,
   "id": "de0f04a5-1f1c-4961-a88a-6fbbb955fce7",
   "metadata": {
    "tags": []
   },
   "outputs": [],
   "source": [
    "# This code defines the get_majority_label function which determines the majority label \n",
    "# (True or False) among a list of .par files, and in case of a tie, it randomly selects a label.\n",
    "def get_majority_label(par_files):\n",
    "    # Extract labels from each .par file using the get_label_from_par function\n",
    "    labels = [get_label_from_par(f) for f in par_files]\n",
    "\n",
    "    # If the majority of labels are True, return True\n",
    "    if labels.count(True) > len(labels) / 2:\n",
    "        return True\n",
    "    # If the majority of labels are False, return False\n",
    "    elif labels.count(False) > len(labels) / 2:\n",
    "        return False\n",
    "    # If there is a tie between True and False labels, randomly choose one\n",
    "    else:\n",
    "        return random.choice([True, False])  # Randomize in case of a tie"
   ]
  },
  {
   "cell_type": "markdown",
   "id": "2411faa7-67ce-4838-8090-8f9b2d742b2f",
   "metadata": {},
   "source": [
    "### 2.2 - Define a function to load and process test images"
   ]
  },
  {
   "cell_type": "code",
   "execution_count": 14,
   "id": "dfc09a7b-ca6e-4587-a920-09739013287d",
   "metadata": {
    "tags": []
   },
   "outputs": [],
   "source": [
    "# This code defines the load_and_preprocess_image function, which loads an image from a \n",
    "# specified path, converts it to grayscale, resizes it to 310x310 pixels, normalizes its pixel\n",
    "# values, and returns the processed image as an array.\n",
    "def load_and_preprocess_image(image_path):\n",
    "    # Load the image from the given path, convert it to grayscale, and resize it to 310x310 pixels\n",
    "    image = load_img(image_path, color_mode='grayscale', target_size=(310, 310))\n",
    "\n",
    "    # Convert the image to a numpy array\n",
    "    image = img_to_array(image)\n",
    "\n",
    "    # Normalize the pixel values to be in the range [0, 1]\n",
    "    image /= 255.0\n",
    "\n",
    "    # Return the preprocessed image\n",
    "    return image"
   ]
  },
  {
   "cell_type": "markdown",
   "id": "90a051fa-44f6-4c89-82e1-f0ccd304024b",
   "metadata": {},
   "source": [
    "### 2.3 - Load the trained models with the highest validation accuracy "
   ]
  },
  {
   "cell_type": "code",
   "execution_count": 15,
   "id": "51cd34df-3db6-41c3-aea5-57afc2eeaa0d",
   "metadata": {
    "tags": []
   },
   "outputs": [],
   "source": [
    "# Define function to load models\n",
    "def load_models(models_dir):\n",
    "    return [load_model(os.path.join(models_dir, mf)) for mf in os.listdir(models_dir) if mf.endswith('.h5')]\n",
    "\n",
    "# Specify the directory where the trained models are stored\n",
    "models_dir = 'E-classify'\n",
    "\n",
    "# Load the models\n",
    "models = load_models(models_dir)"
   ]
  },
  {
   "cell_type": "markdown",
   "id": "de2bc90a-ba73-4029-8331-baaedcbb0105",
   "metadata": {},
   "source": [
    "### 2.4 - Define a function to prepare the resting data for comparison with CNNs"
   ]
  },
  {
   "cell_type": "code",
   "execution_count": 16,
   "id": "b0f21219-1788-49a4-9321-47832ae4fdbb",
   "metadata": {
    "tags": []
   },
   "outputs": [],
   "source": [
    "# This function prepares the testing dataset by loading and processing images from a \n",
    "# specified directory and determining corresponding human labels based on majority voting\n",
    "# from associated .par files.\n",
    "def prepare_test_data(ionograms_dir, parameters_dir):\n",
    "    X_test = []  # List to store preprocessed images\n",
    "    y_human = []  # List to store corresponding human labels\n",
    "\n",
    "    # Cache the paths of all .par files for efficient access\n",
    "    par_files_cache = {f: os.path.join(parameters_dir, f) for f in os.listdir(parameters_dir)}\n",
    "\n",
    "    # Iterate through each image file in the ionograms directory\n",
    "    for img_file in os.listdir(ionograms_dir):\n",
    "        if img_file.endswith('.png'):  # Only process .png files\n",
    "            img_path = os.path.join(ionograms_dir, img_file)\n",
    "            X_test.append(load_and_preprocess_image(img_path))  # Load and preprocess the image\n",
    "\n",
    "            # Extract timestamp from the image filename\n",
    "            timestamp = os.path.splitext(img_file)[0]\n",
    "\n",
    "            # Get all .par files relevant to the current image based on timestamp\n",
    "            relevant_par_files = [fpath for fname, fpath in par_files_cache.items() if timestamp in fname]\n",
    "            y_human.append(get_majority_label(relevant_par_files))  # Determine the majority label\n",
    "\n",
    "    # Convert lists to numpy arrays\n",
    "    return np.array(X_test), np.array(y_human).astype(int)"
   ]
  },
  {
   "cell_type": "markdown",
   "id": "1d5a6848-033d-4b97-9148-b01fe0ce6327",
   "metadata": {},
   "source": [
    "### 2.5 - Define a function compare the CNN predictions to the human labeling"
   ]
  },
  {
   "cell_type": "code",
   "execution_count": 17,
   "id": "b25fd9b5-5aa7-4157-beae-66220de9108f",
   "metadata": {
    "tags": []
   },
   "outputs": [],
   "source": [
    "# This function evaluates a list of pre-loaded CNN models on a prepared test dataset, calculates key\n",
    "# performance metrics (precision, recall, F1-score, accuracy), prints their mean and standard deviation,\n",
    "# and returns the normalized confusion matrices for each model.\n",
    "def evaluate_models(models, X_test, y_human):\n",
    "    metrics = {'precision': [], 'recall': [], 'f1': [], 'accuracy': []}  # Dictionary to store metrics for each model\n",
    "    confusion_matrices = []  # List to store confusion matrices for each model\n",
    "\n",
    "    # Iterate over each model and evaluate it\n",
    "    for model in models:\n",
    "        y_pred = model.predict(X_test).round().astype(int)  # Predict labels for the test dataset\n",
    "\n",
    "        # Calculate and store the performance metrics for the current model\n",
    "        metrics['precision'].append(precision_score(y_human, y_pred))\n",
    "        metrics['recall'].append(recall_score(y_human, y_pred))\n",
    "        metrics['f1'].append(f1_score(y_human, y_pred))\n",
    "        metrics['accuracy'].append(accuracy_score(y_human, y_pred))\n",
    "\n",
    "        # Calculate and store the normalized confusion matrix\n",
    "        confusion_matrices.append(confusion_matrix(y_human, y_pred, normalize='true'))\n",
    "\n",
    "    # Print the mean and standard deviation for each metric\n",
    "    for metric, values in metrics.items():\n",
    "        print(f\"Mean {metric.capitalize()}: {np.mean(values):.3f}, Std {metric.capitalize()}: {np.std(values):.3f}\")\n",
    "\n",
    "    return confusion_matrices"
   ]
  },
  {
   "cell_type": "markdown",
   "id": "77730928-60d6-445e-bc3c-4e0032b96a48",
   "metadata": {},
   "source": [
    "### 2.6 - Specify testing directories and prepare testing data"
   ]
  },
  {
   "cell_type": "code",
   "execution_count": 18,
   "id": "c6e111cc-bc88-470b-995e-278041927e72",
   "metadata": {
    "tags": []
   },
   "outputs": [],
   "source": [
    "# Specify the directory where the testing data is located\n",
    "testing_dir = 'testing'\n",
    "\n",
    "# Specify the directory where the input ionograms are located\n",
    "ionograms_dir = os.path.join(testing_dir, 'ionograms')\n",
    "\n",
    "# Specify the directory where the output parameters are located\n",
    "parameters_dir = os.path.join(testing_dir, 'parameters')\n",
    "\n",
    "# Load and prepare the testing data\n",
    "X_test, y_human = prepare_test_data(ionograms_dir, parameters_dir)"
   ]
  },
  {
   "cell_type": "markdown",
   "id": "e712b1aa-747a-4d4e-9212-9f83ed02ca56",
   "metadata": {},
   "source": [
    "### 2.7 - Evaluate the models using precision, recall, F1-score, accuracy"
   ]
  },
  {
   "cell_type": "code",
   "execution_count": 19,
   "id": "c35bce69-be60-494f-878d-26a4a6e7c65a",
   "metadata": {
    "tags": []
   },
   "outputs": [
    {
     "name": "stderr",
     "output_type": "stream",
     "text": [
      "2023-11-28 21:37:43.807279: I tensorflow/core/grappler/optimizers/custom_graph_optimizer_registry.cc:113] Plugin optimizer for device_type GPU is enabled.\n"
     ]
    },
    {
     "name": "stdout",
     "output_type": "stream",
     "text": [
      "21/21 [==============================] - 2s 55ms/step\n"
     ]
    },
    {
     "name": "stderr",
     "output_type": "stream",
     "text": [
      "2023-11-28 21:37:45.605317: I tensorflow/core/grappler/optimizers/custom_graph_optimizer_registry.cc:113] Plugin optimizer for device_type GPU is enabled.\n"
     ]
    },
    {
     "name": "stdout",
     "output_type": "stream",
     "text": [
      "21/21 [==============================] - 1s 49ms/step\n"
     ]
    },
    {
     "name": "stderr",
     "output_type": "stream",
     "text": [
      "2023-11-28 21:37:47.072943: I tensorflow/core/grappler/optimizers/custom_graph_optimizer_registry.cc:113] Plugin optimizer for device_type GPU is enabled.\n"
     ]
    },
    {
     "name": "stdout",
     "output_type": "stream",
     "text": [
      "21/21 [==============================] - 1s 47ms/step\n"
     ]
    },
    {
     "name": "stderr",
     "output_type": "stream",
     "text": [
      "2023-11-28 21:37:48.505406: I tensorflow/core/grappler/optimizers/custom_graph_optimizer_registry.cc:113] Plugin optimizer for device_type GPU is enabled.\n"
     ]
    },
    {
     "name": "stdout",
     "output_type": "stream",
     "text": [
      "21/21 [==============================] - 1s 47ms/step\n"
     ]
    },
    {
     "name": "stderr",
     "output_type": "stream",
     "text": [
      "2023-11-28 21:37:49.963227: I tensorflow/core/grappler/optimizers/custom_graph_optimizer_registry.cc:113] Plugin optimizer for device_type GPU is enabled.\n"
     ]
    },
    {
     "name": "stdout",
     "output_type": "stream",
     "text": [
      "21/21 [==============================] - 1s 49ms/step\n"
     ]
    },
    {
     "name": "stderr",
     "output_type": "stream",
     "text": [
      "2023-11-28 21:37:51.420933: I tensorflow/core/grappler/optimizers/custom_graph_optimizer_registry.cc:113] Plugin optimizer for device_type GPU is enabled.\n"
     ]
    },
    {
     "name": "stdout",
     "output_type": "stream",
     "text": [
      "21/21 [==============================] - 2s 53ms/step\n"
     ]
    },
    {
     "name": "stderr",
     "output_type": "stream",
     "text": [
      "2023-11-28 21:37:53.070000: I tensorflow/core/grappler/optimizers/custom_graph_optimizer_registry.cc:113] Plugin optimizer for device_type GPU is enabled.\n"
     ]
    },
    {
     "name": "stdout",
     "output_type": "stream",
     "text": [
      "21/21 [==============================] - 2s 53ms/step\n"
     ]
    },
    {
     "name": "stderr",
     "output_type": "stream",
     "text": [
      "2023-11-28 21:37:54.781818: I tensorflow/core/grappler/optimizers/custom_graph_optimizer_registry.cc:113] Plugin optimizer for device_type GPU is enabled.\n"
     ]
    },
    {
     "name": "stdout",
     "output_type": "stream",
     "text": [
      "21/21 [==============================] - 2s 54ms/step\n"
     ]
    },
    {
     "name": "stderr",
     "output_type": "stream",
     "text": [
      "2023-11-28 21:37:56.554193: I tensorflow/core/grappler/optimizers/custom_graph_optimizer_registry.cc:113] Plugin optimizer for device_type GPU is enabled.\n"
     ]
    },
    {
     "name": "stdout",
     "output_type": "stream",
     "text": [
      "21/21 [==============================] - 1s 50ms/step\n"
     ]
    },
    {
     "name": "stderr",
     "output_type": "stream",
     "text": [
      "2023-11-28 21:37:58.111046: I tensorflow/core/grappler/optimizers/custom_graph_optimizer_registry.cc:113] Plugin optimizer for device_type GPU is enabled.\n"
     ]
    },
    {
     "name": "stdout",
     "output_type": "stream",
     "text": [
      "21/21 [==============================] - 2s 54ms/step\n",
      "Mean Precision: 0.969, Std Precision: 0.007\n",
      "Mean Recall: 0.971, Std Recall: 0.010\n",
      "Mean F1: 0.969, Std F1: 0.004\n",
      "Mean Accuracy: 0.960, Std Accuracy: 0.005\n"
     ]
    }
   ],
   "source": [
    "# Evaluate the models located in 'models_dir' using the test data in 'testing_dir'\n",
    "# and store the returned confusion matrices\n",
    "confusion_matrices = evaluate_models(models, X_test, y_human)"
   ]
  },
  {
   "cell_type": "markdown",
   "id": "4e3abad7-447e-433f-8a60-b54554d057bc",
   "metadata": {},
   "source": [
    "### 2.8 - Calculate the mean and standard deviation of TP, FN, FP and TN"
   ]
  },
  {
   "cell_type": "code",
   "execution_count": 20,
   "id": "ad3af965-6919-49a8-8781-0e0f33421841",
   "metadata": {
    "tags": []
   },
   "outputs": [],
   "source": [
    "# Convert list of confusion matrices to a 3D NumPy array for easier calculations\n",
    "confusion_matrices = np.array(confusion_matrices)\n",
    "\n",
    "# Calculate mean and standard deviation for TP, FN, FP, TN\n",
    "mean_tp = np.mean(confusion_matrices[:, 1, 1])\n",
    "std_tp = np.std(confusion_matrices[:, 1, 1])\n",
    "\n",
    "mean_fn = np.mean(confusion_matrices[:, 1, 0])\n",
    "std_fn = np.std(confusion_matrices[:, 1, 0])\n",
    "\n",
    "mean_fp = np.mean(confusion_matrices[:, 0, 1])\n",
    "std_fp = np.std(confusion_matrices[:, 0, 1])\n",
    "\n",
    "mean_tn = np.mean(confusion_matrices[:, 0, 0])\n",
    "std_tn = np.std(confusion_matrices[:, 0, 0])\n",
    "\n",
    "# Metrics, means, and standard deviations\n",
    "means = [mean_tp, mean_fn, mean_fp, mean_tn]\n",
    "std_devs = [std_tp, std_fn, std_fp, std_tn]"
   ]
  },
  {
   "cell_type": "markdown",
   "id": "5afdf7bc-b2f4-4e2f-9f8c-beb9252378b3",
   "metadata": {},
   "source": [
    "## 3 - Display the confusion matrix "
   ]
  },
  {
   "cell_type": "markdown",
   "id": "6c8e5485-206d-4adf-a015-f40767f4d547",
   "metadata": {},
   "source": [
    "### 3.1 - Define Function for Text Color Based on Background"
   ]
  },
  {
   "cell_type": "code",
   "execution_count": 21,
   "id": "c0855531-5415-4c41-b608-b842c585a43a",
   "metadata": {
    "tags": []
   },
   "outputs": [],
   "source": [
    "# This function determines the text color (black or white) based on the background color's\n",
    "# luminance for better readability.\n",
    "def text_color_based_on_bg(bg_color):\n",
    "    # Calculate the perceptual luminance of the color\n",
    "    luminance = (0.299 * bg_color[0] + 0.587 * bg_color[1] + 0.114 * bg_color[2])\n",
    "    return 'white' if luminance < 0.5 else 'black'"
   ]
  },
  {
   "cell_type": "markdown",
   "id": "cbbe17e3-1220-4083-ba76-fae52c70fc60",
   "metadata": {},
   "source": [
    "### 3.2 - Plot the Confusion Matrix Statistics"
   ]
  },
  {
   "cell_type": "code",
   "execution_count": 22,
   "id": "a72244be-2546-42c8-a21f-bf0b0198296e",
   "metadata": {
    "tags": []
   },
   "outputs": [
    {
     "data": {
      "image/png": "[encoded data removed]",
      "text/plain": [
       "<Figure size 600x600 with 5 Axes>"
      ]
     },
     "metadata": {},
     "output_type": "display_data"
    }
   ],
   "source": [
    "# This code creates a 2x2 plot with colored squares representing the mean and standard \n",
    "# deviation of TP, FN, FP, and TN from the confusion matrices.\n",
    "\n",
    "# Setup color map with normalization between 0 and 1\n",
    "cmap = plt.cm.inferno\n",
    "norm = mcolors.Normalize(vmin=0, vmax=1)\n",
    "\n",
    "# Create a 2x2 subplot figure with adjusted spacing\n",
    "fig, axs = plt.subplots(2, 2, figsize=(6, 6))\n",
    "axs = axs.flatten()\n",
    "\n",
    "means = [mean_tp, mean_fn, mean_fp, mean_tn]\n",
    "std_devs = [std_tp, std_fn, std_fp, std_tn]\n",
    "\n",
    "# Iterate over each subplot to add the confusion matrix data\n",
    "for i, ax in enumerate(axs):\n",
    "    color = cmap(norm(means[i]))  # Set the color based on the mean value\n",
    "    ax.add_patch(plt.Rectangle((0, 0), 1, 1, color=color))  # Create a colored square\n",
    "\n",
    "    text_color = text_color_based_on_bg(color)  # Determine text color\n",
    "    text = f'{means[i]:.3f} ± {std_devs[i]:.3f}'  # Format text for mean ± std deviation\n",
    "    ax.text(0.5, 0.5, text, ha='center', va='center', fontsize=14, color=text_color)  # Add text to the subplot\n",
    "\n",
    "    ax.axis('off')  # Remove axes\n",
    "\n",
    "# Adjust subplot parameters so squares touch each other\n",
    "plt.subplots_adjust(wspace=0, hspace=0)\n",
    "\n",
    "# Add a colorbar and adjust its font size\n",
    "sm = plt.cm.ScalarMappable(cmap=cmap, norm=norm)\n",
    "sm.set_array([])\n",
    "cbar = plt.colorbar(sm, ax=axs, orientation='horizontal', fraction=0.046, pad=0.04)\n",
    "cbar.ax.tick_params(labelsize=14)  # Set font size for colorbar ticks\n",
    "\n",
    "plt.show()"
   ]
  },
  {
   "cell_type": "code",
   "execution_count": null,
   "id": "586a2a51-1340-426a-b634-be1d2afbf625",
   "metadata": {},
   "outputs": [],
   "source": []
  }
 ],
 "metadata": {
  "kernelspec": {
   "display_name": "Python 3.10 (tensorflow)",
   "language": "python",
   "name": "tensorflow"
  },
  "language_info": {
   "codemirror_mode": {
    "name": "ipython",
    "version": 3
   },
   "file_extension": ".py",
   "mimetype": "text/x-python",
   "name": "python",
   "nbconvert_exporter": "python",
   "pygments_lexer": "ipython3",
   "version": "3.10.9"
  }
 },
 "nbformat": 4,
 "nbformat_minor": 5
}
