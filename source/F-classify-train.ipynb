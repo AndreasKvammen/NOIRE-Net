{
 "cells": [
  {
   "cell_type": "markdown",
   "id": "6553ab89-fa75-447a-8c08-7f25ac7ad487",
   "metadata": {},
   "source": [
    "# F-classify-train: This Notebook trains the NOIRE-Net F-region classification networks"
   ]
  },
  {
   "cell_type": "markdown",
   "id": "822ec13f-8079-401c-aaf2-37f2981acd5b",
   "metadata": {},
   "source": [
    "## 1 - Import libaries "
   ]
  },
  {
   "cell_type": "code",
   "execution_count": 1,
   "id": "80990a8e-2d87-444b-aa25-42ea1903521d",
   "metadata": {
    "tags": []
   },
   "outputs": [],
   "source": [
    "import os\n",
    "import random\n",
    "import numpy as np\n",
    "from tensorflow.keras.models import Sequential\n",
    "from tensorflow.keras.layers import Conv2D, MaxPooling2D, Flatten, Dense, BatchNormalization, Dropout\n",
    "from tensorflow.keras.preprocessing.image import img_to_array, load_img\n",
    "from sklearn.metrics import mean_squared_error\n",
    "from tensorflow.keras.callbacks import ModelCheckpoint, ReduceLROnPlateau\n",
    "import pickle\n",
    "from sklearn.model_selection import KFold"
   ]
  },
  {
   "cell_type": "markdown",
   "id": "c57942b9-0d1e-4c29-b201-dae42e4f99bd",
   "metadata": {},
   "source": [
    "## 2 - Define function to get ionogram label (True = F-region, False = No F-region)"
   ]
  },
  {
   "cell_type": "code",
   "execution_count": 2,
   "id": "4b8714c8-324c-4ddb-ab4e-5ac56070ba76",
   "metadata": {
    "tags": []
   },
   "outputs": [],
   "source": [
    "# The function get_label_from_par reads a .par file and returns \n",
    "# True if either the second or fourth item is not 'nan', \n",
    "# indicating the presence of an F-region in the corresponding image,\n",
    "# for use in binary classification.\n",
    "\n",
    "def get_label_from_par(par_file_path):\n",
    "    try:\n",
    "        # Open the .par file located at par_file_path\n",
    "        with open(par_file_path, 'r') as file:\n",
    "            content = file.readline().strip()  # Read and strip the first line of the file\n",
    "            items = content.split()  # Split the line into individual items (usually numbers or 'nan')\n",
    "\n",
    "            # Check the first (index 0) and third (index 2) items:\n",
    "            # If either of these items is not 'nan', it implies the presence of an F-region.\n",
    "            # The function then returns True, indicating that this image has an F-region.\n",
    "            is_f_region = items[0].lower() != 'nan' or items[2].lower() != 'nan'\n",
    "        return is_f_region\n",
    "\n",
    "    except IndexError:\n",
    "        # This block catches an IndexError, which occurs if the line read from the file\n",
    "        # does not have at least four items. In such a case, the function assumes that\n",
    "        # the F-region data is not present or not properly formatted, and returns False.\n",
    "        return False\n",
    "\n",
    "    except Exception as e:\n",
    "        # This block catches any other exceptions (like file not found, read errors, etc.).\n",
    "        # It prints the exception message and returns False, indicating an issue with processing the file.\n",
    "        print(f\"Error reading {par_file_path}: {e}\")\n",
    "        return False"
   ]
  },
  {
   "cell_type": "markdown",
   "id": "ff5dd112-47cc-48b4-915e-5d52e25ec6cc",
   "metadata": {
    "tags": []
   },
   "source": [
    "## 3 - Define function to load ionograms and preprocess the data"
   ]
  },
  {
   "cell_type": "code",
   "execution_count": 3,
   "id": "c413a846-e152-4d08-9231-856a3066eded",
   "metadata": {
    "tags": []
   },
   "outputs": [],
   "source": [
    "# The load_data function loads and preprocesses images and their corresponding labels\n",
    "# from specified directories, based on a list of file identifiers, and returns arrays\n",
    "# of these images and labels for further processing.\n",
    "\n",
    "# Function to load the images and labels given a list of file bases (timestamps)\n",
    "def load_data(file_bases, ionogram_dir, parameter_dir):\n",
    "    images = []  # List to store preprocessed images\n",
    "    labels = []  # List to store corresponding labels\n",
    "    \n",
    "    # Iterate over the provided file bases to load images and labels\n",
    "    for base in file_bases:\n",
    "        img_path = os.path.join(ionogram_dir, base + '.png')\n",
    "        par_path = os.path.join(parameter_dir, base + '.par')\n",
    "\n",
    "        # Load the image, convert it to grayscale, resize it, and normalize pixel values\n",
    "        image = load_img(img_path, color_mode='grayscale', target_size=(310, 310))\n",
    "        image = img_to_array(image)\n",
    "        image /= 255.0  # Normalize image pixels to be between 0 and 1\n",
    "\n",
    "        # Load the label for the image using the get_label_from_par function\n",
    "        label = get_label_from_par(par_path)\n",
    "\n",
    "        # Append the preprocessed image and label to their respective lists\n",
    "        images.append(image)\n",
    "        labels.append(label)\n",
    "\n",
    "    # Convert the lists of images and labels to numpy arrays\n",
    "    return np.array(images), np.array(labels).astype(int)"
   ]
  },
  {
   "cell_type": "markdown",
   "id": "cd4b934f-7e91-4278-8f9a-987292dad503",
   "metadata": {},
   "source": [
    "## 4 - Define data paths and sort the files by their epoch timestamp"
   ]
  },
  {
   "cell_type": "code",
   "execution_count": 4,
   "id": "beff9682-4763-47f3-a2bb-9f4365a137a9",
   "metadata": {},
   "outputs": [],
   "source": [
    "# This code defines paths to directories containing ionogram images and parameter files, \n",
    "# then creates a sorted list of unique identifiers (epoch timestamps) from the names of the ionogram images, \n",
    "# ensuring the data is ordered chronologically.\n",
    "\n",
    "# Define the directory paths to the data\n",
    "ionogram_dir = '/Users/akv020/Tensorflow/NOIRE-Net/data/train-val-test/ionograms'\n",
    "parameter_dir = '/Users/akv020/Tensorflow/NOIRE-Net/data/train-val-test/parameters'\n",
    "\n",
    "# Get a sorted list of file names (without file extensions) from the ionogram directory\n",
    "data_files = sorted([f.split('.')[0] for f in os.listdir(ionogram_dir) if f.endswith('.png')])\n",
    "\n",
    "# Ensure the data is sorted by the epoch timestamp\n",
    "data_files = sorted(data_files, key=int)"
   ]
  },
  {
   "cell_type": "markdown",
   "id": "728d135e-db51-48ed-bdf5-7a0b6986a152",
   "metadata": {},
   "source": [
    "## 5 - Define training, validation and testing indeces for 10-fold cross-validation run"
   ]
  },
  {
   "cell_type": "code",
   "execution_count": 5,
   "id": "7afe3860-0d1f-45e1-9b61-dc0697a3d1d8",
   "metadata": {
    "tags": []
   },
   "outputs": [],
   "source": [
    "# This code sets up a 10-fold cross-validation framework, pre-computing and storing indices for \n",
    "# training, validation, and test sets for each fold, with a circular permutation applied \n",
    "# to the test set indices to maintain the temporal order of the data.\n",
    "\n",
    "# Define the number of splits for KFold\n",
    "n_splits = 10\n",
    "kf = KFold(n_splits=n_splits)\n",
    "\n",
    "# Pre-compute the indices for training, validation, and test sets for each fold\n",
    "train_indices = []\n",
    "val_indices = []\n",
    "test_indices = []\n",
    "\n",
    "# Pre-compute the indices for training, validation, and test sets for each fold\n",
    "train_indices = []\n",
    "val_indices = []\n",
    "test_indices = []\n",
    "\n",
    "# Number of samples for validation and test sets\n",
    "num_val_samples = int(len(data_files) * 0.1)\n",
    "\n",
    "for fold, (train_val_idx, test_idx) in enumerate(kf.split(data_files)):\n",
    "    # Circular permutation for the test set\n",
    "    test_idx = np.roll(test_idx, fold * num_val_samples)\n",
    "    \n",
    "    # Split the train_val_idx further into train and validation sets\n",
    "    val_idx = train_val_idx[:num_val_samples]\n",
    "    train_idx = train_val_idx[num_val_samples:]\n",
    "    \n",
    "    # Store the indices\n",
    "    train_indices.append(train_idx)\n",
    "    val_indices.append(val_idx)\n",
    "    test_indices.append(test_idx)"
   ]
  },
  {
   "cell_type": "markdown",
   "id": "12934bcf-6a1f-4429-b3a7-31bbf697c4fb",
   "metadata": {},
   "source": [
    "## 6 - Define a function to create the NOIRE-Net architecture"
   ]
  },
  {
   "cell_type": "code",
   "execution_count": 6,
   "id": "63999a78-e194-419d-a6cb-93a42fd9a1c8",
   "metadata": {
    "tags": []
   },
   "outputs": [],
   "source": [
    "# This code defines and complies NOIRE-Net a convolutional neural network (CNN) model using Keras, \n",
    "# with multiple convolutional layers, batch normalization, max pooling, and dense layers, \n",
    "# designed for binary classification tasks.\n",
    "\n",
    "def NOIREnet():\n",
    "    model = Sequential([\n",
    "    # First convolutional layer with 32 filters and a kernel size of 3x3\n",
    "    # 'padding=same' ensures the output size is the same as the input size\n",
    "    # 'input_shape' is set for the first layer to indicate the shape of the input data\n",
    "    Conv2D(32, (3, 3), padding='same', activation='relu', input_shape=(310, 310, 1)),\n",
    "    \n",
    "    # Batch normalization to normalize the activations from the previous layer\n",
    "    BatchNormalization(),\n",
    "\n",
    "    # Second convolutional layer with 32 filters and a kernel size of 3x3\n",
    "    Conv2D(32, (3, 3), activation='relu'),\n",
    "\n",
    "    # Another batch normalization\n",
    "    BatchNormalization(),\n",
    "\n",
    "    # First max pooling layer to reduce spatial dimensions\n",
    "    MaxPooling2D((2, 2)),\n",
    "\n",
    "    # Repeating the pattern of two convolutional layers followed by batch normalization\n",
    "    # and a max pooling layer, gradually increasing the number of filters\n",
    "    Conv2D(32, (3, 3), padding='same', activation='relu'),\n",
    "    BatchNormalization(),\n",
    "    Conv2D(32, (3, 3), activation='relu'),\n",
    "    BatchNormalization(),\n",
    "    MaxPooling2D((2, 2)),\n",
    "\n",
    "    Conv2D(64, (3, 3), padding='same', activation='relu'),\n",
    "    BatchNormalization(),\n",
    "    Conv2D(64, (3, 3), activation='relu'),\n",
    "    BatchNormalization(),\n",
    "    MaxPooling2D((2, 2)),\n",
    "\n",
    "    Conv2D(64, (3, 3), padding='same', activation='relu'),\n",
    "    BatchNormalization(),\n",
    "    Conv2D(64, (3, 3), activation='relu'),\n",
    "    BatchNormalization(),\n",
    "    MaxPooling2D((2, 2)),\n",
    "\n",
    "    Conv2D(128, (3, 3), padding='same', activation='relu'),\n",
    "    BatchNormalization(),\n",
    "    Conv2D(128, (3, 3), activation='relu'),\n",
    "    BatchNormalization(),\n",
    "    MaxPooling2D((2, 2)),\n",
    "\n",
    "    Conv2D(128, (3, 3), padding='same', activation='relu'),\n",
    "    BatchNormalization(),\n",
    "    Conv2D(128, (3, 3), activation='relu'),\n",
    "    BatchNormalization(),\n",
    "    MaxPooling2D((2, 2)),\n",
    "\n",
    "    # Flatten the output from the convolutional layers to feed into dense layers\n",
    "    Flatten(),\n",
    "\n",
    "    # Dense (fully connected) layer with 256 neurons and relu activation\n",
    "    Dense(256, activation='relu'),\n",
    "\n",
    "    # Dropout layer to reduce overfitting\n",
    "    Dropout(0.5),\n",
    "\n",
    "    # Another dense layer with 128 neurons\n",
    "    Dense(128, activation='relu'),\n",
    "\n",
    "    # Output layer with a single neuron and sigmoid activation for binary classification\n",
    "    Dense(1, activation='sigmoid')\n",
    "    ])\n",
    "    \n",
    "    # Compile the CNN model\n",
    "    model.compile(\n",
    "        optimizer='adam',  # Using the Adam optimizer for adaptive learning rate optimization\n",
    "        loss='binary_crossentropy',  # Binary crossentropy loss function, suitable for binary classification tasks\n",
    "        metrics=['accuracy']  # The model will report 'accuracy' as a performance metric\n",
    "    )\n",
    "    \n",
    "    # Return the compiled model\n",
    "    return model"
   ]
  },
  {
   "cell_type": "markdown",
   "id": "851e79f5-b94d-4d83-9fb5-2eec0704815b",
   "metadata": {},
   "source": [
    "## 7 - Train 10 CNNs for F-region classification and save the models"
   ]
  },
  {
   "cell_type": "code",
   "execution_count": null,
   "id": "d2c64aa5-20e0-4d48-b719-ccc1e1d6e537",
   "metadata": {
    "tags": []
   },
   "outputs": [],
   "source": [
    "# This code trains 10 Convolutional Neural Networks (CNNs) on different folds of the\n",
    "# dataset for binary classification, saves the best model of each training session, \n",
    "# and records their training histories.\n",
    "\n",
    "\n",
    "# Create the directory for saving models and histories if it doesn't exist\n",
    "save_dir = '/Users/akv020/Tensorflow/NOIRE-Net/NOIRE-Net/F-classify'\n",
    "os.makedirs(save_dir, exist_ok=True)\n",
    "\n",
    "# Initialize lists to store the training histories and filenames of the best models\n",
    "histories = []\n",
    "model_filenames = []\n",
    "\n",
    "# Define the ReduceLROnPlateau callback\n",
    "reduce_lr = ReduceLROnPlateau(\n",
    "    monitor='val_accuracy',\n",
    "    factor=0.1,      # Factor to reduce the learning rate\n",
    "    patience=6,     # Number of epochs with no improvement to wait before reducing LR\n",
    "    min_lr=0.00001   # Minimum learning rate\n",
    ")\n",
    "\n",
    "# Loop to train 10 CNN models over 10 folds\n",
    "for i in range(n_splits):\n",
    "    \n",
    "    # Select the pre-computed indices for the current fold\n",
    "    train_idx = train_indices[i]\n",
    "    val_idx = val_indices[i]\n",
    "    test_idx = test_indices[i]\n",
    "    \n",
    "    # Convert indices to file names for loading data\n",
    "    train_files = [data_files[idx] for idx in train_idx]\n",
    "    val_files = [data_files[idx] for idx in val_idx]\n",
    "    test_files = [data_files[idx] for idx in test_idx]\n",
    "    \n",
    "    # Load the data for the current fold\n",
    "    X_train, y_train = load_data(train_files, ionogram_dir, parameter_dir)\n",
    "    X_val, y_val = load_data(val_files, ionogram_dir, parameter_dir)\n",
    "    # X_test, y_test = load_data(test_files, ionogram_dir, parameter_dir) Not needed during the training stage\n",
    "    \n",
    "    # Create a new CNN model for each iteration\n",
    "    model = NOIREnet()\n",
    "\n",
    "    # Define the filename for the checkpoint model\n",
    "    model_filename = os.path.join(save_dir, f'F-classify_run{i+1}.h5')\n",
    "\n",
    "    # Define a checkpoint callback to save the best model based on validation accuracy\n",
    "    checkpoint_callback = ModelCheckpoint(\n",
    "        model_filename,\n",
    "        monitor='val_accuracy',\n",
    "        verbose=1,\n",
    "        save_best_only=True,\n",
    "        mode='max',\n",
    "        save_weights_only=False\n",
    "    )\n",
    "\n",
    "    # Train the model with specified callbacks including ReduceLROnPlateau\n",
    "    history = model.fit(\n",
    "        X_train, y_train,\n",
    "        batch_size=64,\n",
    "        epochs=30,\n",
    "        validation_data=(X_val, y_val),\n",
    "        callbacks=[checkpoint_callback, reduce_lr]  # Include ReduceLROnPlateau callback\n",
    "    )\n",
    "\n",
    "    # Save the training history and the filename of the saved best model\n",
    "    histories.append(history.history)\n",
    "    model_filenames.append(model_filename)\n",
    "    \n",
    "    print(f\"Completed fold {i+1}/{n_splits}\")\n",
    "\n",
    "# Optionally, save the training histories to a file in the same 'E-classify' directory\n",
    "history_filename = os.path.join(save_dir, 'training_histories.pkl')\n",
    "with open(history_filename, 'wb') as file:\n",
    "    pickle.dump({'histories': histories, 'model_filenames': model_filenames}, file)"
   ]
  }
 ],
 "metadata": {
  "kernelspec": {
   "display_name": "Python 3.10 (tensorflow)",
   "language": "python",
   "name": "tensorflow"
  },
  "language_info": {
   "codemirror_mode": {
    "name": "ipython",
    "version": 3
   },
   "file_extension": ".py",
   "mimetype": "text/x-python",
   "name": "python",
   "nbconvert_exporter": "python",
   "pygments_lexer": "ipython3",
   "version": "3.10.9"
  }
 },
 "nbformat": 4,
 "nbformat_minor": 5
}
