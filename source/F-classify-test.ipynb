{
 "cells": [
  {
   "cell_type": "markdown",
   "id": "6553ab89-fa75-447a-8c08-7f25ac7ad487",
   "metadata": {},
   "source": [
    "# F-classify-test: This Notebook test the performance of the NOIRE-Net F-region classification networks"
   ]
  },
  {
   "cell_type": "markdown",
   "id": "822ec13f-8079-401c-aaf2-37f2981acd5b",
   "metadata": {},
   "source": [
    "## 1 - Import libaries "
   ]
  },
  {
   "cell_type": "code",
   "execution_count": 1,
   "id": "80990a8e-2d87-444b-aa25-42ea1903521d",
   "metadata": {
    "tags": []
   },
   "outputs": [],
   "source": [
    "import os\n",
    "import random\n",
    "import numpy as np\n",
    "from sklearn.metrics import mean_squared_error\n",
    "from math import sqrt\n",
    "import pickle\n",
    "from tensorflow.keras.models import load_model\n",
    "from tensorflow.keras.preprocessing.image import img_to_array, load_img\n",
    "from sklearn.metrics import confusion_matrix\n",
    "import matplotlib.pyplot as plt\n",
    "import matplotlib.colors as mcolors\n",
    "from sklearn.metrics import cohen_kappa_score, precision_score, recall_score, f1_score, accuracy_score\n",
    "from sklearn.model_selection import train_test_split"
   ]
  },
  {
   "cell_type": "markdown",
   "id": "c57942b9-0d1e-4c29-b201-dae42e4f99bd",
   "metadata": {},
   "source": [
    "## 2 - Define function to get ionogram label (True = F-region, False = No F-region)"
   ]
  },
  {
   "cell_type": "code",
   "execution_count": 2,
   "id": "4b8714c8-324c-4ddb-ab4e-5ac56070ba76",
   "metadata": {
    "tags": []
   },
   "outputs": [],
   "source": [
    "# The function get_label_from_par reads a .par file and returns \n",
    "# True if either the second or fourth item is not 'nan', \n",
    "# indicating the presence of an F-region in the corresponding image,\n",
    "# for use in binary classification.\n",
    "\n",
    "def get_label_from_par(par_file_path):\n",
    "    try:\n",
    "        # Open the .par file located at par_file_path\n",
    "        with open(par_file_path, 'r') as file:\n",
    "            content = file.readline().strip()  # Read and strip the first line of the file\n",
    "            items = content.split()  # Split the line into individual items (usually numbers or 'nan')\n",
    "\n",
    "            # Check the first (index 0) and third (index 2) items:\n",
    "            # If either of these items is not 'nan', it implies the presence of an F-region.\n",
    "            # The function then returns True, indicating that this image has an F-region.\n",
    "            is_f_region = items[0].lower() != 'nan' or items[2].lower() != 'nan'\n",
    "        return is_f_region\n",
    "\n",
    "    except IndexError:\n",
    "        # This block catches an IndexError, which occurs if the line read from the file\n",
    "        # does not have at least four items. In such a case, the function assumes that\n",
    "        # the F-region data is not present or not properly formatted, and returns False.\n",
    "        return False\n",
    "\n",
    "    except Exception as e:\n",
    "        # This block catches any other exceptions (like file not found, read errors, etc.).\n",
    "        # It prints the exception message and returns False, indicating an issue with processing the file.\n",
    "        print(f\"Error reading {par_file_path}: {e}\")\n",
    "        return False"
   ]
  },
  {
   "cell_type": "markdown",
   "id": "f319c4a5-e42b-486a-a8ac-ded47a459d2d",
   "metadata": {
    "tags": []
   },
   "source": [
    "## 3 - Define functions to load and process test images"
   ]
  },
  {
   "cell_type": "code",
   "execution_count": 3,
   "id": "ccac9030-9282-44a8-9bd3-f9de39fecbd0",
   "metadata": {
    "tags": []
   },
   "outputs": [],
   "source": [
    "# The load_data function loads and preprocesses image data from a specified directory,\n",
    "# converting images to grayscale and resizing them, while also extracting corresponding\n",
    "# binary labels from associated .par files for a classification task.\n",
    "\n",
    "def load_data(data_dir):\n",
    "    images = []  # List to store preprocessed images\n",
    "    labels = []  # List to store corresponding labels\n",
    "\n",
    "    # Construct paths to the directories containing ionograms and parameters\n",
    "    ionograms_dir = os.path.join(data_dir, 'ionograms')\n",
    "    parameters_dir = os.path.join(data_dir, 'parameters')\n",
    "\n",
    "    # Iterate over the files in the ionograms directory\n",
    "    for filename in os.listdir(ionograms_dir):\n",
    "        if filename.endswith('.png'):  # Check if the file is a PNG image\n",
    "            # Construct full paths to the image file and its corresponding .par file\n",
    "            img_path = os.path.join(ionograms_dir, filename)\n",
    "            par_path = os.path.join(parameters_dir, filename.replace('.png', '.par'))\n",
    "\n",
    "            # Load the image, convert it to grayscale, resize it, and normalize pixel values\n",
    "            image = load_img(img_path, color_mode='grayscale', target_size=(310, 310))\n",
    "            image = img_to_array(image)\n",
    "            image /= 255.0  # Normalize image pixels to be between 0 and 1\n",
    "\n",
    "            # Load the label for the image using the get_label_from_par function\n",
    "            label = get_label_from_par(par_path)\n",
    "\n",
    "            # Append the preprocessed image and label to their respective lists\n",
    "            images.append(image)\n",
    "            labels.append(label)\n",
    "\n",
    "    # Convert the lists of images and labels to numpy arrays and return them\n",
    "    return np.array(images), np.array(labels).astype(int)"
   ]
  },
  {
   "cell_type": "markdown",
   "id": "1c063f4f-3017-4241-bb7c-a5b57dddf30f",
   "metadata": {
    "tags": []
   },
   "source": [
    "## 4 - Extract testing images and labels from human experts"
   ]
  },
  {
   "cell_type": "code",
   "execution_count": 4,
   "id": "34b49993-b699-4225-9eb5-5f8a6bea36f7",
   "metadata": {},
   "outputs": [],
   "source": [
    "# Specify the directory where the data is stored\n",
    "data_dir = 'train-val-test'  # 'train_test_val' should be replaced with the actual path to your data directory\n",
    "\n",
    "# Call the load_data function to load and preprocess the data\n",
    "# X will contain the preprocessed images, and y will contain the corresponding labels\n",
    "X, y = load_data(data_dir)"
   ]
  },
  {
   "cell_type": "markdown",
   "id": "678d7c34-3c7a-4545-be4d-616787049a09",
   "metadata": {},
   "source": [
    "## 5 - Load the trained models and evaluate the performance on the testing data "
   ]
  },
  {
   "cell_type": "code",
   "execution_count": 5,
   "id": "de220017-c83e-4922-8309-b8efb7abc5ce",
   "metadata": {
    "tags": []
   },
   "outputs": [
    {
     "name": "stdout",
     "output_type": "stream",
     "text": [
      "Metal device set to: Apple M1 Max\n"
     ]
    },
    {
     "name": "stderr",
     "output_type": "stream",
     "text": [
      "2023-12-06 20:43:05.377628: I tensorflow/core/common_runtime/pluggable_device/pluggable_device_factory.cc:305] Could not identify NUMA node of platform GPU ID 0, defaulting to 0. Your kernel may not have been built with NUMA support.\n",
      "2023-12-06 20:43:05.377830: I tensorflow/core/common_runtime/pluggable_device/pluggable_device_factory.cc:271] Created TensorFlow device (/job:localhost/replica:0/task:0/device:GPU:0 with 0 MB memory) -> physical PluggableDevice (device: 0, name: METAL, pci bus id: <undefined>)\n",
      "2023-12-06 20:43:07.521433: W tensorflow/core/platform/profile_utils/cpu_utils.cc:128] Failed to get CPU frequency: 0 Hz\n",
      "2023-12-06 20:43:07.793590: I tensorflow/core/grappler/optimizers/custom_graph_optimizer_registry.cc:113] Plugin optimizer for device_type GPU is enabled.\n"
     ]
    },
    {
     "name": "stdout",
     "output_type": "stream",
     "text": [
      "79/79 [==============================] - 7s 72ms/step\n"
     ]
    },
    {
     "name": "stderr",
     "output_type": "stream",
     "text": [
      "2023-12-06 20:43:34.783056: I tensorflow/core/grappler/optimizers/custom_graph_optimizer_registry.cc:113] Plugin optimizer for device_type GPU is enabled.\n"
     ]
    },
    {
     "name": "stdout",
     "output_type": "stream",
     "text": [
      "79/79 [==============================] - 14s 165ms/step\n"
     ]
    },
    {
     "name": "stderr",
     "output_type": "stream",
     "text": [
      "2023-12-06 20:44:13.316169: I tensorflow/core/grappler/optimizers/custom_graph_optimizer_registry.cc:113] Plugin optimizer for device_type GPU is enabled.\n"
     ]
    },
    {
     "name": "stdout",
     "output_type": "stream",
     "text": [
      "79/79 [==============================] - 12s 148ms/step\n"
     ]
    },
    {
     "name": "stderr",
     "output_type": "stream",
     "text": [
      "2023-12-06 20:44:53.086726: I tensorflow/core/grappler/optimizers/custom_graph_optimizer_registry.cc:113] Plugin optimizer for device_type GPU is enabled.\n"
     ]
    },
    {
     "name": "stdout",
     "output_type": "stream",
     "text": [
      "79/79 [==============================] - 11s 136ms/step\n"
     ]
    },
    {
     "name": "stderr",
     "output_type": "stream",
     "text": [
      "2023-12-06 20:45:27.529244: I tensorflow/core/grappler/optimizers/custom_graph_optimizer_registry.cc:113] Plugin optimizer for device_type GPU is enabled.\n"
     ]
    },
    {
     "name": "stdout",
     "output_type": "stream",
     "text": [
      "79/79 [==============================] - 13s 165ms/step\n"
     ]
    },
    {
     "name": "stderr",
     "output_type": "stream",
     "text": [
      "2023-12-06 20:46:06.789763: I tensorflow/core/grappler/optimizers/custom_graph_optimizer_registry.cc:113] Plugin optimizer for device_type GPU is enabled.\n"
     ]
    },
    {
     "name": "stdout",
     "output_type": "stream",
     "text": [
      "79/79 [==============================] - 12s 145ms/step\n"
     ]
    },
    {
     "name": "stderr",
     "output_type": "stream",
     "text": [
      "2023-12-06 20:46:46.127769: I tensorflow/core/grappler/optimizers/custom_graph_optimizer_registry.cc:113] Plugin optimizer for device_type GPU is enabled.\n"
     ]
    },
    {
     "name": "stdout",
     "output_type": "stream",
     "text": [
      "79/79 [==============================] - 12s 139ms/step\n"
     ]
    },
    {
     "name": "stderr",
     "output_type": "stream",
     "text": [
      "2023-12-06 20:47:20.870001: I tensorflow/core/grappler/optimizers/custom_graph_optimizer_registry.cc:113] Plugin optimizer for device_type GPU is enabled.\n"
     ]
    },
    {
     "name": "stdout",
     "output_type": "stream",
     "text": [
      "79/79 [==============================] - 13s 156ms/step\n"
     ]
    },
    {
     "name": "stderr",
     "output_type": "stream",
     "text": [
      "2023-12-06 20:48:03.874163: I tensorflow/core/grappler/optimizers/custom_graph_optimizer_registry.cc:113] Plugin optimizer for device_type GPU is enabled.\n"
     ]
    },
    {
     "name": "stdout",
     "output_type": "stream",
     "text": [
      "79/79 [==============================] - 15s 140ms/step\n"
     ]
    },
    {
     "name": "stderr",
     "output_type": "stream",
     "text": [
      "2023-12-06 20:48:45.726040: I tensorflow/core/grappler/optimizers/custom_graph_optimizer_registry.cc:113] Plugin optimizer for device_type GPU is enabled.\n"
     ]
    },
    {
     "name": "stdout",
     "output_type": "stream",
     "text": [
      "79/79 [==============================] - 11s 136ms/step\n",
      "Probability Model - Average Precision: 0.5103281329109803 ± 0.0091367955938457\n",
      "Probability Model - Average Recall: 0.4538039215686275 ± 0.006721344403334445\n",
      "Probability Model - Average F1 Score: 0.4803749918849506 ± 0.006727744912616445\n",
      "Probability Model - Average Accuracy: 0.5026618990862137 ± 0.008151493748578247\n",
      "CNN Models - Average Precision: 0.8802415054630657 ± 0.015826861144836023\n",
      "CNN Models - Average Recall: 0.9354509803921568 ± 0.016437127542877534\n",
      "CNN Models - Average F1 Score: 0.9067674697667863 ± 0.006728074475336683\n",
      "CNN Models - Average Accuracy: 0.9025427095748908 ± 0.007443488626758334\n",
      "Mean Confusion Matrix:\n",
      " [[0.93545098 0.06454902]\n",
      " [0.13123994 0.86876006]]\n",
      "Standard Deviation of Confusion Matrix:\n",
      " [[0.01643713 0.01643713]\n",
      " [0.02153841 0.02153841]]\n"
     ]
    }
   ],
   "source": [
    "# Assuming models are named 'E-scale-run1' to 'E-scale-run10' and saved in the 'E-scale' directory\n",
    "model_dir = 'F-classify'\n",
    "model_names = [f'F-classify_run{i}' for i in range(1, 11)]\n",
    "\n",
    "# Metrics storage\n",
    "all_precisions, all_recalls, all_f1s, all_accuracies = [], [], [], []\n",
    "# Storage for confusion matrix components\n",
    "TPs, FPs, FNs, TNs = [], [], [], []\n",
    "\n",
    "# Probability for a positive class\n",
    "positive_class_probability = 0.448\n",
    "\n",
    "# Metrics storage for probability model\n",
    "prob_precisions, prob_recalls, prob_f1s, prob_accuracies = [], [], [], []\n",
    "\n",
    "# Splitting data into training, validation, and testing sets with the same random states as training\n",
    "for i in range(10):\n",
    "    # Split with stratification to maintain class distribution\n",
    "    X_train, X_temp, y_train, y_temp = train_test_split(X, y, test_size=0.3, stratify=y, random_state=i)\n",
    "    X_val, X_test, y_val, y_test = train_test_split(X_temp, y_temp, test_size=0.5, stratify=y_temp, random_state=i)\n",
    "\n",
    "    # Load the model\n",
    "    model_path = os.path.join(model_dir, model_names[i] + '.h5')\n",
    "    model = load_model(model_path)\n",
    "\n",
    "    # Make predictions on the test set\n",
    "    y_pred = model.predict(X_test)\n",
    "    y_pred = np.round(y_pred).astype(int).flatten()  # Round predictions to 0 or 1\n",
    "\n",
    "    # Predict class based \n",
    "    y_pred_prob = np.random.choice([0, 1], size=len(y_test), p=[1-positive_class_probability, positive_class_probability])\n",
    "    \n",
    "    # Calculate metrics\n",
    "    precision = precision_score(y_test, y_pred)\n",
    "    recall = recall_score(y_test, y_pred)\n",
    "    f1 = f1_score(y_test, y_pred)\n",
    "    accuracy = accuracy_score(y_test, y_pred)\n",
    "    \n",
    "    # Calculate metrics for probability model\n",
    "    prob_precision = precision_score(y_test, y_pred_prob)\n",
    "    prob_recall = recall_score(y_test, y_pred_prob)\n",
    "    prob_f1 = f1_score(y_test, y_pred_prob)\n",
    "    prob_accuracy = accuracy_score(y_test, y_pred_prob)\n",
    "    \n",
    "    # Compute confusion matrix and extract its components\n",
    "    tn, fp, fn, tp = confusion_matrix(y_test, y_pred, normalize='true').ravel()\n",
    "\n",
    "    # Store the metrics\n",
    "    all_precisions.append(precision)\n",
    "    all_recalls.append(recall)\n",
    "    all_f1s.append(f1)\n",
    "    all_accuracies.append(accuracy)\n",
    "    \n",
    "    # Store the metrics for probability model\n",
    "    prob_precisions.append(prob_precision)\n",
    "    prob_recalls.append(prob_recall)\n",
    "    prob_f1s.append(prob_f1)\n",
    "    prob_accuracies.append(prob_accuracy)\n",
    "    \n",
    "    # Store CM components\n",
    "    TPs.append(tp)\n",
    "    FPs.append(fp)\n",
    "    FNs.append(fn)\n",
    "    TNs.append(tn)\n",
    "\n",
    "# Compute average and standard deviation of metrics across all models\n",
    "avg_precision = np.mean(all_precisions)\n",
    "std_precision = np.std(all_precisions)\n",
    "\n",
    "avg_recall = np.mean(all_recalls)\n",
    "std_recall = np.std(all_recalls)\n",
    "\n",
    "avg_f1 = np.mean(all_f1s)\n",
    "std_f1 = np.std(all_f1s)\n",
    "\n",
    "avg_accuracy = np.mean(all_accuracies)\n",
    "std_accuracy = np.std(all_accuracies)\n",
    "\n",
    "# Compute average and standard deviation of metrics for probability model\n",
    "avg_prob_precision = np.mean(prob_precisions)\n",
    "std_prob_precision = np.std(prob_precisions)\n",
    "\n",
    "avg_prob_recall = np.mean(prob_recalls)\n",
    "std_prob_recall = np.std(prob_recalls)\n",
    "\n",
    "avg_prob_f1 = np.mean(prob_f1s)\n",
    "std_prob_f1 = np.std(prob_f1s)\n",
    "\n",
    "avg_prob_accuracy = np.mean(prob_accuracies)\n",
    "std_prob_accuracy = np.std(prob_accuracies)\n",
    "\n",
    "# Print average metrics and their standard deviations for probability model\n",
    "print(f\"Probability Model - Average Precision: {avg_prob_precision} ± {std_prob_precision}\")\n",
    "print(f\"Probability Model - Average Recall: {avg_prob_recall} ± {std_prob_recall}\")\n",
    "print(f\"Probability Model - Average F1 Score: {avg_prob_f1} ± {std_prob_f1}\")\n",
    "print(f\"Probability Model - Average Accuracy: {avg_prob_accuracy} ± {std_prob_accuracy}\")\n",
    "\n",
    "# Compare with CNN models metrics \n",
    "print(f\"CNN Models - Average Precision: {avg_precision} ± {std_precision}\")\n",
    "print(f\"CNN Models - Average Recall: {avg_recall} ± {std_recall}\")\n",
    "print(f\"CNN Models - Average F1 Score: {avg_f1} ± {std_f1}\")\n",
    "print(f\"CNN Models - Average Accuracy: {avg_accuracy} ± {std_accuracy}\")\n",
    "\n",
    "# Compute average and standard deviation of each component\n",
    "avg_TP = np.mean(TPs)\n",
    "std_TP = np.std(TPs)\n",
    "\n",
    "avg_FP = np.mean(FPs)\n",
    "std_FP = np.std(FPs)\n",
    "\n",
    "avg_FN = np.mean(FNs)\n",
    "std_FN = np.std(FNs)\n",
    "\n",
    "avg_TN = np.mean(TNs)\n",
    "std_TN = np.std(TNs)\n",
    "\n",
    "# Construct the mean confusion matrix with standard deviations\n",
    "mean_conf_matrix = np.array([[avg_TP, avg_FN],[avg_FP, avg_TN]])\n",
    "std_conf_matrix = np.array([[std_TP, std_FN],[std_FP, std_TN]])\n",
    "\n",
    "# Print the mean confusion matrix and standard deviations\n",
    "print(\"Mean Confusion Matrix:\\n\", mean_conf_matrix)\n",
    "print(\"Standard Deviation of Confusion Matrix:\\n\", std_conf_matrix)"
   ]
  },
  {
   "cell_type": "markdown",
   "id": "d16aeab8-3e34-4992-8f57-cbc02066b98b",
   "metadata": {},
   "source": [
    "## 6 - Plot the Confusion Matrix Statistics"
   ]
  },
  {
   "cell_type": "code",
   "execution_count": 13,
   "id": "50ff4e74-4635-494b-89f7-884d4005e241",
   "metadata": {
    "tags": []
   },
   "outputs": [
    {
     "data": {
      "image/png": "[encoded data removed]",
      "text/plain": [
       "<Figure size 600x600 with 5 Axes>"
      ]
     },
     "metadata": {},
     "output_type": "display_data"
    }
   ],
   "source": [
    "# This function determines the text color (black or white) based on the background color's\n",
    "# luminance for better readability.\n",
    "def text_color_based_on_bg(bg_color):\n",
    "    # Calculate the perceptual luminance of the color\n",
    "    luminance = (0.299 * bg_color[0] + 0.587 * bg_color[1] + 0.114 * bg_color[2])\n",
    "    return 'white' if luminance < 0.5 else 'black'\n",
    "\n",
    "\n",
    "# This code creates a 2x2 plot with colored squares representing the mean and standard \n",
    "# deviation of TP, FN, FP, and TN from the confusion matrices.\n",
    "# This function determines the text color (black or white) based on the background color's\n",
    "# luminance for better readability.\n",
    "\n",
    "# Setup color map with normalization between 0 and 1\n",
    "cmap = plt.cm.inferno\n",
    "norm = mcolors.Normalize(vmin=0, vmax=1)\n",
    "\n",
    "# Create a 2x2 subplot figure with adjusted spacing\n",
    "fig, axs = plt.subplots(2, 2, figsize=(6, 6))\n",
    "axs = axs.flatten()\n",
    "\n",
    "means = [avg_TP, avg_FN, avg_FP, avg_TN]\n",
    "std_devs = [std_TP, std_FN, std_FP, std_TN]\n",
    "\n",
    "# Iterate over each subplot to add the confusion matrix data\n",
    "for i, ax in enumerate(axs):\n",
    "    color = cmap(norm(means[i]))  # Set the color based on the mean value\n",
    "    ax.add_patch(plt.Rectangle((0, 0), 1, 1, color=color))  # Create a colored square\n",
    "\n",
    "    text_color = text_color_based_on_bg(color)  # Determine text color\n",
    "    text = f'{means[i]:.3f} ± {std_devs[i]:.3f}'  # Format text for mean ± std deviation\n",
    "    ax.text(0.5, 0.5, text, ha='center', va='center', fontsize=14, color=text_color)  # Add text to the subplot\n",
    "\n",
    "    ax.axis('off')  # Remove axes\n",
    "\n",
    "# Adjust subplot parameters so squares touch each other\n",
    "plt.subplots_adjust(wspace=0, hspace=0)\n",
    "\n",
    "# Add a colorbar and adjust its font size\n",
    "sm = plt.cm.ScalarMappable(cmap=cmap, norm=norm)\n",
    "sm.set_array([])\n",
    "cbar = plt.colorbar(sm, ax=axs, orientation='horizontal', fraction=0.046, pad=0.04)\n",
    "cbar.ax.tick_params(labelsize=14)  # Set font size for colorbar ticks\n",
    "\n",
    "plt.show()"
   ]
  },
  {
   "cell_type": "markdown",
   "id": "bdea4979-af38-4d9a-ab9f-cff451a1d373",
   "metadata": {},
   "source": [
    "## 7 - Define a function to get ionogram labels from the majority vote in the multi-human testing data"
   ]
  },
  {
   "cell_type": "code",
   "execution_count": 14,
   "id": "de0f04a5-1f1c-4961-a88a-6fbbb955fce7",
   "metadata": {
    "tags": []
   },
   "outputs": [],
   "source": [
    "# This code defines the get_majority_label function which determines the majority label \n",
    "# (True or False) among a list of .par files, and in case of a tie, it randomly selects a label.\n",
    "def get_majority_label(par_files):\n",
    "    # Extract labels from each .par file using the get_label_from_par function\n",
    "    labels = [get_label_from_par(f) for f in par_files]\n",
    "\n",
    "    # If the majority of labels are True, return True\n",
    "    if labels.count(True) > len(labels) / 2:\n",
    "        return True\n",
    "    # If the majority of labels are False, return False\n",
    "    elif labels.count(False) > len(labels) / 2:\n",
    "        return False\n",
    "    # If there is a tie between True and False labels, randomly choose one\n",
    "    else:\n",
    "        return random.choice([True, False])  # Randomize in case of a tie"
   ]
  },
  {
   "cell_type": "markdown",
   "id": "e4bf4329-cb4a-4430-b029-1e3beecd30b7",
   "metadata": {},
   "source": [
    "## 8 - Define a function to load and process the multi-human test images"
   ]
  },
  {
   "cell_type": "code",
   "execution_count": 15,
   "id": "dfc09a7b-ca6e-4587-a920-09739013287d",
   "metadata": {
    "tags": []
   },
   "outputs": [],
   "source": [
    "# This code defines the load_and_preprocess_image function, which loads an image from a \n",
    "# specified path, converts it to grayscale, resizes it to 310x310 pixels, normalizes its pixel\n",
    "# values, and returns the processed image as an array.\n",
    "def load_and_preprocess_image(image_path):\n",
    "    # Load the image from the given path, convert it to grayscale, and resize it to 310x310 pixels\n",
    "    image = load_img(image_path, color_mode='grayscale', target_size=(310, 310))\n",
    "\n",
    "    # Convert the image to a numpy array\n",
    "    image = img_to_array(image)\n",
    "\n",
    "    # Normalize the pixel values to be in the range [0, 1]\n",
    "    image /= 255.0\n",
    "\n",
    "    # Return the preprocessed image\n",
    "    return image"
   ]
  },
  {
   "cell_type": "markdown",
   "id": "a8fc9f13-83ff-44d8-8657-3c82b6cdcc83",
   "metadata": {},
   "source": [
    "## 9 - Load the trained models with the highest validation accuracy "
   ]
  },
  {
   "cell_type": "code",
   "execution_count": 16,
   "id": "51cd34df-3db6-41c3-aea5-57afc2eeaa0d",
   "metadata": {
    "tags": []
   },
   "outputs": [],
   "source": [
    "# Define function to load models\n",
    "def load_models(models_dir):\n",
    "    return [load_model(os.path.join(models_dir, mf)) for mf in os.listdir(models_dir) if mf.endswith('.h5')]\n",
    "\n",
    "# Specify the directory where the trained models are stored\n",
    "models_dir = 'F-classify'\n",
    "\n",
    "# Load the models\n",
    "models = load_models(models_dir)"
   ]
  },
  {
   "cell_type": "markdown",
   "id": "260c0759-5fd4-4c7e-8ec4-cd8fd12d3c61",
   "metadata": {},
   "source": [
    "## 10 - Define a function to prepare the testing data for comparison with CNNs"
   ]
  },
  {
   "cell_type": "code",
   "execution_count": 17,
   "id": "b0f21219-1788-49a4-9321-47832ae4fdbb",
   "metadata": {
    "tags": []
   },
   "outputs": [],
   "source": [
    "# This function prepares the testing dataset by loading and processing images from a \n",
    "# specified directory and determining corresponding human labels based on majority voting\n",
    "# from associated .par files.\n",
    "def prepare_test_data(ionograms_dir, parameters_dir):\n",
    "    X_test = []  # List to store preprocessed images\n",
    "    y_human = []  # List to store corresponding human labels\n",
    "\n",
    "    # Cache the paths of all .par files for efficient access\n",
    "    par_files_cache = {f: os.path.join(parameters_dir, f) for f in os.listdir(parameters_dir)}\n",
    "\n",
    "    # Iterate through each image file in the ionograms directory\n",
    "    for img_file in os.listdir(ionograms_dir):\n",
    "        if img_file.endswith('.png'):  # Only process .png files\n",
    "            img_path = os.path.join(ionograms_dir, img_file)\n",
    "            X_test.append(load_and_preprocess_image(img_path))  # Load and preprocess the image\n",
    "\n",
    "            # Extract timestamp from the image filename\n",
    "            timestamp = os.path.splitext(img_file)[0]\n",
    "\n",
    "            # Get all .par files relevant to the current image based on timestamp\n",
    "            relevant_par_files = [fpath for fname, fpath in par_files_cache.items() if timestamp in fname]\n",
    "            y_human.append(get_majority_label(relevant_par_files))  # Determine the majority label\n",
    "\n",
    "    # Convert lists to numpy arrays\n",
    "    return np.array(X_test), np.array(y_human).astype(int)"
   ]
  },
  {
   "cell_type": "markdown",
   "id": "c9f2320d-dce8-41ea-97e9-2ad351c9dc09",
   "metadata": {},
   "source": [
    "## 11 - Define a function to compare the CNN predictions to the human labeling"
   ]
  },
  {
   "cell_type": "code",
   "execution_count": 18,
   "id": "b25fd9b5-5aa7-4157-beae-66220de9108f",
   "metadata": {
    "tags": []
   },
   "outputs": [],
   "source": [
    "# This function evaluates a list of pre-loaded CNN models on a prepared test dataset, calculates key\n",
    "# performance metrics (precision, recall, F1-score, accuracy), prints their mean and standard deviation,\n",
    "# and returns the normalized confusion matrices for each model.\n",
    "def evaluate_models(models, X_test, y_human):\n",
    "    metrics = {'precision': [], 'recall': [], 'f1': [], 'accuracy': []}  # Dictionary to store metrics for each model\n",
    "    confusion_matrices = []  # List to store confusion matrices for each model\n",
    "\n",
    "    # Iterate over each model and evaluate it\n",
    "    for model in models:\n",
    "        y_pred = model.predict(X_test).round().astype(int)  # Predict labels for the test dataset\n",
    "\n",
    "        # Calculate and store the performance metrics for the current model\n",
    "        metrics['precision'].append(precision_score(y_human, y_pred))\n",
    "        metrics['recall'].append(recall_score(y_human, y_pred))\n",
    "        metrics['f1'].append(f1_score(y_human, y_pred))\n",
    "        metrics['accuracy'].append(accuracy_score(y_human, y_pred))\n",
    "\n",
    "        # Calculate and store the normalized confusion matrix\n",
    "        confusion_matrices.append(confusion_matrix(y_human, y_pred, normalize='true'))\n",
    "\n",
    "    # Print the mean and standard deviation for each metric\n",
    "    for metric, values in metrics.items():\n",
    "        print(f\"Mean {metric.capitalize()}: {np.mean(values):.3f}, Std {metric.capitalize()}: {np.std(values):.3f}\")\n",
    "\n",
    "    return confusion_matrices"
   ]
  },
  {
   "cell_type": "markdown",
   "id": "1653214f-ceda-4ef3-a9f4-14db2ff6e1c4",
   "metadata": {},
   "source": [
    "## 12 - Specify testing directories and prepare testing data"
   ]
  },
  {
   "cell_type": "code",
   "execution_count": 20,
   "id": "c6e111cc-bc88-470b-995e-278041927e72",
   "metadata": {
    "tags": []
   },
   "outputs": [],
   "source": [
    "# Specify the directory where the testing data is located\n",
    "testing_dir = 'test-multi-human'\n",
    "\n",
    "# Specify the directory where the input ionograms are located\n",
    "ionograms_dir = os.path.join(testing_dir, 'ionograms')\n",
    "\n",
    "# Specify the directory where the output parameters are located\n",
    "parameters_dir = os.path.join(testing_dir, 'parameters')\n",
    "\n",
    "# Load and prepare the testing data\n",
    "X_test, y_human = prepare_test_data(ionograms_dir, parameters_dir)"
   ]
  },
  {
   "cell_type": "markdown",
   "id": "97c6b7af-2983-4ab8-8b7f-cf236e4c3b02",
   "metadata": {},
   "source": [
    "## 13  - Evaluate the models using the precision, recall, F1-score, accuracy metrics"
   ]
  },
  {
   "cell_type": "code",
   "execution_count": 21,
   "id": "c35bce69-be60-494f-878d-26a4a6e7c65a",
   "metadata": {
    "tags": []
   },
   "outputs": [
    {
     "name": "stderr",
     "output_type": "stream",
     "text": [
      "2023-12-06 21:14:14.146385: I tensorflow/core/grappler/optimizers/custom_graph_optimizer_registry.cc:113] Plugin optimizer for device_type GPU is enabled.\n"
     ]
    },
    {
     "name": "stdout",
     "output_type": "stream",
     "text": [
      "21/21 [==============================] - 2s 89ms/step\n"
     ]
    },
    {
     "name": "stderr",
     "output_type": "stream",
     "text": [
      "2023-12-06 21:14:16.409674: I tensorflow/core/grappler/optimizers/custom_graph_optimizer_registry.cc:113] Plugin optimizer for device_type GPU is enabled.\n"
     ]
    },
    {
     "name": "stdout",
     "output_type": "stream",
     "text": [
      "21/21 [==============================] - 2s 56ms/step\n"
     ]
    },
    {
     "name": "stderr",
     "output_type": "stream",
     "text": [
      "2023-12-06 21:14:18.036743: I tensorflow/core/grappler/optimizers/custom_graph_optimizer_registry.cc:113] Plugin optimizer for device_type GPU is enabled.\n"
     ]
    },
    {
     "name": "stdout",
     "output_type": "stream",
     "text": [
      "21/21 [==============================] - 1s 44ms/step\n"
     ]
    },
    {
     "name": "stderr",
     "output_type": "stream",
     "text": [
      "2023-12-06 21:14:19.504436: I tensorflow/core/grappler/optimizers/custom_graph_optimizer_registry.cc:113] Plugin optimizer for device_type GPU is enabled.\n"
     ]
    },
    {
     "name": "stdout",
     "output_type": "stream",
     "text": [
      "21/21 [==============================] - 1s 44ms/step\n"
     ]
    },
    {
     "name": "stderr",
     "output_type": "stream",
     "text": [
      "2023-12-06 21:14:20.804554: I tensorflow/core/grappler/optimizers/custom_graph_optimizer_registry.cc:113] Plugin optimizer for device_type GPU is enabled.\n"
     ]
    },
    {
     "name": "stdout",
     "output_type": "stream",
     "text": [
      "21/21 [==============================] - 1s 45ms/step\n"
     ]
    },
    {
     "name": "stderr",
     "output_type": "stream",
     "text": [
      "2023-12-06 21:14:22.159980: I tensorflow/core/grappler/optimizers/custom_graph_optimizer_registry.cc:113] Plugin optimizer for device_type GPU is enabled.\n"
     ]
    },
    {
     "name": "stdout",
     "output_type": "stream",
     "text": [
      "21/21 [==============================] - 1s 46ms/step\n"
     ]
    },
    {
     "name": "stderr",
     "output_type": "stream",
     "text": [
      "2023-12-06 21:14:23.531369: I tensorflow/core/grappler/optimizers/custom_graph_optimizer_registry.cc:113] Plugin optimizer for device_type GPU is enabled.\n"
     ]
    },
    {
     "name": "stdout",
     "output_type": "stream",
     "text": [
      "21/21 [==============================] - 1s 44ms/step\n"
     ]
    },
    {
     "name": "stderr",
     "output_type": "stream",
     "text": [
      "2023-12-06 21:14:24.939521: I tensorflow/core/grappler/optimizers/custom_graph_optimizer_registry.cc:113] Plugin optimizer for device_type GPU is enabled.\n"
     ]
    },
    {
     "name": "stdout",
     "output_type": "stream",
     "text": [
      "21/21 [==============================] - 1s 48ms/step\n"
     ]
    },
    {
     "name": "stderr",
     "output_type": "stream",
     "text": [
      "2023-12-06 21:14:26.357291: I tensorflow/core/grappler/optimizers/custom_graph_optimizer_registry.cc:113] Plugin optimizer for device_type GPU is enabled.\n"
     ]
    },
    {
     "name": "stdout",
     "output_type": "stream",
     "text": [
      "21/21 [==============================] - 1s 44ms/step\n"
     ]
    },
    {
     "name": "stderr",
     "output_type": "stream",
     "text": [
      "2023-12-06 21:14:27.753189: I tensorflow/core/grappler/optimizers/custom_graph_optimizer_registry.cc:113] Plugin optimizer for device_type GPU is enabled.\n"
     ]
    },
    {
     "name": "stdout",
     "output_type": "stream",
     "text": [
      "21/21 [==============================] - 1s 45ms/step\n",
      "Mean Precision: 0.976, Std Precision: 0.009\n",
      "Mean Recall: 0.926, Std Recall: 0.024\n",
      "Mean F1: 0.950, Std F1: 0.011\n",
      "Mean Accuracy: 0.945, Std Accuracy: 0.012\n"
     ]
    }
   ],
   "source": [
    "# Evaluate the models located in 'models_dir' using the test data in 'testing_dir'\n",
    "# and store the returned confusion matrices\n",
    "confusion_matrices = evaluate_models(models, X_test, y_human)"
   ]
  },
  {
   "cell_type": "markdown",
   "id": "e733f7f2-11d0-43ee-bfd4-f154cec70613",
   "metadata": {},
   "source": [
    "## 14 - Calculate the mean and standard deviation of TP, FN, FP and TN (for confusion matrix)"
   ]
  },
  {
   "cell_type": "code",
   "execution_count": 22,
   "id": "ad3af965-6919-49a8-8781-0e0f33421841",
   "metadata": {
    "tags": []
   },
   "outputs": [],
   "source": [
    "# Convert list of confusion matrices to a 3D NumPy array for easier calculations\n",
    "confusion_matrices = np.array(confusion_matrices)\n",
    "\n",
    "# Calculate mean and standard deviation for TP, FN, FP, TN\n",
    "mean_tp = np.mean(confusion_matrices[:, 1, 1])\n",
    "std_tp = np.std(confusion_matrices[:, 1, 1])\n",
    "\n",
    "mean_fn = np.mean(confusion_matrices[:, 1, 0])\n",
    "std_fn = np.std(confusion_matrices[:, 1, 0])\n",
    "\n",
    "mean_fp = np.mean(confusion_matrices[:, 0, 1])\n",
    "std_fp = np.std(confusion_matrices[:, 0, 1])\n",
    "\n",
    "mean_tn = np.mean(confusion_matrices[:, 0, 0])\n",
    "std_tn = np.std(confusion_matrices[:, 0, 0])\n",
    "\n",
    "# Metrics, means, and standard deviations\n",
    "means = [mean_tp, mean_fn, mean_fp, mean_tn]\n",
    "std_devs = [std_tp, std_fn, std_fp, std_tn]"
   ]
  },
  {
   "cell_type": "markdown",
   "id": "3b6b7248-1336-480b-9c42-c849f69d40cd",
   "metadata": {},
   "source": [
    "## 15 - Plot the Confusion Matrix Statistics"
   ]
  },
  {
   "cell_type": "code",
   "execution_count": 23,
   "id": "a72244be-2546-42c8-a21f-bf0b0198296e",
   "metadata": {
    "tags": []
   },
   "outputs": [
    {
     "data": {
      "image/png": "[encoded data removed]",
      "text/plain": [
       "<Figure size 600x600 with 5 Axes>"
      ]
     },
     "metadata": {},
     "output_type": "display_data"
    }
   ],
   "source": [
    "# This code creates a 2x2 plot with colored squares representing the mean and standard \n",
    "# deviation of TP, FN, FP, and TN from the confusion matrices.\n",
    "\n",
    "# Setup color map with normalization between 0 and 1\n",
    "cmap = plt.cm.inferno\n",
    "norm = mcolors.Normalize(vmin=0, vmax=1)\n",
    "\n",
    "# Create a 2x2 subplot figure with adjusted spacing\n",
    "fig, axs = plt.subplots(2, 2, figsize=(6, 6))\n",
    "axs = axs.flatten()\n",
    "\n",
    "means = [mean_tp, mean_fn, mean_fp, mean_tn]\n",
    "std_devs = [std_tp, std_fn, std_fp, std_tn]\n",
    "\n",
    "# Iterate over each subplot to add the confusion matrix data\n",
    "for i, ax in enumerate(axs):\n",
    "    color = cmap(norm(means[i]))  # Set the color based on the mean value\n",
    "    ax.add_patch(plt.Rectangle((0, 0), 1, 1, color=color))  # Create a colored square\n",
    "\n",
    "    text_color = text_color_based_on_bg(color)  # Determine text color\n",
    "    text = f'{means[i]:.3f} ± {std_devs[i]:.3f}'  # Format text for mean ± std deviation\n",
    "    ax.text(0.5, 0.5, text, ha='center', va='center', fontsize=14, color=text_color)  # Add text to the subplot\n",
    "\n",
    "    ax.axis('off')  # Remove axes\n",
    "\n",
    "# Adjust subplot parameters so squares touch each other\n",
    "plt.subplots_adjust(wspace=0, hspace=0)\n",
    "\n",
    "# Add a colorbar and adjust its font size\n",
    "sm = plt.cm.ScalarMappable(cmap=cmap, norm=norm)\n",
    "sm.set_array([])\n",
    "cbar = plt.colorbar(sm, ax=axs, orientation='horizontal', fraction=0.046, pad=0.04)\n",
    "cbar.ax.tick_params(labelsize=14)  # Set font size for colorbar ticks\n",
    "\n",
    "plt.show()"
   ]
  },
  {
   "cell_type": "code",
   "execution_count": null,
   "id": "2f80966f-552a-4e78-bdc6-d4ec5a6207a4",
   "metadata": {},
   "outputs": [],
   "source": []
  }
 ],
 "metadata": {
  "kernelspec": {
   "display_name": "Python 3.10 (tensorflow)",
   "language": "python",
   "name": "tensorflow"
  },
  "language_info": {
   "codemirror_mode": {
    "name": "ipython",
    "version": 3
   },
   "file_extension": ".py",
   "mimetype": "text/x-python",
   "name": "python",
   "nbconvert_exporter": "python",
   "pygments_lexer": "ipython3",
   "version": "3.10.9"
  }
 },
 "nbformat": 4,
 "nbformat_minor": 5
}
