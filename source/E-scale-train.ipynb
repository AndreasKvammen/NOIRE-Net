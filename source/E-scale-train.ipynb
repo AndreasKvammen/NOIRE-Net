{
 "cells": [
  {
   "cell_type": "markdown",
   "id": "6553ab89-fa75-447a-8c08-7f25ac7ad487",
   "metadata": {
    "tags": []
   },
   "source": [
    "# E-scale-train: This Notebook trains the NOIRE-Net E-region scaling networks"
   ]
  },
  {
   "cell_type": "markdown",
   "id": "822ec13f-8079-401c-aaf2-37f2981acd5b",
   "metadata": {},
   "source": [
    "## 1 - Import libaries "
   ]
  },
  {
   "cell_type": "code",
   "execution_count": 1,
   "id": "80990a8e-2d87-444b-aa25-42ea1903521d",
   "metadata": {
    "tags": []
   },
   "outputs": [],
   "source": [
    "import os\n",
    "import random\n",
    "import numpy as np\n",
    "from tensorflow.keras.models import Sequential\n",
    "from tensorflow.keras.layers import Conv2D, MaxPooling2D, Flatten, Dense, BatchNormalization, Dropout\n",
    "from tensorflow.keras.preprocessing.image import img_to_array, load_img\n",
    "from sklearn.metrics import mean_squared_error\n",
    "from tensorflow.keras.callbacks import ModelCheckpoint, ReduceLROnPlateau\n",
    "import pickle\n",
    "from sklearn.model_selection import KFold"
   ]
  },
  {
   "cell_type": "markdown",
   "id": "c57942b9-0d1e-4c29-b201-dae42e4f99bd",
   "metadata": {},
   "source": [
    "## 2 - Define function to get E-region scaling parameters from .par file (item1 = fE, item2 = hE)"
   ]
  },
  {
   "cell_type": "code",
   "execution_count": 2,
   "id": "4b8714c8-324c-4ddb-ab4e-5ac56070ba76",
   "metadata": {
    "tags": []
   },
   "outputs": [],
   "source": [
    "# The function get_regression_label_from_par reads a .par file and returns \n",
    "# the E-region maximum frequency and the E-region height.\n",
    "# Both the fE and hE must be values (can not be 'nan'). \n",
    "\n",
    "def get_regression_label_from_par(par_file_path):\n",
    "    try:\n",
    "        # Open the file at the specified path\n",
    "        with open(par_file_path, 'r') as file:\n",
    "            content = file.readline().strip()  # Read the first line and remove leading/trailing whitespace\n",
    "            items = content.split()  # Split the line into individual items\n",
    "\n",
    "            # Check if both the second and fourth items are not 'nan' (not a number)\n",
    "            # If they are both valid numbers, convert them to floats and return them as a tuple\n",
    "            if items[1].lower() != 'nan' and items[3].lower() != 'nan':\n",
    "                return float(items[1]), float(items[3])\n",
    "            else:\n",
    "                # If either item is 'nan', return None\n",
    "                return None\n",
    "    except Exception as e:\n",
    "        # Print an error message if an exception occurs while processing the file\n",
    "        print(f\"Error reading {par_file_path}: {e}\")\n",
    "        # Return None if there is an error\n",
    "        return None\n"
   ]
  },
  {
   "cell_type": "markdown",
   "id": "ff5dd112-47cc-48b4-915e-5d52e25ec6cc",
   "metadata": {
    "tags": []
   },
   "source": [
    "## 3 - Define function to load ionograms and preprocess the data"
   ]
  },
  {
   "cell_type": "code",
   "execution_count": 3,
   "id": "c413a846-e152-4d08-9231-856a3066eded",
   "metadata": {
    "tags": []
   },
   "outputs": [],
   "source": [
    "# The load_data function loads and preprocesses image data from a specified directory,\n",
    "# converting images to grayscale and resizing them, while also extracting corresponding\n",
    "# scaling parameters from associated .par files for a regression task.\n",
    "\n",
    "def load_data(file_bases, ionogram_dir, parameter_dir):\n",
    "    images = []  # List to store preprocessed images\n",
    "    labels = []  # List to store corresponding regression labels\n",
    "    \n",
    "    # Iterate over the provided file bases to load images and labels\n",
    "    for base in file_bases:\n",
    "        img_path = os.path.join(ionogram_dir, base + '.png')\n",
    "        par_path = os.path.join(parameter_dir, base + '.par')\n",
    "\n",
    "        # Load the image, convert it to grayscale, resize it, and normalize pixel values\n",
    "        image = load_img(img_path, color_mode='grayscale', target_size=(310, 310))\n",
    "        image = img_to_array(image) / 255.0  # Normalize image pixels to be between 0 and 1\n",
    "\n",
    "        # Get the regression labels from the .par file\n",
    "        regression_label = get_regression_label_from_par(par_path)\n",
    "\n",
    "        # Append the preprocessed image and regression label to their respective lists\n",
    "        # Proceed only if valid regression labels are found\n",
    "        if regression_label is not None:\n",
    "            images.append(image)\n",
    "            labels.append(regression_label)\n",
    "\n",
    "    # Convert the lists of images and labels to numpy arrays and return them\n",
    "    return np.array(images), np.array(labels)\n"
   ]
  },
  {
   "cell_type": "markdown",
   "id": "813ac509-cda7-4739-9874-63c0dbb4285c",
   "metadata": {},
   "source": [
    "## 4 - Define data paths and sort the files by their epoch timestamp"
   ]
  },
  {
   "cell_type": "code",
   "execution_count": 4,
   "id": "42d19eba-8888-42dc-a7c1-8f01e388aea4",
   "metadata": {},
   "outputs": [],
   "source": [
    "# This code defines paths to directories containing ionogram images and parameter files, \n",
    "# then creates a sorted list of unique identifiers (epoch timestamps) from the names of the ionogram images, \n",
    "# ensuring the data is ordered chronologically.\n",
    "\n",
    "# Define the directory paths to the data\n",
    "ionogram_dir = '/Users/akv020/Tensorflow/NOIRE-Net/data/train-val-test/ionograms'\n",
    "parameter_dir = '/Users/akv020/Tensorflow/NOIRE-Net/data/train-val-test/parameters'\n",
    "\n",
    "# Get all file names from the ionogram directory\n",
    "all_files = [f.split('.')[0] for f in os.listdir(ionogram_dir) if f.endswith('.png')]\n",
    "\n",
    "# Filter out files where the regression labels are not valid\n",
    "data_files = []\n",
    "for file_base in all_files:\n",
    "    par_path = os.path.join(parameter_dir, file_base + '.par')\n",
    "    if get_regression_label_from_par(par_path) is not None:\n",
    "        data_files.append(file_base)\n",
    "\n",
    "# Ensure the data is sorted by the epoch timestamp\n",
    "data_files = sorted(data_files, key=int)"
   ]
  },
  {
   "cell_type": "markdown",
   "id": "37c69d74-5d44-4b2c-a332-400a23b3e050",
   "metadata": {},
   "source": [
    "## 5 - Define training, validation and testing indeces for 10-fold cross-validation run"
   ]
  },
  {
   "cell_type": "code",
   "execution_count": 5,
   "id": "f2742bc3-aaee-4540-9857-a5892446c2f2",
   "metadata": {
    "tags": []
   },
   "outputs": [],
   "source": [
    "# This code sets up a 10-fold cross-validation framework, pre-computing and storing indices for \n",
    "# training, validation, and test sets for each fold, with a circular permutation applied \n",
    "# to the test set indices to maintain the temporal order of the data.\n",
    "\n",
    "# Define the number of splits for KFold\n",
    "n_splits = 10\n",
    "kf = KFold(n_splits=n_splits)\n",
    "\n",
    "# Pre-compute the indices for training, validation, and test sets for each fold\n",
    "train_indices = []\n",
    "val_indices = []\n",
    "test_indices = []\n",
    "\n",
    "# Number of samples for validation and test sets\n",
    "num_val_samples = int(len(data_files) * 0.1)\n",
    "\n",
    "for fold, (train_val_idx, test_idx) in enumerate(kf.split(data_files)):\n",
    "    # Circular permutation for the test set\n",
    "    test_idx = np.roll(test_idx, fold * num_val_samples)\n",
    "    \n",
    "    # Split the train_val_idx further into train and validation sets\n",
    "    val_idx = train_val_idx[:num_val_samples]\n",
    "    train_idx = train_val_idx[num_val_samples:]\n",
    "    \n",
    "    # Store the indices\n",
    "    train_indices.append(train_idx)\n",
    "    val_indices.append(val_idx)\n",
    "    test_indices.append(test_idx)"
   ]
  },
  {
   "cell_type": "markdown",
   "id": "12934bcf-6a1f-4429-b3a7-31bbf697c4fb",
   "metadata": {},
   "source": [
    "## 5 - Define a function to create the NOIRE-Net architecture"
   ]
  },
  {
   "cell_type": "code",
   "execution_count": 6,
   "id": "63999a78-e194-419d-a6cb-93a42fd9a1c8",
   "metadata": {
    "tags": []
   },
   "outputs": [],
   "source": [
    "# This code defines and complies NOIRE-Net a convolutional neural network (CNN) model using Keras, \n",
    "# with multiple convolutional layers, batch normalization, max pooling, and dense layers, \n",
    "# designed for binary classification tasks.\n",
    "\n",
    "def NOIREnet():\n",
    "    model = Sequential([\n",
    "    # First convolutional layer with 32 filters and a kernel size of 3x3\n",
    "    # 'padding=same' ensures the output size is the same as the input size\n",
    "    # 'input_shape' is set for the first layer to indicate the shape of the input data\n",
    "    Conv2D(32, (3, 3), padding='same', activation='relu', input_shape=(310, 310, 1)),\n",
    "    \n",
    "    # Batch normalization to normalize the activations from the previous layer\n",
    "    BatchNormalization(),\n",
    "\n",
    "    # Second convolutional layer with 32 filters and a kernel size of 3x3\n",
    "    Conv2D(32, (3, 3), activation='relu'),\n",
    "\n",
    "    # Another batch normalization\n",
    "    BatchNormalization(),\n",
    "\n",
    "    # First max pooling layer to reduce spatial dimensions\n",
    "    MaxPooling2D((2, 2)),\n",
    "\n",
    "    # Repeating the pattern of two convolutional layers followed by batch normalization\n",
    "    # and a max pooling layer, gradually increasing the number of filters\n",
    "    Conv2D(32, (3, 3), padding='same', activation='relu'),\n",
    "    BatchNormalization(),\n",
    "    Conv2D(32, (3, 3), activation='relu'),\n",
    "    BatchNormalization(),\n",
    "    MaxPooling2D((2, 2)),\n",
    "\n",
    "    Conv2D(64, (3, 3), padding='same', activation='relu'),\n",
    "    BatchNormalization(),\n",
    "    Conv2D(64, (3, 3), activation='relu'),\n",
    "    BatchNormalization(),\n",
    "    MaxPooling2D((2, 2)),\n",
    "\n",
    "    Conv2D(64, (3, 3), padding='same', activation='relu'),\n",
    "    BatchNormalization(),\n",
    "    Conv2D(64, (3, 3), activation='relu'),\n",
    "    BatchNormalization(),\n",
    "    MaxPooling2D((2, 2)),\n",
    "\n",
    "    Conv2D(128, (3, 3), padding='same', activation='relu'),\n",
    "    BatchNormalization(),\n",
    "    Conv2D(128, (3, 3), activation='relu'),\n",
    "    BatchNormalization(),\n",
    "    MaxPooling2D((2, 2)),\n",
    "\n",
    "    Conv2D(128, (3, 3), padding='same', activation='relu'),\n",
    "    BatchNormalization(),\n",
    "    Conv2D(128, (3, 3), activation='relu'),\n",
    "    BatchNormalization(),\n",
    "    MaxPooling2D((2, 2)),\n",
    "\n",
    "    # Flatten the output from the convolutional layers to feed into dense layers\n",
    "    Flatten(),\n",
    "\n",
    "    # Dense (fully connected) layer with 256 neurons and relu activation\n",
    "    Dense(256, activation='relu'),\n",
    "\n",
    "    # Dropout layer to reduce overfitting\n",
    "    Dropout(0.5),\n",
    "\n",
    "    # Another dense layer with 128 neurons\n",
    "    Dense(128, activation='relu'),\n",
    "\n",
    "    # Output layer with a single neuron and sigmoid activation for binary classification\n",
    "    Dense(2, activation='linear')\n",
    "    ])\n",
    "    \n",
    "    # Compile the CNN model\n",
    "    model.compile(\n",
    "        optimizer='adam',  # Using the Adam optimizer for adaptive learning rate optimization\n",
    "        loss='mse',  # Mean squared error loss function, suitable for regression tasks\n",
    "        metrics=['mse']  # The model will report 'mse' as a performance metric\n",
    "    )\n",
    "    \n",
    "    # Return the compiled model\n",
    "    return model"
   ]
  },
  {
   "cell_type": "markdown",
   "id": "851e79f5-b94d-4d83-9fb5-2eec0704815b",
   "metadata": {},
   "source": [
    "## 6 - Train 10 CNNs for E-region scaling and save the models"
   ]
  },
  {
   "cell_type": "code",
   "execution_count": 7,
   "id": "d2c64aa5-20e0-4d48-b719-ccc1e1d6e537",
   "metadata": {
    "tags": []
   },
   "outputs": [
    {
     "name": "stdout",
     "output_type": "stream",
     "text": [
      "Metal device set to: Apple M1 Max\n"
     ]
    },
    {
     "name": "stderr",
     "output_type": "stream",
     "text": [
      "2023-12-15 19:06:29.479626: I tensorflow/core/common_runtime/pluggable_device/pluggable_device_factory.cc:305] Could not identify NUMA node of platform GPU ID 0, defaulting to 0. Your kernel may not have been built with NUMA support.\n",
      "2023-12-15 19:06:29.479879: I tensorflow/core/common_runtime/pluggable_device/pluggable_device_factory.cc:271] Created TensorFlow device (/job:localhost/replica:0/task:0/device:GPU:0 with 0 MB memory) -> physical PluggableDevice (device: 0, name: METAL, pci bus id: <undefined>)\n"
     ]
    },
    {
     "name": "stdout",
     "output_type": "stream",
     "text": [
      "Epoch 1/60\n"
     ]
    },
    {
     "name": "stderr",
     "output_type": "stream",
     "text": [
      "2023-12-15 19:06:31.908267: W tensorflow/core/platform/profile_utils/cpu_utils.cc:128] Failed to get CPU frequency: 0 Hz\n",
      "2023-12-15 19:06:33.180443: I tensorflow/core/grappler/optimizers/custom_graph_optimizer_registry.cc:113] Plugin optimizer for device_type GPU is enabled.\n"
     ]
    },
    {
     "name": "stdout",
     "output_type": "stream",
     "text": [
      "137/137 [==============================] - ETA: 0s - loss: 717.1841 - mse: 717.1841"
     ]
    },
    {
     "name": "stderr",
     "output_type": "stream",
     "text": [
      "2023-12-15 19:08:07.647887: I tensorflow/core/grappler/optimizers/custom_graph_optimizer_registry.cc:113] Plugin optimizer for device_type GPU is enabled.\n"
     ]
    },
    {
     "name": "stdout",
     "output_type": "stream",
     "text": [
      "\n",
      "Epoch 1: val_loss improved from inf to 2963.74609, saving model to /Users/akv020/Tensorflow/NOIRE-Net/NOIRE-Net/E-scale/E-scale_run1.h5\n",
      "137/137 [==============================] - 100s 652ms/step - loss: 717.1841 - mse: 717.1841 - val_loss: 2963.7461 - val_mse: 2963.7461 - lr: 0.0010\n",
      "Epoch 2/60\n",
      "137/137 [==============================] - ETA: 0s - loss: 166.1375 - mse: 166.1375\n",
      "Epoch 2: val_loss improved from 2963.74609 to 2137.51758, saving model to /Users/akv020/Tensorflow/NOIRE-Net/NOIRE-Net/E-scale/E-scale_run1.h5\n",
      "137/137 [==============================] - 82s 601ms/step - loss: 166.1375 - mse: 166.1375 - val_loss: 2137.5176 - val_mse: 2137.5176 - lr: 0.0010\n",
      "Epoch 3/60\n",
      "137/137 [==============================] - ETA: 0s - loss: 131.9867 - mse: 131.9867\n",
      "Epoch 3: val_loss improved from 2137.51758 to 1244.36145, saving model to /Users/akv020/Tensorflow/NOIRE-Net/NOIRE-Net/E-scale/E-scale_run1.h5\n",
      "137/137 [==============================] - 83s 604ms/step - loss: 131.9867 - mse: 131.9867 - val_loss: 1244.3615 - val_mse: 1244.3615 - lr: 0.0010\n",
      "Epoch 4/60\n",
      "137/137 [==============================] - ETA: 0s - loss: 99.8502 - mse: 99.8502  \n",
      "Epoch 4: val_loss improved from 1244.36145 to 417.94009, saving model to /Users/akv020/Tensorflow/NOIRE-Net/NOIRE-Net/E-scale/E-scale_run1.h5\n",
      "137/137 [==============================] - 80s 585ms/step - loss: 99.8502 - mse: 99.8502 - val_loss: 417.9401 - val_mse: 417.9401 - lr: 0.0010\n",
      "Epoch 5/60\n",
      "137/137 [==============================] - ETA: 0s - loss: 73.5270 - mse: 73.5270\n",
      "Epoch 5: val_loss improved from 417.94009 to 113.45892, saving model to /Users/akv020/Tensorflow/NOIRE-Net/NOIRE-Net/E-scale/E-scale_run1.h5\n",
      "137/137 [==============================] - 81s 595ms/step - loss: 73.5270 - mse: 73.5270 - val_loss: 113.4589 - val_mse: 113.4589 - lr: 0.0010\n",
      "Epoch 6/60\n",
      "137/137 [==============================] - ETA: 0s - loss: 66.1716 - mse: 66.1716\n",
      "Epoch 6: val_loss did not improve from 113.45892\n",
      "137/137 [==============================] - 81s 592ms/step - loss: 66.1716 - mse: 66.1716 - val_loss: 296.0981 - val_mse: 296.0981 - lr: 0.0010\n",
      "Epoch 7/60\n",
      "137/137 [==============================] - ETA: 0s - loss: 46.4475 - mse: 46.4475\n",
      "Epoch 7: val_loss improved from 113.45892 to 97.82047, saving model to /Users/akv020/Tensorflow/NOIRE-Net/NOIRE-Net/E-scale/E-scale_run1.h5\n",
      "137/137 [==============================] - 82s 599ms/step - loss: 46.4475 - mse: 46.4475 - val_loss: 97.8205 - val_mse: 97.8205 - lr: 0.0010\n",
      "Epoch 8/60\n",
      "137/137 [==============================] - ETA: 0s - loss: 43.3295 - mse: 43.3295\n",
      "Epoch 8: val_loss improved from 97.82047 to 97.63164, saving model to /Users/akv020/Tensorflow/NOIRE-Net/NOIRE-Net/E-scale/E-scale_run1.h5\n",
      "137/137 [==============================] - 81s 592ms/step - loss: 43.3295 - mse: 43.3295 - val_loss: 97.6316 - val_mse: 97.6316 - lr: 0.0010\n",
      "Epoch 9/60\n",
      "137/137 [==============================] - ETA: 0s - loss: 30.2696 - mse: 30.2696\n",
      "Epoch 9: val_loss improved from 97.63164 to 79.99364, saving model to /Users/akv020/Tensorflow/NOIRE-Net/NOIRE-Net/E-scale/E-scale_run1.h5\n",
      "137/137 [==============================] - 82s 597ms/step - loss: 30.2696 - mse: 30.2696 - val_loss: 79.9936 - val_mse: 79.9936 - lr: 0.0010\n",
      "Epoch 10/60\n",
      "137/137 [==============================] - ETA: 0s - loss: 25.6394 - mse: 25.6394\n",
      "Epoch 10: val_loss improved from 79.99364 to 74.04923, saving model to /Users/akv020/Tensorflow/NOIRE-Net/NOIRE-Net/E-scale/E-scale_run1.h5\n",
      "137/137 [==============================] - 81s 594ms/step - loss: 25.6394 - mse: 25.6394 - val_loss: 74.0492 - val_mse: 74.0492 - lr: 0.0010\n",
      "Epoch 11/60\n",
      "137/137 [==============================] - ETA: 0s - loss: 29.0284 - mse: 29.0284\n",
      "Epoch 11: val_loss did not improve from 74.04923\n",
      "137/137 [==============================] - 82s 601ms/step - loss: 29.0284 - mse: 29.0284 - val_loss: 99.7907 - val_mse: 99.7907 - lr: 0.0010\n",
      "Epoch 12/60\n",
      " 73/137 [==============>...............] - ETA: 37s - loss: 20.3671 - mse: 20.3671"
     ]
    },
    {
     "ename": "KeyboardInterrupt",
     "evalue": "",
     "output_type": "error",
     "traceback": [
      "\u001b[0;31m---------------------------------------------------------------------------\u001b[0m",
      "\u001b[0;31mKeyboardInterrupt\u001b[0m                         Traceback (most recent call last)",
      "Cell \u001b[0;32mIn[7], line 49\u001b[0m\n\u001b[1;32m     39\u001b[0m checkpoint_callback \u001b[38;5;241m=\u001b[39m ModelCheckpoint(\n\u001b[1;32m     40\u001b[0m     model_filename,\n\u001b[1;32m     41\u001b[0m     monitor\u001b[38;5;241m=\u001b[39m\u001b[38;5;124m'\u001b[39m\u001b[38;5;124mval_loss\u001b[39m\u001b[38;5;124m'\u001b[39m,\n\u001b[0;32m   (...)\u001b[0m\n\u001b[1;32m     45\u001b[0m     save_weights_only\u001b[38;5;241m=\u001b[39m\u001b[38;5;28;01mFalse\u001b[39;00m\n\u001b[1;32m     46\u001b[0m )\n\u001b[1;32m     48\u001b[0m \u001b[38;5;66;03m# Train the model with specified callbacks including ReduceLROnPlateau\u001b[39;00m\n\u001b[0;32m---> 49\u001b[0m history \u001b[38;5;241m=\u001b[39m \u001b[43mmodel\u001b[49m\u001b[38;5;241;43m.\u001b[39;49m\u001b[43mfit\u001b[49m\u001b[43m(\u001b[49m\n\u001b[1;32m     50\u001b[0m \u001b[43m    \u001b[49m\u001b[43mX_train\u001b[49m\u001b[43m,\u001b[49m\u001b[43m \u001b[49m\u001b[43my_train\u001b[49m\u001b[43m,\u001b[49m\n\u001b[1;32m     51\u001b[0m \u001b[43m    \u001b[49m\u001b[43mbatch_size\u001b[49m\u001b[38;5;241;43m=\u001b[39;49m\u001b[38;5;241;43m64\u001b[39;49m\u001b[43m,\u001b[49m\n\u001b[1;32m     52\u001b[0m \u001b[43m    \u001b[49m\u001b[43mepochs\u001b[49m\u001b[38;5;241;43m=\u001b[39;49m\u001b[38;5;241;43m60\u001b[39;49m\u001b[43m,\u001b[49m\n\u001b[1;32m     53\u001b[0m \u001b[43m    \u001b[49m\u001b[43mvalidation_data\u001b[49m\u001b[38;5;241;43m=\u001b[39;49m\u001b[43m(\u001b[49m\u001b[43mX_val\u001b[49m\u001b[43m,\u001b[49m\u001b[43m \u001b[49m\u001b[43my_val\u001b[49m\u001b[43m)\u001b[49m\u001b[43m,\u001b[49m\n\u001b[1;32m     54\u001b[0m \u001b[43m    \u001b[49m\u001b[43mcallbacks\u001b[49m\u001b[38;5;241;43m=\u001b[39;49m\u001b[43m[\u001b[49m\u001b[43mcheckpoint_callback\u001b[49m\u001b[43m,\u001b[49m\u001b[43m \u001b[49m\u001b[43mreduce_lr\u001b[49m\u001b[43m]\u001b[49m\u001b[43m  \u001b[49m\u001b[38;5;66;43;03m# Include ReduceLROnPlateau callback\u001b[39;49;00m\n\u001b[1;32m     55\u001b[0m \u001b[43m\u001b[49m\u001b[43m)\u001b[49m\n\u001b[1;32m     57\u001b[0m \u001b[38;5;66;03m# Save the training history and the filename of the saved best model\u001b[39;00m\n\u001b[1;32m     58\u001b[0m histories\u001b[38;5;241m.\u001b[39mappend(history\u001b[38;5;241m.\u001b[39mhistory)\n",
      "File \u001b[0;32m~/miniconda3/envs/tensorflow/lib/python3.10/site-packages/keras/utils/traceback_utils.py:64\u001b[0m, in \u001b[0;36mfilter_traceback.<locals>.error_handler\u001b[0;34m(*args, **kwargs)\u001b[0m\n\u001b[1;32m     62\u001b[0m filtered_tb \u001b[38;5;241m=\u001b[39m \u001b[38;5;28;01mNone\u001b[39;00m\n\u001b[1;32m     63\u001b[0m \u001b[38;5;28;01mtry\u001b[39;00m:\n\u001b[0;32m---> 64\u001b[0m   \u001b[38;5;28;01mreturn\u001b[39;00m \u001b[43mfn\u001b[49m\u001b[43m(\u001b[49m\u001b[38;5;241;43m*\u001b[39;49m\u001b[43margs\u001b[49m\u001b[43m,\u001b[49m\u001b[43m \u001b[49m\u001b[38;5;241;43m*\u001b[39;49m\u001b[38;5;241;43m*\u001b[39;49m\u001b[43mkwargs\u001b[49m\u001b[43m)\u001b[49m\n\u001b[1;32m     65\u001b[0m \u001b[38;5;28;01mexcept\u001b[39;00m \u001b[38;5;167;01mException\u001b[39;00m \u001b[38;5;28;01mas\u001b[39;00m e:  \u001b[38;5;66;03m# pylint: disable=broad-except\u001b[39;00m\n\u001b[1;32m     66\u001b[0m   filtered_tb \u001b[38;5;241m=\u001b[39m _process_traceback_frames(e\u001b[38;5;241m.\u001b[39m__traceback__)\n",
      "File \u001b[0;32m~/miniconda3/envs/tensorflow/lib/python3.10/site-packages/keras/engine/training.py:1414\u001b[0m, in \u001b[0;36mModel.fit\u001b[0;34m(self, x, y, batch_size, epochs, verbose, callbacks, validation_split, validation_data, shuffle, class_weight, sample_weight, initial_epoch, steps_per_epoch, validation_steps, validation_batch_size, validation_freq, max_queue_size, workers, use_multiprocessing)\u001b[0m\n\u001b[1;32m   1412\u001b[0m logs \u001b[38;5;241m=\u001b[39m tmp_logs  \u001b[38;5;66;03m# No error, now safe to assign to logs.\u001b[39;00m\n\u001b[1;32m   1413\u001b[0m end_step \u001b[38;5;241m=\u001b[39m step \u001b[38;5;241m+\u001b[39m data_handler\u001b[38;5;241m.\u001b[39mstep_increment\n\u001b[0;32m-> 1414\u001b[0m \u001b[43mcallbacks\u001b[49m\u001b[38;5;241;43m.\u001b[39;49m\u001b[43mon_train_batch_end\u001b[49m\u001b[43m(\u001b[49m\u001b[43mend_step\u001b[49m\u001b[43m,\u001b[49m\u001b[43m \u001b[49m\u001b[43mlogs\u001b[49m\u001b[43m)\u001b[49m\n\u001b[1;32m   1415\u001b[0m \u001b[38;5;28;01mif\u001b[39;00m \u001b[38;5;28mself\u001b[39m\u001b[38;5;241m.\u001b[39mstop_training:\n\u001b[1;32m   1416\u001b[0m   \u001b[38;5;28;01mbreak\u001b[39;00m\n",
      "File \u001b[0;32m~/miniconda3/envs/tensorflow/lib/python3.10/site-packages/keras/callbacks.py:438\u001b[0m, in \u001b[0;36mCallbackList.on_train_batch_end\u001b[0;34m(self, batch, logs)\u001b[0m\n\u001b[1;32m    431\u001b[0m \u001b[38;5;250m\u001b[39m\u001b[38;5;124;03m\"\"\"Calls the `on_train_batch_end` methods of its callbacks.\u001b[39;00m\n\u001b[1;32m    432\u001b[0m \n\u001b[1;32m    433\u001b[0m \u001b[38;5;124;03mArgs:\u001b[39;00m\n\u001b[1;32m    434\u001b[0m \u001b[38;5;124;03m    batch: Integer, index of batch within the current epoch.\u001b[39;00m\n\u001b[1;32m    435\u001b[0m \u001b[38;5;124;03m    logs: Dict. Aggregated metric results up until this batch.\u001b[39;00m\n\u001b[1;32m    436\u001b[0m \u001b[38;5;124;03m\"\"\"\u001b[39;00m\n\u001b[1;32m    437\u001b[0m \u001b[38;5;28;01mif\u001b[39;00m \u001b[38;5;28mself\u001b[39m\u001b[38;5;241m.\u001b[39m_should_call_train_batch_hooks:\n\u001b[0;32m--> 438\u001b[0m   \u001b[38;5;28;43mself\u001b[39;49m\u001b[38;5;241;43m.\u001b[39;49m\u001b[43m_call_batch_hook\u001b[49m\u001b[43m(\u001b[49m\u001b[43mModeKeys\u001b[49m\u001b[38;5;241;43m.\u001b[39;49m\u001b[43mTRAIN\u001b[49m\u001b[43m,\u001b[49m\u001b[43m \u001b[49m\u001b[38;5;124;43m'\u001b[39;49m\u001b[38;5;124;43mend\u001b[39;49m\u001b[38;5;124;43m'\u001b[39;49m\u001b[43m,\u001b[49m\u001b[43m \u001b[49m\u001b[43mbatch\u001b[49m\u001b[43m,\u001b[49m\u001b[43m \u001b[49m\u001b[43mlogs\u001b[49m\u001b[38;5;241;43m=\u001b[39;49m\u001b[43mlogs\u001b[49m\u001b[43m)\u001b[49m\n",
      "File \u001b[0;32m~/miniconda3/envs/tensorflow/lib/python3.10/site-packages/keras/callbacks.py:297\u001b[0m, in \u001b[0;36mCallbackList._call_batch_hook\u001b[0;34m(self, mode, hook, batch, logs)\u001b[0m\n\u001b[1;32m    295\u001b[0m   \u001b[38;5;28mself\u001b[39m\u001b[38;5;241m.\u001b[39m_call_batch_begin_hook(mode, batch, logs)\n\u001b[1;32m    296\u001b[0m \u001b[38;5;28;01melif\u001b[39;00m hook \u001b[38;5;241m==\u001b[39m \u001b[38;5;124m'\u001b[39m\u001b[38;5;124mend\u001b[39m\u001b[38;5;124m'\u001b[39m:\n\u001b[0;32m--> 297\u001b[0m   \u001b[38;5;28;43mself\u001b[39;49m\u001b[38;5;241;43m.\u001b[39;49m\u001b[43m_call_batch_end_hook\u001b[49m\u001b[43m(\u001b[49m\u001b[43mmode\u001b[49m\u001b[43m,\u001b[49m\u001b[43m \u001b[49m\u001b[43mbatch\u001b[49m\u001b[43m,\u001b[49m\u001b[43m \u001b[49m\u001b[43mlogs\u001b[49m\u001b[43m)\u001b[49m\n\u001b[1;32m    298\u001b[0m \u001b[38;5;28;01melse\u001b[39;00m:\n\u001b[1;32m    299\u001b[0m   \u001b[38;5;28;01mraise\u001b[39;00m \u001b[38;5;167;01mValueError\u001b[39;00m(\n\u001b[1;32m    300\u001b[0m       \u001b[38;5;124mf\u001b[39m\u001b[38;5;124m'\u001b[39m\u001b[38;5;124mUnrecognized hook: \u001b[39m\u001b[38;5;132;01m{\u001b[39;00mhook\u001b[38;5;132;01m}\u001b[39;00m\u001b[38;5;124m. Expected values are [\u001b[39m\u001b[38;5;124m\"\u001b[39m\u001b[38;5;124mbegin\u001b[39m\u001b[38;5;124m\"\u001b[39m\u001b[38;5;124m, \u001b[39m\u001b[38;5;124m\"\u001b[39m\u001b[38;5;124mend\u001b[39m\u001b[38;5;124m\"\u001b[39m\u001b[38;5;124m]\u001b[39m\u001b[38;5;124m'\u001b[39m)\n",
      "File \u001b[0;32m~/miniconda3/envs/tensorflow/lib/python3.10/site-packages/keras/callbacks.py:318\u001b[0m, in \u001b[0;36mCallbackList._call_batch_end_hook\u001b[0;34m(self, mode, batch, logs)\u001b[0m\n\u001b[1;32m    315\u001b[0m   batch_time \u001b[38;5;241m=\u001b[39m time\u001b[38;5;241m.\u001b[39mtime() \u001b[38;5;241m-\u001b[39m \u001b[38;5;28mself\u001b[39m\u001b[38;5;241m.\u001b[39m_batch_start_time\n\u001b[1;32m    316\u001b[0m   \u001b[38;5;28mself\u001b[39m\u001b[38;5;241m.\u001b[39m_batch_times\u001b[38;5;241m.\u001b[39mappend(batch_time)\n\u001b[0;32m--> 318\u001b[0m \u001b[38;5;28;43mself\u001b[39;49m\u001b[38;5;241;43m.\u001b[39;49m\u001b[43m_call_batch_hook_helper\u001b[49m\u001b[43m(\u001b[49m\u001b[43mhook_name\u001b[49m\u001b[43m,\u001b[49m\u001b[43m \u001b[49m\u001b[43mbatch\u001b[49m\u001b[43m,\u001b[49m\u001b[43m \u001b[49m\u001b[43mlogs\u001b[49m\u001b[43m)\u001b[49m\n\u001b[1;32m    320\u001b[0m \u001b[38;5;28;01mif\u001b[39;00m \u001b[38;5;28mlen\u001b[39m(\u001b[38;5;28mself\u001b[39m\u001b[38;5;241m.\u001b[39m_batch_times) \u001b[38;5;241m>\u001b[39m\u001b[38;5;241m=\u001b[39m \u001b[38;5;28mself\u001b[39m\u001b[38;5;241m.\u001b[39m_num_batches_for_timing_check:\n\u001b[1;32m    321\u001b[0m   end_hook_name \u001b[38;5;241m=\u001b[39m hook_name\n",
      "File \u001b[0;32m~/miniconda3/envs/tensorflow/lib/python3.10/site-packages/keras/callbacks.py:356\u001b[0m, in \u001b[0;36mCallbackList._call_batch_hook_helper\u001b[0;34m(self, hook_name, batch, logs)\u001b[0m\n\u001b[1;32m    354\u001b[0m \u001b[38;5;28;01mfor\u001b[39;00m callback \u001b[38;5;129;01min\u001b[39;00m \u001b[38;5;28mself\u001b[39m\u001b[38;5;241m.\u001b[39mcallbacks:\n\u001b[1;32m    355\u001b[0m   hook \u001b[38;5;241m=\u001b[39m \u001b[38;5;28mgetattr\u001b[39m(callback, hook_name)\n\u001b[0;32m--> 356\u001b[0m   \u001b[43mhook\u001b[49m\u001b[43m(\u001b[49m\u001b[43mbatch\u001b[49m\u001b[43m,\u001b[49m\u001b[43m \u001b[49m\u001b[43mlogs\u001b[49m\u001b[43m)\u001b[49m\n\u001b[1;32m    358\u001b[0m \u001b[38;5;28;01mif\u001b[39;00m \u001b[38;5;28mself\u001b[39m\u001b[38;5;241m.\u001b[39m_check_timing:\n\u001b[1;32m    359\u001b[0m   \u001b[38;5;28;01mif\u001b[39;00m hook_name \u001b[38;5;129;01mnot\u001b[39;00m \u001b[38;5;129;01min\u001b[39;00m \u001b[38;5;28mself\u001b[39m\u001b[38;5;241m.\u001b[39m_hook_times:\n",
      "File \u001b[0;32m~/miniconda3/envs/tensorflow/lib/python3.10/site-packages/keras/callbacks.py:1034\u001b[0m, in \u001b[0;36mProgbarLogger.on_train_batch_end\u001b[0;34m(self, batch, logs)\u001b[0m\n\u001b[1;32m   1033\u001b[0m \u001b[38;5;28;01mdef\u001b[39;00m \u001b[38;5;21mon_train_batch_end\u001b[39m(\u001b[38;5;28mself\u001b[39m, batch, logs\u001b[38;5;241m=\u001b[39m\u001b[38;5;28;01mNone\u001b[39;00m):\n\u001b[0;32m-> 1034\u001b[0m   \u001b[38;5;28;43mself\u001b[39;49m\u001b[38;5;241;43m.\u001b[39;49m\u001b[43m_batch_update_progbar\u001b[49m\u001b[43m(\u001b[49m\u001b[43mbatch\u001b[49m\u001b[43m,\u001b[49m\u001b[43m \u001b[49m\u001b[43mlogs\u001b[49m\u001b[43m)\u001b[49m\n",
      "File \u001b[0;32m~/miniconda3/envs/tensorflow/lib/python3.10/site-packages/keras/callbacks.py:1106\u001b[0m, in \u001b[0;36mProgbarLogger._batch_update_progbar\u001b[0;34m(self, batch, logs)\u001b[0m\n\u001b[1;32m   1102\u001b[0m   \u001b[38;5;28mself\u001b[39m\u001b[38;5;241m.\u001b[39mseen \u001b[38;5;241m+\u001b[39m\u001b[38;5;241m=\u001b[39m add_seen\n\u001b[1;32m   1104\u001b[0m \u001b[38;5;28;01mif\u001b[39;00m \u001b[38;5;28mself\u001b[39m\u001b[38;5;241m.\u001b[39mverbose \u001b[38;5;241m==\u001b[39m \u001b[38;5;241m1\u001b[39m:\n\u001b[1;32m   1105\u001b[0m   \u001b[38;5;66;03m# Only block async when verbose = 1.\u001b[39;00m\n\u001b[0;32m-> 1106\u001b[0m   logs \u001b[38;5;241m=\u001b[39m \u001b[43mtf_utils\u001b[49m\u001b[38;5;241;43m.\u001b[39;49m\u001b[43msync_to_numpy_or_python_type\u001b[49m\u001b[43m(\u001b[49m\u001b[43mlogs\u001b[49m\u001b[43m)\u001b[49m\n\u001b[1;32m   1107\u001b[0m   \u001b[38;5;28mself\u001b[39m\u001b[38;5;241m.\u001b[39mprogbar\u001b[38;5;241m.\u001b[39mupdate(\u001b[38;5;28mself\u001b[39m\u001b[38;5;241m.\u001b[39mseen, \u001b[38;5;28mlist\u001b[39m(logs\u001b[38;5;241m.\u001b[39mitems()), finalize\u001b[38;5;241m=\u001b[39m\u001b[38;5;28;01mFalse\u001b[39;00m)\n",
      "File \u001b[0;32m~/miniconda3/envs/tensorflow/lib/python3.10/site-packages/keras/utils/tf_utils.py:607\u001b[0m, in \u001b[0;36msync_to_numpy_or_python_type\u001b[0;34m(tensors)\u001b[0m\n\u001b[1;32m    604\u001b[0m     \u001b[38;5;28;01mreturn\u001b[39;00m t\n\u001b[1;32m    605\u001b[0m   \u001b[38;5;28;01mreturn\u001b[39;00m t\u001b[38;5;241m.\u001b[39mitem() \u001b[38;5;28;01mif\u001b[39;00m np\u001b[38;5;241m.\u001b[39mndim(t) \u001b[38;5;241m==\u001b[39m \u001b[38;5;241m0\u001b[39m \u001b[38;5;28;01melse\u001b[39;00m t\n\u001b[0;32m--> 607\u001b[0m \u001b[38;5;28;01mreturn\u001b[39;00m \u001b[43mtf\u001b[49m\u001b[38;5;241;43m.\u001b[39;49m\u001b[43mnest\u001b[49m\u001b[38;5;241;43m.\u001b[39;49m\u001b[43mmap_structure\u001b[49m\u001b[43m(\u001b[49m\u001b[43m_to_single_numpy_or_python_type\u001b[49m\u001b[43m,\u001b[49m\u001b[43m \u001b[49m\u001b[43mtensors\u001b[49m\u001b[43m)\u001b[49m\n",
      "File \u001b[0;32m~/miniconda3/envs/tensorflow/lib/python3.10/site-packages/tensorflow/python/util/nest.py:916\u001b[0m, in \u001b[0;36mmap_structure\u001b[0;34m(func, *structure, **kwargs)\u001b[0m\n\u001b[1;32m    912\u001b[0m flat_structure \u001b[38;5;241m=\u001b[39m (flatten(s, expand_composites) \u001b[38;5;28;01mfor\u001b[39;00m s \u001b[38;5;129;01min\u001b[39;00m structure)\n\u001b[1;32m    913\u001b[0m entries \u001b[38;5;241m=\u001b[39m \u001b[38;5;28mzip\u001b[39m(\u001b[38;5;241m*\u001b[39mflat_structure)\n\u001b[1;32m    915\u001b[0m \u001b[38;5;28;01mreturn\u001b[39;00m pack_sequence_as(\n\u001b[0;32m--> 916\u001b[0m     structure[\u001b[38;5;241m0\u001b[39m], [func(\u001b[38;5;241m*\u001b[39mx) \u001b[38;5;28;01mfor\u001b[39;00m x \u001b[38;5;129;01min\u001b[39;00m entries],\n\u001b[1;32m    917\u001b[0m     expand_composites\u001b[38;5;241m=\u001b[39mexpand_composites)\n",
      "File \u001b[0;32m~/miniconda3/envs/tensorflow/lib/python3.10/site-packages/tensorflow/python/util/nest.py:916\u001b[0m, in \u001b[0;36m<listcomp>\u001b[0;34m(.0)\u001b[0m\n\u001b[1;32m    912\u001b[0m flat_structure \u001b[38;5;241m=\u001b[39m (flatten(s, expand_composites) \u001b[38;5;28;01mfor\u001b[39;00m s \u001b[38;5;129;01min\u001b[39;00m structure)\n\u001b[1;32m    913\u001b[0m entries \u001b[38;5;241m=\u001b[39m \u001b[38;5;28mzip\u001b[39m(\u001b[38;5;241m*\u001b[39mflat_structure)\n\u001b[1;32m    915\u001b[0m \u001b[38;5;28;01mreturn\u001b[39;00m pack_sequence_as(\n\u001b[0;32m--> 916\u001b[0m     structure[\u001b[38;5;241m0\u001b[39m], [\u001b[43mfunc\u001b[49m\u001b[43m(\u001b[49m\u001b[38;5;241;43m*\u001b[39;49m\u001b[43mx\u001b[49m\u001b[43m)\u001b[49m \u001b[38;5;28;01mfor\u001b[39;00m x \u001b[38;5;129;01min\u001b[39;00m entries],\n\u001b[1;32m    917\u001b[0m     expand_composites\u001b[38;5;241m=\u001b[39mexpand_composites)\n",
      "File \u001b[0;32m~/miniconda3/envs/tensorflow/lib/python3.10/site-packages/keras/utils/tf_utils.py:601\u001b[0m, in \u001b[0;36msync_to_numpy_or_python_type.<locals>._to_single_numpy_or_python_type\u001b[0;34m(t)\u001b[0m\n\u001b[1;32m    598\u001b[0m \u001b[38;5;28;01mdef\u001b[39;00m \u001b[38;5;21m_to_single_numpy_or_python_type\u001b[39m(t):\n\u001b[1;32m    599\u001b[0m   \u001b[38;5;66;03m# Don't turn ragged or sparse tensors to NumPy.\u001b[39;00m\n\u001b[1;32m    600\u001b[0m   \u001b[38;5;28;01mif\u001b[39;00m \u001b[38;5;28misinstance\u001b[39m(t, tf\u001b[38;5;241m.\u001b[39mTensor):\n\u001b[0;32m--> 601\u001b[0m     t \u001b[38;5;241m=\u001b[39m \u001b[43mt\u001b[49m\u001b[38;5;241;43m.\u001b[39;49m\u001b[43mnumpy\u001b[49m\u001b[43m(\u001b[49m\u001b[43m)\u001b[49m\n\u001b[1;32m    602\u001b[0m   \u001b[38;5;66;03m# Strings, ragged and sparse tensors don't have .item(). Return them as-is.\u001b[39;00m\n\u001b[1;32m    603\u001b[0m   \u001b[38;5;28;01mif\u001b[39;00m \u001b[38;5;129;01mnot\u001b[39;00m \u001b[38;5;28misinstance\u001b[39m(t, (np\u001b[38;5;241m.\u001b[39mndarray, np\u001b[38;5;241m.\u001b[39mgeneric)):\n",
      "File \u001b[0;32m~/miniconda3/envs/tensorflow/lib/python3.10/site-packages/tensorflow/python/framework/ops.py:1159\u001b[0m, in \u001b[0;36m_EagerTensorBase.numpy\u001b[0;34m(self)\u001b[0m\n\u001b[1;32m   1136\u001b[0m \u001b[38;5;250m\u001b[39m\u001b[38;5;124;03m\"\"\"Copy of the contents of this Tensor into a NumPy array or scalar.\u001b[39;00m\n\u001b[1;32m   1137\u001b[0m \n\u001b[1;32m   1138\u001b[0m \u001b[38;5;124;03mUnlike NumPy arrays, Tensors are immutable, so this method has to copy\u001b[39;00m\n\u001b[0;32m   (...)\u001b[0m\n\u001b[1;32m   1156\u001b[0m \u001b[38;5;124;03m    NumPy dtype.\u001b[39;00m\n\u001b[1;32m   1157\u001b[0m \u001b[38;5;124;03m\"\"\"\u001b[39;00m\n\u001b[1;32m   1158\u001b[0m \u001b[38;5;66;03m# TODO(slebedev): Consider avoiding a copy for non-CPU or remote tensors.\u001b[39;00m\n\u001b[0;32m-> 1159\u001b[0m maybe_arr \u001b[38;5;241m=\u001b[39m \u001b[38;5;28;43mself\u001b[39;49m\u001b[38;5;241;43m.\u001b[39;49m\u001b[43m_numpy\u001b[49m\u001b[43m(\u001b[49m\u001b[43m)\u001b[49m  \u001b[38;5;66;03m# pylint: disable=protected-access\u001b[39;00m\n\u001b[1;32m   1160\u001b[0m \u001b[38;5;28;01mreturn\u001b[39;00m maybe_arr\u001b[38;5;241m.\u001b[39mcopy() \u001b[38;5;28;01mif\u001b[39;00m \u001b[38;5;28misinstance\u001b[39m(maybe_arr, np\u001b[38;5;241m.\u001b[39mndarray) \u001b[38;5;28;01melse\u001b[39;00m maybe_arr\n",
      "File \u001b[0;32m~/miniconda3/envs/tensorflow/lib/python3.10/site-packages/tensorflow/python/framework/ops.py:1125\u001b[0m, in \u001b[0;36m_EagerTensorBase._numpy\u001b[0;34m(self)\u001b[0m\n\u001b[1;32m   1123\u001b[0m \u001b[38;5;28;01mdef\u001b[39;00m \u001b[38;5;21m_numpy\u001b[39m(\u001b[38;5;28mself\u001b[39m):\n\u001b[1;32m   1124\u001b[0m   \u001b[38;5;28;01mtry\u001b[39;00m:\n\u001b[0;32m-> 1125\u001b[0m     \u001b[38;5;28;01mreturn\u001b[39;00m \u001b[38;5;28;43mself\u001b[39;49m\u001b[38;5;241;43m.\u001b[39;49m\u001b[43m_numpy_internal\u001b[49m\u001b[43m(\u001b[49m\u001b[43m)\u001b[49m\n\u001b[1;32m   1126\u001b[0m   \u001b[38;5;28;01mexcept\u001b[39;00m core\u001b[38;5;241m.\u001b[39m_NotOkStatusException \u001b[38;5;28;01mas\u001b[39;00m e:  \u001b[38;5;66;03m# pylint: disable=protected-access\u001b[39;00m\n\u001b[1;32m   1127\u001b[0m     \u001b[38;5;28;01mraise\u001b[39;00m core\u001b[38;5;241m.\u001b[39m_status_to_exception(e) \u001b[38;5;28;01mfrom\u001b[39;00m \u001b[38;5;28mNone\u001b[39m\n",
      "\u001b[0;31mKeyboardInterrupt\u001b[0m: "
     ]
    }
   ],
   "source": [
    "# This code trains 10 Convolutional Neural Networks (CNNs) on differently split subsets\n",
    "# of a dataset for binary classification,saves the best model of each training session, \n",
    "# and records their training histories.\n",
    "\n",
    "# Create the directory for saving models and histories if it doesn't exist\n",
    "save_dir = '/Users/akv020/Tensorflow/NOIRE-Net/NOIRE-Net/E-scale'\n",
    "os.makedirs(save_dir, exist_ok=True)\n",
    "\n",
    "# Initialize lists to store the training histories and filenames of the best models\n",
    "histories = []\n",
    "model_filenames = []\n",
    "\n",
    "# Define the ReduceLROnPlateau callback\n",
    "reduce_lr = ReduceLROnPlateau(\n",
    "    monitor='val_loss',\n",
    "    factor=0.1,      # Factor to reduce the learning rate\n",
    "    patience=15,     # Number of epochs with no improvement to wait before reducing LR\n",
    "    min_lr=0.00001   # Minimum learning rate\n",
    ")\n",
    "\n",
    "# Loop to train 10 CNN models over 10 folds\n",
    "for i in range(n_splits):\n",
    "    # Load the training and validation sets for the current fold\n",
    "    train_files = [data_files[idx] for idx in train_indices[i]]\n",
    "    val_files = [data_files[idx] for idx in val_indices[i]]\n",
    "    \n",
    "    # Split the dataset into training, validation and testing sets\n",
    "    X_train, y_train = load_data(train_files, ionogram_dir, parameter_dir)\n",
    "    X_val, y_val = load_data(val_files, ionogram_dir, parameter_dir)\n",
    "    \n",
    "    \n",
    "    # Create a new CNN model for each iteration\n",
    "    model = NOIREnet()\n",
    "\n",
    "    # Define the filename for the checkpoint model\n",
    "    model_filename = os.path.join(save_dir, f'E-scale_run{i+1}.h5')\n",
    "\n",
    "    # Define a checkpoint callback to save the best model based on validation accuracy\n",
    "    checkpoint_callback = ModelCheckpoint(\n",
    "        model_filename,\n",
    "        monitor='val_loss',\n",
    "        verbose=1,\n",
    "        save_best_only=True,\n",
    "        mode='min',\n",
    "        save_weights_only=False\n",
    "    )\n",
    "\n",
    "    # Train the model with specified callbacks including ReduceLROnPlateau\n",
    "    history = model.fit(\n",
    "        X_train, y_train,\n",
    "        batch_size=64,\n",
    "        epochs=60,\n",
    "        validation_data=(X_val, y_val),\n",
    "        shuffle=True,  # Enable shuffling\n",
    "        callbacks=[checkpoint_callback, reduce_lr]  # Include ReduceLROnPlateau callback\n",
    "    )\n",
    "\n",
    "    # Save the training history and the filename of the saved best model\n",
    "    histories.append(history.history)\n",
    "    model_filenames.append(model_filename)\n",
    "    \n",
    "    print(f\"Completed fold {i+1}/{n_splits}\")\n",
    "\n",
    "# Optionally, save the training histories to a file in the same 'E-scale' directory\n",
    "history_filename = os.path.join(save_dir, 'training_histories.pkl')\n",
    "with open(history_filename, 'wb') as file:\n",
    "    pickle.dump({'histories': histories, 'model_filenames': model_filenames}, file)\n"
   ]
  }
 ],
 "metadata": {
  "kernelspec": {
   "display_name": "Python 3.10 (tensorflow)",
   "language": "python",
   "name": "tensorflow"
  },
  "language_info": {
   "codemirror_mode": {
    "name": "ipython",
    "version": 3
   },
   "file_extension": ".py",
   "mimetype": "text/x-python",
   "name": "python",
   "nbconvert_exporter": "python",
   "pygments_lexer": "ipython3",
   "version": "3.10.9"
  }
 },
 "nbformat": 4,
 "nbformat_minor": 5
}
