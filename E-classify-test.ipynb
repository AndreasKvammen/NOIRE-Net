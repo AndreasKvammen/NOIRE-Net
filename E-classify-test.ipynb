{
 "cells": [
  {
   "cell_type": "markdown",
   "id": "6553ab89-fa75-447a-8c08-7f25ac7ad487",
   "metadata": {},
   "source": [
    "# E-classify-test: This Notebook test the performance of the NOIRE-Net E-region classification networks"
   ]
  },
  {
   "cell_type": "markdown",
   "id": "822ec13f-8079-401c-aaf2-37f2981acd5b",
   "metadata": {},
   "source": [
    "## 1 - Import libaries "
   ]
  },
  {
   "cell_type": "code",
   "execution_count": 14,
   "id": "80990a8e-2d87-444b-aa25-42ea1903521d",
   "metadata": {
    "tags": []
   },
   "outputs": [],
   "source": [
    "import os\n",
    "import random\n",
    "import numpy as np\n",
    "from sklearn.metrics import mean_squared_error\n",
    "from math import sqrt\n",
    "import pickle\n",
    "from tensorflow.keras.models import load_model\n",
    "from tensorflow.keras.preprocessing.image import img_to_array, load_img\n",
    "from sklearn.metrics import confusion_matrix\n",
    "import matplotlib.pyplot as plt\n",
    "import matplotlib.colors as mcolors\n",
    "from sklearn.metrics import cohen_kappa_score, precision_score, recall_score, f1_score, accuracy_score"
   ]
  },
  {
   "cell_type": "markdown",
   "id": "c57942b9-0d1e-4c29-b201-dae42e4f99bd",
   "metadata": {},
   "source": [
    "## 2 - Define function to get ionogram label (True = E-region, False = No E-region)"
   ]
  },
  {
   "cell_type": "code",
   "execution_count": 15,
   "id": "4b8714c8-324c-4ddb-ab4e-5ac56070ba76",
   "metadata": {
    "tags": []
   },
   "outputs": [],
   "source": [
    "# The function get_label_from_par reads a .par file and returns \n",
    "# True if either the second or fourth item is not 'nan', \n",
    "# indicating the presence of an E-region in the corresponding image,\n",
    "# for use in binary classification.\n",
    "\n",
    "def get_label_from_par(par_file_path):\n",
    "    try:\n",
    "        # Open the .par file located at par_file_path\n",
    "        with open(par_file_path, 'r') as file:\n",
    "            content = file.readline().strip()  # Read and strip the first line of the file\n",
    "            items = content.split()  # Split the line into individual items (usually numbers or 'nan')\n",
    "\n",
    "            # Check the second (index 1) and fourth (index 3) items:\n",
    "            # If either of these items is not 'nan', it implies the presence of an E-region.\n",
    "            # The function then returns True, indicating that this image has an E-region.\n",
    "            is_e_region = items[1].lower() != 'nan' or items[3].lower() != 'nan'\n",
    "        return is_e_region\n",
    "\n",
    "    except IndexError:\n",
    "        # This block catches an IndexError, which occurs if the line read from the file\n",
    "        # does not have at least four items. In such a case, the function assumes that\n",
    "        # the E-region data is not present or not properly formatted, and returns False.\n",
    "        return False\n",
    "\n",
    "    except Exception as e:\n",
    "        # This block catches any other exceptions (like file not found, read errors, etc.).\n",
    "        # It prints the exception message and returns False, indicating an issue with processing the file.\n",
    "        print(f\"Error reading {par_file_path}: {e}\")\n",
    "        return False"
   ]
  },
  {
   "cell_type": "markdown",
   "id": "3c3f89d8-3587-466a-a86b-26365eb8a92c",
   "metadata": {},
   "source": [
    "## 3 - Define a function to get ionogram labels from the testing data "
   ]
  },
  {
   "cell_type": "code",
   "execution_count": 16,
   "id": "de0f04a5-1f1c-4961-a88a-6fbbb955fce7",
   "metadata": {
    "tags": []
   },
   "outputs": [],
   "source": [
    "# This code defines the get_majority_label function which determines the majority label \n",
    "# (True or False) among a list of .par files, and in case of a tie, it randomly selects a label.\n",
    "def get_majority_label(par_files):\n",
    "    # Extract labels from each .par file using the get_label_from_par function\n",
    "    labels = [get_label_from_par(f) for f in par_files]\n",
    "\n",
    "    # If the majority of labels are True, return True\n",
    "    if labels.count(True) > len(labels) / 2:\n",
    "        return True\n",
    "    # If the majority of labels are False, return False\n",
    "    elif labels.count(False) > len(labels) / 2:\n",
    "        return False\n",
    "    # If there is a tie between True and False labels, randomly choose one\n",
    "    else:\n",
    "        return random.choice([True, False])  # Randomize in case of a tie"
   ]
  },
  {
   "cell_type": "markdown",
   "id": "2411faa7-67ce-4838-8090-8f9b2d742b2f",
   "metadata": {},
   "source": [
    "## 4 - Define a function to load and process test images"
   ]
  },
  {
   "cell_type": "code",
   "execution_count": 17,
   "id": "dfc09a7b-ca6e-4587-a920-09739013287d",
   "metadata": {
    "tags": []
   },
   "outputs": [],
   "source": [
    "# This code defines the load_and_preprocess_image function, which loads an image from a \n",
    "# specified path, converts it to grayscale, resizes it to 310x310 pixels, normalizes its pixel\n",
    "# values, and returns the processed image as an array.\n",
    "def load_and_preprocess_image(image_path):\n",
    "    # Load the image from the given path, convert it to grayscale, and resize it to 310x310 pixels\n",
    "    image = load_img(image_path, color_mode='grayscale', target_size=(310, 310))\n",
    "\n",
    "    # Convert the image to a numpy array\n",
    "    image = img_to_array(image)\n",
    "\n",
    "    # Normalize the pixel values to be in the range [0, 1]\n",
    "    image /= 255.0\n",
    "\n",
    "    # Return the preprocessed image\n",
    "    return image"
   ]
  },
  {
   "cell_type": "markdown",
   "id": "90a051fa-44f6-4c89-82e1-f0ccd304024b",
   "metadata": {},
   "source": [
    "## 5 - Load the trained models with the highest validation accuracy "
   ]
  },
  {
   "cell_type": "code",
   "execution_count": 18,
   "id": "51cd34df-3db6-41c3-aea5-57afc2eeaa0d",
   "metadata": {
    "tags": []
   },
   "outputs": [],
   "source": [
    "# Define function to load models\n",
    "def load_models(models_dir):\n",
    "    return [load_model(os.path.join(models_dir, mf)) for mf in os.listdir(models_dir) if mf.endswith('.h5')]\n",
    "\n",
    "# Specify the directory where the trained models are stored\n",
    "models_dir = 'E-classify'\n",
    "\n",
    "# Load the models\n",
    "models = load_models(models_dir)"
   ]
  },
  {
   "cell_type": "markdown",
   "id": "de2bc90a-ba73-4029-8331-baaedcbb0105",
   "metadata": {},
   "source": [
    "## 6 - Define a function to prepare the testing data for comparison with CNNs"
   ]
  },
  {
   "cell_type": "code",
   "execution_count": 19,
   "id": "b0f21219-1788-49a4-9321-47832ae4fdbb",
   "metadata": {
    "tags": []
   },
   "outputs": [],
   "source": [
    "# This function prepares the testing dataset by loading and processing images from a \n",
    "# specified directory and determining corresponding human labels based on majority voting\n",
    "# from associated .par files.\n",
    "def prepare_test_data(ionograms_dir, parameters_dir):\n",
    "    X_test = []  # List to store preprocessed images\n",
    "    y_human = []  # List to store corresponding human labels\n",
    "\n",
    "    # Cache the paths of all .par files for efficient access\n",
    "    par_files_cache = {f: os.path.join(parameters_dir, f) for f in os.listdir(parameters_dir)}\n",
    "\n",
    "    # Iterate through each image file in the ionograms directory\n",
    "    for img_file in os.listdir(ionograms_dir):\n",
    "        if img_file.endswith('.png'):  # Only process .png files\n",
    "            img_path = os.path.join(ionograms_dir, img_file)\n",
    "            X_test.append(load_and_preprocess_image(img_path))  # Load and preprocess the image\n",
    "\n",
    "            # Extract timestamp from the image filename\n",
    "            timestamp = os.path.splitext(img_file)[0]\n",
    "\n",
    "            # Get all .par files relevant to the current image based on timestamp\n",
    "            relevant_par_files = [fpath for fname, fpath in par_files_cache.items() if timestamp in fname]\n",
    "            y_human.append(get_majority_label(relevant_par_files))  # Determine the majority label\n",
    "\n",
    "    # Convert lists to numpy arrays\n",
    "    return np.array(X_test), np.array(y_human).astype(int)"
   ]
  },
  {
   "cell_type": "markdown",
   "id": "1d5a6848-033d-4b97-9148-b01fe0ce6327",
   "metadata": {},
   "source": [
    "## 7 - Define a function to compare the CNN predictions to the human labeling"
   ]
  },
  {
   "cell_type": "code",
   "execution_count": 20,
   "id": "b25fd9b5-5aa7-4157-beae-66220de9108f",
   "metadata": {
    "tags": []
   },
   "outputs": [],
   "source": [
    "# This function evaluates a list of pre-loaded CNN models on a prepared test dataset, calculates key\n",
    "# performance metrics (precision, recall, F1-score, accuracy), prints their mean and standard deviation,\n",
    "# and returns the normalized confusion matrices for each model.\n",
    "def evaluate_models(models, X_test, y_human):\n",
    "    metrics = {'precision': [], 'recall': [], 'f1': [], 'accuracy': []}  # Dictionary to store metrics for each model\n",
    "    confusion_matrices = []  # List to store confusion matrices for each model\n",
    "\n",
    "    # Iterate over each model and evaluate it\n",
    "    for model in models:\n",
    "        y_pred = model.predict(X_test).round().astype(int)  # Predict labels for the test dataset\n",
    "\n",
    "        # Calculate and store the performance metrics for the current model\n",
    "        metrics['precision'].append(precision_score(y_human, y_pred))\n",
    "        metrics['recall'].append(recall_score(y_human, y_pred))\n",
    "        metrics['f1'].append(f1_score(y_human, y_pred))\n",
    "        metrics['accuracy'].append(accuracy_score(y_human, y_pred))\n",
    "\n",
    "        # Calculate and store the normalized confusion matrix\n",
    "        confusion_matrices.append(confusion_matrix(y_human, y_pred, normalize='true'))\n",
    "\n",
    "    # Print the mean and standard deviation for each metric\n",
    "    for metric, values in metrics.items():\n",
    "        print(f\"Mean {metric.capitalize()}: {np.mean(values):.3f}, Std {metric.capitalize()}: {np.std(values):.3f}\")\n",
    "\n",
    "    return confusion_matrices"
   ]
  },
  {
   "cell_type": "markdown",
   "id": "77730928-60d6-445e-bc3c-4e0032b96a48",
   "metadata": {},
   "source": [
    "## 8 - Specify testing directories and prepare testing data"
   ]
  },
  {
   "cell_type": "code",
   "execution_count": 21,
   "id": "c6e111cc-bc88-470b-995e-278041927e72",
   "metadata": {
    "tags": []
   },
   "outputs": [],
   "source": [
    "# Specify the directory where the testing data is located\n",
    "testing_dir = 'test'\n",
    "\n",
    "# Specify the directory where the input ionograms are located\n",
    "ionograms_dir = os.path.join(testing_dir, 'ionograms')\n",
    "\n",
    "# Specify the directory where the output parameters are located\n",
    "parameters_dir = os.path.join(testing_dir, 'parameters')\n",
    "\n",
    "# Load and prepare the testing data\n",
    "X_test, y_human = prepare_test_data(ionograms_dir, parameters_dir)"
   ]
  },
  {
   "cell_type": "markdown",
   "id": "e712b1aa-747a-4d4e-9212-9f83ed02ca56",
   "metadata": {},
   "source": [
    "## 9  - Evaluate the models using the precision, recall, F1-score, accuracy metrics"
   ]
  },
  {
   "cell_type": "code",
   "execution_count": 22,
   "id": "c35bce69-be60-494f-878d-26a4a6e7c65a",
   "metadata": {
    "tags": []
   },
   "outputs": [
    {
     "name": "stderr",
     "output_type": "stream",
     "text": [
      "2023-12-01 15:00:54.273883: I tensorflow/core/grappler/optimizers/custom_graph_optimizer_registry.cc:113] Plugin optimizer for device_type GPU is enabled.\n"
     ]
    },
    {
     "name": "stdout",
     "output_type": "stream",
     "text": [
      "21/21 [==============================] - 1s 48ms/step\n"
     ]
    },
    {
     "name": "stderr",
     "output_type": "stream",
     "text": [
      "2023-12-01 15:00:55.701916: I tensorflow/core/grappler/optimizers/custom_graph_optimizer_registry.cc:113] Plugin optimizer for device_type GPU is enabled.\n"
     ]
    },
    {
     "name": "stdout",
     "output_type": "stream",
     "text": [
      "21/21 [==============================] - 1s 45ms/step\n"
     ]
    },
    {
     "name": "stderr",
     "output_type": "stream",
     "text": [
      "2023-12-01 15:00:57.028171: I tensorflow/core/grappler/optimizers/custom_graph_optimizer_registry.cc:113] Plugin optimizer for device_type GPU is enabled.\n"
     ]
    },
    {
     "name": "stdout",
     "output_type": "stream",
     "text": [
      "21/21 [==============================] - 1s 47ms/step\n"
     ]
    },
    {
     "name": "stderr",
     "output_type": "stream",
     "text": [
      "2023-12-01 15:00:58.399065: I tensorflow/core/grappler/optimizers/custom_graph_optimizer_registry.cc:113] Plugin optimizer for device_type GPU is enabled.\n"
     ]
    },
    {
     "name": "stdout",
     "output_type": "stream",
     "text": [
      "21/21 [==============================] - 1s 46ms/step\n"
     ]
    },
    {
     "name": "stderr",
     "output_type": "stream",
     "text": [
      "2023-12-01 15:00:59.839338: I tensorflow/core/grappler/optimizers/custom_graph_optimizer_registry.cc:113] Plugin optimizer for device_type GPU is enabled.\n"
     ]
    },
    {
     "name": "stdout",
     "output_type": "stream",
     "text": [
      "21/21 [==============================] - 1s 45ms/step\n"
     ]
    },
    {
     "name": "stderr",
     "output_type": "stream",
     "text": [
      "2023-12-01 15:01:01.161749: I tensorflow/core/grappler/optimizers/custom_graph_optimizer_registry.cc:113] Plugin optimizer for device_type GPU is enabled.\n"
     ]
    },
    {
     "name": "stdout",
     "output_type": "stream",
     "text": [
      "21/21 [==============================] - 1s 45ms/step\n"
     ]
    },
    {
     "name": "stderr",
     "output_type": "stream",
     "text": [
      "2023-12-01 15:01:02.442489: I tensorflow/core/grappler/optimizers/custom_graph_optimizer_registry.cc:113] Plugin optimizer for device_type GPU is enabled.\n"
     ]
    },
    {
     "name": "stdout",
     "output_type": "stream",
     "text": [
      "21/21 [==============================] - 1s 49ms/step\n"
     ]
    },
    {
     "name": "stderr",
     "output_type": "stream",
     "text": [
      "2023-12-01 15:01:03.922849: I tensorflow/core/grappler/optimizers/custom_graph_optimizer_registry.cc:113] Plugin optimizer for device_type GPU is enabled.\n"
     ]
    },
    {
     "name": "stdout",
     "output_type": "stream",
     "text": [
      "21/21 [==============================] - 1s 48ms/step\n"
     ]
    },
    {
     "name": "stderr",
     "output_type": "stream",
     "text": [
      "2023-12-01 15:01:05.406590: I tensorflow/core/grappler/optimizers/custom_graph_optimizer_registry.cc:113] Plugin optimizer for device_type GPU is enabled.\n"
     ]
    },
    {
     "name": "stdout",
     "output_type": "stream",
     "text": [
      "21/21 [==============================] - 2s 52ms/step\n"
     ]
    },
    {
     "name": "stderr",
     "output_type": "stream",
     "text": [
      "2023-12-01 15:01:07.084508: I tensorflow/core/grappler/optimizers/custom_graph_optimizer_registry.cc:113] Plugin optimizer for device_type GPU is enabled.\n"
     ]
    },
    {
     "name": "stdout",
     "output_type": "stream",
     "text": [
      "21/21 [==============================] - 1s 48ms/step\n",
      "Mean Precision: 0.972, Std Precision: 0.007\n",
      "Mean Recall: 0.972, Std Recall: 0.010\n",
      "Mean F1: 0.972, Std F1: 0.004\n",
      "Mean Accuracy: 0.963, Std Accuracy: 0.005\n"
     ]
    }
   ],
   "source": [
    "# Evaluate the models located in 'models_dir' using the test data in 'testing_dir'\n",
    "# and store the returned confusion matrices\n",
    "confusion_matrices = evaluate_models(models, X_test, y_human)"
   ]
  },
  {
   "cell_type": "markdown",
   "id": "4e3abad7-447e-433f-8a60-b54554d057bc",
   "metadata": {},
   "source": [
    "## 10 - Calculate the mean and standard deviation of TP, FN, FP and TN (for confusion matrix)"
   ]
  },
  {
   "cell_type": "code",
   "execution_count": 23,
   "id": "ad3af965-6919-49a8-8781-0e0f33421841",
   "metadata": {
    "tags": []
   },
   "outputs": [],
   "source": [
    "# Convert list of confusion matrices to a 3D NumPy array for easier calculations\n",
    "confusion_matrices = np.array(confusion_matrices)\n",
    "\n",
    "# Calculate mean and standard deviation for TP, FN, FP, TN\n",
    "mean_tp = np.mean(confusion_matrices[:, 1, 1])\n",
    "std_tp = np.std(confusion_matrices[:, 1, 1])\n",
    "\n",
    "mean_fn = np.mean(confusion_matrices[:, 1, 0])\n",
    "std_fn = np.std(confusion_matrices[:, 1, 0])\n",
    "\n",
    "mean_fp = np.mean(confusion_matrices[:, 0, 1])\n",
    "std_fp = np.std(confusion_matrices[:, 0, 1])\n",
    "\n",
    "mean_tn = np.mean(confusion_matrices[:, 0, 0])\n",
    "std_tn = np.std(confusion_matrices[:, 0, 0])\n",
    "\n",
    "# Metrics, means, and standard deviations\n",
    "means = [mean_tp, mean_fn, mean_fp, mean_tn]\n",
    "std_devs = [std_tp, std_fn, std_fp, std_tn]"
   ]
  },
  {
   "cell_type": "markdown",
   "id": "6c8e5485-206d-4adf-a015-f40767f4d547",
   "metadata": {},
   "source": [
    "## 11 - Define Function for Text Color Based on Background (for confusion matrix)"
   ]
  },
  {
   "cell_type": "code",
   "execution_count": 12,
   "id": "c0855531-5415-4c41-b608-b842c585a43a",
   "metadata": {
    "tags": []
   },
   "outputs": [],
   "source": [
    "# This function determines the text color (black or white) based on the background color's\n",
    "# luminance for better readability.\n",
    "def text_color_based_on_bg(bg_color):\n",
    "    # Calculate the perceptual luminance of the color\n",
    "    luminance = (0.299 * bg_color[0] + 0.587 * bg_color[1] + 0.114 * bg_color[2])\n",
    "    return 'white' if luminance < 0.5 else 'black'"
   ]
  },
  {
   "cell_type": "markdown",
   "id": "cbbe17e3-1220-4083-ba76-fae52c70fc60",
   "metadata": {},
   "source": [
    "## 12 - Plot the Confusion Matrix Statistics"
   ]
  },
  {
   "cell_type": "code",
   "execution_count": 24,
   "id": "a72244be-2546-42c8-a21f-bf0b0198296e",
   "metadata": {
    "tags": []
   },
   "outputs": [
    {
     "data": {
      "image/png": "[encoded data removed]",
      "text/plain": [
       "<Figure size 600x600 with 5 Axes>"
      ]
     },
     "metadata": {},
     "output_type": "display_data"
    }
   ],
   "source": [
    "# This code creates a 2x2 plot with colored squares representing the mean and standard \n",
    "# deviation of TP, FN, FP, and TN from the confusion matrices.\n",
    "\n",
    "# Setup color map with normalization between 0 and 1\n",
    "cmap = plt.cm.inferno\n",
    "norm = mcolors.Normalize(vmin=0, vmax=1)\n",
    "\n",
    "# Create a 2x2 subplot figure with adjusted spacing\n",
    "fig, axs = plt.subplots(2, 2, figsize=(6, 6))\n",
    "axs = axs.flatten()\n",
    "\n",
    "means = [mean_tp, mean_fn, mean_fp, mean_tn]\n",
    "std_devs = [std_tp, std_fn, std_fp, std_tn]\n",
    "\n",
    "# Iterate over each subplot to add the confusion matrix data\n",
    "for i, ax in enumerate(axs):\n",
    "    color = cmap(norm(means[i]))  # Set the color based on the mean value\n",
    "    ax.add_patch(plt.Rectangle((0, 0), 1, 1, color=color))  # Create a colored square\n",
    "\n",
    "    text_color = text_color_based_on_bg(color)  # Determine text color\n",
    "    text = f'{means[i]:.3f} ± {std_devs[i]:.3f}'  # Format text for mean ± std deviation\n",
    "    ax.text(0.5, 0.5, text, ha='center', va='center', fontsize=14, color=text_color)  # Add text to the subplot\n",
    "\n",
    "    ax.axis('off')  # Remove axes\n",
    "\n",
    "# Adjust subplot parameters so squares touch each other\n",
    "plt.subplots_adjust(wspace=0, hspace=0)\n",
    "\n",
    "# Add a colorbar and adjust its font size\n",
    "sm = plt.cm.ScalarMappable(cmap=cmap, norm=norm)\n",
    "sm.set_array([])\n",
    "cbar = plt.colorbar(sm, ax=axs, orientation='horizontal', fraction=0.046, pad=0.04)\n",
    "cbar.ax.tick_params(labelsize=14)  # Set font size for colorbar ticks\n",
    "\n",
    "plt.show()"
   ]
  },
  {
   "cell_type": "markdown",
   "id": "a3d83dad-467d-4dd6-b0ab-09e299127902",
   "metadata": {},
   "source": [
    "## 13 - Compare the perfomance metrics across CNNs to the performance across human experts"
   ]
  },
  {
   "cell_type": "code",
   "execution_count": 25,
   "id": "3e66ec73-8891-409d-bcda-7d2c5b8aabb3",
   "metadata": {
    "tags": []
   },
   "outputs": [],
   "source": [
    "def load_human_labels(parameters_dir, experts):\n",
    "    # Initialize a dictionary to store labels for each image\n",
    "    human_labels = {}\n",
    "\n",
    "    # Iterate through each file in the parameters directory\n",
    "    for img_file in os.listdir(parameters_dir):\n",
    "        if img_file.endswith('.par'):\n",
    "            # Extract the expert's name and the timestamp from the file name\n",
    "            expert = img_file[:3]\n",
    "            if expert in experts:\n",
    "                timestamp = img_file[4:].split('.')[0]\n",
    "\n",
    "                # Initialize the label structure for this timestamp if not already done\n",
    "                if timestamp not in human_labels:\n",
    "                    human_labels[timestamp] = {ex: None for ex in experts}\n",
    "\n",
    "                # Read the label from the .par file\n",
    "                human_labels[timestamp][expert] = get_label_from_par(os.path.join(parameters_dir, img_file))\n",
    "    return human_labels\n"
   ]
  },
  {
   "cell_type": "code",
   "execution_count": null,
   "id": "1d2722e6-11b1-460b-b26e-9257a4835183",
   "metadata": {},
   "outputs": [],
   "source": []
  }
 ],
 "metadata": {
  "kernelspec": {
   "display_name": "Python 3.10 (tensorflow)",
   "language": "python",
   "name": "tensorflow"
  },
  "language_info": {
   "codemirror_mode": {
    "name": "ipython",
    "version": 3
   },
   "file_extension": ".py",
   "mimetype": "text/x-python",
   "name": "python",
   "nbconvert_exporter": "python",
   "pygments_lexer": "ipython3",
   "version": "3.10.9"
  }
 },
 "nbformat": 4,
 "nbformat_minor": 5
}
