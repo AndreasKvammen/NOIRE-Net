{
 "cells": [
  {
   "cell_type": "code",
   "execution_count": 1,
   "id": "96d6161b-e4ac-4e04-b533-e376329ce04f",
   "metadata": {
    "tags": []
   },
   "outputs": [],
   "source": [
    "import os\n",
    "import random\n",
    "import numpy as np\n",
    "from tensorflow.keras.models import load_model\n",
    "from tensorflow.keras.preprocessing.image import img_to_array, load_img\n",
    "from sklearn.metrics import precision_score, recall_score, f1_score, accuracy_score\n",
    "from sklearn.metrics import confusion_matrix"
   ]
  },
  {
   "cell_type": "code",
   "execution_count": 2,
   "id": "d63594f1-723f-4801-baa0-b6fd6b487596",
   "metadata": {
    "tags": []
   },
   "outputs": [],
   "source": [
    "# The function get_label_from_par reads a .par file and returns \n",
    "# True if either the second or fourth item is not 'nan', \n",
    "# indicating the presence of an E-region in the corresponding image,\n",
    "# for use in binary classification.\n",
    "\n",
    "def get_label_from_par(par_file_path):\n",
    "    try:\n",
    "        # Open the .par file located at par_file_path\n",
    "        with open(par_file_path, 'r') as file:\n",
    "            content = file.readline().strip()  # Read and strip the first line of the file\n",
    "            items = content.split()  # Split the line into individual items (usually numbers or 'nan')\n",
    "\n",
    "            # Check the second (index 1) and fourth (index 3) items:\n",
    "            # If either of these items is not 'nan', it implies the presence of an E-region.\n",
    "            # The function then returns True, indicating that this image has an E-region.\n",
    "            is_e_region = items[1].lower() != 'nan' or items[3].lower() != 'nan'\n",
    "        return is_e_region\n",
    "\n",
    "    except IndexError:\n",
    "        # This block catches an IndexError, which occurs if the line read from the file\n",
    "        # does not have at least four items. In such a case, the function assumes that\n",
    "        # the E-region data is not present or not properly formatted, and returns False.\n",
    "        return False\n",
    "\n",
    "    except Exception as e:\n",
    "        # This block catches any other exceptions (like file not found, read errors, etc.).\n",
    "        # It prints the exception message and returns False, indicating an issue with processing the file.\n",
    "        print(f\"Error reading {par_file_path}: {e}\")\n",
    "        return False"
   ]
  },
  {
   "cell_type": "code",
   "execution_count": 3,
   "id": "8571b864-0639-4ab0-8bad-5b7b35476d26",
   "metadata": {
    "tags": []
   },
   "outputs": [],
   "source": [
    "def get_majority_label(par_files):\n",
    "    labels = [get_label_from_par(f) for f in par_files]\n",
    "    if labels.count(True) > len(labels) / 2:\n",
    "        return True\n",
    "    elif labels.count(False) > len(labels) / 2:\n",
    "        return False\n",
    "    else:\n",
    "        return random.choice([True, False])  # Randomize in case of a tie\n"
   ]
  },
  {
   "cell_type": "code",
   "execution_count": 4,
   "id": "c02a325e-da76-41d6-ab52-986dc3bd9aac",
   "metadata": {
    "tags": []
   },
   "outputs": [],
   "source": [
    "def load_and_preprocess_image(image_path):\n",
    "    image = load_img(image_path, color_mode='grayscale', target_size=(310, 310))\n",
    "    image = img_to_array(image)\n",
    "    image /= 255.0\n",
    "    return image"
   ]
  },
  {
   "cell_type": "code",
   "execution_count": 5,
   "id": "aa3d9fc8-e380-411a-9bc5-29f21ff4f43c",
   "metadata": {
    "tags": []
   },
   "outputs": [],
   "source": [
    "def evaluate_models(models_dir, testing_dir):\n",
    "    models = []\n",
    "    for model_file in os.listdir(models_dir):\n",
    "        if model_file.endswith('.h5'):\n",
    "            models.append(load_model(os.path.join(models_dir, model_file)))\n",
    "\n",
    "    ionograms_dir = os.path.join(testing_dir, 'ionograms')\n",
    "    parameters_dir = os.path.join(testing_dir, 'parameters')\n",
    "\n",
    "    X_test = []\n",
    "    y_human = []\n",
    "\n",
    "    for img_file in os.listdir(ionograms_dir):\n",
    "        if img_file.endswith('.png'):\n",
    "            img_path = os.path.join(ionograms_dir, img_file)\n",
    "            X_test.append(load_and_preprocess_image(img_path))\n",
    "\n",
    "            timestamp = os.path.splitext(img_file)[0]\n",
    "            par_files = [os.path.join(parameters_dir, f) for f in os.listdir(parameters_dir) if timestamp in f]\n",
    "            y_human.append(get_majority_label(par_files))\n",
    "\n",
    "    X_test = np.array(X_test)\n",
    "    y_human = np.array(y_human).astype(int)\n",
    "    \n",
    "    # Initialize lists to store metrics for each model\n",
    "    precisions = []\n",
    "    recalls = []\n",
    "    f1s = []\n",
    "    accuracies = []\n",
    "    confusion_matrices = []\n",
    "    \n",
    "    for model in models:\n",
    "        y_pred = model.predict(X_test).round().astype(int)\n",
    "        precision = precision_score(y_human, y_pred)\n",
    "        precisions.append(precision)\n",
    "        recall = recall_score(y_human, y_pred)\n",
    "        recalls.append(recall)\n",
    "        f1 = f1_score(y_human, y_pred)\n",
    "        f1s.append(f1)\n",
    "        accuracy = accuracy_score(y_human, y_pred)\n",
    "        accuracies.append(accuracy)\n",
    "        y_pred = model.predict(X_test).round().astype(int)\n",
    "        cm = confusion_matrix(y_human, y_pred, normalize='true')  # Normalized confusion matrix\n",
    "        confusion_matrices.append(cm)\n",
    "                \n",
    "    # Calculate and print the mean and standard deviation of the metrics\n",
    "    print(f\"Mean Precision: {np.mean(precisions):.3f}, Std Precision: {np.std(precisions):.3f}\")\n",
    "    print(f\"Mean Recall: {np.mean(recalls):.3f}, Std Recall: {np.std(recalls):.3f}\")\n",
    "    print(f\"Mean F1-Score: {np.mean(f1s):.3f}, Std F1-Score: {np.std(f1s):.3f}\")\n",
    "    print(f\"Mean Accuracy: {np.mean(accuracies):.3f}, Std Accuracy: {np.std(accuracies):.3f}\")\n",
    "    return confusion_matrices"
   ]
  },
  {
   "cell_type": "code",
   "execution_count": 6,
   "id": "5c0f9c9e-bfaf-4f8b-b16f-c3c3f180e7ce",
   "metadata": {
    "tags": []
   },
   "outputs": [
    {
     "name": "stdout",
     "output_type": "stream",
     "text": [
      "Metal device set to: Apple M1 Max\n"
     ]
    },
    {
     "name": "stderr",
     "output_type": "stream",
     "text": [
      "2023-11-28 18:05:17.651739: I tensorflow/core/common_runtime/pluggable_device/pluggable_device_factory.cc:305] Could not identify NUMA node of platform GPU ID 0, defaulting to 0. Your kernel may not have been built with NUMA support.\n",
      "2023-11-28 18:05:17.651906: I tensorflow/core/common_runtime/pluggable_device/pluggable_device_factory.cc:271] Created TensorFlow device (/job:localhost/replica:0/task:0/device:GPU:0 with 0 MB memory) -> physical PluggableDevice (device: 0, name: METAL, pci bus id: <undefined>)\n",
      "2023-11-28 18:05:27.239596: W tensorflow/core/platform/profile_utils/cpu_utils.cc:128] Failed to get CPU frequency: 0 Hz\n",
      "2023-11-28 18:05:27.373949: I tensorflow/core/grappler/optimizers/custom_graph_optimizer_registry.cc:113] Plugin optimizer for device_type GPU is enabled.\n"
     ]
    },
    {
     "name": "stdout",
     "output_type": "stream",
     "text": [
      "21/21 [==============================] - 2s 77ms/step\n",
      "21/21 [==============================] - 2s 90ms/step\n",
      "Model: sequential_4 - Precision: 0.9546485260770975, Recall: 0.9836448598130841, F1: 0.9689298043728424, Accuracy: 0.9587786259541985\n"
     ]
    },
    {
     "name": "stderr",
     "output_type": "stream",
     "text": [
      "2023-11-28 18:05:31.693707: I tensorflow/core/grappler/optimizers/custom_graph_optimizer_registry.cc:113] Plugin optimizer for device_type GPU is enabled.\n"
     ]
    },
    {
     "name": "stdout",
     "output_type": "stream",
     "text": [
      "21/21 [==============================] - 2s 100ms/step\n",
      "21/21 [==============================] - 2s 92ms/step\n",
      "Model: sequential_1 - Precision: 0.9546485260770975, Recall: 0.9836448598130841, F1: 0.9689298043728424, Accuracy: 0.9587786259541985\n"
     ]
    },
    {
     "name": "stderr",
     "output_type": "stream",
     "text": [
      "2023-11-28 18:05:36.147115: I tensorflow/core/grappler/optimizers/custom_graph_optimizer_registry.cc:113] Plugin optimizer for device_type GPU is enabled.\n"
     ]
    },
    {
     "name": "stdout",
     "output_type": "stream",
     "text": [
      "21/21 [==============================] - 2s 99ms/step\n",
      "21/21 [==============================] - 2s 88ms/step\n",
      "Model: sequential_5 - Precision: 0.9691943127962085, Recall: 0.955607476635514, F1: 0.9623529411764705, Accuracy: 0.9511450381679389\n"
     ]
    },
    {
     "name": "stderr",
     "output_type": "stream",
     "text": [
      "2023-11-28 18:05:40.517736: I tensorflow/core/grappler/optimizers/custom_graph_optimizer_registry.cc:113] Plugin optimizer for device_type GPU is enabled.\n"
     ]
    },
    {
     "name": "stdout",
     "output_type": "stream",
     "text": [
      "21/21 [==============================] - 2s 95ms/step\n",
      "21/21 [==============================] - 2s 91ms/step\n",
      "Model: sequential_2 - Precision: 0.9720930232558139, Recall: 0.9766355140186916, F1: 0.9743589743589743, Accuracy: 0.966412213740458\n"
     ]
    },
    {
     "name": "stderr",
     "output_type": "stream",
     "text": [
      "2023-11-28 18:05:44.865996: I tensorflow/core/grappler/optimizers/custom_graph_optimizer_registry.cc:113] Plugin optimizer for device_type GPU is enabled.\n"
     ]
    },
    {
     "name": "stdout",
     "output_type": "stream",
     "text": [
      "21/21 [==============================] - 2s 91ms/step\n",
      "21/21 [==============================] - 2s 89ms/step\n",
      "Model: sequential_3 - Precision: 0.9502262443438914, Recall: 0.9813084112149533, F1: 0.9655172413793103, Accuracy: 0.9541984732824428\n",
      "Mean Precision: 0.960, Std Precision: 0.009\n",
      "Mean Recall: 0.976, Std Recall: 0.011\n",
      "Mean F1-Score: 0.968, Std F1-Score: 0.004\n",
      "Mean Accuracy: 0.958, Std Accuracy: 0.005\n"
     ]
    },
    {
     "data": {
      "text/plain": [
       "[array([[0.91189427, 0.08810573],\n",
       "        [0.01635514, 0.98364486]]),\n",
       " array([[0.91189427, 0.08810573],\n",
       "        [0.01635514, 0.98364486]]),\n",
       " array([[0.94273128, 0.05726872],\n",
       "        [0.04439252, 0.95560748]]),\n",
       " array([[0.94713656, 0.05286344],\n",
       "        [0.02336449, 0.97663551]]),\n",
       " array([[0.9030837 , 0.0969163 ],\n",
       "        [0.01869159, 0.98130841]])]"
      ]
     },
     "execution_count": 6,
     "metadata": {},
     "output_type": "execute_result"
    }
   ],
   "source": [
    "models_dir = 'E-classify'\n",
    "testing_dir = 'testing'\n",
    "evaluate_models(models_dir, testing_dir)"
   ]
  },
  {
   "cell_type": "code",
   "execution_count": 7,
   "id": "60790e0a-030f-4591-ae98-e2f1db4dd27b",
   "metadata": {
    "tags": []
   },
   "outputs": [
    {
     "name": "stderr",
     "output_type": "stream",
     "text": [
      "2023-11-28 18:06:15.611015: I tensorflow/core/grappler/optimizers/custom_graph_optimizer_registry.cc:113] Plugin optimizer for device_type GPU is enabled.\n"
     ]
    },
    {
     "name": "stdout",
     "output_type": "stream",
     "text": [
      "21/21 [==============================] - 2s 86ms/step\n",
      "21/21 [==============================] - 2s 77ms/step\n",
      "Model: sequential_4 - Precision: 0.963718820861678, Recall: 0.9770114942528736, F1: 0.9703196347031964, Accuracy: 0.9603053435114504\n"
     ]
    },
    {
     "name": "stderr",
     "output_type": "stream",
     "text": [
      "2023-11-28 18:06:19.590986: I tensorflow/core/grappler/optimizers/custom_graph_optimizer_registry.cc:113] Plugin optimizer for device_type GPU is enabled.\n"
     ]
    },
    {
     "name": "stdout",
     "output_type": "stream",
     "text": [
      "21/21 [==============================] - 2s 92ms/step\n",
      "21/21 [==============================] - 2s 82ms/step\n",
      "Model: sequential_1 - Precision: 0.9591836734693877, Recall: 0.9724137931034482, F1: 0.9657534246575341, Accuracy: 0.9541984732824428\n"
     ]
    },
    {
     "name": "stderr",
     "output_type": "stream",
     "text": [
      "2023-11-28 18:06:23.719009: I tensorflow/core/grappler/optimizers/custom_graph_optimizer_registry.cc:113] Plugin optimizer for device_type GPU is enabled.\n"
     ]
    },
    {
     "name": "stdout",
     "output_type": "stream",
     "text": [
      "21/21 [==============================] - 2s 99ms/step\n",
      "21/21 [==============================] - 2s 83ms/step\n",
      "Model: sequential_5 - Precision: 0.981042654028436, Recall: 0.9517241379310345, F1: 0.9661610268378064, Accuracy: 0.9557251908396946\n"
     ]
    },
    {
     "name": "stderr",
     "output_type": "stream",
     "text": [
      "2023-11-28 18:06:27.988407: I tensorflow/core/grappler/optimizers/custom_graph_optimizer_registry.cc:113] Plugin optimizer for device_type GPU is enabled.\n"
     ]
    },
    {
     "name": "stdout",
     "output_type": "stream",
     "text": [
      "21/21 [==============================] - 2s 97ms/step\n",
      "21/21 [==============================] - 2s 82ms/step\n",
      "Model: sequential_2 - Precision: 0.9790697674418605, Recall: 0.967816091954023, F1: 0.9734104046242775, Accuracy: 0.9648854961832061\n"
     ]
    },
    {
     "name": "stderr",
     "output_type": "stream",
     "text": [
      "2023-11-28 18:06:32.144619: I tensorflow/core/grappler/optimizers/custom_graph_optimizer_registry.cc:113] Plugin optimizer for device_type GPU is enabled.\n"
     ]
    },
    {
     "name": "stdout",
     "output_type": "stream",
     "text": [
      "21/21 [==============================] - 2s 84ms/step\n",
      "21/21 [==============================] - 2s 77ms/step\n",
      "Model: sequential_3 - Precision: 0.9615384615384616, Recall: 0.9770114942528736, F1: 0.9692132269099203, Accuracy: 0.9587786259541985\n",
      "Mean Precision: 0.969, Std Precision: 0.009\n",
      "Mean Recall: 0.969, Std Recall: 0.009\n",
      "Mean F1-Score: 0.969, Std F1-Score: 0.003\n",
      "Mean Accuracy: 0.959, Std Accuracy: 0.004\n"
     ]
    }
   ],
   "source": [
    "confusion_matrices = evaluate_models(models_dir, testing_dir)\n",
    "\n",
    "# Convert list of confusion matrices to a 3D NumPy array for easier calculations\n",
    "confusion_matrices = np.array(confusion_matrices)\n",
    "\n",
    "# Calculate mean and std for TP, FN, FP, TN\n",
    "mean_tp = np.mean(confusion_matrices[:, 1, 1])\n",
    "std_tp = np.std(confusion_matrices[:, 1, 1])\n",
    "\n",
    "mean_fn = np.mean(confusion_matrices[:, 1, 0])\n",
    "std_fn = np.std(confusion_matrices[:, 1, 0])\n",
    "\n",
    "mean_fp = np.mean(confusion_matrices[:, 0, 1])\n",
    "std_fp = np.std(confusion_matrices[:, 0, 1])\n",
    "\n",
    "mean_tn = np.mean(confusion_matrices[:, 0, 0])\n",
    "std_tn = np.std(confusion_matrices[:, 0, 0])\n",
    "\n",
    "# Metrics, means, and standard deviations\n",
    "means = [mean_tp, mean_fn, mean_fp, mean_tn]\n",
    "std_devs = [std_tp, std_fn, std_fp, std_tn]"
   ]
  },
  {
   "cell_type": "code",
   "execution_count": 8,
   "id": "0ed4983a-e8d7-41ea-9b5b-35270eda04fa",
   "metadata": {
    "tags": []
   },
   "outputs": [
    {
     "data": {
      "image/png": "[encoded data removed]",
      "text/plain": [
       "<Figure size 600x600 with 4 Axes>"
      ]
     },
     "metadata": {},
     "output_type": "display_data"
    }
   ],
   "source": [
    "import matplotlib.pyplot as plt\n",
    "import matplotlib.colors as mcolors\n",
    "# Define a function to determine text color based on background color intensity\n",
    "def text_color_based_on_bg(bg_color):\n",
    "    # Calculate the perceptual luminance of the color\n",
    "    luminance = (0.299*bg_color[0] + 0.587*bg_color[1] + 0.114*bg_color[2])\n",
    "    return 'white' if luminance < 0.5 else 'black'\n",
    "\n",
    "# Setup color map\n",
    "cmap = plt.cm.inferno\n",
    "norm = mcolors.Normalize(vmin=min(means), vmax=max(means))\n",
    "\n",
    "# Create figure\n",
    "fig, axs = plt.subplots(2, 2, figsize=(6, 6))\n",
    "axs = axs.flatten()\n",
    "\n",
    "for i, ax in enumerate(axs):\n",
    "    # Set the color based on the mean value\n",
    "    color = cmap(norm(means[i]))\n",
    "    \n",
    "    # Create a colored square\n",
    "    ax.add_patch(plt.Rectangle((0, 0), 1, 1, color=color))\n",
    "    \n",
    "    # Determine text color based on background color\n",
    "    text_color = text_color_based_on_bg(color)\n",
    "    \n",
    "    # Add text for mean ± std deviation\n",
    "    text = f'{means[i]:.3f} ± {std_devs[i]:.3f}'\n",
    "    ax.text(0.5, 0.5, text, ha='center', va='center', fontsize=14, color=text_color)\n",
    "    \n",
    "    # Remove axes\n",
    "    ax.axis('off')\n",
    "\n",
    "# Adjust layout so squares touch each other\n",
    "plt.subplots_adjust(wspace=0, hspace=0)\n",
    "plt.show()"
   ]
  },
  {
   "cell_type": "code",
   "execution_count": null,
   "id": "f4362cc4-7bf2-411f-923a-8d7c13bc8a88",
   "metadata": {},
   "outputs": [],
   "source": []
  }
 ],
 "metadata": {
  "kernelspec": {
   "display_name": "Python 3.10 (tensorflow)",
   "language": "python",
   "name": "tensorflow"
  },
  "language_info": {
   "codemirror_mode": {
    "name": "ipython",
    "version": 3
   },
   "file_extension": ".py",
   "mimetype": "text/x-python",
   "name": "python",
   "nbconvert_exporter": "python",
   "pygments_lexer": "ipython3",
   "version": "3.10.9"
  }
 },
 "nbformat": 4,
 "nbformat_minor": 5
}
