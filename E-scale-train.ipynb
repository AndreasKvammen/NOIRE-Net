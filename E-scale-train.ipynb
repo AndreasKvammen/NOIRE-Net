{
 "cells": [
  {
   "cell_type": "markdown",
   "id": "6553ab89-fa75-447a-8c08-7f25ac7ad487",
   "metadata": {
    "tags": []
   },
   "source": [
    "# E-scale-train: This Notebook trains the NOIRE-Net E-region scaling networks"
   ]
  },
  {
   "cell_type": "markdown",
   "id": "822ec13f-8079-401c-aaf2-37f2981acd5b",
   "metadata": {},
   "source": [
    "## 1 - Import libaries "
   ]
  },
  {
   "cell_type": "code",
   "execution_count": 1,
   "id": "80990a8e-2d87-444b-aa25-42ea1903521d",
   "metadata": {
    "tags": []
   },
   "outputs": [],
   "source": [
    "import os\n",
    "import random\n",
    "import numpy as np\n",
    "from sklearn.model_selection import train_test_split\n",
    "from tensorflow.keras.models import Sequential\n",
    "from tensorflow.keras.layers import Conv2D, MaxPooling2D, Flatten, Dense, BatchNormalization, Dropout\n",
    "from tensorflow.keras.preprocessing.image import img_to_array, load_img\n",
    "from sklearn.metrics import mean_squared_error\n",
    "from math import sqrt\n",
    "from tensorflow.keras.callbacks import ModelCheckpoint\n",
    "import pickle"
   ]
  },
  {
   "cell_type": "markdown",
   "id": "c57942b9-0d1e-4c29-b201-dae42e4f99bd",
   "metadata": {},
   "source": [
    "## 2 - Define function to get E-region scaling parameters from .par file (item1 = fE, item2 = hE)"
   ]
  },
  {
   "cell_type": "code",
   "execution_count": 2,
   "id": "4b8714c8-324c-4ddb-ab4e-5ac56070ba76",
   "metadata": {
    "tags": []
   },
   "outputs": [],
   "source": [
    "# The function get_regression_label_from_par reads a .par file and returns \n",
    "# the E-region maximum frequency and the E-region height.\n",
    "# Both the fE and hE must be values (can not be 'nan'). \n",
    "\n",
    "def get_regression_label_from_par(par_file_path):\n",
    "    try:\n",
    "        # Open the file at the specified path\n",
    "        with open(par_file_path, 'r') as file:\n",
    "            content = file.readline().strip()  # Read the first line and remove leading/trailing whitespace\n",
    "            items = content.split()  # Split the line into individual items\n",
    "\n",
    "            # Check if both the second and fourth items are not 'nan' (not a number)\n",
    "            # If they are both valid numbers, convert them to floats and return them as a tuple\n",
    "            if items[1].lower() != 'nan' and items[3].lower() != 'nan':\n",
    "                return float(items[1]), float(items[3])\n",
    "            else:\n",
    "                # If either item is 'nan', return None\n",
    "                return None\n",
    "    except Exception as e:\n",
    "        # Print an error message if an exception occurs while processing the file\n",
    "        print(f\"Error reading {par_file_path}: {e}\")\n",
    "        # Return None if there is an error\n",
    "        return None\n"
   ]
  },
  {
   "cell_type": "markdown",
   "id": "ff5dd112-47cc-48b4-915e-5d52e25ec6cc",
   "metadata": {
    "tags": []
   },
   "source": [
    "## 3 - Define function to load ionograms and preprocess the data"
   ]
  },
  {
   "cell_type": "code",
   "execution_count": 3,
   "id": "c413a846-e152-4d08-9231-856a3066eded",
   "metadata": {
    "tags": []
   },
   "outputs": [],
   "source": [
    "# The load_data function loads and preprocesses image data from a specified directory,\n",
    "# converting images to grayscale and resizing them, while also extracting corresponding\n",
    "# scaling parameters from associated .par files for a regression task.\n",
    "\n",
    "def load_data(data_dir, target_size=(310, 310)):\n",
    "    images = []  # List to store preprocessed images\n",
    "    labels = []  # List to store corresponding regression labels\n",
    "\n",
    "    # Construct paths to the directories containing ionograms and parameters\n",
    "    ionograms_dir = os.path.join(data_dir, 'ionograms')\n",
    "    parameters_dir = os.path.join(data_dir, 'parameters')\n",
    "\n",
    "    # Iterate over the files in the ionograms directory\n",
    "    for filename in os.listdir(ionograms_dir):\n",
    "        if filename.endswith('.png'):  # Check if the file is a PNG image\n",
    "            # Construct full paths to the image file and its corresponding .par file\n",
    "            img_path = os.path.join(ionograms_dir, filename)\n",
    "            par_path = os.path.join(parameters_dir, filename.replace('.png', '.par'))\n",
    "\n",
    "            # Load the image, convert it to grayscale, resize it, and normalize pixel values\n",
    "            image = load_img(img_path, color_mode='grayscale', target_size=target_size)\n",
    "            image = img_to_array(image) / 255.0  # Normalize image pixels to be between 0 and 1\n",
    "\n",
    "            # Get the regression labels from the .par file\n",
    "            regression_label = get_regression_label_from_par(par_path)\n",
    "            \n",
    "            # Proceed only if valid regression labels are found\n",
    "            if regression_label is not None:\n",
    "                images.append(image)\n",
    "                labels.append(regression_label)\n",
    "\n",
    "    # Convert the lists of images and labels to numpy arrays and return them\n",
    "    return np.array(images), np.array(labels)"
   ]
  },
  {
   "cell_type": "markdown",
   "id": "0a34042b-b7a9-4fce-ae53-61d68a1252e1",
   "metadata": {},
   "source": [
    "## 4 - Load the ionograms and scaling outputs from the data folder "
   ]
  },
  {
   "cell_type": "code",
   "execution_count": 4,
   "id": "42d19eba-8888-42dc-a7c1-8f01e388aea4",
   "metadata": {},
   "outputs": [],
   "source": [
    "# Specify the directory where the data is stored\n",
    "data_dir = 'train-val-test'  # 'train_test_val' should be replaced with the actual path to your data directory\n",
    "\n",
    "# Call the load_data function to load and preprocess the data\n",
    "# X contain the preprocessed images, and y will contain the corresponding labels\n",
    "X, y = load_data(data_dir)"
   ]
  },
  {
   "cell_type": "markdown",
   "id": "12934bcf-6a1f-4429-b3a7-31bbf697c4fb",
   "metadata": {},
   "source": [
    "## 5 - Define a function to create the NOIRE-Net architecture"
   ]
  },
  {
   "cell_type": "code",
   "execution_count": 5,
   "id": "63999a78-e194-419d-a6cb-93a42fd9a1c8",
   "metadata": {
    "tags": []
   },
   "outputs": [],
   "source": [
    "# This code defines and complies NOIRE-Net a convolutional neural network (CNN) model using Keras, \n",
    "# with multiple convolutional layers, batch normalization, max pooling, and dense layers, \n",
    "# designed for binary classification tasks.\n",
    "\n",
    "def NOIREnet():\n",
    "    model = Sequential([\n",
    "    # First convolutional layer with 32 filters and a kernel size of 3x3\n",
    "    # 'padding=same' ensures the output size is the same as the input size\n",
    "    # 'input_shape' is set for the first layer to indicate the shape of the input data\n",
    "    Conv2D(32, (3, 3), padding='same', activation='relu', input_shape=(310, 310, 1)),\n",
    "    \n",
    "    # Batch normalization to normalize the activations from the previous layer\n",
    "    BatchNormalization(),\n",
    "\n",
    "    # Second convolutional layer with 32 filters and a kernel size of 3x3\n",
    "    Conv2D(32, (3, 3), activation='relu'),\n",
    "\n",
    "    # Another batch normalization\n",
    "    BatchNormalization(),\n",
    "\n",
    "    # First max pooling layer to reduce spatial dimensions\n",
    "    MaxPooling2D((2, 2)),\n",
    "\n",
    "    # Repeating the pattern of two convolutional layers followed by batch normalization\n",
    "    # and a max pooling layer, gradually increasing the number of filters\n",
    "    Conv2D(32, (3, 3), padding='same', activation='relu'),\n",
    "    BatchNormalization(),\n",
    "    Conv2D(32, (3, 3), activation='relu'),\n",
    "    BatchNormalization(),\n",
    "    MaxPooling2D((2, 2)),\n",
    "\n",
    "    Conv2D(64, (3, 3), padding='same', activation='relu'),\n",
    "    BatchNormalization(),\n",
    "    Conv2D(64, (3, 3), activation='relu'),\n",
    "    BatchNormalization(),\n",
    "    MaxPooling2D((2, 2)),\n",
    "\n",
    "    Conv2D(64, (3, 3), padding='same', activation='relu'),\n",
    "    BatchNormalization(),\n",
    "    Conv2D(64, (3, 3), activation='relu'),\n",
    "    BatchNormalization(),\n",
    "    MaxPooling2D((2, 2)),\n",
    "\n",
    "    Conv2D(128, (3, 3), padding='same', activation='relu'),\n",
    "    BatchNormalization(),\n",
    "    Conv2D(128, (3, 3), activation='relu'),\n",
    "    BatchNormalization(),\n",
    "    MaxPooling2D((2, 2)),\n",
    "\n",
    "    Conv2D(128, (3, 3), padding='same', activation='relu'),\n",
    "    BatchNormalization(),\n",
    "    Conv2D(128, (3, 3), activation='relu'),\n",
    "    BatchNormalization(),\n",
    "    MaxPooling2D((2, 2)),\n",
    "\n",
    "    # Flatten the output from the convolutional layers to feed into dense layers\n",
    "    Flatten(),\n",
    "\n",
    "    # Dense (fully connected) layer with 256 neurons and relu activation\n",
    "    Dense(256, activation='relu'),\n",
    "\n",
    "    # Dropout layer to reduce overfitting\n",
    "    Dropout(0.5),\n",
    "\n",
    "    # Another dense layer with 128 neurons\n",
    "    Dense(128, activation='relu'),\n",
    "\n",
    "    # Output layer with a single neuron and sigmoid activation for binary classification\n",
    "    Dense(2, activation='linear')\n",
    "    ])\n",
    "    \n",
    "    # Compile the CNN model\n",
    "    model.compile(\n",
    "        optimizer='adam',  # Using the Adam optimizer for adaptive learning rate optimization\n",
    "        loss='mse',  # Mean squared error loss function, suitable for regression tasks\n",
    "        metrics=['mse']  # The model will report 'mse' as a performance metric\n",
    "    )\n",
    "    \n",
    "    # Return the compiled model\n",
    "    return model"
   ]
  },
  {
   "cell_type": "markdown",
   "id": "851e79f5-b94d-4d83-9fb5-2eec0704815b",
   "metadata": {},
   "source": [
    "## 6 - Train 10 CNNs for E-region scaling and save the models"
   ]
  },
  {
   "cell_type": "code",
   "execution_count": null,
   "id": "d2c64aa5-20e0-4d48-b719-ccc1e1d6e537",
   "metadata": {
    "tags": []
   },
   "outputs": [
    {
     "name": "stderr",
     "output_type": "stream",
     "text": [
      "2023-12-02 17:40:43.200544: I tensorflow/core/common_runtime/pluggable_device/pluggable_device_factory.cc:305] Could not identify NUMA node of platform GPU ID 0, defaulting to 0. Your kernel may not have been built with NUMA support.\n",
      "2023-12-02 17:40:43.200679: I tensorflow/core/common_runtime/pluggable_device/pluggable_device_factory.cc:271] Created TensorFlow device (/job:localhost/replica:0/task:0/device:GPU:0 with 0 MB memory) -> physical PluggableDevice (device: 0, name: METAL, pci bus id: <undefined>)\n"
     ]
    },
    {
     "name": "stdout",
     "output_type": "stream",
     "text": [
      "Metal device set to: Apple M1 Max\n",
      "Epoch 1/100\n"
     ]
    },
    {
     "name": "stderr",
     "output_type": "stream",
     "text": [
      "2023-12-02 17:40:47.165115: W tensorflow/core/platform/profile_utils/cpu_utils.cc:128] Failed to get CPU frequency: 0 Hz\n",
      "2023-12-02 17:40:48.969245: I tensorflow/core/grappler/optimizers/custom_graph_optimizer_registry.cc:113] Plugin optimizer for device_type GPU is enabled.\n"
     ]
    },
    {
     "name": "stdout",
     "output_type": "stream",
     "text": [
      "120/120 [==============================] - ETA: 0s - loss: 779.0279 - mse: 779.0279"
     ]
    },
    {
     "name": "stderr",
     "output_type": "stream",
     "text": [
      "2023-12-02 17:42:22.871262: I tensorflow/core/grappler/optimizers/custom_graph_optimizer_registry.cc:113] Plugin optimizer for device_type GPU is enabled.\n"
     ]
    },
    {
     "name": "stdout",
     "output_type": "stream",
     "text": [
      "\n",
      "Epoch 1: val_loss improved from inf to 4963.58350, saving model to E-scale/E-scale_run1.h5\n",
      "120/120 [==============================] - 104s 819ms/step - loss: 779.0279 - mse: 779.0279 - val_loss: 4963.5835 - val_mse: 4963.5835 - lr: 0.0010\n",
      "Epoch 2/100\n",
      "120/120 [==============================] - ETA: 0s - loss: 144.1797 - mse: 144.1797\n",
      "Epoch 2: val_loss did not improve from 4963.58350\n",
      "120/120 [==============================] - 99s 822ms/step - loss: 144.1797 - mse: 144.1797 - val_loss: 5018.2891 - val_mse: 5018.2891 - lr: 0.0010\n",
      "Epoch 3/100\n",
      "120/120 [==============================] - ETA: 0s - loss: 108.1622 - mse: 108.1622\n",
      "Epoch 3: val_loss improved from 4963.58350 to 3447.27734, saving model to E-scale/E-scale_run1.h5\n",
      "120/120 [==============================] - 95s 794ms/step - loss: 108.1622 - mse: 108.1622 - val_loss: 3447.2773 - val_mse: 3447.2773 - lr: 0.0010\n",
      "Epoch 4/100\n",
      "120/120 [==============================] - ETA: 0s - loss: 86.2313 - mse: 86.2313\n",
      "Epoch 4: val_loss improved from 3447.27734 to 634.87787, saving model to E-scale/E-scale_run1.h5\n",
      "120/120 [==============================] - 94s 787ms/step - loss: 86.2313 - mse: 86.2313 - val_loss: 634.8779 - val_mse: 634.8779 - lr: 0.0010\n",
      "Epoch 5/100\n",
      "120/120 [==============================] - ETA: 0s - loss: 95.6357 - mse: 95.6357\n",
      "Epoch 5: val_loss improved from 634.87787 to 314.23050, saving model to E-scale/E-scale_run1.h5\n",
      "120/120 [==============================] - 94s 783ms/step - loss: 95.6357 - mse: 95.6357 - val_loss: 314.2305 - val_mse: 314.2305 - lr: 0.0010\n",
      "Epoch 6/100\n",
      "120/120 [==============================] - ETA: 0s - loss: 67.5680 - mse: 67.5680\n",
      "Epoch 6: val_loss did not improve from 314.23050\n",
      "120/120 [==============================] - 94s 780ms/step - loss: 67.5680 - mse: 67.5680 - val_loss: 544.7029 - val_mse: 544.7029 - lr: 0.0010\n",
      "Epoch 7/100\n",
      "120/120 [==============================] - ETA: 0s - loss: 187.1246 - mse: 187.1246\n",
      "Epoch 7: val_loss did not improve from 314.23050\n",
      "120/120 [==============================] - 96s 797ms/step - loss: 187.1246 - mse: 187.1246 - val_loss: 8098.4536 - val_mse: 8098.4536 - lr: 0.0010\n",
      "Epoch 8/100\n",
      "120/120 [==============================] - ETA: 0s - loss: 104.2608 - mse: 104.2608\n",
      "Epoch 8: val_loss improved from 314.23050 to 129.02229, saving model to E-scale/E-scale_run1.h5\n",
      "120/120 [==============================] - 93s 774ms/step - loss: 104.2608 - mse: 104.2608 - val_loss: 129.0223 - val_mse: 129.0223 - lr: 0.0010\n",
      "Epoch 9/100\n",
      "120/120 [==============================] - ETA: 0s - loss: 83.2059 - mse: 83.2059\n",
      "Epoch 9: val_loss did not improve from 129.02229\n",
      "120/120 [==============================] - 93s 772ms/step - loss: 83.2059 - mse: 83.2059 - val_loss: 143.9174 - val_mse: 143.9174 - lr: 0.0010\n",
      "Epoch 10/100\n",
      "120/120 [==============================] - ETA: 0s - loss: 66.8612 - mse: 66.8612\n",
      "Epoch 10: val_loss improved from 129.02229 to 92.65208, saving model to E-scale/E-scale_run1.h5\n",
      "120/120 [==============================] - 91s 761ms/step - loss: 66.8612 - mse: 66.8612 - val_loss: 92.6521 - val_mse: 92.6521 - lr: 0.0010\n",
      "Epoch 11/100\n",
      "120/120 [==============================] - ETA: 0s - loss: 106.1683 - mse: 106.1683\n",
      "Epoch 11: val_loss did not improve from 92.65208\n",
      "120/120 [==============================] - 92s 766ms/step - loss: 106.1683 - mse: 106.1683 - val_loss: 124.6377 - val_mse: 124.6377 - lr: 0.0010\n",
      "Epoch 12/100\n",
      "120/120 [==============================] - ETA: 0s - loss: 56.9239 - mse: 56.9239\n",
      "Epoch 12: val_loss improved from 92.65208 to 90.59039, saving model to E-scale/E-scale_run1.h5\n",
      "120/120 [==============================] - 93s 775ms/step - loss: 56.9239 - mse: 56.9239 - val_loss: 90.5904 - val_mse: 90.5904 - lr: 0.0010\n",
      "Epoch 13/100\n",
      "120/120 [==============================] - ETA: 0s - loss: 43.1049 - mse: 43.1049\n",
      "Epoch 13: val_loss improved from 90.59039 to 80.96079, saving model to E-scale/E-scale_run1.h5\n",
      "120/120 [==============================] - 93s 772ms/step - loss: 43.1049 - mse: 43.1049 - val_loss: 80.9608 - val_mse: 80.9608 - lr: 0.0010\n",
      "Epoch 14/100\n",
      "120/120 [==============================] - ETA: 0s - loss: 36.6151 - mse: 36.6151\n",
      "Epoch 14: val_loss did not improve from 80.96079\n",
      "120/120 [==============================] - 93s 779ms/step - loss: 36.6151 - mse: 36.6151 - val_loss: 86.1132 - val_mse: 86.1132 - lr: 0.0010\n",
      "Epoch 15/100\n",
      "120/120 [==============================] - ETA: 0s - loss: 34.4274 - mse: 34.4274\n",
      "Epoch 15: val_loss improved from 80.96079 to 75.17527, saving model to E-scale/E-scale_run1.h5\n",
      "120/120 [==============================] - 95s 789ms/step - loss: 34.4274 - mse: 34.4274 - val_loss: 75.1753 - val_mse: 75.1753 - lr: 0.0010\n",
      "Epoch 16/100\n",
      "120/120 [==============================] - ETA: 0s - loss: 27.2830 - mse: 27.2830"
     ]
    }
   ],
   "source": [
    "# This code trains 10 Convolutional Neural Networks (CNNs) on differently split subsets\n",
    "# of a dataset for binary classification,saves the best model of each training session, \n",
    "# and records their training histories.\n",
    "\n",
    "import os\n",
    "import pickle\n",
    "from sklearn.model_selection import train_test_split\n",
    "from tensorflow.keras.callbacks import ModelCheckpoint, ReduceLROnPlateau\n",
    "\n",
    "# Create the directory for saving models and histories if it doesn't exist\n",
    "save_dir = 'E-scale'\n",
    "os.makedirs(save_dir, exist_ok=True)\n",
    "\n",
    "# Initialize lists to store the training histories and filenames of the best models\n",
    "histories = []\n",
    "model_filenames = []\n",
    "\n",
    "# Define the ReduceLROnPlateau callback\n",
    "reduce_lr = ReduceLROnPlateau(\n",
    "    monitor='val_loss',\n",
    "    factor=0.1,      # Factor to reduce the learning rate\n",
    "    patience=20,     # Number of epochs with no improvement to wait before reducing LR\n",
    "    min_lr=0.00001   # Minimum learning rate\n",
    ")\n",
    "\n",
    "# Loop to train 10 CNN models with different data splits\n",
    "for i in range(10):\n",
    "    # Split the dataset into training, validation and testing sets\n",
    "    X_train, X_temp, y_train, y_temp = train_test_split(X, y, test_size=0.3, random_state=i)\n",
    "    X_val, X_test, y_val, y_test = train_test_split(X_temp, y_temp, test_size=0.5, random_state=i)\n",
    "    \n",
    "    # Create a new CNN model for each iteration\n",
    "    model = NOIREnet()\n",
    "\n",
    "    # Define the filename for the checkpoint model\n",
    "    model_filename = os.path.join(save_dir, f'E-scale_run{i+1}.h5')\n",
    "\n",
    "    # Define a checkpoint callback to save the best model based on validation accuracy\n",
    "    checkpoint_callback = ModelCheckpoint(\n",
    "        model_filename,\n",
    "        monitor='val_loss',\n",
    "        verbose=1,\n",
    "        save_best_only=True,\n",
    "        mode='min',\n",
    "        save_weights_only=False\n",
    "    )\n",
    "\n",
    "    # Train the model with specified callbacks including ReduceLROnPlateau\n",
    "    history = model.fit(\n",
    "        X_train, y_train,\n",
    "        batch_size=64,\n",
    "        epochs=100,\n",
    "        validation_data=(X_val, y_val),\n",
    "        callbacks=[checkpoint_callback, reduce_lr]  # Include ReduceLROnPlateau callback\n",
    "    )\n",
    "\n",
    "    # Save the training history and the filename of the saved best model\n",
    "    histories.append(history.history)\n",
    "    model_filenames.append(model_filename)\n",
    "\n",
    "# Optionally, save the training histories to a file in the same 'E-scale' directory\n",
    "history_filename = os.path.join(save_dir, 'training_histories.pkl')\n",
    "with open(history_filename, 'wb') as file:\n",
    "    pickle.dump({'histories': histories, 'model_filenames': model_filenames}, file)\n"
   ]
  }
 ],
 "metadata": {
  "kernelspec": {
   "display_name": "Python 3.10 (tensorflow)",
   "language": "python",
   "name": "tensorflow"
  },
  "language_info": {
   "codemirror_mode": {
    "name": "ipython",
    "version": 3
   },
   "file_extension": ".py",
   "mimetype": "text/x-python",
   "name": "python",
   "nbconvert_exporter": "python",
   "pygments_lexer": "ipython3",
   "version": "3.10.9"
  }
 },
 "nbformat": 4,
 "nbformat_minor": 5
}
