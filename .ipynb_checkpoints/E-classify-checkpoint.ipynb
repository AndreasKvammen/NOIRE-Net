{
 "cells": [
  {
   "cell_type": "markdown",
   "id": "6553ab89-fa75-447a-8c08-7f25ac7ad487",
   "metadata": {},
   "source": [
    "## E-classify: This Notebook develops the NOIRE-Net E-region classification network "
   ]
  },
  {
   "cell_type": "markdown",
   "id": "822ec13f-8079-401c-aaf2-37f2981acd5b",
   "metadata": {},
   "source": [
    "### 1 - Import libaries "
   ]
  },
  {
   "cell_type": "code",
   "execution_count": 1,
   "id": "80990a8e-2d87-444b-aa25-42ea1903521d",
   "metadata": {
    "tags": []
   },
   "outputs": [],
   "source": [
    "import os\n",
    "import numpy as np\n",
    "from sklearn.model_selection import train_test_split\n",
    "from tensorflow.keras.models import Sequential\n",
    "from tensorflow.keras.layers import Conv2D, MaxPooling2D, Flatten, Dense, BatchNormalization, Dropout\n",
    "from tensorflow.keras.preprocessing.image import img_to_array, load_img\n",
    "from sklearn.metrics import mean_squared_error\n",
    "from math import sqrt\n",
    "from tensorflow.keras.callbacks import ModelCheckpoint\n",
    "import pickle"
   ]
  },
  {
   "cell_type": "markdown",
   "id": "c57942b9-0d1e-4c29-b201-dae42e4f99bd",
   "metadata": {},
   "source": [
    "### 2 - Define function to get ionogram label (True = E-region, False = No E-region)"
   ]
  },
  {
   "cell_type": "code",
   "execution_count": 2,
   "id": "4b8714c8-324c-4ddb-ab4e-5ac56070ba76",
   "metadata": {
    "tags": []
   },
   "outputs": [],
   "source": [
    "# The function get_label_from_par reads a .par file and returns \n",
    "# True if either the second or fourth item is not 'nan', \n",
    "# indicating the presence of an E-region in the corresponding image,\n",
    "# for use in binary classification.\n",
    "\n",
    "def get_label_from_par(par_file_path):\n",
    "    try:\n",
    "        # Open the .par file located at par_file_path\n",
    "        with open(par_file_path, 'r') as file:\n",
    "            content = file.readline().strip()  # Read and strip the first line of the file\n",
    "            items = content.split()  # Split the line into individual items (usually numbers or 'nan')\n",
    "\n",
    "            # Check the second (index 1) and fourth (index 3) items:\n",
    "            # If either of these items is not 'nan', it implies the presence of an E-region.\n",
    "            # The function then returns True, indicating that this image has an E-region.\n",
    "            is_e_region = items[1].lower() != 'nan' or items[3].lower() != 'nan'\n",
    "        return is_e_region\n",
    "\n",
    "    except IndexError:\n",
    "        # This block catches an IndexError, which occurs if the line read from the file\n",
    "        # does not have at least four items. In such a case, the function assumes that\n",
    "        # the E-region data is not present or not properly formatted, and returns False.\n",
    "        return False\n",
    "\n",
    "    except Exception as e:\n",
    "        # This block catches any other exceptions (like file not found, read errors, etc.).\n",
    "        # It prints the exception message and returns False, indicating an issue with processing the file.\n",
    "        print(f\"Error reading {par_file_path}: {e}\")\n",
    "        return False"
   ]
  },
  {
   "cell_type": "markdown",
   "id": "ff5dd112-47cc-48b4-915e-5d52e25ec6cc",
   "metadata": {
    "tags": []
   },
   "source": [
    "### 3 - Define function to load ionograms and preprocess the data"
   ]
  },
  {
   "cell_type": "code",
   "execution_count": 3,
   "id": "c413a846-e152-4d08-9231-856a3066eded",
   "metadata": {
    "tags": []
   },
   "outputs": [],
   "source": [
    "# The load_data function loads and preprocesses image data from a specified directory,\n",
    "# converting images to grayscale and resizing them, while also extracting corresponding\n",
    "# binary labels from associated .par files for a classification task.\n",
    "\n",
    "def load_data(data_dir):\n",
    "    images = []  # List to store preprocessed images\n",
    "    labels = []  # List to store corresponding labels\n",
    "\n",
    "    # Construct paths to the directories containing ionograms and parameters\n",
    "    ionograms_dir = os.path.join(data_dir, 'ionograms')\n",
    "    parameters_dir = os.path.join(data_dir, 'parameters')\n",
    "\n",
    "    # Iterate over the files in the ionograms directory\n",
    "    for filename in os.listdir(ionograms_dir):\n",
    "        if filename.endswith('.png'):  # Check if the file is a PNG image\n",
    "            # Construct full paths to the image file and its corresponding .par file\n",
    "            img_path = os.path.join(ionograms_dir, filename)\n",
    "            par_path = os.path.join(parameters_dir, filename.replace('.png', '.par'))\n",
    "\n",
    "            # Load the image, convert it to grayscale, resize it, and normalize pixel values\n",
    "            image = load_img(img_path, color_mode='grayscale', target_size=(310, 310))\n",
    "            image = img_to_array(image)\n",
    "            image /= 255.0  # Normalize image pixels to be between 0 and 1\n",
    "\n",
    "            # Load the label for the image using the get_label_from_par function\n",
    "            label = get_label_from_par(par_path)\n",
    "\n",
    "            # Append the preprocessed image and label to their respective lists\n",
    "            images.append(image)\n",
    "            labels.append(label)\n",
    "\n",
    "    # Convert the lists of images and labels to numpy arrays and return them\n",
    "    return np.array(images), np.array(labels).astype(int)"
   ]
  },
  {
   "cell_type": "markdown",
   "id": "0a34042b-b7a9-4fce-ae53-61d68a1252e1",
   "metadata": {},
   "source": [
    "### 4 - Load the ionograms and labels from the data folder "
   ]
  },
  {
   "cell_type": "code",
   "execution_count": 4,
   "id": "42d19eba-8888-42dc-a7c1-8f01e388aea4",
   "metadata": {},
   "outputs": [],
   "source": [
    "# Specify the directory where the data is stored\n",
    "data_dir = 'train-val'  # 'train_test_val' should be replaced with the actual path to your data directory\n",
    "\n",
    "# Call the load_data function to load and preprocess the data\n",
    "# X wildsdsdl contain the preprocessed images, and y will contain the corresponding labels\n",
    "X, y = load_data(data_dir)"
   ]
  },
  {
   "cell_type": "markdown",
   "id": "12934bcf-6a1f-4429-b3a7-31bbf697c4fb",
   "metadata": {},
   "source": [
    "### 5 - Define a function to create the NOIRE-Net architecture"
   ]
  },
  {
   "cell_type": "code",
   "execution_count": 5,
   "id": "63999a78-e194-419d-a6cb-93a42fd9a1c8",
   "metadata": {
    "tags": []
   },
   "outputs": [],
   "source": [
    "# This code defines and complies NOIRE-Net a convolutional neural network (CNN) model using Keras, \n",
    "# with multiple convolutional layers, batch normalization, max pooling, and dense layers, \n",
    "# designed for binary classification tasks.\n",
    "\n",
    "def NOIREnet():\n",
    "    model = Sequential([\n",
    "    # First convolutional layer with 32 filters and a kernel size of 3x3\n",
    "    # 'padding=same' ensures the output size is the same as the input size\n",
    "    # 'input_shape' is set for the first layer to indicate the shape of the input data\n",
    "    Conv2D(32, (3, 3), padding='same', activation='relu', input_shape=(310, 310, 1)),\n",
    "    \n",
    "    # Batch normalization to normalize the activations from the previous layer\n",
    "    BatchNormalization(),\n",
    "\n",
    "    # Second convolutional layer with 32 filters and a kernel size of 3x3\n",
    "    Conv2D(32, (3, 3), activation='relu'),\n",
    "\n",
    "    # Another batch normalization\n",
    "    BatchNormalization(),\n",
    "\n",
    "    # First max pooling layer to reduce spatial dimensions\n",
    "    MaxPooling2D((2, 2)),\n",
    "\n",
    "    # Repeating the pattern of two convolutional layers followed by batch normalization\n",
    "    # and a max pooling layer, gradually increasing the number of filters\n",
    "    Conv2D(32, (3, 3), padding='same', activation='relu'),\n",
    "    BatchNormalization(),\n",
    "    Conv2D(32, (3, 3), activation='relu'),\n",
    "    BatchNormalization(),\n",
    "    MaxPooling2D((2, 2)),\n",
    "\n",
    "    Conv2D(64, (3, 3), padding='same', activation='relu'),\n",
    "    BatchNormalization(),\n",
    "    Conv2D(64, (3, 3), activation='relu'),\n",
    "    BatchNormalization(),\n",
    "    MaxPooling2D((2, 2)),\n",
    "\n",
    "    Conv2D(64, (3, 3), padding='same', activation='relu'),\n",
    "    BatchNormalization(),\n",
    "    Conv2D(64, (3, 3), activation='relu'),\n",
    "    BatchNormalization(),\n",
    "    MaxPooling2D((2, 2)),\n",
    "\n",
    "    Conv2D(128, (3, 3), padding='same', activation='relu'),\n",
    "    BatchNormalization(),\n",
    "    Conv2D(128, (3, 3), activation='relu'),\n",
    "    BatchNormalization(),\n",
    "    MaxPooling2D((2, 2)),\n",
    "\n",
    "    Conv2D(128, (3, 3), padding='same', activation='relu'),\n",
    "    BatchNormalization(),\n",
    "    Conv2D(128, (3, 3), activation='relu'),\n",
    "    BatchNormalization(),\n",
    "    MaxPooling2D((2, 2)),\n",
    "\n",
    "    # Flatten the output from the convolutional layers to feed into dense layers\n",
    "    Flatten(),\n",
    "\n",
    "    # Dense (fully connected) layer with 256 neurons and relu activation\n",
    "    Dense(256, activation='relu'),\n",
    "\n",
    "    # Dropout layer to reduce overfitting\n",
    "    Dropout(0.5),\n",
    "\n",
    "    # Another dense layer with 128 neurons\n",
    "    Dense(128, activation='relu'),\n",
    "\n",
    "    # Output layer with a single neuron and sigmoid activation for binary classification\n",
    "    Dense(1, activation='sigmoid')\n",
    "    ])\n",
    "    \n",
    "    # Compile the CNN model\n",
    "    model.compile(\n",
    "        optimizer='adam',  # Using the Adam optimizer for adaptive learning rate optimization\n",
    "        loss='binary_crossentropy',  # Binary crossentropy loss function, suitable for binary classification tasks\n",
    "        metrics=['accuracy']  # The model will report 'accuracy' as a performance metric\n",
    "    )\n",
    "    \n",
    "    # Return the compiled model\n",
    "    return model"
   ]
  },
  {
   "cell_type": "markdown",
   "id": "851e79f5-b94d-4d83-9fb5-2eec0704815b",
   "metadata": {},
   "source": [
    "### 6 - Train 10 CNNs for E-region classification and save the models"
   ]
  },
  {
   "cell_type": "code",
   "execution_count": null,
   "id": "d2c64aa5-20e0-4d48-b719-ccc1e1d6e537",
   "metadata": {
    "tags": []
   },
   "outputs": [
    {
     "name": "stdout",
     "output_type": "stream",
     "text": [
      "Epoch 1/30\n"
     ]
    },
    {
     "name": "stderr",
     "output_type": "stream",
     "text": [
      "2023-11-28 15:34:35.470280: I tensorflow/core/grappler/optimizers/custom_graph_optimizer_registry.cc:113] Plugin optimizer for device_type GPU is enabled.\n",
      "loc(\"mps_select\"(\"(mpsFileLoc): /AppleInternal/Library/BuildRoots/495c257e-668e-11ee-93ce-926038f30c31/Library/Caches/com.apple.xbs/Sources/MetalPerformanceShadersGraph/mpsgraph/MetalPerformanceShadersGraph/Core/Files/MPSGraphUtilities.mm\":294:0)): error: 'anec.gain_offset_control' op result #0 must be 4D/5D memref of 16-bit float or 8-bit signed integer or 8-bit unsigned integer values, but got 'memref<1x64x1x1xi1>'\n",
      "loc(\"mps_select\"(\"(mpsFileLoc): /AppleInternal/Library/BuildRoots/495c257e-668e-11ee-93ce-926038f30c31/Library/Caches/com.apple.xbs/Sources/MetalPerformanceShadersGraph/mpsgraph/MetalPerformanceShadersGraph/Core/Files/MPSGraphUtilities.mm\":294:0)): error: 'anec.gain_offset_control' op result #0 must be 4D/5D memref of 16-bit float or 8-bit signed integer or 8-bit unsigned integer values, but got 'memref<1x64x1x1xi1>'\n",
      "loc(\"mps_select\"(\"(mpsFileLoc): /AppleInternal/Library/BuildRoots/495c257e-668e-11ee-93ce-926038f30c31/Library/Caches/com.apple.xbs/Sources/MetalPerformanceShadersGraph/mpsgraph/MetalPerformanceShadersGraph/Core/Files/MPSGraphUtilities.mm\":294:0)): error: 'anec.gain_offset_control' op result #0 must be 4D/5D memref of 16-bit float or 8-bit signed integer or 8-bit unsigned integer values, but got 'memref<1x64x1x1xi1>'\n",
      "loc(\"mps_select\"(\"(mpsFileLoc): /AppleInternal/Library/BuildRoots/495c257e-668e-11ee-93ce-926038f30c31/Library/Caches/com.apple.xbs/Sources/MetalPerformanceShadersGraph/mpsgraph/MetalPerformanceShadersGraph/Core/Files/MPSGraphUtilities.mm\":294:0)): error: 'anec.gain_offset_control' op result #0 must be 4D/5D memref of 16-bit float or 8-bit signed integer or 8-bit unsigned integer values, but got 'memref<1x64x1x1xi1>'\n",
      "loc(\"mps_select\"(\"(mpsFileLoc): /AppleInternal/Library/BuildRoots/495c257e-668e-11ee-93ce-926038f30c31/Library/Caches/com.apple.xbs/Sources/MetalPerformanceShadersGraph/mpsgraph/MetalPerformanceShadersGraph/Core/Files/MPSGraphUtilities.mm\":294:0)): error: 'anec.gain_offset_control' op result #0 must be 4D/5D memref of 16-bit float or 8-bit signed integer or 8-bit unsigned integer values, but got 'memref<1x64x1x1xi1>'\n"
     ]
    },
    {
     "name": "stdout",
     "output_type": "stream",
     "text": [
      "144/145 [============================>.] - ETA: 0s - loss: 0.2045 - accuracy: 0.9195"
     ]
    },
    {
     "name": "stderr",
     "output_type": "stream",
     "text": [
      "loc(\"mps_select\"(\"(mpsFileLoc): /AppleInternal/Library/BuildRoots/495c257e-668e-11ee-93ce-926038f30c31/Library/Caches/com.apple.xbs/Sources/MetalPerformanceShadersGraph/mpsgraph/MetalPerformanceShadersGraph/Core/Files/MPSGraphUtilities.mm\":294:0)): error: 'anec.gain_offset_control' op result #0 must be 4D/5D memref of 16-bit float or 8-bit signed integer or 8-bit unsigned integer values, but got 'memref<1x46x1x1xi1>'\n",
      "loc(\"mps_select\"(\"(mpsFileLoc): /AppleInternal/Library/BuildRoots/495c257e-668e-11ee-93ce-926038f30c31/Library/Caches/com.apple.xbs/Sources/MetalPerformanceShadersGraph/mpsgraph/MetalPerformanceShadersGraph/Core/Files/MPSGraphUtilities.mm\":294:0)): error: 'anec.gain_offset_control' op result #0 must be 4D/5D memref of 16-bit float or 8-bit signed integer or 8-bit unsigned integer values, but got 'memref<1x46x1x1xi1>'\n",
      "loc(\"mps_select\"(\"(mpsFileLoc): /AppleInternal/Library/BuildRoots/495c257e-668e-11ee-93ce-926038f30c31/Library/Caches/com.apple.xbs/Sources/MetalPerformanceShadersGraph/mpsgraph/MetalPerformanceShadersGraph/Core/Files/MPSGraphUtilities.mm\":294:0)): error: 'anec.gain_offset_control' op result #0 must be 4D/5D memref of 16-bit float or 8-bit signed integer or 8-bit unsigned integer values, but got 'memref<1x46x1x1xi1>'\n",
      "loc(\"mps_select\"(\"(mpsFileLoc): /AppleInternal/Library/BuildRoots/495c257e-668e-11ee-93ce-926038f30c31/Library/Caches/com.apple.xbs/Sources/MetalPerformanceShadersGraph/mpsgraph/MetalPerformanceShadersGraph/Core/Files/MPSGraphUtilities.mm\":294:0)): error: 'anec.gain_offset_control' op result #0 must be 4D/5D memref of 16-bit float or 8-bit signed integer or 8-bit unsigned integer values, but got 'memref<1x46x1x1xi1>'\n",
      "loc(\"mps_select\"(\"(mpsFileLoc): /AppleInternal/Library/BuildRoots/495c257e-668e-11ee-93ce-926038f30c31/Library/Caches/com.apple.xbs/Sources/MetalPerformanceShadersGraph/mpsgraph/MetalPerformanceShadersGraph/Core/Files/MPSGraphUtilities.mm\":294:0)): error: 'anec.gain_offset_control' op result #0 must be 4D/5D memref of 16-bit float or 8-bit signed integer or 8-bit unsigned integer values, but got 'memref<1x46x1x1xi1>'\n"
     ]
    },
    {
     "name": "stdout",
     "output_type": "stream",
     "text": [
      "145/145 [==============================] - ETA: 0s - loss: 0.2041 - accuracy: 0.9196"
     ]
    },
    {
     "name": "stderr",
     "output_type": "stream",
     "text": [
      "2023-11-28 15:35:30.922168: I tensorflow/core/grappler/optimizers/custom_graph_optimizer_registry.cc:113] Plugin optimizer for device_type GPU is enabled.\n",
      "loc(\"mps_select\"(\"(mpsFileLoc): /AppleInternal/Library/BuildRoots/495c257e-668e-11ee-93ce-926038f30c31/Library/Caches/com.apple.xbs/Sources/MetalPerformanceShadersGraph/mpsgraph/MetalPerformanceShadersGraph/Core/Files/MPSGraphUtilities.mm\":294:0)): error: 'anec.gain_offset_control' op result #0 must be 4D/5D memref of 16-bit float or 8-bit signed integer or 8-bit unsigned integer values, but got 'memref<1x64x1x1xi1>'\n",
      "loc(\"mps_select\"(\"(mpsFileLoc): /AppleInternal/Library/BuildRoots/495c257e-668e-11ee-93ce-926038f30c31/Library/Caches/com.apple.xbs/Sources/MetalPerformanceShadersGraph/mpsgraph/MetalPerformanceShadersGraph/Core/Files/MPSGraphUtilities.mm\":294:0)): error: 'anec.gain_offset_control' op result #0 must be 4D/5D memref of 16-bit float or 8-bit signed integer or 8-bit unsigned integer values, but got 'memref<1x64x1x1xi1>'\n"
     ]
    },
    {
     "name": "stdout",
     "output_type": "stream",
     "text": [
      "\n",
      "Epoch 1: val_accuracy improved from -inf to 0.34370, saving model to E-classify/E-label_run1.h5\n"
     ]
    },
    {
     "name": "stderr",
     "output_type": "stream",
     "text": [
      "loc(\"mps_select\"(\"(mpsFileLoc): /AppleInternal/Library/BuildRoots/495c257e-668e-11ee-93ce-926038f30c31/Library/Caches/com.apple.xbs/Sources/MetalPerformanceShadersGraph/mpsgraph/MetalPerformanceShadersGraph/Core/Files/MPSGraphUtilities.mm\":294:0)): error: 'anec.gain_offset_control' op result #0 must be 4D/5D memref of 16-bit float or 8-bit signed integer or 8-bit unsigned integer values, but got 'memref<1x12x1x1xi1>'\n",
      "loc(\"mps_select\"(\"(mpsFileLoc): /AppleInternal/Library/BuildRoots/495c257e-668e-11ee-93ce-926038f30c31/Library/Caches/com.apple.xbs/Sources/MetalPerformanceShadersGraph/mpsgraph/MetalPerformanceShadersGraph/Core/Files/MPSGraphUtilities.mm\":294:0)): error: 'anec.gain_offset_control' op result #0 must be 4D/5D memref of 16-bit float or 8-bit signed integer or 8-bit unsigned integer values, but got 'memref<1x12x1x1xi1>'\n"
     ]
    },
    {
     "name": "stdout",
     "output_type": "stream",
     "text": [
      "145/145 [==============================] - 65s 433ms/step - loss: 0.2041 - accuracy: 0.9196 - val_loss: 3.5268 - val_accuracy: 0.3437 - lr: 0.0010\n",
      "Epoch 2/30\n",
      "145/145 [==============================] - ETA: 0s - loss: 0.1115 - accuracy: 0.9617\n",
      "Epoch 2: val_accuracy did not improve from 0.34370\n",
      "145/145 [==============================] - 68s 466ms/step - loss: 0.1115 - accuracy: 0.9617 - val_loss: 1.2542 - val_accuracy: 0.3437 - lr: 0.0010\n",
      "Epoch 3/30\n",
      "145/145 [==============================] - ETA: 0s - loss: 0.0965 - accuracy: 0.9655\n",
      "Epoch 3: val_accuracy improved from 0.34370 to 0.35363, saving model to E-classify/E-label_run1.h5\n",
      "145/145 [==============================] - 68s 468ms/step - loss: 0.0965 - accuracy: 0.9655 - val_loss: 2.1787 - val_accuracy: 0.3536 - lr: 0.0010\n",
      "Epoch 4/30\n",
      "145/145 [==============================] - ETA: 0s - loss: 0.0878 - accuracy: 0.9696\n",
      "Epoch 4: val_accuracy improved from 0.35363 to 0.68523, saving model to E-classify/E-label_run1.h5\n",
      "145/145 [==============================] - 69s 475ms/step - loss: 0.0878 - accuracy: 0.9696 - val_loss: 0.4952 - val_accuracy: 0.6852 - lr: 0.0010\n",
      "Epoch 5/30\n",
      "145/145 [==============================] - ETA: 0s - loss: 0.0844 - accuracy: 0.9710\n",
      "Epoch 5: val_accuracy improved from 0.68523 to 0.93264, saving model to E-classify/E-label_run1.h5\n",
      "145/145 [==============================] - 68s 466ms/step - loss: 0.0844 - accuracy: 0.9710 - val_loss: 0.1960 - val_accuracy: 0.9326 - lr: 0.0010\n",
      "Epoch 6/30\n",
      "145/145 [==============================] - ETA: 0s - loss: 0.0706 - accuracy: 0.9754\n",
      "Epoch 6: val_accuracy improved from 0.93264 to 0.95035, saving model to E-classify/E-label_run1.h5\n",
      "145/145 [==============================] - 69s 474ms/step - loss: 0.0706 - accuracy: 0.9754 - val_loss: 0.1813 - val_accuracy: 0.9503 - lr: 0.0010\n",
      "Epoch 7/30\n",
      "145/145 [==============================] - ETA: 0s - loss: 0.0729 - accuracy: 0.9748\n",
      "Epoch 7: val_accuracy did not improve from 0.95035\n",
      "145/145 [==============================] - 68s 467ms/step - loss: 0.0729 - accuracy: 0.9748 - val_loss: 0.1397 - val_accuracy: 0.9486 - lr: 0.0010\n",
      "Epoch 8/30\n",
      "145/145 [==============================] - ETA: 0s - loss: 0.0625 - accuracy: 0.9785\n",
      "Epoch 8: val_accuracy did not improve from 0.95035\n",
      "145/145 [==============================] - 66s 456ms/step - loss: 0.0625 - accuracy: 0.9785 - val_loss: 0.2516 - val_accuracy: 0.9253 - lr: 0.0010\n",
      "Epoch 9/30\n",
      "145/145 [==============================] - ETA: 0s - loss: 0.0507 - accuracy: 0.9823\n",
      "Epoch 9: val_accuracy improved from 0.95035 to 0.95207, saving model to E-classify/E-label_run1.h5\n",
      "145/145 [==============================] - 66s 457ms/step - loss: 0.0507 - accuracy: 0.9823 - val_loss: 0.1419 - val_accuracy: 0.9521 - lr: 0.0010\n",
      "Epoch 10/30\n",
      "145/145 [==============================] - ETA: 0s - loss: 0.0518 - accuracy: 0.9813\n",
      "Epoch 10: val_accuracy did not improve from 0.95207\n",
      "145/145 [==============================] - 67s 462ms/step - loss: 0.0518 - accuracy: 0.9813 - val_loss: 0.1455 - val_accuracy: 0.9469 - lr: 0.0010\n",
      "Epoch 11/30\n",
      "145/145 [==============================] - ETA: 0s - loss: 0.0413 - accuracy: 0.9843\n",
      "Epoch 11: val_accuracy did not improve from 0.95207\n",
      "145/145 [==============================] - 66s 458ms/step - loss: 0.0413 - accuracy: 0.9843 - val_loss: 0.1502 - val_accuracy: 0.9456 - lr: 0.0010\n",
      "Epoch 12/30\n",
      "145/145 [==============================] - ETA: 0s - loss: 0.0324 - accuracy: 0.9886\n",
      "Epoch 12: val_accuracy did not improve from 0.95207\n",
      "145/145 [==============================] - 67s 464ms/step - loss: 0.0324 - accuracy: 0.9886 - val_loss: 0.1959 - val_accuracy: 0.9439 - lr: 0.0010\n",
      "Epoch 13/30\n",
      "145/145 [==============================] - ETA: 0s - loss: 0.0341 - accuracy: 0.9890\n",
      "Epoch 13: val_accuracy did not improve from 0.95207\n",
      "145/145 [==============================] - 66s 452ms/step - loss: 0.0341 - accuracy: 0.9890 - val_loss: 0.2114 - val_accuracy: 0.9456 - lr: 0.0010\n",
      "Epoch 14/30\n",
      "145/145 [==============================] - ETA: 0s - loss: 0.0377 - accuracy: 0.9879\n",
      "Epoch 14: val_accuracy did not improve from 0.95207\n",
      "145/145 [==============================] - 67s 460ms/step - loss: 0.0377 - accuracy: 0.9879 - val_loss: 0.1889 - val_accuracy: 0.9486 - lr: 0.0010\n",
      "Epoch 15/30\n",
      "145/145 [==============================] - ETA: 0s - loss: 0.0348 - accuracy: 0.9874\n",
      "Epoch 15: val_accuracy did not improve from 0.95207\n",
      "145/145 [==============================] - 65s 451ms/step - loss: 0.0348 - accuracy: 0.9874 - val_loss: 0.1869 - val_accuracy: 0.9516 - lr: 0.0010\n",
      "Epoch 16/30\n",
      "145/145 [==============================] - ETA: 0s - loss: 0.0227 - accuracy: 0.9929\n",
      "Epoch 16: val_accuracy did not improve from 0.95207\n",
      "145/145 [==============================] - 65s 448ms/step - loss: 0.0227 - accuracy: 0.9929 - val_loss: 0.2012 - val_accuracy: 0.9374 - lr: 0.0010\n",
      "Epoch 17/30\n",
      "145/145 [==============================] - ETA: 0s - loss: 0.0245 - accuracy: 0.9917\n",
      "Epoch 17: val_accuracy did not improve from 0.95207\n",
      "145/145 [==============================] - 65s 448ms/step - loss: 0.0245 - accuracy: 0.9917 - val_loss: 0.2112 - val_accuracy: 0.9417 - lr: 0.0010\n",
      "Epoch 18/30\n",
      "145/145 [==============================] - ETA: 0s - loss: 0.0275 - accuracy: 0.9907\n",
      "Epoch 18: val_accuracy did not improve from 0.95207\n",
      "145/145 [==============================] - 65s 446ms/step - loss: 0.0275 - accuracy: 0.9907 - val_loss: 0.3055 - val_accuracy: 0.9374 - lr: 0.0010\n",
      "Epoch 19/30\n",
      "145/145 [==============================] - ETA: 0s - loss: 0.0241 - accuracy: 0.9918\n",
      "Epoch 19: val_accuracy did not improve from 0.95207\n",
      "145/145 [==============================] - 65s 450ms/step - loss: 0.0241 - accuracy: 0.9918 - val_loss: 0.2246 - val_accuracy: 0.9335 - lr: 0.0010\n",
      "Epoch 20/30\n",
      "145/145 [==============================] - ETA: 0s - loss: 0.0093 - accuracy: 0.9975\n",
      "Epoch 20: val_accuracy did not improve from 0.95207\n",
      "145/145 [==============================] - 66s 453ms/step - loss: 0.0093 - accuracy: 0.9975 - val_loss: 0.2153 - val_accuracy: 0.9456 - lr: 1.0000e-04\n",
      "Epoch 21/30\n",
      "145/145 [==============================] - ETA: 0s - loss: 0.0027 - accuracy: 0.9996\n",
      "Epoch 21: val_accuracy did not improve from 0.95207\n",
      "145/145 [==============================] - 66s 455ms/step - loss: 0.0027 - accuracy: 0.9996 - val_loss: 0.2404 - val_accuracy: 0.9469 - lr: 1.0000e-04\n",
      "Epoch 22/30\n",
      "145/145 [==============================] - ETA: 0s - loss: 0.0020 - accuracy: 0.9999\n",
      "Epoch 22: val_accuracy did not improve from 0.95207\n",
      "145/145 [==============================] - 66s 457ms/step - loss: 0.0020 - accuracy: 0.9999 - val_loss: 0.2512 - val_accuracy: 0.9478 - lr: 1.0000e-04\n",
      "Epoch 23/30\n",
      "145/145 [==============================] - ETA: 0s - loss: 0.0015 - accuracy: 0.9999\n",
      "Epoch 23: val_accuracy did not improve from 0.95207\n",
      "145/145 [==============================] - 66s 457ms/step - loss: 0.0015 - accuracy: 0.9999 - val_loss: 0.2672 - val_accuracy: 0.9478 - lr: 1.0000e-04\n",
      "Epoch 24/30\n",
      "145/145 [==============================] - ETA: 0s - loss: 0.0011 - accuracy: 0.9999\n",
      "Epoch 24: val_accuracy did not improve from 0.95207\n",
      "145/145 [==============================] - 66s 458ms/step - loss: 0.0011 - accuracy: 0.9999 - val_loss: 0.2768 - val_accuracy: 0.9478 - lr: 1.0000e-04\n",
      "Epoch 25/30\n",
      "145/145 [==============================] - ETA: 0s - loss: 0.0016 - accuracy: 0.9998\n",
      "Epoch 25: val_accuracy did not improve from 0.95207\n",
      "145/145 [==============================] - 65s 450ms/step - loss: 0.0016 - accuracy: 0.9998 - val_loss: 0.2902 - val_accuracy: 0.9491 - lr: 1.0000e-04\n",
      "Epoch 26/30\n",
      "145/145 [==============================] - ETA: 0s - loss: 8.1544e-04 - accuracy: 0.9999\n",
      "Epoch 26: val_accuracy did not improve from 0.95207\n",
      "145/145 [==============================] - 66s 452ms/step - loss: 8.1544e-04 - accuracy: 0.9999 - val_loss: 0.3017 - val_accuracy: 0.9486 - lr: 1.0000e-04\n",
      "Epoch 27/30\n",
      "145/145 [==============================] - ETA: 0s - loss: 8.5652e-04 - accuracy: 0.9999\n",
      "Epoch 27: val_accuracy did not improve from 0.95207\n",
      "145/145 [==============================] - 66s 455ms/step - loss: 8.5652e-04 - accuracy: 0.9999 - val_loss: 0.3052 - val_accuracy: 0.9482 - lr: 1.0000e-04\n",
      "Epoch 28/30\n",
      "145/145 [==============================] - ETA: 0s - loss: 7.3660e-04 - accuracy: 0.9999\n",
      "Epoch 28: val_accuracy did not improve from 0.95207\n",
      "145/145 [==============================] - 66s 453ms/step - loss: 7.3660e-04 - accuracy: 0.9999 - val_loss: 0.3099 - val_accuracy: 0.9486 - lr: 1.0000e-04\n",
      "Epoch 29/30\n",
      "145/145 [==============================] - ETA: 0s - loss: 9.0349e-04 - accuracy: 0.9998\n",
      "Epoch 29: val_accuracy did not improve from 0.95207\n",
      "145/145 [==============================] - 67s 460ms/step - loss: 9.0349e-04 - accuracy: 0.9998 - val_loss: 0.3117 - val_accuracy: 0.9486 - lr: 1.0000e-04\n",
      "Epoch 30/30\n",
      "145/145 [==============================] - ETA: 0s - loss: 6.1213e-04 - accuracy: 0.9999\n",
      "Epoch 30: val_accuracy did not improve from 0.95207\n",
      "145/145 [==============================] - 67s 461ms/step - loss: 6.1213e-04 - accuracy: 0.9999 - val_loss: 0.3147 - val_accuracy: 0.9486 - lr: 1.0000e-05\n",
      "Epoch 1/30\n"
     ]
    },
    {
     "name": "stderr",
     "output_type": "stream",
     "text": [
      "2023-11-28 16:07:50.121372: I tensorflow/core/grappler/optimizers/custom_graph_optimizer_registry.cc:113] Plugin optimizer for device_type GPU is enabled.\n",
      "loc(\"mps_select\"(\"(mpsFileLoc): /AppleInternal/Library/BuildRoots/495c257e-668e-11ee-93ce-926038f30c31/Library/Caches/com.apple.xbs/Sources/MetalPerformanceShadersGraph/mpsgraph/MetalPerformanceShadersGraph/Core/Files/MPSGraphUtilities.mm\":294:0)): error: 'anec.gain_offset_control' op result #0 must be 4D/5D memref of 16-bit float or 8-bit signed integer or 8-bit unsigned integer values, but got 'memref<1x64x1x1xi1>'\n",
      "loc(\"mps_select\"(\"(mpsFileLoc): /AppleInternal/Library/BuildRoots/495c257e-668e-11ee-93ce-926038f30c31/Library/Caches/com.apple.xbs/Sources/MetalPerformanceShadersGraph/mpsgraph/MetalPerformanceShadersGraph/Core/Files/MPSGraphUtilities.mm\":294:0)): error: 'anec.gain_offset_control' op result #0 must be 4D/5D memref of 16-bit float or 8-bit signed integer or 8-bit unsigned integer values, but got 'memref<1x64x1x1xi1>'\n",
      "loc(\"mps_select\"(\"(mpsFileLoc): /AppleInternal/Library/BuildRoots/495c257e-668e-11ee-93ce-926038f30c31/Library/Caches/com.apple.xbs/Sources/MetalPerformanceShadersGraph/mpsgraph/MetalPerformanceShadersGraph/Core/Files/MPSGraphUtilities.mm\":294:0)): error: 'anec.gain_offset_control' op result #0 must be 4D/5D memref of 16-bit float or 8-bit signed integer or 8-bit unsigned integer values, but got 'memref<1x64x1x1xi1>'\n",
      "loc(\"mps_select\"(\"(mpsFileLoc): /AppleInternal/Library/BuildRoots/495c257e-668e-11ee-93ce-926038f30c31/Library/Caches/com.apple.xbs/Sources/MetalPerformanceShadersGraph/mpsgraph/MetalPerformanceShadersGraph/Core/Files/MPSGraphUtilities.mm\":294:0)): error: 'anec.gain_offset_control' op result #0 must be 4D/5D memref of 16-bit float or 8-bit signed integer or 8-bit unsigned integer values, but got 'memref<1x64x1x1xi1>'\n",
      "loc(\"mps_select\"(\"(mpsFileLoc): /AppleInternal/Library/BuildRoots/495c257e-668e-11ee-93ce-926038f30c31/Library/Caches/com.apple.xbs/Sources/MetalPerformanceShadersGraph/mpsgraph/MetalPerformanceShadersGraph/Core/Files/MPSGraphUtilities.mm\":294:0)): error: 'anec.gain_offset_control' op result #0 must be 4D/5D memref of 16-bit float or 8-bit signed integer or 8-bit unsigned integer values, but got 'memref<1x64x1x1xi1>'\n"
     ]
    },
    {
     "name": "stdout",
     "output_type": "stream",
     "text": [
      "144/145 [============================>.] - ETA: 0s - loss: 0.2117 - accuracy: 0.9172"
     ]
    },
    {
     "name": "stderr",
     "output_type": "stream",
     "text": [
      "loc(\"mps_select\"(\"(mpsFileLoc): /AppleInternal/Library/BuildRoots/495c257e-668e-11ee-93ce-926038f30c31/Library/Caches/com.apple.xbs/Sources/MetalPerformanceShadersGraph/mpsgraph/MetalPerformanceShadersGraph/Core/Files/MPSGraphUtilities.mm\":294:0)): error: 'anec.gain_offset_control' op result #0 must be 4D/5D memref of 16-bit float or 8-bit signed integer or 8-bit unsigned integer values, but got 'memref<1x46x1x1xi1>'\n",
      "loc(\"mps_select\"(\"(mpsFileLoc): /AppleInternal/Library/BuildRoots/495c257e-668e-11ee-93ce-926038f30c31/Library/Caches/com.apple.xbs/Sources/MetalPerformanceShadersGraph/mpsgraph/MetalPerformanceShadersGraph/Core/Files/MPSGraphUtilities.mm\":294:0)): error: 'anec.gain_offset_control' op result #0 must be 4D/5D memref of 16-bit float or 8-bit signed integer or 8-bit unsigned integer values, but got 'memref<1x46x1x1xi1>'\n",
      "loc(\"mps_select\"(\"(mpsFileLoc): /AppleInternal/Library/BuildRoots/495c257e-668e-11ee-93ce-926038f30c31/Library/Caches/com.apple.xbs/Sources/MetalPerformanceShadersGraph/mpsgraph/MetalPerformanceShadersGraph/Core/Files/MPSGraphUtilities.mm\":294:0)): error: 'anec.gain_offset_control' op result #0 must be 4D/5D memref of 16-bit float or 8-bit signed integer or 8-bit unsigned integer values, but got 'memref<1x46x1x1xi1>'\n",
      "loc(\"mps_select\"(\"(mpsFileLoc): /AppleInternal/Library/BuildRoots/495c257e-668e-11ee-93ce-926038f30c31/Library/Caches/com.apple.xbs/Sources/MetalPerformanceShadersGraph/mpsgraph/MetalPerformanceShadersGraph/Core/Files/MPSGraphUtilities.mm\":294:0)): error: 'anec.gain_offset_control' op result #0 must be 4D/5D memref of 16-bit float or 8-bit signed integer or 8-bit unsigned integer values, but got 'memref<1x46x1x1xi1>'\n",
      "loc(\"mps_select\"(\"(mpsFileLoc): /AppleInternal/Library/BuildRoots/495c257e-668e-11ee-93ce-926038f30c31/Library/Caches/com.apple.xbs/Sources/MetalPerformanceShadersGraph/mpsgraph/MetalPerformanceShadersGraph/Core/Files/MPSGraphUtilities.mm\":294:0)): error: 'anec.gain_offset_control' op result #0 must be 4D/5D memref of 16-bit float or 8-bit signed integer or 8-bit unsigned integer values, but got 'memref<1x46x1x1xi1>'\n"
     ]
    },
    {
     "name": "stdout",
     "output_type": "stream",
     "text": [
      "145/145 [==============================] - ETA: 0s - loss: 0.2115 - accuracy: 0.9172"
     ]
    },
    {
     "name": "stderr",
     "output_type": "stream",
     "text": [
      "2023-11-28 16:09:04.737064: I tensorflow/core/grappler/optimizers/custom_graph_optimizer_registry.cc:113] Plugin optimizer for device_type GPU is enabled.\n",
      "loc(\"mps_select\"(\"(mpsFileLoc): /AppleInternal/Library/BuildRoots/495c257e-668e-11ee-93ce-926038f30c31/Library/Caches/com.apple.xbs/Sources/MetalPerformanceShadersGraph/mpsgraph/MetalPerformanceShadersGraph/Core/Files/MPSGraphUtilities.mm\":294:0)): error: 'anec.gain_offset_control' op result #0 must be 4D/5D memref of 16-bit float or 8-bit signed integer or 8-bit unsigned integer values, but got 'memref<1x64x1x1xi1>'\n",
      "loc(\"mps_select\"(\"(mpsFileLoc): /AppleInternal/Library/BuildRoots/495c257e-668e-11ee-93ce-926038f30c31/Library/Caches/com.apple.xbs/Sources/MetalPerformanceShadersGraph/mpsgraph/MetalPerformanceShadersGraph/Core/Files/MPSGraphUtilities.mm\":294:0)): error: 'anec.gain_offset_control' op result #0 must be 4D/5D memref of 16-bit float or 8-bit signed integer or 8-bit unsigned integer values, but got 'memref<1x64x1x1xi1>'\n"
     ]
    },
    {
     "name": "stdout",
     "output_type": "stream",
     "text": [
      "\n",
      "Epoch 1: val_accuracy improved from -inf to 0.34370, saving model to E-classify/E-label_run2.h5\n",
      "145/145 [==============================] - 85s 567ms/step - loss: 0.2115 - accuracy: 0.9172 - val_loss: 2.2256 - val_accuracy: 0.3437 - lr: 0.0010\n",
      "Epoch 2/30\n"
     ]
    },
    {
     "name": "stderr",
     "output_type": "stream",
     "text": [
      "loc(\"mps_select\"(\"(mpsFileLoc): /AppleInternal/Library/BuildRoots/495c257e-668e-11ee-93ce-926038f30c31/Library/Caches/com.apple.xbs/Sources/MetalPerformanceShadersGraph/mpsgraph/MetalPerformanceShadersGraph/Core/Files/MPSGraphUtilities.mm\":294:0)): error: 'anec.gain_offset_control' op result #0 must be 4D/5D memref of 16-bit float or 8-bit signed integer or 8-bit unsigned integer values, but got 'memref<1x12x1x1xi1>'\n",
      "loc(\"mps_select\"(\"(mpsFileLoc): /AppleInternal/Library/BuildRoots/495c257e-668e-11ee-93ce-926038f30c31/Library/Caches/com.apple.xbs/Sources/MetalPerformanceShadersGraph/mpsgraph/MetalPerformanceShadersGraph/Core/Files/MPSGraphUtilities.mm\":294:0)): error: 'anec.gain_offset_control' op result #0 must be 4D/5D memref of 16-bit float or 8-bit signed integer or 8-bit unsigned integer values, but got 'memref<1x12x1x1xi1>'\n"
     ]
    },
    {
     "name": "stdout",
     "output_type": "stream",
     "text": [
      "145/145 [==============================] - ETA: 0s - loss: 0.1109 - accuracy: 0.9611\n",
      "Epoch 2: val_accuracy did not improve from 0.34370\n",
      "145/145 [==============================] - 64s 439ms/step - loss: 0.1109 - accuracy: 0.9611 - val_loss: 0.8737 - val_accuracy: 0.3437 - lr: 0.0010\n",
      "Epoch 3/30\n",
      "145/145 [==============================] - ETA: 0s - loss: 0.0967 - accuracy: 0.9662\n",
      "Epoch 3: val_accuracy did not improve from 0.34370\n",
      "145/145 [==============================] - 64s 441ms/step - loss: 0.0967 - accuracy: 0.9662 - val_loss: 1.5180 - val_accuracy: 0.3437 - lr: 0.0010\n",
      "Epoch 4/30\n",
      "145/145 [==============================] - ETA: 0s - loss: 0.0832 - accuracy: 0.9716\n",
      "Epoch 4: val_accuracy improved from 0.34370 to 0.85190, saving model to E-classify/E-label_run2.h5\n",
      "145/145 [==============================] - 65s 447ms/step - loss: 0.0832 - accuracy: 0.9716 - val_loss: 0.3646 - val_accuracy: 0.8519 - lr: 0.0010\n",
      "Epoch 5/30\n",
      "145/145 [==============================] - ETA: 0s - loss: 0.0746 - accuracy: 0.9740\n",
      "Epoch 5: val_accuracy improved from 0.85190 to 0.95250, saving model to E-classify/E-label_run2.h5\n",
      "145/145 [==============================] - 66s 453ms/step - loss: 0.0746 - accuracy: 0.9740 - val_loss: 0.1548 - val_accuracy: 0.9525 - lr: 0.0010\n",
      "Epoch 6/30\n",
      "145/145 [==============================] - ETA: 0s - loss: 0.0732 - accuracy: 0.9731\n",
      "Epoch 6: val_accuracy did not improve from 0.95250\n",
      "145/145 [==============================] - 63s 435ms/step - loss: 0.0732 - accuracy: 0.9731 - val_loss: 0.1719 - val_accuracy: 0.9421 - lr: 0.0010\n",
      "Epoch 7/30\n",
      "145/145 [==============================] - ETA: 0s - loss: 0.0642 - accuracy: 0.9782\n",
      "Epoch 7: val_accuracy did not improve from 0.95250\n",
      "145/145 [==============================] - 65s 448ms/step - loss: 0.0642 - accuracy: 0.9782 - val_loss: 0.1551 - val_accuracy: 0.9512 - lr: 0.0010\n",
      "Epoch 8/30\n",
      "145/145 [==============================] - ETA: 0s - loss: 0.0625 - accuracy: 0.9780\n",
      "Epoch 8: val_accuracy did not improve from 0.95250\n",
      "145/145 [==============================] - 66s 457ms/step - loss: 0.0625 - accuracy: 0.9780 - val_loss: 0.1718 - val_accuracy: 0.9512 - lr: 0.0010\n",
      "Epoch 9/30\n",
      "145/145 [==============================] - ETA: 0s - loss: 0.0515 - accuracy: 0.9826\n",
      "Epoch 9: val_accuracy improved from 0.95250 to 0.95423, saving model to E-classify/E-label_run2.h5\n",
      "145/145 [==============================] - 64s 443ms/step - loss: 0.0515 - accuracy: 0.9826 - val_loss: 0.1495 - val_accuracy: 0.9542 - lr: 0.0010\n",
      "Epoch 10/30\n",
      "145/145 [==============================] - ETA: 0s - loss: 0.0451 - accuracy: 0.9843\n",
      "Epoch 10: val_accuracy did not improve from 0.95423\n",
      "145/145 [==============================] - 64s 439ms/step - loss: 0.0451 - accuracy: 0.9843 - val_loss: 0.1597 - val_accuracy: 0.9529 - lr: 0.0010\n",
      "Epoch 11/30\n",
      "145/145 [==============================] - ETA: 0s - loss: 0.0333 - accuracy: 0.9886\n",
      "Epoch 11: val_accuracy did not improve from 0.95423\n",
      "145/145 [==============================] - 64s 443ms/step - loss: 0.0333 - accuracy: 0.9886 - val_loss: 0.2198 - val_accuracy: 0.9542 - lr: 0.0010\n",
      "Epoch 12/30\n",
      "145/145 [==============================] - ETA: 0s - loss: 0.0369 - accuracy: 0.9877\n",
      "Epoch 12: val_accuracy did not improve from 0.95423\n",
      "145/145 [==============================] - 65s 447ms/step - loss: 0.0369 - accuracy: 0.9877 - val_loss: 0.1919 - val_accuracy: 0.9439 - lr: 0.0010\n",
      "Epoch 13/30\n",
      "145/145 [==============================] - ETA: 0s - loss: 0.0421 - accuracy: 0.9854\n",
      "Epoch 13: val_accuracy did not improve from 0.95423\n",
      "145/145 [==============================] - 64s 444ms/step - loss: 0.0421 - accuracy: 0.9854 - val_loss: 0.2206 - val_accuracy: 0.9283 - lr: 0.0010\n",
      "Epoch 14/30\n",
      "145/145 [==============================] - ETA: 0s - loss: 0.0330 - accuracy: 0.9881\n",
      "Epoch 14: val_accuracy did not improve from 0.95423\n",
      "145/145 [==============================] - 64s 443ms/step - loss: 0.0330 - accuracy: 0.9881 - val_loss: 0.1543 - val_accuracy: 0.9538 - lr: 0.0010\n",
      "Epoch 15/30\n",
      "145/145 [==============================] - ETA: 0s - loss: 0.0356 - accuracy: 0.9875\n",
      "Epoch 15: val_accuracy improved from 0.95423 to 0.95812, saving model to E-classify/E-label_run2.h5\n",
      "145/145 [==============================] - 64s 442ms/step - loss: 0.0356 - accuracy: 0.9875 - val_loss: 0.2016 - val_accuracy: 0.9581 - lr: 0.0010\n",
      "Epoch 16/30\n",
      "145/145 [==============================] - ETA: 0s - loss: 0.0277 - accuracy: 0.9911\n",
      "Epoch 16: val_accuracy did not improve from 0.95812\n",
      "145/145 [==============================] - 64s 438ms/step - loss: 0.0277 - accuracy: 0.9911 - val_loss: 0.2230 - val_accuracy: 0.9482 - lr: 0.0010\n",
      "Epoch 17/30\n",
      "145/145 [==============================] - ETA: 0s - loss: 0.0269 - accuracy: 0.9902\n",
      "Epoch 17: val_accuracy improved from 0.95812 to 0.96071, saving model to E-classify/E-label_run2.h5\n",
      "145/145 [==============================] - 64s 443ms/step - loss: 0.0269 - accuracy: 0.9902 - val_loss: 0.1725 - val_accuracy: 0.9607 - lr: 0.0010\n",
      "Epoch 18/30\n",
      "145/145 [==============================] - ETA: 0s - loss: 0.0290 - accuracy: 0.9904\n",
      "Epoch 18: val_accuracy did not improve from 0.96071\n",
      "145/145 [==============================] - 64s 442ms/step - loss: 0.0290 - accuracy: 0.9904 - val_loss: 0.1752 - val_accuracy: 0.9421 - lr: 0.0010\n",
      "Epoch 19/30\n",
      "145/145 [==============================] - ETA: 0s - loss: 0.0256 - accuracy: 0.9916\n",
      "Epoch 19: val_accuracy did not improve from 0.96071\n",
      "145/145 [==============================] - 64s 442ms/step - loss: 0.0256 - accuracy: 0.9916 - val_loss: 0.2098 - val_accuracy: 0.9512 - lr: 0.0010\n",
      "Epoch 20/30\n",
      "145/145 [==============================] - ETA: 0s - loss: 0.0284 - accuracy: 0.9901\n",
      "Epoch 20: val_accuracy did not improve from 0.96071\n",
      "145/145 [==============================] - 63s 438ms/step - loss: 0.0284 - accuracy: 0.9901 - val_loss: 0.2387 - val_accuracy: 0.9512 - lr: 0.0010\n",
      "Epoch 21/30\n",
      "145/145 [==============================] - ETA: 0s - loss: 0.0278 - accuracy: 0.9891\n",
      "Epoch 21: val_accuracy did not improve from 0.96071\n",
      "145/145 [==============================] - 63s 436ms/step - loss: 0.0278 - accuracy: 0.9891 - val_loss: 0.2441 - val_accuracy: 0.9547 - lr: 0.0010\n",
      "Epoch 22/30\n",
      "145/145 [==============================] - ETA: 0s - loss: 0.0179 - accuracy: 0.9935\n",
      "Epoch 22: val_accuracy did not improve from 0.96071\n",
      "145/145 [==============================] - 64s 439ms/step - loss: 0.0179 - accuracy: 0.9935 - val_loss: 0.2774 - val_accuracy: 0.9585 - lr: 0.0010\n",
      "Epoch 23/30\n",
      "145/145 [==============================] - ETA: 0s - loss: 0.0121 - accuracy: 0.9960\n",
      "Epoch 23: val_accuracy did not improve from 0.96071\n",
      "145/145 [==============================] - 64s 440ms/step - loss: 0.0121 - accuracy: 0.9960 - val_loss: 0.4767 - val_accuracy: 0.9244 - lr: 0.0010\n",
      "Epoch 24/30\n",
      "145/145 [==============================] - ETA: 0s - loss: 0.0095 - accuracy: 0.9967\n",
      "Epoch 24: val_accuracy did not improve from 0.96071\n",
      "145/145 [==============================] - 64s 442ms/step - loss: 0.0095 - accuracy: 0.9967 - val_loss: 0.2293 - val_accuracy: 0.9555 - lr: 0.0010\n",
      "Epoch 25/30\n",
      "145/145 [==============================] - ETA: 0s - loss: 0.0138 - accuracy: 0.9951\n",
      "Epoch 25: val_accuracy did not improve from 0.96071\n",
      "145/145 [==============================] - 64s 442ms/step - loss: 0.0138 - accuracy: 0.9951 - val_loss: 0.2716 - val_accuracy: 0.9521 - lr: 0.0010\n",
      "Epoch 26/30\n",
      "145/145 [==============================] - ETA: 0s - loss: 0.0242 - accuracy: 0.9907\n",
      "Epoch 26: val_accuracy did not improve from 0.96071\n",
      "145/145 [==============================] - 64s 442ms/step - loss: 0.0242 - accuracy: 0.9907 - val_loss: 0.2545 - val_accuracy: 0.9547 - lr: 0.0010\n",
      "Epoch 27/30\n",
      "145/145 [==============================] - ETA: 0s - loss: 0.0153 - accuracy: 0.9936\n",
      "Epoch 27: val_accuracy did not improve from 0.96071\n",
      "145/145 [==============================] - 64s 441ms/step - loss: 0.0153 - accuracy: 0.9936 - val_loss: 0.2300 - val_accuracy: 0.9585 - lr: 0.0010\n",
      "Epoch 28/30\n",
      "145/145 [==============================] - ETA: 0s - loss: 0.0057 - accuracy: 0.9989\n",
      "Epoch 28: val_accuracy did not improve from 0.96071\n",
      "145/145 [==============================] - 64s 444ms/step - loss: 0.0057 - accuracy: 0.9989 - val_loss: 0.2472 - val_accuracy: 0.9607 - lr: 1.0000e-04\n",
      "Epoch 29/30\n",
      "145/145 [==============================] - ETA: 0s - loss: 0.0020 - accuracy: 0.9997\n",
      "Epoch 29: val_accuracy did not improve from 0.96071\n",
      "145/145 [==============================] - 64s 442ms/step - loss: 0.0020 - accuracy: 0.9997 - val_loss: 0.2540 - val_accuracy: 0.9598 - lr: 1.0000e-04\n",
      "Epoch 30/30\n",
      "145/145 [==============================] - ETA: 0s - loss: 0.0012 - accuracy: 0.9998\n",
      "Epoch 30: val_accuracy did not improve from 0.96071\n",
      "145/145 [==============================] - 64s 443ms/step - loss: 0.0012 - accuracy: 0.9998 - val_loss: 0.2670 - val_accuracy: 0.9594 - lr: 1.0000e-04\n",
      "Epoch 1/30\n"
     ]
    },
    {
     "name": "stderr",
     "output_type": "stream",
     "text": [
      "2023-11-28 16:40:19.460995: I tensorflow/core/grappler/optimizers/custom_graph_optimizer_registry.cc:113] Plugin optimizer for device_type GPU is enabled.\n",
      "loc(\"mps_select\"(\"(mpsFileLoc): /AppleInternal/Library/BuildRoots/495c257e-668e-11ee-93ce-926038f30c31/Library/Caches/com.apple.xbs/Sources/MetalPerformanceShadersGraph/mpsgraph/MetalPerformanceShadersGraph/Core/Files/MPSGraphUtilities.mm\":294:0)): error: 'anec.gain_offset_control' op result #0 must be 4D/5D memref of 16-bit float or 8-bit signed integer or 8-bit unsigned integer values, but got 'memref<1x64x1x1xi1>'\n",
      "loc(\"mps_select\"(\"(mpsFileLoc): /AppleInternal/Library/BuildRoots/495c257e-668e-11ee-93ce-926038f30c31/Library/Caches/com.apple.xbs/Sources/MetalPerformanceShadersGraph/mpsgraph/MetalPerformanceShadersGraph/Core/Files/MPSGraphUtilities.mm\":294:0)): error: 'anec.gain_offset_control' op result #0 must be 4D/5D memref of 16-bit float or 8-bit signed integer or 8-bit unsigned integer values, but got 'memref<1x64x1x1xi1>'\n",
      "loc(\"mps_select\"(\"(mpsFileLoc): /AppleInternal/Library/BuildRoots/495c257e-668e-11ee-93ce-926038f30c31/Library/Caches/com.apple.xbs/Sources/MetalPerformanceShadersGraph/mpsgraph/MetalPerformanceShadersGraph/Core/Files/MPSGraphUtilities.mm\":294:0)): error: 'anec.gain_offset_control' op result #0 must be 4D/5D memref of 16-bit float or 8-bit signed integer or 8-bit unsigned integer values, but got 'memref<1x64x1x1xi1>'\n",
      "loc(\"mps_select\"(\"(mpsFileLoc): /AppleInternal/Library/BuildRoots/495c257e-668e-11ee-93ce-926038f30c31/Library/Caches/com.apple.xbs/Sources/MetalPerformanceShadersGraph/mpsgraph/MetalPerformanceShadersGraph/Core/Files/MPSGraphUtilities.mm\":294:0)): error: 'anec.gain_offset_control' op result #0 must be 4D/5D memref of 16-bit float or 8-bit signed integer or 8-bit unsigned integer values, but got 'memref<1x64x1x1xi1>'\n",
      "loc(\"mps_select\"(\"(mpsFileLoc): /AppleInternal/Library/BuildRoots/495c257e-668e-11ee-93ce-926038f30c31/Library/Caches/com.apple.xbs/Sources/MetalPerformanceShadersGraph/mpsgraph/MetalPerformanceShadersGraph/Core/Files/MPSGraphUtilities.mm\":294:0)): error: 'anec.gain_offset_control' op result #0 must be 4D/5D memref of 16-bit float or 8-bit signed integer or 8-bit unsigned integer values, but got 'memref<1x64x1x1xi1>'\n"
     ]
    },
    {
     "name": "stdout",
     "output_type": "stream",
     "text": [
      "144/145 [============================>.] - ETA: 0s - loss: 0.2051 - accuracy: 0.9163"
     ]
    },
    {
     "name": "stderr",
     "output_type": "stream",
     "text": [
      "loc(\"mps_select\"(\"(mpsFileLoc): /AppleInternal/Library/BuildRoots/495c257e-668e-11ee-93ce-926038f30c31/Library/Caches/com.apple.xbs/Sources/MetalPerformanceShadersGraph/mpsgraph/MetalPerformanceShadersGraph/Core/Files/MPSGraphUtilities.mm\":294:0)): error: 'anec.gain_offset_control' op result #0 must be 4D/5D memref of 16-bit float or 8-bit signed integer or 8-bit unsigned integer values, but got 'memref<1x46x1x1xi1>'\n",
      "loc(\"mps_select\"(\"(mpsFileLoc): /AppleInternal/Library/BuildRoots/495c257e-668e-11ee-93ce-926038f30c31/Library/Caches/com.apple.xbs/Sources/MetalPerformanceShadersGraph/mpsgraph/MetalPerformanceShadersGraph/Core/Files/MPSGraphUtilities.mm\":294:0)): error: 'anec.gain_offset_control' op result #0 must be 4D/5D memref of 16-bit float or 8-bit signed integer or 8-bit unsigned integer values, but got 'memref<1x46x1x1xi1>'\n",
      "loc(\"mps_select\"(\"(mpsFileLoc): /AppleInternal/Library/BuildRoots/495c257e-668e-11ee-93ce-926038f30c31/Library/Caches/com.apple.xbs/Sources/MetalPerformanceShadersGraph/mpsgraph/MetalPerformanceShadersGraph/Core/Files/MPSGraphUtilities.mm\":294:0)): error: 'anec.gain_offset_control' op result #0 must be 4D/5D memref of 16-bit float or 8-bit signed integer or 8-bit unsigned integer values, but got 'memref<1x46x1x1xi1>'\n",
      "loc(\"mps_select\"(\"(mpsFileLoc): /AppleInternal/Library/BuildRoots/495c257e-668e-11ee-93ce-926038f30c31/Library/Caches/com.apple.xbs/Sources/MetalPerformanceShadersGraph/mpsgraph/MetalPerformanceShadersGraph/Core/Files/MPSGraphUtilities.mm\":294:0)): error: 'anec.gain_offset_control' op result #0 must be 4D/5D memref of 16-bit float or 8-bit signed integer or 8-bit unsigned integer values, but got 'memref<1x46x1x1xi1>'\n",
      "loc(\"mps_select\"(\"(mpsFileLoc): /AppleInternal/Library/BuildRoots/495c257e-668e-11ee-93ce-926038f30c31/Library/Caches/com.apple.xbs/Sources/MetalPerformanceShadersGraph/mpsgraph/MetalPerformanceShadersGraph/Core/Files/MPSGraphUtilities.mm\":294:0)): error: 'anec.gain_offset_control' op result #0 must be 4D/5D memref of 16-bit float or 8-bit signed integer or 8-bit unsigned integer values, but got 'memref<1x46x1x1xi1>'\n"
     ]
    },
    {
     "name": "stdout",
     "output_type": "stream",
     "text": [
      "145/145 [==============================] - ETA: 0s - loss: 0.2047 - accuracy: 0.9166"
     ]
    },
    {
     "name": "stderr",
     "output_type": "stream",
     "text": [
      "2023-11-28 16:41:35.888634: I tensorflow/core/grappler/optimizers/custom_graph_optimizer_registry.cc:113] Plugin optimizer for device_type GPU is enabled.\n",
      "loc(\"mps_select\"(\"(mpsFileLoc): /AppleInternal/Library/BuildRoots/495c257e-668e-11ee-93ce-926038f30c31/Library/Caches/com.apple.xbs/Sources/MetalPerformanceShadersGraph/mpsgraph/MetalPerformanceShadersGraph/Core/Files/MPSGraphUtilities.mm\":294:0)): error: 'anec.gain_offset_control' op result #0 must be 4D/5D memref of 16-bit float or 8-bit signed integer or 8-bit unsigned integer values, but got 'memref<1x64x1x1xi1>'\n",
      "loc(\"mps_select\"(\"(mpsFileLoc): /AppleInternal/Library/BuildRoots/495c257e-668e-11ee-93ce-926038f30c31/Library/Caches/com.apple.xbs/Sources/MetalPerformanceShadersGraph/mpsgraph/MetalPerformanceShadersGraph/Core/Files/MPSGraphUtilities.mm\":294:0)): error: 'anec.gain_offset_control' op result #0 must be 4D/5D memref of 16-bit float or 8-bit signed integer or 8-bit unsigned integer values, but got 'memref<1x64x1x1xi1>'\n"
     ]
    },
    {
     "name": "stdout",
     "output_type": "stream",
     "text": [
      "\n",
      "Epoch 1: val_accuracy improved from -inf to 0.34370, saving model to E-classify/E-label_run3.h5\n"
     ]
    },
    {
     "name": "stderr",
     "output_type": "stream",
     "text": [
      "loc(\"mps_select\"(\"(mpsFileLoc): /AppleInternal/Library/BuildRoots/495c257e-668e-11ee-93ce-926038f30c31/Library/Caches/com.apple.xbs/Sources/MetalPerformanceShadersGraph/mpsgraph/MetalPerformanceShadersGraph/Core/Files/MPSGraphUtilities.mm\":294:0)): error: 'anec.gain_offset_control' op result #0 must be 4D/5D memref of 16-bit float or 8-bit signed integer or 8-bit unsigned integer values, but got 'memref<1x12x1x1xi1>'\n",
      "loc(\"mps_select\"(\"(mpsFileLoc): /AppleInternal/Library/BuildRoots/495c257e-668e-11ee-93ce-926038f30c31/Library/Caches/com.apple.xbs/Sources/MetalPerformanceShadersGraph/mpsgraph/MetalPerformanceShadersGraph/Core/Files/MPSGraphUtilities.mm\":294:0)): error: 'anec.gain_offset_control' op result #0 must be 4D/5D memref of 16-bit float or 8-bit signed integer or 8-bit unsigned integer values, but got 'memref<1x12x1x1xi1>'\n"
     ]
    },
    {
     "name": "stdout",
     "output_type": "stream",
     "text": [
      "145/145 [==============================] - 86s 579ms/step - loss: 0.2047 - accuracy: 0.9166 - val_loss: 3.6845 - val_accuracy: 0.3437 - lr: 0.0010\n",
      "Epoch 2/30\n",
      "145/145 [==============================] - ETA: 0s - loss: 0.1082 - accuracy: 0.9629\n",
      "Epoch 2: val_accuracy did not improve from 0.34370\n",
      "145/145 [==============================] - 84s 579ms/step - loss: 0.1082 - accuracy: 0.9629 - val_loss: 2.7061 - val_accuracy: 0.3437 - lr: 0.0010\n",
      "Epoch 3/30\n",
      "145/145 [==============================] - ETA: 0s - loss: 0.0944 - accuracy: 0.9680\n",
      "Epoch 3: val_accuracy improved from 0.34370 to 0.65674, saving model to E-classify/E-label_run3.h5\n",
      "145/145 [==============================] - 82s 566ms/step - loss: 0.0944 - accuracy: 0.9680 - val_loss: 1.1042 - val_accuracy: 0.6567 - lr: 0.0010\n",
      "Epoch 4/30\n",
      "145/145 [==============================] - ETA: 0s - loss: 0.0948 - accuracy: 0.9678\n",
      "Epoch 4: val_accuracy improved from 0.65674 to 0.89119, saving model to E-classify/E-label_run3.h5\n",
      "145/145 [==============================] - 80s 554ms/step - loss: 0.0948 - accuracy: 0.9678 - val_loss: 0.3398 - val_accuracy: 0.8912 - lr: 0.0010\n",
      "Epoch 5/30\n",
      "145/145 [==============================] - ETA: 0s - loss: 0.0870 - accuracy: 0.9707\n",
      "Epoch 5: val_accuracy improved from 0.89119 to 0.93739, saving model to E-classify/E-label_run3.h5\n",
      "145/145 [==============================] - 81s 561ms/step - loss: 0.0870 - accuracy: 0.9707 - val_loss: 0.1905 - val_accuracy: 0.9374 - lr: 0.0010\n",
      "Epoch 6/30\n",
      "145/145 [==============================] - ETA: 0s - loss: 0.0799 - accuracy: 0.9704\n",
      "Epoch 6: val_accuracy improved from 0.93739 to 0.95466, saving model to E-classify/E-label_run3.h5\n",
      "145/145 [==============================] - 81s 561ms/step - loss: 0.0799 - accuracy: 0.9704 - val_loss: 0.1158 - val_accuracy: 0.9547 - lr: 0.0010\n",
      "Epoch 7/30\n",
      "145/145 [==============================] - ETA: 0s - loss: 0.0744 - accuracy: 0.9746\n",
      "Epoch 7: val_accuracy improved from 0.95466 to 0.95682, saving model to E-classify/E-label_run3.h5\n",
      "145/145 [==============================] - 82s 564ms/step - loss: 0.0744 - accuracy: 0.9746 - val_loss: 0.1268 - val_accuracy: 0.9568 - lr: 0.0010\n",
      "Epoch 8/30\n",
      "145/145 [==============================] - ETA: 0s - loss: 0.0590 - accuracy: 0.9801\n",
      "Epoch 8: val_accuracy improved from 0.95682 to 0.95725, saving model to E-classify/E-label_run3.h5\n",
      "145/145 [==============================] - 82s 566ms/step - loss: 0.0590 - accuracy: 0.9801 - val_loss: 0.1217 - val_accuracy: 0.9573 - lr: 0.0010\n",
      "Epoch 9/30\n",
      "145/145 [==============================] - ETA: 0s - loss: 0.0594 - accuracy: 0.9795\n",
      "Epoch 9: val_accuracy did not improve from 0.95725\n",
      "145/145 [==============================] - 82s 564ms/step - loss: 0.0594 - accuracy: 0.9795 - val_loss: 0.2007 - val_accuracy: 0.9439 - lr: 0.0010\n",
      "Epoch 10/30\n",
      "145/145 [==============================] - ETA: 0s - loss: 0.0552 - accuracy: 0.9813\n",
      "Epoch 10: val_accuracy did not improve from 0.95725\n",
      "145/145 [==============================] - 81s 563ms/step - loss: 0.0552 - accuracy: 0.9813 - val_loss: 0.1282 - val_accuracy: 0.9525 - lr: 0.0010\n",
      "Epoch 11/30\n",
      "145/145 [==============================] - ETA: 0s - loss: 0.0489 - accuracy: 0.9816\n",
      "Epoch 11: val_accuracy did not improve from 0.95725\n",
      "145/145 [==============================] - 80s 554ms/step - loss: 0.0489 - accuracy: 0.9816 - val_loss: 0.1517 - val_accuracy: 0.9538 - lr: 0.0010\n",
      "Epoch 12/30\n",
      "145/145 [==============================] - ETA: 0s - loss: 0.0440 - accuracy: 0.9866\n",
      "Epoch 12: val_accuracy did not improve from 0.95725\n",
      "145/145 [==============================] - 81s 561ms/step - loss: 0.0440 - accuracy: 0.9866 - val_loss: 0.1400 - val_accuracy: 0.9478 - lr: 0.0010\n",
      "Epoch 13/30\n",
      "145/145 [==============================] - ETA: 0s - loss: 0.0282 - accuracy: 0.9905\n",
      "Epoch 13: val_accuracy did not improve from 0.95725\n",
      "145/145 [==============================] - 81s 561ms/step - loss: 0.0282 - accuracy: 0.9905 - val_loss: 0.1718 - val_accuracy: 0.9352 - lr: 0.0010\n",
      "Epoch 14/30\n",
      "145/145 [==============================] - ETA: 0s - loss: 0.0431 - accuracy: 0.9853\n",
      "Epoch 14: val_accuracy did not improve from 0.95725\n",
      "145/145 [==============================] - 81s 560ms/step - loss: 0.0431 - accuracy: 0.9853 - val_loss: 0.1961 - val_accuracy: 0.9391 - lr: 0.0010\n",
      "Epoch 15/30\n",
      "145/145 [==============================] - ETA: 0s - loss: 0.0311 - accuracy: 0.9900\n",
      "Epoch 15: val_accuracy did not improve from 0.95725\n",
      "145/145 [==============================] - 82s 568ms/step - loss: 0.0311 - accuracy: 0.9900 - val_loss: 0.1460 - val_accuracy: 0.9555 - lr: 0.0010\n",
      "Epoch 16/30\n",
      "145/145 [==============================] - ETA: 0s - loss: 0.0251 - accuracy: 0.9914\n",
      "Epoch 16: val_accuracy did not improve from 0.95725\n",
      "145/145 [==============================] - 81s 562ms/step - loss: 0.0251 - accuracy: 0.9914 - val_loss: 0.2681 - val_accuracy: 0.9396 - lr: 0.0010\n",
      "Epoch 17/30\n",
      "145/145 [==============================] - ETA: 0s - loss: 0.0259 - accuracy: 0.9904\n",
      "Epoch 17: val_accuracy improved from 0.95725 to 0.96028, saving model to E-classify/E-label_run3.h5\n",
      "145/145 [==============================] - 81s 562ms/step - loss: 0.0259 - accuracy: 0.9904 - val_loss: 0.1742 - val_accuracy: 0.9603 - lr: 0.0010\n",
      "Epoch 18/30\n",
      " 28/145 [====>.........................] - ETA: 59s - loss: 0.0179 - accuracy: 0.9944"
     ]
    }
   ],
   "source": [
    "# This code trains 10 Convolutional Neural Networks (CNNs) on differently split subsets\n",
    "# of a dataset for binary classification,saves the best model of each training session, \n",
    "# and records their training histories.\n",
    "\n",
    "import os\n",
    "import pickle\n",
    "from sklearn.model_selection import train_test_split\n",
    "from tensorflow.keras.callbacks import ModelCheckpoint, ReduceLROnPlateau\n",
    "\n",
    "# Create the directory for saving models and histories if it doesn't exist\n",
    "save_dir = 'E-classify'\n",
    "os.makedirs(save_dir, exist_ok=True)\n",
    "\n",
    "# Initialize lists to store the training histories and filenames of the best models\n",
    "histories = []\n",
    "model_filenames = []\n",
    "\n",
    "# Define the ReduceLROnPlateau callback\n",
    "reduce_lr = ReduceLROnPlateau(\n",
    "    monitor='val_accuracy',\n",
    "    factor=0.1,      # Factor to reduce the learning rate\n",
    "    patience=10,     # Number of epochs with no improvement to wait before reducing LR\n",
    "    min_lr=0.00001   # Minimum learning rate\n",
    ")\n",
    "\n",
    "# Loop to train 10 CNN models with different data splits\n",
    "for i in range(10):\n",
    "    # Split the dataset into training and validation sets with stratification\n",
    "    X_train, X_val, y_train, y_val = train_test_split(X, y, test_size=0.2, stratify=y, random_state=i)\n",
    "    \n",
    "    # Create a new CNN model for each iteration\n",
    "    model = NOIREnet()\n",
    "\n",
    "    # Define the filename for the checkpoint model\n",
    "    model_filename = os.path.join(save_dir, f'E-label_run{i+1}.h5')\n",
    "\n",
    "    # Define a checkpoint callback to save the best model based on validation accuracy\n",
    "    checkpoint_callback = ModelCheckpoint(\n",
    "        model_filename,\n",
    "        monitor='val_accuracy',\n",
    "        verbose=1,\n",
    "        save_best_only=True,\n",
    "        mode='max',\n",
    "        save_weights_only=False\n",
    "    )\n",
    "\n",
    "    # Train the model with specified callbacks including ReduceLROnPlateau\n",
    "    history = model.fit(\n",
    "        X_train, y_train,\n",
    "        batch_size=64,\n",
    "        epochs=30,\n",
    "        validation_data=(X_val, y_val),\n",
    "        callbacks=[checkpoint_callback, reduce_lr]  # Include ReduceLROnPlateau callback\n",
    "    )\n",
    "\n",
    "    # Save the training history and the filename of the saved best model\n",
    "    histories.append(history.history)\n",
    "    model_filenames.append(model_filename)\n",
    "\n",
    "# Optionally, save the training histories to a file in the same 'E-classify' directory\n",
    "history_filename = os.path.join(save_dir, 'training_histories.pkl')\n",
    "with open(history_filename, 'wb') as file:\n",
    "    pickle.dump({'histories': histories, 'model_filenames': model_filenames}, file)\n"
   ]
  },
  {
   "cell_type": "code",
   "execution_count": null,
   "id": "2ac455ce-0736-4a44-a06c-a62764d2b23b",
   "metadata": {},
   "outputs": [],
   "source": []
  }
 ],
 "metadata": {
  "kernelspec": {
   "display_name": "Python 3.10 (tensorflow)",
   "language": "python",
   "name": "tensorflow"
  },
  "language_info": {
   "codemirror_mode": {
    "name": "ipython",
    "version": 3
   },
   "file_extension": ".py",
   "mimetype": "text/x-python",
   "name": "python",
   "nbconvert_exporter": "python",
   "pygments_lexer": "ipython3",
   "version": "3.10.9"
  }
 },
 "nbformat": 4,
 "nbformat_minor": 5
}
