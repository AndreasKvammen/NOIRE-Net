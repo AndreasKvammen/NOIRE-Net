{
 "cells": [
  {
   "cell_type": "markdown",
   "id": "6553ab89-fa75-447a-8c08-7f25ac7ad487",
   "metadata": {},
   "source": [
    "## E-classify: This Notebook develops the NOIRE-Net E-region classification network "
   ]
  },
  {
   "cell_type": "markdown",
   "id": "822ec13f-8079-401c-aaf2-37f2981acd5b",
   "metadata": {},
   "source": [
    "### 1 - Import libaries "
   ]
  },
  {
   "cell_type": "code",
   "execution_count": 1,
   "id": "80990a8e-2d87-444b-aa25-42ea1903521d",
   "metadata": {
    "tags": []
   },
   "outputs": [],
   "source": [
    "import os\n",
    "import numpy as np\n",
    "from sklearn.model_selection import train_test_split\n",
    "from tensorflow.keras.models import Sequential\n",
    "from tensorflow.keras.layers import Conv2D, MaxPooling2D, Flatten, Dense, BatchNormalization, Dropout\n",
    "from tensorflow.keras.preprocessing.image import img_to_array, load_img\n",
    "from sklearn.metrics import mean_squared_error\n",
    "from math import sqrt\n",
    "from tensorflow.keras.callbacks import ModelCheckpoint\n",
    "import pickle"
   ]
  },
  {
   "cell_type": "markdown",
   "id": "c57942b9-0d1e-4c29-b201-dae42e4f99bd",
   "metadata": {},
   "source": [
    "### 2 - Define function to get ionogram label (True = E-region, False = No E-region)"
   ]
  },
  {
   "cell_type": "code",
   "execution_count": 3,
   "id": "4b8714c8-324c-4ddb-ab4e-5ac56070ba76",
   "metadata": {
    "tags": []
   },
   "outputs": [],
   "source": [
    "# The function get_label_from_par reads a .par file and returns \n",
    "# True if either the second or fourth item is not 'nan', \n",
    "# indicating the presence of an E-region in the corresponding image,\n",
    "# for use in binary classification.\n",
    "\n",
    "def get_label_from_par(par_file_path):\n",
    "    try:\n",
    "        # Open the .par file located at par_file_path\n",
    "        with open(par_file_path, 'r') as file:\n",
    "            content = file.readline().strip()  # Read and strip the first line of the file\n",
    "            items = content.split()  # Split the line into individual items (usually numbers or 'nan')\n",
    "\n",
    "            # Check the second (index 1) and fourth (index 3) items:\n",
    "            # If either of these items is not 'nan', it implies the presence of an E-region.\n",
    "            # The function then returns True, indicating that this image has an E-region.\n",
    "            is_e_region = items[1].lower() != 'nan' or items[3].lower() != 'nan'\n",
    "        return is_e_region\n",
    "\n",
    "    except IndexError:\n",
    "        # This block catches an IndexError, which occurs if the line read from the file\n",
    "        # does not have at least four items. In such a case, the function assumes that\n",
    "        # the E-region data is not present or not properly formatted, and returns False.\n",
    "        return False\n",
    "\n",
    "    except Exception as e:\n",
    "        # This block catches any other exceptions (like file not found, read errors, etc.).\n",
    "        # It prints the exception message and returns False, indicating an issue with processing the file.\n",
    "        print(f\"Error reading {par_file_path}: {e}\")\n",
    "        return False"
   ]
  },
  {
   "cell_type": "markdown",
   "id": "ff5dd112-47cc-48b4-915e-5d52e25ec6cc",
   "metadata": {
    "tags": []
   },
   "source": [
    "### 3 - Define function to load ionograms and preprocess the data"
   ]
  },
  {
   "cell_type": "code",
   "execution_count": 5,
   "id": "c413a846-e152-4d08-9231-856a3066eded",
   "metadata": {
    "tags": []
   },
   "outputs": [],
   "source": [
    "# The load_data function loads and preprocesses image data from a specified directory,\n",
    "# converting images to grayscale and resizing them, while also extracting corresponding\n",
    "# binary labels from associated .par files for a classification task.\n",
    "\n",
    "def load_data(data_dir):\n",
    "    images = []  # List to store preprocessed images\n",
    "    labels = []  # List to store corresponding labels\n",
    "\n",
    "    # Construct paths to the directories containing ionograms and parameters\n",
    "    ionograms_dir = os.path.join(data_dir, 'ionograms')\n",
    "    parameters_dir = os.path.join(data_dir, 'parameters')\n",
    "\n",
    "    # Iterate over the files in the ionograms directory\n",
    "    for filename in os.listdir(ionograms_dir):\n",
    "        if filename.endswith('.png'):  # Check if the file is a PNG image\n",
    "            # Construct full paths to the image file and its corresponding .par file\n",
    "            img_path = os.path.join(ionograms_dir, filename)\n",
    "            par_path = os.path.join(parameters_dir, filename.replace('.png', '.par'))\n",
    "\n",
    "            # Load the image, convert it to grayscale, resize it, and normalize pixel values\n",
    "            image = load_img(img_path, color_mode='grayscale', target_size=(310, 310))\n",
    "            image = img_to_array(image)\n",
    "            image /= 255.0  # Normalize image pixels to be between 0 and 1\n",
    "\n",
    "            # Load the label for the image using the get_label_from_par function\n",
    "            label = get_label_from_par(par_path)\n",
    "\n",
    "            # Append the preprocessed image and label to their respective lists\n",
    "            images.append(image)\n",
    "            labels.append(label)\n",
    "\n",
    "    # Convert the lists of images and labels to numpy arrays and return them\n",
    "    return np.array(images), np.array(labels).astype(int)"
   ]
  },
  {
   "cell_type": "markdown",
   "id": "0a34042b-b7a9-4fce-ae53-61d68a1252e1",
   "metadata": {},
   "source": [
    "### 4 - Load the ionograms and labels from the data folder "
   ]
  },
  {
   "cell_type": "code",
   "execution_count": null,
   "id": "42d19eba-8888-42dc-a7c1-8f01e388aea4",
   "metadata": {},
   "outputs": [],
   "source": [
    "# Specify the directory where the data is stored\n",
    "data_dir = 'data'  # 'data' should be replaced with the actual path to your data directory\n",
    "\n",
    "# Call the load_data function to load and preprocess the data\n",
    "# X will contain the preprocessed images, and y will contain the corresponding labels\n",
    "X, y = load_data(data_dir)"
   ]
  }
 ],
 "metadata": {
  "kernelspec": {
   "display_name": "Python 3.10 (tensorflow)",
   "language": "python",
   "name": "tensorflow"
  },
  "language_info": {
   "codemirror_mode": {
    "name": "ipython",
    "version": 3
   },
   "file_extension": ".py",
   "mimetype": "text/x-python",
   "name": "python",
   "nbconvert_exporter": "python",
   "pygments_lexer": "ipython3",
   "version": "3.10.9"
  }
 },
 "nbformat": 4,
 "nbformat_minor": 5
}
