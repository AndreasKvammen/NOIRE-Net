{
 "cells": [
  {
   "cell_type": "code",
   "execution_count": 1,
   "id": "fe6bed62-abf2-49c6-8dc7-db0d21d78a32",
   "metadata": {
    "tags": []
   },
   "outputs": [],
   "source": [
    "import os\n",
    "import numpy as np\n",
    "from sklearn.model_selection import train_test_split\n",
    "from tensorflow.keras.models import Sequential\n",
    "from tensorflow.keras.layers import Conv2D, MaxPooling2D, Flatten, Dense, BatchNormalization, Dropout\n",
    "from tensorflow.keras.preprocessing.image import img_to_array, load_img\n",
    "from sklearn.metrics import mean_squared_error\n",
    "from math import sqrt\n",
    "from tensorflow.keras.callbacks import ModelCheckpoint\n",
    "import pickle"
   ]
  },
  {
   "cell_type": "code",
   "execution_count": 8,
   "id": "12dd121c-6be4-48aa-827f-93ed0d0948bc",
   "metadata": {
    "tags": []
   },
   "outputs": [],
   "source": [
    "def get_label_from_par(par_file_path):\n",
    "    try:\n",
    "        with open(par_file_path, 'r') as file:\n",
    "            content = file.readline().strip()  # Read the first line of the file\n",
    "            items = content.split()  # Split the line into items\n",
    "            # Check if the second and fourth items are not 'nan'\n",
    "            is_e_region = items[1].lower() != 'nan' or items[3].lower() != 'nan'\n",
    "        return is_e_region\n",
    "    except IndexError:\n",
    "        # If there are not enough items, return False indicating no E-region\n",
    "        return False\n",
    "    except Exception as e:\n",
    "        # If any other exception occurs, print it and return False\n",
    "        print(f\"Error reading {par_file_path}: {e}\")\n",
    "        return False"
   ]
  },
  {
   "cell_type": "code",
   "execution_count": 9,
   "id": "d2f7141f-f53f-49e4-853a-2fe2568289d3",
   "metadata": {
    "tags": []
   },
   "outputs": [],
   "source": [
    "# Function to load and preprocess data\n",
    "def load_data(data_dir):\n",
    "    images = []\n",
    "    labels = []\n",
    "    ionograms_dir = os.path.join(data_dir, 'ionograms')\n",
    "    parameters_dir = os.path.join(data_dir, 'parameters')\n",
    "\n",
    "    for filename in os.listdir(ionograms_dir):\n",
    "        if filename.endswith('.png'):\n",
    "            img_path = os.path.join(ionograms_dir, filename)\n",
    "            par_path = os.path.join(parameters_dir, filename.replace('.png', '.par'))\n",
    "\n",
    "            # Load and preprocess image\n",
    "            image = load_img(img_path, color_mode='grayscale', target_size=(310, 310))\n",
    "            image = img_to_array(image)\n",
    "            image /= 255.0\n",
    "\n",
    "            # Load label using get_label_from_par\n",
    "            label = get_label_from_par(par_path)\n",
    "\n",
    "            images.append(image)\n",
    "            labels.append(label)\n",
    "\n",
    "    return np.array(images), np.array(labels).astype(int)"
   ]
  },
  {
   "cell_type": "code",
   "execution_count": 4,
   "id": "82592b36-52ea-442c-a16f-f70efd3f0694",
   "metadata": {
    "tags": []
   },
   "outputs": [],
   "source": [
    "# Load all data\n",
    "data_dir = 'data'  # Make sure this is the correct path to your 'data' directory\n",
    "X, y = load_data(data_dir)"
   ]
  },
  {
   "cell_type": "code",
   "execution_count": 13,
   "id": "5373d390-92d9-4321-b47e-086149a293e4",
   "metadata": {
    "tags": []
   },
   "outputs": [],
   "source": [
    "# Function to create CNN model\n",
    "def create_cnn():\n",
    "    model = Sequential([\n",
    "    Conv2D(16, (3, 3), padding='same', activation='relu', input_shape=(310, 310, 1)),\n",
    "    BatchNormalization(),\n",
    "    Conv2D(16, (3, 3), activation='relu'),\n",
    "    BatchNormalization(),\n",
    "    MaxPooling2D((2, 2)),\n",
    "    \n",
    "    Conv2D(32, (3, 3), padding='same', activation='relu'),\n",
    "    BatchNormalization(),\n",
    "    Conv2D(32, (3, 3), activation='relu'),\n",
    "    BatchNormalization(),\n",
    "    MaxPooling2D((2, 2)),\n",
    "    \n",
    "    Conv2D(64, (3, 3), padding='same', activation='relu'),\n",
    "    BatchNormalization(),\n",
    "    Conv2D(64, (3, 3), activation='relu'),\n",
    "    BatchNormalization(),\n",
    "    MaxPooling2D((2, 2)),\n",
    "    \n",
    "    Conv2D(128, (3, 3), padding='same', activation='relu'),\n",
    "    BatchNormalization(),\n",
    "    Conv2D(128, (3, 3), activation='relu'),\n",
    "    BatchNormalization(),\n",
    "    MaxPooling2D((2, 2)),\n",
    "    \n",
    "    Conv2D(256, (3, 3), padding='same', activation='relu'),\n",
    "    BatchNormalization(),\n",
    "    Conv2D(256, (3, 3), activation='relu'),\n",
    "    BatchNormalization(),\n",
    "    MaxPooling2D((2, 2)),\n",
    "    \n",
    "    \n",
    "    Flatten(),\n",
    "    Dense(512, activation='relu'),\n",
    "    Dropout(0.5),\n",
    "    Dense(64, activation='relu'),\n",
    "    Dense(1, activation='sigmoid')\n",
    "    ])\n",
    "    \n",
    "    model.compile(optimizer='adam', loss='binary_crossentropy', metrics=['accuracy'])\n",
    "    return model"
   ]
  },
  {
   "cell_type": "code",
   "execution_count": 16,
   "id": "5c175008-dede-4e88-bb3b-7fa40454c6f3",
   "metadata": {
    "tags": []
   },
   "outputs": [
    {
     "name": "stdout",
     "output_type": "stream",
     "text": [
      "Model: \"sequential_13\"\n",
      "_________________________________________________________________\n",
      " Layer (type)                Output Shape              Param #   \n",
      "=================================================================\n",
      " conv2d_130 (Conv2D)         (None, 310, 310, 16)      160       \n",
      "                                                                 \n",
      " batch_normalization_130 (Ba  (None, 310, 310, 16)     64        \n",
      " tchNormalization)                                               \n",
      "                                                                 \n",
      " conv2d_131 (Conv2D)         (None, 308, 308, 16)      2320      \n",
      "                                                                 \n",
      " batch_normalization_131 (Ba  (None, 308, 308, 16)     64        \n",
      " tchNormalization)                                               \n",
      "                                                                 \n",
      " max_pooling2d_65 (MaxPoolin  (None, 154, 154, 16)     0         \n",
      " g2D)                                                            \n",
      "                                                                 \n",
      " conv2d_132 (Conv2D)         (None, 154, 154, 32)      4640      \n",
      "                                                                 \n",
      " batch_normalization_132 (Ba  (None, 154, 154, 32)     128       \n",
      " tchNormalization)                                               \n",
      "                                                                 \n",
      " conv2d_133 (Conv2D)         (None, 152, 152, 32)      9248      \n",
      "                                                                 \n",
      " batch_normalization_133 (Ba  (None, 152, 152, 32)     128       \n",
      " tchNormalization)                                               \n",
      "                                                                 \n",
      " max_pooling2d_66 (MaxPoolin  (None, 76, 76, 32)       0         \n",
      " g2D)                                                            \n",
      "                                                                 \n",
      " conv2d_134 (Conv2D)         (None, 76, 76, 64)        18496     \n",
      "                                                                 \n",
      " batch_normalization_134 (Ba  (None, 76, 76, 64)       256       \n",
      " tchNormalization)                                               \n",
      "                                                                 \n",
      " conv2d_135 (Conv2D)         (None, 74, 74, 64)        36928     \n",
      "                                                                 \n",
      " batch_normalization_135 (Ba  (None, 74, 74, 64)       256       \n",
      " tchNormalization)                                               \n",
      "                                                                 \n",
      " max_pooling2d_67 (MaxPoolin  (None, 37, 37, 64)       0         \n",
      " g2D)                                                            \n",
      "                                                                 \n",
      " conv2d_136 (Conv2D)         (None, 37, 37, 128)       73856     \n",
      "                                                                 \n",
      " batch_normalization_136 (Ba  (None, 37, 37, 128)      512       \n",
      " tchNormalization)                                               \n",
      "                                                                 \n",
      " conv2d_137 (Conv2D)         (None, 35, 35, 128)       147584    \n",
      "                                                                 \n",
      " batch_normalization_137 (Ba  (None, 35, 35, 128)      512       \n",
      " tchNormalization)                                               \n",
      "                                                                 \n",
      " max_pooling2d_68 (MaxPoolin  (None, 17, 17, 128)      0         \n",
      " g2D)                                                            \n",
      "                                                                 \n",
      " conv2d_138 (Conv2D)         (None, 17, 17, 256)       295168    \n",
      "                                                                 \n",
      " batch_normalization_138 (Ba  (None, 17, 17, 256)      1024      \n",
      " tchNormalization)                                               \n",
      "                                                                 \n",
      " conv2d_139 (Conv2D)         (None, 15, 15, 256)       590080    \n",
      "                                                                 \n",
      " batch_normalization_139 (Ba  (None, 15, 15, 256)      1024      \n",
      " tchNormalization)                                               \n",
      "                                                                 \n",
      " max_pooling2d_69 (MaxPoolin  (None, 7, 7, 256)        0         \n",
      " g2D)                                                            \n",
      "                                                                 \n",
      " flatten_13 (Flatten)        (None, 12544)             0         \n",
      "                                                                 \n",
      " dense_39 (Dense)            (None, 512)               6423040   \n",
      "                                                                 \n",
      " dropout_13 (Dropout)        (None, 512)               0         \n",
      "                                                                 \n",
      " dense_40 (Dense)            (None, 64)                32832     \n",
      "                                                                 \n",
      " dense_41 (Dense)            (None, 1)                 65        \n",
      "                                                                 \n",
      "=================================================================\n",
      "Total params: 7,638,385\n",
      "Trainable params: 7,636,401\n",
      "Non-trainable params: 1,984\n",
      "_________________________________________________________________\n"
     ]
    }
   ],
   "source": [
    "model.summary()"
   ]
  },
  {
   "cell_type": "code",
   "execution_count": 15,
   "id": "fbba0eb6-21ce-4546-8ea6-a415db007307",
   "metadata": {
    "tags": []
   },
   "outputs": [
    {
     "name": "stdout",
     "output_type": "stream",
     "text": [
      "Epoch 1/10\n"
     ]
    },
    {
     "name": "stderr",
     "output_type": "stream",
     "text": [
      "2023-11-23 14:19:24.171469: I tensorflow/core/grappler/optimizers/custom_graph_optimizer_registry.cc:113] Plugin optimizer for device_type GPU is enabled.\n",
      "loc(\"mps_select\"(\"(mpsFileLoc): /AppleInternal/Library/BuildRoots/495c257e-668e-11ee-93ce-926038f30c31/Library/Caches/com.apple.xbs/Sources/MetalPerformanceShadersGraph/mpsgraph/MetalPerformanceShadersGraph/Core/Files/MPSGraphUtilities.mm\":294:0)): error: 'anec.gain_offset_control' op result #0 must be 4D/5D memref of 16-bit float or 8-bit signed integer or 8-bit unsigned integer values, but got 'memref<1x64x1x1xi1>'\n",
      "loc(\"mps_select\"(\"(mpsFileLoc): /AppleInternal/Library/BuildRoots/495c257e-668e-11ee-93ce-926038f30c31/Library/Caches/com.apple.xbs/Sources/MetalPerformanceShadersGraph/mpsgraph/MetalPerformanceShadersGraph/Core/Files/MPSGraphUtilities.mm\":294:0)): error: 'anec.gain_offset_control' op result #0 must be 4D/5D memref of 16-bit float or 8-bit signed integer or 8-bit unsigned integer values, but got 'memref<1x64x1x1xi1>'\n",
      "loc(\"mps_select\"(\"(mpsFileLoc): /AppleInternal/Library/BuildRoots/495c257e-668e-11ee-93ce-926038f30c31/Library/Caches/com.apple.xbs/Sources/MetalPerformanceShadersGraph/mpsgraph/MetalPerformanceShadersGraph/Core/Files/MPSGraphUtilities.mm\":294:0)): error: 'anec.gain_offset_control' op result #0 must be 4D/5D memref of 16-bit float or 8-bit signed integer or 8-bit unsigned integer values, but got 'memref<1x64x1x1xi1>'\n",
      "loc(\"mps_select\"(\"(mpsFileLoc): /AppleInternal/Library/BuildRoots/495c257e-668e-11ee-93ce-926038f30c31/Library/Caches/com.apple.xbs/Sources/MetalPerformanceShadersGraph/mpsgraph/MetalPerformanceShadersGraph/Core/Files/MPSGraphUtilities.mm\":294:0)): error: 'anec.gain_offset_control' op result #0 must be 4D/5D memref of 16-bit float or 8-bit signed integer or 8-bit unsigned integer values, but got 'memref<1x64x1x1xi1>'\n",
      "loc(\"mps_select\"(\"(mpsFileLoc): /AppleInternal/Library/BuildRoots/495c257e-668e-11ee-93ce-926038f30c31/Library/Caches/com.apple.xbs/Sources/MetalPerformanceShadersGraph/mpsgraph/MetalPerformanceShadersGraph/Core/Files/MPSGraphUtilities.mm\":294:0)): error: 'anec.gain_offset_control' op result #0 must be 4D/5D memref of 16-bit float or 8-bit signed integer or 8-bit unsigned integer values, but got 'memref<1x64x1x1xi1>'\n"
     ]
    },
    {
     "name": "stdout",
     "output_type": "stream",
     "text": [
      "124/125 [============================>.] - ETA: 0s - loss: 0.5800 - accuracy: 0.8914"
     ]
    },
    {
     "name": "stderr",
     "output_type": "stream",
     "text": [
      "loc(\"mps_select\"(\"(mpsFileLoc): /AppleInternal/Library/BuildRoots/495c257e-668e-11ee-93ce-926038f30c31/Library/Caches/com.apple.xbs/Sources/MetalPerformanceShadersGraph/mpsgraph/MetalPerformanceShadersGraph/Core/Files/MPSGraphUtilities.mm\":294:0)): error: 'anec.gain_offset_control' op result #0 must be 4D/5D memref of 16-bit float or 8-bit signed integer or 8-bit unsigned integer values, but got 'memref<1x8x1x1xi1>'\n",
      "loc(\"mps_select\"(\"(mpsFileLoc): /AppleInternal/Library/BuildRoots/495c257e-668e-11ee-93ce-926038f30c31/Library/Caches/com.apple.xbs/Sources/MetalPerformanceShadersGraph/mpsgraph/MetalPerformanceShadersGraph/Core/Files/MPSGraphUtilities.mm\":294:0)): error: 'anec.gain_offset_control' op result #0 must be 4D/5D memref of 16-bit float or 8-bit signed integer or 8-bit unsigned integer values, but got 'memref<1x8x1x1xi1>'\n",
      "loc(\"mps_select\"(\"(mpsFileLoc): /AppleInternal/Library/BuildRoots/495c257e-668e-11ee-93ce-926038f30c31/Library/Caches/com.apple.xbs/Sources/MetalPerformanceShadersGraph/mpsgraph/MetalPerformanceShadersGraph/Core/Files/MPSGraphUtilities.mm\":294:0)): error: 'anec.gain_offset_control' op result #0 must be 4D/5D memref of 16-bit float or 8-bit signed integer or 8-bit unsigned integer values, but got 'memref<1x8x1x1xi1>'\n",
      "loc(\"mps_select\"(\"(mpsFileLoc): /AppleInternal/Library/BuildRoots/495c257e-668e-11ee-93ce-926038f30c31/Library/Caches/com.apple.xbs/Sources/MetalPerformanceShadersGraph/mpsgraph/MetalPerformanceShadersGraph/Core/Files/MPSGraphUtilities.mm\":294:0)): error: 'anec.gain_offset_control' op result #0 must be 4D/5D memref of 16-bit float or 8-bit signed integer or 8-bit unsigned integer values, but got 'memref<1x8x1x1xi1>'\n",
      "loc(\"mps_select\"(\"(mpsFileLoc): /AppleInternal/Library/BuildRoots/495c257e-668e-11ee-93ce-926038f30c31/Library/Caches/com.apple.xbs/Sources/MetalPerformanceShadersGraph/mpsgraph/MetalPerformanceShadersGraph/Core/Files/MPSGraphUtilities.mm\":294:0)): error: 'anec.gain_offset_control' op result #0 must be 4D/5D memref of 16-bit float or 8-bit signed integer or 8-bit unsigned integer values, but got 'memref<1x8x1x1xi1>'\n"
     ]
    },
    {
     "name": "stdout",
     "output_type": "stream",
     "text": [
      "125/125 [==============================] - ETA: 0s - loss: 0.5794 - accuracy: 0.8915"
     ]
    },
    {
     "name": "stderr",
     "output_type": "stream",
     "text": [
      "2023-11-23 14:19:58.973108: I tensorflow/core/grappler/optimizers/custom_graph_optimizer_registry.cc:113] Plugin optimizer for device_type GPU is enabled.\n",
      "loc(\"mps_select\"(\"(mpsFileLoc): /AppleInternal/Library/BuildRoots/495c257e-668e-11ee-93ce-926038f30c31/Library/Caches/com.apple.xbs/Sources/MetalPerformanceShadersGraph/mpsgraph/MetalPerformanceShadersGraph/Core/Files/MPSGraphUtilities.mm\":294:0)): error: 'anec.gain_offset_control' op result #0 must be 4D/5D memref of 16-bit float or 8-bit signed integer or 8-bit unsigned integer values, but got 'memref<1x64x1x1xi1>'\n",
      "loc(\"mps_select\"(\"(mpsFileLoc): /AppleInternal/Library/BuildRoots/495c257e-668e-11ee-93ce-926038f30c31/Library/Caches/com.apple.xbs/Sources/MetalPerformanceShadersGraph/mpsgraph/MetalPerformanceShadersGraph/Core/Files/MPSGraphUtilities.mm\":294:0)): error: 'anec.gain_offset_control' op result #0 must be 4D/5D memref of 16-bit float or 8-bit signed integer or 8-bit unsigned integer values, but got 'memref<1x64x1x1xi1>'\n"
     ]
    },
    {
     "name": "stdout",
     "output_type": "stream",
     "text": [
      "\n",
      "Epoch 1: val_accuracy improved from -inf to 0.35247, saving model to E-label_run1.h5\n"
     ]
    },
    {
     "name": "stderr",
     "output_type": "stream",
     "text": [
      "loc(\"mps_select\"(\"(mpsFileLoc): /AppleInternal/Library/BuildRoots/495c257e-668e-11ee-93ce-926038f30c31/Library/Caches/com.apple.xbs/Sources/MetalPerformanceShadersGraph/mpsgraph/MetalPerformanceShadersGraph/Core/Files/MPSGraphUtilities.mm\":294:0)): error: 'anec.gain_offset_control' op result #0 must be 4D/5D memref of 16-bit float or 8-bit signed integer or 8-bit unsigned integer values, but got 'memref<1x33x1x1xi1>'\n",
      "loc(\"mps_select\"(\"(mpsFileLoc): /AppleInternal/Library/BuildRoots/495c257e-668e-11ee-93ce-926038f30c31/Library/Caches/com.apple.xbs/Sources/MetalPerformanceShadersGraph/mpsgraph/MetalPerformanceShadersGraph/Core/Files/MPSGraphUtilities.mm\":294:0)): error: 'anec.gain_offset_control' op result #0 must be 4D/5D memref of 16-bit float or 8-bit signed integer or 8-bit unsigned integer values, but got 'memref<1x33x1x1xi1>'\n"
     ]
    },
    {
     "name": "stdout",
     "output_type": "stream",
     "text": [
      "125/125 [==============================] - 38s 281ms/step - loss: 0.5794 - accuracy: 0.8915 - val_loss: 3.0387 - val_accuracy: 0.3525\n",
      "Epoch 2/10\n",
      "125/125 [==============================] - ETA: 0s - loss: 0.1496 - accuracy: 0.9471\n",
      "Epoch 2: val_accuracy did not improve from 0.35247\n",
      "125/125 [==============================] - 33s 261ms/step - loss: 0.1496 - accuracy: 0.9471 - val_loss: 4.3555 - val_accuracy: 0.3525\n",
      "Epoch 3/10\n",
      "125/125 [==============================] - ETA: 0s - loss: 0.1334 - accuracy: 0.9575\n",
      "Epoch 3: val_accuracy did not improve from 0.35247\n",
      "125/125 [==============================] - 32s 253ms/step - loss: 0.1334 - accuracy: 0.9575 - val_loss: 8.3338 - val_accuracy: 0.3525\n",
      "Epoch 4/10\n",
      "125/125 [==============================] - ETA: 0s - loss: 0.1317 - accuracy: 0.9592\n",
      "Epoch 4: val_accuracy did not improve from 0.35247\n",
      "125/125 [==============================] - 31s 244ms/step - loss: 0.1317 - accuracy: 0.9592 - val_loss: 51.2332 - val_accuracy: 0.3525\n",
      "Epoch 5/10\n",
      "125/125 [==============================] - ETA: 0s - loss: 0.1211 - accuracy: 0.9593\n",
      "Epoch 5: val_accuracy improved from 0.35247 to 0.89325, saving model to E-label_run1.h5\n",
      "125/125 [==============================] - 31s 247ms/step - loss: 0.1211 - accuracy: 0.9593 - val_loss: 0.4276 - val_accuracy: 0.8933\n",
      "Epoch 6/10\n",
      "125/125 [==============================] - ETA: 0s - loss: 0.0941 - accuracy: 0.9666\n",
      "Epoch 6: val_accuracy improved from 0.89325 to 0.96173, saving model to E-label_run1.h5\n",
      "125/125 [==============================] - 31s 251ms/step - loss: 0.0941 - accuracy: 0.9666 - val_loss: 0.1290 - val_accuracy: 0.9617\n",
      "Epoch 7/10\n",
      "125/125 [==============================] - ETA: 0s - loss: 0.0879 - accuracy: 0.9694\n",
      "Epoch 7: val_accuracy did not improve from 0.96173\n",
      "125/125 [==============================] - 30s 240ms/step - loss: 0.0879 - accuracy: 0.9694 - val_loss: 0.1992 - val_accuracy: 0.9396\n",
      "Epoch 8/10\n",
      "125/125 [==============================] - ETA: 0s - loss: 0.0768 - accuracy: 0.9746\n",
      "Epoch 8: val_accuracy did not improve from 0.96173\n",
      "125/125 [==============================] - 31s 250ms/step - loss: 0.0768 - accuracy: 0.9746 - val_loss: 0.1392 - val_accuracy: 0.9486\n",
      "Epoch 9/10\n",
      "125/125 [==============================] - ETA: 0s - loss: 0.0597 - accuracy: 0.9792\n",
      "Epoch 9: val_accuracy did not improve from 0.96173\n",
      "125/125 [==============================] - 32s 257ms/step - loss: 0.0597 - accuracy: 0.9792 - val_loss: 0.2136 - val_accuracy: 0.9426\n",
      "Epoch 10/10\n",
      "125/125 [==============================] - ETA: 0s - loss: 0.0549 - accuracy: 0.9814\n",
      "Epoch 10: val_accuracy did not improve from 0.96173\n",
      "125/125 [==============================] - 31s 250ms/step - loss: 0.0549 - accuracy: 0.9814 - val_loss: 0.1961 - val_accuracy: 0.9456\n",
      "Epoch 1/10\n"
     ]
    },
    {
     "name": "stderr",
     "output_type": "stream",
     "text": [
      "2023-11-23 14:24:47.285421: I tensorflow/core/grappler/optimizers/custom_graph_optimizer_registry.cc:113] Plugin optimizer for device_type GPU is enabled.\n",
      "loc(\"mps_select\"(\"(mpsFileLoc): /AppleInternal/Library/BuildRoots/495c257e-668e-11ee-93ce-926038f30c31/Library/Caches/com.apple.xbs/Sources/MetalPerformanceShadersGraph/mpsgraph/MetalPerformanceShadersGraph/Core/Files/MPSGraphUtilities.mm\":294:0)): error: 'anec.gain_offset_control' op result #0 must be 4D/5D memref of 16-bit float or 8-bit signed integer or 8-bit unsigned integer values, but got 'memref<1x64x1x1xi1>'\n",
      "loc(\"mps_select\"(\"(mpsFileLoc): /AppleInternal/Library/BuildRoots/495c257e-668e-11ee-93ce-926038f30c31/Library/Caches/com.apple.xbs/Sources/MetalPerformanceShadersGraph/mpsgraph/MetalPerformanceShadersGraph/Core/Files/MPSGraphUtilities.mm\":294:0)): error: 'anec.gain_offset_control' op result #0 must be 4D/5D memref of 16-bit float or 8-bit signed integer or 8-bit unsigned integer values, but got 'memref<1x64x1x1xi1>'\n",
      "loc(\"mps_select\"(\"(mpsFileLoc): /AppleInternal/Library/BuildRoots/495c257e-668e-11ee-93ce-926038f30c31/Library/Caches/com.apple.xbs/Sources/MetalPerformanceShadersGraph/mpsgraph/MetalPerformanceShadersGraph/Core/Files/MPSGraphUtilities.mm\":294:0)): error: 'anec.gain_offset_control' op result #0 must be 4D/5D memref of 16-bit float or 8-bit signed integer or 8-bit unsigned integer values, but got 'memref<1x64x1x1xi1>'\n",
      "loc(\"mps_select\"(\"(mpsFileLoc): /AppleInternal/Library/BuildRoots/495c257e-668e-11ee-93ce-926038f30c31/Library/Caches/com.apple.xbs/Sources/MetalPerformanceShadersGraph/mpsgraph/MetalPerformanceShadersGraph/Core/Files/MPSGraphUtilities.mm\":294:0)): error: 'anec.gain_offset_control' op result #0 must be 4D/5D memref of 16-bit float or 8-bit signed integer or 8-bit unsigned integer values, but got 'memref<1x64x1x1xi1>'\n",
      "loc(\"mps_select\"(\"(mpsFileLoc): /AppleInternal/Library/BuildRoots/495c257e-668e-11ee-93ce-926038f30c31/Library/Caches/com.apple.xbs/Sources/MetalPerformanceShadersGraph/mpsgraph/MetalPerformanceShadersGraph/Core/Files/MPSGraphUtilities.mm\":294:0)): error: 'anec.gain_offset_control' op result #0 must be 4D/5D memref of 16-bit float or 8-bit signed integer or 8-bit unsigned integer values, but got 'memref<1x64x1x1xi1>'\n"
     ]
    },
    {
     "name": "stdout",
     "output_type": "stream",
     "text": [
      "124/125 [============================>.] - ETA: 0s - loss: 0.4980 - accuracy: 0.8965"
     ]
    },
    {
     "name": "stderr",
     "output_type": "stream",
     "text": [
      "loc(\"mps_select\"(\"(mpsFileLoc): /AppleInternal/Library/BuildRoots/495c257e-668e-11ee-93ce-926038f30c31/Library/Caches/com.apple.xbs/Sources/MetalPerformanceShadersGraph/mpsgraph/MetalPerformanceShadersGraph/Core/Files/MPSGraphUtilities.mm\":294:0)): error: 'anec.gain_offset_control' op result #0 must be 4D/5D memref of 16-bit float or 8-bit signed integer or 8-bit unsigned integer values, but got 'memref<1x8x1x1xi1>'\n",
      "loc(\"mps_select\"(\"(mpsFileLoc): /AppleInternal/Library/BuildRoots/495c257e-668e-11ee-93ce-926038f30c31/Library/Caches/com.apple.xbs/Sources/MetalPerformanceShadersGraph/mpsgraph/MetalPerformanceShadersGraph/Core/Files/MPSGraphUtilities.mm\":294:0)): error: 'anec.gain_offset_control' op result #0 must be 4D/5D memref of 16-bit float or 8-bit signed integer or 8-bit unsigned integer values, but got 'memref<1x8x1x1xi1>'\n",
      "loc(\"mps_select\"(\"(mpsFileLoc): /AppleInternal/Library/BuildRoots/495c257e-668e-11ee-93ce-926038f30c31/Library/Caches/com.apple.xbs/Sources/MetalPerformanceShadersGraph/mpsgraph/MetalPerformanceShadersGraph/Core/Files/MPSGraphUtilities.mm\":294:0)): error: 'anec.gain_offset_control' op result #0 must be 4D/5D memref of 16-bit float or 8-bit signed integer or 8-bit unsigned integer values, but got 'memref<1x8x1x1xi1>'\n",
      "loc(\"mps_select\"(\"(mpsFileLoc): /AppleInternal/Library/BuildRoots/495c257e-668e-11ee-93ce-926038f30c31/Library/Caches/com.apple.xbs/Sources/MetalPerformanceShadersGraph/mpsgraph/MetalPerformanceShadersGraph/Core/Files/MPSGraphUtilities.mm\":294:0)): error: 'anec.gain_offset_control' op result #0 must be 4D/5D memref of 16-bit float or 8-bit signed integer or 8-bit unsigned integer values, but got 'memref<1x8x1x1xi1>'\n",
      "loc(\"mps_select\"(\"(mpsFileLoc): /AppleInternal/Library/BuildRoots/495c257e-668e-11ee-93ce-926038f30c31/Library/Caches/com.apple.xbs/Sources/MetalPerformanceShadersGraph/mpsgraph/MetalPerformanceShadersGraph/Core/Files/MPSGraphUtilities.mm\":294:0)): error: 'anec.gain_offset_control' op result #0 must be 4D/5D memref of 16-bit float or 8-bit signed integer or 8-bit unsigned integer values, but got 'memref<1x8x1x1xi1>'\n"
     ]
    },
    {
     "name": "stdout",
     "output_type": "stream",
     "text": [
      "125/125 [==============================] - ETA: 0s - loss: 0.4977 - accuracy: 0.8965"
     ]
    },
    {
     "name": "stderr",
     "output_type": "stream",
     "text": [
      "2023-11-23 14:25:27.912479: I tensorflow/core/grappler/optimizers/custom_graph_optimizer_registry.cc:113] Plugin optimizer for device_type GPU is enabled.\n",
      "loc(\"mps_select\"(\"(mpsFileLoc): /AppleInternal/Library/BuildRoots/495c257e-668e-11ee-93ce-926038f30c31/Library/Caches/com.apple.xbs/Sources/MetalPerformanceShadersGraph/mpsgraph/MetalPerformanceShadersGraph/Core/Files/MPSGraphUtilities.mm\":294:0)): error: 'anec.gain_offset_control' op result #0 must be 4D/5D memref of 16-bit float or 8-bit signed integer or 8-bit unsigned integer values, but got 'memref<1x64x1x1xi1>'\n",
      "loc(\"mps_select\"(\"(mpsFileLoc): /AppleInternal/Library/BuildRoots/495c257e-668e-11ee-93ce-926038f30c31/Library/Caches/com.apple.xbs/Sources/MetalPerformanceShadersGraph/mpsgraph/MetalPerformanceShadersGraph/Core/Files/MPSGraphUtilities.mm\":294:0)): error: 'anec.gain_offset_control' op result #0 must be 4D/5D memref of 16-bit float or 8-bit signed integer or 8-bit unsigned integer values, but got 'memref<1x64x1x1xi1>'\n"
     ]
    },
    {
     "name": "stdout",
     "output_type": "stream",
     "text": [
      "\n",
      "Epoch 1: val_accuracy improved from -inf to 0.35247, saving model to E-label_run2.h5\n"
     ]
    },
    {
     "name": "stderr",
     "output_type": "stream",
     "text": [
      "loc(\"mps_select\"(\"(mpsFileLoc): /AppleInternal/Library/BuildRoots/495c257e-668e-11ee-93ce-926038f30c31/Library/Caches/com.apple.xbs/Sources/MetalPerformanceShadersGraph/mpsgraph/MetalPerformanceShadersGraph/Core/Files/MPSGraphUtilities.mm\":294:0)): error: 'anec.gain_offset_control' op result #0 must be 4D/5D memref of 16-bit float or 8-bit signed integer or 8-bit unsigned integer values, but got 'memref<1x33x1x1xi1>'\n",
      "loc(\"mps_select\"(\"(mpsFileLoc): /AppleInternal/Library/BuildRoots/495c257e-668e-11ee-93ce-926038f30c31/Library/Caches/com.apple.xbs/Sources/MetalPerformanceShadersGraph/mpsgraph/MetalPerformanceShadersGraph/Core/Files/MPSGraphUtilities.mm\":294:0)): error: 'anec.gain_offset_control' op result #0 must be 4D/5D memref of 16-bit float or 8-bit signed integer or 8-bit unsigned integer values, but got 'memref<1x33x1x1xi1>'\n"
     ]
    },
    {
     "name": "stdout",
     "output_type": "stream",
     "text": [
      "125/125 [==============================] - 45s 339ms/step - loss: 0.4977 - accuracy: 0.8965 - val_loss: 2.7862 - val_accuracy: 0.3525\n",
      "Epoch 2/10\n",
      "125/125 [==============================] - ETA: 0s - loss: 0.1714 - accuracy: 0.9500\n",
      "Epoch 2: val_accuracy did not improve from 0.35247\n",
      "125/125 [==============================] - 39s 311ms/step - loss: 0.1714 - accuracy: 0.9500 - val_loss: 5.2255 - val_accuracy: 0.3525\n",
      "Epoch 3/10\n",
      "125/125 [==============================] - ETA: 0s - loss: 0.1527 - accuracy: 0.9534\n",
      "Epoch 3: val_accuracy did not improve from 0.35247\n",
      "125/125 [==============================] - 39s 309ms/step - loss: 0.1527 - accuracy: 0.9534 - val_loss: 0.9100 - val_accuracy: 0.3505\n",
      "Epoch 4/10\n",
      "125/125 [==============================] - ETA: 0s - loss: 0.1267 - accuracy: 0.9566\n",
      "Epoch 4: val_accuracy improved from 0.35247 to 0.35650, saving model to E-label_run2.h5\n",
      "125/125 [==============================] - 38s 304ms/step - loss: 0.1267 - accuracy: 0.9566 - val_loss: 7.8027 - val_accuracy: 0.3565\n",
      "Epoch 5/10\n",
      "125/125 [==============================] - ETA: 0s - loss: 0.1085 - accuracy: 0.9637\n",
      "Epoch 5: val_accuracy improved from 0.35650 to 0.82477, saving model to E-label_run2.h5\n",
      "125/125 [==============================] - 40s 320ms/step - loss: 0.1085 - accuracy: 0.9637 - val_loss: 0.5594 - val_accuracy: 0.8248\n",
      "Epoch 6/10\n",
      "125/125 [==============================] - ETA: 0s - loss: 0.0962 - accuracy: 0.9694\n",
      "Epoch 6: val_accuracy improved from 0.82477 to 0.96274, saving model to E-label_run2.h5\n",
      "125/125 [==============================] - 40s 316ms/step - loss: 0.0962 - accuracy: 0.9694 - val_loss: 0.1071 - val_accuracy: 0.9627\n",
      "Epoch 7/10\n",
      "125/125 [==============================] - ETA: 0s - loss: 0.0818 - accuracy: 0.9726\n",
      "Epoch 7: val_accuracy improved from 0.96274 to 0.96878, saving model to E-label_run2.h5\n",
      "125/125 [==============================] - 38s 305ms/step - loss: 0.0818 - accuracy: 0.9726 - val_loss: 0.0999 - val_accuracy: 0.9688\n",
      "Epoch 8/10\n",
      "125/125 [==============================] - ETA: 0s - loss: 0.0805 - accuracy: 0.9733\n",
      "Epoch 8: val_accuracy did not improve from 0.96878\n",
      "125/125 [==============================] - 38s 301ms/step - loss: 0.0805 - accuracy: 0.9733 - val_loss: 0.0987 - val_accuracy: 0.9648\n",
      "Epoch 9/10\n",
      "125/125 [==============================] - ETA: 0s - loss: 0.0821 - accuracy: 0.9709\n",
      "Epoch 9: val_accuracy did not improve from 0.96878\n",
      "125/125 [==============================] - 39s 308ms/step - loss: 0.0821 - accuracy: 0.9709 - val_loss: 0.1322 - val_accuracy: 0.9658\n",
      "Epoch 10/10\n",
      "125/125 [==============================] - ETA: 0s - loss: 0.0857 - accuracy: 0.9702\n",
      "Epoch 10: val_accuracy did not improve from 0.96878\n",
      "125/125 [==============================] - 38s 301ms/step - loss: 0.0857 - accuracy: 0.9702 - val_loss: 0.1313 - val_accuracy: 0.9668\n",
      "Epoch 1/10\n"
     ]
    },
    {
     "name": "stderr",
     "output_type": "stream",
     "text": [
      "2023-11-23 14:31:24.114844: I tensorflow/core/grappler/optimizers/custom_graph_optimizer_registry.cc:113] Plugin optimizer for device_type GPU is enabled.\n",
      "loc(\"mps_select\"(\"(mpsFileLoc): /AppleInternal/Library/BuildRoots/495c257e-668e-11ee-93ce-926038f30c31/Library/Caches/com.apple.xbs/Sources/MetalPerformanceShadersGraph/mpsgraph/MetalPerformanceShadersGraph/Core/Files/MPSGraphUtilities.mm\":294:0)): error: 'anec.gain_offset_control' op result #0 must be 4D/5D memref of 16-bit float or 8-bit signed integer or 8-bit unsigned integer values, but got 'memref<1x64x1x1xi1>'\n",
      "loc(\"mps_select\"(\"(mpsFileLoc): /AppleInternal/Library/BuildRoots/495c257e-668e-11ee-93ce-926038f30c31/Library/Caches/com.apple.xbs/Sources/MetalPerformanceShadersGraph/mpsgraph/MetalPerformanceShadersGraph/Core/Files/MPSGraphUtilities.mm\":294:0)): error: 'anec.gain_offset_control' op result #0 must be 4D/5D memref of 16-bit float or 8-bit signed integer or 8-bit unsigned integer values, but got 'memref<1x64x1x1xi1>'\n",
      "loc(\"mps_select\"(\"(mpsFileLoc): /AppleInternal/Library/BuildRoots/495c257e-668e-11ee-93ce-926038f30c31/Library/Caches/com.apple.xbs/Sources/MetalPerformanceShadersGraph/mpsgraph/MetalPerformanceShadersGraph/Core/Files/MPSGraphUtilities.mm\":294:0)): error: 'anec.gain_offset_control' op result #0 must be 4D/5D memref of 16-bit float or 8-bit signed integer or 8-bit unsigned integer values, but got 'memref<1x64x1x1xi1>'\n",
      "loc(\"mps_select\"(\"(mpsFileLoc): /AppleInternal/Library/BuildRoots/495c257e-668e-11ee-93ce-926038f30c31/Library/Caches/com.apple.xbs/Sources/MetalPerformanceShadersGraph/mpsgraph/MetalPerformanceShadersGraph/Core/Files/MPSGraphUtilities.mm\":294:0)): error: 'anec.gain_offset_control' op result #0 must be 4D/5D memref of 16-bit float or 8-bit signed integer or 8-bit unsigned integer values, but got 'memref<1x64x1x1xi1>'\n",
      "loc(\"mps_select\"(\"(mpsFileLoc): /AppleInternal/Library/BuildRoots/495c257e-668e-11ee-93ce-926038f30c31/Library/Caches/com.apple.xbs/Sources/MetalPerformanceShadersGraph/mpsgraph/MetalPerformanceShadersGraph/Core/Files/MPSGraphUtilities.mm\":294:0)): error: 'anec.gain_offset_control' op result #0 must be 4D/5D memref of 16-bit float or 8-bit signed integer or 8-bit unsigned integer values, but got 'memref<1x64x1x1xi1>'\n"
     ]
    },
    {
     "name": "stdout",
     "output_type": "stream",
     "text": [
      "124/125 [============================>.] - ETA: 0s - loss: 0.5446 - accuracy: 0.8933"
     ]
    },
    {
     "name": "stderr",
     "output_type": "stream",
     "text": [
      "loc(\"mps_select\"(\"(mpsFileLoc): /AppleInternal/Library/BuildRoots/495c257e-668e-11ee-93ce-926038f30c31/Library/Caches/com.apple.xbs/Sources/MetalPerformanceShadersGraph/mpsgraph/MetalPerformanceShadersGraph/Core/Files/MPSGraphUtilities.mm\":294:0)): error: 'anec.gain_offset_control' op result #0 must be 4D/5D memref of 16-bit float or 8-bit signed integer or 8-bit unsigned integer values, but got 'memref<1x8x1x1xi1>'\n",
      "loc(\"mps_select\"(\"(mpsFileLoc): /AppleInternal/Library/BuildRoots/495c257e-668e-11ee-93ce-926038f30c31/Library/Caches/com.apple.xbs/Sources/MetalPerformanceShadersGraph/mpsgraph/MetalPerformanceShadersGraph/Core/Files/MPSGraphUtilities.mm\":294:0)): error: 'anec.gain_offset_control' op result #0 must be 4D/5D memref of 16-bit float or 8-bit signed integer or 8-bit unsigned integer values, but got 'memref<1x8x1x1xi1>'\n",
      "loc(\"mps_select\"(\"(mpsFileLoc): /AppleInternal/Library/BuildRoots/495c257e-668e-11ee-93ce-926038f30c31/Library/Caches/com.apple.xbs/Sources/MetalPerformanceShadersGraph/mpsgraph/MetalPerformanceShadersGraph/Core/Files/MPSGraphUtilities.mm\":294:0)): error: 'anec.gain_offset_control' op result #0 must be 4D/5D memref of 16-bit float or 8-bit signed integer or 8-bit unsigned integer values, but got 'memref<1x8x1x1xi1>'\n",
      "loc(\"mps_select\"(\"(mpsFileLoc): /AppleInternal/Library/BuildRoots/495c257e-668e-11ee-93ce-926038f30c31/Library/Caches/com.apple.xbs/Sources/MetalPerformanceShadersGraph/mpsgraph/MetalPerformanceShadersGraph/Core/Files/MPSGraphUtilities.mm\":294:0)): error: 'anec.gain_offset_control' op result #0 must be 4D/5D memref of 16-bit float or 8-bit signed integer or 8-bit unsigned integer values, but got 'memref<1x8x1x1xi1>'\n",
      "loc(\"mps_select\"(\"(mpsFileLoc): /AppleInternal/Library/BuildRoots/495c257e-668e-11ee-93ce-926038f30c31/Library/Caches/com.apple.xbs/Sources/MetalPerformanceShadersGraph/mpsgraph/MetalPerformanceShadersGraph/Core/Files/MPSGraphUtilities.mm\":294:0)): error: 'anec.gain_offset_control' op result #0 must be 4D/5D memref of 16-bit float or 8-bit signed integer or 8-bit unsigned integer values, but got 'memref<1x8x1x1xi1>'\n"
     ]
    },
    {
     "name": "stdout",
     "output_type": "stream",
     "text": [
      "125/125 [==============================] - ETA: 0s - loss: 0.5444 - accuracy: 0.8933"
     ]
    },
    {
     "name": "stderr",
     "output_type": "stream",
     "text": [
      "2023-11-23 14:31:57.727567: I tensorflow/core/grappler/optimizers/custom_graph_optimizer_registry.cc:113] Plugin optimizer for device_type GPU is enabled.\n",
      "loc(\"mps_select\"(\"(mpsFileLoc): /AppleInternal/Library/BuildRoots/495c257e-668e-11ee-93ce-926038f30c31/Library/Caches/com.apple.xbs/Sources/MetalPerformanceShadersGraph/mpsgraph/MetalPerformanceShadersGraph/Core/Files/MPSGraphUtilities.mm\":294:0)): error: 'anec.gain_offset_control' op result #0 must be 4D/5D memref of 16-bit float or 8-bit signed integer or 8-bit unsigned integer values, but got 'memref<1x64x1x1xi1>'\n",
      "loc(\"mps_select\"(\"(mpsFileLoc): /AppleInternal/Library/BuildRoots/495c257e-668e-11ee-93ce-926038f30c31/Library/Caches/com.apple.xbs/Sources/MetalPerformanceShadersGraph/mpsgraph/MetalPerformanceShadersGraph/Core/Files/MPSGraphUtilities.mm\":294:0)): error: 'anec.gain_offset_control' op result #0 must be 4D/5D memref of 16-bit float or 8-bit signed integer or 8-bit unsigned integer values, but got 'memref<1x64x1x1xi1>'\n"
     ]
    },
    {
     "name": "stdout",
     "output_type": "stream",
     "text": [
      "\n",
      "Epoch 1: val_accuracy improved from -inf to 0.35247, saving model to E-label_run3.h5\n"
     ]
    },
    {
     "name": "stderr",
     "output_type": "stream",
     "text": [
      "loc(\"mps_select\"(\"(mpsFileLoc): /AppleInternal/Library/BuildRoots/495c257e-668e-11ee-93ce-926038f30c31/Library/Caches/com.apple.xbs/Sources/MetalPerformanceShadersGraph/mpsgraph/MetalPerformanceShadersGraph/Core/Files/MPSGraphUtilities.mm\":294:0)): error: 'anec.gain_offset_control' op result #0 must be 4D/5D memref of 16-bit float or 8-bit signed integer or 8-bit unsigned integer values, but got 'memref<1x33x1x1xi1>'\n",
      "loc(\"mps_select\"(\"(mpsFileLoc): /AppleInternal/Library/BuildRoots/495c257e-668e-11ee-93ce-926038f30c31/Library/Caches/com.apple.xbs/Sources/MetalPerformanceShadersGraph/mpsgraph/MetalPerformanceShadersGraph/Core/Files/MPSGraphUtilities.mm\":294:0)): error: 'anec.gain_offset_control' op result #0 must be 4D/5D memref of 16-bit float or 8-bit signed integer or 8-bit unsigned integer values, but got 'memref<1x33x1x1xi1>'\n"
     ]
    },
    {
     "name": "stdout",
     "output_type": "stream",
     "text": [
      "125/125 [==============================] - 37s 271ms/step - loss: 0.5444 - accuracy: 0.8933 - val_loss: 3.9193 - val_accuracy: 0.3525\n",
      "Epoch 2/10\n",
      "125/125 [==============================] - ETA: 0s - loss: 0.1544 - accuracy: 0.9523\n",
      "Epoch 2: val_accuracy did not improve from 0.35247\n",
      "125/125 [==============================] - 33s 267ms/step - loss: 0.1544 - accuracy: 0.9523 - val_loss: 1.9173 - val_accuracy: 0.3525\n",
      "Epoch 3/10\n",
      "125/125 [==============================] - ETA: 0s - loss: 0.1299 - accuracy: 0.9576\n",
      "Epoch 3: val_accuracy improved from 0.35247 to 0.35851, saving model to E-label_run3.h5\n",
      "125/125 [==============================] - 33s 262ms/step - loss: 0.1299 - accuracy: 0.9576 - val_loss: 1.6985 - val_accuracy: 0.3585\n",
      "Epoch 4/10\n",
      "125/125 [==============================] - ETA: 0s - loss: 0.0971 - accuracy: 0.9642\n",
      "Epoch 4: val_accuracy improved from 0.35851 to 0.81067, saving model to E-label_run3.h5\n",
      "125/125 [==============================] - 30s 239ms/step - loss: 0.0971 - accuracy: 0.9642 - val_loss: 0.5209 - val_accuracy: 0.8107\n",
      "Epoch 5/10\n",
      "125/125 [==============================] - ETA: 0s - loss: 0.0913 - accuracy: 0.9669\n",
      "Epoch 5: val_accuracy improved from 0.81067 to 0.83686, saving model to E-label_run3.h5\n",
      "125/125 [==============================] - 30s 242ms/step - loss: 0.0913 - accuracy: 0.9669 - val_loss: 0.5731 - val_accuracy: 0.8369\n",
      "Epoch 6/10\n",
      "125/125 [==============================] - ETA: 0s - loss: 0.0852 - accuracy: 0.9723\n",
      "Epoch 6: val_accuracy did not improve from 0.83686\n",
      "125/125 [==============================] - 43s 344ms/step - loss: 0.0852 - accuracy: 0.9723 - val_loss: 0.4320 - val_accuracy: 0.8258\n",
      "Epoch 7/10\n",
      "125/125 [==============================] - ETA: 0s - loss: 0.1059 - accuracy: 0.9668\n",
      "Epoch 7: val_accuracy improved from 0.83686 to 0.93756, saving model to E-label_run3.h5\n",
      "125/125 [==============================] - 56s 446ms/step - loss: 0.1059 - accuracy: 0.9668 - val_loss: 0.2019 - val_accuracy: 0.9376\n",
      "Epoch 8/10\n",
      "125/125 [==============================] - ETA: 0s - loss: 0.0888 - accuracy: 0.9688\n",
      "Epoch 8: val_accuracy improved from 0.93756 to 0.96878, saving model to E-label_run3.h5\n",
      "125/125 [==============================] - 61s 486ms/step - loss: 0.0888 - accuracy: 0.9688 - val_loss: 0.2429 - val_accuracy: 0.9688\n",
      "Epoch 9/10\n",
      "125/125 [==============================] - ETA: 0s - loss: 0.0859 - accuracy: 0.9721\n",
      "Epoch 9: val_accuracy did not improve from 0.96878\n",
      "125/125 [==============================] - 62s 492ms/step - loss: 0.0859 - accuracy: 0.9721 - val_loss: 0.1628 - val_accuracy: 0.9527\n",
      "Epoch 10/10\n",
      "125/125 [==============================] - ETA: 0s - loss: 0.0585 - accuracy: 0.9802\n",
      "Epoch 10: val_accuracy did not improve from 0.96878\n",
      "125/125 [==============================] - 61s 489ms/step - loss: 0.0585 - accuracy: 0.9802 - val_loss: 0.2353 - val_accuracy: 0.9275\n",
      "Epoch 1/10\n"
     ]
    },
    {
     "name": "stderr",
     "output_type": "stream",
     "text": [
      "2023-11-23 14:39:00.982809: I tensorflow/core/grappler/optimizers/custom_graph_optimizer_registry.cc:113] Plugin optimizer for device_type GPU is enabled.\n",
      "loc(\"mps_select\"(\"(mpsFileLoc): /AppleInternal/Library/BuildRoots/495c257e-668e-11ee-93ce-926038f30c31/Library/Caches/com.apple.xbs/Sources/MetalPerformanceShadersGraph/mpsgraph/MetalPerformanceShadersGraph/Core/Files/MPSGraphUtilities.mm\":294:0)): error: 'anec.gain_offset_control' op result #0 must be 4D/5D memref of 16-bit float or 8-bit signed integer or 8-bit unsigned integer values, but got 'memref<1x64x1x1xi1>'\n",
      "loc(\"mps_select\"(\"(mpsFileLoc): /AppleInternal/Library/BuildRoots/495c257e-668e-11ee-93ce-926038f30c31/Library/Caches/com.apple.xbs/Sources/MetalPerformanceShadersGraph/mpsgraph/MetalPerformanceShadersGraph/Core/Files/MPSGraphUtilities.mm\":294:0)): error: 'anec.gain_offset_control' op result #0 must be 4D/5D memref of 16-bit float or 8-bit signed integer or 8-bit unsigned integer values, but got 'memref<1x64x1x1xi1>'\n",
      "loc(\"mps_select\"(\"(mpsFileLoc): /AppleInternal/Library/BuildRoots/495c257e-668e-11ee-93ce-926038f30c31/Library/Caches/com.apple.xbs/Sources/MetalPerformanceShadersGraph/mpsgraph/MetalPerformanceShadersGraph/Core/Files/MPSGraphUtilities.mm\":294:0)): error: 'anec.gain_offset_control' op result #0 must be 4D/5D memref of 16-bit float or 8-bit signed integer or 8-bit unsigned integer values, but got 'memref<1x64x1x1xi1>'\n",
      "loc(\"mps_select\"(\"(mpsFileLoc): /AppleInternal/Library/BuildRoots/495c257e-668e-11ee-93ce-926038f30c31/Library/Caches/com.apple.xbs/Sources/MetalPerformanceShadersGraph/mpsgraph/MetalPerformanceShadersGraph/Core/Files/MPSGraphUtilities.mm\":294:0)): error: 'anec.gain_offset_control' op result #0 must be 4D/5D memref of 16-bit float or 8-bit signed integer or 8-bit unsigned integer values, but got 'memref<1x64x1x1xi1>'\n",
      "loc(\"mps_select\"(\"(mpsFileLoc): /AppleInternal/Library/BuildRoots/495c257e-668e-11ee-93ce-926038f30c31/Library/Caches/com.apple.xbs/Sources/MetalPerformanceShadersGraph/mpsgraph/MetalPerformanceShadersGraph/Core/Files/MPSGraphUtilities.mm\":294:0)): error: 'anec.gain_offset_control' op result #0 must be 4D/5D memref of 16-bit float or 8-bit signed integer or 8-bit unsigned integer values, but got 'memref<1x64x1x1xi1>'\n"
     ]
    },
    {
     "name": "stdout",
     "output_type": "stream",
     "text": [
      "124/125 [============================>.] - ETA: 0s - loss: 0.5785 - accuracy: 0.8936"
     ]
    },
    {
     "name": "stderr",
     "output_type": "stream",
     "text": [
      "loc(\"mps_select\"(\"(mpsFileLoc): /AppleInternal/Library/BuildRoots/495c257e-668e-11ee-93ce-926038f30c31/Library/Caches/com.apple.xbs/Sources/MetalPerformanceShadersGraph/mpsgraph/MetalPerformanceShadersGraph/Core/Files/MPSGraphUtilities.mm\":294:0)): error: 'anec.gain_offset_control' op result #0 must be 4D/5D memref of 16-bit float or 8-bit signed integer or 8-bit unsigned integer values, but got 'memref<1x8x1x1xi1>'\n",
      "loc(\"mps_select\"(\"(mpsFileLoc): /AppleInternal/Library/BuildRoots/495c257e-668e-11ee-93ce-926038f30c31/Library/Caches/com.apple.xbs/Sources/MetalPerformanceShadersGraph/mpsgraph/MetalPerformanceShadersGraph/Core/Files/MPSGraphUtilities.mm\":294:0)): error: 'anec.gain_offset_control' op result #0 must be 4D/5D memref of 16-bit float or 8-bit signed integer or 8-bit unsigned integer values, but got 'memref<1x8x1x1xi1>'\n",
      "loc(\"mps_select\"(\"(mpsFileLoc): /AppleInternal/Library/BuildRoots/495c257e-668e-11ee-93ce-926038f30c31/Library/Caches/com.apple.xbs/Sources/MetalPerformanceShadersGraph/mpsgraph/MetalPerformanceShadersGraph/Core/Files/MPSGraphUtilities.mm\":294:0)): error: 'anec.gain_offset_control' op result #0 must be 4D/5D memref of 16-bit float or 8-bit signed integer or 8-bit unsigned integer values, but got 'memref<1x8x1x1xi1>'\n",
      "loc(\"mps_select\"(\"(mpsFileLoc): /AppleInternal/Library/BuildRoots/495c257e-668e-11ee-93ce-926038f30c31/Library/Caches/com.apple.xbs/Sources/MetalPerformanceShadersGraph/mpsgraph/MetalPerformanceShadersGraph/Core/Files/MPSGraphUtilities.mm\":294:0)): error: 'anec.gain_offset_control' op result #0 must be 4D/5D memref of 16-bit float or 8-bit signed integer or 8-bit unsigned integer values, but got 'memref<1x8x1x1xi1>'\n",
      "loc(\"mps_select\"(\"(mpsFileLoc): /AppleInternal/Library/BuildRoots/495c257e-668e-11ee-93ce-926038f30c31/Library/Caches/com.apple.xbs/Sources/MetalPerformanceShadersGraph/mpsgraph/MetalPerformanceShadersGraph/Core/Files/MPSGraphUtilities.mm\":294:0)): error: 'anec.gain_offset_control' op result #0 must be 4D/5D memref of 16-bit float or 8-bit signed integer or 8-bit unsigned integer values, but got 'memref<1x8x1x1xi1>'\n"
     ]
    },
    {
     "name": "stdout",
     "output_type": "stream",
     "text": [
      "125/125 [==============================] - ETA: 0s - loss: 0.5780 - accuracy: 0.8938"
     ]
    },
    {
     "name": "stderr",
     "output_type": "stream",
     "text": [
      "2023-11-23 14:40:06.140844: I tensorflow/core/grappler/optimizers/custom_graph_optimizer_registry.cc:113] Plugin optimizer for device_type GPU is enabled.\n",
      "loc(\"mps_select\"(\"(mpsFileLoc): /AppleInternal/Library/BuildRoots/495c257e-668e-11ee-93ce-926038f30c31/Library/Caches/com.apple.xbs/Sources/MetalPerformanceShadersGraph/mpsgraph/MetalPerformanceShadersGraph/Core/Files/MPSGraphUtilities.mm\":294:0)): error: 'anec.gain_offset_control' op result #0 must be 4D/5D memref of 16-bit float or 8-bit signed integer or 8-bit unsigned integer values, but got 'memref<1x64x1x1xi1>'\n",
      "loc(\"mps_select\"(\"(mpsFileLoc): /AppleInternal/Library/BuildRoots/495c257e-668e-11ee-93ce-926038f30c31/Library/Caches/com.apple.xbs/Sources/MetalPerformanceShadersGraph/mpsgraph/MetalPerformanceShadersGraph/Core/Files/MPSGraphUtilities.mm\":294:0)): error: 'anec.gain_offset_control' op result #0 must be 4D/5D memref of 16-bit float or 8-bit signed integer or 8-bit unsigned integer values, but got 'memref<1x64x1x1xi1>'\n"
     ]
    },
    {
     "name": "stdout",
     "output_type": "stream",
     "text": [
      "\n",
      "Epoch 1: val_accuracy improved from -inf to 0.35247, saving model to E-label_run4.h5\n"
     ]
    },
    {
     "name": "stderr",
     "output_type": "stream",
     "text": [
      "loc(\"mps_select\"(\"(mpsFileLoc): /AppleInternal/Library/BuildRoots/495c257e-668e-11ee-93ce-926038f30c31/Library/Caches/com.apple.xbs/Sources/MetalPerformanceShadersGraph/mpsgraph/MetalPerformanceShadersGraph/Core/Files/MPSGraphUtilities.mm\":294:0)): error: 'anec.gain_offset_control' op result #0 must be 4D/5D memref of 16-bit float or 8-bit signed integer or 8-bit unsigned integer values, but got 'memref<1x33x1x1xi1>'\n",
      "loc(\"mps_select\"(\"(mpsFileLoc): /AppleInternal/Library/BuildRoots/495c257e-668e-11ee-93ce-926038f30c31/Library/Caches/com.apple.xbs/Sources/MetalPerformanceShadersGraph/mpsgraph/MetalPerformanceShadersGraph/Core/Files/MPSGraphUtilities.mm\":294:0)): error: 'anec.gain_offset_control' op result #0 must be 4D/5D memref of 16-bit float or 8-bit signed integer or 8-bit unsigned integer values, but got 'memref<1x33x1x1xi1>'\n"
     ]
    },
    {
     "name": "stdout",
     "output_type": "stream",
     "text": [
      "125/125 [==============================] - 70s 540ms/step - loss: 0.5780 - accuracy: 0.8938 - val_loss: 3.0709 - val_accuracy: 0.3525\n",
      "Epoch 2/10\n",
      "125/125 [==============================] - ETA: 0s - loss: 0.1322 - accuracy: 0.9559\n",
      "Epoch 2: val_accuracy did not improve from 0.35247\n",
      "125/125 [==============================] - 61s 490ms/step - loss: 0.1322 - accuracy: 0.9559 - val_loss: 4.1671 - val_accuracy: 0.3525\n",
      "Epoch 3/10\n",
      "125/125 [==============================] - ETA: 0s - loss: 0.1313 - accuracy: 0.9548\n",
      "Epoch 3: val_accuracy did not improve from 0.35247\n",
      "125/125 [==============================] - 41s 326ms/step - loss: 0.1313 - accuracy: 0.9548 - val_loss: 3.5627 - val_accuracy: 0.3525\n",
      "Epoch 4/10\n",
      "125/125 [==============================] - ETA: 0s - loss: 0.1215 - accuracy: 0.9597\n",
      "Epoch 4: val_accuracy improved from 0.35247 to 0.80463, saving model to E-label_run4.h5\n",
      "125/125 [==============================] - 42s 332ms/step - loss: 0.1215 - accuracy: 0.9597 - val_loss: 0.6166 - val_accuracy: 0.8046\n",
      "Epoch 5/10\n",
      "125/125 [==============================] - ETA: 0s - loss: 0.0884 - accuracy: 0.9693\n",
      "Epoch 5: val_accuracy improved from 0.80463 to 0.90433, saving model to E-label_run4.h5\n",
      "125/125 [==============================] - 41s 329ms/step - loss: 0.0884 - accuracy: 0.9693 - val_loss: 0.3159 - val_accuracy: 0.9043\n",
      "Epoch 6/10\n",
      "125/125 [==============================] - ETA: 0s - loss: 0.0737 - accuracy: 0.9734\n",
      "Epoch 6: val_accuracy did not improve from 0.90433\n",
      "125/125 [==============================] - 40s 321ms/step - loss: 0.0737 - accuracy: 0.9734 - val_loss: 0.2737 - val_accuracy: 0.8489\n",
      "Epoch 7/10\n",
      "125/125 [==============================] - ETA: 0s - loss: 0.0773 - accuracy: 0.9751\n",
      "Epoch 7: val_accuracy improved from 0.90433 to 0.91944, saving model to E-label_run4.h5\n",
      "125/125 [==============================] - 40s 317ms/step - loss: 0.0773 - accuracy: 0.9751 - val_loss: 0.2301 - val_accuracy: 0.9194\n",
      "Epoch 8/10\n",
      "125/125 [==============================] - ETA: 0s - loss: 0.0838 - accuracy: 0.9695\n",
      "Epoch 8: val_accuracy improved from 0.91944 to 0.96777, saving model to E-label_run4.h5\n",
      "125/125 [==============================] - 39s 311ms/step - loss: 0.0838 - accuracy: 0.9695 - val_loss: 0.1189 - val_accuracy: 0.9678\n",
      "Epoch 9/10\n",
      "125/125 [==============================] - ETA: 0s - loss: 0.0694 - accuracy: 0.9777\n",
      "Epoch 9: val_accuracy did not improve from 0.96777\n",
      "125/125 [==============================] - 38s 307ms/step - loss: 0.0694 - accuracy: 0.9777 - val_loss: 0.1462 - val_accuracy: 0.9517\n",
      "Epoch 10/10\n",
      "125/125 [==============================] - ETA: 0s - loss: 0.0606 - accuracy: 0.9811\n",
      "Epoch 10: val_accuracy did not improve from 0.96777\n",
      "125/125 [==============================] - 39s 311ms/step - loss: 0.0606 - accuracy: 0.9811 - val_loss: 0.1496 - val_accuracy: 0.9557\n",
      "Epoch 1/10\n"
     ]
    },
    {
     "name": "stderr",
     "output_type": "stream",
     "text": [
      "2023-11-23 14:46:44.164340: I tensorflow/core/grappler/optimizers/custom_graph_optimizer_registry.cc:113] Plugin optimizer for device_type GPU is enabled.\n",
      "loc(\"mps_select\"(\"(mpsFileLoc): /AppleInternal/Library/BuildRoots/495c257e-668e-11ee-93ce-926038f30c31/Library/Caches/com.apple.xbs/Sources/MetalPerformanceShadersGraph/mpsgraph/MetalPerformanceShadersGraph/Core/Files/MPSGraphUtilities.mm\":294:0)): error: 'anec.gain_offset_control' op result #0 must be 4D/5D memref of 16-bit float or 8-bit signed integer or 8-bit unsigned integer values, but got 'memref<1x64x1x1xi1>'\n",
      "loc(\"mps_select\"(\"(mpsFileLoc): /AppleInternal/Library/BuildRoots/495c257e-668e-11ee-93ce-926038f30c31/Library/Caches/com.apple.xbs/Sources/MetalPerformanceShadersGraph/mpsgraph/MetalPerformanceShadersGraph/Core/Files/MPSGraphUtilities.mm\":294:0)): error: 'anec.gain_offset_control' op result #0 must be 4D/5D memref of 16-bit float or 8-bit signed integer or 8-bit unsigned integer values, but got 'memref<1x64x1x1xi1>'\n",
      "loc(\"mps_select\"(\"(mpsFileLoc): /AppleInternal/Library/BuildRoots/495c257e-668e-11ee-93ce-926038f30c31/Library/Caches/com.apple.xbs/Sources/MetalPerformanceShadersGraph/mpsgraph/MetalPerformanceShadersGraph/Core/Files/MPSGraphUtilities.mm\":294:0)): error: 'anec.gain_offset_control' op result #0 must be 4D/5D memref of 16-bit float or 8-bit signed integer or 8-bit unsigned integer values, but got 'memref<1x64x1x1xi1>'\n",
      "loc(\"mps_select\"(\"(mpsFileLoc): /AppleInternal/Library/BuildRoots/495c257e-668e-11ee-93ce-926038f30c31/Library/Caches/com.apple.xbs/Sources/MetalPerformanceShadersGraph/mpsgraph/MetalPerformanceShadersGraph/Core/Files/MPSGraphUtilities.mm\":294:0)): error: 'anec.gain_offset_control' op result #0 must be 4D/5D memref of 16-bit float or 8-bit signed integer or 8-bit unsigned integer values, but got 'memref<1x64x1x1xi1>'\n",
      "loc(\"mps_select\"(\"(mpsFileLoc): /AppleInternal/Library/BuildRoots/495c257e-668e-11ee-93ce-926038f30c31/Library/Caches/com.apple.xbs/Sources/MetalPerformanceShadersGraph/mpsgraph/MetalPerformanceShadersGraph/Core/Files/MPSGraphUtilities.mm\":294:0)): error: 'anec.gain_offset_control' op result #0 must be 4D/5D memref of 16-bit float or 8-bit signed integer or 8-bit unsigned integer values, but got 'memref<1x64x1x1xi1>'\n"
     ]
    },
    {
     "name": "stdout",
     "output_type": "stream",
     "text": [
      "124/125 [============================>.] - ETA: 0s - loss: 0.4809 - accuracy: 0.8979"
     ]
    },
    {
     "name": "stderr",
     "output_type": "stream",
     "text": [
      "loc(\"mps_select\"(\"(mpsFileLoc): /AppleInternal/Library/BuildRoots/495c257e-668e-11ee-93ce-926038f30c31/Library/Caches/com.apple.xbs/Sources/MetalPerformanceShadersGraph/mpsgraph/MetalPerformanceShadersGraph/Core/Files/MPSGraphUtilities.mm\":294:0)): error: 'anec.gain_offset_control' op result #0 must be 4D/5D memref of 16-bit float or 8-bit signed integer or 8-bit unsigned integer values, but got 'memref<1x8x1x1xi1>'\n",
      "loc(\"mps_select\"(\"(mpsFileLoc): /AppleInternal/Library/BuildRoots/495c257e-668e-11ee-93ce-926038f30c31/Library/Caches/com.apple.xbs/Sources/MetalPerformanceShadersGraph/mpsgraph/MetalPerformanceShadersGraph/Core/Files/MPSGraphUtilities.mm\":294:0)): error: 'anec.gain_offset_control' op result #0 must be 4D/5D memref of 16-bit float or 8-bit signed integer or 8-bit unsigned integer values, but got 'memref<1x8x1x1xi1>'\n",
      "loc(\"mps_select\"(\"(mpsFileLoc): /AppleInternal/Library/BuildRoots/495c257e-668e-11ee-93ce-926038f30c31/Library/Caches/com.apple.xbs/Sources/MetalPerformanceShadersGraph/mpsgraph/MetalPerformanceShadersGraph/Core/Files/MPSGraphUtilities.mm\":294:0)): error: 'anec.gain_offset_control' op result #0 must be 4D/5D memref of 16-bit float or 8-bit signed integer or 8-bit unsigned integer values, but got 'memref<1x8x1x1xi1>'\n",
      "loc(\"mps_select\"(\"(mpsFileLoc): /AppleInternal/Library/BuildRoots/495c257e-668e-11ee-93ce-926038f30c31/Library/Caches/com.apple.xbs/Sources/MetalPerformanceShadersGraph/mpsgraph/MetalPerformanceShadersGraph/Core/Files/MPSGraphUtilities.mm\":294:0)): error: 'anec.gain_offset_control' op result #0 must be 4D/5D memref of 16-bit float or 8-bit signed integer or 8-bit unsigned integer values, but got 'memref<1x8x1x1xi1>'\n",
      "loc(\"mps_select\"(\"(mpsFileLoc): /AppleInternal/Library/BuildRoots/495c257e-668e-11ee-93ce-926038f30c31/Library/Caches/com.apple.xbs/Sources/MetalPerformanceShadersGraph/mpsgraph/MetalPerformanceShadersGraph/Core/Files/MPSGraphUtilities.mm\":294:0)): error: 'anec.gain_offset_control' op result #0 must be 4D/5D memref of 16-bit float or 8-bit signed integer or 8-bit unsigned integer values, but got 'memref<1x8x1x1xi1>'\n"
     ]
    },
    {
     "name": "stdout",
     "output_type": "stream",
     "text": [
      "125/125 [==============================] - ETA: 0s - loss: 0.4806 - accuracy: 0.8979"
     ]
    },
    {
     "name": "stderr",
     "output_type": "stream",
     "text": [
      "2023-11-23 14:47:15.297884: I tensorflow/core/grappler/optimizers/custom_graph_optimizer_registry.cc:113] Plugin optimizer for device_type GPU is enabled.\n",
      "loc(\"mps_select\"(\"(mpsFileLoc): /AppleInternal/Library/BuildRoots/495c257e-668e-11ee-93ce-926038f30c31/Library/Caches/com.apple.xbs/Sources/MetalPerformanceShadersGraph/mpsgraph/MetalPerformanceShadersGraph/Core/Files/MPSGraphUtilities.mm\":294:0)): error: 'anec.gain_offset_control' op result #0 must be 4D/5D memref of 16-bit float or 8-bit signed integer or 8-bit unsigned integer values, but got 'memref<1x64x1x1xi1>'\n",
      "loc(\"mps_select\"(\"(mpsFileLoc): /AppleInternal/Library/BuildRoots/495c257e-668e-11ee-93ce-926038f30c31/Library/Caches/com.apple.xbs/Sources/MetalPerformanceShadersGraph/mpsgraph/MetalPerformanceShadersGraph/Core/Files/MPSGraphUtilities.mm\":294:0)): error: 'anec.gain_offset_control' op result #0 must be 4D/5D memref of 16-bit float or 8-bit signed integer or 8-bit unsigned integer values, but got 'memref<1x64x1x1xi1>'\n"
     ]
    },
    {
     "name": "stdout",
     "output_type": "stream",
     "text": [
      "\n",
      "Epoch 1: val_accuracy improved from -inf to 0.35247, saving model to E-label_run5.h5\n"
     ]
    },
    {
     "name": "stderr",
     "output_type": "stream",
     "text": [
      "loc(\"mps_select\"(\"(mpsFileLoc): /AppleInternal/Library/BuildRoots/495c257e-668e-11ee-93ce-926038f30c31/Library/Caches/com.apple.xbs/Sources/MetalPerformanceShadersGraph/mpsgraph/MetalPerformanceShadersGraph/Core/Files/MPSGraphUtilities.mm\":294:0)): error: 'anec.gain_offset_control' op result #0 must be 4D/5D memref of 16-bit float or 8-bit signed integer or 8-bit unsigned integer values, but got 'memref<1x33x1x1xi1>'\n",
      "loc(\"mps_select\"(\"(mpsFileLoc): /AppleInternal/Library/BuildRoots/495c257e-668e-11ee-93ce-926038f30c31/Library/Caches/com.apple.xbs/Sources/MetalPerformanceShadersGraph/mpsgraph/MetalPerformanceShadersGraph/Core/Files/MPSGraphUtilities.mm\":294:0)): error: 'anec.gain_offset_control' op result #0 must be 4D/5D memref of 16-bit float or 8-bit signed integer or 8-bit unsigned integer values, but got 'memref<1x33x1x1xi1>'\n"
     ]
    },
    {
     "name": "stdout",
     "output_type": "stream",
     "text": [
      "125/125 [==============================] - 36s 251ms/step - loss: 0.4806 - accuracy: 0.8979 - val_loss: 28.5993 - val_accuracy: 0.3525\n",
      "Epoch 2/10\n",
      "125/125 [==============================] - ETA: 0s - loss: 0.1636 - accuracy: 0.9494\n",
      "Epoch 2: val_accuracy did not improve from 0.35247\n",
      "125/125 [==============================] - 30s 243ms/step - loss: 0.1636 - accuracy: 0.9494 - val_loss: 3.0530 - val_accuracy: 0.3525\n",
      "Epoch 3/10\n",
      "125/125 [==============================] - ETA: 0s - loss: 0.1237 - accuracy: 0.9580\n",
      "Epoch 3: val_accuracy did not improve from 0.35247\n",
      "125/125 [==============================] - 31s 250ms/step - loss: 0.1237 - accuracy: 0.9580 - val_loss: 3.4902 - val_accuracy: 0.3525\n",
      "Epoch 4/10\n",
      "125/125 [==============================] - ETA: 0s - loss: 0.1005 - accuracy: 0.9660\n",
      "Epoch 4: val_accuracy did not improve from 0.35247\n",
      "125/125 [==============================] - 32s 258ms/step - loss: 0.1005 - accuracy: 0.9660 - val_loss: 1.4795 - val_accuracy: 0.3525\n",
      "Epoch 5/10\n",
      "125/125 [==============================] - ETA: 0s - loss: 0.0830 - accuracy: 0.9704\n",
      "Epoch 5: val_accuracy improved from 0.35247 to 0.35549, saving model to E-label_run5.h5\n",
      "125/125 [==============================] - 33s 260ms/step - loss: 0.0830 - accuracy: 0.9704 - val_loss: 3.6865 - val_accuracy: 0.3555\n",
      "Epoch 6/10\n",
      "125/125 [==============================] - ETA: 0s - loss: 0.0712 - accuracy: 0.9746\n",
      "Epoch 6: val_accuracy improved from 0.35549 to 0.95166, saving model to E-label_run5.h5\n",
      "125/125 [==============================] - 31s 247ms/step - loss: 0.0712 - accuracy: 0.9746 - val_loss: 0.1576 - val_accuracy: 0.9517\n",
      "Epoch 7/10\n",
      "125/125 [==============================] - ETA: 0s - loss: 0.0632 - accuracy: 0.9771\n",
      "Epoch 7: val_accuracy did not improve from 0.95166\n",
      "125/125 [==============================] - 31s 247ms/step - loss: 0.0632 - accuracy: 0.9771 - val_loss: 0.1724 - val_accuracy: 0.9507\n",
      "Epoch 8/10\n",
      "125/125 [==============================] - ETA: 0s - loss: 0.0804 - accuracy: 0.9717\n",
      "Epoch 8: val_accuracy did not improve from 0.95166\n",
      "125/125 [==============================] - 31s 246ms/step - loss: 0.0804 - accuracy: 0.9717 - val_loss: 0.4243 - val_accuracy: 0.8107\n",
      "Epoch 9/10\n",
      "125/125 [==============================] - ETA: 0s - loss: 0.0509 - accuracy: 0.9826\n",
      "Epoch 9: val_accuracy did not improve from 0.95166\n",
      "125/125 [==============================] - 31s 244ms/step - loss: 0.0509 - accuracy: 0.9826 - val_loss: 0.3357 - val_accuracy: 0.9305\n",
      "Epoch 10/10\n",
      "125/125 [==============================] - ETA: 0s - loss: 0.0475 - accuracy: 0.9830\n",
      "Epoch 10: val_accuracy did not improve from 0.95166\n",
      "125/125 [==============================] - 32s 253ms/step - loss: 0.0475 - accuracy: 0.9830 - val_loss: 0.3507 - val_accuracy: 0.9003\n",
      "Epoch 1/10\n"
     ]
    },
    {
     "name": "stderr",
     "output_type": "stream",
     "text": [
      "2023-11-23 14:52:03.193699: I tensorflow/core/grappler/optimizers/custom_graph_optimizer_registry.cc:113] Plugin optimizer for device_type GPU is enabled.\n",
      "loc(\"mps_select\"(\"(mpsFileLoc): /AppleInternal/Library/BuildRoots/495c257e-668e-11ee-93ce-926038f30c31/Library/Caches/com.apple.xbs/Sources/MetalPerformanceShadersGraph/mpsgraph/MetalPerformanceShadersGraph/Core/Files/MPSGraphUtilities.mm\":294:0)): error: 'anec.gain_offset_control' op result #0 must be 4D/5D memref of 16-bit float or 8-bit signed integer or 8-bit unsigned integer values, but got 'memref<1x64x1x1xi1>'\n",
      "loc(\"mps_select\"(\"(mpsFileLoc): /AppleInternal/Library/BuildRoots/495c257e-668e-11ee-93ce-926038f30c31/Library/Caches/com.apple.xbs/Sources/MetalPerformanceShadersGraph/mpsgraph/MetalPerformanceShadersGraph/Core/Files/MPSGraphUtilities.mm\":294:0)): error: 'anec.gain_offset_control' op result #0 must be 4D/5D memref of 16-bit float or 8-bit signed integer or 8-bit unsigned integer values, but got 'memref<1x64x1x1xi1>'\n",
      "loc(\"mps_select\"(\"(mpsFileLoc): /AppleInternal/Library/BuildRoots/495c257e-668e-11ee-93ce-926038f30c31/Library/Caches/com.apple.xbs/Sources/MetalPerformanceShadersGraph/mpsgraph/MetalPerformanceShadersGraph/Core/Files/MPSGraphUtilities.mm\":294:0)): error: 'anec.gain_offset_control' op result #0 must be 4D/5D memref of 16-bit float or 8-bit signed integer or 8-bit unsigned integer values, but got 'memref<1x64x1x1xi1>'\n",
      "loc(\"mps_select\"(\"(mpsFileLoc): /AppleInternal/Library/BuildRoots/495c257e-668e-11ee-93ce-926038f30c31/Library/Caches/com.apple.xbs/Sources/MetalPerformanceShadersGraph/mpsgraph/MetalPerformanceShadersGraph/Core/Files/MPSGraphUtilities.mm\":294:0)): error: 'anec.gain_offset_control' op result #0 must be 4D/5D memref of 16-bit float or 8-bit signed integer or 8-bit unsigned integer values, but got 'memref<1x64x1x1xi1>'\n",
      "loc(\"mps_select\"(\"(mpsFileLoc): /AppleInternal/Library/BuildRoots/495c257e-668e-11ee-93ce-926038f30c31/Library/Caches/com.apple.xbs/Sources/MetalPerformanceShadersGraph/mpsgraph/MetalPerformanceShadersGraph/Core/Files/MPSGraphUtilities.mm\":294:0)): error: 'anec.gain_offset_control' op result #0 must be 4D/5D memref of 16-bit float or 8-bit signed integer or 8-bit unsigned integer values, but got 'memref<1x64x1x1xi1>'\n"
     ]
    },
    {
     "name": "stdout",
     "output_type": "stream",
     "text": [
      "124/125 [============================>.] - ETA: 0s - loss: 0.5487 - accuracy: 0.8967"
     ]
    },
    {
     "name": "stderr",
     "output_type": "stream",
     "text": [
      "loc(\"mps_select\"(\"(mpsFileLoc): /AppleInternal/Library/BuildRoots/495c257e-668e-11ee-93ce-926038f30c31/Library/Caches/com.apple.xbs/Sources/MetalPerformanceShadersGraph/mpsgraph/MetalPerformanceShadersGraph/Core/Files/MPSGraphUtilities.mm\":294:0)): error: 'anec.gain_offset_control' op result #0 must be 4D/5D memref of 16-bit float or 8-bit signed integer or 8-bit unsigned integer values, but got 'memref<1x8x1x1xi1>'\n",
      "loc(\"mps_select\"(\"(mpsFileLoc): /AppleInternal/Library/BuildRoots/495c257e-668e-11ee-93ce-926038f30c31/Library/Caches/com.apple.xbs/Sources/MetalPerformanceShadersGraph/mpsgraph/MetalPerformanceShadersGraph/Core/Files/MPSGraphUtilities.mm\":294:0)): error: 'anec.gain_offset_control' op result #0 must be 4D/5D memref of 16-bit float or 8-bit signed integer or 8-bit unsigned integer values, but got 'memref<1x8x1x1xi1>'\n",
      "loc(\"mps_select\"(\"(mpsFileLoc): /AppleInternal/Library/BuildRoots/495c257e-668e-11ee-93ce-926038f30c31/Library/Caches/com.apple.xbs/Sources/MetalPerformanceShadersGraph/mpsgraph/MetalPerformanceShadersGraph/Core/Files/MPSGraphUtilities.mm\":294:0)): error: 'anec.gain_offset_control' op result #0 must be 4D/5D memref of 16-bit float or 8-bit signed integer or 8-bit unsigned integer values, but got 'memref<1x8x1x1xi1>'\n",
      "loc(\"mps_select\"(\"(mpsFileLoc): /AppleInternal/Library/BuildRoots/495c257e-668e-11ee-93ce-926038f30c31/Library/Caches/com.apple.xbs/Sources/MetalPerformanceShadersGraph/mpsgraph/MetalPerformanceShadersGraph/Core/Files/MPSGraphUtilities.mm\":294:0)): error: 'anec.gain_offset_control' op result #0 must be 4D/5D memref of 16-bit float or 8-bit signed integer or 8-bit unsigned integer values, but got 'memref<1x8x1x1xi1>'\n",
      "loc(\"mps_select\"(\"(mpsFileLoc): /AppleInternal/Library/BuildRoots/495c257e-668e-11ee-93ce-926038f30c31/Library/Caches/com.apple.xbs/Sources/MetalPerformanceShadersGraph/mpsgraph/MetalPerformanceShadersGraph/Core/Files/MPSGraphUtilities.mm\":294:0)): error: 'anec.gain_offset_control' op result #0 must be 4D/5D memref of 16-bit float or 8-bit signed integer or 8-bit unsigned integer values, but got 'memref<1x8x1x1xi1>'\n"
     ]
    },
    {
     "name": "stdout",
     "output_type": "stream",
     "text": [
      "125/125 [==============================] - ETA: 0s - loss: 0.5482 - accuracy: 0.8968"
     ]
    },
    {
     "name": "stderr",
     "output_type": "stream",
     "text": [
      "2023-11-23 14:52:43.177354: I tensorflow/core/grappler/optimizers/custom_graph_optimizer_registry.cc:113] Plugin optimizer for device_type GPU is enabled.\n",
      "loc(\"mps_select\"(\"(mpsFileLoc): /AppleInternal/Library/BuildRoots/495c257e-668e-11ee-93ce-926038f30c31/Library/Caches/com.apple.xbs/Sources/MetalPerformanceShadersGraph/mpsgraph/MetalPerformanceShadersGraph/Core/Files/MPSGraphUtilities.mm\":294:0)): error: 'anec.gain_offset_control' op result #0 must be 4D/5D memref of 16-bit float or 8-bit signed integer or 8-bit unsigned integer values, but got 'memref<1x64x1x1xi1>'\n",
      "loc(\"mps_select\"(\"(mpsFileLoc): /AppleInternal/Library/BuildRoots/495c257e-668e-11ee-93ce-926038f30c31/Library/Caches/com.apple.xbs/Sources/MetalPerformanceShadersGraph/mpsgraph/MetalPerformanceShadersGraph/Core/Files/MPSGraphUtilities.mm\":294:0)): error: 'anec.gain_offset_control' op result #0 must be 4D/5D memref of 16-bit float or 8-bit signed integer or 8-bit unsigned integer values, but got 'memref<1x64x1x1xi1>'\n"
     ]
    },
    {
     "name": "stdout",
     "output_type": "stream",
     "text": [
      "\n",
      "Epoch 1: val_accuracy improved from -inf to 0.35247, saving model to E-label_run6.h5\n"
     ]
    },
    {
     "name": "stderr",
     "output_type": "stream",
     "text": [
      "loc(\"mps_select\"(\"(mpsFileLoc): /AppleInternal/Library/BuildRoots/495c257e-668e-11ee-93ce-926038f30c31/Library/Caches/com.apple.xbs/Sources/MetalPerformanceShadersGraph/mpsgraph/MetalPerformanceShadersGraph/Core/Files/MPSGraphUtilities.mm\":294:0)): error: 'anec.gain_offset_control' op result #0 must be 4D/5D memref of 16-bit float or 8-bit signed integer or 8-bit unsigned integer values, but got 'memref<1x33x1x1xi1>'\n",
      "loc(\"mps_select\"(\"(mpsFileLoc): /AppleInternal/Library/BuildRoots/495c257e-668e-11ee-93ce-926038f30c31/Library/Caches/com.apple.xbs/Sources/MetalPerformanceShadersGraph/mpsgraph/MetalPerformanceShadersGraph/Core/Files/MPSGraphUtilities.mm\":294:0)): error: 'anec.gain_offset_control' op result #0 must be 4D/5D memref of 16-bit float or 8-bit signed integer or 8-bit unsigned integer values, but got 'memref<1x33x1x1xi1>'\n"
     ]
    },
    {
     "name": "stdout",
     "output_type": "stream",
     "text": [
      "125/125 [==============================] - 44s 335ms/step - loss: 0.5482 - accuracy: 0.8968 - val_loss: 2.2178 - val_accuracy: 0.3525\n",
      "Epoch 2/10\n",
      "125/125 [==============================] - ETA: 0s - loss: 0.1439 - accuracy: 0.9525\n",
      "Epoch 2: val_accuracy did not improve from 0.35247\n",
      "125/125 [==============================] - 40s 316ms/step - loss: 0.1439 - accuracy: 0.9525 - val_loss: 5.0638 - val_accuracy: 0.3525\n",
      "Epoch 3/10\n",
      "125/125 [==============================] - ETA: 0s - loss: 0.1222 - accuracy: 0.9585\n",
      "Epoch 3: val_accuracy improved from 0.35247 to 0.48842, saving model to E-label_run6.h5\n",
      "125/125 [==============================] - 40s 323ms/step - loss: 0.1222 - accuracy: 0.9585 - val_loss: 1.3653 - val_accuracy: 0.4884\n",
      "Epoch 4/10\n",
      "125/125 [==============================] - ETA: 0s - loss: 0.0997 - accuracy: 0.9665\n",
      "Epoch 4: val_accuracy improved from 0.48842 to 0.50453, saving model to E-label_run6.h5\n",
      "125/125 [==============================] - 39s 315ms/step - loss: 0.0997 - accuracy: 0.9665 - val_loss: 1.6574 - val_accuracy: 0.5045\n",
      "Epoch 5/10\n",
      "125/125 [==============================] - ETA: 0s - loss: 0.1019 - accuracy: 0.9673\n",
      "Epoch 5: val_accuracy improved from 0.50453 to 0.86002, saving model to E-label_run6.h5\n",
      "125/125 [==============================] - 39s 312ms/step - loss: 0.1019 - accuracy: 0.9673 - val_loss: 1.0028 - val_accuracy: 0.8600\n",
      "Epoch 6/10\n",
      "125/125 [==============================] - ETA: 0s - loss: 0.1103 - accuracy: 0.9627\n",
      "Epoch 6: val_accuracy did not improve from 0.86002\n",
      "125/125 [==============================] - 39s 314ms/step - loss: 0.1103 - accuracy: 0.9627 - val_loss: 5.6470 - val_accuracy: 0.7583\n",
      "Epoch 7/10\n",
      "125/125 [==============================] - ETA: 0s - loss: 0.1274 - accuracy: 0.9564\n",
      "Epoch 7: val_accuracy improved from 0.86002 to 0.93857, saving model to E-label_run6.h5\n",
      "125/125 [==============================] - 39s 313ms/step - loss: 0.1274 - accuracy: 0.9564 - val_loss: 0.2358 - val_accuracy: 0.9386\n",
      "Epoch 8/10\n",
      "125/125 [==============================] - ETA: 0s - loss: 0.1084 - accuracy: 0.9634\n",
      "Epoch 8: val_accuracy improved from 0.93857 to 0.95166, saving model to E-label_run6.h5\n",
      "125/125 [==============================] - 39s 315ms/step - loss: 0.1084 - accuracy: 0.9634 - val_loss: 0.1191 - val_accuracy: 0.9517\n",
      "Epoch 9/10\n",
      "125/125 [==============================] - ETA: 0s - loss: 0.0916 - accuracy: 0.9674\n",
      "Epoch 9: val_accuracy improved from 0.95166 to 0.95871, saving model to E-label_run6.h5\n",
      "125/125 [==============================] - 40s 317ms/step - loss: 0.0916 - accuracy: 0.9674 - val_loss: 0.1758 - val_accuracy: 0.9587\n",
      "Epoch 10/10\n",
      "125/125 [==============================] - ETA: 0s - loss: 0.0782 - accuracy: 0.9738\n",
      "Epoch 10: val_accuracy did not improve from 0.95871\n",
      "125/125 [==============================] - 39s 314ms/step - loss: 0.0782 - accuracy: 0.9738 - val_loss: 0.1112 - val_accuracy: 0.9577\n",
      "Epoch 1/10\n"
     ]
    },
    {
     "name": "stderr",
     "output_type": "stream",
     "text": [
      "2023-11-23 14:58:46.270995: I tensorflow/core/grappler/optimizers/custom_graph_optimizer_registry.cc:113] Plugin optimizer for device_type GPU is enabled.\n",
      "loc(\"mps_select\"(\"(mpsFileLoc): /AppleInternal/Library/BuildRoots/495c257e-668e-11ee-93ce-926038f30c31/Library/Caches/com.apple.xbs/Sources/MetalPerformanceShadersGraph/mpsgraph/MetalPerformanceShadersGraph/Core/Files/MPSGraphUtilities.mm\":294:0)): error: 'anec.gain_offset_control' op result #0 must be 4D/5D memref of 16-bit float or 8-bit signed integer or 8-bit unsigned integer values, but got 'memref<1x64x1x1xi1>'\n",
      "loc(\"mps_select\"(\"(mpsFileLoc): /AppleInternal/Library/BuildRoots/495c257e-668e-11ee-93ce-926038f30c31/Library/Caches/com.apple.xbs/Sources/MetalPerformanceShadersGraph/mpsgraph/MetalPerformanceShadersGraph/Core/Files/MPSGraphUtilities.mm\":294:0)): error: 'anec.gain_offset_control' op result #0 must be 4D/5D memref of 16-bit float or 8-bit signed integer or 8-bit unsigned integer values, but got 'memref<1x64x1x1xi1>'\n",
      "loc(\"mps_select\"(\"(mpsFileLoc): /AppleInternal/Library/BuildRoots/495c257e-668e-11ee-93ce-926038f30c31/Library/Caches/com.apple.xbs/Sources/MetalPerformanceShadersGraph/mpsgraph/MetalPerformanceShadersGraph/Core/Files/MPSGraphUtilities.mm\":294:0)): error: 'anec.gain_offset_control' op result #0 must be 4D/5D memref of 16-bit float or 8-bit signed integer or 8-bit unsigned integer values, but got 'memref<1x64x1x1xi1>'\n",
      "loc(\"mps_select\"(\"(mpsFileLoc): /AppleInternal/Library/BuildRoots/495c257e-668e-11ee-93ce-926038f30c31/Library/Caches/com.apple.xbs/Sources/MetalPerformanceShadersGraph/mpsgraph/MetalPerformanceShadersGraph/Core/Files/MPSGraphUtilities.mm\":294:0)): error: 'anec.gain_offset_control' op result #0 must be 4D/5D memref of 16-bit float or 8-bit signed integer or 8-bit unsigned integer values, but got 'memref<1x64x1x1xi1>'\n",
      "loc(\"mps_select\"(\"(mpsFileLoc): /AppleInternal/Library/BuildRoots/495c257e-668e-11ee-93ce-926038f30c31/Library/Caches/com.apple.xbs/Sources/MetalPerformanceShadersGraph/mpsgraph/MetalPerformanceShadersGraph/Core/Files/MPSGraphUtilities.mm\":294:0)): error: 'anec.gain_offset_control' op result #0 must be 4D/5D memref of 16-bit float or 8-bit signed integer or 8-bit unsigned integer values, but got 'memref<1x64x1x1xi1>'\n"
     ]
    },
    {
     "name": "stdout",
     "output_type": "stream",
     "text": [
      "124/125 [============================>.] - ETA: 0s - loss: 0.4360 - accuracy: 0.9066"
     ]
    },
    {
     "name": "stderr",
     "output_type": "stream",
     "text": [
      "loc(\"mps_select\"(\"(mpsFileLoc): /AppleInternal/Library/BuildRoots/495c257e-668e-11ee-93ce-926038f30c31/Library/Caches/com.apple.xbs/Sources/MetalPerformanceShadersGraph/mpsgraph/MetalPerformanceShadersGraph/Core/Files/MPSGraphUtilities.mm\":294:0)): error: 'anec.gain_offset_control' op result #0 must be 4D/5D memref of 16-bit float or 8-bit signed integer or 8-bit unsigned integer values, but got 'memref<1x8x1x1xi1>'\n",
      "loc(\"mps_select\"(\"(mpsFileLoc): /AppleInternal/Library/BuildRoots/495c257e-668e-11ee-93ce-926038f30c31/Library/Caches/com.apple.xbs/Sources/MetalPerformanceShadersGraph/mpsgraph/MetalPerformanceShadersGraph/Core/Files/MPSGraphUtilities.mm\":294:0)): error: 'anec.gain_offset_control' op result #0 must be 4D/5D memref of 16-bit float or 8-bit signed integer or 8-bit unsigned integer values, but got 'memref<1x8x1x1xi1>'\n",
      "loc(\"mps_select\"(\"(mpsFileLoc): /AppleInternal/Library/BuildRoots/495c257e-668e-11ee-93ce-926038f30c31/Library/Caches/com.apple.xbs/Sources/MetalPerformanceShadersGraph/mpsgraph/MetalPerformanceShadersGraph/Core/Files/MPSGraphUtilities.mm\":294:0)): error: 'anec.gain_offset_control' op result #0 must be 4D/5D memref of 16-bit float or 8-bit signed integer or 8-bit unsigned integer values, but got 'memref<1x8x1x1xi1>'\n",
      "loc(\"mps_select\"(\"(mpsFileLoc): /AppleInternal/Library/BuildRoots/495c257e-668e-11ee-93ce-926038f30c31/Library/Caches/com.apple.xbs/Sources/MetalPerformanceShadersGraph/mpsgraph/MetalPerformanceShadersGraph/Core/Files/MPSGraphUtilities.mm\":294:0)): error: 'anec.gain_offset_control' op result #0 must be 4D/5D memref of 16-bit float or 8-bit signed integer or 8-bit unsigned integer values, but got 'memref<1x8x1x1xi1>'\n",
      "loc(\"mps_select\"(\"(mpsFileLoc): /AppleInternal/Library/BuildRoots/495c257e-668e-11ee-93ce-926038f30c31/Library/Caches/com.apple.xbs/Sources/MetalPerformanceShadersGraph/mpsgraph/MetalPerformanceShadersGraph/Core/Files/MPSGraphUtilities.mm\":294:0)): error: 'anec.gain_offset_control' op result #0 must be 4D/5D memref of 16-bit float or 8-bit signed integer or 8-bit unsigned integer values, but got 'memref<1x8x1x1xi1>'\n"
     ]
    },
    {
     "name": "stdout",
     "output_type": "stream",
     "text": [
      "125/125 [==============================] - ETA: 0s - loss: 0.4357 - accuracy: 0.9067"
     ]
    },
    {
     "name": "stderr",
     "output_type": "stream",
     "text": [
      "2023-11-23 14:59:31.220802: I tensorflow/core/grappler/optimizers/custom_graph_optimizer_registry.cc:113] Plugin optimizer for device_type GPU is enabled.\n",
      "loc(\"mps_select\"(\"(mpsFileLoc): /AppleInternal/Library/BuildRoots/495c257e-668e-11ee-93ce-926038f30c31/Library/Caches/com.apple.xbs/Sources/MetalPerformanceShadersGraph/mpsgraph/MetalPerformanceShadersGraph/Core/Files/MPSGraphUtilities.mm\":294:0)): error: 'anec.gain_offset_control' op result #0 must be 4D/5D memref of 16-bit float or 8-bit signed integer or 8-bit unsigned integer values, but got 'memref<1x64x1x1xi1>'\n",
      "loc(\"mps_select\"(\"(mpsFileLoc): /AppleInternal/Library/BuildRoots/495c257e-668e-11ee-93ce-926038f30c31/Library/Caches/com.apple.xbs/Sources/MetalPerformanceShadersGraph/mpsgraph/MetalPerformanceShadersGraph/Core/Files/MPSGraphUtilities.mm\":294:0)): error: 'anec.gain_offset_control' op result #0 must be 4D/5D memref of 16-bit float or 8-bit signed integer or 8-bit unsigned integer values, but got 'memref<1x64x1x1xi1>'\n"
     ]
    },
    {
     "name": "stdout",
     "output_type": "stream",
     "text": [
      "\n",
      "Epoch 1: val_accuracy improved from -inf to 0.35247, saving model to E-label_run7.h5\n"
     ]
    },
    {
     "name": "stderr",
     "output_type": "stream",
     "text": [
      "loc(\"mps_select\"(\"(mpsFileLoc): /AppleInternal/Library/BuildRoots/495c257e-668e-11ee-93ce-926038f30c31/Library/Caches/com.apple.xbs/Sources/MetalPerformanceShadersGraph/mpsgraph/MetalPerformanceShadersGraph/Core/Files/MPSGraphUtilities.mm\":294:0)): error: 'anec.gain_offset_control' op result #0 must be 4D/5D memref of 16-bit float or 8-bit signed integer or 8-bit unsigned integer values, but got 'memref<1x33x1x1xi1>'\n",
      "loc(\"mps_select\"(\"(mpsFileLoc): /AppleInternal/Library/BuildRoots/495c257e-668e-11ee-93ce-926038f30c31/Library/Caches/com.apple.xbs/Sources/MetalPerformanceShadersGraph/mpsgraph/MetalPerformanceShadersGraph/Core/Files/MPSGraphUtilities.mm\":294:0)): error: 'anec.gain_offset_control' op result #0 must be 4D/5D memref of 16-bit float or 8-bit signed integer or 8-bit unsigned integer values, but got 'memref<1x33x1x1xi1>'\n"
     ]
    },
    {
     "name": "stdout",
     "output_type": "stream",
     "text": [
      "125/125 [==============================] - 48s 362ms/step - loss: 0.4357 - accuracy: 0.9067 - val_loss: 3.0059 - val_accuracy: 0.3525\n",
      "Epoch 2/10\n",
      "125/125 [==============================] - ETA: 0s - loss: 0.1420 - accuracy: 0.9514\n",
      "Epoch 2: val_accuracy did not improve from 0.35247\n",
      "125/125 [==============================] - 31s 246ms/step - loss: 0.1420 - accuracy: 0.9514 - val_loss: 4.5763 - val_accuracy: 0.3525\n",
      "Epoch 3/10\n",
      "125/125 [==============================] - ETA: 0s - loss: 0.1190 - accuracy: 0.9619\n",
      "Epoch 3: val_accuracy improved from 0.35247 to 0.36354, saving model to E-label_run7.h5\n",
      "125/125 [==============================] - 31s 249ms/step - loss: 0.1190 - accuracy: 0.9619 - val_loss: 4.2151 - val_accuracy: 0.3635\n",
      "Epoch 4/10\n",
      "125/125 [==============================] - ETA: 0s - loss: 0.1233 - accuracy: 0.9601\n",
      "Epoch 4: val_accuracy improved from 0.36354 to 0.82377, saving model to E-label_run7.h5\n",
      "125/125 [==============================] - 31s 248ms/step - loss: 0.1233 - accuracy: 0.9601 - val_loss: 0.4228 - val_accuracy: 0.8238\n",
      "Epoch 5/10\n",
      "125/125 [==============================] - ETA: 0s - loss: 0.1084 - accuracy: 0.9621\n",
      "Epoch 5: val_accuracy improved from 0.82377 to 0.94260, saving model to E-label_run7.h5\n",
      "125/125 [==============================] - 31s 249ms/step - loss: 0.1084 - accuracy: 0.9621 - val_loss: 0.2824 - val_accuracy: 0.9426\n",
      "Epoch 6/10\n",
      "125/125 [==============================] - ETA: 0s - loss: 0.0959 - accuracy: 0.9660\n",
      "Epoch 6: val_accuracy improved from 0.94260 to 0.95670, saving model to E-label_run7.h5\n",
      "125/125 [==============================] - 31s 249ms/step - loss: 0.0959 - accuracy: 0.9660 - val_loss: 0.2093 - val_accuracy: 0.9567\n",
      "Epoch 7/10\n",
      "125/125 [==============================] - ETA: 0s - loss: 0.0798 - accuracy: 0.9729\n",
      "Epoch 7: val_accuracy did not improve from 0.95670\n",
      "125/125 [==============================] - 31s 247ms/step - loss: 0.0798 - accuracy: 0.9729 - val_loss: 0.3816 - val_accuracy: 0.9235\n",
      "Epoch 8/10\n",
      "125/125 [==============================] - ETA: 0s - loss: 0.0875 - accuracy: 0.9761\n",
      "Epoch 8: val_accuracy did not improve from 0.95670\n",
      "125/125 [==============================] - 31s 247ms/step - loss: 0.0875 - accuracy: 0.9761 - val_loss: 0.2492 - val_accuracy: 0.9537\n",
      "Epoch 9/10\n",
      "125/125 [==============================] - ETA: 0s - loss: 0.0671 - accuracy: 0.9773\n",
      "Epoch 9: val_accuracy did not improve from 0.95670\n",
      "125/125 [==============================] - 31s 247ms/step - loss: 0.0671 - accuracy: 0.9773 - val_loss: 0.1815 - val_accuracy: 0.9527\n",
      "Epoch 10/10\n",
      "125/125 [==============================] - ETA: 0s - loss: 0.0568 - accuracy: 0.9795\n",
      "Epoch 10: val_accuracy did not improve from 0.95670\n",
      "125/125 [==============================] - 31s 245ms/step - loss: 0.0568 - accuracy: 0.9795 - val_loss: 0.1370 - val_accuracy: 0.9567\n",
      "Epoch 1/10\n"
     ]
    },
    {
     "name": "stderr",
     "output_type": "stream",
     "text": [
      "2023-11-23 15:04:16.231778: I tensorflow/core/grappler/optimizers/custom_graph_optimizer_registry.cc:113] Plugin optimizer for device_type GPU is enabled.\n",
      "loc(\"mps_select\"(\"(mpsFileLoc): /AppleInternal/Library/BuildRoots/495c257e-668e-11ee-93ce-926038f30c31/Library/Caches/com.apple.xbs/Sources/MetalPerformanceShadersGraph/mpsgraph/MetalPerformanceShadersGraph/Core/Files/MPSGraphUtilities.mm\":294:0)): error: 'anec.gain_offset_control' op result #0 must be 4D/5D memref of 16-bit float or 8-bit signed integer or 8-bit unsigned integer values, but got 'memref<1x64x1x1xi1>'\n",
      "loc(\"mps_select\"(\"(mpsFileLoc): /AppleInternal/Library/BuildRoots/495c257e-668e-11ee-93ce-926038f30c31/Library/Caches/com.apple.xbs/Sources/MetalPerformanceShadersGraph/mpsgraph/MetalPerformanceShadersGraph/Core/Files/MPSGraphUtilities.mm\":294:0)): error: 'anec.gain_offset_control' op result #0 must be 4D/5D memref of 16-bit float or 8-bit signed integer or 8-bit unsigned integer values, but got 'memref<1x64x1x1xi1>'\n",
      "loc(\"mps_select\"(\"(mpsFileLoc): /AppleInternal/Library/BuildRoots/495c257e-668e-11ee-93ce-926038f30c31/Library/Caches/com.apple.xbs/Sources/MetalPerformanceShadersGraph/mpsgraph/MetalPerformanceShadersGraph/Core/Files/MPSGraphUtilities.mm\":294:0)): error: 'anec.gain_offset_control' op result #0 must be 4D/5D memref of 16-bit float or 8-bit signed integer or 8-bit unsigned integer values, but got 'memref<1x64x1x1xi1>'\n",
      "loc(\"mps_select\"(\"(mpsFileLoc): /AppleInternal/Library/BuildRoots/495c257e-668e-11ee-93ce-926038f30c31/Library/Caches/com.apple.xbs/Sources/MetalPerformanceShadersGraph/mpsgraph/MetalPerformanceShadersGraph/Core/Files/MPSGraphUtilities.mm\":294:0)): error: 'anec.gain_offset_control' op result #0 must be 4D/5D memref of 16-bit float or 8-bit signed integer or 8-bit unsigned integer values, but got 'memref<1x64x1x1xi1>'\n",
      "loc(\"mps_select\"(\"(mpsFileLoc): /AppleInternal/Library/BuildRoots/495c257e-668e-11ee-93ce-926038f30c31/Library/Caches/com.apple.xbs/Sources/MetalPerformanceShadersGraph/mpsgraph/MetalPerformanceShadersGraph/Core/Files/MPSGraphUtilities.mm\":294:0)): error: 'anec.gain_offset_control' op result #0 must be 4D/5D memref of 16-bit float or 8-bit signed integer or 8-bit unsigned integer values, but got 'memref<1x64x1x1xi1>'\n"
     ]
    },
    {
     "name": "stdout",
     "output_type": "stream",
     "text": [
      "124/125 [============================>.] - ETA: 0s - loss: 0.6641 - accuracy: 0.8935"
     ]
    },
    {
     "name": "stderr",
     "output_type": "stream",
     "text": [
      "loc(\"mps_select\"(\"(mpsFileLoc): /AppleInternal/Library/BuildRoots/495c257e-668e-11ee-93ce-926038f30c31/Library/Caches/com.apple.xbs/Sources/MetalPerformanceShadersGraph/mpsgraph/MetalPerformanceShadersGraph/Core/Files/MPSGraphUtilities.mm\":294:0)): error: 'anec.gain_offset_control' op result #0 must be 4D/5D memref of 16-bit float or 8-bit signed integer or 8-bit unsigned integer values, but got 'memref<1x8x1x1xi1>'\n",
      "loc(\"mps_select\"(\"(mpsFileLoc): /AppleInternal/Library/BuildRoots/495c257e-668e-11ee-93ce-926038f30c31/Library/Caches/com.apple.xbs/Sources/MetalPerformanceShadersGraph/mpsgraph/MetalPerformanceShadersGraph/Core/Files/MPSGraphUtilities.mm\":294:0)): error: 'anec.gain_offset_control' op result #0 must be 4D/5D memref of 16-bit float or 8-bit signed integer or 8-bit unsigned integer values, but got 'memref<1x8x1x1xi1>'\n",
      "loc(\"mps_select\"(\"(mpsFileLoc): /AppleInternal/Library/BuildRoots/495c257e-668e-11ee-93ce-926038f30c31/Library/Caches/com.apple.xbs/Sources/MetalPerformanceShadersGraph/mpsgraph/MetalPerformanceShadersGraph/Core/Files/MPSGraphUtilities.mm\":294:0)): error: 'anec.gain_offset_control' op result #0 must be 4D/5D memref of 16-bit float or 8-bit signed integer or 8-bit unsigned integer values, but got 'memref<1x8x1x1xi1>'\n",
      "loc(\"mps_select\"(\"(mpsFileLoc): /AppleInternal/Library/BuildRoots/495c257e-668e-11ee-93ce-926038f30c31/Library/Caches/com.apple.xbs/Sources/MetalPerformanceShadersGraph/mpsgraph/MetalPerformanceShadersGraph/Core/Files/MPSGraphUtilities.mm\":294:0)): error: 'anec.gain_offset_control' op result #0 must be 4D/5D memref of 16-bit float or 8-bit signed integer or 8-bit unsigned integer values, but got 'memref<1x8x1x1xi1>'\n",
      "loc(\"mps_select\"(\"(mpsFileLoc): /AppleInternal/Library/BuildRoots/495c257e-668e-11ee-93ce-926038f30c31/Library/Caches/com.apple.xbs/Sources/MetalPerformanceShadersGraph/mpsgraph/MetalPerformanceShadersGraph/Core/Files/MPSGraphUtilities.mm\":294:0)): error: 'anec.gain_offset_control' op result #0 must be 4D/5D memref of 16-bit float or 8-bit signed integer or 8-bit unsigned integer values, but got 'memref<1x8x1x1xi1>'\n"
     ]
    },
    {
     "name": "stdout",
     "output_type": "stream",
     "text": [
      "125/125 [==============================] - ETA: 0s - loss: 0.6635 - accuracy: 0.8936"
     ]
    },
    {
     "name": "stderr",
     "output_type": "stream",
     "text": [
      "2023-11-23 15:04:55.763628: I tensorflow/core/grappler/optimizers/custom_graph_optimizer_registry.cc:113] Plugin optimizer for device_type GPU is enabled.\n",
      "loc(\"mps_select\"(\"(mpsFileLoc): /AppleInternal/Library/BuildRoots/495c257e-668e-11ee-93ce-926038f30c31/Library/Caches/com.apple.xbs/Sources/MetalPerformanceShadersGraph/mpsgraph/MetalPerformanceShadersGraph/Core/Files/MPSGraphUtilities.mm\":294:0)): error: 'anec.gain_offset_control' op result #0 must be 4D/5D memref of 16-bit float or 8-bit signed integer or 8-bit unsigned integer values, but got 'memref<1x64x1x1xi1>'\n",
      "loc(\"mps_select\"(\"(mpsFileLoc): /AppleInternal/Library/BuildRoots/495c257e-668e-11ee-93ce-926038f30c31/Library/Caches/com.apple.xbs/Sources/MetalPerformanceShadersGraph/mpsgraph/MetalPerformanceShadersGraph/Core/Files/MPSGraphUtilities.mm\":294:0)): error: 'anec.gain_offset_control' op result #0 must be 4D/5D memref of 16-bit float or 8-bit signed integer or 8-bit unsigned integer values, but got 'memref<1x64x1x1xi1>'\n"
     ]
    },
    {
     "name": "stdout",
     "output_type": "stream",
     "text": [
      "\n",
      "Epoch 1: val_accuracy improved from -inf to 0.35247, saving model to E-label_run8.h5\n"
     ]
    },
    {
     "name": "stderr",
     "output_type": "stream",
     "text": [
      "loc(\"mps_select\"(\"(mpsFileLoc): /AppleInternal/Library/BuildRoots/495c257e-668e-11ee-93ce-926038f30c31/Library/Caches/com.apple.xbs/Sources/MetalPerformanceShadersGraph/mpsgraph/MetalPerformanceShadersGraph/Core/Files/MPSGraphUtilities.mm\":294:0)): error: 'anec.gain_offset_control' op result #0 must be 4D/5D memref of 16-bit float or 8-bit signed integer or 8-bit unsigned integer values, but got 'memref<1x33x1x1xi1>'\n",
      "loc(\"mps_select\"(\"(mpsFileLoc): /AppleInternal/Library/BuildRoots/495c257e-668e-11ee-93ce-926038f30c31/Library/Caches/com.apple.xbs/Sources/MetalPerformanceShadersGraph/mpsgraph/MetalPerformanceShadersGraph/Core/Files/MPSGraphUtilities.mm\":294:0)): error: 'anec.gain_offset_control' op result #0 must be 4D/5D memref of 16-bit float or 8-bit signed integer or 8-bit unsigned integer values, but got 'memref<1x33x1x1xi1>'\n"
     ]
    },
    {
     "name": "stdout",
     "output_type": "stream",
     "text": [
      "125/125 [==============================] - 44s 329ms/step - loss: 0.6635 - accuracy: 0.8936 - val_loss: 3.7752 - val_accuracy: 0.3525\n",
      "Epoch 2/10\n",
      "125/125 [==============================] - ETA: 0s - loss: 0.1558 - accuracy: 0.9519\n",
      "Epoch 2: val_accuracy did not improve from 0.35247\n",
      "125/125 [==============================] - 40s 319ms/step - loss: 0.1558 - accuracy: 0.9519 - val_loss: 2.0984 - val_accuracy: 0.3525\n",
      "Epoch 3/10\n",
      "125/125 [==============================] - ETA: 0s - loss: 0.1816 - accuracy: 0.9528\n",
      "Epoch 3: val_accuracy did not improve from 0.35247\n",
      "125/125 [==============================] - 39s 313ms/step - loss: 0.1816 - accuracy: 0.9528 - val_loss: 5.5807 - val_accuracy: 0.3525\n",
      "Epoch 4/10\n",
      "125/125 [==============================] - ETA: 0s - loss: 0.1672 - accuracy: 0.9478\n",
      "Epoch 4: val_accuracy did not improve from 0.35247\n",
      "125/125 [==============================] - 40s 316ms/step - loss: 0.1672 - accuracy: 0.9478 - val_loss: 37.3075 - val_accuracy: 0.3525\n",
      "Epoch 5/10\n",
      "125/125 [==============================] - ETA: 0s - loss: 0.1192 - accuracy: 0.9620\n",
      "Epoch 5: val_accuracy improved from 0.35247 to 0.52669, saving model to E-label_run8.h5\n",
      "125/125 [==============================] - 40s 319ms/step - loss: 0.1192 - accuracy: 0.9620 - val_loss: 2.2208 - val_accuracy: 0.5267\n",
      "Epoch 6/10\n",
      "125/125 [==============================] - ETA: 0s - loss: 0.1044 - accuracy: 0.9639\n",
      "Epoch 6: val_accuracy improved from 0.52669 to 0.89325, saving model to E-label_run8.h5\n",
      "125/125 [==============================] - 39s 314ms/step - loss: 0.1044 - accuracy: 0.9639 - val_loss: 0.2712 - val_accuracy: 0.8933\n",
      "Epoch 7/10\n",
      "125/125 [==============================] - ETA: 0s - loss: 0.0852 - accuracy: 0.9693\n",
      "Epoch 7: val_accuracy improved from 0.89325 to 0.94058, saving model to E-label_run8.h5\n",
      "125/125 [==============================] - 39s 312ms/step - loss: 0.0852 - accuracy: 0.9693 - val_loss: 0.1757 - val_accuracy: 0.9406\n",
      "Epoch 8/10\n",
      "125/125 [==============================] - ETA: 0s - loss: 0.0742 - accuracy: 0.9766\n",
      "Epoch 8: val_accuracy improved from 0.94058 to 0.95871, saving model to E-label_run8.h5\n",
      "125/125 [==============================] - 40s 319ms/step - loss: 0.0742 - accuracy: 0.9766 - val_loss: 0.1154 - val_accuracy: 0.9587\n",
      "Epoch 9/10\n",
      "125/125 [==============================] - ETA: 0s - loss: 0.0651 - accuracy: 0.9766\n",
      "Epoch 9: val_accuracy did not improve from 0.95871\n",
      "125/125 [==============================] - 41s 325ms/step - loss: 0.0651 - accuracy: 0.9766 - val_loss: 0.1363 - val_accuracy: 0.9446\n",
      "Epoch 10/10\n",
      "125/125 [==============================] - ETA: 0s - loss: 0.0546 - accuracy: 0.9816\n",
      "Epoch 10: val_accuracy did not improve from 0.95871\n",
      "125/125 [==============================] - 42s 337ms/step - loss: 0.0546 - accuracy: 0.9816 - val_loss: 0.1956 - val_accuracy: 0.9476\n",
      "Epoch 1/10\n"
     ]
    },
    {
     "name": "stderr",
     "output_type": "stream",
     "text": [
      "2023-11-23 15:11:03.835113: I tensorflow/core/grappler/optimizers/custom_graph_optimizer_registry.cc:113] Plugin optimizer for device_type GPU is enabled.\n",
      "loc(\"mps_select\"(\"(mpsFileLoc): /AppleInternal/Library/BuildRoots/495c257e-668e-11ee-93ce-926038f30c31/Library/Caches/com.apple.xbs/Sources/MetalPerformanceShadersGraph/mpsgraph/MetalPerformanceShadersGraph/Core/Files/MPSGraphUtilities.mm\":294:0)): error: 'anec.gain_offset_control' op result #0 must be 4D/5D memref of 16-bit float or 8-bit signed integer or 8-bit unsigned integer values, but got 'memref<1x64x1x1xi1>'\n",
      "loc(\"mps_select\"(\"(mpsFileLoc): /AppleInternal/Library/BuildRoots/495c257e-668e-11ee-93ce-926038f30c31/Library/Caches/com.apple.xbs/Sources/MetalPerformanceShadersGraph/mpsgraph/MetalPerformanceShadersGraph/Core/Files/MPSGraphUtilities.mm\":294:0)): error: 'anec.gain_offset_control' op result #0 must be 4D/5D memref of 16-bit float or 8-bit signed integer or 8-bit unsigned integer values, but got 'memref<1x64x1x1xi1>'\n",
      "loc(\"mps_select\"(\"(mpsFileLoc): /AppleInternal/Library/BuildRoots/495c257e-668e-11ee-93ce-926038f30c31/Library/Caches/com.apple.xbs/Sources/MetalPerformanceShadersGraph/mpsgraph/MetalPerformanceShadersGraph/Core/Files/MPSGraphUtilities.mm\":294:0)): error: 'anec.gain_offset_control' op result #0 must be 4D/5D memref of 16-bit float or 8-bit signed integer or 8-bit unsigned integer values, but got 'memref<1x64x1x1xi1>'\n",
      "loc(\"mps_select\"(\"(mpsFileLoc): /AppleInternal/Library/BuildRoots/495c257e-668e-11ee-93ce-926038f30c31/Library/Caches/com.apple.xbs/Sources/MetalPerformanceShadersGraph/mpsgraph/MetalPerformanceShadersGraph/Core/Files/MPSGraphUtilities.mm\":294:0)): error: 'anec.gain_offset_control' op result #0 must be 4D/5D memref of 16-bit float or 8-bit signed integer or 8-bit unsigned integer values, but got 'memref<1x64x1x1xi1>'\n",
      "loc(\"mps_select\"(\"(mpsFileLoc): /AppleInternal/Library/BuildRoots/495c257e-668e-11ee-93ce-926038f30c31/Library/Caches/com.apple.xbs/Sources/MetalPerformanceShadersGraph/mpsgraph/MetalPerformanceShadersGraph/Core/Files/MPSGraphUtilities.mm\":294:0)): error: 'anec.gain_offset_control' op result #0 must be 4D/5D memref of 16-bit float or 8-bit signed integer or 8-bit unsigned integer values, but got 'memref<1x64x1x1xi1>'\n"
     ]
    },
    {
     "name": "stdout",
     "output_type": "stream",
     "text": [
      "124/125 [============================>.] - ETA: 0s - loss: 0.4777 - accuracy: 0.8964"
     ]
    },
    {
     "name": "stderr",
     "output_type": "stream",
     "text": [
      "loc(\"mps_select\"(\"(mpsFileLoc): /AppleInternal/Library/BuildRoots/495c257e-668e-11ee-93ce-926038f30c31/Library/Caches/com.apple.xbs/Sources/MetalPerformanceShadersGraph/mpsgraph/MetalPerformanceShadersGraph/Core/Files/MPSGraphUtilities.mm\":294:0)): error: 'anec.gain_offset_control' op result #0 must be 4D/5D memref of 16-bit float or 8-bit signed integer or 8-bit unsigned integer values, but got 'memref<1x8x1x1xi1>'\n",
      "loc(\"mps_select\"(\"(mpsFileLoc): /AppleInternal/Library/BuildRoots/495c257e-668e-11ee-93ce-926038f30c31/Library/Caches/com.apple.xbs/Sources/MetalPerformanceShadersGraph/mpsgraph/MetalPerformanceShadersGraph/Core/Files/MPSGraphUtilities.mm\":294:0)): error: 'anec.gain_offset_control' op result #0 must be 4D/5D memref of 16-bit float or 8-bit signed integer or 8-bit unsigned integer values, but got 'memref<1x8x1x1xi1>'\n",
      "loc(\"mps_select\"(\"(mpsFileLoc): /AppleInternal/Library/BuildRoots/495c257e-668e-11ee-93ce-926038f30c31/Library/Caches/com.apple.xbs/Sources/MetalPerformanceShadersGraph/mpsgraph/MetalPerformanceShadersGraph/Core/Files/MPSGraphUtilities.mm\":294:0)): error: 'anec.gain_offset_control' op result #0 must be 4D/5D memref of 16-bit float or 8-bit signed integer or 8-bit unsigned integer values, but got 'memref<1x8x1x1xi1>'\n",
      "loc(\"mps_select\"(\"(mpsFileLoc): /AppleInternal/Library/BuildRoots/495c257e-668e-11ee-93ce-926038f30c31/Library/Caches/com.apple.xbs/Sources/MetalPerformanceShadersGraph/mpsgraph/MetalPerformanceShadersGraph/Core/Files/MPSGraphUtilities.mm\":294:0)): error: 'anec.gain_offset_control' op result #0 must be 4D/5D memref of 16-bit float or 8-bit signed integer or 8-bit unsigned integer values, but got 'memref<1x8x1x1xi1>'\n",
      "loc(\"mps_select\"(\"(mpsFileLoc): /AppleInternal/Library/BuildRoots/495c257e-668e-11ee-93ce-926038f30c31/Library/Caches/com.apple.xbs/Sources/MetalPerformanceShadersGraph/mpsgraph/MetalPerformanceShadersGraph/Core/Files/MPSGraphUtilities.mm\":294:0)): error: 'anec.gain_offset_control' op result #0 must be 4D/5D memref of 16-bit float or 8-bit signed integer or 8-bit unsigned integer values, but got 'memref<1x8x1x1xi1>'\n"
     ]
    },
    {
     "name": "stdout",
     "output_type": "stream",
     "text": [
      "125/125 [==============================] - ETA: 0s - loss: 0.4772 - accuracy: 0.8965"
     ]
    },
    {
     "name": "stderr",
     "output_type": "stream",
     "text": [
      "2023-11-23 15:11:48.333628: I tensorflow/core/grappler/optimizers/custom_graph_optimizer_registry.cc:113] Plugin optimizer for device_type GPU is enabled.\n",
      "loc(\"mps_select\"(\"(mpsFileLoc): /AppleInternal/Library/BuildRoots/495c257e-668e-11ee-93ce-926038f30c31/Library/Caches/com.apple.xbs/Sources/MetalPerformanceShadersGraph/mpsgraph/MetalPerformanceShadersGraph/Core/Files/MPSGraphUtilities.mm\":294:0)): error: 'anec.gain_offset_control' op result #0 must be 4D/5D memref of 16-bit float or 8-bit signed integer or 8-bit unsigned integer values, but got 'memref<1x64x1x1xi1>'\n",
      "loc(\"mps_select\"(\"(mpsFileLoc): /AppleInternal/Library/BuildRoots/495c257e-668e-11ee-93ce-926038f30c31/Library/Caches/com.apple.xbs/Sources/MetalPerformanceShadersGraph/mpsgraph/MetalPerformanceShadersGraph/Core/Files/MPSGraphUtilities.mm\":294:0)): error: 'anec.gain_offset_control' op result #0 must be 4D/5D memref of 16-bit float or 8-bit signed integer or 8-bit unsigned integer values, but got 'memref<1x64x1x1xi1>'\n"
     ]
    },
    {
     "name": "stdout",
     "output_type": "stream",
     "text": [
      "\n",
      "Epoch 1: val_accuracy improved from -inf to 0.35247, saving model to E-label_run9.h5\n"
     ]
    },
    {
     "name": "stderr",
     "output_type": "stream",
     "text": [
      "loc(\"mps_select\"(\"(mpsFileLoc): /AppleInternal/Library/BuildRoots/495c257e-668e-11ee-93ce-926038f30c31/Library/Caches/com.apple.xbs/Sources/MetalPerformanceShadersGraph/mpsgraph/MetalPerformanceShadersGraph/Core/Files/MPSGraphUtilities.mm\":294:0)): error: 'anec.gain_offset_control' op result #0 must be 4D/5D memref of 16-bit float or 8-bit signed integer or 8-bit unsigned integer values, but got 'memref<1x33x1x1xi1>'\n",
      "loc(\"mps_select\"(\"(mpsFileLoc): /AppleInternal/Library/BuildRoots/495c257e-668e-11ee-93ce-926038f30c31/Library/Caches/com.apple.xbs/Sources/MetalPerformanceShadersGraph/mpsgraph/MetalPerformanceShadersGraph/Core/Files/MPSGraphUtilities.mm\":294:0)): error: 'anec.gain_offset_control' op result #0 must be 4D/5D memref of 16-bit float or 8-bit signed integer or 8-bit unsigned integer values, but got 'memref<1x33x1x1xi1>'\n"
     ]
    },
    {
     "name": "stdout",
     "output_type": "stream",
     "text": [
      "125/125 [==============================] - 49s 368ms/step - loss: 0.4772 - accuracy: 0.8965 - val_loss: 0.8405 - val_accuracy: 0.3525\n",
      "Epoch 2/10\n",
      "125/125 [==============================] - ETA: 0s - loss: 0.1645 - accuracy: 0.9484\n",
      "Epoch 2: val_accuracy improved from 0.35247 to 0.64753, saving model to E-label_run9.h5\n",
      "125/125 [==============================] - 43s 345ms/step - loss: 0.1645 - accuracy: 0.9484 - val_loss: 0.6382 - val_accuracy: 0.6475\n",
      "Epoch 3/10\n",
      "125/125 [==============================] - ETA: 0s - loss: 0.1253 - accuracy: 0.9591\n",
      "Epoch 3: val_accuracy did not improve from 0.64753\n",
      "125/125 [==============================] - 42s 337ms/step - loss: 0.1253 - accuracy: 0.9591 - val_loss: 1.8679 - val_accuracy: 0.3525\n",
      "Epoch 4/10\n",
      "125/125 [==============================] - ETA: 0s - loss: 0.1032 - accuracy: 0.9651\n",
      "Epoch 4: val_accuracy did not improve from 0.64753\n",
      "125/125 [==============================] - 42s 340ms/step - loss: 0.1032 - accuracy: 0.9651 - val_loss: 1.9483 - val_accuracy: 0.4753\n",
      "Epoch 5/10\n",
      "125/125 [==============================] - ETA: 0s - loss: 0.0941 - accuracy: 0.9673\n",
      "Epoch 5: val_accuracy improved from 0.64753 to 0.67674, saving model to E-label_run9.h5\n",
      "125/125 [==============================] - 44s 349ms/step - loss: 0.0941 - accuracy: 0.9673 - val_loss: 1.0889 - val_accuracy: 0.6767\n",
      "Epoch 6/10\n",
      "125/125 [==============================] - ETA: 0s - loss: 0.0851 - accuracy: 0.9708\n",
      "Epoch 6: val_accuracy improved from 0.67674 to 0.93454, saving model to E-label_run9.h5\n",
      "125/125 [==============================] - 43s 345ms/step - loss: 0.0851 - accuracy: 0.9708 - val_loss: 0.2074 - val_accuracy: 0.9345\n",
      "Epoch 7/10\n",
      "125/125 [==============================] - ETA: 0s - loss: 0.1346 - accuracy: 0.9595\n",
      "Epoch 7: val_accuracy improved from 0.93454 to 0.94663, saving model to E-label_run9.h5\n",
      "125/125 [==============================] - 42s 339ms/step - loss: 0.1346 - accuracy: 0.9595 - val_loss: 0.1541 - val_accuracy: 0.9466\n",
      "Epoch 8/10\n",
      "125/125 [==============================] - ETA: 0s - loss: 0.1212 - accuracy: 0.9612\n",
      "Epoch 8: val_accuracy did not improve from 0.94663\n",
      "125/125 [==============================] - 43s 341ms/step - loss: 0.1212 - accuracy: 0.9612 - val_loss: 1.1522 - val_accuracy: 0.6959\n",
      "Epoch 9/10\n",
      "125/125 [==============================] - ETA: 0s - loss: 0.1010 - accuracy: 0.9645\n",
      "Epoch 9: val_accuracy improved from 0.94663 to 0.97382, saving model to E-label_run9.h5\n",
      "125/125 [==============================] - 42s 337ms/step - loss: 0.1010 - accuracy: 0.9645 - val_loss: 0.0936 - val_accuracy: 0.9738\n",
      "Epoch 10/10\n",
      "125/125 [==============================] - ETA: 0s - loss: 0.0861 - accuracy: 0.9680\n",
      "Epoch 10: val_accuracy did not improve from 0.97382\n",
      "125/125 [==============================] - 42s 338ms/step - loss: 0.0861 - accuracy: 0.9680 - val_loss: 0.0902 - val_accuracy: 0.9728\n",
      "Epoch 1/10\n"
     ]
    },
    {
     "name": "stderr",
     "output_type": "stream",
     "text": [
      "2023-11-23 15:18:22.299333: I tensorflow/core/grappler/optimizers/custom_graph_optimizer_registry.cc:113] Plugin optimizer for device_type GPU is enabled.\n",
      "loc(\"mps_select\"(\"(mpsFileLoc): /AppleInternal/Library/BuildRoots/495c257e-668e-11ee-93ce-926038f30c31/Library/Caches/com.apple.xbs/Sources/MetalPerformanceShadersGraph/mpsgraph/MetalPerformanceShadersGraph/Core/Files/MPSGraphUtilities.mm\":294:0)): error: 'anec.gain_offset_control' op result #0 must be 4D/5D memref of 16-bit float or 8-bit signed integer or 8-bit unsigned integer values, but got 'memref<1x64x1x1xi1>'\n",
      "loc(\"mps_select\"(\"(mpsFileLoc): /AppleInternal/Library/BuildRoots/495c257e-668e-11ee-93ce-926038f30c31/Library/Caches/com.apple.xbs/Sources/MetalPerformanceShadersGraph/mpsgraph/MetalPerformanceShadersGraph/Core/Files/MPSGraphUtilities.mm\":294:0)): error: 'anec.gain_offset_control' op result #0 must be 4D/5D memref of 16-bit float or 8-bit signed integer or 8-bit unsigned integer values, but got 'memref<1x64x1x1xi1>'\n",
      "loc(\"mps_select\"(\"(mpsFileLoc): /AppleInternal/Library/BuildRoots/495c257e-668e-11ee-93ce-926038f30c31/Library/Caches/com.apple.xbs/Sources/MetalPerformanceShadersGraph/mpsgraph/MetalPerformanceShadersGraph/Core/Files/MPSGraphUtilities.mm\":294:0)): error: 'anec.gain_offset_control' op result #0 must be 4D/5D memref of 16-bit float or 8-bit signed integer or 8-bit unsigned integer values, but got 'memref<1x64x1x1xi1>'\n",
      "loc(\"mps_select\"(\"(mpsFileLoc): /AppleInternal/Library/BuildRoots/495c257e-668e-11ee-93ce-926038f30c31/Library/Caches/com.apple.xbs/Sources/MetalPerformanceShadersGraph/mpsgraph/MetalPerformanceShadersGraph/Core/Files/MPSGraphUtilities.mm\":294:0)): error: 'anec.gain_offset_control' op result #0 must be 4D/5D memref of 16-bit float or 8-bit signed integer or 8-bit unsigned integer values, but got 'memref<1x64x1x1xi1>'\n",
      "loc(\"mps_select\"(\"(mpsFileLoc): /AppleInternal/Library/BuildRoots/495c257e-668e-11ee-93ce-926038f30c31/Library/Caches/com.apple.xbs/Sources/MetalPerformanceShadersGraph/mpsgraph/MetalPerformanceShadersGraph/Core/Files/MPSGraphUtilities.mm\":294:0)): error: 'anec.gain_offset_control' op result #0 must be 4D/5D memref of 16-bit float or 8-bit signed integer or 8-bit unsigned integer values, but got 'memref<1x64x1x1xi1>'\n"
     ]
    },
    {
     "name": "stdout",
     "output_type": "stream",
     "text": [
      "124/125 [============================>.] - ETA: 0s - loss: 0.3771 - accuracy: 0.9089"
     ]
    },
    {
     "name": "stderr",
     "output_type": "stream",
     "text": [
      "loc(\"mps_select\"(\"(mpsFileLoc): /AppleInternal/Library/BuildRoots/495c257e-668e-11ee-93ce-926038f30c31/Library/Caches/com.apple.xbs/Sources/MetalPerformanceShadersGraph/mpsgraph/MetalPerformanceShadersGraph/Core/Files/MPSGraphUtilities.mm\":294:0)): error: 'anec.gain_offset_control' op result #0 must be 4D/5D memref of 16-bit float or 8-bit signed integer or 8-bit unsigned integer values, but got 'memref<1x8x1x1xi1>'\n",
      "loc(\"mps_select\"(\"(mpsFileLoc): /AppleInternal/Library/BuildRoots/495c257e-668e-11ee-93ce-926038f30c31/Library/Caches/com.apple.xbs/Sources/MetalPerformanceShadersGraph/mpsgraph/MetalPerformanceShadersGraph/Core/Files/MPSGraphUtilities.mm\":294:0)): error: 'anec.gain_offset_control' op result #0 must be 4D/5D memref of 16-bit float or 8-bit signed integer or 8-bit unsigned integer values, but got 'memref<1x8x1x1xi1>'\n",
      "loc(\"mps_select\"(\"(mpsFileLoc): /AppleInternal/Library/BuildRoots/495c257e-668e-11ee-93ce-926038f30c31/Library/Caches/com.apple.xbs/Sources/MetalPerformanceShadersGraph/mpsgraph/MetalPerformanceShadersGraph/Core/Files/MPSGraphUtilities.mm\":294:0)): error: 'anec.gain_offset_control' op result #0 must be 4D/5D memref of 16-bit float or 8-bit signed integer or 8-bit unsigned integer values, but got 'memref<1x8x1x1xi1>'\n",
      "loc(\"mps_select\"(\"(mpsFileLoc): /AppleInternal/Library/BuildRoots/495c257e-668e-11ee-93ce-926038f30c31/Library/Caches/com.apple.xbs/Sources/MetalPerformanceShadersGraph/mpsgraph/MetalPerformanceShadersGraph/Core/Files/MPSGraphUtilities.mm\":294:0)): error: 'anec.gain_offset_control' op result #0 must be 4D/5D memref of 16-bit float or 8-bit signed integer or 8-bit unsigned integer values, but got 'memref<1x8x1x1xi1>'\n",
      "loc(\"mps_select\"(\"(mpsFileLoc): /AppleInternal/Library/BuildRoots/495c257e-668e-11ee-93ce-926038f30c31/Library/Caches/com.apple.xbs/Sources/MetalPerformanceShadersGraph/mpsgraph/MetalPerformanceShadersGraph/Core/Files/MPSGraphUtilities.mm\":294:0)): error: 'anec.gain_offset_control' op result #0 must be 4D/5D memref of 16-bit float or 8-bit signed integer or 8-bit unsigned integer values, but got 'memref<1x8x1x1xi1>'\n"
     ]
    },
    {
     "name": "stdout",
     "output_type": "stream",
     "text": [
      "125/125 [==============================] - ETA: 0s - loss: 0.3775 - accuracy: 0.9089"
     ]
    },
    {
     "name": "stderr",
     "output_type": "stream",
     "text": [
      "2023-11-23 15:18:53.944359: I tensorflow/core/grappler/optimizers/custom_graph_optimizer_registry.cc:113] Plugin optimizer for device_type GPU is enabled.\n",
      "loc(\"mps_select\"(\"(mpsFileLoc): /AppleInternal/Library/BuildRoots/495c257e-668e-11ee-93ce-926038f30c31/Library/Caches/com.apple.xbs/Sources/MetalPerformanceShadersGraph/mpsgraph/MetalPerformanceShadersGraph/Core/Files/MPSGraphUtilities.mm\":294:0)): error: 'anec.gain_offset_control' op result #0 must be 4D/5D memref of 16-bit float or 8-bit signed integer or 8-bit unsigned integer values, but got 'memref<1x64x1x1xi1>'\n",
      "loc(\"mps_select\"(\"(mpsFileLoc): /AppleInternal/Library/BuildRoots/495c257e-668e-11ee-93ce-926038f30c31/Library/Caches/com.apple.xbs/Sources/MetalPerformanceShadersGraph/mpsgraph/MetalPerformanceShadersGraph/Core/Files/MPSGraphUtilities.mm\":294:0)): error: 'anec.gain_offset_control' op result #0 must be 4D/5D memref of 16-bit float or 8-bit signed integer or 8-bit unsigned integer values, but got 'memref<1x64x1x1xi1>'\n"
     ]
    },
    {
     "name": "stdout",
     "output_type": "stream",
     "text": [
      "\n",
      "Epoch 1: val_accuracy improved from -inf to 0.35247, saving model to E-label_run10.h5\n"
     ]
    },
    {
     "name": "stderr",
     "output_type": "stream",
     "text": [
      "loc(\"mps_select\"(\"(mpsFileLoc): /AppleInternal/Library/BuildRoots/495c257e-668e-11ee-93ce-926038f30c31/Library/Caches/com.apple.xbs/Sources/MetalPerformanceShadersGraph/mpsgraph/MetalPerformanceShadersGraph/Core/Files/MPSGraphUtilities.mm\":294:0)): error: 'anec.gain_offset_control' op result #0 must be 4D/5D memref of 16-bit float or 8-bit signed integer or 8-bit unsigned integer values, but got 'memref<1x33x1x1xi1>'\n",
      "loc(\"mps_select\"(\"(mpsFileLoc): /AppleInternal/Library/BuildRoots/495c257e-668e-11ee-93ce-926038f30c31/Library/Caches/com.apple.xbs/Sources/MetalPerformanceShadersGraph/mpsgraph/MetalPerformanceShadersGraph/Core/Files/MPSGraphUtilities.mm\":294:0)): error: 'anec.gain_offset_control' op result #0 must be 4D/5D memref of 16-bit float or 8-bit signed integer or 8-bit unsigned integer values, but got 'memref<1x33x1x1xi1>'\n"
     ]
    },
    {
     "name": "stdout",
     "output_type": "stream",
     "text": [
      "125/125 [==============================] - 37s 257ms/step - loss: 0.3775 - accuracy: 0.9089 - val_loss: 4.3124 - val_accuracy: 0.3525\n",
      "Epoch 2/10\n",
      "125/125 [==============================] - ETA: 0s - loss: 0.1434 - accuracy: 0.9512\n",
      "Epoch 2: val_accuracy did not improve from 0.35247\n",
      "125/125 [==============================] - 30s 242ms/step - loss: 0.1434 - accuracy: 0.9512 - val_loss: 9.9112 - val_accuracy: 0.3525\n",
      "Epoch 3/10\n",
      "125/125 [==============================] - ETA: 0s - loss: 0.1438 - accuracy: 0.9547\n",
      "Epoch 3: val_accuracy improved from 0.35247 to 0.73011, saving model to E-label_run10.h5\n",
      "125/125 [==============================] - 31s 247ms/step - loss: 0.1438 - accuracy: 0.9547 - val_loss: 0.8110 - val_accuracy: 0.7301\n",
      "Epoch 4/10\n",
      "125/125 [==============================] - ETA: 0s - loss: 0.1388 - accuracy: 0.9557\n",
      "Epoch 4: val_accuracy improved from 0.73011 to 0.75227, saving model to E-label_run10.h5\n",
      "125/125 [==============================] - 31s 248ms/step - loss: 0.1388 - accuracy: 0.9557 - val_loss: 0.6378 - val_accuracy: 0.7523\n",
      "Epoch 5/10\n",
      "125/125 [==============================] - ETA: 0s - loss: 0.1134 - accuracy: 0.9634\n",
      "Epoch 5: val_accuracy improved from 0.75227 to 0.94965, saving model to E-label_run10.h5\n",
      "125/125 [==============================] - 31s 246ms/step - loss: 0.1134 - accuracy: 0.9634 - val_loss: 0.1538 - val_accuracy: 0.9496\n",
      "Epoch 6/10\n",
      "125/125 [==============================] - ETA: 0s - loss: 0.0815 - accuracy: 0.9704\n",
      "Epoch 6: val_accuracy did not improve from 0.94965\n",
      "125/125 [==============================] - 31s 245ms/step - loss: 0.0815 - accuracy: 0.9704 - val_loss: 0.2038 - val_accuracy: 0.9476\n",
      "Epoch 7/10\n",
      "125/125 [==============================] - ETA: 0s - loss: 0.0773 - accuracy: 0.9724\n",
      "Epoch 7: val_accuracy improved from 0.94965 to 0.96173, saving model to E-label_run10.h5\n",
      "125/125 [==============================] - 31s 246ms/step - loss: 0.0773 - accuracy: 0.9724 - val_loss: 0.1329 - val_accuracy: 0.9617\n",
      "Epoch 8/10\n",
      "125/125 [==============================] - ETA: 0s - loss: 0.0876 - accuracy: 0.9680\n",
      "Epoch 8: val_accuracy did not improve from 0.96173\n",
      "125/125 [==============================] - 31s 246ms/step - loss: 0.0876 - accuracy: 0.9680 - val_loss: 0.1180 - val_accuracy: 0.9577\n",
      "Epoch 9/10\n",
      "125/125 [==============================] - ETA: 0s - loss: 0.0646 - accuracy: 0.9778\n",
      "Epoch 9: val_accuracy did not improve from 0.96173\n",
      "125/125 [==============================] - 31s 247ms/step - loss: 0.0646 - accuracy: 0.9778 - val_loss: 0.1573 - val_accuracy: 0.9557\n",
      "Epoch 10/10\n",
      "125/125 [==============================] - ETA: 0s - loss: 0.0440 - accuracy: 0.9833\n",
      "Epoch 10: val_accuracy did not improve from 0.96173\n",
      "125/125 [==============================] - 32s 257ms/step - loss: 0.0440 - accuracy: 0.9833 - val_loss: 0.1493 - val_accuracy: 0.9496\n"
     ]
    }
   ],
   "source": [
    "# Store histories and model filenames\n",
    "histories = []\n",
    "model_filenames = []\n",
    "\n",
    "# Training 10 CNNs with different splits\n",
    "for i in range(10):\n",
    "    # Split data with stratification to ensure balanced classes in each split\n",
    "    X_train, X_temp, y_train, y_temp = train_test_split(X, y, test_size=0.2, stratify=y, random_state=i)\n",
    "    X_val, X_test, y_val, y_test = train_test_split(X_temp, y_temp, test_size=0.5, stratify=y_temp, random_state=i)\n",
    "\n",
    "    # Create model\n",
    "    model = create_cnn()\n",
    "\n",
    "    # Define the checkpoint callback\n",
    "    model_filename = f'E-label_run{i+1}.h5'\n",
    "    checkpoint_callback = ModelCheckpoint(\n",
    "        model_filename,\n",
    "        monitor='val_accuracy',\n",
    "        verbose=1,\n",
    "        save_best_only=True,\n",
    "        mode='max',\n",
    "        save_weights_only=False\n",
    "    )\n",
    "\n",
    "    # Train model with the checkpoint callback and specified batch size\n",
    "    history = model.fit(X_train, y_train, batch_size=64, epochs=10, validation_data=(X_val, y_val), callbacks=[checkpoint_callback])\n",
    "\n",
    "    # Save history\n",
    "    histories.append(history.history)\n",
    "    model_filenames.append(model_filename)\n",
    "\n",
    "# Save the histories and model filenames for later use\n",
    "with open('training_histories_E-label_run.pkl', 'wb') as file:\n",
    "    pickle.dump({'histories': histories, 'model_filenames': model_filenames}, file)"
   ]
  },
  {
   "cell_type": "code",
   "execution_count": null,
   "id": "8c2981f7-7b1f-4529-a6b6-dfa4cb01fc0c",
   "metadata": {},
   "outputs": [],
   "source": []
  }
 ],
 "metadata": {
  "kernelspec": {
   "display_name": "Python 3.10 (tensorflow)",
   "language": "python",
   "name": "tensorflow"
  },
  "language_info": {
   "codemirror_mode": {
    "name": "ipython",
    "version": 3
   },
   "file_extension": ".py",
   "mimetype": "text/x-python",
   "name": "python",
   "nbconvert_exporter": "python",
   "pygments_lexer": "ipython3",
   "version": "3.10.9"
  }
 },
 "nbformat": 4,
 "nbformat_minor": 5
}
