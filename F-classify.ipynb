{
 "cells": [
  {
   "cell_type": "markdown",
   "id": "6553ab89-fa75-447a-8c08-7f25ac7ad487",
   "metadata": {},
   "source": [
    "## F-classify: This Notebook develops the NOIRE-Net F-region classification network "
   ]
  },
  {
   "cell_type": "markdown",
   "id": "822ec13f-8079-401c-aaf2-37f2981acd5b",
   "metadata": {},
   "source": [
    "### 1 - Import libaries "
   ]
  },
  {
   "cell_type": "code",
   "execution_count": 1,
   "id": "80990a8e-2d87-444b-aa25-42ea1903521d",
   "metadata": {
    "tags": []
   },
   "outputs": [],
   "source": [
    "import os\n",
    "import numpy as np\n",
    "from sklearn.model_selection import train_test_split\n",
    "from tensorflow.keras.models import Sequential\n",
    "from tensorflow.keras.layers import Conv2D, MaxPooling2D, Flatten, Dense, BatchNormalization, Dropout\n",
    "from tensorflow.keras.preprocessing.image import img_to_array, load_img\n",
    "from sklearn.metrics import mean_squared_error\n",
    "from math import sqrt\n",
    "from tensorflow.keras.callbacks import ModelCheckpoint\n",
    "import pickle"
   ]
  },
  {
   "cell_type": "markdown",
   "id": "c57942b9-0d1e-4c29-b201-dae42e4f99bd",
   "metadata": {},
   "source": [
    "### 2 - Define function to get ionogram label (True = F-region, False = No F-region)"
   ]
  },
  {
   "cell_type": "code",
   "execution_count": 2,
   "id": "4b8714c8-324c-4ddb-ab4e-5ac56070ba76",
   "metadata": {
    "tags": []
   },
   "outputs": [],
   "source": [
    "# The function get_label_from_par reads a .par file and returns \n",
    "# True if either the second or fourth item is not 'nan', \n",
    "# indicating the presence of an F-region in the corresponding image,\n",
    "# for use in binary classification.\n",
    "\n",
    "def get_label_from_par(par_file_path):\n",
    "    try:\n",
    "        # Open the .par file located at par_file_path\n",
    "        with open(par_file_path, 'r') as file:\n",
    "            content = file.readline().strip()  # Read and strip the first line of the file\n",
    "            items = content.split()  # Split the line into individual items (usually numbers or 'nan')\n",
    "\n",
    "            # Check the second (index 1) and fourth (index 3) items:\n",
    "            # If either of these items is not 'nan', it implies the presence of an F-region.\n",
    "            # The function then returns True, indicating that this image has an F-region.\n",
    "            is_f_region = items[0].lower() != 'nan' or items[2].lower() != 'nan'\n",
    "        return is_f_region\n",
    "\n",
    "    except IndexError:\n",
    "        # This block catches an IndexError, which occurs if the line read from the file\n",
    "        # does not have at least four items. In such a case, the function assumes that\n",
    "        # the F-region data is not present or not properly formatted, and returns False.\n",
    "        return False\n",
    "\n",
    "    except Exception as e:\n",
    "        # This block catches any other exceptions (like file not found, read errors, etc.).\n",
    "        # It prints the exception message and returns False, indicating an issue with processing the file.\n",
    "        print(f\"Error reading {par_file_path}: {e}\")\n",
    "        return False"
   ]
  },
  {
   "cell_type": "markdown",
   "id": "ff5dd112-47cc-48b4-915e-5d52e25ec6cc",
   "metadata": {
    "tags": []
   },
   "source": [
    "### 3 - Define function to load ionograms and preprocess the data"
   ]
  },
  {
   "cell_type": "code",
   "execution_count": 18,
   "id": "c413a846-e152-4d08-9231-856a3066eded",
   "metadata": {
    "tags": []
   },
   "outputs": [],
   "source": [
    "# The load_data function loads and preprocesses image data from a specified directory,\n",
    "# converting images to grayscale and resizing them, while also extracting corresponding\n",
    "# binary labels from associated .par files for a classification task.\n",
    "\n",
    "def load_data(data_dir):\n",
    "    images = []  # List to store preprocessed images\n",
    "    labels = []  # List to store corresponding labels\n",
    "\n",
    "    # Construct paths to the directories containing ionograms and parameters\n",
    "    ionograms_dir = os.path.join(data_dir, 'ionograms')\n",
    "    parameters_dir = os.path.join(data_dir, 'parameters')\n",
    "\n",
    "    # Iterate over the files in the ionograms directory\n",
    "    for filename in os.listdir(ionograms_dir):\n",
    "        if filename.endswith('.png'):  # Check if the file is a PNG image\n",
    "            # Construct full paths to the image file and its corresponding .par file\n",
    "            img_path = os.path.join(ionograms_dir, filename)\n",
    "            par_path = os.path.join(parameters_dir, filename.replace('.png', '.par'))\n",
    "\n",
    "            # Load the image, convert it to grayscale, resize it, and normalize pixel values\n",
    "            image = load_img(img_path, color_mode='grayscale', target_size=(310, 310))\n",
    "            image = img_to_array(image)\n",
    "            image /= 255.0  # Normalize image pixels to be between 0 and 1\n",
    "\n",
    "            # Load the label for the image using the get_label_from_par function\n",
    "            label = get_label_from_par(par_path)\n",
    "\n",
    "            # Append the preprocessed image and label to their respective lists\n",
    "            images.append(image)\n",
    "            labels.append(label)\n",
    "\n",
    "    # Convert the lists of images and labels to numpy arrays and return them\n",
    "    return np.array(images), np.array(labels).astype(int)"
   ]
  },
  {
   "cell_type": "markdown",
   "id": "0a34042b-b7a9-4fce-ae53-61d68a1252e1",
   "metadata": {},
   "source": [
    "### 4 - Load the ionograms and labels from the data folder "
   ]
  },
  {
   "cell_type": "code",
   "execution_count": 20,
   "id": "42d19eba-8888-42dc-a7c1-8f01e388aea4",
   "metadata": {},
   "outputs": [],
   "source": [
    "# Specify the directory where the data is stored\n",
    "data_dir = 'train-val'  # 'train_test_val' should be replaced with the actual path to your data directory\n",
    "\n",
    "# Call the load_data function to load and preprocess the data\n",
    "# X wildsdsdl contain the preprocessed images, and y will contain the corresponding labels\n",
    "X, y = load_data(data_dir)"
   ]
  },
  {
   "cell_type": "markdown",
   "id": "12934bcf-6a1f-4429-b3a7-31bbf697c4fb",
   "metadata": {},
   "source": [
    "### 5 - Define a function to create the NOIRE-Net architecture"
   ]
  },
  {
   "cell_type": "code",
   "execution_count": 21,
   "id": "63999a78-e194-419d-a6cb-93a42fd9a1c8",
   "metadata": {
    "tags": []
   },
   "outputs": [],
   "source": [
    "# This code defines and complies NOIRE-Net a convolutional neural network (CNN) model using Keras, \n",
    "# with multiple convolutional layers, batch normalization, max pooling, and dense layers, \n",
    "# designed for binary classification tasks.\n",
    "\n",
    "def NOIREnet():\n",
    "    model = Sequential([\n",
    "    # First convolutional layer with 32 filters and a kernel size of 3x3\n",
    "    # 'padding=same' ensures the output size is the same as the input size\n",
    "    # 'input_shape' is set for the first layer to indicate the shape of the input data\n",
    "    Conv2D(32, (3, 3), padding='same', activation='relu', input_shape=(310, 310, 1)),\n",
    "    \n",
    "    # Batch normalization to normalize the activations from the previous layer\n",
    "    BatchNormalization(),\n",
    "\n",
    "    # Second convolutional layer with 32 filters and a kernel size of 3x3\n",
    "    Conv2D(32, (3, 3), activation='relu'),\n",
    "\n",
    "    # Another batch normalization\n",
    "    BatchNormalization(),\n",
    "\n",
    "    # First max pooling layer to reduce spatial dimensions\n",
    "    MaxPooling2D((2, 2)),\n",
    "\n",
    "    # Repeating the pattern of two convolutional layers followed by batch normalization\n",
    "    # and a max pooling layer, gradually increasing the number of filters\n",
    "    Conv2D(32, (3, 3), padding='same', activation='relu'),\n",
    "    BatchNormalization(),\n",
    "    Conv2D(32, (3, 3), activation='relu'),\n",
    "    BatchNormalization(),\n",
    "    MaxPooling2D((2, 2)),\n",
    "\n",
    "    Conv2D(64, (3, 3), padding='same', activation='relu'),\n",
    "    BatchNormalization(),\n",
    "    Conv2D(64, (3, 3), activation='relu'),\n",
    "    BatchNormalization(),\n",
    "    MaxPooling2D((2, 2)),\n",
    "\n",
    "    Conv2D(64, (3, 3), padding='same', activation='relu'),\n",
    "    BatchNormalization(),\n",
    "    Conv2D(64, (3, 3), activation='relu'),\n",
    "    BatchNormalization(),\n",
    "    MaxPooling2D((2, 2)),\n",
    "\n",
    "    Conv2D(128, (3, 3), padding='same', activation='relu'),\n",
    "    BatchNormalization(),\n",
    "    Conv2D(128, (3, 3), activation='relu'),\n",
    "    BatchNormalization(),\n",
    "    MaxPooling2D((2, 2)),\n",
    "\n",
    "    Conv2D(128, (3, 3), padding='same', activation='relu'),\n",
    "    BatchNormalization(),\n",
    "    Conv2D(128, (3, 3), activation='relu'),\n",
    "    BatchNormalization(),\n",
    "    MaxPooling2D((2, 2)),\n",
    "\n",
    "    # Flatten the output from the convolutional layers to feed into dense layers\n",
    "    Flatten(),\n",
    "\n",
    "    # Dense (fully connected) layer with 256 neurons and relu activation\n",
    "    Dense(256, activation='relu'),\n",
    "\n",
    "    # Dropout layer to reduce overfitting\n",
    "    Dropout(0.5),\n",
    "\n",
    "    # Another dense layer with 128 neurons\n",
    "    Dense(128, activation='relu'),\n",
    "\n",
    "    # Output layer with a single neuron and sigmoid activation for binary classification\n",
    "    Dense(1, activation='sigmoid')\n",
    "    ])\n",
    "    \n",
    "    # Compile the CNN model\n",
    "    model.compile(\n",
    "        optimizer='adam',  # Using the Adam optimizer for adaptive learning rate optimization\n",
    "        loss='binary_crossentropy',  # Binary crossentropy loss function, suitable for binary classification tasks\n",
    "        metrics=['accuracy']  # The model will report 'accuracy' as a performance metric\n",
    "    )\n",
    "    \n",
    "    # Return the compiled model\n",
    "    return model"
   ]
  },
  {
   "cell_type": "markdown",
   "id": "851e79f5-b94d-4d83-9fb5-2eec0704815b",
   "metadata": {},
   "source": [
    "### 6 - Train 10 CNNs for F-region classification and save the models"
   ]
  },
  {
   "cell_type": "code",
   "execution_count": null,
   "id": "d2c64aa5-20e0-4d48-b719-ccc1e1d6e537",
   "metadata": {
    "tags": []
   },
   "outputs": [
    {
     "name": "stdout",
     "output_type": "stream",
     "text": [
      "Metal device set to: Apple M1 Max\n"
     ]
    },
    {
     "name": "stderr",
     "output_type": "stream",
     "text": [
      "2023-11-28 11:47:15.532592: I tensorflow/core/common_runtime/pluggable_device/pluggable_device_factory.cc:305] Could not identify NUMA node of platform GPU ID 0, defaulting to 0. Your kernel may not have been built with NUMA support.\n",
      "2023-11-28 11:47:15.533248: I tensorflow/core/common_runtime/pluggable_device/pluggable_device_factory.cc:271] Created TensorFlow device (/job:localhost/replica:0/task:0/device:GPU:0 with 0 MB memory) -> physical PluggableDevice (device: 0, name: METAL, pci bus id: <undefined>)\n"
     ]
    },
    {
     "name": "stdout",
     "output_type": "stream",
     "text": [
      "Epoch 1/50\n"
     ]
    },
    {
     "name": "stderr",
     "output_type": "stream",
     "text": [
      "2023-11-28 11:47:17.559022: W tensorflow/core/platform/profile_utils/cpu_utils.cc:128] Failed to get CPU frequency: 0 Hz\n",
      "2023-11-28 11:47:18.438988: I tensorflow/core/grappler/optimizers/custom_graph_optimizer_registry.cc:113] Plugin optimizer for device_type GPU is enabled.\n",
      "loc(\"mps_select\"(\"(mpsFileLoc): /AppleInternal/Library/BuildRoots/495c257e-668e-11ee-93ce-926038f30c31/Library/Caches/com.apple.xbs/Sources/MetalPerformanceShadersGraph/mpsgraph/MetalPerformanceShadersGraph/Core/Files/MPSGraphUtilities.mm\":294:0)): error: 'anec.gain_offset_control' op result #0 must be 4D/5D memref of 16-bit float or 8-bit signed integer or 8-bit unsigned integer values, but got 'memref<1x64x1x1xi1>'\n",
      "loc(\"mps_select\"(\"(mpsFileLoc): /AppleInternal/Library/BuildRoots/495c257e-668e-11ee-93ce-926038f30c31/Library/Caches/com.apple.xbs/Sources/MetalPerformanceShadersGraph/mpsgraph/MetalPerformanceShadersGraph/Core/Files/MPSGraphUtilities.mm\":294:0)): error: 'anec.gain_offset_control' op result #0 must be 4D/5D memref of 16-bit float or 8-bit signed integer or 8-bit unsigned integer values, but got 'memref<1x64x1x1xi1>'\n",
      "loc(\"mps_select\"(\"(mpsFileLoc): /AppleInternal/Library/BuildRoots/495c257e-668e-11ee-93ce-926038f30c31/Library/Caches/com.apple.xbs/Sources/MetalPerformanceShadersGraph/mpsgraph/MetalPerformanceShadersGraph/Core/Files/MPSGraphUtilities.mm\":294:0)): error: 'anec.gain_offset_control' op result #0 must be 4D/5D memref of 16-bit float or 8-bit signed integer or 8-bit unsigned integer values, but got 'memref<1x64x1x1xi1>'\n",
      "loc(\"mps_select\"(\"(mpsFileLoc): /AppleInternal/Library/BuildRoots/495c257e-668e-11ee-93ce-926038f30c31/Library/Caches/com.apple.xbs/Sources/MetalPerformanceShadersGraph/mpsgraph/MetalPerformanceShadersGraph/Core/Files/MPSGraphUtilities.mm\":294:0)): error: 'anec.gain_offset_control' op result #0 must be 4D/5D memref of 16-bit float or 8-bit signed integer or 8-bit unsigned integer values, but got 'memref<1x64x1x1xi1>'\n",
      "loc(\"mps_select\"(\"(mpsFileLoc): /AppleInternal/Library/BuildRoots/495c257e-668e-11ee-93ce-926038f30c31/Library/Caches/com.apple.xbs/Sources/MetalPerformanceShadersGraph/mpsgraph/MetalPerformanceShadersGraph/Core/Files/MPSGraphUtilities.mm\":294:0)): error: 'anec.gain_offset_control' op result #0 must be 4D/5D memref of 16-bit float or 8-bit signed integer or 8-bit unsigned integer values, but got 'memref<1x64x1x1xi1>'\n"
     ]
    },
    {
     "name": "stdout",
     "output_type": "stream",
     "text": [
      "144/145 [============================>.] - ETA: 0s - loss: 0.1919 - accuracy: 0.9243"
     ]
    },
    {
     "name": "stderr",
     "output_type": "stream",
     "text": [
      "loc(\"mps_select\"(\"(mpsFileLoc): /AppleInternal/Library/BuildRoots/495c257e-668e-11ee-93ce-926038f30c31/Library/Caches/com.apple.xbs/Sources/MetalPerformanceShadersGraph/mpsgraph/MetalPerformanceShadersGraph/Core/Files/MPSGraphUtilities.mm\":294:0)): error: 'anec.gain_offset_control' op result #0 must be 4D/5D memref of 16-bit float or 8-bit signed integer or 8-bit unsigned integer values, but got 'memref<1x46x1x1xi1>'\n",
      "loc(\"mps_select\"(\"(mpsFileLoc): /AppleInternal/Library/BuildRoots/495c257e-668e-11ee-93ce-926038f30c31/Library/Caches/com.apple.xbs/Sources/MetalPerformanceShadersGraph/mpsgraph/MetalPerformanceShadersGraph/Core/Files/MPSGraphUtilities.mm\":294:0)): error: 'anec.gain_offset_control' op result #0 must be 4D/5D memref of 16-bit float or 8-bit signed integer or 8-bit unsigned integer values, but got 'memref<1x46x1x1xi1>'\n",
      "loc(\"mps_select\"(\"(mpsFileLoc): /AppleInternal/Library/BuildRoots/495c257e-668e-11ee-93ce-926038f30c31/Library/Caches/com.apple.xbs/Sources/MetalPerformanceShadersGraph/mpsgraph/MetalPerformanceShadersGraph/Core/Files/MPSGraphUtilities.mm\":294:0)): error: 'anec.gain_offset_control' op result #0 must be 4D/5D memref of 16-bit float or 8-bit signed integer or 8-bit unsigned integer values, but got 'memref<1x46x1x1xi1>'\n",
      "loc(\"mps_select\"(\"(mpsFileLoc): /AppleInternal/Library/BuildRoots/495c257e-668e-11ee-93ce-926038f30c31/Library/Caches/com.apple.xbs/Sources/MetalPerformanceShadersGraph/mpsgraph/MetalPerformanceShadersGraph/Core/Files/MPSGraphUtilities.mm\":294:0)): error: 'anec.gain_offset_control' op result #0 must be 4D/5D memref of 16-bit float or 8-bit signed integer or 8-bit unsigned integer values, but got 'memref<1x46x1x1xi1>'\n",
      "loc(\"mps_select\"(\"(mpsFileLoc): /AppleInternal/Library/BuildRoots/495c257e-668e-11ee-93ce-926038f30c31/Library/Caches/com.apple.xbs/Sources/MetalPerformanceShadersGraph/mpsgraph/MetalPerformanceShadersGraph/Core/Files/MPSGraphUtilities.mm\":294:0)): error: 'anec.gain_offset_control' op result #0 must be 4D/5D memref of 16-bit float or 8-bit signed integer or 8-bit unsigned integer values, but got 'memref<1x46x1x1xi1>'\n"
     ]
    },
    {
     "name": "stdout",
     "output_type": "stream",
     "text": [
      "145/145 [==============================] - ETA: 0s - loss: 0.1927 - accuracy: 0.9242"
     ]
    },
    {
     "name": "stderr",
     "output_type": "stream",
     "text": [
      "2023-11-28 11:48:15.947676: I tensorflow/core/grappler/optimizers/custom_graph_optimizer_registry.cc:113] Plugin optimizer for device_type GPU is enabled.\n",
      "loc(\"mps_select\"(\"(mpsFileLoc): /AppleInternal/Library/BuildRoots/495c257e-668e-11ee-93ce-926038f30c31/Library/Caches/com.apple.xbs/Sources/MetalPerformanceShadersGraph/mpsgraph/MetalPerformanceShadersGraph/Core/Files/MPSGraphUtilities.mm\":294:0)): error: 'anec.gain_offset_control' op result #0 must be 4D/5D memref of 16-bit float or 8-bit signed integer or 8-bit unsigned integer values, but got 'memref<1x64x1x1xi1>'\n",
      "loc(\"mps_select\"(\"(mpsFileLoc): /AppleInternal/Library/BuildRoots/495c257e-668e-11ee-93ce-926038f30c31/Library/Caches/com.apple.xbs/Sources/MetalPerformanceShadersGraph/mpsgraph/MetalPerformanceShadersGraph/Core/Files/MPSGraphUtilities.mm\":294:0)): error: 'anec.gain_offset_control' op result #0 must be 4D/5D memref of 16-bit float or 8-bit signed integer or 8-bit unsigned integer values, but got 'memref<1x64x1x1xi1>'\n"
     ]
    },
    {
     "name": "stdout",
     "output_type": "stream",
     "text": [
      "\n",
      "Epoch 1: val_accuracy improved from -inf to 0.34370, saving model to E-classify/E-label_run1.h5\n"
     ]
    },
    {
     "name": "stderr",
     "output_type": "stream",
     "text": [
      "loc(\"mps_select\"(\"(mpsFileLoc): /AppleInternal/Library/BuildRoots/495c257e-668e-11ee-93ce-926038f30c31/Library/Caches/com.apple.xbs/Sources/MetalPerformanceShadersGraph/mpsgraph/MetalPerformanceShadersGraph/Core/Files/MPSGraphUtilities.mm\":294:0)): error: 'anec.gain_offset_control' op result #0 must be 4D/5D memref of 16-bit float or 8-bit signed integer or 8-bit unsigned integer values, but got 'memref<1x6x1x1xi1>'\n",
      "loc(\"mps_select\"(\"(mpsFileLoc): /AppleInternal/Library/BuildRoots/495c257e-668e-11ee-93ce-926038f30c31/Library/Caches/com.apple.xbs/Sources/MetalPerformanceShadersGraph/mpsgraph/MetalPerformanceShadersGraph/Core/Files/MPSGraphUtilities.mm\":294:0)): error: 'anec.gain_offset_control' op result #0 must be 4D/5D memref of 16-bit float or 8-bit signed integer or 8-bit unsigned integer values, but got 'memref<1x6x1x1xi1>'\n"
     ]
    },
    {
     "name": "stdout",
     "output_type": "stream",
     "text": [
      "145/145 [==============================] - 61s 392ms/step - loss: 0.1927 - accuracy: 0.9242 - val_loss: 3.0119 - val_accuracy: 0.3437 - lr: 0.0010\n",
      "Epoch 2/50\n",
      "145/145 [==============================] - ETA: 0s - loss: 0.1091 - accuracy: 0.9622\n",
      "Epoch 2: val_accuracy did not improve from 0.34370\n",
      "145/145 [==============================] - 54s 369ms/step - loss: 0.1091 - accuracy: 0.9622 - val_loss: 5.7335 - val_accuracy: 0.3437 - lr: 0.0010\n",
      "Epoch 3/50\n",
      "145/145 [==============================] - ETA: 0s - loss: 0.0972 - accuracy: 0.9664\n",
      "Epoch 3: val_accuracy did not improve from 0.34370\n",
      "145/145 [==============================] - 55s 376ms/step - loss: 0.0972 - accuracy: 0.9664 - val_loss: 2.8875 - val_accuracy: 0.3437 - lr: 0.0010\n",
      "Epoch 4/50\n",
      "145/145 [==============================] - ETA: 0s - loss: 0.0818 - accuracy: 0.9721\n",
      "Epoch 4: val_accuracy improved from 0.34370 to 0.86356, saving model to E-classify/E-label_run1.h5\n",
      "145/145 [==============================] - 56s 384ms/step - loss: 0.0818 - accuracy: 0.9721 - val_loss: 0.2785 - val_accuracy: 0.8636 - lr: 0.0010\n",
      "Epoch 5/50\n",
      "145/145 [==============================] - ETA: 0s - loss: 0.0716 - accuracy: 0.9767\n",
      "Epoch 5: val_accuracy improved from 0.86356 to 0.95164, saving model to E-classify/E-label_run1.h5\n",
      "145/145 [==============================] - 56s 388ms/step - loss: 0.0716 - accuracy: 0.9767 - val_loss: 0.1376 - val_accuracy: 0.9516 - lr: 0.0010\n",
      "Epoch 6/50\n",
      "145/145 [==============================] - ETA: 0s - loss: 0.0708 - accuracy: 0.9746\n",
      "Epoch 6: val_accuracy improved from 0.95164 to 0.95423, saving model to E-classify/E-label_run1.h5\n",
      "145/145 [==============================] - 56s 386ms/step - loss: 0.0708 - accuracy: 0.9746 - val_loss: 0.1274 - val_accuracy: 0.9542 - lr: 0.0010\n",
      "Epoch 7/50\n",
      "145/145 [==============================] - ETA: 0s - loss: 0.0651 - accuracy: 0.9772\n",
      "Epoch 7: val_accuracy did not improve from 0.95423\n",
      "145/145 [==============================] - 54s 374ms/step - loss: 0.0651 - accuracy: 0.9772 - val_loss: 0.3619 - val_accuracy: 0.8523 - lr: 0.0010\n",
      "Epoch 8/50\n",
      "145/145 [==============================] - ETA: 0s - loss: 0.0521 - accuracy: 0.9816\n",
      "Epoch 8: val_accuracy did not improve from 0.95423\n",
      "145/145 [==============================] - 54s 370ms/step - loss: 0.0521 - accuracy: 0.9816 - val_loss: 0.2290 - val_accuracy: 0.9378 - lr: 0.0010\n",
      "Epoch 9/50\n",
      "145/145 [==============================] - ETA: 0s - loss: 0.0605 - accuracy: 0.9781\n",
      "Epoch 9: val_accuracy did not improve from 0.95423\n",
      "145/145 [==============================] - 54s 373ms/step - loss: 0.0605 - accuracy: 0.9781 - val_loss: 0.2503 - val_accuracy: 0.9257 - lr: 0.0010\n",
      "Epoch 10/50\n",
      "145/145 [==============================] - ETA: 0s - loss: 0.0562 - accuracy: 0.9801\n",
      "Epoch 10: val_accuracy did not improve from 0.95423\n",
      "145/145 [==============================] - 56s 385ms/step - loss: 0.0562 - accuracy: 0.9801 - val_loss: 0.2390 - val_accuracy: 0.9456 - lr: 0.0010\n",
      "Epoch 11/50\n",
      "145/145 [==============================] - ETA: 0s - loss: 0.0433 - accuracy: 0.9843\n",
      "Epoch 11: val_accuracy did not improve from 0.95423\n",
      "145/145 [==============================] - 55s 381ms/step - loss: 0.0433 - accuracy: 0.9843 - val_loss: 0.1765 - val_accuracy: 0.9430 - lr: 0.0010\n",
      "Epoch 12/50\n",
      "145/145 [==============================] - ETA: 0s - loss: 0.0349 - accuracy: 0.9870\n",
      "Epoch 12: val_accuracy did not improve from 0.95423\n",
      "145/145 [==============================] - 53s 365ms/step - loss: 0.0349 - accuracy: 0.9870 - val_loss: 0.3551 - val_accuracy: 0.8791 - lr: 0.0010\n",
      "Epoch 13/50\n",
      "145/145 [==============================] - ETA: 0s - loss: 0.0362 - accuracy: 0.9880\n",
      "Epoch 13: val_accuracy improved from 0.95423 to 0.95596, saving model to E-classify/E-label_run1.h5\n",
      "145/145 [==============================] - 55s 383ms/step - loss: 0.0362 - accuracy: 0.9880 - val_loss: 0.1413 - val_accuracy: 0.9560 - lr: 0.0010\n",
      "Epoch 14/50\n",
      "145/145 [==============================] - ETA: 0s - loss: 0.0370 - accuracy: 0.9873\n",
      "Epoch 14: val_accuracy did not improve from 0.95596\n",
      "145/145 [==============================] - 54s 374ms/step - loss: 0.0370 - accuracy: 0.9873 - val_loss: 0.1477 - val_accuracy: 0.9456 - lr: 0.0010\n",
      "Epoch 15/50\n",
      "145/145 [==============================] - ETA: 0s - loss: 0.0351 - accuracy: 0.9864\n",
      "Epoch 15: val_accuracy did not improve from 0.95596\n",
      "145/145 [==============================] - 54s 373ms/step - loss: 0.0351 - accuracy: 0.9864 - val_loss: 0.1887 - val_accuracy: 0.9413 - lr: 0.0010\n",
      "Epoch 16/50\n",
      "145/145 [==============================] - ETA: 0s - loss: 0.0270 - accuracy: 0.9911\n",
      "Epoch 16: val_accuracy did not improve from 0.95596\n",
      "145/145 [==============================] - 54s 369ms/step - loss: 0.0270 - accuracy: 0.9911 - val_loss: 0.1925 - val_accuracy: 0.9516 - lr: 0.0010\n",
      "Epoch 17/50\n",
      "145/145 [==============================] - ETA: 0s - loss: 0.0242 - accuracy: 0.9907\n",
      "Epoch 17: val_accuracy did not improve from 0.95596\n",
      "145/145 [==============================] - 53s 366ms/step - loss: 0.0242 - accuracy: 0.9907 - val_loss: 0.1743 - val_accuracy: 0.9456 - lr: 0.0010\n",
      "Epoch 18/50\n",
      "145/145 [==============================] - ETA: 0s - loss: 0.0219 - accuracy: 0.9923\n",
      "Epoch 18: val_accuracy did not improve from 0.95596\n",
      "145/145 [==============================] - 53s 363ms/step - loss: 0.0219 - accuracy: 0.9923 - val_loss: 0.1902 - val_accuracy: 0.9387 - lr: 0.0010\n",
      "Epoch 19/50\n",
      "145/145 [==============================] - ETA: 0s - loss: 0.0229 - accuracy: 0.9928\n",
      "Epoch 19: val_accuracy did not improve from 0.95596\n",
      "145/145 [==============================] - 53s 364ms/step - loss: 0.0229 - accuracy: 0.9928 - val_loss: 0.2418 - val_accuracy: 0.9439 - lr: 0.0010\n",
      "Epoch 20/50\n",
      "145/145 [==============================] - ETA: 0s - loss: 0.0166 - accuracy: 0.9956\n",
      "Epoch 20: val_accuracy did not improve from 0.95596\n",
      "145/145 [==============================] - 53s 363ms/step - loss: 0.0166 - accuracy: 0.9956 - val_loss: 0.1885 - val_accuracy: 0.9421 - lr: 0.0010\n",
      "Epoch 21/50\n",
      "145/145 [==============================] - ETA: 0s - loss: 0.0149 - accuracy: 0.9951\n",
      "Epoch 21: val_accuracy did not improve from 0.95596\n",
      "145/145 [==============================] - 53s 364ms/step - loss: 0.0149 - accuracy: 0.9951 - val_loss: 0.2772 - val_accuracy: 0.9491 - lr: 0.0010\n",
      "Epoch 22/50\n",
      "145/145 [==============================] - ETA: 0s - loss: 0.0171 - accuracy: 0.9943\n",
      "Epoch 22: val_accuracy did not improve from 0.95596\n",
      "145/145 [==============================] - 54s 370ms/step - loss: 0.0171 - accuracy: 0.9943 - val_loss: 0.2763 - val_accuracy: 0.9352 - lr: 0.0010\n",
      "Epoch 23/50\n",
      "145/145 [==============================] - ETA: 0s - loss: 0.0152 - accuracy: 0.9949\n",
      "Epoch 23: val_accuracy did not improve from 0.95596\n",
      "145/145 [==============================] - 53s 367ms/step - loss: 0.0152 - accuracy: 0.9949 - val_loss: 0.2921 - val_accuracy: 0.9396 - lr: 0.0010\n",
      "Epoch 24/50\n",
      "145/145 [==============================] - ETA: 0s - loss: 0.0106 - accuracy: 0.9960\n",
      "Epoch 24: val_accuracy did not improve from 0.95596\n",
      "145/145 [==============================] - 55s 377ms/step - loss: 0.0106 - accuracy: 0.9960 - val_loss: 0.2024 - val_accuracy: 0.9534 - lr: 1.0000e-04\n",
      "Epoch 25/50\n",
      " 11/145 [=>............................] - ETA: 48s - loss: 0.0012 - accuracy: 1.0000"
     ]
    }
   ],
   "source": [
    "# This code trains 10 Convolutional Neural Networks (CNNs) on differently split subsets\n",
    "# of a dataset for binary classification,saves the best model of each training session, \n",
    "# and records their training histories.\n",
    "\n",
    "import os\n",
    "import pickle\n",
    "from sklearn.model_selection import train_test_split\n",
    "from tensorflow.keras.callbacks import ModelCheckpoint, ReduceLROnPlateau\n",
    "\n",
    "# Create the directory for saving models and histories if it doesn't exist\n",
    "save_dir = 'F-classify'\n",
    "os.makedirs(save_dir, exist_ok=True)\n",
    "\n",
    "# Initialize lists to store the training histories and filenames of the best models\n",
    "histories = []\n",
    "model_filenames = []\n",
    "\n",
    "# Define the ReduceLROnPlateau callback\n",
    "reduce_lr = ReduceLROnPlateau(\n",
    "    monitor='val_accuracy',\n",
    "    factor=0.1,      # Factor to reduce the learning rate\n",
    "    patience=10,     # Number of epochs with no improvement to wait before reducing LR\n",
    "    min_lr=0.00001   # Minimum learning rate\n",
    ")\n",
    "\n",
    "# Loop to train 10 CNN models with different data splits\n",
    "for i in range(10):\n",
    "    # Split the dataset into training and validation sets with stratification\n",
    "    X_train, X_val, y_train, y_val = train_test_split(X, y, test_size=0.2, stratify=y, random_state=i)\n",
    "    \n",
    "    # Create a new CNN model for each iteration\n",
    "    model = NOIREnet()\n",
    "\n",
    "    # Define the filename for the checkpoint model\n",
    "    model_filename = os.path.join(save_dir, f'F-label_run{i+1}.h5')\n",
    "\n",
    "    # Define a checkpoint callback to save the best model based on validation accuracy\n",
    "    checkpoint_callback = ModelCheckpoint(\n",
    "        model_filename,\n",
    "        monitor='val_accuracy',\n",
    "        verbose=1,\n",
    "        save_best_only=True,\n",
    "        mode='max',\n",
    "        save_weights_only=False\n",
    "    )\n",
    "\n",
    "    # Train the model with specified callbacks including ReduceLROnPlateau\n",
    "    history = model.fit(\n",
    "        X_train, y_train,\n",
    "        batch_size=64,\n",
    "        epochs=50,\n",
    "        validation_data=(X_val, y_val),\n",
    "        callbacks=[checkpoint_callback, reduce_lr]  # Include ReduceLROnPlateau callback\n",
    "    )\n",
    "\n",
    "    # Save the training history and the filename of the saved best model\n",
    "    histories.append(history.history)\n",
    "    model_filenames.append(model_filename)\n",
    "\n",
    "# Optionally, save the training histories to a file in the same 'F-classify' directory\n",
    "history_filename = os.path.join(save_dir, 'training_histories.pkl')\n",
    "with open(history_filename, 'wb') as file:\n",
    "    pickle.dump({'histories': histories, 'model_filenames': model_filenames}, file)\n"
   ]
  }
 ],
 "metadata": {
  "kernelspec": {
   "display_name": "Python 3.10 (tensorflow)",
   "language": "python",
   "name": "tensorflow"
  },
  "language_info": {
   "codemirror_mode": {
    "name": "ipython",
    "version": 3
   },
   "file_extension": ".py",
   "mimetype": "text/x-python",
   "name": "python",
   "nbconvert_exporter": "python",
   "pygments_lexer": "ipython3",
   "version": "3.10.9"
  }
 },
 "nbformat": 4,
 "nbformat_minor": 5
}
