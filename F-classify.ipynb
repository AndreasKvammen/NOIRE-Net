{
 "cells": [
  {
   "cell_type": "markdown",
   "id": "6553ab89-fa75-447a-8c08-7f25ac7ad487",
   "metadata": {},
   "source": [
    "# F-classify: This Notebook develops and evaluates the NOIRE-Net F-region classification networks"
   ]
  },
  {
   "cell_type": "markdown",
   "id": "399c0c57-c234-41ea-8680-1323ec8c1656",
   "metadata": {
    "tags": []
   },
   "source": [
    "## 1 - Develop NOIRE-Net"
   ]
  },
  {
   "cell_type": "markdown",
   "id": "822ec13f-8079-401c-aaf2-37f2981acd5b",
   "metadata": {},
   "source": [
    "### 1.1 - Import libaries "
   ]
  },
  {
   "cell_type": "code",
   "execution_count": 2,
   "id": "80990a8e-2d87-444b-aa25-42ea1903521d",
   "metadata": {
    "tags": []
   },
   "outputs": [],
   "source": [
    "import os\n",
    "import random\n",
    "import numpy as np\n",
    "from sklearn.model_selection import train_test_split\n",
    "from tensorflow.keras.models import Sequential\n",
    "from tensorflow.keras.layers import Conv2D, MaxPooling2D, Flatten, Dense, BatchNormalization, Dropout\n",
    "from tensorflow.keras.preprocessing.image import img_to_array, load_img\n",
    "from sklearn.metrics import mean_squared_error\n",
    "from math import sqrt\n",
    "from tensorflow.keras.callbacks import ModelCheckpoint\n",
    "import pickle\n",
    "from tensorflow.keras.models import load_model\n",
    "from tensorflow.keras.preprocessing.image import img_to_array, load_img\n",
    "from sklearn.metrics import cohen_kappa_score, precision_score, recall_score, f1_score, accuracy_score\n",
    "from sklearn.metrics import confusion_matrix\n",
    "import matplotlib.pyplot as plt\n",
    "import matplotlib.colors as mcolors"
   ]
  },
  {
   "cell_type": "markdown",
   "id": "c57942b9-0d1e-4c29-b201-dae42e4f99bd",
   "metadata": {},
   "source": [
    "### 1.2 - Define function to get ionogram label (True = F-region, False = No F-region)"
   ]
  },
  {
   "cell_type": "code",
   "execution_count": 3,
   "id": "4b8714c8-324c-4ddb-ab4e-5ac56070ba76",
   "metadata": {
    "tags": []
   },
   "outputs": [],
   "source": [
    "# The function get_label_from_par reads a .par file and returns \n",
    "# True if either the second or fourth item is not 'nan', \n",
    "# indicating the presence of an F-region in the corresponding image,\n",
    "# for use in binary classification.\n",
    "\n",
    "def get_label_from_par(par_file_path):\n",
    "    try:\n",
    "        # Open the .par file located at par_file_path\n",
    "        with open(par_file_path, 'r') as file:\n",
    "            content = file.readline().strip()  # Read and strip the first line of the file\n",
    "            items = content.split()  # Split the line into individual items (usually numbers or 'nan')\n",
    "\n",
    "            # Check the first (index 0) and third (index 2) items:\n",
    "            # If either of these items is not 'nan', it implies the presence of an F-region.\n",
    "            # The function then returns True, indicating that this image has an F-region.\n",
    "            is_f_region = items[0].lower() != 'nan' or items[2].lower() != 'nan'\n",
    "        return is_f_region\n",
    "\n",
    "    except IndexError:\n",
    "        # This block catches an IndexError, which occurs if the line read from the file\n",
    "        # does not have at least four items. In such a case, the function assumes that\n",
    "        # the F-region data is not present or not properly formatted, and returns False.\n",
    "        return False\n",
    "\n",
    "    except Exception as e:\n",
    "        # This block catches any other exceptions (like file not found, read errors, etc.).\n",
    "        # It prints the exception message and returns False, indicating an issue with processing the file.\n",
    "        print(f\"Error reading {par_file_path}: {e}\")\n",
    "        return False"
   ]
  },
  {
   "cell_type": "markdown",
   "id": "ff5dd112-47cc-48b4-915e-5d52e25ec6cc",
   "metadata": {
    "tags": []
   },
   "source": [
    "### 1.3 - Define function to load ionograms and preprocess the data"
   ]
  },
  {
   "cell_type": "code",
   "execution_count": 4,
   "id": "c413a846-e152-4d08-9231-856a3066eded",
   "metadata": {
    "tags": []
   },
   "outputs": [],
   "source": [
    "# The load_data function loads and preprocesses image data from a specified directory,\n",
    "# converting images to grayscale and resizing them, while also extracting corresponding\n",
    "# binary labels from associated .par files for a classification task.\n",
    "\n",
    "def load_data(data_dir):\n",
    "    images = []  # List to store preprocessed images\n",
    "    labels = []  # List to store corresponding labels\n",
    "\n",
    "    # Construct paths to the directories containing ionograms and parameters\n",
    "    ionograms_dir = os.path.join(data_dir, 'ionograms')\n",
    "    parameters_dir = os.path.join(data_dir, 'parameters')\n",
    "\n",
    "    # Iterate over the files in the ionograms directory\n",
    "    for filename in os.listdir(ionograms_dir):\n",
    "        if filename.endswith('.png'):  # Check if the file is a PNG image\n",
    "            # Construct full paths to the image file and its corresponding .par file\n",
    "            img_path = os.path.join(ionograms_dir, filename)\n",
    "            par_path = os.path.join(parameters_dir, filename.replace('.png', '.par'))\n",
    "\n",
    "            # Load the image, convert it to grayscale, resize it, and normalize pixel values\n",
    "            image = load_img(img_path, color_mode='grayscale', target_size=(310, 310))\n",
    "            image = img_to_array(image)\n",
    "            image /= 255.0  # Normalize image pixels to be between 0 and 1\n",
    "\n",
    "            # Load the label for the image using the get_label_from_par function\n",
    "            label = get_label_from_par(par_path)\n",
    "\n",
    "            # Append the preprocessed image and label to their respective lists\n",
    "            images.append(image)\n",
    "            labels.append(label)\n",
    "\n",
    "    # Convert the lists of images and labels to numpy arrays and return them\n",
    "    return np.array(images), np.array(labels).astype(int)"
   ]
  },
  {
   "cell_type": "markdown",
   "id": "0a34042b-b7a9-4fce-ae53-61d68a1252e1",
   "metadata": {},
   "source": [
    "### 1.4 - Load the ionograms and labels from the data folder "
   ]
  },
  {
   "cell_type": "code",
   "execution_count": 5,
   "id": "42d19eba-8888-42dc-a7c1-8f01e388aea4",
   "metadata": {},
   "outputs": [],
   "source": [
    "# Specify the directory where the data is stored\n",
    "data_dir = 'train-val'  # 'train_test_val' should be replaced with the actual path to your data directory\n",
    "\n",
    "# Call the load_data function to load and preprocess the data\n",
    "# X wildsdsdl contain the preprocessed images, and y will contain the corresponding labels\n",
    "X, y = load_data(data_dir)"
   ]
  },
  {
   "cell_type": "markdown",
   "id": "12934bcf-6a1f-4429-b3a7-31bbf697c4fb",
   "metadata": {},
   "source": [
    "### 1.5 - Define a function to create the NOIRE-Net architecture"
   ]
  },
  {
   "cell_type": "code",
   "execution_count": 6,
   "id": "63999a78-e194-419d-a6cb-93a42fd9a1c8",
   "metadata": {
    "tags": []
   },
   "outputs": [],
   "source": [
    "# This code defines and complies NOIRE-Net a convolutional neural network (CNN) model using Keras, \n",
    "# with multiple convolutional layers, batch normalization, max pooling, and dense layers, \n",
    "# designed for binary classification tasks.\n",
    "\n",
    "def NOIREnet():\n",
    "    model = Sequential([\n",
    "    # First convolutional layer with 32 filters and a kernel size of 3x3\n",
    "    # 'padding=same' ensures the output size is the same as the input size\n",
    "    # 'input_shape' is set for the first layer to indicate the shape of the input data\n",
    "    Conv2D(32, (3, 3), padding='same', activation='relu', input_shape=(310, 310, 1)),\n",
    "    \n",
    "    # Batch normalization to normalize the activations from the previous layer\n",
    "    BatchNormalization(),\n",
    "\n",
    "    # Second convolutional layer with 32 filters and a kernel size of 3x3\n",
    "    Conv2D(32, (3, 3), activation='relu'),\n",
    "\n",
    "    # Another batch normalization\n",
    "    BatchNormalization(),\n",
    "\n",
    "    # First max pooling layer to reduce spatial dimensions\n",
    "    MaxPooling2D((2, 2)),\n",
    "\n",
    "    # Repeating the pattern of two convolutional layers followed by batch normalization\n",
    "    # and a max pooling layer, gradually increasing the number of filters\n",
    "    Conv2D(32, (3, 3), padding='same', activation='relu'),\n",
    "    BatchNormalization(),\n",
    "    Conv2D(32, (3, 3), activation='relu'),\n",
    "    BatchNormalization(),\n",
    "    MaxPooling2D((2, 2)),\n",
    "\n",
    "    Conv2D(64, (3, 3), padding='same', activation='relu'),\n",
    "    BatchNormalization(),\n",
    "    Conv2D(64, (3, 3), activation='relu'),\n",
    "    BatchNormalization(),\n",
    "    MaxPooling2D((2, 2)),\n",
    "\n",
    "    Conv2D(64, (3, 3), padding='same', activation='relu'),\n",
    "    BatchNormalization(),\n",
    "    Conv2D(64, (3, 3), activation='relu'),\n",
    "    BatchNormalization(),\n",
    "    MaxPooling2D((2, 2)),\n",
    "\n",
    "    Conv2D(128, (3, 3), padding='same', activation='relu'),\n",
    "    BatchNormalization(),\n",
    "    Conv2D(128, (3, 3), activation='relu'),\n",
    "    BatchNormalization(),\n",
    "    MaxPooling2D((2, 2)),\n",
    "\n",
    "    Conv2D(128, (3, 3), padding='same', activation='relu'),\n",
    "    BatchNormalization(),\n",
    "    Conv2D(128, (3, 3), activation='relu'),\n",
    "    BatchNormalization(),\n",
    "    MaxPooling2D((2, 2)),\n",
    "\n",
    "    # Flatten the output from the convolutional layers to feed into dense layers\n",
    "    Flatten(),\n",
    "\n",
    "    # Dense (fully connected) layer with 256 neurons and relu activation\n",
    "    Dense(256, activation='relu'),\n",
    "\n",
    "    # Dropout layer to reduce overfitting\n",
    "    Dropout(0.5),\n",
    "\n",
    "    # Another dense layer with 128 neurons\n",
    "    Dense(128, activation='relu'),\n",
    "\n",
    "    # Output layer with a single neuron and sigmoid activation for binary classification\n",
    "    Dense(1, activation='sigmoid')\n",
    "    ])\n",
    "    \n",
    "    # Compile the CNN model\n",
    "    model.compile(\n",
    "        optimizer='adam',  # Using the Adam optimizer for adaptive learning rate optimization\n",
    "        loss='binary_crossentropy',  # Binary crossentropy loss function, suitable for binary classification tasks\n",
    "        metrics=['accuracy']  # The model will report 'accuracy' as a performance metric\n",
    "    )\n",
    "    \n",
    "    # Return the compiled model\n",
    "    return model"
   ]
  },
  {
   "cell_type": "markdown",
   "id": "851e79f5-b94d-4d83-9fb5-2eec0704815b",
   "metadata": {},
   "source": [
    "### 1.6 - Train 10 CNNs for F-region classification and save the models"
   ]
  },
  {
   "cell_type": "code",
   "execution_count": 7,
   "id": "d2c64aa5-20e0-4d48-b719-ccc1e1d6e537",
   "metadata": {
    "tags": []
   },
   "outputs": [
    {
     "name": "stdout",
     "output_type": "stream",
     "text": [
      "Metal device set to: Apple M1 Max\n"
     ]
    },
    {
     "name": "stderr",
     "output_type": "stream",
     "text": [
      "2023-11-28 21:41:18.012825: I tensorflow/core/common_runtime/pluggable_device/pluggable_device_factory.cc:305] Could not identify NUMA node of platform GPU ID 0, defaulting to 0. Your kernel may not have been built with NUMA support.\n",
      "2023-11-28 21:41:18.012994: I tensorflow/core/common_runtime/pluggable_device/pluggable_device_factory.cc:271] Created TensorFlow device (/job:localhost/replica:0/task:0/device:GPU:0 with 0 MB memory) -> physical PluggableDevice (device: 0, name: METAL, pci bus id: <undefined>)\n"
     ]
    },
    {
     "name": "stdout",
     "output_type": "stream",
     "text": [
      "Epoch 1/30\n"
     ]
    },
    {
     "name": "stderr",
     "output_type": "stream",
     "text": [
      "2023-11-28 21:41:20.395164: W tensorflow/core/platform/profile_utils/cpu_utils.cc:128] Failed to get CPU frequency: 0 Hz\n",
      "2023-11-28 21:41:21.221335: I tensorflow/core/grappler/optimizers/custom_graph_optimizer_registry.cc:113] Plugin optimizer for device_type GPU is enabled.\n",
      "loc(\"mps_select\"(\"(mpsFileLoc): /AppleInternal/Library/BuildRoots/495c257e-668e-11ee-93ce-926038f30c31/Library/Caches/com.apple.xbs/Sources/MetalPerformanceShadersGraph/mpsgraph/MetalPerformanceShadersGraph/Core/Files/MPSGraphUtilities.mm\":294:0)): error: 'anec.gain_offset_control' op result #0 must be 4D/5D memref of 16-bit float or 8-bit signed integer or 8-bit unsigned integer values, but got 'memref<1x64x1x1xi1>'\n",
      "loc(\"mps_select\"(\"(mpsFileLoc): /AppleInternal/Library/BuildRoots/495c257e-668e-11ee-93ce-926038f30c31/Library/Caches/com.apple.xbs/Sources/MetalPerformanceShadersGraph/mpsgraph/MetalPerformanceShadersGraph/Core/Files/MPSGraphUtilities.mm\":294:0)): error: 'anec.gain_offset_control' op result #0 must be 4D/5D memref of 16-bit float or 8-bit signed integer or 8-bit unsigned integer values, but got 'memref<1x64x1x1xi1>'\n",
      "loc(\"mps_select\"(\"(mpsFileLoc): /AppleInternal/Library/BuildRoots/495c257e-668e-11ee-93ce-926038f30c31/Library/Caches/com.apple.xbs/Sources/MetalPerformanceShadersGraph/mpsgraph/MetalPerformanceShadersGraph/Core/Files/MPSGraphUtilities.mm\":294:0)): error: 'anec.gain_offset_control' op result #0 must be 4D/5D memref of 16-bit float or 8-bit signed integer or 8-bit unsigned integer values, but got 'memref<1x64x1x1xi1>'\n",
      "loc(\"mps_select\"(\"(mpsFileLoc): /AppleInternal/Library/BuildRoots/495c257e-668e-11ee-93ce-926038f30c31/Library/Caches/com.apple.xbs/Sources/MetalPerformanceShadersGraph/mpsgraph/MetalPerformanceShadersGraph/Core/Files/MPSGraphUtilities.mm\":294:0)): error: 'anec.gain_offset_control' op result #0 must be 4D/5D memref of 16-bit float or 8-bit signed integer or 8-bit unsigned integer values, but got 'memref<1x64x1x1xi1>'\n",
      "loc(\"mps_select\"(\"(mpsFileLoc): /AppleInternal/Library/BuildRoots/495c257e-668e-11ee-93ce-926038f30c31/Library/Caches/com.apple.xbs/Sources/MetalPerformanceShadersGraph/mpsgraph/MetalPerformanceShadersGraph/Core/Files/MPSGraphUtilities.mm\":294:0)): error: 'anec.gain_offset_control' op result #0 must be 4D/5D memref of 16-bit float or 8-bit signed integer or 8-bit unsigned integer values, but got 'memref<1x64x1x1xi1>'\n"
     ]
    },
    {
     "name": "stdout",
     "output_type": "stream",
     "text": [
      "144/145 [============================>.] - ETA: 0s - loss: 0.2293 - accuracy: 0.9143"
     ]
    },
    {
     "name": "stderr",
     "output_type": "stream",
     "text": [
      "loc(\"mps_select\"(\"(mpsFileLoc): /AppleInternal/Library/BuildRoots/495c257e-668e-11ee-93ce-926038f30c31/Library/Caches/com.apple.xbs/Sources/MetalPerformanceShadersGraph/mpsgraph/MetalPerformanceShadersGraph/Core/Files/MPSGraphUtilities.mm\":294:0)): error: 'anec.gain_offset_control' op result #0 must be 4D/5D memref of 16-bit float or 8-bit signed integer or 8-bit unsigned integer values, but got 'memref<1x46x1x1xi1>'\n",
      "loc(\"mps_select\"(\"(mpsFileLoc): /AppleInternal/Library/BuildRoots/495c257e-668e-11ee-93ce-926038f30c31/Library/Caches/com.apple.xbs/Sources/MetalPerformanceShadersGraph/mpsgraph/MetalPerformanceShadersGraph/Core/Files/MPSGraphUtilities.mm\":294:0)): error: 'anec.gain_offset_control' op result #0 must be 4D/5D memref of 16-bit float or 8-bit signed integer or 8-bit unsigned integer values, but got 'memref<1x46x1x1xi1>'\n",
      "loc(\"mps_select\"(\"(mpsFileLoc): /AppleInternal/Library/BuildRoots/495c257e-668e-11ee-93ce-926038f30c31/Library/Caches/com.apple.xbs/Sources/MetalPerformanceShadersGraph/mpsgraph/MetalPerformanceShadersGraph/Core/Files/MPSGraphUtilities.mm\":294:0)): error: 'anec.gain_offset_control' op result #0 must be 4D/5D memref of 16-bit float or 8-bit signed integer or 8-bit unsigned integer values, but got 'memref<1x46x1x1xi1>'\n",
      "loc(\"mps_select\"(\"(mpsFileLoc): /AppleInternal/Library/BuildRoots/495c257e-668e-11ee-93ce-926038f30c31/Library/Caches/com.apple.xbs/Sources/MetalPerformanceShadersGraph/mpsgraph/MetalPerformanceShadersGraph/Core/Files/MPSGraphUtilities.mm\":294:0)): error: 'anec.gain_offset_control' op result #0 must be 4D/5D memref of 16-bit float or 8-bit signed integer or 8-bit unsigned integer values, but got 'memref<1x46x1x1xi1>'\n",
      "loc(\"mps_select\"(\"(mpsFileLoc): /AppleInternal/Library/BuildRoots/495c257e-668e-11ee-93ce-926038f30c31/Library/Caches/com.apple.xbs/Sources/MetalPerformanceShadersGraph/mpsgraph/MetalPerformanceShadersGraph/Core/Files/MPSGraphUtilities.mm\":294:0)): error: 'anec.gain_offset_control' op result #0 must be 4D/5D memref of 16-bit float or 8-bit signed integer or 8-bit unsigned integer values, but got 'memref<1x46x1x1xi1>'\n"
     ]
    },
    {
     "name": "stdout",
     "output_type": "stream",
     "text": [
      "145/145 [==============================] - ETA: 0s - loss: 0.2297 - accuracy: 0.9143"
     ]
    },
    {
     "name": "stderr",
     "output_type": "stream",
     "text": [
      "2023-11-28 21:42:16.834544: I tensorflow/core/grappler/optimizers/custom_graph_optimizer_registry.cc:113] Plugin optimizer for device_type GPU is enabled.\n",
      "loc(\"mps_select\"(\"(mpsFileLoc): /AppleInternal/Library/BuildRoots/495c257e-668e-11ee-93ce-926038f30c31/Library/Caches/com.apple.xbs/Sources/MetalPerformanceShadersGraph/mpsgraph/MetalPerformanceShadersGraph/Core/Files/MPSGraphUtilities.mm\":294:0)): error: 'anec.gain_offset_control' op result #0 must be 4D/5D memref of 16-bit float or 8-bit signed integer or 8-bit unsigned integer values, but got 'memref<1x64x1x1xi1>'\n",
      "loc(\"mps_select\"(\"(mpsFileLoc): /AppleInternal/Library/BuildRoots/495c257e-668e-11ee-93ce-926038f30c31/Library/Caches/com.apple.xbs/Sources/MetalPerformanceShadersGraph/mpsgraph/MetalPerformanceShadersGraph/Core/Files/MPSGraphUtilities.mm\":294:0)): error: 'anec.gain_offset_control' op result #0 must be 4D/5D memref of 16-bit float or 8-bit signed integer or 8-bit unsigned integer values, but got 'memref<1x64x1x1xi1>'\n"
     ]
    },
    {
     "name": "stdout",
     "output_type": "stream",
     "text": [
      "\n",
      "Epoch 1: val_accuracy improved from -inf to 0.46503, saving model to F-classify/F-label_run1.h5\n",
      "145/145 [==============================] - 60s 370ms/step - loss: 0.2297 - accuracy: 0.9143 - val_loss: 3.0256 - val_accuracy: 0.4650 - lr: 0.0010\n",
      "Epoch 2/30\n"
     ]
    },
    {
     "name": "stderr",
     "output_type": "stream",
     "text": [
      "loc(\"mps_select\"(\"(mpsFileLoc): /AppleInternal/Library/BuildRoots/495c257e-668e-11ee-93ce-926038f30c31/Library/Caches/com.apple.xbs/Sources/MetalPerformanceShadersGraph/mpsgraph/MetalPerformanceShadersGraph/Core/Files/MPSGraphUtilities.mm\":294:0)): error: 'anec.gain_offset_control' op result #0 must be 4D/5D memref of 16-bit float or 8-bit signed integer or 8-bit unsigned integer values, but got 'memref<1x12x1x1xi1>'\n",
      "loc(\"mps_select\"(\"(mpsFileLoc): /AppleInternal/Library/BuildRoots/495c257e-668e-11ee-93ce-926038f30c31/Library/Caches/com.apple.xbs/Sources/MetalPerformanceShadersGraph/mpsgraph/MetalPerformanceShadersGraph/Core/Files/MPSGraphUtilities.mm\":294:0)): error: 'anec.gain_offset_control' op result #0 must be 4D/5D memref of 16-bit float or 8-bit signed integer or 8-bit unsigned integer values, but got 'memref<1x12x1x1xi1>'\n"
     ]
    },
    {
     "name": "stdout",
     "output_type": "stream",
     "text": [
      "145/145 [==============================] - ETA: 0s - loss: 0.1872 - accuracy: 0.9278\n",
      "Epoch 2: val_accuracy did not improve from 0.46503\n",
      "145/145 [==============================] - 51s 351ms/step - loss: 0.1872 - accuracy: 0.9278 - val_loss: 1.6828 - val_accuracy: 0.4650 - lr: 0.0010\n",
      "Epoch 3/30\n",
      "145/145 [==============================] - ETA: 0s - loss: 0.1741 - accuracy: 0.9332\n",
      "Epoch 3: val_accuracy improved from 0.46503 to 0.47150, saving model to F-classify/F-label_run1.h5\n",
      "145/145 [==============================] - 52s 358ms/step - loss: 0.1741 - accuracy: 0.9332 - val_loss: 1.4076 - val_accuracy: 0.4715 - lr: 0.0010\n",
      "Epoch 4/30\n",
      "145/145 [==============================] - ETA: 0s - loss: 0.1703 - accuracy: 0.9324\n",
      "Epoch 4: val_accuracy improved from 0.47150 to 0.89810, saving model to F-classify/F-label_run1.h5\n",
      "145/145 [==============================] - 51s 350ms/step - loss: 0.1703 - accuracy: 0.9324 - val_loss: 0.2513 - val_accuracy: 0.8981 - lr: 0.0010\n",
      "Epoch 5/30\n",
      "145/145 [==============================] - ETA: 0s - loss: 0.1524 - accuracy: 0.9386\n",
      "Epoch 5: val_accuracy improved from 0.89810 to 0.91839, saving model to F-classify/F-label_run1.h5\n",
      "145/145 [==============================] - 51s 349ms/step - loss: 0.1524 - accuracy: 0.9386 - val_loss: 0.2089 - val_accuracy: 0.9184 - lr: 0.0010\n",
      "Epoch 6/30\n",
      "145/145 [==============================] - ETA: 0s - loss: 0.1570 - accuracy: 0.9364\n",
      "Epoch 6: val_accuracy did not improve from 0.91839\n",
      "145/145 [==============================] - 50s 346ms/step - loss: 0.1570 - accuracy: 0.9364 - val_loss: 0.1880 - val_accuracy: 0.9184 - lr: 0.0010\n",
      "Epoch 7/30\n",
      "145/145 [==============================] - ETA: 0s - loss: 0.1504 - accuracy: 0.9403\n",
      "Epoch 7: val_accuracy improved from 0.91839 to 0.92055, saving model to F-classify/F-label_run1.h5\n",
      "145/145 [==============================] - 50s 345ms/step - loss: 0.1504 - accuracy: 0.9403 - val_loss: 0.2123 - val_accuracy: 0.9206 - lr: 0.0010\n",
      "Epoch 8/30\n",
      "145/145 [==============================] - ETA: 0s - loss: 0.1406 - accuracy: 0.9439\n",
      "Epoch 8: val_accuracy did not improve from 0.92055\n",
      "145/145 [==============================] - 50s 344ms/step - loss: 0.1406 - accuracy: 0.9439 - val_loss: 0.2142 - val_accuracy: 0.9141 - lr: 0.0010\n",
      "Epoch 9/30\n",
      "145/145 [==============================] - ETA: 0s - loss: 0.1312 - accuracy: 0.9476\n",
      "Epoch 9: val_accuracy improved from 0.92055 to 0.92185, saving model to F-classify/F-label_run1.h5\n",
      "145/145 [==============================] - 50s 345ms/step - loss: 0.1312 - accuracy: 0.9476 - val_loss: 0.2110 - val_accuracy: 0.9218 - lr: 0.0010\n",
      "Epoch 10/30\n",
      "145/145 [==============================] - ETA: 0s - loss: 0.1150 - accuracy: 0.9531\n",
      "Epoch 10: val_accuracy did not improve from 0.92185\n",
      "145/145 [==============================] - 50s 345ms/step - loss: 0.1150 - accuracy: 0.9531 - val_loss: 0.2125 - val_accuracy: 0.9175 - lr: 0.0010\n",
      "Epoch 11/30\n",
      "145/145 [==============================] - ETA: 0s - loss: 0.1149 - accuracy: 0.9541\n",
      "Epoch 11: val_accuracy did not improve from 0.92185\n",
      "145/145 [==============================] - 51s 353ms/step - loss: 0.1149 - accuracy: 0.9541 - val_loss: 0.2821 - val_accuracy: 0.9167 - lr: 0.0010\n",
      "Epoch 12/30\n",
      "145/145 [==============================] - ETA: 0s - loss: 0.1039 - accuracy: 0.9547\n",
      "Epoch 12: val_accuracy did not improve from 0.92185\n",
      "145/145 [==============================] - 49s 338ms/step - loss: 0.1039 - accuracy: 0.9547 - val_loss: 0.2091 - val_accuracy: 0.9210 - lr: 0.0010\n",
      "Epoch 13/30\n",
      "145/145 [==============================] - ETA: 0s - loss: 0.0859 - accuracy: 0.9651\n",
      "Epoch 13: val_accuracy did not improve from 0.92185\n",
      "145/145 [==============================] - 49s 338ms/step - loss: 0.0859 - accuracy: 0.9651 - val_loss: 0.3676 - val_accuracy: 0.9059 - lr: 0.0010\n",
      "Epoch 14/30\n",
      "145/145 [==============================] - ETA: 0s - loss: 0.0927 - accuracy: 0.9621\n",
      "Epoch 14: val_accuracy did not improve from 0.92185\n",
      "145/145 [==============================] - 49s 339ms/step - loss: 0.0927 - accuracy: 0.9621 - val_loss: 0.4535 - val_accuracy: 0.8782 - lr: 0.0010\n",
      "Epoch 15/30\n",
      "145/145 [==============================] - ETA: 0s - loss: 0.0732 - accuracy: 0.9726\n",
      "Epoch 15: val_accuracy did not improve from 0.92185\n",
      "145/145 [==============================] - 49s 335ms/step - loss: 0.0732 - accuracy: 0.9726 - val_loss: 0.2942 - val_accuracy: 0.8942 - lr: 0.0010\n",
      "Epoch 16/30\n",
      "145/145 [==============================] - ETA: 0s - loss: 0.0574 - accuracy: 0.9779\n",
      "Epoch 16: val_accuracy did not improve from 0.92185\n",
      "145/145 [==============================] - 49s 341ms/step - loss: 0.0574 - accuracy: 0.9779 - val_loss: 0.2919 - val_accuracy: 0.9102 - lr: 0.0010\n",
      "Epoch 17/30\n",
      "145/145 [==============================] - ETA: 0s - loss: 0.0429 - accuracy: 0.9838\n",
      "Epoch 17: val_accuracy did not improve from 0.92185\n",
      "145/145 [==============================] - 49s 340ms/step - loss: 0.0429 - accuracy: 0.9838 - val_loss: 0.2877 - val_accuracy: 0.8938 - lr: 0.0010\n",
      "Epoch 18/30\n",
      "145/145 [==============================] - ETA: 0s - loss: 0.0488 - accuracy: 0.9816\n",
      "Epoch 18: val_accuracy did not improve from 0.92185\n",
      "145/145 [==============================] - 49s 341ms/step - loss: 0.0488 - accuracy: 0.9816 - val_loss: 0.4729 - val_accuracy: 0.9132 - lr: 0.0010\n",
      "Epoch 19/30\n",
      "145/145 [==============================] - ETA: 0s - loss: 0.0473 - accuracy: 0.9816\n",
      "Epoch 19: val_accuracy did not improve from 0.92185\n",
      "145/145 [==============================] - 50s 344ms/step - loss: 0.0473 - accuracy: 0.9816 - val_loss: 0.5216 - val_accuracy: 0.8182 - lr: 0.0010\n",
      "Epoch 20/30\n",
      "145/145 [==============================] - ETA: 0s - loss: 0.0146 - accuracy: 0.9962\n",
      "Epoch 20: val_accuracy did not improve from 0.92185\n",
      "145/145 [==============================] - 49s 338ms/step - loss: 0.0146 - accuracy: 0.9962 - val_loss: 0.3518 - val_accuracy: 0.9201 - lr: 1.0000e-04\n",
      "Epoch 21/30\n",
      "145/145 [==============================] - ETA: 0s - loss: 0.0056 - accuracy: 0.9990\n",
      "Epoch 21: val_accuracy did not improve from 0.92185\n",
      "145/145 [==============================] - 49s 340ms/step - loss: 0.0056 - accuracy: 0.9990 - val_loss: 0.4048 - val_accuracy: 0.9162 - lr: 1.0000e-04\n",
      "Epoch 22/30\n",
      "145/145 [==============================] - ETA: 0s - loss: 0.0033 - accuracy: 0.9994\n",
      "Epoch 22: val_accuracy did not improve from 0.92185\n",
      "145/145 [==============================] - 49s 340ms/step - loss: 0.0033 - accuracy: 0.9994 - val_loss: 0.4411 - val_accuracy: 0.9167 - lr: 1.0000e-04\n",
      "Epoch 23/30\n",
      "145/145 [==============================] - ETA: 0s - loss: 0.0022 - accuracy: 0.9996\n",
      "Epoch 23: val_accuracy did not improve from 0.92185\n",
      "145/145 [==============================] - 49s 340ms/step - loss: 0.0022 - accuracy: 0.9996 - val_loss: 0.4675 - val_accuracy: 0.9154 - lr: 1.0000e-04\n",
      "Epoch 24/30\n",
      "145/145 [==============================] - ETA: 0s - loss: 0.0017 - accuracy: 0.9996\n",
      "Epoch 24: val_accuracy did not improve from 0.92185\n",
      "145/145 [==============================] - 50s 342ms/step - loss: 0.0017 - accuracy: 0.9996 - val_loss: 0.4905 - val_accuracy: 0.9162 - lr: 1.0000e-04\n",
      "Epoch 25/30\n",
      "145/145 [==============================] - ETA: 0s - loss: 0.0014 - accuracy: 0.9996\n",
      "Epoch 25: val_accuracy did not improve from 0.92185\n",
      "145/145 [==============================] - 50s 341ms/step - loss: 0.0014 - accuracy: 0.9996 - val_loss: 0.5190 - val_accuracy: 0.9171 - lr: 1.0000e-04\n",
      "Epoch 26/30\n",
      "145/145 [==============================] - ETA: 0s - loss: 0.0013 - accuracy: 0.9996\n",
      "Epoch 26: val_accuracy did not improve from 0.92185\n",
      "145/145 [==============================] - 49s 340ms/step - loss: 0.0013 - accuracy: 0.9996 - val_loss: 0.5382 - val_accuracy: 0.9154 - lr: 1.0000e-04\n",
      "Epoch 27/30\n",
      "145/145 [==============================] - ETA: 0s - loss: 0.0012 - accuracy: 0.9995\n",
      "Epoch 27: val_accuracy did not improve from 0.92185\n",
      "145/145 [==============================] - 49s 341ms/step - loss: 0.0012 - accuracy: 0.9995 - val_loss: 0.5506 - val_accuracy: 0.9167 - lr: 1.0000e-04\n",
      "Epoch 28/30\n",
      "145/145 [==============================] - ETA: 0s - loss: 0.0013 - accuracy: 0.9996\n",
      "Epoch 28: val_accuracy did not improve from 0.92185\n",
      "145/145 [==============================] - 49s 339ms/step - loss: 0.0013 - accuracy: 0.9996 - val_loss: 0.5620 - val_accuracy: 0.9171 - lr: 1.0000e-04\n",
      "Epoch 29/30\n",
      "145/145 [==============================] - ETA: 0s - loss: 0.0010 - accuracy: 0.9996\n",
      "Epoch 29: val_accuracy did not improve from 0.92185\n",
      "145/145 [==============================] - 49s 340ms/step - loss: 0.0010 - accuracy: 0.9996 - val_loss: 0.5699 - val_accuracy: 0.9175 - lr: 1.0000e-04\n",
      "Epoch 30/30\n",
      "145/145 [==============================] - ETA: 0s - loss: 9.2637e-04 - accuracy: 0.9996\n",
      "Epoch 30: val_accuracy did not improve from 0.92185\n",
      "145/145 [==============================] - 49s 340ms/step - loss: 9.2637e-04 - accuracy: 0.9996 - val_loss: 0.5733 - val_accuracy: 0.9180 - lr: 1.0000e-05\n",
      "Epoch 1/30\n"
     ]
    },
    {
     "name": "stderr",
     "output_type": "stream",
     "text": [
      "2023-11-28 22:06:28.041575: I tensorflow/core/grappler/optimizers/custom_graph_optimizer_registry.cc:113] Plugin optimizer for device_type GPU is enabled.\n",
      "loc(\"mps_select\"(\"(mpsFileLoc): /AppleInternal/Library/BuildRoots/495c257e-668e-11ee-93ce-926038f30c31/Library/Caches/com.apple.xbs/Sources/MetalPerformanceShadersGraph/mpsgraph/MetalPerformanceShadersGraph/Core/Files/MPSGraphUtilities.mm\":294:0)): error: 'anec.gain_offset_control' op result #0 must be 4D/5D memref of 16-bit float or 8-bit signed integer or 8-bit unsigned integer values, but got 'memref<1x64x1x1xi1>'\n",
      "loc(\"mps_select\"(\"(mpsFileLoc): /AppleInternal/Library/BuildRoots/495c257e-668e-11ee-93ce-926038f30c31/Library/Caches/com.apple.xbs/Sources/MetalPerformanceShadersGraph/mpsgraph/MetalPerformanceShadersGraph/Core/Files/MPSGraphUtilities.mm\":294:0)): error: 'anec.gain_offset_control' op result #0 must be 4D/5D memref of 16-bit float or 8-bit signed integer or 8-bit unsigned integer values, but got 'memref<1x64x1x1xi1>'\n",
      "loc(\"mps_select\"(\"(mpsFileLoc): /AppleInternal/Library/BuildRoots/495c257e-668e-11ee-93ce-926038f30c31/Library/Caches/com.apple.xbs/Sources/MetalPerformanceShadersGraph/mpsgraph/MetalPerformanceShadersGraph/Core/Files/MPSGraphUtilities.mm\":294:0)): error: 'anec.gain_offset_control' op result #0 must be 4D/5D memref of 16-bit float or 8-bit signed integer or 8-bit unsigned integer values, but got 'memref<1x64x1x1xi1>'\n",
      "loc(\"mps_select\"(\"(mpsFileLoc): /AppleInternal/Library/BuildRoots/495c257e-668e-11ee-93ce-926038f30c31/Library/Caches/com.apple.xbs/Sources/MetalPerformanceShadersGraph/mpsgraph/MetalPerformanceShadersGraph/Core/Files/MPSGraphUtilities.mm\":294:0)): error: 'anec.gain_offset_control' op result #0 must be 4D/5D memref of 16-bit float or 8-bit signed integer or 8-bit unsigned integer values, but got 'memref<1x64x1x1xi1>'\n",
      "loc(\"mps_select\"(\"(mpsFileLoc): /AppleInternal/Library/BuildRoots/495c257e-668e-11ee-93ce-926038f30c31/Library/Caches/com.apple.xbs/Sources/MetalPerformanceShadersGraph/mpsgraph/MetalPerformanceShadersGraph/Core/Files/MPSGraphUtilities.mm\":294:0)): error: 'anec.gain_offset_control' op result #0 must be 4D/5D memref of 16-bit float or 8-bit signed integer or 8-bit unsigned integer values, but got 'memref<1x64x1x1xi1>'\n"
     ]
    },
    {
     "name": "stdout",
     "output_type": "stream",
     "text": [
      "144/145 [============================>.] - ETA: 0s - loss: 0.2338 - accuracy: 0.9143"
     ]
    },
    {
     "name": "stderr",
     "output_type": "stream",
     "text": [
      "loc(\"mps_select\"(\"(mpsFileLoc): /AppleInternal/Library/BuildRoots/495c257e-668e-11ee-93ce-926038f30c31/Library/Caches/com.apple.xbs/Sources/MetalPerformanceShadersGraph/mpsgraph/MetalPerformanceShadersGraph/Core/Files/MPSGraphUtilities.mm\":294:0)): error: 'anec.gain_offset_control' op result #0 must be 4D/5D memref of 16-bit float or 8-bit signed integer or 8-bit unsigned integer values, but got 'memref<1x46x1x1xi1>'\n",
      "loc(\"mps_select\"(\"(mpsFileLoc): /AppleInternal/Library/BuildRoots/495c257e-668e-11ee-93ce-926038f30c31/Library/Caches/com.apple.xbs/Sources/MetalPerformanceShadersGraph/mpsgraph/MetalPerformanceShadersGraph/Core/Files/MPSGraphUtilities.mm\":294:0)): error: 'anec.gain_offset_control' op result #0 must be 4D/5D memref of 16-bit float or 8-bit signed integer or 8-bit unsigned integer values, but got 'memref<1x46x1x1xi1>'\n",
      "loc(\"mps_select\"(\"(mpsFileLoc): /AppleInternal/Library/BuildRoots/495c257e-668e-11ee-93ce-926038f30c31/Library/Caches/com.apple.xbs/Sources/MetalPerformanceShadersGraph/mpsgraph/MetalPerformanceShadersGraph/Core/Files/MPSGraphUtilities.mm\":294:0)): error: 'anec.gain_offset_control' op result #0 must be 4D/5D memref of 16-bit float or 8-bit signed integer or 8-bit unsigned integer values, but got 'memref<1x46x1x1xi1>'\n",
      "loc(\"mps_select\"(\"(mpsFileLoc): /AppleInternal/Library/BuildRoots/495c257e-668e-11ee-93ce-926038f30c31/Library/Caches/com.apple.xbs/Sources/MetalPerformanceShadersGraph/mpsgraph/MetalPerformanceShadersGraph/Core/Files/MPSGraphUtilities.mm\":294:0)): error: 'anec.gain_offset_control' op result #0 must be 4D/5D memref of 16-bit float or 8-bit signed integer or 8-bit unsigned integer values, but got 'memref<1x46x1x1xi1>'\n",
      "loc(\"mps_select\"(\"(mpsFileLoc): /AppleInternal/Library/BuildRoots/495c257e-668e-11ee-93ce-926038f30c31/Library/Caches/com.apple.xbs/Sources/MetalPerformanceShadersGraph/mpsgraph/MetalPerformanceShadersGraph/Core/Files/MPSGraphUtilities.mm\":294:0)): error: 'anec.gain_offset_control' op result #0 must be 4D/5D memref of 16-bit float or 8-bit signed integer or 8-bit unsigned integer values, but got 'memref<1x46x1x1xi1>'\n"
     ]
    },
    {
     "name": "stdout",
     "output_type": "stream",
     "text": [
      "145/145 [==============================] - ETA: 0s - loss: 0.2336 - accuracy: 0.9143"
     ]
    },
    {
     "name": "stderr",
     "output_type": "stream",
     "text": [
      "2023-11-28 22:07:15.362623: I tensorflow/core/grappler/optimizers/custom_graph_optimizer_registry.cc:113] Plugin optimizer for device_type GPU is enabled.\n",
      "loc(\"mps_select\"(\"(mpsFileLoc): /AppleInternal/Library/BuildRoots/495c257e-668e-11ee-93ce-926038f30c31/Library/Caches/com.apple.xbs/Sources/MetalPerformanceShadersGraph/mpsgraph/MetalPerformanceShadersGraph/Core/Files/MPSGraphUtilities.mm\":294:0)): error: 'anec.gain_offset_control' op result #0 must be 4D/5D memref of 16-bit float or 8-bit signed integer or 8-bit unsigned integer values, but got 'memref<1x64x1x1xi1>'\n",
      "loc(\"mps_select\"(\"(mpsFileLoc): /AppleInternal/Library/BuildRoots/495c257e-668e-11ee-93ce-926038f30c31/Library/Caches/com.apple.xbs/Sources/MetalPerformanceShadersGraph/mpsgraph/MetalPerformanceShadersGraph/Core/Files/MPSGraphUtilities.mm\":294:0)): error: 'anec.gain_offset_control' op result #0 must be 4D/5D memref of 16-bit float or 8-bit signed integer or 8-bit unsigned integer values, but got 'memref<1x64x1x1xi1>'\n"
     ]
    },
    {
     "name": "stdout",
     "output_type": "stream",
     "text": [
      "\n",
      "Epoch 1: val_accuracy improved from -inf to 0.46503, saving model to F-classify/F-label_run2.h5\n",
      "145/145 [==============================] - 52s 339ms/step - loss: 0.2336 - accuracy: 0.9143 - val_loss: 3.2933 - val_accuracy: 0.4650 - lr: 0.0010\n",
      "Epoch 2/30\n"
     ]
    },
    {
     "name": "stderr",
     "output_type": "stream",
     "text": [
      "loc(\"mps_select\"(\"(mpsFileLoc): /AppleInternal/Library/BuildRoots/495c257e-668e-11ee-93ce-926038f30c31/Library/Caches/com.apple.xbs/Sources/MetalPerformanceShadersGraph/mpsgraph/MetalPerformanceShadersGraph/Core/Files/MPSGraphUtilities.mm\":294:0)): error: 'anec.gain_offset_control' op result #0 must be 4D/5D memref of 16-bit float or 8-bit signed integer or 8-bit unsigned integer values, but got 'memref<1x12x1x1xi1>'\n",
      "loc(\"mps_select\"(\"(mpsFileLoc): /AppleInternal/Library/BuildRoots/495c257e-668e-11ee-93ce-926038f30c31/Library/Caches/com.apple.xbs/Sources/MetalPerformanceShadersGraph/mpsgraph/MetalPerformanceShadersGraph/Core/Files/MPSGraphUtilities.mm\":294:0)): error: 'anec.gain_offset_control' op result #0 must be 4D/5D memref of 16-bit float or 8-bit signed integer or 8-bit unsigned integer values, but got 'memref<1x12x1x1xi1>'\n"
     ]
    },
    {
     "name": "stdout",
     "output_type": "stream",
     "text": [
      "145/145 [==============================] - ETA: 0s - loss: 0.1836 - accuracy: 0.9279\n",
      "Epoch 2: val_accuracy improved from 0.46503 to 0.53497, saving model to F-classify/F-label_run2.h5\n",
      "145/145 [==============================] - 49s 341ms/step - loss: 0.1836 - accuracy: 0.9279 - val_loss: 0.7498 - val_accuracy: 0.5350 - lr: 0.0010\n",
      "Epoch 3/30\n",
      "145/145 [==============================] - ETA: 0s - loss: 0.1788 - accuracy: 0.9309\n",
      "Epoch 3: val_accuracy did not improve from 0.53497\n",
      "145/145 [==============================] - 49s 338ms/step - loss: 0.1788 - accuracy: 0.9309 - val_loss: 0.7336 - val_accuracy: 0.4650 - lr: 0.0010\n",
      "Epoch 4/30\n",
      "145/145 [==============================] - ETA: 0s - loss: 0.1631 - accuracy: 0.9335\n",
      "Epoch 4: val_accuracy improved from 0.53497 to 0.83679, saving model to F-classify/F-label_run2.h5\n",
      "145/145 [==============================] - 50s 343ms/step - loss: 0.1631 - accuracy: 0.9335 - val_loss: 0.5253 - val_accuracy: 0.8368 - lr: 0.0010\n",
      "Epoch 5/30\n",
      "145/145 [==============================] - ETA: 0s - loss: 0.1603 - accuracy: 0.9360\n",
      "Epoch 5: val_accuracy improved from 0.83679 to 0.89551, saving model to F-classify/F-label_run2.h5\n",
      "145/145 [==============================] - 49s 341ms/step - loss: 0.1603 - accuracy: 0.9360 - val_loss: 0.2666 - val_accuracy: 0.8955 - lr: 0.0010\n",
      "Epoch 6/30\n",
      "145/145 [==============================] - ETA: 0s - loss: 0.1560 - accuracy: 0.9394\n",
      "Epoch 6: val_accuracy improved from 0.89551 to 0.92530, saving model to F-classify/F-label_run2.h5\n",
      "145/145 [==============================] - 49s 339ms/step - loss: 0.1560 - accuracy: 0.9394 - val_loss: 0.2091 - val_accuracy: 0.9253 - lr: 0.0010\n",
      "Epoch 7/30\n",
      "145/145 [==============================] - ETA: 0s - loss: 0.1491 - accuracy: 0.9413\n",
      "Epoch 7: val_accuracy did not improve from 0.92530\n",
      "145/145 [==============================] - 49s 341ms/step - loss: 0.1491 - accuracy: 0.9413 - val_loss: 0.2239 - val_accuracy: 0.9171 - lr: 0.0010\n",
      "Epoch 8/30\n",
      "145/145 [==============================] - ETA: 0s - loss: 0.1425 - accuracy: 0.9409\n",
      "Epoch 8: val_accuracy did not improve from 0.92530\n",
      "145/145 [==============================] - 49s 339ms/step - loss: 0.1425 - accuracy: 0.9409 - val_loss: 0.3166 - val_accuracy: 0.8679 - lr: 0.0010\n",
      "Epoch 9/30\n",
      "145/145 [==============================] - ETA: 0s - loss: 0.1331 - accuracy: 0.9460\n",
      "Epoch 9: val_accuracy did not improve from 0.92530\n",
      "145/145 [==============================] - 49s 339ms/step - loss: 0.1331 - accuracy: 0.9460 - val_loss: 0.2543 - val_accuracy: 0.9180 - lr: 0.0010\n",
      "Epoch 10/30\n",
      "145/145 [==============================] - ETA: 0s - loss: 0.1212 - accuracy: 0.9529\n",
      "Epoch 10: val_accuracy did not improve from 0.92530\n",
      "145/145 [==============================] - 49s 338ms/step - loss: 0.1212 - accuracy: 0.9529 - val_loss: 0.4881 - val_accuracy: 0.9033 - lr: 0.0010\n",
      "Epoch 11/30\n",
      "145/145 [==============================] - ETA: 0s - loss: 0.1106 - accuracy: 0.9554\n",
      "Epoch 11: val_accuracy did not improve from 0.92530\n",
      "145/145 [==============================] - 49s 340ms/step - loss: 0.1106 - accuracy: 0.9554 - val_loss: 0.2303 - val_accuracy: 0.9214 - lr: 0.0010\n",
      "Epoch 12/30\n",
      "145/145 [==============================] - ETA: 0s - loss: 0.0998 - accuracy: 0.9606\n",
      "Epoch 12: val_accuracy did not improve from 0.92530\n",
      "145/145 [==============================] - 50s 342ms/step - loss: 0.0998 - accuracy: 0.9606 - val_loss: 0.2443 - val_accuracy: 0.9223 - lr: 0.0010\n",
      "Epoch 13/30\n",
      "145/145 [==============================] - ETA: 0s - loss: 0.0892 - accuracy: 0.9633\n",
      "Epoch 13: val_accuracy did not improve from 0.92530\n",
      "145/145 [==============================] - 49s 340ms/step - loss: 0.0892 - accuracy: 0.9633 - val_loss: 0.2555 - val_accuracy: 0.9003 - lr: 0.0010\n",
      "Epoch 14/30\n",
      "145/145 [==============================] - ETA: 0s - loss: 0.0933 - accuracy: 0.9632\n",
      "Epoch 14: val_accuracy did not improve from 0.92530\n",
      "145/145 [==============================] - 50s 341ms/step - loss: 0.0933 - accuracy: 0.9632 - val_loss: 0.4159 - val_accuracy: 0.8985 - lr: 0.0010\n",
      "Epoch 15/30\n",
      "145/145 [==============================] - ETA: 0s - loss: 0.0711 - accuracy: 0.9712\n",
      "Epoch 15: val_accuracy did not improve from 0.92530\n",
      "145/145 [==============================] - 50s 340ms/step - loss: 0.0711 - accuracy: 0.9712 - val_loss: 0.3326 - val_accuracy: 0.9106 - lr: 0.0010\n",
      "Epoch 16/30\n",
      "145/145 [==============================] - ETA: 0s - loss: 0.0610 - accuracy: 0.9766\n",
      "Epoch 16: val_accuracy did not improve from 0.92530\n",
      "145/145 [==============================] - 49s 340ms/step - loss: 0.0610 - accuracy: 0.9766 - val_loss: 0.4208 - val_accuracy: 0.9154 - lr: 0.0010\n",
      "Epoch 17/30\n",
      "145/145 [==============================] - ETA: 0s - loss: 0.0362 - accuracy: 0.9874\n",
      "Epoch 17: val_accuracy did not improve from 0.92530\n",
      "145/145 [==============================] - 49s 340ms/step - loss: 0.0362 - accuracy: 0.9874 - val_loss: 0.3098 - val_accuracy: 0.9184 - lr: 1.0000e-04\n",
      "Epoch 18/30\n",
      "145/145 [==============================] - ETA: 0s - loss: 0.0162 - accuracy: 0.9952\n",
      "Epoch 18: val_accuracy did not improve from 0.92530\n",
      "145/145 [==============================] - 50s 344ms/step - loss: 0.0162 - accuracy: 0.9952 - val_loss: 0.3617 - val_accuracy: 0.9197 - lr: 1.0000e-04\n",
      "Epoch 19/30\n",
      "145/145 [==============================] - ETA: 0s - loss: 0.0074 - accuracy: 0.9987\n",
      "Epoch 19: val_accuracy did not improve from 0.92530\n",
      "145/145 [==============================] - 50s 346ms/step - loss: 0.0074 - accuracy: 0.9987 - val_loss: 0.4163 - val_accuracy: 0.9158 - lr: 1.0000e-04\n",
      "Epoch 20/30\n",
      "145/145 [==============================] - ETA: 0s - loss: 0.0040 - accuracy: 0.9991\n",
      "Epoch 20: val_accuracy did not improve from 0.92530\n",
      "145/145 [==============================] - 51s 350ms/step - loss: 0.0040 - accuracy: 0.9991 - val_loss: 0.4337 - val_accuracy: 0.9197 - lr: 1.0000e-04\n",
      "Epoch 21/30\n",
      "145/145 [==============================] - ETA: 0s - loss: 0.0029 - accuracy: 0.9996\n",
      "Epoch 21: val_accuracy did not improve from 0.92530\n",
      "145/145 [==============================] - 50s 344ms/step - loss: 0.0029 - accuracy: 0.9996 - val_loss: 0.4670 - val_accuracy: 0.9214 - lr: 1.0000e-04\n",
      "Epoch 22/30\n",
      "145/145 [==============================] - ETA: 0s - loss: 0.0019 - accuracy: 0.9995\n",
      "Epoch 22: val_accuracy did not improve from 0.92530\n",
      "145/145 [==============================] - 49s 338ms/step - loss: 0.0019 - accuracy: 0.9995 - val_loss: 0.4921 - val_accuracy: 0.9201 - lr: 1.0000e-04\n",
      "Epoch 23/30\n",
      "145/145 [==============================] - ETA: 0s - loss: 0.0018 - accuracy: 0.9996\n",
      "Epoch 23: val_accuracy did not improve from 0.92530\n",
      "145/145 [==============================] - 48s 334ms/step - loss: 0.0018 - accuracy: 0.9996 - val_loss: 0.5132 - val_accuracy: 0.9197 - lr: 1.0000e-04\n",
      "Epoch 24/30\n",
      "145/145 [==============================] - ETA: 0s - loss: 0.0014 - accuracy: 0.9995\n",
      "Epoch 24: val_accuracy did not improve from 0.92530\n",
      "145/145 [==============================] - 48s 334ms/step - loss: 0.0014 - accuracy: 0.9995 - val_loss: 0.5306 - val_accuracy: 0.9210 - lr: 1.0000e-04\n",
      "Epoch 25/30\n",
      "145/145 [==============================] - ETA: 0s - loss: 0.0011 - accuracy: 0.9996\n",
      "Epoch 25: val_accuracy did not improve from 0.92530\n",
      "145/145 [==============================] - 48s 334ms/step - loss: 0.0011 - accuracy: 0.9996 - val_loss: 0.5522 - val_accuracy: 0.9210 - lr: 1.0000e-04\n",
      "Epoch 26/30\n",
      "145/145 [==============================] - ETA: 0s - loss: 0.0013 - accuracy: 0.9996\n",
      "Epoch 26: val_accuracy did not improve from 0.92530\n",
      "145/145 [==============================] - 48s 334ms/step - loss: 0.0013 - accuracy: 0.9996 - val_loss: 0.5635 - val_accuracy: 0.9218 - lr: 1.0000e-04\n",
      "Epoch 27/30\n",
      "145/145 [==============================] - ETA: 0s - loss: 0.0012 - accuracy: 0.9994\n",
      "Epoch 27: val_accuracy did not improve from 0.92530\n",
      "145/145 [==============================] - 48s 333ms/step - loss: 0.0012 - accuracy: 0.9994 - val_loss: 0.5646 - val_accuracy: 0.9223 - lr: 1.0000e-05\n",
      "Epoch 28/30\n",
      "145/145 [==============================] - ETA: 0s - loss: 0.0011 - accuracy: 0.9996\n",
      "Epoch 28: val_accuracy did not improve from 0.92530\n",
      "145/145 [==============================] - 48s 332ms/step - loss: 0.0011 - accuracy: 0.9996 - val_loss: 0.5663 - val_accuracy: 0.9218 - lr: 1.0000e-05\n",
      "Epoch 29/30\n",
      "145/145 [==============================] - ETA: 0s - loss: 0.0012 - accuracy: 0.9996\n",
      "Epoch 29: val_accuracy did not improve from 0.92530\n",
      "145/145 [==============================] - 48s 332ms/step - loss: 0.0012 - accuracy: 0.9996 - val_loss: 0.5667 - val_accuracy: 0.9218 - lr: 1.0000e-05\n",
      "Epoch 30/30\n",
      "145/145 [==============================] - ETA: 0s - loss: 0.0011 - accuracy: 0.9997\n",
      "Epoch 30: val_accuracy did not improve from 0.92530\n",
      "145/145 [==============================] - 48s 331ms/step - loss: 0.0011 - accuracy: 0.9997 - val_loss: 0.5695 - val_accuracy: 0.9218 - lr: 1.0000e-05\n",
      "Epoch 1/30\n"
     ]
    },
    {
     "name": "stderr",
     "output_type": "stream",
     "text": [
      "2023-11-28 22:31:08.529879: I tensorflow/core/grappler/optimizers/custom_graph_optimizer_registry.cc:113] Plugin optimizer for device_type GPU is enabled.\n",
      "loc(\"mps_select\"(\"(mpsFileLoc): /AppleInternal/Library/BuildRoots/495c257e-668e-11ee-93ce-926038f30c31/Library/Caches/com.apple.xbs/Sources/MetalPerformanceShadersGraph/mpsgraph/MetalPerformanceShadersGraph/Core/Files/MPSGraphUtilities.mm\":294:0)): error: 'anec.gain_offset_control' op result #0 must be 4D/5D memref of 16-bit float or 8-bit signed integer or 8-bit unsigned integer values, but got 'memref<1x64x1x1xi1>'\n",
      "loc(\"mps_select\"(\"(mpsFileLoc): /AppleInternal/Library/BuildRoots/495c257e-668e-11ee-93ce-926038f30c31/Library/Caches/com.apple.xbs/Sources/MetalPerformanceShadersGraph/mpsgraph/MetalPerformanceShadersGraph/Core/Files/MPSGraphUtilities.mm\":294:0)): error: 'anec.gain_offset_control' op result #0 must be 4D/5D memref of 16-bit float or 8-bit signed integer or 8-bit unsigned integer values, but got 'memref<1x64x1x1xi1>'\n",
      "loc(\"mps_select\"(\"(mpsFileLoc): /AppleInternal/Library/BuildRoots/495c257e-668e-11ee-93ce-926038f30c31/Library/Caches/com.apple.xbs/Sources/MetalPerformanceShadersGraph/mpsgraph/MetalPerformanceShadersGraph/Core/Files/MPSGraphUtilities.mm\":294:0)): error: 'anec.gain_offset_control' op result #0 must be 4D/5D memref of 16-bit float or 8-bit signed integer or 8-bit unsigned integer values, but got 'memref<1x64x1x1xi1>'\n",
      "loc(\"mps_select\"(\"(mpsFileLoc): /AppleInternal/Library/BuildRoots/495c257e-668e-11ee-93ce-926038f30c31/Library/Caches/com.apple.xbs/Sources/MetalPerformanceShadersGraph/mpsgraph/MetalPerformanceShadersGraph/Core/Files/MPSGraphUtilities.mm\":294:0)): error: 'anec.gain_offset_control' op result #0 must be 4D/5D memref of 16-bit float or 8-bit signed integer or 8-bit unsigned integer values, but got 'memref<1x64x1x1xi1>'\n",
      "loc(\"mps_select\"(\"(mpsFileLoc): /AppleInternal/Library/BuildRoots/495c257e-668e-11ee-93ce-926038f30c31/Library/Caches/com.apple.xbs/Sources/MetalPerformanceShadersGraph/mpsgraph/MetalPerformanceShadersGraph/Core/Files/MPSGraphUtilities.mm\":294:0)): error: 'anec.gain_offset_control' op result #0 must be 4D/5D memref of 16-bit float or 8-bit signed integer or 8-bit unsigned integer values, but got 'memref<1x64x1x1xi1>'\n"
     ]
    },
    {
     "name": "stdout",
     "output_type": "stream",
     "text": [
      "144/145 [============================>.] - ETA: 0s - loss: 0.2333 - accuracy: 0.9104"
     ]
    },
    {
     "name": "stderr",
     "output_type": "stream",
     "text": [
      "loc(\"mps_select\"(\"(mpsFileLoc): /AppleInternal/Library/BuildRoots/495c257e-668e-11ee-93ce-926038f30c31/Library/Caches/com.apple.xbs/Sources/MetalPerformanceShadersGraph/mpsgraph/MetalPerformanceShadersGraph/Core/Files/MPSGraphUtilities.mm\":294:0)): error: 'anec.gain_offset_control' op result #0 must be 4D/5D memref of 16-bit float or 8-bit signed integer or 8-bit unsigned integer values, but got 'memref<1x46x1x1xi1>'\n",
      "loc(\"mps_select\"(\"(mpsFileLoc): /AppleInternal/Library/BuildRoots/495c257e-668e-11ee-93ce-926038f30c31/Library/Caches/com.apple.xbs/Sources/MetalPerformanceShadersGraph/mpsgraph/MetalPerformanceShadersGraph/Core/Files/MPSGraphUtilities.mm\":294:0)): error: 'anec.gain_offset_control' op result #0 must be 4D/5D memref of 16-bit float or 8-bit signed integer or 8-bit unsigned integer values, but got 'memref<1x46x1x1xi1>'\n",
      "loc(\"mps_select\"(\"(mpsFileLoc): /AppleInternal/Library/BuildRoots/495c257e-668e-11ee-93ce-926038f30c31/Library/Caches/com.apple.xbs/Sources/MetalPerformanceShadersGraph/mpsgraph/MetalPerformanceShadersGraph/Core/Files/MPSGraphUtilities.mm\":294:0)): error: 'anec.gain_offset_control' op result #0 must be 4D/5D memref of 16-bit float or 8-bit signed integer or 8-bit unsigned integer values, but got 'memref<1x46x1x1xi1>'\n",
      "loc(\"mps_select\"(\"(mpsFileLoc): /AppleInternal/Library/BuildRoots/495c257e-668e-11ee-93ce-926038f30c31/Library/Caches/com.apple.xbs/Sources/MetalPerformanceShadersGraph/mpsgraph/MetalPerformanceShadersGraph/Core/Files/MPSGraphUtilities.mm\":294:0)): error: 'anec.gain_offset_control' op result #0 must be 4D/5D memref of 16-bit float or 8-bit signed integer or 8-bit unsigned integer values, but got 'memref<1x46x1x1xi1>'\n",
      "loc(\"mps_select\"(\"(mpsFileLoc): /AppleInternal/Library/BuildRoots/495c257e-668e-11ee-93ce-926038f30c31/Library/Caches/com.apple.xbs/Sources/MetalPerformanceShadersGraph/mpsgraph/MetalPerformanceShadersGraph/Core/Files/MPSGraphUtilities.mm\":294:0)): error: 'anec.gain_offset_control' op result #0 must be 4D/5D memref of 16-bit float or 8-bit signed integer or 8-bit unsigned integer values, but got 'memref<1x46x1x1xi1>'\n"
     ]
    },
    {
     "name": "stdout",
     "output_type": "stream",
     "text": [
      "145/145 [==============================] - ETA: 0s - loss: 0.2337 - accuracy: 0.9101"
     ]
    },
    {
     "name": "stderr",
     "output_type": "stream",
     "text": [
      "2023-11-28 22:32:07.506826: I tensorflow/core/grappler/optimizers/custom_graph_optimizer_registry.cc:113] Plugin optimizer for device_type GPU is enabled.\n",
      "loc(\"mps_select\"(\"(mpsFileLoc): /AppleInternal/Library/BuildRoots/495c257e-668e-11ee-93ce-926038f30c31/Library/Caches/com.apple.xbs/Sources/MetalPerformanceShadersGraph/mpsgraph/MetalPerformanceShadersGraph/Core/Files/MPSGraphUtilities.mm\":294:0)): error: 'anec.gain_offset_control' op result #0 must be 4D/5D memref of 16-bit float or 8-bit signed integer or 8-bit unsigned integer values, but got 'memref<1x64x1x1xi1>'\n",
      "loc(\"mps_select\"(\"(mpsFileLoc): /AppleInternal/Library/BuildRoots/495c257e-668e-11ee-93ce-926038f30c31/Library/Caches/com.apple.xbs/Sources/MetalPerformanceShadersGraph/mpsgraph/MetalPerformanceShadersGraph/Core/Files/MPSGraphUtilities.mm\":294:0)): error: 'anec.gain_offset_control' op result #0 must be 4D/5D memref of 16-bit float or 8-bit signed integer or 8-bit unsigned integer values, but got 'memref<1x64x1x1xi1>'\n"
     ]
    },
    {
     "name": "stdout",
     "output_type": "stream",
     "text": [
      "\n",
      "Epoch 1: val_accuracy improved from -inf to 0.46503, saving model to F-classify/F-label_run3.h5\n",
      "145/145 [==============================] - 69s 459ms/step - loss: 0.2337 - accuracy: 0.9101 - val_loss: 1.1118 - val_accuracy: 0.4650 - lr: 0.0010\n",
      "Epoch 2/30\n"
     ]
    },
    {
     "name": "stderr",
     "output_type": "stream",
     "text": [
      "loc(\"mps_select\"(\"(mpsFileLoc): /AppleInternal/Library/BuildRoots/495c257e-668e-11ee-93ce-926038f30c31/Library/Caches/com.apple.xbs/Sources/MetalPerformanceShadersGraph/mpsgraph/MetalPerformanceShadersGraph/Core/Files/MPSGraphUtilities.mm\":294:0)): error: 'anec.gain_offset_control' op result #0 must be 4D/5D memref of 16-bit float or 8-bit signed integer or 8-bit unsigned integer values, but got 'memref<1x12x1x1xi1>'\n",
      "loc(\"mps_select\"(\"(mpsFileLoc): /AppleInternal/Library/BuildRoots/495c257e-668e-11ee-93ce-926038f30c31/Library/Caches/com.apple.xbs/Sources/MetalPerformanceShadersGraph/mpsgraph/MetalPerformanceShadersGraph/Core/Files/MPSGraphUtilities.mm\":294:0)): error: 'anec.gain_offset_control' op result #0 must be 4D/5D memref of 16-bit float or 8-bit signed integer or 8-bit unsigned integer values, but got 'memref<1x12x1x1xi1>'\n"
     ]
    },
    {
     "name": "stdout",
     "output_type": "stream",
     "text": [
      "145/145 [==============================] - ETA: 0s - loss: 0.1927 - accuracy: 0.9246\n",
      "Epoch 2: val_accuracy did not improve from 0.46503\n",
      "145/145 [==============================] - 70s 480ms/step - loss: 0.1927 - accuracy: 0.9246 - val_loss: 1.2196 - val_accuracy: 0.4650 - lr: 0.0010\n",
      "Epoch 3/30\n",
      "145/145 [==============================] - ETA: 0s - loss: 0.1795 - accuracy: 0.9293\n",
      "Epoch 3: val_accuracy improved from 0.46503 to 0.49180, saving model to F-classify/F-label_run3.h5\n",
      "145/145 [==============================] - 71s 490ms/step - loss: 0.1795 - accuracy: 0.9293 - val_loss: 1.0733 - val_accuracy: 0.4918 - lr: 0.0010\n",
      "Epoch 4/30\n",
      "145/145 [==============================] - ETA: 0s - loss: 0.1650 - accuracy: 0.9332\n",
      "Epoch 4: val_accuracy improved from 0.49180 to 0.88472, saving model to F-classify/F-label_run3.h5\n",
      "145/145 [==============================] - 70s 482ms/step - loss: 0.1650 - accuracy: 0.9332 - val_loss: 0.4183 - val_accuracy: 0.8847 - lr: 0.0010\n",
      "Epoch 5/30\n",
      "145/145 [==============================] - ETA: 0s - loss: 0.1647 - accuracy: 0.9309\n",
      "Epoch 5: val_accuracy improved from 0.88472 to 0.92746, saving model to F-classify/F-label_run3.h5\n",
      "145/145 [==============================] - 71s 487ms/step - loss: 0.1647 - accuracy: 0.9309 - val_loss: 0.1845 - val_accuracy: 0.9275 - lr: 0.0010\n",
      "Epoch 6/30\n",
      "145/145 [==============================] - ETA: 0s - loss: 0.1522 - accuracy: 0.9351\n",
      "Epoch 6: val_accuracy did not improve from 0.92746\n",
      "145/145 [==============================] - 70s 485ms/step - loss: 0.1522 - accuracy: 0.9351 - val_loss: 0.2182 - val_accuracy: 0.9249 - lr: 0.0010\n",
      "Epoch 7/30\n",
      "145/145 [==============================] - ETA: 0s - loss: 0.1453 - accuracy: 0.9409\n",
      "Epoch 7: val_accuracy did not improve from 0.92746\n",
      "145/145 [==============================] - 70s 485ms/step - loss: 0.1453 - accuracy: 0.9409 - val_loss: 0.2447 - val_accuracy: 0.9132 - lr: 0.0010\n",
      "Epoch 8/30\n",
      "145/145 [==============================] - ETA: 0s - loss: 0.1340 - accuracy: 0.9468\n",
      "Epoch 8: val_accuracy did not improve from 0.92746\n",
      "145/145 [==============================] - 70s 485ms/step - loss: 0.1340 - accuracy: 0.9468 - val_loss: 0.2167 - val_accuracy: 0.9275 - lr: 0.0010\n",
      "Epoch 9/30\n",
      "145/145 [==============================] - ETA: 0s - loss: 0.1273 - accuracy: 0.9479\n",
      "Epoch 9: val_accuracy did not improve from 0.92746\n",
      "145/145 [==============================] - 71s 489ms/step - loss: 0.1273 - accuracy: 0.9479 - val_loss: 0.2731 - val_accuracy: 0.9270 - lr: 0.0010\n",
      "Epoch 10/30\n",
      "145/145 [==============================] - ETA: 0s - loss: 0.1195 - accuracy: 0.9515\n",
      "Epoch 10: val_accuracy did not improve from 0.92746\n",
      "145/145 [==============================] - 71s 489ms/step - loss: 0.1195 - accuracy: 0.9515 - val_loss: 0.3268 - val_accuracy: 0.9106 - lr: 0.0010\n",
      "Epoch 11/30\n",
      "145/145 [==============================] - ETA: 0s - loss: 0.1111 - accuracy: 0.9537\n",
      "Epoch 11: val_accuracy did not improve from 0.92746\n",
      "145/145 [==============================] - 71s 489ms/step - loss: 0.1111 - accuracy: 0.9537 - val_loss: 0.2756 - val_accuracy: 0.9210 - lr: 0.0010\n",
      "Epoch 12/30\n",
      "145/145 [==============================] - ETA: 0s - loss: 0.0950 - accuracy: 0.9626\n",
      "Epoch 12: val_accuracy did not improve from 0.92746\n",
      "145/145 [==============================] - 72s 494ms/step - loss: 0.0950 - accuracy: 0.9626 - val_loss: 0.2824 - val_accuracy: 0.8921 - lr: 0.0010\n",
      "Epoch 13/30\n",
      "145/145 [==============================] - ETA: 0s - loss: 0.0897 - accuracy: 0.9648\n",
      "Epoch 13: val_accuracy did not improve from 0.92746\n",
      "145/145 [==============================] - 71s 493ms/step - loss: 0.0897 - accuracy: 0.9648 - val_loss: 0.3131 - val_accuracy: 0.9093 - lr: 0.0010\n",
      "Epoch 14/30\n",
      "145/145 [==============================] - ETA: 0s - loss: 0.0850 - accuracy: 0.9684\n",
      "Epoch 14: val_accuracy did not improve from 0.92746\n",
      "145/145 [==============================] - 72s 494ms/step - loss: 0.0850 - accuracy: 0.9684 - val_loss: 0.2333 - val_accuracy: 0.9257 - lr: 0.0010\n",
      "Epoch 15/30\n",
      "145/145 [==============================] - ETA: 0s - loss: 0.0664 - accuracy: 0.9743\n",
      "Epoch 15: val_accuracy did not improve from 0.92746\n",
      "145/145 [==============================] - 72s 493ms/step - loss: 0.0664 - accuracy: 0.9743 - val_loss: 0.3794 - val_accuracy: 0.9141 - lr: 0.0010\n",
      "Epoch 16/30\n",
      "145/145 [==============================] - ETA: 0s - loss: 0.0312 - accuracy: 0.9886\n",
      "Epoch 16: val_accuracy did not improve from 0.92746\n",
      "145/145 [==============================] - 71s 492ms/step - loss: 0.0312 - accuracy: 0.9886 - val_loss: 0.3544 - val_accuracy: 0.9206 - lr: 1.0000e-04\n",
      "Epoch 17/30\n",
      "145/145 [==============================] - ETA: 0s - loss: 0.0121 - accuracy: 0.9976\n",
      "Epoch 17: val_accuracy did not improve from 0.92746\n",
      "145/145 [==============================] - 73s 502ms/step - loss: 0.0121 - accuracy: 0.9976 - val_loss: 0.4382 - val_accuracy: 0.9128 - lr: 1.0000e-04\n",
      "Epoch 18/30\n",
      "145/145 [==============================] - ETA: 0s - loss: 0.0062 - accuracy: 0.9986\n",
      "Epoch 18: val_accuracy did not improve from 0.92746\n",
      "145/145 [==============================] - 73s 500ms/step - loss: 0.0062 - accuracy: 0.9986 - val_loss: 0.4813 - val_accuracy: 0.9210 - lr: 1.0000e-04\n",
      "Epoch 19/30\n",
      "145/145 [==============================] - ETA: 0s - loss: 0.0033 - accuracy: 0.9990\n",
      "Epoch 19: val_accuracy did not improve from 0.92746\n",
      "145/145 [==============================] - 72s 498ms/step - loss: 0.0033 - accuracy: 0.9990 - val_loss: 0.5174 - val_accuracy: 0.9223 - lr: 1.0000e-04\n",
      "Epoch 20/30\n",
      "145/145 [==============================] - ETA: 0s - loss: 0.0028 - accuracy: 0.9992\n",
      "Epoch 20: val_accuracy did not improve from 0.92746\n",
      "145/145 [==============================] - 72s 495ms/step - loss: 0.0028 - accuracy: 0.9992 - val_loss: 0.5522 - val_accuracy: 0.9210 - lr: 1.0000e-04\n",
      "Epoch 21/30\n",
      "145/145 [==============================] - ETA: 0s - loss: 0.0021 - accuracy: 0.9996\n",
      "Epoch 21: val_accuracy did not improve from 0.92746\n",
      "145/145 [==============================] - 72s 496ms/step - loss: 0.0021 - accuracy: 0.9996 - val_loss: 0.5999 - val_accuracy: 0.9201 - lr: 1.0000e-04\n",
      "Epoch 22/30\n",
      "145/145 [==============================] - ETA: 0s - loss: 0.0025 - accuracy: 0.9992\n",
      "Epoch 22: val_accuracy did not improve from 0.92746\n",
      "145/145 [==============================] - 72s 493ms/step - loss: 0.0025 - accuracy: 0.9992 - val_loss: 0.6324 - val_accuracy: 0.9214 - lr: 1.0000e-04\n",
      "Epoch 23/30\n",
      "145/145 [==============================] - ETA: 0s - loss: 0.0023 - accuracy: 0.9990\n",
      "Epoch 23: val_accuracy did not improve from 0.92746\n",
      "145/145 [==============================] - 72s 495ms/step - loss: 0.0023 - accuracy: 0.9990 - val_loss: 0.6178 - val_accuracy: 0.9214 - lr: 1.0000e-04\n",
      "Epoch 24/30\n",
      "145/145 [==============================] - ETA: 0s - loss: 0.0017 - accuracy: 0.9994\n",
      "Epoch 24: val_accuracy did not improve from 0.92746\n",
      "145/145 [==============================] - 72s 496ms/step - loss: 0.0017 - accuracy: 0.9994 - val_loss: 0.6442 - val_accuracy: 0.9206 - lr: 1.0000e-04\n",
      "Epoch 25/30\n",
      "145/145 [==============================] - ETA: 0s - loss: 0.0012 - accuracy: 0.9995\n",
      "Epoch 25: val_accuracy did not improve from 0.92746\n",
      "145/145 [==============================] - 72s 494ms/step - loss: 0.0012 - accuracy: 0.9995 - val_loss: 0.6660 - val_accuracy: 0.9197 - lr: 1.0000e-04\n",
      "Epoch 26/30\n",
      "145/145 [==============================] - ETA: 0s - loss: 9.1006e-04 - accuracy: 0.9997\n",
      "Epoch 26: val_accuracy did not improve from 0.92746\n",
      "145/145 [==============================] - 72s 495ms/step - loss: 9.1006e-04 - accuracy: 0.9997 - val_loss: 0.6742 - val_accuracy: 0.9206 - lr: 1.0000e-05\n",
      "Epoch 27/30\n",
      "145/145 [==============================] - ETA: 0s - loss: 0.0011 - accuracy: 0.9997\n",
      "Epoch 27: val_accuracy did not improve from 0.92746\n",
      "145/145 [==============================] - 72s 493ms/step - loss: 0.0011 - accuracy: 0.9997 - val_loss: 0.6726 - val_accuracy: 0.9210 - lr: 1.0000e-05\n",
      "Epoch 28/30\n",
      "145/145 [==============================] - ETA: 0s - loss: 0.0014 - accuracy: 0.9995\n",
      "Epoch 28: val_accuracy did not improve from 0.92746\n",
      "145/145 [==============================] - 72s 496ms/step - loss: 0.0014 - accuracy: 0.9995 - val_loss: 0.6735 - val_accuracy: 0.9214 - lr: 1.0000e-05\n",
      "Epoch 29/30\n",
      "145/145 [==============================] - ETA: 0s - loss: 0.0012 - accuracy: 0.9995\n",
      "Epoch 29: val_accuracy did not improve from 0.92746\n",
      "145/145 [==============================] - 71s 491ms/step - loss: 0.0012 - accuracy: 0.9995 - val_loss: 0.6781 - val_accuracy: 0.9214 - lr: 1.0000e-05\n",
      "Epoch 30/30\n",
      "145/145 [==============================] - ETA: 0s - loss: 0.0013 - accuracy: 0.9995\n",
      "Epoch 30: val_accuracy did not improve from 0.92746\n",
      "145/145 [==============================] - 73s 500ms/step - loss: 0.0013 - accuracy: 0.9995 - val_loss: 0.6866 - val_accuracy: 0.9214 - lr: 1.0000e-05\n",
      "Epoch 1/30\n"
     ]
    },
    {
     "name": "stderr",
     "output_type": "stream",
     "text": [
      "2023-11-28 23:06:52.033130: I tensorflow/core/grappler/optimizers/custom_graph_optimizer_registry.cc:113] Plugin optimizer for device_type GPU is enabled.\n",
      "loc(\"mps_select\"(\"(mpsFileLoc): /AppleInternal/Library/BuildRoots/495c257e-668e-11ee-93ce-926038f30c31/Library/Caches/com.apple.xbs/Sources/MetalPerformanceShadersGraph/mpsgraph/MetalPerformanceShadersGraph/Core/Files/MPSGraphUtilities.mm\":294:0)): error: 'anec.gain_offset_control' op result #0 must be 4D/5D memref of 16-bit float or 8-bit signed integer or 8-bit unsigned integer values, but got 'memref<1x64x1x1xi1>'\n",
      "loc(\"mps_select\"(\"(mpsFileLoc): /AppleInternal/Library/BuildRoots/495c257e-668e-11ee-93ce-926038f30c31/Library/Caches/com.apple.xbs/Sources/MetalPerformanceShadersGraph/mpsgraph/MetalPerformanceShadersGraph/Core/Files/MPSGraphUtilities.mm\":294:0)): error: 'anec.gain_offset_control' op result #0 must be 4D/5D memref of 16-bit float or 8-bit signed integer or 8-bit unsigned integer values, but got 'memref<1x64x1x1xi1>'\n",
      "loc(\"mps_select\"(\"(mpsFileLoc): /AppleInternal/Library/BuildRoots/495c257e-668e-11ee-93ce-926038f30c31/Library/Caches/com.apple.xbs/Sources/MetalPerformanceShadersGraph/mpsgraph/MetalPerformanceShadersGraph/Core/Files/MPSGraphUtilities.mm\":294:0)): error: 'anec.gain_offset_control' op result #0 must be 4D/5D memref of 16-bit float or 8-bit signed integer or 8-bit unsigned integer values, but got 'memref<1x64x1x1xi1>'\n",
      "loc(\"mps_select\"(\"(mpsFileLoc): /AppleInternal/Library/BuildRoots/495c257e-668e-11ee-93ce-926038f30c31/Library/Caches/com.apple.xbs/Sources/MetalPerformanceShadersGraph/mpsgraph/MetalPerformanceShadersGraph/Core/Files/MPSGraphUtilities.mm\":294:0)): error: 'anec.gain_offset_control' op result #0 must be 4D/5D memref of 16-bit float or 8-bit signed integer or 8-bit unsigned integer values, but got 'memref<1x64x1x1xi1>'\n",
      "loc(\"mps_select\"(\"(mpsFileLoc): /AppleInternal/Library/BuildRoots/495c257e-668e-11ee-93ce-926038f30c31/Library/Caches/com.apple.xbs/Sources/MetalPerformanceShadersGraph/mpsgraph/MetalPerformanceShadersGraph/Core/Files/MPSGraphUtilities.mm\":294:0)): error: 'anec.gain_offset_control' op result #0 must be 4D/5D memref of 16-bit float or 8-bit signed integer or 8-bit unsigned integer values, but got 'memref<1x64x1x1xi1>'\n"
     ]
    },
    {
     "name": "stdout",
     "output_type": "stream",
     "text": [
      "144/145 [============================>.] - ETA: 0s - loss: 0.2308 - accuracy: 0.9103"
     ]
    },
    {
     "name": "stderr",
     "output_type": "stream",
     "text": [
      "loc(\"mps_select\"(\"(mpsFileLoc): /AppleInternal/Library/BuildRoots/495c257e-668e-11ee-93ce-926038f30c31/Library/Caches/com.apple.xbs/Sources/MetalPerformanceShadersGraph/mpsgraph/MetalPerformanceShadersGraph/Core/Files/MPSGraphUtilities.mm\":294:0)): error: 'anec.gain_offset_control' op result #0 must be 4D/5D memref of 16-bit float or 8-bit signed integer or 8-bit unsigned integer values, but got 'memref<1x46x1x1xi1>'\n",
      "loc(\"mps_select\"(\"(mpsFileLoc): /AppleInternal/Library/BuildRoots/495c257e-668e-11ee-93ce-926038f30c31/Library/Caches/com.apple.xbs/Sources/MetalPerformanceShadersGraph/mpsgraph/MetalPerformanceShadersGraph/Core/Files/MPSGraphUtilities.mm\":294:0)): error: 'anec.gain_offset_control' op result #0 must be 4D/5D memref of 16-bit float or 8-bit signed integer or 8-bit unsigned integer values, but got 'memref<1x46x1x1xi1>'\n",
      "loc(\"mps_select\"(\"(mpsFileLoc): /AppleInternal/Library/BuildRoots/495c257e-668e-11ee-93ce-926038f30c31/Library/Caches/com.apple.xbs/Sources/MetalPerformanceShadersGraph/mpsgraph/MetalPerformanceShadersGraph/Core/Files/MPSGraphUtilities.mm\":294:0)): error: 'anec.gain_offset_control' op result #0 must be 4D/5D memref of 16-bit float or 8-bit signed integer or 8-bit unsigned integer values, but got 'memref<1x46x1x1xi1>'\n",
      "loc(\"mps_select\"(\"(mpsFileLoc): /AppleInternal/Library/BuildRoots/495c257e-668e-11ee-93ce-926038f30c31/Library/Caches/com.apple.xbs/Sources/MetalPerformanceShadersGraph/mpsgraph/MetalPerformanceShadersGraph/Core/Files/MPSGraphUtilities.mm\":294:0)): error: 'anec.gain_offset_control' op result #0 must be 4D/5D memref of 16-bit float or 8-bit signed integer or 8-bit unsigned integer values, but got 'memref<1x46x1x1xi1>'\n",
      "loc(\"mps_select\"(\"(mpsFileLoc): /AppleInternal/Library/BuildRoots/495c257e-668e-11ee-93ce-926038f30c31/Library/Caches/com.apple.xbs/Sources/MetalPerformanceShadersGraph/mpsgraph/MetalPerformanceShadersGraph/Core/Files/MPSGraphUtilities.mm\":294:0)): error: 'anec.gain_offset_control' op result #0 must be 4D/5D memref of 16-bit float or 8-bit signed integer or 8-bit unsigned integer values, but got 'memref<1x46x1x1xi1>'\n"
     ]
    },
    {
     "name": "stdout",
     "output_type": "stream",
     "text": [
      "145/145 [==============================] - ETA: 0s - loss: 0.2308 - accuracy: 0.9101"
     ]
    },
    {
     "name": "stderr",
     "output_type": "stream",
     "text": [
      "2023-11-28 23:07:40.033439: I tensorflow/core/grappler/optimizers/custom_graph_optimizer_registry.cc:113] Plugin optimizer for device_type GPU is enabled.\n",
      "loc(\"mps_select\"(\"(mpsFileLoc): /AppleInternal/Library/BuildRoots/495c257e-668e-11ee-93ce-926038f30c31/Library/Caches/com.apple.xbs/Sources/MetalPerformanceShadersGraph/mpsgraph/MetalPerformanceShadersGraph/Core/Files/MPSGraphUtilities.mm\":294:0)): error: 'anec.gain_offset_control' op result #0 must be 4D/5D memref of 16-bit float or 8-bit signed integer or 8-bit unsigned integer values, but got 'memref<1x64x1x1xi1>'\n",
      "loc(\"mps_select\"(\"(mpsFileLoc): /AppleInternal/Library/BuildRoots/495c257e-668e-11ee-93ce-926038f30c31/Library/Caches/com.apple.xbs/Sources/MetalPerformanceShadersGraph/mpsgraph/MetalPerformanceShadersGraph/Core/Files/MPSGraphUtilities.mm\":294:0)): error: 'anec.gain_offset_control' op result #0 must be 4D/5D memref of 16-bit float or 8-bit signed integer or 8-bit unsigned integer values, but got 'memref<1x64x1x1xi1>'\n"
     ]
    },
    {
     "name": "stdout",
     "output_type": "stream",
     "text": [
      "\n",
      "Epoch 1: val_accuracy improved from -inf to 0.46503, saving model to F-classify/F-label_run4.h5\n",
      "145/145 [==============================] - 55s 344ms/step - loss: 0.2308 - accuracy: 0.9101 - val_loss: 2.3559 - val_accuracy: 0.4650 - lr: 0.0010\n",
      "Epoch 2/30\n"
     ]
    },
    {
     "name": "stderr",
     "output_type": "stream",
     "text": [
      "loc(\"mps_select\"(\"(mpsFileLoc): /AppleInternal/Library/BuildRoots/495c257e-668e-11ee-93ce-926038f30c31/Library/Caches/com.apple.xbs/Sources/MetalPerformanceShadersGraph/mpsgraph/MetalPerformanceShadersGraph/Core/Files/MPSGraphUtilities.mm\":294:0)): error: 'anec.gain_offset_control' op result #0 must be 4D/5D memref of 16-bit float or 8-bit signed integer or 8-bit unsigned integer values, but got 'memref<1x12x1x1xi1>'\n",
      "loc(\"mps_select\"(\"(mpsFileLoc): /AppleInternal/Library/BuildRoots/495c257e-668e-11ee-93ce-926038f30c31/Library/Caches/com.apple.xbs/Sources/MetalPerformanceShadersGraph/mpsgraph/MetalPerformanceShadersGraph/Core/Files/MPSGraphUtilities.mm\":294:0)): error: 'anec.gain_offset_control' op result #0 must be 4D/5D memref of 16-bit float or 8-bit signed integer or 8-bit unsigned integer values, but got 'memref<1x12x1x1xi1>'\n"
     ]
    },
    {
     "name": "stdout",
     "output_type": "stream",
     "text": [
      "145/145 [==============================] - ETA: 0s - loss: 0.1859 - accuracy: 0.9298\n",
      "Epoch 2: val_accuracy did not improve from 0.46503\n",
      "145/145 [==============================] - 50s 345ms/step - loss: 0.1859 - accuracy: 0.9298 - val_loss: 1.4771 - val_accuracy: 0.4650 - lr: 0.0010\n",
      "Epoch 3/30\n",
      "145/145 [==============================] - ETA: 0s - loss: 0.1783 - accuracy: 0.9281\n",
      "Epoch 3: val_accuracy improved from 0.46503 to 0.46589, saving model to F-classify/F-label_run4.h5\n",
      "145/145 [==============================] - 51s 351ms/step - loss: 0.1783 - accuracy: 0.9281 - val_loss: 0.8110 - val_accuracy: 0.4659 - lr: 0.0010\n",
      "Epoch 4/30\n",
      "145/145 [==============================] - ETA: 0s - loss: 0.1660 - accuracy: 0.9324\n",
      "Epoch 4: val_accuracy improved from 0.46589 to 0.72064, saving model to F-classify/F-label_run4.h5\n",
      "145/145 [==============================] - 51s 349ms/step - loss: 0.1660 - accuracy: 0.9324 - val_loss: 0.9247 - val_accuracy: 0.7206 - lr: 0.0010\n",
      "Epoch 5/30\n",
      "145/145 [==============================] - ETA: 0s - loss: 0.1603 - accuracy: 0.9365\n",
      "Epoch 5: val_accuracy improved from 0.72064 to 0.92444, saving model to F-classify/F-label_run4.h5\n",
      "145/145 [==============================] - 50s 348ms/step - loss: 0.1603 - accuracy: 0.9365 - val_loss: 0.2115 - val_accuracy: 0.9244 - lr: 0.0010\n",
      "Epoch 6/30\n",
      "145/145 [==============================] - ETA: 0s - loss: 0.1496 - accuracy: 0.9387\n",
      "Epoch 6: val_accuracy did not improve from 0.92444\n",
      "145/145 [==============================] - 50s 347ms/step - loss: 0.1496 - accuracy: 0.9387 - val_loss: 0.1842 - val_accuracy: 0.9240 - lr: 0.0010\n",
      "Epoch 7/30\n",
      "145/145 [==============================] - ETA: 0s - loss: 0.1465 - accuracy: 0.9409\n",
      "Epoch 7: val_accuracy improved from 0.92444 to 0.92573, saving model to F-classify/F-label_run4.h5\n",
      "145/145 [==============================] - 50s 347ms/step - loss: 0.1465 - accuracy: 0.9409 - val_loss: 0.1902 - val_accuracy: 0.9257 - lr: 0.0010\n",
      "Epoch 8/30\n",
      "145/145 [==============================] - ETA: 0s - loss: 0.1376 - accuracy: 0.9444\n",
      "Epoch 8: val_accuracy did not improve from 0.92573\n",
      "145/145 [==============================] - 50s 346ms/step - loss: 0.1376 - accuracy: 0.9444 - val_loss: 0.2145 - val_accuracy: 0.9206 - lr: 0.0010\n",
      "Epoch 9/30\n",
      "145/145 [==============================] - ETA: 0s - loss: 0.1281 - accuracy: 0.9467\n",
      "Epoch 9: val_accuracy did not improve from 0.92573\n",
      "145/145 [==============================] - 50s 347ms/step - loss: 0.1281 - accuracy: 0.9467 - val_loss: 0.2579 - val_accuracy: 0.9033 - lr: 0.0010\n",
      "Epoch 10/30\n",
      "145/145 [==============================] - ETA: 0s - loss: 0.1171 - accuracy: 0.9525\n",
      "Epoch 10: val_accuracy did not improve from 0.92573\n",
      "145/145 [==============================] - 50s 343ms/step - loss: 0.1171 - accuracy: 0.9525 - val_loss: 0.2756 - val_accuracy: 0.8942 - lr: 0.0010\n",
      "Epoch 11/30\n",
      "145/145 [==============================] - ETA: 0s - loss: 0.1029 - accuracy: 0.9556\n",
      "Epoch 11: val_accuracy did not improve from 0.92573\n",
      "145/145 [==============================] - 50s 346ms/step - loss: 0.1029 - accuracy: 0.9556 - val_loss: 0.2898 - val_accuracy: 0.8938 - lr: 0.0010\n",
      "Epoch 12/30\n",
      "145/145 [==============================] - ETA: 0s - loss: 0.0931 - accuracy: 0.9603\n",
      "Epoch 12: val_accuracy did not improve from 0.92573\n",
      "145/145 [==============================] - 50s 347ms/step - loss: 0.0931 - accuracy: 0.9603 - val_loss: 1.2881 - val_accuracy: 0.5760 - lr: 0.0010\n",
      "Epoch 13/30\n",
      "145/145 [==============================] - ETA: 0s - loss: 0.0735 - accuracy: 0.9724\n",
      "Epoch 13: val_accuracy did not improve from 0.92573\n",
      "145/145 [==============================] - 50s 343ms/step - loss: 0.0735 - accuracy: 0.9724 - val_loss: 0.4807 - val_accuracy: 0.9028 - lr: 0.0010\n",
      "Epoch 14/30\n",
      "145/145 [==============================] - ETA: 0s - loss: 0.0833 - accuracy: 0.9669\n",
      "Epoch 14: val_accuracy did not improve from 0.92573\n",
      "145/145 [==============================] - 49s 337ms/step - loss: 0.0833 - accuracy: 0.9669 - val_loss: 0.2430 - val_accuracy: 0.9089 - lr: 0.0010\n",
      "Epoch 15/30\n",
      "145/145 [==============================] - ETA: 0s - loss: 0.0839 - accuracy: 0.9683\n",
      "Epoch 15: val_accuracy did not improve from 0.92573\n",
      "145/145 [==============================] - 49s 338ms/step - loss: 0.0839 - accuracy: 0.9683 - val_loss: 0.2648 - val_accuracy: 0.9145 - lr: 0.0010\n",
      "Epoch 16/30\n",
      "145/145 [==============================] - ETA: 0s - loss: 0.0546 - accuracy: 0.9795\n",
      "Epoch 16: val_accuracy did not improve from 0.92573\n",
      "145/145 [==============================] - 49s 339ms/step - loss: 0.0546 - accuracy: 0.9795 - val_loss: 0.3345 - val_accuracy: 0.8748 - lr: 0.0010\n",
      "Epoch 17/30\n",
      "145/145 [==============================] - ETA: 0s - loss: 0.0563 - accuracy: 0.9792\n",
      "Epoch 17: val_accuracy did not improve from 0.92573\n",
      "145/145 [==============================] - 50s 344ms/step - loss: 0.0563 - accuracy: 0.9792 - val_loss: 0.2857 - val_accuracy: 0.9115 - lr: 0.0010\n",
      "Epoch 18/30\n",
      "145/145 [==============================] - ETA: 0s - loss: 0.0255 - accuracy: 0.9924\n",
      "Epoch 18: val_accuracy did not improve from 0.92573\n",
      "145/145 [==============================] - 50s 344ms/step - loss: 0.0255 - accuracy: 0.9924 - val_loss: 0.3405 - val_accuracy: 0.9093 - lr: 1.0000e-04\n",
      "Epoch 19/30\n",
      "145/145 [==============================] - ETA: 0s - loss: 0.0087 - accuracy: 0.9982\n",
      "Epoch 19: val_accuracy did not improve from 0.92573\n",
      "145/145 [==============================] - 50s 347ms/step - loss: 0.0087 - accuracy: 0.9982 - val_loss: 0.3737 - val_accuracy: 0.9059 - lr: 1.0000e-04\n",
      "Epoch 20/30\n",
      "145/145 [==============================] - ETA: 0s - loss: 0.0043 - accuracy: 0.9997\n",
      "Epoch 20: val_accuracy did not improve from 0.92573\n",
      "145/145 [==============================] - 50s 344ms/step - loss: 0.0043 - accuracy: 0.9997 - val_loss: 0.4102 - val_accuracy: 0.9102 - lr: 1.0000e-04\n",
      "Epoch 21/30\n",
      "145/145 [==============================] - ETA: 0s - loss: 0.0030 - accuracy: 0.9998\n",
      "Epoch 21: val_accuracy did not improve from 0.92573\n",
      "145/145 [==============================] - 50s 347ms/step - loss: 0.0030 - accuracy: 0.9998 - val_loss: 0.4445 - val_accuracy: 0.9128 - lr: 1.0000e-04\n",
      "Epoch 22/30\n",
      "145/145 [==============================] - ETA: 0s - loss: 0.0021 - accuracy: 0.9998\n",
      "Epoch 22: val_accuracy did not improve from 0.92573\n",
      "145/145 [==============================] - 50s 347ms/step - loss: 0.0021 - accuracy: 0.9998 - val_loss: 0.4717 - val_accuracy: 0.9132 - lr: 1.0000e-04\n",
      "Epoch 23/30\n",
      "145/145 [==============================] - ETA: 0s - loss: 0.0016 - accuracy: 0.9998\n",
      "Epoch 23: val_accuracy did not improve from 0.92573\n",
      "145/145 [==============================] - 50s 348ms/step - loss: 0.0016 - accuracy: 0.9998 - val_loss: 0.4927 - val_accuracy: 0.9132 - lr: 1.0000e-04\n",
      "Epoch 24/30\n",
      "145/145 [==============================] - ETA: 0s - loss: 0.0013 - accuracy: 0.9998\n",
      "Epoch 24: val_accuracy did not improve from 0.92573\n",
      "145/145 [==============================] - 50s 345ms/step - loss: 0.0013 - accuracy: 0.9998 - val_loss: 0.5059 - val_accuracy: 0.9123 - lr: 1.0000e-04\n",
      "Epoch 25/30\n",
      "145/145 [==============================] - ETA: 0s - loss: 0.0011 - accuracy: 0.9998\n",
      "Epoch 25: val_accuracy did not improve from 0.92573\n",
      "145/145 [==============================] - 51s 349ms/step - loss: 0.0011 - accuracy: 0.9998 - val_loss: 0.5225 - val_accuracy: 0.9123 - lr: 1.0000e-04\n",
      "Epoch 26/30\n",
      "145/145 [==============================] - ETA: 0s - loss: 9.3056e-04 - accuracy: 0.9997\n",
      "Epoch 26: val_accuracy did not improve from 0.92573\n",
      "145/145 [==============================] - 50s 344ms/step - loss: 9.3056e-04 - accuracy: 0.9997 - val_loss: 0.5407 - val_accuracy: 0.9136 - lr: 1.0000e-04\n",
      "Epoch 27/30\n",
      "145/145 [==============================] - ETA: 0s - loss: 8.7269e-04 - accuracy: 0.9998\n",
      "Epoch 27: val_accuracy did not improve from 0.92573\n",
      "145/145 [==============================] - 51s 348ms/step - loss: 8.7269e-04 - accuracy: 0.9998 - val_loss: 0.5594 - val_accuracy: 0.9119 - lr: 1.0000e-04\n",
      "Epoch 28/30\n",
      "145/145 [==============================] - ETA: 0s - loss: 8.4386e-04 - accuracy: 0.9998\n",
      "Epoch 28: val_accuracy did not improve from 0.92573\n",
      "145/145 [==============================] - 50s 347ms/step - loss: 8.4386e-04 - accuracy: 0.9998 - val_loss: 0.5594 - val_accuracy: 0.9123 - lr: 1.0000e-05\n",
      "Epoch 29/30\n",
      "145/145 [==============================] - ETA: 0s - loss: 7.9007e-04 - accuracy: 0.9997\n",
      "Epoch 29: val_accuracy did not improve from 0.92573\n",
      "145/145 [==============================] - 51s 353ms/step - loss: 7.9007e-04 - accuracy: 0.9997 - val_loss: 0.5594 - val_accuracy: 0.9119 - lr: 1.0000e-05\n",
      "Epoch 30/30\n",
      "145/145 [==============================] - ETA: 0s - loss: 7.1546e-04 - accuracy: 0.9998\n",
      "Epoch 30: val_accuracy did not improve from 0.92573\n",
      "145/145 [==============================] - 50s 347ms/step - loss: 7.1546e-04 - accuracy: 0.9998 - val_loss: 0.5613 - val_accuracy: 0.9119 - lr: 1.0000e-05\n",
      "Epoch 1/30\n"
     ]
    },
    {
     "name": "stderr",
     "output_type": "stream",
     "text": [
      "2023-11-28 23:32:03.394025: I tensorflow/core/grappler/optimizers/custom_graph_optimizer_registry.cc:113] Plugin optimizer for device_type GPU is enabled.\n",
      "loc(\"mps_select\"(\"(mpsFileLoc): /AppleInternal/Library/BuildRoots/495c257e-668e-11ee-93ce-926038f30c31/Library/Caches/com.apple.xbs/Sources/MetalPerformanceShadersGraph/mpsgraph/MetalPerformanceShadersGraph/Core/Files/MPSGraphUtilities.mm\":294:0)): error: 'anec.gain_offset_control' op result #0 must be 4D/5D memref of 16-bit float or 8-bit signed integer or 8-bit unsigned integer values, but got 'memref<1x64x1x1xi1>'\n",
      "loc(\"mps_select\"(\"(mpsFileLoc): /AppleInternal/Library/BuildRoots/495c257e-668e-11ee-93ce-926038f30c31/Library/Caches/com.apple.xbs/Sources/MetalPerformanceShadersGraph/mpsgraph/MetalPerformanceShadersGraph/Core/Files/MPSGraphUtilities.mm\":294:0)): error: 'anec.gain_offset_control' op result #0 must be 4D/5D memref of 16-bit float or 8-bit signed integer or 8-bit unsigned integer values, but got 'memref<1x64x1x1xi1>'\n",
      "loc(\"mps_select\"(\"(mpsFileLoc): /AppleInternal/Library/BuildRoots/495c257e-668e-11ee-93ce-926038f30c31/Library/Caches/com.apple.xbs/Sources/MetalPerformanceShadersGraph/mpsgraph/MetalPerformanceShadersGraph/Core/Files/MPSGraphUtilities.mm\":294:0)): error: 'anec.gain_offset_control' op result #0 must be 4D/5D memref of 16-bit float or 8-bit signed integer or 8-bit unsigned integer values, but got 'memref<1x64x1x1xi1>'\n",
      "loc(\"mps_select\"(\"(mpsFileLoc): /AppleInternal/Library/BuildRoots/495c257e-668e-11ee-93ce-926038f30c31/Library/Caches/com.apple.xbs/Sources/MetalPerformanceShadersGraph/mpsgraph/MetalPerformanceShadersGraph/Core/Files/MPSGraphUtilities.mm\":294:0)): error: 'anec.gain_offset_control' op result #0 must be 4D/5D memref of 16-bit float or 8-bit signed integer or 8-bit unsigned integer values, but got 'memref<1x64x1x1xi1>'\n",
      "loc(\"mps_select\"(\"(mpsFileLoc): /AppleInternal/Library/BuildRoots/495c257e-668e-11ee-93ce-926038f30c31/Library/Caches/com.apple.xbs/Sources/MetalPerformanceShadersGraph/mpsgraph/MetalPerformanceShadersGraph/Core/Files/MPSGraphUtilities.mm\":294:0)): error: 'anec.gain_offset_control' op result #0 must be 4D/5D memref of 16-bit float or 8-bit signed integer or 8-bit unsigned integer values, but got 'memref<1x64x1x1xi1>'\n"
     ]
    },
    {
     "name": "stdout",
     "output_type": "stream",
     "text": [
      "144/145 [============================>.] - ETA: 0s - loss: 0.2310 - accuracy: 0.9138"
     ]
    },
    {
     "name": "stderr",
     "output_type": "stream",
     "text": [
      "loc(\"mps_select\"(\"(mpsFileLoc): /AppleInternal/Library/BuildRoots/495c257e-668e-11ee-93ce-926038f30c31/Library/Caches/com.apple.xbs/Sources/MetalPerformanceShadersGraph/mpsgraph/MetalPerformanceShadersGraph/Core/Files/MPSGraphUtilities.mm\":294:0)): error: 'anec.gain_offset_control' op result #0 must be 4D/5D memref of 16-bit float or 8-bit signed integer or 8-bit unsigned integer values, but got 'memref<1x46x1x1xi1>'\n",
      "loc(\"mps_select\"(\"(mpsFileLoc): /AppleInternal/Library/BuildRoots/495c257e-668e-11ee-93ce-926038f30c31/Library/Caches/com.apple.xbs/Sources/MetalPerformanceShadersGraph/mpsgraph/MetalPerformanceShadersGraph/Core/Files/MPSGraphUtilities.mm\":294:0)): error: 'anec.gain_offset_control' op result #0 must be 4D/5D memref of 16-bit float or 8-bit signed integer or 8-bit unsigned integer values, but got 'memref<1x46x1x1xi1>'\n",
      "loc(\"mps_select\"(\"(mpsFileLoc): /AppleInternal/Library/BuildRoots/495c257e-668e-11ee-93ce-926038f30c31/Library/Caches/com.apple.xbs/Sources/MetalPerformanceShadersGraph/mpsgraph/MetalPerformanceShadersGraph/Core/Files/MPSGraphUtilities.mm\":294:0)): error: 'anec.gain_offset_control' op result #0 must be 4D/5D memref of 16-bit float or 8-bit signed integer or 8-bit unsigned integer values, but got 'memref<1x46x1x1xi1>'\n",
      "loc(\"mps_select\"(\"(mpsFileLoc): /AppleInternal/Library/BuildRoots/495c257e-668e-11ee-93ce-926038f30c31/Library/Caches/com.apple.xbs/Sources/MetalPerformanceShadersGraph/mpsgraph/MetalPerformanceShadersGraph/Core/Files/MPSGraphUtilities.mm\":294:0)): error: 'anec.gain_offset_control' op result #0 must be 4D/5D memref of 16-bit float or 8-bit signed integer or 8-bit unsigned integer values, but got 'memref<1x46x1x1xi1>'\n",
      "loc(\"mps_select\"(\"(mpsFileLoc): /AppleInternal/Library/BuildRoots/495c257e-668e-11ee-93ce-926038f30c31/Library/Caches/com.apple.xbs/Sources/MetalPerformanceShadersGraph/mpsgraph/MetalPerformanceShadersGraph/Core/Files/MPSGraphUtilities.mm\":294:0)): error: 'anec.gain_offset_control' op result #0 must be 4D/5D memref of 16-bit float or 8-bit signed integer or 8-bit unsigned integer values, but got 'memref<1x46x1x1xi1>'\n"
     ]
    },
    {
     "name": "stdout",
     "output_type": "stream",
     "text": [
      "145/145 [==============================] - ETA: 0s - loss: 0.2304 - accuracy: 0.9141"
     ]
    },
    {
     "name": "stderr",
     "output_type": "stream",
     "text": [
      "2023-11-28 23:33:05.161068: I tensorflow/core/grappler/optimizers/custom_graph_optimizer_registry.cc:113] Plugin optimizer for device_type GPU is enabled.\n",
      "loc(\"mps_select\"(\"(mpsFileLoc): /AppleInternal/Library/BuildRoots/495c257e-668e-11ee-93ce-926038f30c31/Library/Caches/com.apple.xbs/Sources/MetalPerformanceShadersGraph/mpsgraph/MetalPerformanceShadersGraph/Core/Files/MPSGraphUtilities.mm\":294:0)): error: 'anec.gain_offset_control' op result #0 must be 4D/5D memref of 16-bit float or 8-bit signed integer or 8-bit unsigned integer values, but got 'memref<1x64x1x1xi1>'\n",
      "loc(\"mps_select\"(\"(mpsFileLoc): /AppleInternal/Library/BuildRoots/495c257e-668e-11ee-93ce-926038f30c31/Library/Caches/com.apple.xbs/Sources/MetalPerformanceShadersGraph/mpsgraph/MetalPerformanceShadersGraph/Core/Files/MPSGraphUtilities.mm\":294:0)): error: 'anec.gain_offset_control' op result #0 must be 4D/5D memref of 16-bit float or 8-bit signed integer or 8-bit unsigned integer values, but got 'memref<1x64x1x1xi1>'\n"
     ]
    },
    {
     "name": "stdout",
     "output_type": "stream",
     "text": [
      "\n",
      "Epoch 1: val_accuracy improved from -inf to 0.46503, saving model to F-classify/F-label_run5.h5\n",
      "145/145 [==============================] - 66s 441ms/step - loss: 0.2304 - accuracy: 0.9141 - val_loss: 1.1987 - val_accuracy: 0.4650 - lr: 0.0010\n"
     ]
    },
    {
     "name": "stderr",
     "output_type": "stream",
     "text": [
      "loc(\"mps_select\"(\"(mpsFileLoc): /AppleInternal/Library/BuildRoots/495c257e-668e-11ee-93ce-926038f30c31/Library/Caches/com.apple.xbs/Sources/MetalPerformanceShadersGraph/mpsgraph/MetalPerformanceShadersGraph/Core/Files/MPSGraphUtilities.mm\":294:0)): error: 'anec.gain_offset_control' op result #0 must be 4D/5D memref of 16-bit float or 8-bit signed integer or 8-bit unsigned integer values, but got 'memref<1x12x1x1xi1>'\n",
      "loc(\"mps_select\"(\"(mpsFileLoc): /AppleInternal/Library/BuildRoots/495c257e-668e-11ee-93ce-926038f30c31/Library/Caches/com.apple.xbs/Sources/MetalPerformanceShadersGraph/mpsgraph/MetalPerformanceShadersGraph/Core/Files/MPSGraphUtilities.mm\":294:0)): error: 'anec.gain_offset_control' op result #0 must be 4D/5D memref of 16-bit float or 8-bit signed integer or 8-bit unsigned integer values, but got 'memref<1x12x1x1xi1>'\n"
     ]
    },
    {
     "name": "stdout",
     "output_type": "stream",
     "text": [
      "Epoch 2/30\n",
      "145/145 [==============================] - ETA: 0s - loss: 0.1867 - accuracy: 0.9271\n",
      "Epoch 2: val_accuracy did not improve from 0.46503\n",
      "145/145 [==============================] - 51s 349ms/step - loss: 0.1867 - accuracy: 0.9271 - val_loss: 3.3712 - val_accuracy: 0.4650 - lr: 0.0010\n",
      "Epoch 3/30\n",
      "145/145 [==============================] - ETA: 0s - loss: 0.1723 - accuracy: 0.9306\n",
      "Epoch 3: val_accuracy improved from 0.46503 to 0.52979, saving model to F-classify/F-label_run5.h5\n",
      "145/145 [==============================] - 51s 350ms/step - loss: 0.1723 - accuracy: 0.9306 - val_loss: 0.8106 - val_accuracy: 0.5298 - lr: 0.0010\n",
      "Epoch 4/30\n",
      "145/145 [==============================] - ETA: 0s - loss: 0.1671 - accuracy: 0.9310\n",
      "Epoch 4: val_accuracy improved from 0.52979 to 0.67617, saving model to F-classify/F-label_run5.h5\n",
      "145/145 [==============================] - 51s 351ms/step - loss: 0.1671 - accuracy: 0.9310 - val_loss: 0.6227 - val_accuracy: 0.6762 - lr: 0.0010\n",
      "Epoch 5/30\n",
      "145/145 [==============================] - ETA: 0s - loss: 0.1540 - accuracy: 0.9378\n",
      "Epoch 5: val_accuracy improved from 0.67617 to 0.91926, saving model to F-classify/F-label_run5.h5\n",
      "145/145 [==============================] - 51s 353ms/step - loss: 0.1540 - accuracy: 0.9378 - val_loss: 0.2287 - val_accuracy: 0.9193 - lr: 0.0010\n",
      "Epoch 6/30\n",
      "145/145 [==============================] - ETA: 0s - loss: 0.1485 - accuracy: 0.9400\n",
      "Epoch 6: val_accuracy did not improve from 0.91926\n",
      "145/145 [==============================] - 51s 353ms/step - loss: 0.1485 - accuracy: 0.9400 - val_loss: 0.3631 - val_accuracy: 0.9132 - lr: 0.0010\n",
      "Epoch 7/30\n",
      "145/145 [==============================] - ETA: 0s - loss: 0.1395 - accuracy: 0.9413\n",
      "Epoch 7: val_accuracy did not improve from 0.91926\n",
      "145/145 [==============================] - 49s 340ms/step - loss: 0.1395 - accuracy: 0.9413 - val_loss: 0.2226 - val_accuracy: 0.9106 - lr: 0.0010\n",
      "Epoch 8/30\n",
      "145/145 [==============================] - ETA: 0s - loss: 0.1348 - accuracy: 0.9454\n",
      "Epoch 8: val_accuracy improved from 0.91926 to 0.92012, saving model to F-classify/F-label_run5.h5\n",
      "145/145 [==============================] - 52s 360ms/step - loss: 0.1348 - accuracy: 0.9454 - val_loss: 0.2459 - val_accuracy: 0.9201 - lr: 0.0010\n",
      "Epoch 9/30\n",
      "145/145 [==============================] - ETA: 0s - loss: 0.1248 - accuracy: 0.9511\n",
      "Epoch 9: val_accuracy did not improve from 0.92012\n",
      "145/145 [==============================] - 50s 342ms/step - loss: 0.1248 - accuracy: 0.9511 - val_loss: 0.2411 - val_accuracy: 0.9111 - lr: 0.0010\n",
      "Epoch 10/30\n",
      "145/145 [==============================] - ETA: 0s - loss: 0.1187 - accuracy: 0.9510\n",
      "Epoch 10: val_accuracy did not improve from 0.92012\n",
      "145/145 [==============================] - 50s 347ms/step - loss: 0.1187 - accuracy: 0.9510 - val_loss: 0.2555 - val_accuracy: 0.9080 - lr: 0.0010\n",
      "Epoch 11/30\n",
      "145/145 [==============================] - ETA: 0s - loss: 0.1180 - accuracy: 0.9534\n",
      "Epoch 11: val_accuracy did not improve from 0.92012\n",
      "145/145 [==============================] - 51s 353ms/step - loss: 0.1180 - accuracy: 0.9534 - val_loss: 0.3217 - val_accuracy: 0.8899 - lr: 0.0010\n",
      "Epoch 12/30\n",
      "145/145 [==============================] - ETA: 0s - loss: 0.1148 - accuracy: 0.9537\n",
      "Epoch 12: val_accuracy did not improve from 0.92012\n",
      "145/145 [==============================] - 50s 346ms/step - loss: 0.1148 - accuracy: 0.9537 - val_loss: 0.2265 - val_accuracy: 0.9188 - lr: 0.0010\n",
      "Epoch 13/30\n",
      "145/145 [==============================] - ETA: 0s - loss: 0.0994 - accuracy: 0.9604\n",
      "Epoch 13: val_accuracy did not improve from 0.92012\n",
      "145/145 [==============================] - 51s 349ms/step - loss: 0.0994 - accuracy: 0.9604 - val_loss: 0.2505 - val_accuracy: 0.9154 - lr: 0.0010\n",
      "Epoch 14/30\n",
      "145/145 [==============================] - ETA: 0s - loss: 0.0779 - accuracy: 0.9681\n",
      "Epoch 14: val_accuracy did not improve from 0.92012\n",
      "145/145 [==============================] - 50s 345ms/step - loss: 0.0779 - accuracy: 0.9681 - val_loss: 0.3744 - val_accuracy: 0.9119 - lr: 0.0010\n",
      "Epoch 15/30\n",
      "145/145 [==============================] - ETA: 0s - loss: 0.0755 - accuracy: 0.9705\n",
      "Epoch 15: val_accuracy did not improve from 0.92012\n",
      "145/145 [==============================] - 50s 347ms/step - loss: 0.0755 - accuracy: 0.9705 - val_loss: 0.4127 - val_accuracy: 0.9003 - lr: 0.0010\n",
      "Epoch 16/30\n",
      "145/145 [==============================] - ETA: 0s - loss: 0.0658 - accuracy: 0.9758\n",
      "Epoch 16: val_accuracy did not improve from 0.92012\n",
      "145/145 [==============================] - 51s 354ms/step - loss: 0.0658 - accuracy: 0.9758 - val_loss: 0.2611 - val_accuracy: 0.9197 - lr: 0.0010\n",
      "Epoch 17/30\n",
      "145/145 [==============================] - ETA: 0s - loss: 0.0559 - accuracy: 0.9788\n",
      "Epoch 17: val_accuracy did not improve from 0.92012\n",
      "145/145 [==============================] - 50s 345ms/step - loss: 0.0559 - accuracy: 0.9788 - val_loss: 0.3434 - val_accuracy: 0.9145 - lr: 0.0010\n",
      "Epoch 18/30\n",
      "145/145 [==============================] - ETA: 0s - loss: 0.0442 - accuracy: 0.9836\n",
      "Epoch 18: val_accuracy did not improve from 0.92012\n",
      "145/145 [==============================] - 49s 337ms/step - loss: 0.0442 - accuracy: 0.9836 - val_loss: 0.4224 - val_accuracy: 0.9197 - lr: 0.0010\n",
      "Epoch 19/30\n",
      "145/145 [==============================] - ETA: 0s - loss: 0.0176 - accuracy: 0.9931\n",
      "Epoch 19: val_accuracy did not improve from 0.92012\n",
      "145/145 [==============================] - 49s 340ms/step - loss: 0.0176 - accuracy: 0.9931 - val_loss: 0.4033 - val_accuracy: 0.9059 - lr: 1.0000e-04\n",
      "Epoch 20/30\n",
      "145/145 [==============================] - ETA: 0s - loss: 0.0068 - accuracy: 0.9987\n",
      "Epoch 20: val_accuracy did not improve from 0.92012\n",
      "145/145 [==============================] - 49s 340ms/step - loss: 0.0068 - accuracy: 0.9987 - val_loss: 0.4497 - val_accuracy: 0.9093 - lr: 1.0000e-04\n",
      "Epoch 21/30\n",
      "145/145 [==============================] - ETA: 0s - loss: 0.0036 - accuracy: 0.9996\n",
      "Epoch 21: val_accuracy did not improve from 0.92012\n",
      "145/145 [==============================] - 49s 340ms/step - loss: 0.0036 - accuracy: 0.9996 - val_loss: 0.4862 - val_accuracy: 0.9136 - lr: 1.0000e-04\n",
      "Epoch 22/30\n",
      "145/145 [==============================] - ETA: 0s - loss: 0.0029 - accuracy: 0.9994\n",
      "Epoch 22: val_accuracy did not improve from 0.92012\n",
      "145/145 [==============================] - 49s 338ms/step - loss: 0.0029 - accuracy: 0.9994 - val_loss: 0.5211 - val_accuracy: 0.9128 - lr: 1.0000e-04\n",
      "Epoch 23/30\n",
      "145/145 [==============================] - ETA: 0s - loss: 0.0021 - accuracy: 0.9994\n",
      "Epoch 23: val_accuracy did not improve from 0.92012\n",
      "145/145 [==============================] - 49s 336ms/step - loss: 0.0021 - accuracy: 0.9994 - val_loss: 0.5444 - val_accuracy: 0.9132 - lr: 1.0000e-04\n",
      "Epoch 24/30\n",
      "145/145 [==============================] - ETA: 0s - loss: 0.0018 - accuracy: 0.9995\n",
      "Epoch 24: val_accuracy did not improve from 0.92012\n",
      "145/145 [==============================] - 49s 336ms/step - loss: 0.0018 - accuracy: 0.9995 - val_loss: 0.5650 - val_accuracy: 0.9145 - lr: 1.0000e-04\n",
      "Epoch 25/30\n",
      "145/145 [==============================] - ETA: 0s - loss: 0.0016 - accuracy: 0.9996\n",
      "Epoch 25: val_accuracy did not improve from 0.92012\n",
      "145/145 [==============================] - 49s 336ms/step - loss: 0.0016 - accuracy: 0.9996 - val_loss: 0.5913 - val_accuracy: 0.9141 - lr: 1.0000e-04\n",
      "Epoch 26/30\n",
      "145/145 [==============================] - ETA: 0s - loss: 0.0014 - accuracy: 0.9994\n",
      "Epoch 26: val_accuracy did not improve from 0.92012\n",
      "145/145 [==============================] - 48s 333ms/step - loss: 0.0014 - accuracy: 0.9994 - val_loss: 0.6029 - val_accuracy: 0.9145 - lr: 1.0000e-04\n",
      "Epoch 27/30\n",
      "145/145 [==============================] - ETA: 0s - loss: 0.0014 - accuracy: 0.9996\n",
      "Epoch 27: val_accuracy did not improve from 0.92012\n",
      "145/145 [==============================] - 49s 335ms/step - loss: 0.0014 - accuracy: 0.9996 - val_loss: 0.6170 - val_accuracy: 0.9145 - lr: 1.0000e-04\n",
      "Epoch 28/30\n",
      "145/145 [==============================] - ETA: 0s - loss: 0.0011 - accuracy: 0.9996\n",
      "Epoch 28: val_accuracy did not improve from 0.92012\n",
      "145/145 [==============================] - 48s 332ms/step - loss: 0.0011 - accuracy: 0.9996 - val_loss: 0.6318 - val_accuracy: 0.9149 - lr: 1.0000e-04\n",
      "Epoch 29/30\n",
      "145/145 [==============================] - ETA: 0s - loss: 0.0012 - accuracy: 0.9992  \n",
      "Epoch 29: val_accuracy did not improve from 0.92012\n",
      "145/145 [==============================] - 49s 335ms/step - loss: 0.0012 - accuracy: 0.9992 - val_loss: 0.6330 - val_accuracy: 0.9145 - lr: 1.0000e-05\n",
      "Epoch 30/30\n",
      "145/145 [==============================] - ETA: 0s - loss: 0.0012 - accuracy: 0.9996\n",
      "Epoch 30: val_accuracy did not improve from 0.92012\n",
      "145/145 [==============================] - 49s 336ms/step - loss: 0.0012 - accuracy: 0.9996 - val_loss: 0.6348 - val_accuracy: 0.9145 - lr: 1.0000e-05\n",
      "Epoch 1/30\n"
     ]
    },
    {
     "name": "stderr",
     "output_type": "stream",
     "text": [
      "2023-11-28 23:57:18.580166: I tensorflow/core/grappler/optimizers/custom_graph_optimizer_registry.cc:113] Plugin optimizer for device_type GPU is enabled.\n",
      "loc(\"mps_select\"(\"(mpsFileLoc): /AppleInternal/Library/BuildRoots/495c257e-668e-11ee-93ce-926038f30c31/Library/Caches/com.apple.xbs/Sources/MetalPerformanceShadersGraph/mpsgraph/MetalPerformanceShadersGraph/Core/Files/MPSGraphUtilities.mm\":294:0)): error: 'anec.gain_offset_control' op result #0 must be 4D/5D memref of 16-bit float or 8-bit signed integer or 8-bit unsigned integer values, but got 'memref<1x64x1x1xi1>'\n",
      "loc(\"mps_select\"(\"(mpsFileLoc): /AppleInternal/Library/BuildRoots/495c257e-668e-11ee-93ce-926038f30c31/Library/Caches/com.apple.xbs/Sources/MetalPerformanceShadersGraph/mpsgraph/MetalPerformanceShadersGraph/Core/Files/MPSGraphUtilities.mm\":294:0)): error: 'anec.gain_offset_control' op result #0 must be 4D/5D memref of 16-bit float or 8-bit signed integer or 8-bit unsigned integer values, but got 'memref<1x64x1x1xi1>'\n",
      "loc(\"mps_select\"(\"(mpsFileLoc): /AppleInternal/Library/BuildRoots/495c257e-668e-11ee-93ce-926038f30c31/Library/Caches/com.apple.xbs/Sources/MetalPerformanceShadersGraph/mpsgraph/MetalPerformanceShadersGraph/Core/Files/MPSGraphUtilities.mm\":294:0)): error: 'anec.gain_offset_control' op result #0 must be 4D/5D memref of 16-bit float or 8-bit signed integer or 8-bit unsigned integer values, but got 'memref<1x64x1x1xi1>'\n",
      "loc(\"mps_select\"(\"(mpsFileLoc): /AppleInternal/Library/BuildRoots/495c257e-668e-11ee-93ce-926038f30c31/Library/Caches/com.apple.xbs/Sources/MetalPerformanceShadersGraph/mpsgraph/MetalPerformanceShadersGraph/Core/Files/MPSGraphUtilities.mm\":294:0)): error: 'anec.gain_offset_control' op result #0 must be 4D/5D memref of 16-bit float or 8-bit signed integer or 8-bit unsigned integer values, but got 'memref<1x64x1x1xi1>'\n",
      "loc(\"mps_select\"(\"(mpsFileLoc): /AppleInternal/Library/BuildRoots/495c257e-668e-11ee-93ce-926038f30c31/Library/Caches/com.apple.xbs/Sources/MetalPerformanceShadersGraph/mpsgraph/MetalPerformanceShadersGraph/Core/Files/MPSGraphUtilities.mm\":294:0)): error: 'anec.gain_offset_control' op result #0 must be 4D/5D memref of 16-bit float or 8-bit signed integer or 8-bit unsigned integer values, but got 'memref<1x64x1x1xi1>'\n"
     ]
    },
    {
     "name": "stdout",
     "output_type": "stream",
     "text": [
      "144/145 [============================>.] - ETA: 0s - loss: 0.2372 - accuracy: 0.9102"
     ]
    },
    {
     "name": "stderr",
     "output_type": "stream",
     "text": [
      "loc(\"mps_select\"(\"(mpsFileLoc): /AppleInternal/Library/BuildRoots/495c257e-668e-11ee-93ce-926038f30c31/Library/Caches/com.apple.xbs/Sources/MetalPerformanceShadersGraph/mpsgraph/MetalPerformanceShadersGraph/Core/Files/MPSGraphUtilities.mm\":294:0)): error: 'anec.gain_offset_control' op result #0 must be 4D/5D memref of 16-bit float or 8-bit signed integer or 8-bit unsigned integer values, but got 'memref<1x46x1x1xi1>'\n",
      "loc(\"mps_select\"(\"(mpsFileLoc): /AppleInternal/Library/BuildRoots/495c257e-668e-11ee-93ce-926038f30c31/Library/Caches/com.apple.xbs/Sources/MetalPerformanceShadersGraph/mpsgraph/MetalPerformanceShadersGraph/Core/Files/MPSGraphUtilities.mm\":294:0)): error: 'anec.gain_offset_control' op result #0 must be 4D/5D memref of 16-bit float or 8-bit signed integer or 8-bit unsigned integer values, but got 'memref<1x46x1x1xi1>'\n",
      "loc(\"mps_select\"(\"(mpsFileLoc): /AppleInternal/Library/BuildRoots/495c257e-668e-11ee-93ce-926038f30c31/Library/Caches/com.apple.xbs/Sources/MetalPerformanceShadersGraph/mpsgraph/MetalPerformanceShadersGraph/Core/Files/MPSGraphUtilities.mm\":294:0)): error: 'anec.gain_offset_control' op result #0 must be 4D/5D memref of 16-bit float or 8-bit signed integer or 8-bit unsigned integer values, but got 'memref<1x46x1x1xi1>'\n",
      "loc(\"mps_select\"(\"(mpsFileLoc): /AppleInternal/Library/BuildRoots/495c257e-668e-11ee-93ce-926038f30c31/Library/Caches/com.apple.xbs/Sources/MetalPerformanceShadersGraph/mpsgraph/MetalPerformanceShadersGraph/Core/Files/MPSGraphUtilities.mm\":294:0)): error: 'anec.gain_offset_control' op result #0 must be 4D/5D memref of 16-bit float or 8-bit signed integer or 8-bit unsigned integer values, but got 'memref<1x46x1x1xi1>'\n",
      "loc(\"mps_select\"(\"(mpsFileLoc): /AppleInternal/Library/BuildRoots/495c257e-668e-11ee-93ce-926038f30c31/Library/Caches/com.apple.xbs/Sources/MetalPerformanceShadersGraph/mpsgraph/MetalPerformanceShadersGraph/Core/Files/MPSGraphUtilities.mm\":294:0)): error: 'anec.gain_offset_control' op result #0 must be 4D/5D memref of 16-bit float or 8-bit signed integer or 8-bit unsigned integer values, but got 'memref<1x46x1x1xi1>'\n"
     ]
    },
    {
     "name": "stdout",
     "output_type": "stream",
     "text": [
      "145/145 [==============================] - ETA: 0s - loss: 0.2368 - accuracy: 0.9103"
     ]
    },
    {
     "name": "stderr",
     "output_type": "stream",
     "text": [
      "2023-11-28 23:58:18.948952: I tensorflow/core/grappler/optimizers/custom_graph_optimizer_registry.cc:113] Plugin optimizer for device_type GPU is enabled.\n",
      "loc(\"mps_select\"(\"(mpsFileLoc): /AppleInternal/Library/BuildRoots/495c257e-668e-11ee-93ce-926038f30c31/Library/Caches/com.apple.xbs/Sources/MetalPerformanceShadersGraph/mpsgraph/MetalPerformanceShadersGraph/Core/Files/MPSGraphUtilities.mm\":294:0)): error: 'anec.gain_offset_control' op result #0 must be 4D/5D memref of 16-bit float or 8-bit signed integer or 8-bit unsigned integer values, but got 'memref<1x64x1x1xi1>'\n",
      "loc(\"mps_select\"(\"(mpsFileLoc): /AppleInternal/Library/BuildRoots/495c257e-668e-11ee-93ce-926038f30c31/Library/Caches/com.apple.xbs/Sources/MetalPerformanceShadersGraph/mpsgraph/MetalPerformanceShadersGraph/Core/Files/MPSGraphUtilities.mm\":294:0)): error: 'anec.gain_offset_control' op result #0 must be 4D/5D memref of 16-bit float or 8-bit signed integer or 8-bit unsigned integer values, but got 'memref<1x64x1x1xi1>'\n"
     ]
    },
    {
     "name": "stdout",
     "output_type": "stream",
     "text": [
      "\n",
      "Epoch 1: val_accuracy improved from -inf to 0.46503, saving model to F-classify/F-label_run6.h5\n",
      "145/145 [==============================] - 70s 466ms/step - loss: 0.2368 - accuracy: 0.9103 - val_loss: 2.0283 - val_accuracy: 0.4650 - lr: 0.0010\n",
      "Epoch 2/30\n"
     ]
    },
    {
     "name": "stderr",
     "output_type": "stream",
     "text": [
      "loc(\"mps_select\"(\"(mpsFileLoc): /AppleInternal/Library/BuildRoots/495c257e-668e-11ee-93ce-926038f30c31/Library/Caches/com.apple.xbs/Sources/MetalPerformanceShadersGraph/mpsgraph/MetalPerformanceShadersGraph/Core/Files/MPSGraphUtilities.mm\":294:0)): error: 'anec.gain_offset_control' op result #0 must be 4D/5D memref of 16-bit float or 8-bit signed integer or 8-bit unsigned integer values, but got 'memref<1x12x1x1xi1>'\n",
      "loc(\"mps_select\"(\"(mpsFileLoc): /AppleInternal/Library/BuildRoots/495c257e-668e-11ee-93ce-926038f30c31/Library/Caches/com.apple.xbs/Sources/MetalPerformanceShadersGraph/mpsgraph/MetalPerformanceShadersGraph/Core/Files/MPSGraphUtilities.mm\":294:0)): error: 'anec.gain_offset_control' op result #0 must be 4D/5D memref of 16-bit float or 8-bit signed integer or 8-bit unsigned integer values, but got 'memref<1x12x1x1xi1>'\n"
     ]
    },
    {
     "name": "stdout",
     "output_type": "stream",
     "text": [
      "145/145 [==============================] - ETA: 0s - loss: 0.1892 - accuracy: 0.9265\n",
      "Epoch 2: val_accuracy improved from 0.46503 to 0.53497, saving model to F-classify/F-label_run6.h5\n",
      "145/145 [==============================] - 72s 499ms/step - loss: 0.1892 - accuracy: 0.9265 - val_loss: 0.7104 - val_accuracy: 0.5350 - lr: 0.0010\n",
      "Epoch 3/30\n",
      "145/145 [==============================] - ETA: 0s - loss: 0.1707 - accuracy: 0.9317\n",
      "Epoch 3: val_accuracy improved from 0.53497 to 0.57254, saving model to F-classify/F-label_run6.h5\n",
      "145/145 [==============================] - 71s 492ms/step - loss: 0.1707 - accuracy: 0.9317 - val_loss: 0.7009 - val_accuracy: 0.5725 - lr: 0.0010\n",
      "Epoch 4/30\n",
      "145/145 [==============================] - ETA: 0s - loss: 0.1641 - accuracy: 0.9331\n",
      "Epoch 4: val_accuracy improved from 0.57254 to 0.71503, saving model to F-classify/F-label_run6.h5\n",
      "145/145 [==============================] - 71s 487ms/step - loss: 0.1641 - accuracy: 0.9331 - val_loss: 0.4563 - val_accuracy: 0.7150 - lr: 0.0010\n",
      "Epoch 5/30\n",
      "145/145 [==============================] - ETA: 0s - loss: 0.1613 - accuracy: 0.9345\n",
      "Epoch 5: val_accuracy improved from 0.71503 to 0.92789, saving model to F-classify/F-label_run6.h5\n",
      "145/145 [==============================] - 71s 491ms/step - loss: 0.1613 - accuracy: 0.9345 - val_loss: 0.2075 - val_accuracy: 0.9279 - lr: 0.0010\n",
      "Epoch 6/30\n",
      "145/145 [==============================] - ETA: 0s - loss: 0.1509 - accuracy: 0.9386\n",
      "Epoch 6: val_accuracy did not improve from 0.92789\n",
      "145/145 [==============================] - 71s 486ms/step - loss: 0.1509 - accuracy: 0.9386 - val_loss: 0.2087 - val_accuracy: 0.9184 - lr: 0.0010\n",
      "Epoch 7/30\n",
      "145/145 [==============================] - ETA: 0s - loss: 0.1428 - accuracy: 0.9404\n",
      "Epoch 7: val_accuracy did not improve from 0.92789\n",
      "145/145 [==============================] - 71s 490ms/step - loss: 0.1428 - accuracy: 0.9404 - val_loss: 0.1868 - val_accuracy: 0.9167 - lr: 0.0010\n",
      "Epoch 8/30\n",
      "145/145 [==============================] - ETA: 0s - loss: 0.1361 - accuracy: 0.9436\n",
      "Epoch 8: val_accuracy did not improve from 0.92789\n",
      "145/145 [==============================] - 72s 494ms/step - loss: 0.1361 - accuracy: 0.9436 - val_loss: 0.1878 - val_accuracy: 0.9275 - lr: 0.0010\n",
      "Epoch 9/30\n",
      "145/145 [==============================] - ETA: 0s - loss: 0.1297 - accuracy: 0.9490\n",
      "Epoch 9: val_accuracy did not improve from 0.92789\n",
      "145/145 [==============================] - 71s 489ms/step - loss: 0.1297 - accuracy: 0.9490 - val_loss: 0.2183 - val_accuracy: 0.9210 - lr: 0.0010\n",
      "Epoch 10/30\n",
      "145/145 [==============================] - ETA: 0s - loss: 0.1302 - accuracy: 0.9476\n",
      "Epoch 10: val_accuracy did not improve from 0.92789\n",
      "145/145 [==============================] - 71s 490ms/step - loss: 0.1302 - accuracy: 0.9476 - val_loss: 0.6566 - val_accuracy: 0.8333 - lr: 0.0010\n",
      "Epoch 11/30\n",
      "145/145 [==============================] - ETA: 0s - loss: 0.1582 - accuracy: 0.9368\n",
      "Epoch 11: val_accuracy did not improve from 0.92789\n",
      "145/145 [==============================] - 71s 487ms/step - loss: 0.1582 - accuracy: 0.9368 - val_loss: 0.1848 - val_accuracy: 0.9236 - lr: 0.0010\n",
      "Epoch 12/30\n",
      "145/145 [==============================] - ETA: 0s - loss: 0.1293 - accuracy: 0.9473\n",
      "Epoch 12: val_accuracy did not improve from 0.92789\n",
      "145/145 [==============================] - 72s 494ms/step - loss: 0.1293 - accuracy: 0.9473 - val_loss: 0.2062 - val_accuracy: 0.9119 - lr: 0.0010\n",
      "Epoch 13/30\n",
      "145/145 [==============================] - ETA: 0s - loss: 0.1130 - accuracy: 0.9548\n",
      "Epoch 13: val_accuracy did not improve from 0.92789\n",
      "145/145 [==============================] - 71s 487ms/step - loss: 0.1130 - accuracy: 0.9548 - val_loss: 0.2146 - val_accuracy: 0.9218 - lr: 0.0010\n",
      "Epoch 14/30\n",
      "145/145 [==============================] - ETA: 0s - loss: 0.0999 - accuracy: 0.9608\n",
      "Epoch 14: val_accuracy did not improve from 0.92789\n",
      "145/145 [==============================] - 70s 484ms/step - loss: 0.0999 - accuracy: 0.9608 - val_loss: 0.2395 - val_accuracy: 0.9197 - lr: 0.0010\n",
      "Epoch 15/30\n",
      "145/145 [==============================] - ETA: 0s - loss: 0.0989 - accuracy: 0.9607\n",
      "Epoch 15: val_accuracy did not improve from 0.92789\n",
      "145/145 [==============================] - 69s 479ms/step - loss: 0.0989 - accuracy: 0.9607 - val_loss: 0.2131 - val_accuracy: 0.9162 - lr: 0.0010\n",
      "Epoch 16/30\n",
      "145/145 [==============================] - ETA: 0s - loss: 0.0508 - accuracy: 0.9825\n",
      "Epoch 16: val_accuracy did not improve from 0.92789\n",
      "145/145 [==============================] - 70s 484ms/step - loss: 0.0508 - accuracy: 0.9825 - val_loss: 0.2554 - val_accuracy: 0.9136 - lr: 1.0000e-04\n",
      "Epoch 17/30\n",
      "145/145 [==============================] - ETA: 0s - loss: 0.0263 - accuracy: 0.9913\n",
      "Epoch 17: val_accuracy did not improve from 0.92789\n",
      "145/145 [==============================] - 70s 481ms/step - loss: 0.0263 - accuracy: 0.9913 - val_loss: 0.3329 - val_accuracy: 0.9171 - lr: 1.0000e-04\n",
      "Epoch 18/30\n",
      "145/145 [==============================] - ETA: 0s - loss: 0.0138 - accuracy: 0.9964\n",
      "Epoch 18: val_accuracy did not improve from 0.92789\n",
      "145/145 [==============================] - 70s 485ms/step - loss: 0.0138 - accuracy: 0.9964 - val_loss: 0.3759 - val_accuracy: 0.9223 - lr: 1.0000e-04\n",
      "Epoch 19/30\n",
      "145/145 [==============================] - ETA: 0s - loss: 0.0075 - accuracy: 0.9981\n",
      "Epoch 19: val_accuracy did not improve from 0.92789\n",
      "145/145 [==============================] - 71s 487ms/step - loss: 0.0075 - accuracy: 0.9981 - val_loss: 0.4383 - val_accuracy: 0.9123 - lr: 1.0000e-04\n",
      "Epoch 20/30\n",
      "145/145 [==============================] - ETA: 0s - loss: 0.0040 - accuracy: 0.9994\n",
      "Epoch 20: val_accuracy did not improve from 0.92789\n",
      "145/145 [==============================] - 71s 489ms/step - loss: 0.0040 - accuracy: 0.9994 - val_loss: 0.4750 - val_accuracy: 0.9180 - lr: 1.0000e-04\n",
      "Epoch 21/30\n",
      "145/145 [==============================] - ETA: 0s - loss: 0.0027 - accuracy: 0.9994\n",
      "Epoch 21: val_accuracy did not improve from 0.92789\n",
      "145/145 [==============================] - 70s 483ms/step - loss: 0.0027 - accuracy: 0.9994 - val_loss: 0.5095 - val_accuracy: 0.9184 - lr: 1.0000e-04\n",
      "Epoch 22/30\n",
      "145/145 [==============================] - ETA: 0s - loss: 0.0031 - accuracy: 0.9991\n",
      "Epoch 22: val_accuracy did not improve from 0.92789\n",
      "145/145 [==============================] - 71s 490ms/step - loss: 0.0031 - accuracy: 0.9991 - val_loss: 0.5318 - val_accuracy: 0.9249 - lr: 1.0000e-04\n",
      "Epoch 23/30\n",
      "145/145 [==============================] - ETA: 0s - loss: 0.0017 - accuracy: 0.9996\n",
      "Epoch 23: val_accuracy did not improve from 0.92789\n",
      "145/145 [==============================] - 71s 488ms/step - loss: 0.0017 - accuracy: 0.9996 - val_loss: 0.5439 - val_accuracy: 0.9184 - lr: 1.0000e-04\n",
      "Epoch 24/30\n",
      "145/145 [==============================] - ETA: 0s - loss: 0.0015 - accuracy: 0.9997\n",
      "Epoch 24: val_accuracy did not improve from 0.92789\n",
      "145/145 [==============================] - 71s 487ms/step - loss: 0.0015 - accuracy: 0.9997 - val_loss: 0.5776 - val_accuracy: 0.9227 - lr: 1.0000e-04\n",
      "Epoch 25/30\n",
      "145/145 [==============================] - ETA: 0s - loss: 0.0014 - accuracy: 0.9997\n",
      "Epoch 25: val_accuracy did not improve from 0.92789\n",
      "145/145 [==============================] - 71s 489ms/step - loss: 0.0014 - accuracy: 0.9997 - val_loss: 0.6044 - val_accuracy: 0.9244 - lr: 1.0000e-04\n",
      "Epoch 26/30\n",
      "145/145 [==============================] - ETA: 0s - loss: 0.0013 - accuracy: 0.9996\n",
      "Epoch 26: val_accuracy did not improve from 0.92789\n",
      "145/145 [==============================] - 70s 485ms/step - loss: 0.0013 - accuracy: 0.9996 - val_loss: 0.5992 - val_accuracy: 0.9231 - lr: 1.0000e-05\n",
      "Epoch 27/30\n",
      "145/145 [==============================] - ETA: 0s - loss: 0.0012 - accuracy: 0.9996\n",
      "Epoch 27: val_accuracy did not improve from 0.92789\n",
      "145/145 [==============================] - 72s 494ms/step - loss: 0.0012 - accuracy: 0.9996 - val_loss: 0.6010 - val_accuracy: 0.9231 - lr: 1.0000e-05\n",
      "Epoch 28/30\n",
      "145/145 [==============================] - ETA: 0s - loss: 0.0012 - accuracy: 0.9995\n",
      "Epoch 28: val_accuracy did not improve from 0.92789\n",
      "145/145 [==============================] - 70s 484ms/step - loss: 0.0012 - accuracy: 0.9995 - val_loss: 0.6017 - val_accuracy: 0.9223 - lr: 1.0000e-05\n",
      "Epoch 29/30\n",
      "145/145 [==============================] - ETA: 0s - loss: 0.0013 - accuracy: 0.9995\n",
      "Epoch 29: val_accuracy did not improve from 0.92789\n",
      "145/145 [==============================] - 70s 480ms/step - loss: 0.0013 - accuracy: 0.9995 - val_loss: 0.6049 - val_accuracy: 0.9227 - lr: 1.0000e-05\n",
      "Epoch 30/30\n",
      "145/145 [==============================] - ETA: 0s - loss: 9.3173e-04 - accuracy: 0.9997\n",
      "Epoch 30: val_accuracy did not improve from 0.92789\n",
      "145/145 [==============================] - 69s 479ms/step - loss: 9.3173e-04 - accuracy: 0.9997 - val_loss: 0.6058 - val_accuracy: 0.9236 - lr: 1.0000e-05\n",
      "Epoch 1/30\n"
     ]
    },
    {
     "name": "stderr",
     "output_type": "stream",
     "text": [
      "2023-11-29 00:32:43.526041: I tensorflow/core/grappler/optimizers/custom_graph_optimizer_registry.cc:113] Plugin optimizer for device_type GPU is enabled.\n",
      "loc(\"mps_select\"(\"(mpsFileLoc): /AppleInternal/Library/BuildRoots/495c257e-668e-11ee-93ce-926038f30c31/Library/Caches/com.apple.xbs/Sources/MetalPerformanceShadersGraph/mpsgraph/MetalPerformanceShadersGraph/Core/Files/MPSGraphUtilities.mm\":294:0)): error: 'anec.gain_offset_control' op result #0 must be 4D/5D memref of 16-bit float or 8-bit signed integer or 8-bit unsigned integer values, but got 'memref<1x64x1x1xi1>'\n",
      "loc(\"mps_select\"(\"(mpsFileLoc): /AppleInternal/Library/BuildRoots/495c257e-668e-11ee-93ce-926038f30c31/Library/Caches/com.apple.xbs/Sources/MetalPerformanceShadersGraph/mpsgraph/MetalPerformanceShadersGraph/Core/Files/MPSGraphUtilities.mm\":294:0)): error: 'anec.gain_offset_control' op result #0 must be 4D/5D memref of 16-bit float or 8-bit signed integer or 8-bit unsigned integer values, but got 'memref<1x64x1x1xi1>'\n",
      "loc(\"mps_select\"(\"(mpsFileLoc): /AppleInternal/Library/BuildRoots/495c257e-668e-11ee-93ce-926038f30c31/Library/Caches/com.apple.xbs/Sources/MetalPerformanceShadersGraph/mpsgraph/MetalPerformanceShadersGraph/Core/Files/MPSGraphUtilities.mm\":294:0)): error: 'anec.gain_offset_control' op result #0 must be 4D/5D memref of 16-bit float or 8-bit signed integer or 8-bit unsigned integer values, but got 'memref<1x64x1x1xi1>'\n",
      "loc(\"mps_select\"(\"(mpsFileLoc): /AppleInternal/Library/BuildRoots/495c257e-668e-11ee-93ce-926038f30c31/Library/Caches/com.apple.xbs/Sources/MetalPerformanceShadersGraph/mpsgraph/MetalPerformanceShadersGraph/Core/Files/MPSGraphUtilities.mm\":294:0)): error: 'anec.gain_offset_control' op result #0 must be 4D/5D memref of 16-bit float or 8-bit signed integer or 8-bit unsigned integer values, but got 'memref<1x64x1x1xi1>'\n",
      "loc(\"mps_select\"(\"(mpsFileLoc): /AppleInternal/Library/BuildRoots/495c257e-668e-11ee-93ce-926038f30c31/Library/Caches/com.apple.xbs/Sources/MetalPerformanceShadersGraph/mpsgraph/MetalPerformanceShadersGraph/Core/Files/MPSGraphUtilities.mm\":294:0)): error: 'anec.gain_offset_control' op result #0 must be 4D/5D memref of 16-bit float or 8-bit signed integer or 8-bit unsigned integer values, but got 'memref<1x64x1x1xi1>'\n"
     ]
    },
    {
     "name": "stdout",
     "output_type": "stream",
     "text": [
      "144/145 [============================>.] - ETA: 0s - loss: 0.2302 - accuracy: 0.9138"
     ]
    },
    {
     "name": "stderr",
     "output_type": "stream",
     "text": [
      "loc(\"mps_select\"(\"(mpsFileLoc): /AppleInternal/Library/BuildRoots/495c257e-668e-11ee-93ce-926038f30c31/Library/Caches/com.apple.xbs/Sources/MetalPerformanceShadersGraph/mpsgraph/MetalPerformanceShadersGraph/Core/Files/MPSGraphUtilities.mm\":294:0)): error: 'anec.gain_offset_control' op result #0 must be 4D/5D memref of 16-bit float or 8-bit signed integer or 8-bit unsigned integer values, but got 'memref<1x46x1x1xi1>'\n",
      "loc(\"mps_select\"(\"(mpsFileLoc): /AppleInternal/Library/BuildRoots/495c257e-668e-11ee-93ce-926038f30c31/Library/Caches/com.apple.xbs/Sources/MetalPerformanceShadersGraph/mpsgraph/MetalPerformanceShadersGraph/Core/Files/MPSGraphUtilities.mm\":294:0)): error: 'anec.gain_offset_control' op result #0 must be 4D/5D memref of 16-bit float or 8-bit signed integer or 8-bit unsigned integer values, but got 'memref<1x46x1x1xi1>'\n",
      "loc(\"mps_select\"(\"(mpsFileLoc): /AppleInternal/Library/BuildRoots/495c257e-668e-11ee-93ce-926038f30c31/Library/Caches/com.apple.xbs/Sources/MetalPerformanceShadersGraph/mpsgraph/MetalPerformanceShadersGraph/Core/Files/MPSGraphUtilities.mm\":294:0)): error: 'anec.gain_offset_control' op result #0 must be 4D/5D memref of 16-bit float or 8-bit signed integer or 8-bit unsigned integer values, but got 'memref<1x46x1x1xi1>'\n",
      "loc(\"mps_select\"(\"(mpsFileLoc): /AppleInternal/Library/BuildRoots/495c257e-668e-11ee-93ce-926038f30c31/Library/Caches/com.apple.xbs/Sources/MetalPerformanceShadersGraph/mpsgraph/MetalPerformanceShadersGraph/Core/Files/MPSGraphUtilities.mm\":294:0)): error: 'anec.gain_offset_control' op result #0 must be 4D/5D memref of 16-bit float or 8-bit signed integer or 8-bit unsigned integer values, but got 'memref<1x46x1x1xi1>'\n",
      "loc(\"mps_select\"(\"(mpsFileLoc): /AppleInternal/Library/BuildRoots/495c257e-668e-11ee-93ce-926038f30c31/Library/Caches/com.apple.xbs/Sources/MetalPerformanceShadersGraph/mpsgraph/MetalPerformanceShadersGraph/Core/Files/MPSGraphUtilities.mm\":294:0)): error: 'anec.gain_offset_control' op result #0 must be 4D/5D memref of 16-bit float or 8-bit signed integer or 8-bit unsigned integer values, but got 'memref<1x46x1x1xi1>'\n"
     ]
    },
    {
     "name": "stdout",
     "output_type": "stream",
     "text": [
      "145/145 [==============================] - ETA: 0s - loss: 0.2308 - accuracy: 0.9137"
     ]
    },
    {
     "name": "stderr",
     "output_type": "stream",
     "text": [
      "2023-11-29 00:33:30.134186: I tensorflow/core/grappler/optimizers/custom_graph_optimizer_registry.cc:113] Plugin optimizer for device_type GPU is enabled.\n",
      "loc(\"mps_select\"(\"(mpsFileLoc): /AppleInternal/Library/BuildRoots/495c257e-668e-11ee-93ce-926038f30c31/Library/Caches/com.apple.xbs/Sources/MetalPerformanceShadersGraph/mpsgraph/MetalPerformanceShadersGraph/Core/Files/MPSGraphUtilities.mm\":294:0)): error: 'anec.gain_offset_control' op result #0 must be 4D/5D memref of 16-bit float or 8-bit signed integer or 8-bit unsigned integer values, but got 'memref<1x64x1x1xi1>'\n",
      "loc(\"mps_select\"(\"(mpsFileLoc): /AppleInternal/Library/BuildRoots/495c257e-668e-11ee-93ce-926038f30c31/Library/Caches/com.apple.xbs/Sources/MetalPerformanceShadersGraph/mpsgraph/MetalPerformanceShadersGraph/Core/Files/MPSGraphUtilities.mm\":294:0)): error: 'anec.gain_offset_control' op result #0 must be 4D/5D memref of 16-bit float or 8-bit signed integer or 8-bit unsigned integer values, but got 'memref<1x64x1x1xi1>'\n"
     ]
    },
    {
     "name": "stdout",
     "output_type": "stream",
     "text": [
      "\n",
      "Epoch 1: val_accuracy improved from -inf to 0.46503, saving model to F-classify/F-label_run7.h5\n"
     ]
    },
    {
     "name": "stderr",
     "output_type": "stream",
     "text": [
      "loc(\"mps_select\"(\"(mpsFileLoc): /AppleInternal/Library/BuildRoots/495c257e-668e-11ee-93ce-926038f30c31/Library/Caches/com.apple.xbs/Sources/MetalPerformanceShadersGraph/mpsgraph/MetalPerformanceShadersGraph/Core/Files/MPSGraphUtilities.mm\":294:0)): error: 'anec.gain_offset_control' op result #0 must be 4D/5D memref of 16-bit float or 8-bit signed integer or 8-bit unsigned integer values, but got 'memref<1x12x1x1xi1>'\n",
      "loc(\"mps_select\"(\"(mpsFileLoc): /AppleInternal/Library/BuildRoots/495c257e-668e-11ee-93ce-926038f30c31/Library/Caches/com.apple.xbs/Sources/MetalPerformanceShadersGraph/mpsgraph/MetalPerformanceShadersGraph/Core/Files/MPSGraphUtilities.mm\":294:0)): error: 'anec.gain_offset_control' op result #0 must be 4D/5D memref of 16-bit float or 8-bit signed integer or 8-bit unsigned integer values, but got 'memref<1x12x1x1xi1>'\n"
     ]
    },
    {
     "name": "stdout",
     "output_type": "stream",
     "text": [
      "145/145 [==============================] - 53s 332ms/step - loss: 0.2308 - accuracy: 0.9137 - val_loss: 1.4988 - val_accuracy: 0.4650 - lr: 0.0010\n",
      "Epoch 2/30\n",
      "145/145 [==============================] - ETA: 0s - loss: 0.1876 - accuracy: 0.9254\n",
      "Epoch 2: val_accuracy did not improve from 0.46503\n",
      "145/145 [==============================] - 47s 324ms/step - loss: 0.1876 - accuracy: 0.9254 - val_loss: 0.7807 - val_accuracy: 0.4650 - lr: 0.0010\n",
      "Epoch 3/30\n",
      "145/145 [==============================] - ETA: 0s - loss: 0.1739 - accuracy: 0.9324\n",
      "Epoch 3: val_accuracy did not improve from 0.46503\n",
      "145/145 [==============================] - 47s 324ms/step - loss: 0.1739 - accuracy: 0.9324 - val_loss: 1.0465 - val_accuracy: 0.4650 - lr: 0.0010\n",
      "Epoch 4/30\n",
      "145/145 [==============================] - ETA: 0s - loss: 0.1647 - accuracy: 0.9352\n",
      "Epoch 4: val_accuracy improved from 0.46503 to 0.54577, saving model to F-classify/F-label_run7.h5\n",
      "145/145 [==============================] - 47s 324ms/step - loss: 0.1647 - accuracy: 0.9352 - val_loss: 0.5732 - val_accuracy: 0.5458 - lr: 0.0010\n",
      "Epoch 5/30\n",
      "145/145 [==============================] - ETA: 0s - loss: 0.1536 - accuracy: 0.9367\n",
      "Epoch 5: val_accuracy improved from 0.54577 to 0.91580, saving model to F-classify/F-label_run7.h5\n",
      "145/145 [==============================] - 48s 332ms/step - loss: 0.1536 - accuracy: 0.9367 - val_loss: 0.2818 - val_accuracy: 0.9158 - lr: 0.0010\n",
      "Epoch 6/30\n",
      "145/145 [==============================] - ETA: 0s - loss: 0.1503 - accuracy: 0.9394\n",
      "Epoch 6: val_accuracy improved from 0.91580 to 0.92142, saving model to F-classify/F-label_run7.h5\n",
      "145/145 [==============================] - 48s 333ms/step - loss: 0.1503 - accuracy: 0.9394 - val_loss: 0.1849 - val_accuracy: 0.9214 - lr: 0.0010\n",
      "Epoch 7/30\n",
      "145/145 [==============================] - ETA: 0s - loss: 0.1470 - accuracy: 0.9405\n",
      "Epoch 7: val_accuracy improved from 0.92142 to 0.92444, saving model to F-classify/F-label_run7.h5\n",
      "145/145 [==============================] - 48s 328ms/step - loss: 0.1470 - accuracy: 0.9405 - val_loss: 0.1974 - val_accuracy: 0.9244 - lr: 0.0010\n",
      "Epoch 8/30\n",
      "145/145 [==============================] - ETA: 0s - loss: 0.1410 - accuracy: 0.9432\n",
      "Epoch 8: val_accuracy did not improve from 0.92444\n",
      "145/145 [==============================] - 48s 330ms/step - loss: 0.1410 - accuracy: 0.9432 - val_loss: 0.2054 - val_accuracy: 0.9201 - lr: 0.0010\n",
      "Epoch 9/30\n",
      "145/145 [==============================] - ETA: 0s - loss: 0.1237 - accuracy: 0.9494\n",
      "Epoch 9: val_accuracy did not improve from 0.92444\n",
      "145/145 [==============================] - 47s 326ms/step - loss: 0.1237 - accuracy: 0.9494 - val_loss: 0.1959 - val_accuracy: 0.9167 - lr: 0.0010\n",
      "Epoch 10/30\n",
      "145/145 [==============================] - ETA: 0s - loss: 0.1191 - accuracy: 0.9514\n",
      "Epoch 10: val_accuracy did not improve from 0.92444\n",
      "145/145 [==============================] - 46s 319ms/step - loss: 0.1191 - accuracy: 0.9514 - val_loss: 0.4899 - val_accuracy: 0.7349 - lr: 0.0010\n",
      "Epoch 11/30\n",
      "145/145 [==============================] - ETA: 0s - loss: 0.1093 - accuracy: 0.9567\n",
      "Epoch 11: val_accuracy did not improve from 0.92444\n",
      "145/145 [==============================] - 47s 322ms/step - loss: 0.1093 - accuracy: 0.9567 - val_loss: 0.2824 - val_accuracy: 0.9076 - lr: 0.0010\n",
      "Epoch 12/30\n",
      "145/145 [==============================] - ETA: 0s - loss: 0.1026 - accuracy: 0.9595\n",
      "Epoch 12: val_accuracy did not improve from 0.92444\n",
      "145/145 [==============================] - 48s 328ms/step - loss: 0.1026 - accuracy: 0.9595 - val_loss: 0.3772 - val_accuracy: 0.8981 - lr: 0.0010\n",
      "Epoch 13/30\n",
      "145/145 [==============================] - ETA: 0s - loss: 0.0869 - accuracy: 0.9673\n",
      "Epoch 13: val_accuracy did not improve from 0.92444\n",
      "145/145 [==============================] - 47s 327ms/step - loss: 0.0869 - accuracy: 0.9673 - val_loss: 0.3594 - val_accuracy: 0.8519 - lr: 0.0010\n",
      "Epoch 14/30\n",
      "145/145 [==============================] - ETA: 0s - loss: 0.0760 - accuracy: 0.9728\n",
      "Epoch 14: val_accuracy did not improve from 0.92444\n",
      "145/145 [==============================] - 48s 332ms/step - loss: 0.0760 - accuracy: 0.9728 - val_loss: 0.3172 - val_accuracy: 0.9132 - lr: 0.0010\n",
      "Epoch 15/30\n",
      "145/145 [==============================] - ETA: 0s - loss: 0.0700 - accuracy: 0.9714\n",
      "Epoch 15: val_accuracy did not improve from 0.92444\n",
      "145/145 [==============================] - 48s 330ms/step - loss: 0.0700 - accuracy: 0.9714 - val_loss: 0.2677 - val_accuracy: 0.9059 - lr: 0.0010\n",
      "Epoch 16/30\n",
      "145/145 [==============================] - ETA: 0s - loss: 0.0597 - accuracy: 0.9785\n",
      "Epoch 16: val_accuracy did not improve from 0.92444\n",
      "145/145 [==============================] - 46s 320ms/step - loss: 0.0597 - accuracy: 0.9785 - val_loss: 0.3466 - val_accuracy: 0.8972 - lr: 0.0010\n",
      "Epoch 17/30\n",
      "145/145 [==============================] - ETA: 0s - loss: 0.0526 - accuracy: 0.9801\n",
      "Epoch 17: val_accuracy did not improve from 0.92444\n",
      "145/145 [==============================] - 47s 321ms/step - loss: 0.0526 - accuracy: 0.9801 - val_loss: 0.2825 - val_accuracy: 0.9111 - lr: 0.0010\n",
      "Epoch 18/30\n",
      "145/145 [==============================] - ETA: 0s - loss: 0.0259 - accuracy: 0.9900\n",
      "Epoch 18: val_accuracy did not improve from 0.92444\n",
      "145/145 [==============================] - 46s 320ms/step - loss: 0.0259 - accuracy: 0.9900 - val_loss: 0.3257 - val_accuracy: 0.9115 - lr: 1.0000e-04\n",
      "Epoch 19/30\n",
      "145/145 [==============================] - ETA: 0s - loss: 0.0093 - accuracy: 0.9976\n",
      "Epoch 19: val_accuracy did not improve from 0.92444\n",
      "145/145 [==============================] - 46s 320ms/step - loss: 0.0093 - accuracy: 0.9976 - val_loss: 0.3707 - val_accuracy: 0.9158 - lr: 1.0000e-04\n",
      "Epoch 20/30\n",
      "145/145 [==============================] - ETA: 0s - loss: 0.0053 - accuracy: 0.9988\n",
      "Epoch 20: val_accuracy did not improve from 0.92444\n",
      "145/145 [==============================] - 47s 327ms/step - loss: 0.0053 - accuracy: 0.9988 - val_loss: 0.3972 - val_accuracy: 0.9115 - lr: 1.0000e-04\n",
      "Epoch 21/30\n",
      "145/145 [==============================] - ETA: 0s - loss: 0.0037 - accuracy: 0.9988\n",
      "Epoch 21: val_accuracy did not improve from 0.92444\n",
      "145/145 [==============================] - 47s 322ms/step - loss: 0.0037 - accuracy: 0.9988 - val_loss: 0.4277 - val_accuracy: 0.9111 - lr: 1.0000e-04\n",
      "Epoch 22/30\n",
      "145/145 [==============================] - ETA: 0s - loss: 0.0030 - accuracy: 0.9991\n",
      "Epoch 22: val_accuracy did not improve from 0.92444\n",
      "145/145 [==============================] - 48s 330ms/step - loss: 0.0030 - accuracy: 0.9991 - val_loss: 0.4591 - val_accuracy: 0.9132 - lr: 1.0000e-04\n",
      "Epoch 23/30\n",
      "145/145 [==============================] - ETA: 0s - loss: 0.0020 - accuracy: 0.9994\n",
      "Epoch 23: val_accuracy did not improve from 0.92444\n",
      "145/145 [==============================] - 48s 330ms/step - loss: 0.0020 - accuracy: 0.9994 - val_loss: 0.4859 - val_accuracy: 0.9154 - lr: 1.0000e-04\n",
      "Epoch 24/30\n",
      "145/145 [==============================] - ETA: 0s - loss: 0.0015 - accuracy: 0.9995\n",
      "Epoch 24: val_accuracy did not improve from 0.92444\n",
      "145/145 [==============================] - 47s 326ms/step - loss: 0.0015 - accuracy: 0.9995 - val_loss: 0.4970 - val_accuracy: 0.9136 - lr: 1.0000e-04\n",
      "Epoch 25/30\n",
      "145/145 [==============================] - ETA: 0s - loss: 0.0020 - accuracy: 0.9991\n",
      "Epoch 25: val_accuracy did not improve from 0.92444\n",
      "145/145 [==============================] - 46s 320ms/step - loss: 0.0020 - accuracy: 0.9991 - val_loss: 0.5087 - val_accuracy: 0.9162 - lr: 1.0000e-04\n",
      "Epoch 26/30\n",
      "145/145 [==============================] - ETA: 0s - loss: 0.0020 - accuracy: 0.9991\n",
      "Epoch 26: val_accuracy did not improve from 0.92444\n",
      "145/145 [==============================] - 48s 330ms/step - loss: 0.0020 - accuracy: 0.9991 - val_loss: 0.5180 - val_accuracy: 0.9141 - lr: 1.0000e-04\n",
      "Epoch 27/30\n",
      "145/145 [==============================] - ETA: 0s - loss: 0.0013 - accuracy: 0.9996\n",
      "Epoch 27: val_accuracy did not improve from 0.92444\n",
      "145/145 [==============================] - 48s 330ms/step - loss: 0.0013 - accuracy: 0.9996 - val_loss: 0.5397 - val_accuracy: 0.9145 - lr: 1.0000e-04\n",
      "Epoch 28/30\n",
      "145/145 [==============================] - ETA: 0s - loss: 0.0014 - accuracy: 0.9992\n",
      "Epoch 28: val_accuracy did not improve from 0.92444\n",
      "145/145 [==============================] - 48s 332ms/step - loss: 0.0014 - accuracy: 0.9992 - val_loss: 0.5405 - val_accuracy: 0.9145 - lr: 1.0000e-05\n",
      "Epoch 29/30\n",
      "145/145 [==============================] - ETA: 0s - loss: 0.0014 - accuracy: 0.9994\n",
      "Epoch 29: val_accuracy did not improve from 0.92444\n",
      "145/145 [==============================] - 47s 322ms/step - loss: 0.0014 - accuracy: 0.9994 - val_loss: 0.5414 - val_accuracy: 0.9141 - lr: 1.0000e-05\n",
      "Epoch 30/30\n",
      "145/145 [==============================] - ETA: 0s - loss: 0.0012 - accuracy: 0.9995\n",
      "Epoch 30: val_accuracy did not improve from 0.92444\n",
      "145/145 [==============================] - 48s 328ms/step - loss: 0.0012 - accuracy: 0.9995 - val_loss: 0.5436 - val_accuracy: 0.9145 - lr: 1.0000e-05\n",
      "Epoch 1/30\n"
     ]
    },
    {
     "name": "stderr",
     "output_type": "stream",
     "text": [
      "2023-11-29 00:56:31.546736: I tensorflow/core/grappler/optimizers/custom_graph_optimizer_registry.cc:113] Plugin optimizer for device_type GPU is enabled.\n",
      "loc(\"mps_select\"(\"(mpsFileLoc): /AppleInternal/Library/BuildRoots/495c257e-668e-11ee-93ce-926038f30c31/Library/Caches/com.apple.xbs/Sources/MetalPerformanceShadersGraph/mpsgraph/MetalPerformanceShadersGraph/Core/Files/MPSGraphUtilities.mm\":294:0)): error: 'anec.gain_offset_control' op result #0 must be 4D/5D memref of 16-bit float or 8-bit signed integer or 8-bit unsigned integer values, but got 'memref<1x64x1x1xi1>'\n",
      "loc(\"mps_select\"(\"(mpsFileLoc): /AppleInternal/Library/BuildRoots/495c257e-668e-11ee-93ce-926038f30c31/Library/Caches/com.apple.xbs/Sources/MetalPerformanceShadersGraph/mpsgraph/MetalPerformanceShadersGraph/Core/Files/MPSGraphUtilities.mm\":294:0)): error: 'anec.gain_offset_control' op result #0 must be 4D/5D memref of 16-bit float or 8-bit signed integer or 8-bit unsigned integer values, but got 'memref<1x64x1x1xi1>'\n",
      "loc(\"mps_select\"(\"(mpsFileLoc): /AppleInternal/Library/BuildRoots/495c257e-668e-11ee-93ce-926038f30c31/Library/Caches/com.apple.xbs/Sources/MetalPerformanceShadersGraph/mpsgraph/MetalPerformanceShadersGraph/Core/Files/MPSGraphUtilities.mm\":294:0)): error: 'anec.gain_offset_control' op result #0 must be 4D/5D memref of 16-bit float or 8-bit signed integer or 8-bit unsigned integer values, but got 'memref<1x64x1x1xi1>'\n",
      "loc(\"mps_select\"(\"(mpsFileLoc): /AppleInternal/Library/BuildRoots/495c257e-668e-11ee-93ce-926038f30c31/Library/Caches/com.apple.xbs/Sources/MetalPerformanceShadersGraph/mpsgraph/MetalPerformanceShadersGraph/Core/Files/MPSGraphUtilities.mm\":294:0)): error: 'anec.gain_offset_control' op result #0 must be 4D/5D memref of 16-bit float or 8-bit signed integer or 8-bit unsigned integer values, but got 'memref<1x64x1x1xi1>'\n",
      "loc(\"mps_select\"(\"(mpsFileLoc): /AppleInternal/Library/BuildRoots/495c257e-668e-11ee-93ce-926038f30c31/Library/Caches/com.apple.xbs/Sources/MetalPerformanceShadersGraph/mpsgraph/MetalPerformanceShadersGraph/Core/Files/MPSGraphUtilities.mm\":294:0)): error: 'anec.gain_offset_control' op result #0 must be 4D/5D memref of 16-bit float or 8-bit signed integer or 8-bit unsigned integer values, but got 'memref<1x64x1x1xi1>'\n"
     ]
    },
    {
     "name": "stdout",
     "output_type": "stream",
     "text": [
      "144/145 [============================>.] - ETA: 0s - loss: 0.2390 - accuracy: 0.9100"
     ]
    },
    {
     "name": "stderr",
     "output_type": "stream",
     "text": [
      "loc(\"mps_select\"(\"(mpsFileLoc): /AppleInternal/Library/BuildRoots/495c257e-668e-11ee-93ce-926038f30c31/Library/Caches/com.apple.xbs/Sources/MetalPerformanceShadersGraph/mpsgraph/MetalPerformanceShadersGraph/Core/Files/MPSGraphUtilities.mm\":294:0)): error: 'anec.gain_offset_control' op result #0 must be 4D/5D memref of 16-bit float or 8-bit signed integer or 8-bit unsigned integer values, but got 'memref<1x46x1x1xi1>'\n",
      "loc(\"mps_select\"(\"(mpsFileLoc): /AppleInternal/Library/BuildRoots/495c257e-668e-11ee-93ce-926038f30c31/Library/Caches/com.apple.xbs/Sources/MetalPerformanceShadersGraph/mpsgraph/MetalPerformanceShadersGraph/Core/Files/MPSGraphUtilities.mm\":294:0)): error: 'anec.gain_offset_control' op result #0 must be 4D/5D memref of 16-bit float or 8-bit signed integer or 8-bit unsigned integer values, but got 'memref<1x46x1x1xi1>'\n",
      "loc(\"mps_select\"(\"(mpsFileLoc): /AppleInternal/Library/BuildRoots/495c257e-668e-11ee-93ce-926038f30c31/Library/Caches/com.apple.xbs/Sources/MetalPerformanceShadersGraph/mpsgraph/MetalPerformanceShadersGraph/Core/Files/MPSGraphUtilities.mm\":294:0)): error: 'anec.gain_offset_control' op result #0 must be 4D/5D memref of 16-bit float or 8-bit signed integer or 8-bit unsigned integer values, but got 'memref<1x46x1x1xi1>'\n",
      "loc(\"mps_select\"(\"(mpsFileLoc): /AppleInternal/Library/BuildRoots/495c257e-668e-11ee-93ce-926038f30c31/Library/Caches/com.apple.xbs/Sources/MetalPerformanceShadersGraph/mpsgraph/MetalPerformanceShadersGraph/Core/Files/MPSGraphUtilities.mm\":294:0)): error: 'anec.gain_offset_control' op result #0 must be 4D/5D memref of 16-bit float or 8-bit signed integer or 8-bit unsigned integer values, but got 'memref<1x46x1x1xi1>'\n",
      "loc(\"mps_select\"(\"(mpsFileLoc): /AppleInternal/Library/BuildRoots/495c257e-668e-11ee-93ce-926038f30c31/Library/Caches/com.apple.xbs/Sources/MetalPerformanceShadersGraph/mpsgraph/MetalPerformanceShadersGraph/Core/Files/MPSGraphUtilities.mm\":294:0)): error: 'anec.gain_offset_control' op result #0 must be 4D/5D memref of 16-bit float or 8-bit signed integer or 8-bit unsigned integer values, but got 'memref<1x46x1x1xi1>'\n"
     ]
    },
    {
     "name": "stdout",
     "output_type": "stream",
     "text": [
      "145/145 [==============================] - ETA: 0s - loss: 0.2383 - accuracy: 0.9103"
     ]
    },
    {
     "name": "stderr",
     "output_type": "stream",
     "text": [
      "2023-11-29 00:57:34.691428: I tensorflow/core/grappler/optimizers/custom_graph_optimizer_registry.cc:113] Plugin optimizer for device_type GPU is enabled.\n",
      "loc(\"mps_select\"(\"(mpsFileLoc): /AppleInternal/Library/BuildRoots/495c257e-668e-11ee-93ce-926038f30c31/Library/Caches/com.apple.xbs/Sources/MetalPerformanceShadersGraph/mpsgraph/MetalPerformanceShadersGraph/Core/Files/MPSGraphUtilities.mm\":294:0)): error: 'anec.gain_offset_control' op result #0 must be 4D/5D memref of 16-bit float or 8-bit signed integer or 8-bit unsigned integer values, but got 'memref<1x64x1x1xi1>'\n",
      "loc(\"mps_select\"(\"(mpsFileLoc): /AppleInternal/Library/BuildRoots/495c257e-668e-11ee-93ce-926038f30c31/Library/Caches/com.apple.xbs/Sources/MetalPerformanceShadersGraph/mpsgraph/MetalPerformanceShadersGraph/Core/Files/MPSGraphUtilities.mm\":294:0)): error: 'anec.gain_offset_control' op result #0 must be 4D/5D memref of 16-bit float or 8-bit signed integer or 8-bit unsigned integer values, but got 'memref<1x64x1x1xi1>'\n"
     ]
    },
    {
     "name": "stdout",
     "output_type": "stream",
     "text": [
      "\n",
      "Epoch 1: val_accuracy improved from -inf to 0.46503, saving model to F-classify/F-label_run8.h5\n",
      "145/145 [==============================] - 68s 446ms/step - loss: 0.2383 - accuracy: 0.9103 - val_loss: 4.7526 - val_accuracy: 0.4650 - lr: 0.0010\n",
      "Epoch 2/30\n"
     ]
    },
    {
     "name": "stderr",
     "output_type": "stream",
     "text": [
      "loc(\"mps_select\"(\"(mpsFileLoc): /AppleInternal/Library/BuildRoots/495c257e-668e-11ee-93ce-926038f30c31/Library/Caches/com.apple.xbs/Sources/MetalPerformanceShadersGraph/mpsgraph/MetalPerformanceShadersGraph/Core/Files/MPSGraphUtilities.mm\":294:0)): error: 'anec.gain_offset_control' op result #0 must be 4D/5D memref of 16-bit float or 8-bit signed integer or 8-bit unsigned integer values, but got 'memref<1x12x1x1xi1>'\n",
      "loc(\"mps_select\"(\"(mpsFileLoc): /AppleInternal/Library/BuildRoots/495c257e-668e-11ee-93ce-926038f30c31/Library/Caches/com.apple.xbs/Sources/MetalPerformanceShadersGraph/mpsgraph/MetalPerformanceShadersGraph/Core/Files/MPSGraphUtilities.mm\":294:0)): error: 'anec.gain_offset_control' op result #0 must be 4D/5D memref of 16-bit float or 8-bit signed integer or 8-bit unsigned integer values, but got 'memref<1x12x1x1xi1>'\n"
     ]
    },
    {
     "name": "stdout",
     "output_type": "stream",
     "text": [
      "145/145 [==============================] - ETA: 0s - loss: 0.1918 - accuracy: 0.9233\n",
      "Epoch 2: val_accuracy did not improve from 0.46503\n",
      "145/145 [==============================] - 49s 337ms/step - loss: 0.1918 - accuracy: 0.9233 - val_loss: 0.8149 - val_accuracy: 0.4650 - lr: 0.0010\n",
      "Epoch 3/30\n",
      "145/145 [==============================] - ETA: 0s - loss: 0.1757 - accuracy: 0.9274\n",
      "Epoch 3: val_accuracy improved from 0.46503 to 0.59974, saving model to F-classify/F-label_run8.h5\n",
      "145/145 [==============================] - 50s 341ms/step - loss: 0.1757 - accuracy: 0.9274 - val_loss: 0.6773 - val_accuracy: 0.5997 - lr: 0.0010\n",
      "Epoch 4/30\n",
      "145/145 [==============================] - ETA: 0s - loss: 0.1710 - accuracy: 0.9309\n",
      "Epoch 4: val_accuracy improved from 0.59974 to 0.70207, saving model to F-classify/F-label_run8.h5\n",
      "145/145 [==============================] - 49s 340ms/step - loss: 0.1710 - accuracy: 0.9309 - val_loss: 0.5676 - val_accuracy: 0.7021 - lr: 0.0010\n",
      "Epoch 5/30\n",
      "145/145 [==============================] - ETA: 0s - loss: 0.1600 - accuracy: 0.9326\n",
      "Epoch 5: val_accuracy improved from 0.70207 to 0.93264, saving model to F-classify/F-label_run8.h5\n",
      "145/145 [==============================] - 48s 333ms/step - loss: 0.1600 - accuracy: 0.9326 - val_loss: 0.1855 - val_accuracy: 0.9326 - lr: 0.0010\n",
      "Epoch 6/30\n",
      "145/145 [==============================] - ETA: 0s - loss: 0.1550 - accuracy: 0.9368\n",
      "Epoch 6: val_accuracy did not improve from 0.93264\n",
      "145/145 [==============================] - 49s 339ms/step - loss: 0.1550 - accuracy: 0.9368 - val_loss: 0.2852 - val_accuracy: 0.9106 - lr: 0.0010\n",
      "Epoch 7/30\n",
      "145/145 [==============================] - ETA: 0s - loss: 0.1483 - accuracy: 0.9368\n",
      "Epoch 7: val_accuracy did not improve from 0.93264\n",
      "145/145 [==============================] - 49s 340ms/step - loss: 0.1483 - accuracy: 0.9368 - val_loss: 0.2157 - val_accuracy: 0.9214 - lr: 0.0010\n",
      "Epoch 8/30\n",
      "145/145 [==============================] - ETA: 0s - loss: 0.1348 - accuracy: 0.9445\n",
      "Epoch 8: val_accuracy did not improve from 0.93264\n",
      "145/145 [==============================] - 48s 334ms/step - loss: 0.1348 - accuracy: 0.9445 - val_loss: 0.3525 - val_accuracy: 0.9313 - lr: 0.0010\n",
      "Epoch 9/30\n",
      "145/145 [==============================] - ETA: 0s - loss: 0.1344 - accuracy: 0.9429\n",
      "Epoch 9: val_accuracy did not improve from 0.93264\n",
      "145/145 [==============================] - 48s 328ms/step - loss: 0.1344 - accuracy: 0.9429 - val_loss: 0.4900 - val_accuracy: 0.8908 - lr: 0.0010\n",
      "Epoch 10/30\n",
      "145/145 [==============================] - ETA: 0s - loss: 0.1258 - accuracy: 0.9460\n",
      "Epoch 10: val_accuracy did not improve from 0.93264\n",
      "145/145 [==============================] - 49s 339ms/step - loss: 0.1258 - accuracy: 0.9460 - val_loss: 0.2872 - val_accuracy: 0.9123 - lr: 0.0010\n",
      "Epoch 11/30\n",
      "145/145 [==============================] - ETA: 0s - loss: 0.1203 - accuracy: 0.9489\n",
      "Epoch 11: val_accuracy did not improve from 0.93264\n",
      "145/145 [==============================] - 49s 335ms/step - loss: 0.1203 - accuracy: 0.9489 - val_loss: 0.2851 - val_accuracy: 0.8882 - lr: 0.0010\n",
      "Epoch 12/30\n",
      "145/145 [==============================] - ETA: 0s - loss: 0.1147 - accuracy: 0.9548\n",
      "Epoch 12: val_accuracy did not improve from 0.93264\n",
      "145/145 [==============================] - 49s 334ms/step - loss: 0.1147 - accuracy: 0.9548 - val_loss: 0.2534 - val_accuracy: 0.9158 - lr: 0.0010\n",
      "Epoch 13/30\n",
      "145/145 [==============================] - ETA: 0s - loss: 0.1068 - accuracy: 0.9576\n",
      "Epoch 13: val_accuracy did not improve from 0.93264\n",
      "145/145 [==============================] - 48s 335ms/step - loss: 0.1068 - accuracy: 0.9576 - val_loss: 0.2946 - val_accuracy: 0.9007 - lr: 0.0010\n",
      "Epoch 14/30\n",
      "145/145 [==============================] - ETA: 0s - loss: 0.0877 - accuracy: 0.9640\n",
      "Epoch 14: val_accuracy improved from 0.93264 to 0.93307, saving model to F-classify/F-label_run8.h5\n",
      "145/145 [==============================] - 49s 341ms/step - loss: 0.0877 - accuracy: 0.9640 - val_loss: 0.2554 - val_accuracy: 0.9331 - lr: 0.0010\n",
      "Epoch 15/30\n",
      "145/145 [==============================] - ETA: 0s - loss: 0.0781 - accuracy: 0.9706\n",
      "Epoch 15: val_accuracy did not improve from 0.93307\n",
      "145/145 [==============================] - 49s 340ms/step - loss: 0.0781 - accuracy: 0.9706 - val_loss: 0.2725 - val_accuracy: 0.9305 - lr: 0.0010\n",
      "Epoch 16/30\n",
      "145/145 [==============================] - ETA: 0s - loss: 0.0753 - accuracy: 0.9694\n",
      "Epoch 16: val_accuracy did not improve from 0.93307\n",
      "145/145 [==============================] - 48s 329ms/step - loss: 0.0753 - accuracy: 0.9694 - val_loss: 0.2458 - val_accuracy: 0.9193 - lr: 0.0010\n",
      "Epoch 17/30\n",
      "145/145 [==============================] - ETA: 0s - loss: 0.0681 - accuracy: 0.9734\n",
      "Epoch 17: val_accuracy did not improve from 0.93307\n",
      "145/145 [==============================] - 49s 338ms/step - loss: 0.0681 - accuracy: 0.9734 - val_loss: 0.2607 - val_accuracy: 0.9145 - lr: 0.0010\n",
      "Epoch 18/30\n",
      "145/145 [==============================] - ETA: 0s - loss: 0.0458 - accuracy: 0.9834\n",
      "Epoch 18: val_accuracy did not improve from 0.93307\n",
      "145/145 [==============================] - 49s 337ms/step - loss: 0.0458 - accuracy: 0.9834 - val_loss: 0.3524 - val_accuracy: 0.8532 - lr: 0.0010\n",
      "Epoch 19/30\n",
      "145/145 [==============================] - ETA: 0s - loss: 0.0487 - accuracy: 0.9821\n",
      "Epoch 19: val_accuracy did not improve from 0.93307\n",
      "145/145 [==============================] - 49s 339ms/step - loss: 0.0487 - accuracy: 0.9821 - val_loss: 0.6599 - val_accuracy: 0.8057 - lr: 0.0010\n",
      "Epoch 20/30\n",
      "145/145 [==============================] - ETA: 0s - loss: 0.0481 - accuracy: 0.9832\n",
      "Epoch 20: val_accuracy did not improve from 0.93307\n",
      "145/145 [==============================] - 49s 338ms/step - loss: 0.0481 - accuracy: 0.9832 - val_loss: 0.2599 - val_accuracy: 0.9106 - lr: 0.0010\n",
      "Epoch 21/30\n",
      "145/145 [==============================] - ETA: 0s - loss: 0.0407 - accuracy: 0.9859\n",
      "Epoch 21: val_accuracy did not improve from 0.93307\n",
      "145/145 [==============================] - 49s 338ms/step - loss: 0.0407 - accuracy: 0.9859 - val_loss: 0.3733 - val_accuracy: 0.9003 - lr: 0.0010\n",
      "Epoch 22/30\n",
      "145/145 [==============================] - ETA: 0s - loss: 0.0351 - accuracy: 0.9863\n",
      "Epoch 22: val_accuracy did not improve from 0.93307\n",
      "145/145 [==============================] - 49s 336ms/step - loss: 0.0351 - accuracy: 0.9863 - val_loss: 0.2859 - val_accuracy: 0.9046 - lr: 0.0010\n",
      "Epoch 23/30\n",
      "145/145 [==============================] - ETA: 0s - loss: 0.0339 - accuracy: 0.9878\n",
      "Epoch 23: val_accuracy did not improve from 0.93307\n",
      "145/145 [==============================] - 48s 334ms/step - loss: 0.0339 - accuracy: 0.9878 - val_loss: 0.4326 - val_accuracy: 0.9231 - lr: 0.0010\n",
      "Epoch 24/30\n",
      "145/145 [==============================] - ETA: 0s - loss: 0.0301 - accuracy: 0.9888\n",
      "Epoch 24: val_accuracy did not improve from 0.93307\n",
      "145/145 [==============================] - 48s 328ms/step - loss: 0.0301 - accuracy: 0.9888 - val_loss: 0.3289 - val_accuracy: 0.9214 - lr: 0.0010\n",
      "Epoch 25/30\n",
      "145/145 [==============================] - ETA: 0s - loss: 0.0120 - accuracy: 0.9961\n",
      "Epoch 25: val_accuracy did not improve from 0.93307\n",
      "145/145 [==============================] - 49s 339ms/step - loss: 0.0120 - accuracy: 0.9961 - val_loss: 0.3636 - val_accuracy: 0.9188 - lr: 1.0000e-04\n",
      "Epoch 26/30\n",
      "145/145 [==============================] - ETA: 0s - loss: 0.0039 - accuracy: 0.9996\n",
      "Epoch 26: val_accuracy did not improve from 0.93307\n",
      "145/145 [==============================] - 49s 339ms/step - loss: 0.0039 - accuracy: 0.9996 - val_loss: 0.4062 - val_accuracy: 0.9206 - lr: 1.0000e-04\n",
      "Epoch 27/30\n",
      "145/145 [==============================] - ETA: 0s - loss: 0.0024 - accuracy: 0.9995\n",
      "Epoch 27: val_accuracy did not improve from 0.93307\n",
      "145/145 [==============================] - 49s 336ms/step - loss: 0.0024 - accuracy: 0.9995 - val_loss: 0.4386 - val_accuracy: 0.9214 - lr: 1.0000e-04\n",
      "Epoch 28/30\n",
      "145/145 [==============================] - ETA: 0s - loss: 0.0018 - accuracy: 0.9996\n",
      "Epoch 28: val_accuracy did not improve from 0.93307\n",
      "145/145 [==============================] - 49s 338ms/step - loss: 0.0018 - accuracy: 0.9996 - val_loss: 0.4576 - val_accuracy: 0.9210 - lr: 1.0000e-04\n",
      "Epoch 29/30\n",
      "145/145 [==============================] - ETA: 0s - loss: 0.0014 - accuracy: 0.9997\n",
      "Epoch 29: val_accuracy did not improve from 0.93307\n",
      "145/145 [==============================] - 49s 338ms/step - loss: 0.0014 - accuracy: 0.9997 - val_loss: 0.4754 - val_accuracy: 0.9214 - lr: 1.0000e-04\n",
      "Epoch 30/30\n",
      "145/145 [==============================] - ETA: 0s - loss: 0.0013 - accuracy: 0.9997\n",
      "Epoch 30: val_accuracy did not improve from 0.93307\n",
      "145/145 [==============================] - 48s 333ms/step - loss: 0.0013 - accuracy: 0.9997 - val_loss: 0.4964 - val_accuracy: 0.9206 - lr: 1.0000e-04\n",
      "Epoch 1/30\n"
     ]
    },
    {
     "name": "stderr",
     "output_type": "stream",
     "text": [
      "2023-11-29 01:21:18.427387: I tensorflow/core/grappler/optimizers/custom_graph_optimizer_registry.cc:113] Plugin optimizer for device_type GPU is enabled.\n",
      "loc(\"mps_select\"(\"(mpsFileLoc): /AppleInternal/Library/BuildRoots/495c257e-668e-11ee-93ce-926038f30c31/Library/Caches/com.apple.xbs/Sources/MetalPerformanceShadersGraph/mpsgraph/MetalPerformanceShadersGraph/Core/Files/MPSGraphUtilities.mm\":294:0)): error: 'anec.gain_offset_control' op result #0 must be 4D/5D memref of 16-bit float or 8-bit signed integer or 8-bit unsigned integer values, but got 'memref<1x64x1x1xi1>'\n",
      "loc(\"mps_select\"(\"(mpsFileLoc): /AppleInternal/Library/BuildRoots/495c257e-668e-11ee-93ce-926038f30c31/Library/Caches/com.apple.xbs/Sources/MetalPerformanceShadersGraph/mpsgraph/MetalPerformanceShadersGraph/Core/Files/MPSGraphUtilities.mm\":294:0)): error: 'anec.gain_offset_control' op result #0 must be 4D/5D memref of 16-bit float or 8-bit signed integer or 8-bit unsigned integer values, but got 'memref<1x64x1x1xi1>'\n",
      "loc(\"mps_select\"(\"(mpsFileLoc): /AppleInternal/Library/BuildRoots/495c257e-668e-11ee-93ce-926038f30c31/Library/Caches/com.apple.xbs/Sources/MetalPerformanceShadersGraph/mpsgraph/MetalPerformanceShadersGraph/Core/Files/MPSGraphUtilities.mm\":294:0)): error: 'anec.gain_offset_control' op result #0 must be 4D/5D memref of 16-bit float or 8-bit signed integer or 8-bit unsigned integer values, but got 'memref<1x64x1x1xi1>'\n",
      "loc(\"mps_select\"(\"(mpsFileLoc): /AppleInternal/Library/BuildRoots/495c257e-668e-11ee-93ce-926038f30c31/Library/Caches/com.apple.xbs/Sources/MetalPerformanceShadersGraph/mpsgraph/MetalPerformanceShadersGraph/Core/Files/MPSGraphUtilities.mm\":294:0)): error: 'anec.gain_offset_control' op result #0 must be 4D/5D memref of 16-bit float or 8-bit signed integer or 8-bit unsigned integer values, but got 'memref<1x64x1x1xi1>'\n",
      "loc(\"mps_select\"(\"(mpsFileLoc): /AppleInternal/Library/BuildRoots/495c257e-668e-11ee-93ce-926038f30c31/Library/Caches/com.apple.xbs/Sources/MetalPerformanceShadersGraph/mpsgraph/MetalPerformanceShadersGraph/Core/Files/MPSGraphUtilities.mm\":294:0)): error: 'anec.gain_offset_control' op result #0 must be 4D/5D memref of 16-bit float or 8-bit signed integer or 8-bit unsigned integer values, but got 'memref<1x64x1x1xi1>'\n"
     ]
    },
    {
     "name": "stdout",
     "output_type": "stream",
     "text": [
      "144/145 [============================>.] - ETA: 0s - loss: 0.2418 - accuracy: 0.9082"
     ]
    },
    {
     "name": "stderr",
     "output_type": "stream",
     "text": [
      "loc(\"mps_select\"(\"(mpsFileLoc): /AppleInternal/Library/BuildRoots/495c257e-668e-11ee-93ce-926038f30c31/Library/Caches/com.apple.xbs/Sources/MetalPerformanceShadersGraph/mpsgraph/MetalPerformanceShadersGraph/Core/Files/MPSGraphUtilities.mm\":294:0)): error: 'anec.gain_offset_control' op result #0 must be 4D/5D memref of 16-bit float or 8-bit signed integer or 8-bit unsigned integer values, but got 'memref<1x46x1x1xi1>'\n",
      "loc(\"mps_select\"(\"(mpsFileLoc): /AppleInternal/Library/BuildRoots/495c257e-668e-11ee-93ce-926038f30c31/Library/Caches/com.apple.xbs/Sources/MetalPerformanceShadersGraph/mpsgraph/MetalPerformanceShadersGraph/Core/Files/MPSGraphUtilities.mm\":294:0)): error: 'anec.gain_offset_control' op result #0 must be 4D/5D memref of 16-bit float or 8-bit signed integer or 8-bit unsigned integer values, but got 'memref<1x46x1x1xi1>'\n",
      "loc(\"mps_select\"(\"(mpsFileLoc): /AppleInternal/Library/BuildRoots/495c257e-668e-11ee-93ce-926038f30c31/Library/Caches/com.apple.xbs/Sources/MetalPerformanceShadersGraph/mpsgraph/MetalPerformanceShadersGraph/Core/Files/MPSGraphUtilities.mm\":294:0)): error: 'anec.gain_offset_control' op result #0 must be 4D/5D memref of 16-bit float or 8-bit signed integer or 8-bit unsigned integer values, but got 'memref<1x46x1x1xi1>'\n",
      "loc(\"mps_select\"(\"(mpsFileLoc): /AppleInternal/Library/BuildRoots/495c257e-668e-11ee-93ce-926038f30c31/Library/Caches/com.apple.xbs/Sources/MetalPerformanceShadersGraph/mpsgraph/MetalPerformanceShadersGraph/Core/Files/MPSGraphUtilities.mm\":294:0)): error: 'anec.gain_offset_control' op result #0 must be 4D/5D memref of 16-bit float or 8-bit signed integer or 8-bit unsigned integer values, but got 'memref<1x46x1x1xi1>'\n",
      "loc(\"mps_select\"(\"(mpsFileLoc): /AppleInternal/Library/BuildRoots/495c257e-668e-11ee-93ce-926038f30c31/Library/Caches/com.apple.xbs/Sources/MetalPerformanceShadersGraph/mpsgraph/MetalPerformanceShadersGraph/Core/Files/MPSGraphUtilities.mm\":294:0)): error: 'anec.gain_offset_control' op result #0 must be 4D/5D memref of 16-bit float or 8-bit signed integer or 8-bit unsigned integer values, but got 'memref<1x46x1x1xi1>'\n"
     ]
    },
    {
     "name": "stdout",
     "output_type": "stream",
     "text": [
      "145/145 [==============================] - ETA: 0s - loss: 0.2412 - accuracy: 0.9084"
     ]
    },
    {
     "name": "stderr",
     "output_type": "stream",
     "text": [
      "2023-11-29 01:22:22.122049: I tensorflow/core/grappler/optimizers/custom_graph_optimizer_registry.cc:113] Plugin optimizer for device_type GPU is enabled.\n",
      "loc(\"mps_select\"(\"(mpsFileLoc): /AppleInternal/Library/BuildRoots/495c257e-668e-11ee-93ce-926038f30c31/Library/Caches/com.apple.xbs/Sources/MetalPerformanceShadersGraph/mpsgraph/MetalPerformanceShadersGraph/Core/Files/MPSGraphUtilities.mm\":294:0)): error: 'anec.gain_offset_control' op result #0 must be 4D/5D memref of 16-bit float or 8-bit signed integer or 8-bit unsigned integer values, but got 'memref<1x64x1x1xi1>'\n",
      "loc(\"mps_select\"(\"(mpsFileLoc): /AppleInternal/Library/BuildRoots/495c257e-668e-11ee-93ce-926038f30c31/Library/Caches/com.apple.xbs/Sources/MetalPerformanceShadersGraph/mpsgraph/MetalPerformanceShadersGraph/Core/Files/MPSGraphUtilities.mm\":294:0)): error: 'anec.gain_offset_control' op result #0 must be 4D/5D memref of 16-bit float or 8-bit signed integer or 8-bit unsigned integer values, but got 'memref<1x64x1x1xi1>'\n"
     ]
    },
    {
     "name": "stdout",
     "output_type": "stream",
     "text": [
      "\n",
      "Epoch 1: val_accuracy improved from -inf to 0.46503, saving model to F-classify/F-label_run9.h5\n"
     ]
    },
    {
     "name": "stderr",
     "output_type": "stream",
     "text": [
      "loc(\"mps_select\"(\"(mpsFileLoc): /AppleInternal/Library/BuildRoots/495c257e-668e-11ee-93ce-926038f30c31/Library/Caches/com.apple.xbs/Sources/MetalPerformanceShadersGraph/mpsgraph/MetalPerformanceShadersGraph/Core/Files/MPSGraphUtilities.mm\":294:0)): error: 'anec.gain_offset_control' op result #0 must be 4D/5D memref of 16-bit float or 8-bit signed integer or 8-bit unsigned integer values, but got 'memref<1x12x1x1xi1>'\n",
      "loc(\"mps_select\"(\"(mpsFileLoc): /AppleInternal/Library/BuildRoots/495c257e-668e-11ee-93ce-926038f30c31/Library/Caches/com.apple.xbs/Sources/MetalPerformanceShadersGraph/mpsgraph/MetalPerformanceShadersGraph/Core/Files/MPSGraphUtilities.mm\":294:0)): error: 'anec.gain_offset_control' op result #0 must be 4D/5D memref of 16-bit float or 8-bit signed integer or 8-bit unsigned integer values, but got 'memref<1x12x1x1xi1>'\n"
     ]
    },
    {
     "name": "stdout",
     "output_type": "stream",
     "text": [
      "145/145 [==============================] - 74s 491ms/step - loss: 0.2412 - accuracy: 0.9084 - val_loss: 2.0855 - val_accuracy: 0.4650 - lr: 0.0010\n",
      "Epoch 2/30\n",
      "145/145 [==============================] - ETA: 0s - loss: 0.1915 - accuracy: 0.9240\n",
      "Epoch 2: val_accuracy improved from 0.46503 to 0.53497, saving model to F-classify/F-label_run9.h5\n",
      "145/145 [==============================] - 73s 502ms/step - loss: 0.1915 - accuracy: 0.9240 - val_loss: 1.8344 - val_accuracy: 0.5350 - lr: 0.0010\n",
      "Epoch 3/30\n",
      "145/145 [==============================] - ETA: 0s - loss: 0.1764 - accuracy: 0.9270\n",
      "Epoch 3: val_accuracy did not improve from 0.53497\n",
      "145/145 [==============================] - 72s 499ms/step - loss: 0.1764 - accuracy: 0.9270 - val_loss: 2.0148 - val_accuracy: 0.5350 - lr: 0.0010\n",
      "Epoch 4/30\n",
      "145/145 [==============================] - ETA: 0s - loss: 0.1718 - accuracy: 0.9295\n",
      "Epoch 4: val_accuracy improved from 0.53497 to 0.90544, saving model to F-classify/F-label_run9.h5\n",
      "145/145 [==============================] - 72s 494ms/step - loss: 0.1718 - accuracy: 0.9295 - val_loss: 0.2932 - val_accuracy: 0.9054 - lr: 0.0010\n",
      "Epoch 5/30\n",
      "145/145 [==============================] - ETA: 0s - loss: 0.1700 - accuracy: 0.9300\n",
      "Epoch 5: val_accuracy improved from 0.90544 to 0.93394, saving model to F-classify/F-label_run9.h5\n",
      "145/145 [==============================] - 72s 498ms/step - loss: 0.1700 - accuracy: 0.9300 - val_loss: 0.1965 - val_accuracy: 0.9339 - lr: 0.0010\n",
      "Epoch 6/30\n",
      "145/145 [==============================] - ETA: 0s - loss: 0.1572 - accuracy: 0.9368\n",
      "Epoch 6: val_accuracy did not improve from 0.93394\n",
      "145/145 [==============================] - 72s 494ms/step - loss: 0.1572 - accuracy: 0.9368 - val_loss: 0.1926 - val_accuracy: 0.9331 - lr: 0.0010\n",
      "Epoch 7/30\n",
      "145/145 [==============================] - ETA: 0s - loss: 0.1494 - accuracy: 0.9374\n",
      "Epoch 7: val_accuracy did not improve from 0.93394\n",
      "145/145 [==============================] - 72s 496ms/step - loss: 0.1494 - accuracy: 0.9374 - val_loss: 0.1870 - val_accuracy: 0.9335 - lr: 0.0010\n",
      "Epoch 8/30\n",
      "145/145 [==============================] - ETA: 0s - loss: 0.1402 - accuracy: 0.9396\n",
      "Epoch 8: val_accuracy did not improve from 0.93394\n",
      "145/145 [==============================] - 72s 495ms/step - loss: 0.1402 - accuracy: 0.9396 - val_loss: 0.2002 - val_accuracy: 0.9309 - lr: 0.0010\n",
      "Epoch 9/30\n",
      "145/145 [==============================] - ETA: 0s - loss: 0.1334 - accuracy: 0.9479\n",
      "Epoch 9: val_accuracy did not improve from 0.93394\n",
      "145/145 [==============================] - 72s 495ms/step - loss: 0.1334 - accuracy: 0.9479 - val_loss: 0.4976 - val_accuracy: 0.7630 - lr: 0.0010\n",
      "Epoch 10/30\n",
      "145/145 [==============================] - ETA: 0s - loss: 0.1273 - accuracy: 0.9474\n",
      "Epoch 10: val_accuracy did not improve from 0.93394\n",
      "145/145 [==============================] - 72s 496ms/step - loss: 0.1273 - accuracy: 0.9474 - val_loss: 0.2041 - val_accuracy: 0.9318 - lr: 0.0010\n",
      "Epoch 11/30\n",
      "145/145 [==============================] - ETA: 0s - loss: 0.1245 - accuracy: 0.9493\n",
      "Epoch 11: val_accuracy did not improve from 0.93394\n",
      "145/145 [==============================] - 72s 500ms/step - loss: 0.1245 - accuracy: 0.9493 - val_loss: 0.6178 - val_accuracy: 0.7975 - lr: 0.0010\n",
      "Epoch 12/30\n",
      "145/145 [==============================] - ETA: 0s - loss: 0.1135 - accuracy: 0.9540\n",
      "Epoch 12: val_accuracy did not improve from 0.93394\n",
      "145/145 [==============================] - 72s 495ms/step - loss: 0.1135 - accuracy: 0.9540 - val_loss: 0.2026 - val_accuracy: 0.9279 - lr: 0.0010\n",
      "Epoch 13/30\n",
      "145/145 [==============================] - ETA: 0s - loss: 0.0968 - accuracy: 0.9582\n",
      "Epoch 13: val_accuracy did not improve from 0.93394\n",
      "145/145 [==============================] - 71s 490ms/step - loss: 0.0968 - accuracy: 0.9582 - val_loss: 0.2496 - val_accuracy: 0.8856 - lr: 0.0010\n",
      "Epoch 14/30\n",
      "145/145 [==============================] - ETA: 0s - loss: 0.0964 - accuracy: 0.9618\n",
      "Epoch 14: val_accuracy did not improve from 0.93394\n",
      "145/145 [==============================] - 72s 497ms/step - loss: 0.0964 - accuracy: 0.9618 - val_loss: 0.1917 - val_accuracy: 0.9301 - lr: 0.0010\n",
      "Epoch 15/30\n",
      "145/145 [==============================] - ETA: 0s - loss: 0.0810 - accuracy: 0.9693\n",
      "Epoch 15: val_accuracy did not improve from 0.93394\n",
      "145/145 [==============================] - 72s 494ms/step - loss: 0.0810 - accuracy: 0.9693 - val_loss: 0.5274 - val_accuracy: 0.8528 - lr: 0.0010\n",
      "Epoch 16/30\n",
      "145/145 [==============================] - ETA: 0s - loss: 0.0328 - accuracy: 0.9890\n",
      "Epoch 16: val_accuracy did not improve from 0.93394\n",
      "145/145 [==============================] - 71s 492ms/step - loss: 0.0328 - accuracy: 0.9890 - val_loss: 0.3245 - val_accuracy: 0.9098 - lr: 1.0000e-04\n",
      "Epoch 17/30\n",
      "145/145 [==============================] - ETA: 0s - loss: 0.0126 - accuracy: 0.9971\n",
      "Epoch 17: val_accuracy did not improve from 0.93394\n",
      "145/145 [==============================] - 72s 496ms/step - loss: 0.0126 - accuracy: 0.9971 - val_loss: 0.3345 - val_accuracy: 0.9171 - lr: 1.0000e-04\n",
      "Epoch 18/30\n",
      "145/145 [==============================] - ETA: 0s - loss: 0.0052 - accuracy: 0.9992\n",
      "Epoch 18: val_accuracy did not improve from 0.93394\n",
      "145/145 [==============================] - 72s 500ms/step - loss: 0.0052 - accuracy: 0.9992 - val_loss: 0.3652 - val_accuracy: 0.9227 - lr: 1.0000e-04\n",
      "Epoch 19/30\n",
      "145/145 [==============================] - ETA: 0s - loss: 0.0036 - accuracy: 0.9995\n",
      "Epoch 19: val_accuracy did not improve from 0.93394\n",
      "145/145 [==============================] - 70s 486ms/step - loss: 0.0036 - accuracy: 0.9995 - val_loss: 0.4124 - val_accuracy: 0.9223 - lr: 1.0000e-04\n",
      "Epoch 20/30\n",
      "145/145 [==============================] - ETA: 0s - loss: 0.0020 - accuracy: 0.9997\n",
      "Epoch 20: val_accuracy did not improve from 0.93394\n",
      "145/145 [==============================] - 72s 495ms/step - loss: 0.0020 - accuracy: 0.9997 - val_loss: 0.4238 - val_accuracy: 0.9244 - lr: 1.0000e-04\n",
      "Epoch 21/30\n",
      "145/145 [==============================] - ETA: 0s - loss: 0.0019 - accuracy: 0.9995\n",
      "Epoch 21: val_accuracy did not improve from 0.93394\n",
      "145/145 [==============================] - 69s 479ms/step - loss: 0.0019 - accuracy: 0.9995 - val_loss: 0.4517 - val_accuracy: 0.9249 - lr: 1.0000e-04\n",
      "Epoch 22/30\n",
      "145/145 [==============================] - ETA: 0s - loss: 0.0014 - accuracy: 0.9997\n",
      "Epoch 22: val_accuracy did not improve from 0.93394\n",
      "145/145 [==============================] - 68s 472ms/step - loss: 0.0014 - accuracy: 0.9997 - val_loss: 0.4668 - val_accuracy: 0.9244 - lr: 1.0000e-04\n",
      "Epoch 23/30\n",
      "145/145 [==============================] - ETA: 0s - loss: 0.0012 - accuracy: 0.9995\n",
      "Epoch 23: val_accuracy did not improve from 0.93394\n",
      "145/145 [==============================] - 71s 488ms/step - loss: 0.0012 - accuracy: 0.9995 - val_loss: 0.4741 - val_accuracy: 0.9270 - lr: 1.0000e-04\n",
      "Epoch 24/30\n",
      "145/145 [==============================] - ETA: 0s - loss: 0.0011 - accuracy: 0.9997\n",
      "Epoch 24: val_accuracy did not improve from 0.93394\n",
      "145/145 [==============================] - 72s 493ms/step - loss: 0.0011 - accuracy: 0.9997 - val_loss: 0.4948 - val_accuracy: 0.9244 - lr: 1.0000e-04\n",
      "Epoch 25/30\n",
      "145/145 [==============================] - ETA: 0s - loss: 0.0011 - accuracy: 0.9996\n",
      "Epoch 25: val_accuracy did not improve from 0.93394\n",
      "145/145 [==============================] - 70s 484ms/step - loss: 0.0011 - accuracy: 0.9996 - val_loss: 0.5064 - val_accuracy: 0.9275 - lr: 1.0000e-04\n",
      "Epoch 26/30\n",
      "145/145 [==============================] - ETA: 0s - loss: 9.5762e-04 - accuracy: 0.9997\n",
      "Epoch 26: val_accuracy did not improve from 0.93394\n",
      "145/145 [==============================] - 71s 489ms/step - loss: 9.5762e-04 - accuracy: 0.9997 - val_loss: 0.5080 - val_accuracy: 0.9257 - lr: 1.0000e-05\n",
      "Epoch 27/30\n",
      "145/145 [==============================] - ETA: 0s - loss: 0.0011 - accuracy: 0.9997\n",
      "Epoch 27: val_accuracy did not improve from 0.93394\n",
      "145/145 [==============================] - 71s 492ms/step - loss: 0.0011 - accuracy: 0.9997 - val_loss: 0.5093 - val_accuracy: 0.9262 - lr: 1.0000e-05\n",
      "Epoch 28/30\n",
      "145/145 [==============================] - ETA: 0s - loss: 8.7632e-04 - accuracy: 0.9997\n",
      "Epoch 28: val_accuracy did not improve from 0.93394\n",
      "145/145 [==============================] - 71s 489ms/step - loss: 8.7632e-04 - accuracy: 0.9997 - val_loss: 0.5125 - val_accuracy: 0.9253 - lr: 1.0000e-05\n",
      "Epoch 29/30\n",
      "145/145 [==============================] - ETA: 0s - loss: 0.0011 - accuracy: 0.9997\n",
      "Epoch 29: val_accuracy did not improve from 0.93394\n",
      "145/145 [==============================] - 72s 494ms/step - loss: 0.0011 - accuracy: 0.9997 - val_loss: 0.5147 - val_accuracy: 0.9257 - lr: 1.0000e-05\n",
      "Epoch 30/30\n",
      "145/145 [==============================] - ETA: 0s - loss: 9.0583e-04 - accuracy: 0.9997\n",
      "Epoch 30: val_accuracy did not improve from 0.93394\n",
      "145/145 [==============================] - 71s 491ms/step - loss: 9.0583e-04 - accuracy: 0.9997 - val_loss: 0.5147 - val_accuracy: 0.9257 - lr: 1.0000e-05\n",
      "Epoch 1/30\n"
     ]
    },
    {
     "name": "stderr",
     "output_type": "stream",
     "text": [
      "2023-11-29 01:57:09.879949: I tensorflow/core/grappler/optimizers/custom_graph_optimizer_registry.cc:113] Plugin optimizer for device_type GPU is enabled.\n",
      "loc(\"mps_select\"(\"(mpsFileLoc): /AppleInternal/Library/BuildRoots/495c257e-668e-11ee-93ce-926038f30c31/Library/Caches/com.apple.xbs/Sources/MetalPerformanceShadersGraph/mpsgraph/MetalPerformanceShadersGraph/Core/Files/MPSGraphUtilities.mm\":294:0)): error: 'anec.gain_offset_control' op result #0 must be 4D/5D memref of 16-bit float or 8-bit signed integer or 8-bit unsigned integer values, but got 'memref<1x64x1x1xi1>'\n",
      "loc(\"mps_select\"(\"(mpsFileLoc): /AppleInternal/Library/BuildRoots/495c257e-668e-11ee-93ce-926038f30c31/Library/Caches/com.apple.xbs/Sources/MetalPerformanceShadersGraph/mpsgraph/MetalPerformanceShadersGraph/Core/Files/MPSGraphUtilities.mm\":294:0)): error: 'anec.gain_offset_control' op result #0 must be 4D/5D memref of 16-bit float or 8-bit signed integer or 8-bit unsigned integer values, but got 'memref<1x64x1x1xi1>'\n",
      "loc(\"mps_select\"(\"(mpsFileLoc): /AppleInternal/Library/BuildRoots/495c257e-668e-11ee-93ce-926038f30c31/Library/Caches/com.apple.xbs/Sources/MetalPerformanceShadersGraph/mpsgraph/MetalPerformanceShadersGraph/Core/Files/MPSGraphUtilities.mm\":294:0)): error: 'anec.gain_offset_control' op result #0 must be 4D/5D memref of 16-bit float or 8-bit signed integer or 8-bit unsigned integer values, but got 'memref<1x64x1x1xi1>'\n",
      "loc(\"mps_select\"(\"(mpsFileLoc): /AppleInternal/Library/BuildRoots/495c257e-668e-11ee-93ce-926038f30c31/Library/Caches/com.apple.xbs/Sources/MetalPerformanceShadersGraph/mpsgraph/MetalPerformanceShadersGraph/Core/Files/MPSGraphUtilities.mm\":294:0)): error: 'anec.gain_offset_control' op result #0 must be 4D/5D memref of 16-bit float or 8-bit signed integer or 8-bit unsigned integer values, but got 'memref<1x64x1x1xi1>'\n",
      "loc(\"mps_select\"(\"(mpsFileLoc): /AppleInternal/Library/BuildRoots/495c257e-668e-11ee-93ce-926038f30c31/Library/Caches/com.apple.xbs/Sources/MetalPerformanceShadersGraph/mpsgraph/MetalPerformanceShadersGraph/Core/Files/MPSGraphUtilities.mm\":294:0)): error: 'anec.gain_offset_control' op result #0 must be 4D/5D memref of 16-bit float or 8-bit signed integer or 8-bit unsigned integer values, but got 'memref<1x64x1x1xi1>'\n"
     ]
    },
    {
     "name": "stdout",
     "output_type": "stream",
     "text": [
      "144/145 [============================>.] - ETA: 0s - loss: 0.2379 - accuracy: 0.9089"
     ]
    },
    {
     "name": "stderr",
     "output_type": "stream",
     "text": [
      "loc(\"mps_select\"(\"(mpsFileLoc): /AppleInternal/Library/BuildRoots/495c257e-668e-11ee-93ce-926038f30c31/Library/Caches/com.apple.xbs/Sources/MetalPerformanceShadersGraph/mpsgraph/MetalPerformanceShadersGraph/Core/Files/MPSGraphUtilities.mm\":294:0)): error: 'anec.gain_offset_control' op result #0 must be 4D/5D memref of 16-bit float or 8-bit signed integer or 8-bit unsigned integer values, but got 'memref<1x46x1x1xi1>'\n",
      "loc(\"mps_select\"(\"(mpsFileLoc): /AppleInternal/Library/BuildRoots/495c257e-668e-11ee-93ce-926038f30c31/Library/Caches/com.apple.xbs/Sources/MetalPerformanceShadersGraph/mpsgraph/MetalPerformanceShadersGraph/Core/Files/MPSGraphUtilities.mm\":294:0)): error: 'anec.gain_offset_control' op result #0 must be 4D/5D memref of 16-bit float or 8-bit signed integer or 8-bit unsigned integer values, but got 'memref<1x46x1x1xi1>'\n",
      "loc(\"mps_select\"(\"(mpsFileLoc): /AppleInternal/Library/BuildRoots/495c257e-668e-11ee-93ce-926038f30c31/Library/Caches/com.apple.xbs/Sources/MetalPerformanceShadersGraph/mpsgraph/MetalPerformanceShadersGraph/Core/Files/MPSGraphUtilities.mm\":294:0)): error: 'anec.gain_offset_control' op result #0 must be 4D/5D memref of 16-bit float or 8-bit signed integer or 8-bit unsigned integer values, but got 'memref<1x46x1x1xi1>'\n",
      "loc(\"mps_select\"(\"(mpsFileLoc): /AppleInternal/Library/BuildRoots/495c257e-668e-11ee-93ce-926038f30c31/Library/Caches/com.apple.xbs/Sources/MetalPerformanceShadersGraph/mpsgraph/MetalPerformanceShadersGraph/Core/Files/MPSGraphUtilities.mm\":294:0)): error: 'anec.gain_offset_control' op result #0 must be 4D/5D memref of 16-bit float or 8-bit signed integer or 8-bit unsigned integer values, but got 'memref<1x46x1x1xi1>'\n",
      "loc(\"mps_select\"(\"(mpsFileLoc): /AppleInternal/Library/BuildRoots/495c257e-668e-11ee-93ce-926038f30c31/Library/Caches/com.apple.xbs/Sources/MetalPerformanceShadersGraph/mpsgraph/MetalPerformanceShadersGraph/Core/Files/MPSGraphUtilities.mm\":294:0)): error: 'anec.gain_offset_control' op result #0 must be 4D/5D memref of 16-bit float or 8-bit signed integer or 8-bit unsigned integer values, but got 'memref<1x46x1x1xi1>'\n"
     ]
    },
    {
     "name": "stdout",
     "output_type": "stream",
     "text": [
      "145/145 [==============================] - ETA: 0s - loss: 0.2373 - accuracy: 0.9090"
     ]
    },
    {
     "name": "stderr",
     "output_type": "stream",
     "text": [
      "2023-11-29 01:57:57.909316: I tensorflow/core/grappler/optimizers/custom_graph_optimizer_registry.cc:113] Plugin optimizer for device_type GPU is enabled.\n",
      "loc(\"mps_select\"(\"(mpsFileLoc): /AppleInternal/Library/BuildRoots/495c257e-668e-11ee-93ce-926038f30c31/Library/Caches/com.apple.xbs/Sources/MetalPerformanceShadersGraph/mpsgraph/MetalPerformanceShadersGraph/Core/Files/MPSGraphUtilities.mm\":294:0)): error: 'anec.gain_offset_control' op result #0 must be 4D/5D memref of 16-bit float or 8-bit signed integer or 8-bit unsigned integer values, but got 'memref<1x64x1x1xi1>'\n",
      "loc(\"mps_select\"(\"(mpsFileLoc): /AppleInternal/Library/BuildRoots/495c257e-668e-11ee-93ce-926038f30c31/Library/Caches/com.apple.xbs/Sources/MetalPerformanceShadersGraph/mpsgraph/MetalPerformanceShadersGraph/Core/Files/MPSGraphUtilities.mm\":294:0)): error: 'anec.gain_offset_control' op result #0 must be 4D/5D memref of 16-bit float or 8-bit signed integer or 8-bit unsigned integer values, but got 'memref<1x64x1x1xi1>'\n"
     ]
    },
    {
     "name": "stdout",
     "output_type": "stream",
     "text": [
      "\n",
      "Epoch 1: val_accuracy improved from -inf to 0.46503, saving model to F-classify/F-label_run10.h5\n",
      "145/145 [==============================] - 55s 339ms/step - loss: 0.2373 - accuracy: 0.9090 - val_loss: 3.0257 - val_accuracy: 0.4650 - lr: 0.0010\n",
      "Epoch 2/30\n"
     ]
    },
    {
     "name": "stderr",
     "output_type": "stream",
     "text": [
      "loc(\"mps_select\"(\"(mpsFileLoc): /AppleInternal/Library/BuildRoots/495c257e-668e-11ee-93ce-926038f30c31/Library/Caches/com.apple.xbs/Sources/MetalPerformanceShadersGraph/mpsgraph/MetalPerformanceShadersGraph/Core/Files/MPSGraphUtilities.mm\":294:0)): error: 'anec.gain_offset_control' op result #0 must be 4D/5D memref of 16-bit float or 8-bit signed integer or 8-bit unsigned integer values, but got 'memref<1x12x1x1xi1>'\n",
      "loc(\"mps_select\"(\"(mpsFileLoc): /AppleInternal/Library/BuildRoots/495c257e-668e-11ee-93ce-926038f30c31/Library/Caches/com.apple.xbs/Sources/MetalPerformanceShadersGraph/mpsgraph/MetalPerformanceShadersGraph/Core/Files/MPSGraphUtilities.mm\":294:0)): error: 'anec.gain_offset_control' op result #0 must be 4D/5D memref of 16-bit float or 8-bit signed integer or 8-bit unsigned integer values, but got 'memref<1x12x1x1xi1>'\n"
     ]
    },
    {
     "name": "stdout",
     "output_type": "stream",
     "text": [
      "145/145 [==============================] - ETA: 0s - loss: 0.1889 - accuracy: 0.9233\n",
      "Epoch 2: val_accuracy did not improve from 0.46503\n",
      "145/145 [==============================] - 49s 333ms/step - loss: 0.1889 - accuracy: 0.9233 - val_loss: 2.6832 - val_accuracy: 0.4650 - lr: 0.0010\n",
      "Epoch 3/30\n",
      "145/145 [==============================] - ETA: 0s - loss: 0.1763 - accuracy: 0.9276\n",
      "Epoch 3: val_accuracy improved from 0.46503 to 0.47798, saving model to F-classify/F-label_run10.h5\n",
      "145/145 [==============================] - 49s 340ms/step - loss: 0.1763 - accuracy: 0.9276 - val_loss: 1.2174 - val_accuracy: 0.4780 - lr: 0.0010\n",
      "Epoch 4/30\n",
      "145/145 [==============================] - ETA: 0s - loss: 0.1681 - accuracy: 0.9318\n",
      "Epoch 4: val_accuracy improved from 0.47798 to 0.83808, saving model to F-classify/F-label_run10.h5\n",
      "145/145 [==============================] - 50s 343ms/step - loss: 0.1681 - accuracy: 0.9318 - val_loss: 0.3761 - val_accuracy: 0.8381 - lr: 0.0010\n",
      "Epoch 5/30\n",
      "145/145 [==============================] - ETA: 0s - loss: 0.1572 - accuracy: 0.9340\n",
      "Epoch 5: val_accuracy improved from 0.83808 to 0.92876, saving model to F-classify/F-label_run10.h5\n",
      "145/145 [==============================] - 50s 342ms/step - loss: 0.1572 - accuracy: 0.9340 - val_loss: 0.2004 - val_accuracy: 0.9288 - lr: 0.0010\n",
      "Epoch 6/30\n",
      "145/145 [==============================] - ETA: 0s - loss: 0.1529 - accuracy: 0.9367\n",
      "Epoch 6: val_accuracy did not improve from 0.92876\n",
      "145/145 [==============================] - 49s 338ms/step - loss: 0.1529 - accuracy: 0.9367 - val_loss: 0.2882 - val_accuracy: 0.9262 - lr: 0.0010\n",
      "Epoch 7/30\n",
      "145/145 [==============================] - ETA: 0s - loss: 0.1445 - accuracy: 0.9404\n",
      "Epoch 7: val_accuracy did not improve from 0.92876\n",
      "145/145 [==============================] - 49s 338ms/step - loss: 0.1445 - accuracy: 0.9404 - val_loss: 0.3499 - val_accuracy: 0.8843 - lr: 0.0010\n",
      "Epoch 8/30\n",
      "145/145 [==============================] - ETA: 0s - loss: 0.1466 - accuracy: 0.9386\n",
      "Epoch 8: val_accuracy did not improve from 0.92876\n",
      "145/145 [==============================] - 48s 333ms/step - loss: 0.1466 - accuracy: 0.9386 - val_loss: 0.2644 - val_accuracy: 0.9003 - lr: 0.0010\n",
      "Epoch 9/30\n",
      "145/145 [==============================] - ETA: 0s - loss: 0.1301 - accuracy: 0.9449\n",
      "Epoch 9: val_accuracy improved from 0.92876 to 0.93221, saving model to F-classify/F-label_run10.h5\n",
      "145/145 [==============================] - 49s 337ms/step - loss: 0.1301 - accuracy: 0.9449 - val_loss: 0.1961 - val_accuracy: 0.9322 - lr: 0.0010\n",
      "Epoch 10/30\n",
      "145/145 [==============================] - ETA: 0s - loss: 0.1264 - accuracy: 0.9479\n",
      "Epoch 10: val_accuracy did not improve from 0.93221\n",
      "145/145 [==============================] - 49s 339ms/step - loss: 0.1264 - accuracy: 0.9479 - val_loss: 0.2129 - val_accuracy: 0.9322 - lr: 0.0010\n",
      "Epoch 11/30\n",
      "145/145 [==============================] - ETA: 0s - loss: 0.1136 - accuracy: 0.9536\n",
      "Epoch 11: val_accuracy did not improve from 0.93221\n",
      "145/145 [==============================] - 49s 336ms/step - loss: 0.1136 - accuracy: 0.9536 - val_loss: 0.3550 - val_accuracy: 0.8916 - lr: 0.0010\n",
      "Epoch 12/30\n",
      "145/145 [==============================] - ETA: 0s - loss: 0.1080 - accuracy: 0.9543\n",
      "Epoch 12: val_accuracy did not improve from 0.93221\n",
      "145/145 [==============================] - 49s 337ms/step - loss: 0.1080 - accuracy: 0.9543 - val_loss: 0.2838 - val_accuracy: 0.8687 - lr: 0.0010\n",
      "Epoch 13/30\n",
      "145/145 [==============================] - ETA: 0s - loss: 0.1027 - accuracy: 0.9633\n",
      "Epoch 13: val_accuracy did not improve from 0.93221\n",
      "145/145 [==============================] - 50s 341ms/step - loss: 0.1027 - accuracy: 0.9633 - val_loss: 0.2618 - val_accuracy: 0.9214 - lr: 0.0010\n",
      "Epoch 14/30\n",
      "145/145 [==============================] - ETA: 0s - loss: 0.0779 - accuracy: 0.9701\n",
      "Epoch 14: val_accuracy did not improve from 0.93221\n",
      "145/145 [==============================] - 49s 338ms/step - loss: 0.0779 - accuracy: 0.9701 - val_loss: 0.3386 - val_accuracy: 0.9206 - lr: 0.0010\n",
      "Epoch 15/30\n",
      "145/145 [==============================] - ETA: 0s - loss: 0.0715 - accuracy: 0.9715\n",
      "Epoch 15: val_accuracy did not improve from 0.93221\n",
      "145/145 [==============================] - 48s 331ms/step - loss: 0.0715 - accuracy: 0.9715 - val_loss: 0.2332 - val_accuracy: 0.9231 - lr: 0.0010\n",
      "Epoch 16/30\n",
      "145/145 [==============================] - ETA: 0s - loss: 0.0665 - accuracy: 0.9743\n",
      "Epoch 16: val_accuracy did not improve from 0.93221\n",
      "145/145 [==============================] - 48s 332ms/step - loss: 0.0665 - accuracy: 0.9743 - val_loss: 0.2511 - val_accuracy: 0.9180 - lr: 0.0010\n",
      "Epoch 17/30\n",
      "145/145 [==============================] - ETA: 0s - loss: 0.0525 - accuracy: 0.9795\n",
      "Epoch 17: val_accuracy did not improve from 0.93221\n",
      "145/145 [==============================] - 49s 339ms/step - loss: 0.0525 - accuracy: 0.9795 - val_loss: 0.2859 - val_accuracy: 0.9033 - lr: 0.0010\n",
      "Epoch 18/30\n",
      "145/145 [==============================] - ETA: 0s - loss: 0.0475 - accuracy: 0.9827\n",
      "Epoch 18: val_accuracy did not improve from 0.93221\n",
      "145/145 [==============================] - 49s 340ms/step - loss: 0.0475 - accuracy: 0.9827 - val_loss: 0.3047 - val_accuracy: 0.8787 - lr: 0.0010\n",
      "Epoch 19/30\n",
      "145/145 [==============================] - ETA: 0s - loss: 0.0454 - accuracy: 0.9846\n",
      "Epoch 19: val_accuracy did not improve from 0.93221\n",
      "145/145 [==============================] - 49s 335ms/step - loss: 0.0454 - accuracy: 0.9846 - val_loss: 0.4043 - val_accuracy: 0.9162 - lr: 0.0010\n",
      "Epoch 20/30\n",
      "145/145 [==============================] - ETA: 0s - loss: 0.0224 - accuracy: 0.9931\n",
      "Epoch 20: val_accuracy did not improve from 0.93221\n",
      "145/145 [==============================] - 49s 340ms/step - loss: 0.0224 - accuracy: 0.9931 - val_loss: 0.3129 - val_accuracy: 0.9240 - lr: 1.0000e-04\n",
      "Epoch 21/30\n",
      "145/145 [==============================] - ETA: 0s - loss: 0.0061 - accuracy: 0.9990\n",
      "Epoch 21: val_accuracy did not improve from 0.93221\n",
      "145/145 [==============================] - 49s 339ms/step - loss: 0.0061 - accuracy: 0.9990 - val_loss: 0.3463 - val_accuracy: 0.9206 - lr: 1.0000e-04\n",
      "Epoch 22/30\n",
      "145/145 [==============================] - ETA: 0s - loss: 0.0038 - accuracy: 0.9995\n",
      "Epoch 22: val_accuracy did not improve from 0.93221\n",
      "145/145 [==============================] - 48s 333ms/step - loss: 0.0038 - accuracy: 0.9995 - val_loss: 0.3805 - val_accuracy: 0.9197 - lr: 1.0000e-04\n",
      "Epoch 23/30\n",
      "145/145 [==============================] - ETA: 0s - loss: 0.0026 - accuracy: 0.9997\n",
      "Epoch 23: val_accuracy did not improve from 0.93221\n",
      "145/145 [==============================] - 48s 329ms/step - loss: 0.0026 - accuracy: 0.9997 - val_loss: 0.4059 - val_accuracy: 0.9210 - lr: 1.0000e-04\n",
      "Epoch 24/30\n",
      "145/145 [==============================] - ETA: 0s - loss: 0.0023 - accuracy: 0.9997\n",
      "Epoch 24: val_accuracy did not improve from 0.93221\n",
      "145/145 [==============================] - 49s 340ms/step - loss: 0.0023 - accuracy: 0.9997 - val_loss: 0.4236 - val_accuracy: 0.9188 - lr: 1.0000e-04\n",
      "Epoch 25/30\n",
      "145/145 [==============================] - ETA: 0s - loss: 0.0019 - accuracy: 0.9996\n",
      "Epoch 25: val_accuracy did not improve from 0.93221\n",
      "145/145 [==============================] - 49s 341ms/step - loss: 0.0019 - accuracy: 0.9996 - val_loss: 0.4506 - val_accuracy: 0.9227 - lr: 1.0000e-04\n",
      "Epoch 26/30\n",
      "145/145 [==============================] - ETA: 0s - loss: 0.0015 - accuracy: 0.9996\n",
      "Epoch 26: val_accuracy did not improve from 0.93221\n",
      "145/145 [==============================] - 49s 335ms/step - loss: 0.0015 - accuracy: 0.9996 - val_loss: 0.4708 - val_accuracy: 0.9227 - lr: 1.0000e-04\n",
      "Epoch 27/30\n",
      "145/145 [==============================] - ETA: 0s - loss: 0.0014 - accuracy: 0.9996\n",
      "Epoch 27: val_accuracy did not improve from 0.93221\n",
      "145/145 [==============================] - 49s 336ms/step - loss: 0.0014 - accuracy: 0.9996 - val_loss: 0.4853 - val_accuracy: 0.9218 - lr: 1.0000e-04\n",
      "Epoch 28/30\n",
      "145/145 [==============================] - ETA: 0s - loss: 0.0011 - accuracy: 0.9997    \n",
      "Epoch 28: val_accuracy did not improve from 0.93221\n",
      "145/145 [==============================] - 49s 336ms/step - loss: 0.0011 - accuracy: 0.9997 - val_loss: 0.5000 - val_accuracy: 0.9210 - lr: 1.0000e-04\n",
      "Epoch 29/30\n",
      "145/145 [==============================] - ETA: 0s - loss: 0.0010 - accuracy: 0.9997\n",
      "Epoch 29: val_accuracy did not improve from 0.93221\n",
      "145/145 [==============================] - 49s 336ms/step - loss: 0.0010 - accuracy: 0.9997 - val_loss: 0.5130 - val_accuracy: 0.9210 - lr: 1.0000e-04\n",
      "Epoch 30/30\n",
      "145/145 [==============================] - ETA: 0s - loss: 0.0011 - accuracy: 0.9997\n",
      "Epoch 30: val_accuracy did not improve from 0.93221\n",
      "145/145 [==============================] - 48s 333ms/step - loss: 0.0011 - accuracy: 0.9997 - val_loss: 0.5149 - val_accuracy: 0.9214 - lr: 1.0000e-05\n"
     ]
    }
   ],
   "source": [
    "# This code trains 10 Convolutional Neural Networks (CNNs) on differently split subsets\n",
    "# of a dataset for binary classification,saves the best model of each training session, \n",
    "# and records their training histories.\n",
    "\n",
    "import os\n",
    "import pickle\n",
    "from sklearn.model_selection import train_test_split\n",
    "from tensorflow.keras.callbacks import ModelCheckpoint, ReduceLROnPlateau\n",
    "\n",
    "# Create the directory for saving models and histories if it doesn't exist\n",
    "save_dir = 'F-classify'\n",
    "os.makedirs(save_dir, exist_ok=True)\n",
    "\n",
    "# Initialize lists to store the training histories and filenames of the best models\n",
    "histories = []\n",
    "model_filenames = []\n",
    "\n",
    "# Define the ReduceLROnPlateau callback\n",
    "reduce_lr = ReduceLROnPlateau(\n",
    "    monitor='val_accuracy',\n",
    "    factor=0.1,      # Factor to reduce the learning rate\n",
    "    patience=10,     # Number of epochs with no improvement to wait before reducing LR\n",
    "    min_lr=0.00001   # Minimum learning rate\n",
    ")\n",
    "\n",
    "# Loop to train 10 CNN models with different data splits\n",
    "for i in range(10):\n",
    "    # Split the dataset into training and validation sets with stratification\n",
    "    X_train, X_val, y_train, y_val = train_test_split(X, y, test_size=0.2, stratify=y, random_state=i)\n",
    "    \n",
    "    # Create a new CNN model for each iteration\n",
    "    model = NOIREnet()\n",
    "\n",
    "    # Define the filename for the checkpoint model\n",
    "    model_filename = os.path.join(save_dir, f'F-label_run{i+1}.h5')\n",
    "\n",
    "    # Define a checkpoint callback to save the best model based on validation accuracy\n",
    "    checkpoint_callback = ModelCheckpoint(\n",
    "        model_filename,\n",
    "        monitor='val_accuracy',\n",
    "        verbose=1,\n",
    "        save_best_only=True,\n",
    "        mode='max',\n",
    "        save_weights_only=False\n",
    "    )\n",
    "\n",
    "    # Train the model with specified callbacks including ReduceLROnPlateau\n",
    "    history = model.fit(\n",
    "        X_train, y_train,\n",
    "        batch_size=64,\n",
    "        epochs=30,\n",
    "        validation_data=(X_val, y_val),\n",
    "        callbacks=[checkpoint_callback, reduce_lr]  # Include ReduceLROnPlateau callback\n",
    "    )\n",
    "\n",
    "    # Save the training history and the filename of the saved best model\n",
    "    histories.append(history.history)\n",
    "    model_filenames.append(model_filename)\n",
    "\n",
    "# Optionally, save the training histories to a file in the same 'F-classify' directory\n",
    "history_filename = os.path.join(save_dir, 'training_histories.pkl')\n",
    "with open(history_filename, 'wb') as file:\n",
    "    pickle.dump({'histories': histories, 'model_filenames': model_filenames}, file)\n"
   ]
  },
  {
   "cell_type": "markdown",
   "id": "805a690a-733a-4d3b-afb1-b0e3b206d660",
   "metadata": {},
   "source": [
    "## 2 - Test the performance of NOIRE-Net on an independent test set"
   ]
  },
  {
   "cell_type": "markdown",
   "id": "3c3f89d8-3587-466a-a86b-26365eb8a92c",
   "metadata": {},
   "source": [
    "### 2.1 - Define a function to get ionogram labels from the testing data "
   ]
  },
  {
   "cell_type": "code",
   "execution_count": 9,
   "id": "de0f04a5-1f1c-4961-a88a-6fbbb955fce7",
   "metadata": {},
   "outputs": [],
   "source": [
    "# This code defines the get_majority_label function which determines the majority label \n",
    "# (True or False) among a list of .par files, and in case of a tie, it randomly selects a label.\n",
    "def get_majority_label(par_files):\n",
    "    # Extract labels from each .par file using the get_label_from_par function\n",
    "    labels = [get_label_from_par(f) for f in par_files]\n",
    "\n",
    "    # If the majority of labels are True, return True\n",
    "    if labels.count(True) > len(labels) / 2:\n",
    "        return True\n",
    "    # If the majority of labels are False, return False\n",
    "    elif labels.count(False) > len(labels) / 2:\n",
    "        return False\n",
    "    # If there is a tie between True and False labels, randomly choose one\n",
    "    else:\n",
    "        return random.choice([True, False])  # Randomize in case of a tie"
   ]
  },
  {
   "cell_type": "markdown",
   "id": "2411faa7-67ce-4838-8090-8f9b2d742b2f",
   "metadata": {},
   "source": [
    "### 2.2 - Define a function to load and process test images"
   ]
  },
  {
   "cell_type": "code",
   "execution_count": 10,
   "id": "dfc09a7b-ca6e-4587-a920-09739013287d",
   "metadata": {
    "tags": []
   },
   "outputs": [],
   "source": [
    "# This code defines the load_and_preprocess_image function, which loads an image from a \n",
    "# specified path, converts it to grayscale, resizes it to 310x310 pixels, normalizes its pixel\n",
    "# values, and returns the processed image as an array.\n",
    "def load_and_preprocess_image(image_path):\n",
    "    # Load the image from the given path, convert it to grayscale, and resize it to 310x310 pixels\n",
    "    image = load_img(image_path, color_mode='grayscale', target_size=(310, 310))\n",
    "\n",
    "    # Convert the image to a numpy array\n",
    "    image = img_to_array(image)\n",
    "\n",
    "    # Normalize the pixel values to be in the range [0, 1]\n",
    "    image /= 255.0\n",
    "\n",
    "    # Return the preprocessed image\n",
    "    return image"
   ]
  },
  {
   "cell_type": "markdown",
   "id": "90a051fa-44f6-4c89-82e1-f0ccd304024b",
   "metadata": {},
   "source": [
    "### 2.3 - Load the trained models with the highest validation accuracy "
   ]
  },
  {
   "cell_type": "code",
   "execution_count": 11,
   "id": "51cd34df-3db6-41c3-aea5-57afc2eeaa0d",
   "metadata": {
    "tags": []
   },
   "outputs": [],
   "source": [
    "# Define function to load models\n",
    "def load_models(models_dir):\n",
    "    return [load_model(os.path.join(models_dir, mf)) for mf in os.listdir(models_dir) if mf.endswith('.h5')]\n",
    "\n",
    "# Specify the directory where the trained models are stored\n",
    "models_dir = 'F-classify'\n",
    "\n",
    "# Load the models\n",
    "models = load_models(models_dir)"
   ]
  },
  {
   "cell_type": "markdown",
   "id": "de2bc90a-ba73-4029-8331-baaedcbb0105",
   "metadata": {},
   "source": [
    "### 2.4 - Define a function to prepare the resting data for comparison with CNNs"
   ]
  },
  {
   "cell_type": "code",
   "execution_count": 12,
   "id": "b0f21219-1788-49a4-9321-47832ae4fdbb",
   "metadata": {},
   "outputs": [],
   "source": [
    "# This function prepares the testing dataset by loading and processing images from a \n",
    "# specified directory and determining corresponding human labels based on majority voting\n",
    "# from associated .par files.\n",
    "def prepare_test_data(ionograms_dir, parameters_dir):\n",
    "    X_test = []  # List to store preprocessed images\n",
    "    y_human = []  # List to store corresponding human labels\n",
    "\n",
    "    # Cache the paths of all .par files for efficient access\n",
    "    par_files_cache = {f: os.path.join(parameters_dir, f) for f in os.listdir(parameters_dir)}\n",
    "\n",
    "    # Iterate through each image file in the ionograms directory\n",
    "    for img_file in os.listdir(ionograms_dir):\n",
    "        if img_file.endswith('.png'):  # Only process .png files\n",
    "            img_path = os.path.join(ionograms_dir, img_file)\n",
    "            X_test.append(load_and_preprocess_image(img_path))  # Load and preprocess the image\n",
    "\n",
    "            # Extract timestamp from the image filename\n",
    "            timestamp = os.path.splitext(img_file)[0]\n",
    "\n",
    "            # Get all .par files relevant to the current image based on timestamp\n",
    "            relevant_par_files = [fpath for fname, fpath in par_files_cache.items() if timestamp in fname]\n",
    "            y_human.append(get_majority_label(relevant_par_files))  # Determine the majority label\n",
    "\n",
    "    # Convert lists to numpy arrays\n",
    "    return np.array(X_test), np.array(y_human).astype(int)"
   ]
  },
  {
   "cell_type": "markdown",
   "id": "1d5a6848-033d-4b97-9148-b01fe0ce6327",
   "metadata": {},
   "source": [
    "### 2.5 - Define a function compare the CNN predictions to the human labeling"
   ]
  },
  {
   "cell_type": "code",
   "execution_count": 13,
   "id": "b25fd9b5-5aa7-4157-beae-66220de9108f",
   "metadata": {},
   "outputs": [],
   "source": [
    "# This function evaluates a list of pre-loaded CNN models on a prepared test dataset, calculates key\n",
    "# performance metrics (precision, recall, F1-score, accuracy), prints their mean and standard deviation,\n",
    "# and returns the normalized confusion matrices for each model.\n",
    "def evaluate_models(models, X_test, y_human):\n",
    "    metrics = {'precision': [], 'recall': [], 'f1': [], 'accuracy': []}  # Dictionary to store metrics for each model\n",
    "    confusion_matrices = []  # List to store confusion matrices for each model\n",
    "\n",
    "    # Iterate over each model and evaluate it\n",
    "    for model in models:\n",
    "        y_pred = model.predict(X_test).round().astype(int)  # Predict labels for the test dataset\n",
    "\n",
    "        # Calculate and store the performance metrics for the current model\n",
    "        metrics['precision'].append(precision_score(y_human, y_pred))\n",
    "        metrics['recall'].append(recall_score(y_human, y_pred))\n",
    "        metrics['f1'].append(f1_score(y_human, y_pred))\n",
    "        metrics['accuracy'].append(accuracy_score(y_human, y_pred))\n",
    "\n",
    "        # Calculate and store the normalized confusion matrix\n",
    "        confusion_matrices.append(confusion_matrix(y_human, y_pred, normalize='true'))\n",
    "\n",
    "    # Print the mean and standard deviation for each metric\n",
    "    for metric, values in metrics.items():\n",
    "        print(f\"Mean {metric.capitalize()}: {np.mean(values):.3f}, Std {metric.capitalize()}: {np.std(values):.3f}\")\n",
    "\n",
    "    return confusion_matrices"
   ]
  },
  {
   "cell_type": "markdown",
   "id": "77730928-60d6-445e-bc3c-4e0032b96a48",
   "metadata": {},
   "source": [
    "### 2.6 - Specify testing directories and prepare testing data"
   ]
  },
  {
   "cell_type": "code",
   "execution_count": 14,
   "id": "c6e111cc-bc88-470b-995e-278041927e72",
   "metadata": {},
   "outputs": [],
   "source": [
    "# Specify the directory where the testing data is located\n",
    "testing_dir = 'testing'\n",
    "\n",
    "# Specify the directory where the input ionograms are located\n",
    "ionograms_dir = os.path.join(testing_dir, 'ionograms')\n",
    "\n",
    "# Specify the directory where the output parameters are located\n",
    "parameters_dir = os.path.join(testing_dir, 'parameters')\n",
    "\n",
    "# Load and prepare the testing data\n",
    "X_test, y_human = prepare_test_data(ionograms_dir, parameters_dir)"
   ]
  },
  {
   "cell_type": "markdown",
   "id": "e712b1aa-747a-4d4e-9212-9f83ed02ca56",
   "metadata": {},
   "source": [
    "### 2.7 - Evaluate the models using precision, recall, F1-score, accuracy"
   ]
  },
  {
   "cell_type": "code",
   "execution_count": 15,
   "id": "c35bce69-be60-494f-878d-26a4a6e7c65a",
   "metadata": {},
   "outputs": [
    {
     "name": "stderr",
     "output_type": "stream",
     "text": [
      "2023-11-29 11:11:12.194425: I tensorflow/core/grappler/optimizers/custom_graph_optimizer_registry.cc:113] Plugin optimizer for device_type GPU is enabled.\n"
     ]
    },
    {
     "name": "stdout",
     "output_type": "stream",
     "text": [
      "21/21 [==============================] - 3s 89ms/step\n"
     ]
    },
    {
     "name": "stderr",
     "output_type": "stream",
     "text": [
      "2023-11-29 11:11:15.003714: I tensorflow/core/grappler/optimizers/custom_graph_optimizer_registry.cc:113] Plugin optimizer for device_type GPU is enabled.\n"
     ]
    },
    {
     "name": "stdout",
     "output_type": "stream",
     "text": [
      "21/21 [==============================] - 1s 47ms/step\n"
     ]
    },
    {
     "name": "stderr",
     "output_type": "stream",
     "text": [
      "2023-11-29 11:11:16.458618: I tensorflow/core/grappler/optimizers/custom_graph_optimizer_registry.cc:113] Plugin optimizer for device_type GPU is enabled.\n"
     ]
    },
    {
     "name": "stdout",
     "output_type": "stream",
     "text": [
      "21/21 [==============================] - 1s 52ms/step\n"
     ]
    },
    {
     "name": "stderr",
     "output_type": "stream",
     "text": [
      "2023-11-29 11:11:18.004598: I tensorflow/core/grappler/optimizers/custom_graph_optimizer_registry.cc:113] Plugin optimizer for device_type GPU is enabled.\n"
     ]
    },
    {
     "name": "stdout",
     "output_type": "stream",
     "text": [
      "21/21 [==============================] - 1s 50ms/step\n"
     ]
    },
    {
     "name": "stderr",
     "output_type": "stream",
     "text": [
      "2023-11-29 11:11:19.502943: I tensorflow/core/grappler/optimizers/custom_graph_optimizer_registry.cc:113] Plugin optimizer for device_type GPU is enabled.\n"
     ]
    },
    {
     "name": "stdout",
     "output_type": "stream",
     "text": [
      "21/21 [==============================] - 1s 48ms/step\n"
     ]
    },
    {
     "name": "stderr",
     "output_type": "stream",
     "text": [
      "2023-11-29 11:11:21.058100: I tensorflow/core/grappler/optimizers/custom_graph_optimizer_registry.cc:113] Plugin optimizer for device_type GPU is enabled.\n"
     ]
    },
    {
     "name": "stdout",
     "output_type": "stream",
     "text": [
      "21/21 [==============================] - 2s 55ms/step\n"
     ]
    },
    {
     "name": "stderr",
     "output_type": "stream",
     "text": [
      "2023-11-29 11:11:22.788179: I tensorflow/core/grappler/optimizers/custom_graph_optimizer_registry.cc:113] Plugin optimizer for device_type GPU is enabled.\n"
     ]
    },
    {
     "name": "stdout",
     "output_type": "stream",
     "text": [
      "21/21 [==============================] - 2s 60ms/step\n"
     ]
    },
    {
     "name": "stderr",
     "output_type": "stream",
     "text": [
      "2023-11-29 11:11:24.842250: I tensorflow/core/grappler/optimizers/custom_graph_optimizer_registry.cc:113] Plugin optimizer for device_type GPU is enabled.\n"
     ]
    },
    {
     "name": "stdout",
     "output_type": "stream",
     "text": [
      "21/21 [==============================] - 2s 49ms/step\n"
     ]
    },
    {
     "name": "stderr",
     "output_type": "stream",
     "text": [
      "2023-11-29 11:11:26.724629: I tensorflow/core/grappler/optimizers/custom_graph_optimizer_registry.cc:113] Plugin optimizer for device_type GPU is enabled.\n"
     ]
    },
    {
     "name": "stdout",
     "output_type": "stream",
     "text": [
      "21/21 [==============================] - 2s 62ms/step\n"
     ]
    },
    {
     "name": "stderr",
     "output_type": "stream",
     "text": [
      "2023-11-29 11:11:28.596986: I tensorflow/core/grappler/optimizers/custom_graph_optimizer_registry.cc:113] Plugin optimizer for device_type GPU is enabled.\n"
     ]
    },
    {
     "name": "stdout",
     "output_type": "stream",
     "text": [
      "21/21 [==============================] - 2s 57ms/step\n",
      "Mean Precision: 0.958, Std Precision: 0.014\n",
      "Mean Recall: 0.962, Std Recall: 0.021\n",
      "Mean F1: 0.959, Std F1: 0.004\n",
      "Mean Accuracy: 0.954, Std Accuracy: 0.004\n"
     ]
    }
   ],
   "source": [
    "# Evaluate the models located in 'models_dir' using the test data in 'testing_dir'\n",
    "# and store the returned confusion matrices\n",
    "confusion_matrices = evaluate_models(models, X_test, y_human)"
   ]
  },
  {
   "cell_type": "markdown",
   "id": "4e3abad7-447e-433f-8a60-b54554d057bc",
   "metadata": {},
   "source": [
    "### 2.8 - Calculate the mean and standard deviation of TP, FN, FP and TN"
   ]
  },
  {
   "cell_type": "code",
   "execution_count": 16,
   "id": "ad3af965-6919-49a8-8781-0e0f33421841",
   "metadata": {},
   "outputs": [],
   "source": [
    "# Convert list of confusion matrices to a 3D NumPy array for easier calculations\n",
    "confusion_matrices = np.array(confusion_matrices)\n",
    "\n",
    "# Calculate mean and standard deviation for TP, FN, FP, TN\n",
    "mean_tp = np.mean(confusion_matrices[:, 1, 1])\n",
    "std_tp = np.std(confusion_matrices[:, 1, 1])\n",
    "\n",
    "mean_fn = np.mean(confusion_matrices[:, 1, 0])\n",
    "std_fn = np.std(confusion_matrices[:, 1, 0])\n",
    "\n",
    "mean_fp = np.mean(confusion_matrices[:, 0, 1])\n",
    "std_fp = np.std(confusion_matrices[:, 0, 1])\n",
    "\n",
    "mean_tn = np.mean(confusion_matrices[:, 0, 0])\n",
    "std_tn = np.std(confusion_matrices[:, 0, 0])\n",
    "\n",
    "# Metrics, means, and standard deviations\n",
    "means = [mean_tp, mean_fn, mean_fp, mean_tn]\n",
    "std_devs = [std_tp, std_fn, std_fp, std_tn]"
   ]
  },
  {
   "cell_type": "markdown",
   "id": "5afdf7bc-b2f4-4e2f-9f8c-beb9252378b3",
   "metadata": {},
   "source": [
    "## 3 - Display the confusion matrix "
   ]
  },
  {
   "cell_type": "markdown",
   "id": "6c8e5485-206d-4adf-a015-f40767f4d547",
   "metadata": {},
   "source": [
    "### 3.1 - Define Function for Text Color Based on Background"
   ]
  },
  {
   "cell_type": "code",
   "execution_count": 17,
   "id": "c0855531-5415-4c41-b608-b842c585a43a",
   "metadata": {},
   "outputs": [],
   "source": [
    "# This function determines the text color (black or white) based on the background color's\n",
    "# luminance for better readability.\n",
    "def text_color_based_on_bg(bg_color):\n",
    "    # Calculate the perceptual luminance of the color\n",
    "    luminance = (0.299 * bg_color[0] + 0.587 * bg_color[1] + 0.114 * bg_color[2])\n",
    "    return 'white' if luminance < 0.5 else 'black'"
   ]
  },
  {
   "cell_type": "markdown",
   "id": "cbbe17e3-1220-4083-ba76-fae52c70fc60",
   "metadata": {},
   "source": [
    "### 3.2 - Plot the Confusion Matrix Statistics"
   ]
  },
  {
   "cell_type": "code",
   "execution_count": 18,
   "id": "a72244be-2546-42c8-a21f-bf0b0198296e",
   "metadata": {
    "tags": []
   },
   "outputs": [
    {
     "data": {
      "image/png": "[encoded data removed]",
      "text/plain": [
       "<Figure size 600x600 with 5 Axes>"
      ]
     },
     "metadata": {},
     "output_type": "display_data"
    }
   ],
   "source": [
    "# This code creates a 2x2 plot with colored squares representing the mean and standard \n",
    "# deviation of TP, FN, FP, and TN from the confusion matrices.\n",
    "\n",
    "# Setup color map with normalization between 0 and 1\n",
    "cmap = plt.cm.inferno\n",
    "norm = mcolors.Normalize(vmin=0, vmax=1)\n",
    "\n",
    "# Create a 2x2 subplot figure with adjusted spacing\n",
    "fig, axs = plt.subplots(2, 2, figsize=(6, 6))\n",
    "axs = axs.flatten()\n",
    "\n",
    "means = [mean_tp, mean_fn, mean_fp, mean_tn]\n",
    "std_devs = [std_tp, std_fn, std_fp, std_tn]\n",
    "\n",
    "# Iterate over each subplot to add the confusion matrix data\n",
    "for i, ax in enumerate(axs):\n",
    "    color = cmap(norm(means[i]))  # Set the color based on the mean value\n",
    "    ax.add_patch(plt.Rectangle((0, 0), 1, 1, color=color))  # Create a colored square\n",
    "\n",
    "    text_color = text_color_based_on_bg(color)  # Determine text color\n",
    "    text = f'{means[i]:.3f} ± {std_devs[i]:.3f}'  # Format text for mean ± std deviation\n",
    "    ax.text(0.5, 0.5, text, ha='center', va='center', fontsize=14, color=text_color)  # Add text to the subplot\n",
    "\n",
    "    ax.axis('off')  # Remove axes\n",
    "\n",
    "# Adjust subplot parameters so squares touch each other\n",
    "plt.subplots_adjust(wspace=0, hspace=0)\n",
    "\n",
    "# Add a colorbar and adjust its font size\n",
    "sm = plt.cm.ScalarMappable(cmap=cmap, norm=norm)\n",
    "sm.set_array([])\n",
    "cbar = plt.colorbar(sm, ax=axs, orientation='horizontal', fraction=0.046, pad=0.04)\n",
    "cbar.set_label('Metric Value', fontsize=14)\n",
    "cbar.ax.tick_params(labelsize=14)  # Set font size for colorbar ticks\n",
    "\n",
    "plt.show()"
   ]
  },
  {
   "cell_type": "code",
   "execution_count": null,
   "id": "46fcf712-f8c3-4602-ab62-8ba04c2b1202",
   "metadata": {},
   "outputs": [],
   "source": []
  }
 ],
 "metadata": {
  "kernelspec": {
   "display_name": "Python 3.10 (tensorflow)",
   "language": "python",
   "name": "tensorflow"
  },
  "language_info": {
   "codemirror_mode": {
    "name": "ipython",
    "version": 3
   },
   "file_extension": ".py",
   "mimetype": "text/x-python",
   "name": "python",
   "nbconvert_exporter": "python",
   "pygments_lexer": "ipython3",
   "version": "3.10.9"
  }
 },
 "nbformat": 4,
 "nbformat_minor": 5
}
